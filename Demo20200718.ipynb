{
  "nbformat": 4,
  "nbformat_minor": 0,
  "metadata": {
    "colab": {
      "name": "Demo20200718.ipynb",
      "provenance": []
    },
    "kernelspec": {
      "name": "python3",
      "display_name": "Python 3"
    },
    "accelerator": "GPU"
  },
  "cells": [
    {
      "cell_type": "markdown",
      "metadata": {
        "id": "-FqP7uzOksaE",
        "colab_type": "text"
      },
      "source": [
        "## 作業 (Python 基礎)\n",
        "\n",
        "1. 請使用 pip 將 jieba 安裝在自己的電腦上\n",
        "2. 閱讀jieba 相關的文件，了解jieba 的用法\n",
        "3. 請將蔡英文演說文 (https://raw.githubusercontent.com/ywchiu/tibamedl/master/Data/speech_tsai.txt) 下載存入到自己電腦\n",
        "4. 請使用python 的檔案操作方法讀取新聞\n",
        "5. 請使用 jieba 將演說文切詞\n",
        "6. 請統計該演說文最常出現的十大字詞"
      ]
    },
    {
      "cell_type": "code",
      "metadata": {
        "id": "hYY1lJSQkszK",
        "colab_type": "code",
        "colab": {
          "base_uri": "https://localhost:8080/",
          "height": 35
        },
        "outputId": "e3ac72df-7c04-4cae-8b8d-36bffb2a3075"
      },
      "source": [
        "! pip install jieba"
      ],
      "execution_count": 1,
      "outputs": [
        {
          "output_type": "stream",
          "text": [
            "Requirement already satisfied: jieba in /usr/local/lib/python3.6/dist-packages (0.42.1)\n"
          ],
          "name": "stdout"
        }
      ]
    },
    {
      "cell_type": "code",
      "metadata": {
        "id": "KkVQL9yClOWT",
        "colab_type": "code",
        "colab": {
          "base_uri": "https://localhost:8080/",
          "height": 87
        },
        "outputId": "7b7c799d-8792-4a75-ae2f-53a823313ae5"
      },
      "source": [
        "import jieba\n",
        "\n",
        "jieba.enable_paddle()# 启动paddle模式。 0.40版之后开始支持，早期版本不支持\n",
        "strs=[\"我来到北京清华大学\",\"乒乓球拍卖完了\",\"中国科学技术大学\"]\n",
        "for str in strs:\n",
        "    seg_list = jieba.cut(str,use_paddle=True) # 使用paddle模式\n",
        "    print(\"Paddle Mode: \" + '/'.join(list(seg_list)))"
      ],
      "execution_count": 1,
      "outputs": [
        {
          "output_type": "stream",
          "text": [
            "Paddle enabled successfully......\n"
          ],
          "name": "stderr"
        },
        {
          "output_type": "stream",
          "text": [
            "Paddle Mode: 我/来到/北京清华大学\n",
            "Paddle Mode: 乒乓球/拍卖/完/了\n",
            "Paddle Mode: 中国科学技术大学\n"
          ],
          "name": "stdout"
        }
      ]
    },
    {
      "cell_type": "code",
      "metadata": {
        "id": "YHChrhhIldNQ",
        "colab_type": "code",
        "colab": {
          "base_uri": "https://localhost:8080/",
          "height": 69
        },
        "outputId": "61f30fe0-9dde-4155-92f5-412d36b1d6c1"
      },
      "source": [
        "import jieba\n",
        "\n",
        "strs=[\"我来到北京清华大学\",\"乒乓球拍卖完了\",\"中国科学技术大学\"]\n",
        "for str in strs:\n",
        "    seg_list = jieba.cut(str,use_paddle=False) \n",
        "    print('/'.join(list(seg_list)))"
      ],
      "execution_count": 3,
      "outputs": [
        {
          "output_type": "stream",
          "text": [
            "我/来到/北京/清华大学\n",
            "乒乓球/拍卖/完/了\n",
            "中国/科学技术/大学\n"
          ],
          "name": "stdout"
        }
      ]
    },
    {
      "cell_type": "code",
      "metadata": {
        "id": "R_35vOYslj8_",
        "colab_type": "code",
        "colab": {
          "base_uri": "https://localhost:8080/",
          "height": 228
        },
        "outputId": "f554b6eb-71f7-4b3d-94b1-6ac60a1e1c1a"
      },
      "source": [
        "! wget https://raw.githubusercontent.com/ywchiu/tibamedl/master/Data/speech_tsai.txt"
      ],
      "execution_count": 4,
      "outputs": [
        {
          "output_type": "stream",
          "text": [
            "--2020-07-18 01:43:57--  https://raw.githubusercontent.com/ywchiu/tibamedl/master/Data/speech_tsai.txt\n",
            "Resolving raw.githubusercontent.com (raw.githubusercontent.com)... 151.101.0.133, 151.101.64.133, 151.101.128.133, ...\n",
            "Connecting to raw.githubusercontent.com (raw.githubusercontent.com)|151.101.0.133|:443... connected.\n",
            "HTTP request sent, awaiting response... 200 OK\n",
            "Length: 6579 (6.4K) [text/plain]\n",
            "Saving to: ‘speech_tsai.txt’\n",
            "\n",
            "\rspeech_tsai.txt       0%[                    ]       0  --.-KB/s               \rspeech_tsai.txt     100%[===================>]   6.42K  --.-KB/s    in 0s      \n",
            "\n",
            "2020-07-18 01:43:57 (50.5 MB/s) - ‘speech_tsai.txt’ saved [6579/6579]\n",
            "\n"
          ],
          "name": "stdout"
        }
      ]
    },
    {
      "cell_type": "code",
      "metadata": {
        "id": "c-OanWSzl5XI",
        "colab_type": "code",
        "colab": {
          "base_uri": "https://localhost:8080/",
          "height": 211
        },
        "outputId": "6e57f62c-9047-4a0b-a3a4-7ec9e2fb1297"
      },
      "source": [
        "! head speech_tsai.txt"
      ],
      "execution_count": 5,
      "outputs": [
        {
          "output_type": "stream",
          "text": [
            "大會主席蘇嘉全院長、現場各位貴賓、電視機前和網路上的全體國人同胞，大家早安，大家好。\n",
            "\n",
            "今天，是中華民國一百零八年的國慶日，謝謝來自世界各地的好朋友，跟我們共度這個值得紀念的日子。\n",
            "\n",
            "去年，也是在國慶日，我和大家說，台灣正處在變局當中。世界貿易局勢的變動、國際政治情勢的變化，都讓未來充滿挑戰。我們必須「求穩、應變、進步」，厚植實力、壯大台灣。\n",
            "\n",
            "轉眼又過了一年，世界依然快速變化，甚至更加劇烈。美中貿易戰的持續進行；距離我們不遠的香港，因為「一國兩制」的失敗，正處於失序邊緣。\n",
            "\n",
            "儘管如此，中國依然以「一國兩制台灣方案」，不斷威脅我們，並採取各種文攻武嚇，強烈挑戰了區域的穩定及和平。\n",
            "\n"
          ],
          "name": "stdout"
        }
      ]
    },
    {
      "cell_type": "code",
      "metadata": {
        "id": "d1l43ZgQl8K4",
        "colab_type": "code",
        "colab": {}
      },
      "source": [
        "import jieba\n",
        "with open('speech_tsai.txt') as f:\n",
        "  speech = f.read()"
      ],
      "execution_count": 6,
      "outputs": []
    },
    {
      "cell_type": "code",
      "metadata": {
        "id": "7mQhATZEmJ_E",
        "colab_type": "code",
        "colab": {}
      },
      "source": [
        "words = []\n",
        "for word in jieba.cut(speech):\n",
        "  words.append(word)"
      ],
      "execution_count": 10,
      "outputs": []
    },
    {
      "cell_type": "markdown",
      "metadata": {
        "id": "FGqXMdtbnmVp",
        "colab_type": "text"
      },
      "source": [
        "### Method 1"
      ]
    },
    {
      "cell_type": "code",
      "metadata": {
        "id": "VYkdUsOhmKhl",
        "colab_type": "code",
        "colab": {}
      },
      "source": [
        "dic = {}\n",
        "for word in words:\n",
        "  if len(word) >=2:\n",
        "    if word not in dic:\n",
        "      dic[word] = 1\n",
        "    else:\n",
        "      dic[word] = dic[word] + 1"
      ],
      "execution_count": 16,
      "outputs": []
    },
    {
      "cell_type": "code",
      "metadata": {
        "id": "bhqmb4ram7Ra",
        "colab_type": "code",
        "colab": {
          "base_uri": "https://localhost:8080/",
          "height": 191
        },
        "outputId": "21c6cc93-0e9d-4cd7-fae6-28c09bf3ff0d"
      },
      "source": [
        "swd = sorted(dic.items(), key = lambda e: e[1], reverse=True)\n",
        "swd[0:10]"
      ],
      "execution_count": 17,
      "outputs": [
        {
          "output_type": "execute_result",
          "data": {
            "text/plain": [
              "[('我們', 43),\n",
              " ('台灣', 19),\n",
              " ('挑戰', 12),\n",
              " ('人民', 9),\n",
              " ('經濟', 8),\n",
              " ('中華民國', 7),\n",
              " ('一次', 7),\n",
              " ('未來', 6),\n",
              " ('自由民主', 6),\n",
              " ('世界', 5)]"
            ]
          },
          "metadata": {
            "tags": []
          },
          "execution_count": 17
        }
      ]
    },
    {
      "cell_type": "markdown",
      "metadata": {
        "id": "r1XQWVUlno7l",
        "colab_type": "text"
      },
      "source": [
        "### Method 2"
      ]
    },
    {
      "cell_type": "code",
      "metadata": {
        "id": "wJfxVviLnCjW",
        "colab_type": "code",
        "colab": {}
      },
      "source": [
        "dic = {}\n",
        "for word in words:\n",
        "  if len(word) >=2:\n",
        "    dic[word] = dic.get(word,0) + 1"
      ],
      "execution_count": 18,
      "outputs": []
    },
    {
      "cell_type": "code",
      "metadata": {
        "id": "SgrPQS-8nz7B",
        "colab_type": "code",
        "colab": {
          "base_uri": "https://localhost:8080/",
          "height": 191
        },
        "outputId": "f615b058-e8b8-4831-cbc3-c5e89ada7573"
      },
      "source": [
        "swd = sorted(dic.items(), key = lambda e: e[1], reverse=True)\n",
        "swd[0:10]"
      ],
      "execution_count": 19,
      "outputs": [
        {
          "output_type": "execute_result",
          "data": {
            "text/plain": [
              "[('我們', 43),\n",
              " ('台灣', 19),\n",
              " ('挑戰', 12),\n",
              " ('人民', 9),\n",
              " ('經濟', 8),\n",
              " ('中華民國', 7),\n",
              " ('一次', 7),\n",
              " ('未來', 6),\n",
              " ('自由民主', 6),\n",
              " ('世界', 5)]"
            ]
          },
          "metadata": {
            "tags": []
          },
          "execution_count": 19
        }
      ]
    },
    {
      "cell_type": "markdown",
      "metadata": {
        "id": "D8rZyQUNn5aR",
        "colab_type": "text"
      },
      "source": [
        "### Method 3"
      ]
    },
    {
      "cell_type": "code",
      "metadata": {
        "id": "58jam6c_n1RM",
        "colab_type": "code",
        "colab": {
          "base_uri": "https://localhost:8080/",
          "height": 191
        },
        "outputId": "bbe97169-a8a4-43be-d485-7c832ce30e13"
      },
      "source": [
        "from collections import Counter\n",
        "c = Counter([w for w in words if len(w) >=2])\n",
        "c.most_common(10)"
      ],
      "execution_count": 21,
      "outputs": [
        {
          "output_type": "execute_result",
          "data": {
            "text/plain": [
              "[('我們', 43),\n",
              " ('台灣', 19),\n",
              " ('挑戰', 12),\n",
              " ('人民', 9),\n",
              " ('經濟', 8),\n",
              " ('中華民國', 7),\n",
              " ('一次', 7),\n",
              " ('未來', 6),\n",
              " ('自由民主', 6),\n",
              " ('世界', 5)]"
            ]
          },
          "metadata": {
            "tags": []
          },
          "execution_count": 21
        }
      ]
    },
    {
      "cell_type": "code",
      "metadata": {
        "id": "k9LMP7QKoCVn",
        "colab_type": "code",
        "colab": {}
      },
      "source": [
        ""
      ],
      "execution_count": null,
      "outputs": []
    }
  ]
}