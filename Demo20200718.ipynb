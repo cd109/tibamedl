{
  "nbformat": 4,
  "nbformat_minor": 0,
  "metadata": {
    "colab": {
      "name": "Demo20200718.ipynb",
      "provenance": [],
      "collapsed_sections": []
    },
    "kernelspec": {
      "name": "python3",
      "display_name": "Python 3"
    },
    "accelerator": "GPU"
  },
  "cells": [
    {
      "cell_type": "markdown",
      "metadata": {
        "id": "-FqP7uzOksaE",
        "colab_type": "text"
      },
      "source": [
        "## 作業 (Python 基礎)\n",
        "\n",
        "1. 請使用 pip 將 jieba 安裝在自己的電腦上\n",
        "2. 閱讀jieba 相關的文件，了解jieba 的用法\n",
        "3. 請將蔡英文演說文 (https://raw.githubusercontent.com/ywchiu/tibamedl/master/Data/speech_tsai.txt) 下載存入到自己電腦\n",
        "4. 請使用python 的檔案操作方法讀取新聞\n",
        "5. 請使用 jieba 將演說文切詞\n",
        "6. 請統計該演說文最常出現的十大字詞"
      ]
    },
    {
      "cell_type": "code",
      "metadata": {
        "id": "hYY1lJSQkszK",
        "colab_type": "code",
        "colab": {
          "base_uri": "https://localhost:8080/",
          "height": 35
        },
        "outputId": "e3ac72df-7c04-4cae-8b8d-36bffb2a3075"
      },
      "source": [
        "! pip install jieba"
      ],
      "execution_count": 1,
      "outputs": [
        {
          "output_type": "stream",
          "text": [
            "Requirement already satisfied: jieba in /usr/local/lib/python3.6/dist-packages (0.42.1)\n"
          ],
          "name": "stdout"
        }
      ]
    },
    {
      "cell_type": "code",
      "metadata": {
        "id": "KkVQL9yClOWT",
        "colab_type": "code",
        "colab": {
          "base_uri": "https://localhost:8080/",
          "height": 87
        },
        "outputId": "7b7c799d-8792-4a75-ae2f-53a823313ae5"
      },
      "source": [
        "import jieba\n",
        "\n",
        "jieba.enable_paddle()# 启动paddle模式。 0.40版之后开始支持，早期版本不支持\n",
        "strs=[\"我来到北京清华大学\",\"乒乓球拍卖完了\",\"中国科学技术大学\"]\n",
        "for str in strs:\n",
        "    seg_list = jieba.cut(str,use_paddle=True) # 使用paddle模式\n",
        "    print(\"Paddle Mode: \" + '/'.join(list(seg_list)))"
      ],
      "execution_count": 1,
      "outputs": [
        {
          "output_type": "stream",
          "text": [
            "Paddle enabled successfully......\n"
          ],
          "name": "stderr"
        },
        {
          "output_type": "stream",
          "text": [
            "Paddle Mode: 我/来到/北京清华大学\n",
            "Paddle Mode: 乒乓球/拍卖/完/了\n",
            "Paddle Mode: 中国科学技术大学\n"
          ],
          "name": "stdout"
        }
      ]
    },
    {
      "cell_type": "code",
      "metadata": {
        "id": "YHChrhhIldNQ",
        "colab_type": "code",
        "colab": {
          "base_uri": "https://localhost:8080/",
          "height": 69
        },
        "outputId": "61f30fe0-9dde-4155-92f5-412d36b1d6c1"
      },
      "source": [
        "import jieba\n",
        "\n",
        "strs=[\"我来到北京清华大学\",\"乒乓球拍卖完了\",\"中国科学技术大学\"]\n",
        "for str in strs:\n",
        "    seg_list = jieba.cut(str,use_paddle=False) \n",
        "    print('/'.join(list(seg_list)))"
      ],
      "execution_count": 3,
      "outputs": [
        {
          "output_type": "stream",
          "text": [
            "我/来到/北京/清华大学\n",
            "乒乓球/拍卖/完/了\n",
            "中国/科学技术/大学\n"
          ],
          "name": "stdout"
        }
      ]
    },
    {
      "cell_type": "code",
      "metadata": {
        "id": "R_35vOYslj8_",
        "colab_type": "code",
        "colab": {
          "base_uri": "https://localhost:8080/",
          "height": 228
        },
        "outputId": "f554b6eb-71f7-4b3d-94b1-6ac60a1e1c1a"
      },
      "source": [
        "! wget https://raw.githubusercontent.com/ywchiu/tibamedl/master/Data/speech_tsai.txt"
      ],
      "execution_count": 4,
      "outputs": [
        {
          "output_type": "stream",
          "text": [
            "--2020-07-18 01:43:57--  https://raw.githubusercontent.com/ywchiu/tibamedl/master/Data/speech_tsai.txt\n",
            "Resolving raw.githubusercontent.com (raw.githubusercontent.com)... 151.101.0.133, 151.101.64.133, 151.101.128.133, ...\n",
            "Connecting to raw.githubusercontent.com (raw.githubusercontent.com)|151.101.0.133|:443... connected.\n",
            "HTTP request sent, awaiting response... 200 OK\n",
            "Length: 6579 (6.4K) [text/plain]\n",
            "Saving to: ‘speech_tsai.txt’\n",
            "\n",
            "\rspeech_tsai.txt       0%[                    ]       0  --.-KB/s               \rspeech_tsai.txt     100%[===================>]   6.42K  --.-KB/s    in 0s      \n",
            "\n",
            "2020-07-18 01:43:57 (50.5 MB/s) - ‘speech_tsai.txt’ saved [6579/6579]\n",
            "\n"
          ],
          "name": "stdout"
        }
      ]
    },
    {
      "cell_type": "code",
      "metadata": {
        "id": "c-OanWSzl5XI",
        "colab_type": "code",
        "colab": {
          "base_uri": "https://localhost:8080/",
          "height": 211
        },
        "outputId": "6e57f62c-9047-4a0b-a3a4-7ec9e2fb1297"
      },
      "source": [
        "! head speech_tsai.txt"
      ],
      "execution_count": 5,
      "outputs": [
        {
          "output_type": "stream",
          "text": [
            "大會主席蘇嘉全院長、現場各位貴賓、電視機前和網路上的全體國人同胞，大家早安，大家好。\n",
            "\n",
            "今天，是中華民國一百零八年的國慶日，謝謝來自世界各地的好朋友，跟我們共度這個值得紀念的日子。\n",
            "\n",
            "去年，也是在國慶日，我和大家說，台灣正處在變局當中。世界貿易局勢的變動、國際政治情勢的變化，都讓未來充滿挑戰。我們必須「求穩、應變、進步」，厚植實力、壯大台灣。\n",
            "\n",
            "轉眼又過了一年，世界依然快速變化，甚至更加劇烈。美中貿易戰的持續進行；距離我們不遠的香港，因為「一國兩制」的失敗，正處於失序邊緣。\n",
            "\n",
            "儘管如此，中國依然以「一國兩制台灣方案」，不斷威脅我們，並採取各種文攻武嚇，強烈挑戰了區域的穩定及和平。\n",
            "\n"
          ],
          "name": "stdout"
        }
      ]
    },
    {
      "cell_type": "code",
      "metadata": {
        "id": "d1l43ZgQl8K4",
        "colab_type": "code",
        "colab": {}
      },
      "source": [
        "import jieba\n",
        "with open('speech_tsai.txt') as f:\n",
        "  speech = f.read()"
      ],
      "execution_count": 6,
      "outputs": []
    },
    {
      "cell_type": "code",
      "metadata": {
        "id": "7mQhATZEmJ_E",
        "colab_type": "code",
        "colab": {}
      },
      "source": [
        "words = []\n",
        "for word in jieba.cut(speech):\n",
        "  words.append(word)"
      ],
      "execution_count": 10,
      "outputs": []
    },
    {
      "cell_type": "markdown",
      "metadata": {
        "id": "FGqXMdtbnmVp",
        "colab_type": "text"
      },
      "source": [
        "### Method 1"
      ]
    },
    {
      "cell_type": "code",
      "metadata": {
        "id": "VYkdUsOhmKhl",
        "colab_type": "code",
        "colab": {}
      },
      "source": [
        "dic = {}\n",
        "for word in words:\n",
        "  if len(word) >=2:\n",
        "    if word not in dic:\n",
        "      dic[word] = 1\n",
        "    else:\n",
        "      dic[word] = dic[word] + 1"
      ],
      "execution_count": 16,
      "outputs": []
    },
    {
      "cell_type": "code",
      "metadata": {
        "id": "bhqmb4ram7Ra",
        "colab_type": "code",
        "colab": {
          "base_uri": "https://localhost:8080/",
          "height": 191
        },
        "outputId": "21c6cc93-0e9d-4cd7-fae6-28c09bf3ff0d"
      },
      "source": [
        "swd = sorted(dic.items(), key = lambda e: e[1], reverse=True)\n",
        "swd[0:10]"
      ],
      "execution_count": 17,
      "outputs": [
        {
          "output_type": "execute_result",
          "data": {
            "text/plain": [
              "[('我們', 43),\n",
              " ('台灣', 19),\n",
              " ('挑戰', 12),\n",
              " ('人民', 9),\n",
              " ('經濟', 8),\n",
              " ('中華民國', 7),\n",
              " ('一次', 7),\n",
              " ('未來', 6),\n",
              " ('自由民主', 6),\n",
              " ('世界', 5)]"
            ]
          },
          "metadata": {
            "tags": []
          },
          "execution_count": 17
        }
      ]
    },
    {
      "cell_type": "markdown",
      "metadata": {
        "id": "r1XQWVUlno7l",
        "colab_type": "text"
      },
      "source": [
        "### Method 2"
      ]
    },
    {
      "cell_type": "code",
      "metadata": {
        "id": "wJfxVviLnCjW",
        "colab_type": "code",
        "colab": {}
      },
      "source": [
        "dic = {}\n",
        "for word in words:\n",
        "  if len(word) >=2:\n",
        "    dic[word] = dic.get(word,0) + 1"
      ],
      "execution_count": 18,
      "outputs": []
    },
    {
      "cell_type": "code",
      "metadata": {
        "id": "SgrPQS-8nz7B",
        "colab_type": "code",
        "colab": {
          "base_uri": "https://localhost:8080/",
          "height": 191
        },
        "outputId": "f615b058-e8b8-4831-cbc3-c5e89ada7573"
      },
      "source": [
        "swd = sorted(dic.items(), key = lambda e: e[1], reverse=True)\n",
        "swd[0:10]"
      ],
      "execution_count": 19,
      "outputs": [
        {
          "output_type": "execute_result",
          "data": {
            "text/plain": [
              "[('我們', 43),\n",
              " ('台灣', 19),\n",
              " ('挑戰', 12),\n",
              " ('人民', 9),\n",
              " ('經濟', 8),\n",
              " ('中華民國', 7),\n",
              " ('一次', 7),\n",
              " ('未來', 6),\n",
              " ('自由民主', 6),\n",
              " ('世界', 5)]"
            ]
          },
          "metadata": {
            "tags": []
          },
          "execution_count": 19
        }
      ]
    },
    {
      "cell_type": "markdown",
      "metadata": {
        "id": "D8rZyQUNn5aR",
        "colab_type": "text"
      },
      "source": [
        "### Method 3"
      ]
    },
    {
      "cell_type": "code",
      "metadata": {
        "id": "58jam6c_n1RM",
        "colab_type": "code",
        "colab": {
          "base_uri": "https://localhost:8080/",
          "height": 191
        },
        "outputId": "bbe97169-a8a4-43be-d485-7c832ce30e13"
      },
      "source": [
        "from collections import Counter\n",
        "c = Counter([w for w in words if len(w) >=2])\n",
        "c.most_common(10)"
      ],
      "execution_count": 21,
      "outputs": [
        {
          "output_type": "execute_result",
          "data": {
            "text/plain": [
              "[('我們', 43),\n",
              " ('台灣', 19),\n",
              " ('挑戰', 12),\n",
              " ('人民', 9),\n",
              " ('經濟', 8),\n",
              " ('中華民國', 7),\n",
              " ('一次', 7),\n",
              " ('未來', 6),\n",
              " ('自由民主', 6),\n",
              " ('世界', 5)]"
            ]
          },
          "metadata": {
            "tags": []
          },
          "execution_count": 21
        }
      ]
    },
    {
      "cell_type": "markdown",
      "metadata": {
        "id": "-m6zMZTg6pQe",
        "colab_type": "text"
      },
      "source": [
        "## 決策樹"
      ]
    },
    {
      "cell_type": "code",
      "metadata": {
        "id": "k9LMP7QKoCVn",
        "colab_type": "code",
        "colab": {}
      },
      "source": [
        "from sklearn.datasets import load_iris\n",
        "\n",
        "iris = load_iris()"
      ],
      "execution_count": 22,
      "outputs": []
    },
    {
      "cell_type": "code",
      "metadata": {
        "id": "nEVdJXv56xzi",
        "colab_type": "code",
        "colab": {
          "base_uri": "https://localhost:8080/",
          "height": 1000
        },
        "outputId": "9ad83da0-a9e2-490f-8688-275ff2a3f6f8"
      },
      "source": [
        "print(iris.DESCR)"
      ],
      "execution_count": 23,
      "outputs": [
        {
          "output_type": "stream",
          "text": [
            ".. _iris_dataset:\n",
            "\n",
            "Iris plants dataset\n",
            "--------------------\n",
            "\n",
            "**Data Set Characteristics:**\n",
            "\n",
            "    :Number of Instances: 150 (50 in each of three classes)\n",
            "    :Number of Attributes: 4 numeric, predictive attributes and the class\n",
            "    :Attribute Information:\n",
            "        - sepal length in cm\n",
            "        - sepal width in cm\n",
            "        - petal length in cm\n",
            "        - petal width in cm\n",
            "        - class:\n",
            "                - Iris-Setosa\n",
            "                - Iris-Versicolour\n",
            "                - Iris-Virginica\n",
            "                \n",
            "    :Summary Statistics:\n",
            "\n",
            "    ============== ==== ==== ======= ===== ====================\n",
            "                    Min  Max   Mean    SD   Class Correlation\n",
            "    ============== ==== ==== ======= ===== ====================\n",
            "    sepal length:   4.3  7.9   5.84   0.83    0.7826\n",
            "    sepal width:    2.0  4.4   3.05   0.43   -0.4194\n",
            "    petal length:   1.0  6.9   3.76   1.76    0.9490  (high!)\n",
            "    petal width:    0.1  2.5   1.20   0.76    0.9565  (high!)\n",
            "    ============== ==== ==== ======= ===== ====================\n",
            "\n",
            "    :Missing Attribute Values: None\n",
            "    :Class Distribution: 33.3% for each of 3 classes.\n",
            "    :Creator: R.A. Fisher\n",
            "    :Donor: Michael Marshall (MARSHALL%PLU@io.arc.nasa.gov)\n",
            "    :Date: July, 1988\n",
            "\n",
            "The famous Iris database, first used by Sir R.A. Fisher. The dataset is taken\n",
            "from Fisher's paper. Note that it's the same as in R, but not as in the UCI\n",
            "Machine Learning Repository, which has two wrong data points.\n",
            "\n",
            "This is perhaps the best known database to be found in the\n",
            "pattern recognition literature.  Fisher's paper is a classic in the field and\n",
            "is referenced frequently to this day.  (See Duda & Hart, for example.)  The\n",
            "data set contains 3 classes of 50 instances each, where each class refers to a\n",
            "type of iris plant.  One class is linearly separable from the other 2; the\n",
            "latter are NOT linearly separable from each other.\n",
            "\n",
            ".. topic:: References\n",
            "\n",
            "   - Fisher, R.A. \"The use of multiple measurements in taxonomic problems\"\n",
            "     Annual Eugenics, 7, Part II, 179-188 (1936); also in \"Contributions to\n",
            "     Mathematical Statistics\" (John Wiley, NY, 1950).\n",
            "   - Duda, R.O., & Hart, P.E. (1973) Pattern Classification and Scene Analysis.\n",
            "     (Q327.D83) John Wiley & Sons.  ISBN 0-471-22361-1.  See page 218.\n",
            "   - Dasarathy, B.V. (1980) \"Nosing Around the Neighborhood: A New System\n",
            "     Structure and Classification Rule for Recognition in Partially Exposed\n",
            "     Environments\".  IEEE Transactions on Pattern Analysis and Machine\n",
            "     Intelligence, Vol. PAMI-2, No. 1, 67-71.\n",
            "   - Gates, G.W. (1972) \"The Reduced Nearest Neighbor Rule\".  IEEE Transactions\n",
            "     on Information Theory, May 1972, 431-433.\n",
            "   - See also: 1988 MLC Proceedings, 54-64.  Cheeseman et al\"s AUTOCLASS II\n",
            "     conceptual clustering system finds 3 classes in the data.\n",
            "   - Many, many more ...\n"
          ],
          "name": "stdout"
        }
      ]
    },
    {
      "cell_type": "code",
      "metadata": {
        "id": "aWyu1sfi7Dgo",
        "colab_type": "code",
        "colab": {
          "base_uri": "https://localhost:8080/",
          "height": 201
        },
        "outputId": "f0bc008b-b7cd-4106-ddbc-5d21e1746067"
      },
      "source": [
        "a = [1,3,5,7,9]\n",
        "b = [2,4,6,8,10]\n",
        "a * b"
      ],
      "execution_count": 25,
      "outputs": [
        {
          "output_type": "error",
          "ename": "TypeError",
          "evalue": "ignored",
          "traceback": [
            "\u001b[0;31m---------------------------------------------------------------------------\u001b[0m",
            "\u001b[0;31mTypeError\u001b[0m                                 Traceback (most recent call last)",
            "\u001b[0;32m<ipython-input-25-a49c0c4de285>\u001b[0m in \u001b[0;36m<module>\u001b[0;34m()\u001b[0m\n\u001b[1;32m      1\u001b[0m \u001b[0ma\u001b[0m \u001b[0;34m=\u001b[0m \u001b[0;34m[\u001b[0m\u001b[0;36m1\u001b[0m\u001b[0;34m,\u001b[0m\u001b[0;36m3\u001b[0m\u001b[0;34m,\u001b[0m\u001b[0;36m5\u001b[0m\u001b[0;34m,\u001b[0m\u001b[0;36m7\u001b[0m\u001b[0;34m,\u001b[0m\u001b[0;36m9\u001b[0m\u001b[0;34m]\u001b[0m\u001b[0;34m\u001b[0m\u001b[0;34m\u001b[0m\u001b[0m\n\u001b[1;32m      2\u001b[0m \u001b[0mb\u001b[0m \u001b[0;34m=\u001b[0m \u001b[0;34m[\u001b[0m\u001b[0;36m2\u001b[0m\u001b[0;34m,\u001b[0m\u001b[0;36m4\u001b[0m\u001b[0;34m,\u001b[0m\u001b[0;36m6\u001b[0m\u001b[0;34m,\u001b[0m\u001b[0;36m8\u001b[0m\u001b[0;34m,\u001b[0m\u001b[0;36m10\u001b[0m\u001b[0;34m]\u001b[0m\u001b[0;34m\u001b[0m\u001b[0;34m\u001b[0m\u001b[0m\n\u001b[0;32m----> 3\u001b[0;31m \u001b[0ma\u001b[0m \u001b[0;34m*\u001b[0m \u001b[0mb\u001b[0m\u001b[0;34m\u001b[0m\u001b[0;34m\u001b[0m\u001b[0m\n\u001b[0m",
            "\u001b[0;31mTypeError\u001b[0m: can't multiply sequence by non-int of type 'list'"
          ]
        }
      ]
    },
    {
      "cell_type": "code",
      "metadata": {
        "id": "75kWWVHN7Q0G",
        "colab_type": "code",
        "colab": {
          "base_uri": "https://localhost:8080/",
          "height": 104
        },
        "outputId": "a402d2a2-6b6f-49e8-b92b-8b8fdac7c87f"
      },
      "source": [
        "for i,j in zip(a, b):\n",
        "  print(i * j)"
      ],
      "execution_count": 28,
      "outputs": [
        {
          "output_type": "stream",
          "text": [
            "2\n",
            "12\n",
            "30\n",
            "56\n",
            "90\n"
          ],
          "name": "stdout"
        }
      ]
    },
    {
      "cell_type": "code",
      "metadata": {
        "id": "VsWiypGS7atX",
        "colab_type": "code",
        "colab": {
          "base_uri": "https://localhost:8080/",
          "height": 35
        },
        "outputId": "939f32e4-4e1f-47b9-d5f6-deb2f712ae02"
      },
      "source": [
        "ary = []\n",
        "for i,j in zip(a, b):\n",
        "  ary.append(i * j)\n",
        "ary"
      ],
      "execution_count": 30,
      "outputs": [
        {
          "output_type": "execute_result",
          "data": {
            "text/plain": [
              "[2, 12, 30, 56, 90]"
            ]
          },
          "metadata": {
            "tags": []
          },
          "execution_count": 30
        }
      ]
    },
    {
      "cell_type": "code",
      "metadata": {
        "id": "7Ik6d25M7g8u",
        "colab_type": "code",
        "colab": {
          "base_uri": "https://localhost:8080/",
          "height": 35
        },
        "outputId": "07b8ad4a-ae02-42f4-82fa-7b2b5f16311d"
      },
      "source": [
        "import numpy as np\n",
        "np.array(a)"
      ],
      "execution_count": 31,
      "outputs": [
        {
          "output_type": "execute_result",
          "data": {
            "text/plain": [
              "array([1, 3, 5, 7, 9])"
            ]
          },
          "metadata": {
            "tags": []
          },
          "execution_count": 31
        }
      ]
    },
    {
      "cell_type": "code",
      "metadata": {
        "id": "017X90XG7tJU",
        "colab_type": "code",
        "colab": {
          "base_uri": "https://localhost:8080/",
          "height": 35
        },
        "outputId": "c681415f-92ed-4fb8-fa79-6702bd0f7621"
      },
      "source": [
        "na = np.array(a)\n",
        "nb = np.array(b)\n",
        "na * nb"
      ],
      "execution_count": 32,
      "outputs": [
        {
          "output_type": "execute_result",
          "data": {
            "text/plain": [
              "array([ 2, 12, 30, 56, 90])"
            ]
          },
          "metadata": {
            "tags": []
          },
          "execution_count": 32
        }
      ]
    },
    {
      "cell_type": "code",
      "metadata": {
        "id": "dOamlNaX60Iy",
        "colab_type": "code",
        "colab": {
          "base_uri": "https://localhost:8080/",
          "height": 35
        },
        "outputId": "e6c3bb56-94ad-45f2-9c53-159f8ce1016f"
      },
      "source": [
        "iris.data.shape"
      ],
      "execution_count": 33,
      "outputs": [
        {
          "output_type": "execute_result",
          "data": {
            "text/plain": [
              "(150, 4)"
            ]
          },
          "metadata": {
            "tags": []
          },
          "execution_count": 33
        }
      ]
    },
    {
      "cell_type": "code",
      "metadata": {
        "id": "imH5vxcq68Ex",
        "colab_type": "code",
        "colab": {
          "base_uri": "https://localhost:8080/",
          "height": 69
        },
        "outputId": "d0701da4-43f0-41e1-a7b6-3328d8be877e"
      },
      "source": [
        "iris.data[0:3,:]"
      ],
      "execution_count": 34,
      "outputs": [
        {
          "output_type": "execute_result",
          "data": {
            "text/plain": [
              "array([[5.1, 3.5, 1.4, 0.2],\n",
              "       [4.9, 3. , 1.4, 0.2],\n",
              "       [4.7, 3.2, 1.3, 0.2]])"
            ]
          },
          "metadata": {
            "tags": []
          },
          "execution_count": 34
        }
      ]
    },
    {
      "cell_type": "code",
      "metadata": {
        "id": "UQPbEAoM8Czw",
        "colab_type": "code",
        "colab": {
          "base_uri": "https://localhost:8080/",
          "height": 35
        },
        "outputId": "253677ae-22ec-4ae6-d0a4-f03c83e36bc8"
      },
      "source": [
        "len(iris.target)"
      ],
      "execution_count": 36,
      "outputs": [
        {
          "output_type": "execute_result",
          "data": {
            "text/plain": [
              "150"
            ]
          },
          "metadata": {
            "tags": []
          },
          "execution_count": 36
        }
      ]
    },
    {
      "cell_type": "code",
      "metadata": {
        "id": "jptfO-4o8I9Y",
        "colab_type": "code",
        "colab": {
          "base_uri": "https://localhost:8080/",
          "height": 35
        },
        "outputId": "67176424-8999-4d74-ccaf-c20a70182702"
      },
      "source": [
        "iris.target[0:3]"
      ],
      "execution_count": 37,
      "outputs": [
        {
          "output_type": "execute_result",
          "data": {
            "text/plain": [
              "array([0, 0, 0])"
            ]
          },
          "metadata": {
            "tags": []
          },
          "execution_count": 37
        }
      ]
    },
    {
      "cell_type": "code",
      "metadata": {
        "id": "OzO-RUcY8Nr4",
        "colab_type": "code",
        "colab": {
          "base_uri": "https://localhost:8080/",
          "height": 35
        },
        "outputId": "2cd08fcb-083f-4a31-b1be-db61b008bd3f"
      },
      "source": [
        "iris.target_names"
      ],
      "execution_count": 40,
      "outputs": [
        {
          "output_type": "execute_result",
          "data": {
            "text/plain": [
              "array(['setosa', 'versicolor', 'virginica'], dtype='<U10')"
            ]
          },
          "metadata": {
            "tags": []
          },
          "execution_count": 40
        }
      ]
    },
    {
      "cell_type": "code",
      "metadata": {
        "id": "TGkNqtpJ8U0I",
        "colab_type": "code",
        "colab": {
          "base_uri": "https://localhost:8080/",
          "height": 121
        },
        "outputId": "56261998-6fdc-48cd-987e-df145efd1283"
      },
      "source": [
        "from sklearn import tree\n",
        "clf = tree.DecisionTreeClassifier()\n",
        "clf.fit(iris.data, iris.target)"
      ],
      "execution_count": 42,
      "outputs": [
        {
          "output_type": "execute_result",
          "data": {
            "text/plain": [
              "DecisionTreeClassifier(ccp_alpha=0.0, class_weight=None, criterion='gini',\n",
              "                       max_depth=None, max_features=None, max_leaf_nodes=None,\n",
              "                       min_impurity_decrease=0.0, min_impurity_split=None,\n",
              "                       min_samples_leaf=1, min_samples_split=2,\n",
              "                       min_weight_fraction_leaf=0.0, presort='deprecated',\n",
              "                       random_state=None, splitter='best')"
            ]
          },
          "metadata": {
            "tags": []
          },
          "execution_count": 42
        }
      ]
    },
    {
      "cell_type": "code",
      "metadata": {
        "id": "Cf5hwm308jyH",
        "colab_type": "code",
        "colab": {}
      },
      "source": [
        "predicted = clf.predict(iris.data)"
      ],
      "execution_count": 43,
      "outputs": []
    },
    {
      "cell_type": "code",
      "metadata": {
        "id": "YGU-_hkH8u_W",
        "colab_type": "code",
        "colab": {
          "base_uri": "https://localhost:8080/",
          "height": 35
        },
        "outputId": "e3111980-c908-4511-aac1-1e1e26ff3e80"
      },
      "source": [
        "sum(predicted == iris.target) / len(iris.target)"
      ],
      "execution_count": 47,
      "outputs": [
        {
          "output_type": "execute_result",
          "data": {
            "text/plain": [
              "1.0"
            ]
          },
          "metadata": {
            "tags": []
          },
          "execution_count": 47
        }
      ]
    },
    {
      "cell_type": "code",
      "metadata": {
        "id": "EDtEiC3o860V",
        "colab_type": "code",
        "colab": {}
      },
      "source": [
        "from sklearn import tree\n",
        "tree.export_graphviz(clf, out_file='tree.dot')"
      ],
      "execution_count": 48,
      "outputs": []
    },
    {
      "cell_type": "code",
      "metadata": {
        "id": "SFbrtAJ-9UJ7",
        "colab_type": "code",
        "colab": {
          "base_uri": "https://localhost:8080/",
          "height": 641
        },
        "outputId": "37efd01d-bfac-49e1-9b48-58ff11cddf23"
      },
      "source": [
        "! cat tree.dot"
      ],
      "execution_count": 49,
      "outputs": [
        {
          "output_type": "stream",
          "text": [
            "digraph Tree {\n",
            "node [shape=box] ;\n",
            "0 [label=\"X[2] <= 2.45\\ngini = 0.667\\nsamples = 150\\nvalue = [50, 50, 50]\"] ;\n",
            "1 [label=\"gini = 0.0\\nsamples = 50\\nvalue = [50, 0, 0]\"] ;\n",
            "0 -> 1 [labeldistance=2.5, labelangle=45, headlabel=\"True\"] ;\n",
            "2 [label=\"X[3] <= 1.75\\ngini = 0.5\\nsamples = 100\\nvalue = [0, 50, 50]\"] ;\n",
            "0 -> 2 [labeldistance=2.5, labelangle=-45, headlabel=\"False\"] ;\n",
            "3 [label=\"X[2] <= 4.95\\ngini = 0.168\\nsamples = 54\\nvalue = [0, 49, 5]\"] ;\n",
            "2 -> 3 ;\n",
            "4 [label=\"X[3] <= 1.65\\ngini = 0.041\\nsamples = 48\\nvalue = [0, 47, 1]\"] ;\n",
            "3 -> 4 ;\n",
            "5 [label=\"gini = 0.0\\nsamples = 47\\nvalue = [0, 47, 0]\"] ;\n",
            "4 -> 5 ;\n",
            "6 [label=\"gini = 0.0\\nsamples = 1\\nvalue = [0, 0, 1]\"] ;\n",
            "4 -> 6 ;\n",
            "7 [label=\"X[3] <= 1.55\\ngini = 0.444\\nsamples = 6\\nvalue = [0, 2, 4]\"] ;\n",
            "3 -> 7 ;\n",
            "8 [label=\"gini = 0.0\\nsamples = 3\\nvalue = [0, 0, 3]\"] ;\n",
            "7 -> 8 ;\n",
            "9 [label=\"X[0] <= 6.95\\ngini = 0.444\\nsamples = 3\\nvalue = [0, 2, 1]\"] ;\n",
            "7 -> 9 ;\n",
            "10 [label=\"gini = 0.0\\nsamples = 2\\nvalue = [0, 2, 0]\"] ;\n",
            "9 -> 10 ;\n",
            "11 [label=\"gini = 0.0\\nsamples = 1\\nvalue = [0, 0, 1]\"] ;\n",
            "9 -> 11 ;\n",
            "12 [label=\"X[2] <= 4.85\\ngini = 0.043\\nsamples = 46\\nvalue = [0, 1, 45]\"] ;\n",
            "2 -> 12 ;\n",
            "13 [label=\"X[0] <= 5.95\\ngini = 0.444\\nsamples = 3\\nvalue = [0, 1, 2]\"] ;\n",
            "12 -> 13 ;\n",
            "14 [label=\"gini = 0.0\\nsamples = 1\\nvalue = [0, 1, 0]\"] ;\n",
            "13 -> 14 ;\n",
            "15 [label=\"gini = 0.0\\nsamples = 2\\nvalue = [0, 0, 2]\"] ;\n",
            "13 -> 15 ;\n",
            "16 [label=\"gini = 0.0\\nsamples = 43\\nvalue = [0, 0, 43]\"] ;\n",
            "12 -> 16 ;\n",
            "}"
          ],
          "name": "stdout"
        }
      ]
    },
    {
      "cell_type": "code",
      "metadata": {
        "id": "wUC66dBy9YKz",
        "colab_type": "code",
        "colab": {
          "base_uri": "https://localhost:8080/",
          "height": 121
        },
        "outputId": "05182c55-bc4f-4029-8638-732e99656c19"
      },
      "source": [
        "from sklearn import tree\n",
        "clf = tree.DecisionTreeClassifier(max_depth = 2, random_state = 42)\n",
        "clf.fit(iris.data, iris.target)"
      ],
      "execution_count": 53,
      "outputs": [
        {
          "output_type": "execute_result",
          "data": {
            "text/plain": [
              "DecisionTreeClassifier(ccp_alpha=0.0, class_weight=None, criterion='gini',\n",
              "                       max_depth=2, max_features=None, max_leaf_nodes=None,\n",
              "                       min_impurity_decrease=0.0, min_impurity_split=None,\n",
              "                       min_samples_leaf=1, min_samples_split=2,\n",
              "                       min_weight_fraction_leaf=0.0, presort='deprecated',\n",
              "                       random_state=42, splitter='best')"
            ]
          },
          "metadata": {
            "tags": []
          },
          "execution_count": 53
        }
      ]
    },
    {
      "cell_type": "code",
      "metadata": {
        "id": "5UtzNAyI-KSP",
        "colab_type": "code",
        "colab": {}
      },
      "source": [
        "from sklearn import tree\n",
        "tree.export_graphviz(clf, out_file='tree.dot')"
      ],
      "execution_count": 54,
      "outputs": []
    },
    {
      "cell_type": "code",
      "metadata": {
        "id": "OJmm7mRs-OBd",
        "colab_type": "code",
        "colab": {
          "base_uri": "https://localhost:8080/",
          "height": 225
        },
        "outputId": "a8c30328-93db-4647-cec7-8c0064fccb07"
      },
      "source": [
        "! cat tree.dot"
      ],
      "execution_count": 55,
      "outputs": [
        {
          "output_type": "stream",
          "text": [
            "digraph Tree {\n",
            "node [shape=box] ;\n",
            "0 [label=\"X[2] <= 2.45\\ngini = 0.667\\nsamples = 150\\nvalue = [50, 50, 50]\"] ;\n",
            "1 [label=\"gini = 0.0\\nsamples = 50\\nvalue = [50, 0, 0]\"] ;\n",
            "0 -> 1 [labeldistance=2.5, labelangle=45, headlabel=\"True\"] ;\n",
            "2 [label=\"X[3] <= 1.75\\ngini = 0.5\\nsamples = 100\\nvalue = [0, 50, 50]\"] ;\n",
            "0 -> 2 [labeldistance=2.5, labelangle=-45, headlabel=\"False\"] ;\n",
            "3 [label=\"gini = 0.168\\nsamples = 54\\nvalue = [0, 49, 5]\"] ;\n",
            "2 -> 3 ;\n",
            "4 [label=\"gini = 0.043\\nsamples = 46\\nvalue = [0, 1, 45]\"] ;\n",
            "2 -> 4 ;\n",
            "}"
          ],
          "name": "stdout"
        }
      ]
    },
    {
      "cell_type": "code",
      "metadata": {
        "id": "k5W6C1TK-Pl9",
        "colab_type": "code",
        "colab": {}
      },
      "source": [
        "predicted = clf.predict(iris.data)"
      ],
      "execution_count": 56,
      "outputs": []
    },
    {
      "cell_type": "code",
      "metadata": {
        "id": "JVoiaCVM-qDs",
        "colab_type": "code",
        "colab": {
          "base_uri": "https://localhost:8080/",
          "height": 35
        },
        "outputId": "ed4892fd-a946-4c22-8df5-8aa7e091f609"
      },
      "source": [
        "sum(predicted == iris.target) / len(iris.target)"
      ],
      "execution_count": 58,
      "outputs": [
        {
          "output_type": "execute_result",
          "data": {
            "text/plain": [
              "0.96"
            ]
          },
          "metadata": {
            "tags": []
          },
          "execution_count": 58
        }
      ]
    },
    {
      "cell_type": "code",
      "metadata": {
        "id": "NRiHfBK4-vGa",
        "colab_type": "code",
        "colab": {
          "base_uri": "https://localhost:8080/",
          "height": 121
        },
        "outputId": "84ce657a-dc2a-4136-8b2b-02fa09d8ce25"
      },
      "source": [
        "X = iris.data[:, [2, 3]]\n",
        "y = iris.target\n",
        "clf = tree.DecisionTreeClassifier(max_depth=2, random_state = 42)\n",
        "clf.fit(X, y)"
      ],
      "execution_count": 59,
      "outputs": [
        {
          "output_type": "execute_result",
          "data": {
            "text/plain": [
              "DecisionTreeClassifier(ccp_alpha=0.0, class_weight=None, criterion='gini',\n",
              "                       max_depth=2, max_features=None, max_leaf_nodes=None,\n",
              "                       min_impurity_decrease=0.0, min_impurity_split=None,\n",
              "                       min_samples_leaf=1, min_samples_split=2,\n",
              "                       min_weight_fraction_leaf=0.0, presort='deprecated',\n",
              "                       random_state=42, splitter='best')"
            ]
          },
          "metadata": {
            "tags": []
          },
          "execution_count": 59
        }
      ]
    },
    {
      "cell_type": "code",
      "metadata": {
        "id": "TbwgcjnY_Or5",
        "colab_type": "code",
        "colab": {
          "base_uri": "https://localhost:8080/",
          "height": 283
        },
        "outputId": "f8882996-ac64-44bb-d646-049207c51101"
      },
      "source": [
        "from matplotlib import pyplot as plt\n",
        "plt.scatter(X[:,0],X[:,1], c = iris.target)"
      ],
      "execution_count": 60,
      "outputs": [
        {
          "output_type": "execute_result",
          "data": {
            "text/plain": [
              "<matplotlib.collections.PathCollection at 0x7fb80fec8588>"
            ]
          },
          "metadata": {
            "tags": []
          },
          "execution_count": 60
        },
        {
          "output_type": "display_data",
          "data": {
            "image/png": "[encoded data removed]",
            "text/plain": [
              "<Figure size 432x288 with 1 Axes>"
            ]
          },
          "metadata": {
            "tags": [],
            "needs_background": "light"
          }
        }
      ]
    },
    {
      "cell_type": "code",
      "metadata": {
        "id": "LPVOV7i5_i7X",
        "colab_type": "code",
        "colab": {
          "base_uri": "https://localhost:8080/",
          "height": 35
        },
        "outputId": "79d454e5-9684-4d98-ab96-a0ba17c88ea0"
      },
      "source": [
        "clf.predict(np.array([[1,0.25]]))"
      ],
      "execution_count": 63,
      "outputs": [
        {
          "output_type": "execute_result",
          "data": {
            "text/plain": [
              "array([0])"
            ]
          },
          "metadata": {
            "tags": []
          },
          "execution_count": 63
        }
      ]
    },
    {
      "cell_type": "code",
      "metadata": {
        "id": "8NIFFC0kAzTT",
        "colab_type": "code",
        "colab": {
          "base_uri": "https://localhost:8080/",
          "height": 35
        },
        "outputId": "a5086886-e207-4851-e185-03db3baa2612"
      },
      "source": [
        "x_min, x_max = X[:, 0].min() - 1, X[:, 0].max() + 1\n",
        "y_min, y_max = X[:, 1].min() - 1, X[:, 1].max() + 1\n",
        "x_min, x_max,y_min, y_max"
      ],
      "execution_count": 68,
      "outputs": [
        {
          "output_type": "execute_result",
          "data": {
            "text/plain": [
              "(0.0, 7.9, -0.9, 3.5)"
            ]
          },
          "metadata": {
            "tags": []
          },
          "execution_count": 68
        }
      ]
    },
    {
      "cell_type": "code",
      "metadata": {
        "id": "ic-4TxUlA1KA",
        "colab_type": "code",
        "colab": {}
      },
      "source": [
        "xx, yy = np.meshgrid(np.arange(x_min, x_max, 0.1), np.arange(y_min, y_max, 0.1))"
      ],
      "execution_count": 65,
      "outputs": []
    },
    {
      "cell_type": "code",
      "metadata": {
        "id": "5XIY_qJkA2hA",
        "colab_type": "code",
        "colab": {
          "base_uri": "https://localhost:8080/",
          "height": 35
        },
        "outputId": "f3da7870-d2d1-450b-c8ff-e4d911f2af3c"
      },
      "source": [
        "xx.shape"
      ],
      "execution_count": 67,
      "outputs": [
        {
          "output_type": "execute_result",
          "data": {
            "text/plain": [
              "(44, 79)"
            ]
          },
          "metadata": {
            "tags": []
          },
          "execution_count": 67
        }
      ]
    },
    {
      "cell_type": "code",
      "metadata": {
        "id": "Jb_mX7w4A3tA",
        "colab_type": "code",
        "colab": {
          "base_uri": "https://localhost:8080/",
          "height": 139
        },
        "outputId": "6d694c20-b580-4500-96bd-aa23865899bb"
      },
      "source": [
        "np.c_[xx.ravel(), yy.ravel()]"
      ],
      "execution_count": 69,
      "outputs": [
        {
          "output_type": "execute_result",
          "data": {
            "text/plain": [
              "array([[ 0. , -0.9],\n",
              "       [ 0.1, -0.9],\n",
              "       [ 0.2, -0.9],\n",
              "       ...,\n",
              "       [ 7.6,  3.4],\n",
              "       [ 7.7,  3.4],\n",
              "       [ 7.8,  3.4]])"
            ]
          },
          "metadata": {
            "tags": []
          },
          "execution_count": 69
        }
      ]
    },
    {
      "cell_type": "code",
      "metadata": {
        "id": "8KBjSi6cBGJv",
        "colab_type": "code",
        "colab": {}
      },
      "source": [
        "Z = clf.predict(np.c_[xx.ravel(), yy.ravel()])"
      ],
      "execution_count": 70,
      "outputs": []
    },
    {
      "cell_type": "code",
      "metadata": {
        "id": "YVwl6TtsBHvO",
        "colab_type": "code",
        "colab": {
          "base_uri": "https://localhost:8080/",
          "height": 35
        },
        "outputId": "a96cf566-c5b6-46b9-c0ad-13ec7b3893b9"
      },
      "source": [
        "Z"
      ],
      "execution_count": 71,
      "outputs": [
        {
          "output_type": "execute_result",
          "data": {
            "text/plain": [
              "array([0, 0, 0, ..., 2, 2, 2])"
            ]
          },
          "metadata": {
            "tags": []
          },
          "execution_count": 71
        }
      ]
    },
    {
      "cell_type": "code",
      "metadata": {
        "id": "fd8r2w03BTMW",
        "colab_type": "code",
        "colab": {
          "base_uri": "https://localhost:8080/",
          "height": 139
        },
        "outputId": "203ac3eb-b522-4dad-f056-2819b41e1496"
      },
      "source": [
        "Z = Z.reshape(xx.shape)\n",
        "Z"
      ],
      "execution_count": 73,
      "outputs": [
        {
          "output_type": "execute_result",
          "data": {
            "text/plain": [
              "array([[0, 0, 0, ..., 1, 1, 1],\n",
              "       [0, 0, 0, ..., 1, 1, 1],\n",
              "       [0, 0, 0, ..., 1, 1, 1],\n",
              "       ...,\n",
              "       [0, 0, 0, ..., 2, 2, 2],\n",
              "       [0, 0, 0, ..., 2, 2, 2],\n",
              "       [0, 0, 0, ..., 2, 2, 2]])"
            ]
          },
          "metadata": {
            "tags": []
          },
          "execution_count": 73
        }
      ]
    },
    {
      "cell_type": "code",
      "metadata": {
        "id": "I3Kh8kBoBIK-",
        "colab_type": "code",
        "colab": {
          "base_uri": "https://localhost:8080/",
          "height": 313
        },
        "outputId": "948146da-3d7e-4249-b966-dbe5b752ad9d"
      },
      "source": [
        "plt.contourf(xx, yy, Z, alpha=0.4, cmap = plt.cm.rainbow)\n",
        "plt.scatter(X[:, 0], X[:, 1], c=y, alpha=1, cmap = plt.cm.RdYlBu)\n",
        "plt.title('Decision Tree')\n",
        "plt.xlabel('Petal.Length')\n",
        "plt.ylabel('Petal.Width')"
      ],
      "execution_count": 75,
      "outputs": [
        {
          "output_type": "execute_result",
          "data": {
            "text/plain": [
              "Text(0, 0.5, 'Petal.Width')"
            ]
          },
          "metadata": {
            "tags": []
          },
          "execution_count": 75
        },
        {
          "output_type": "display_data",
          "data": {
            "image/png": "[encoded data removed]",
            "text/plain": [
              "<Figure size 432x288 with 1 Axes>"
            ]
          },
          "metadata": {
            "tags": [],
            "needs_background": "light"
          }
        }
      ]
    },
    {
      "cell_type": "markdown",
      "metadata": {
        "id": "0lGSwth0DBvB",
        "colab_type": "text"
      },
      "source": [
        "## 迴歸模型"
      ]
    },
    {
      "cell_type": "code",
      "metadata": {
        "id": "zK9QC5AjBMXd",
        "colab_type": "code",
        "colab": {}
      },
      "source": [
        "from sklearn.linear_model import LogisticRegression"
      ],
      "execution_count": 161,
      "outputs": []
    },
    {
      "cell_type": "code",
      "metadata": {
        "id": "Yhf89E-vDEz0",
        "colab_type": "code",
        "colab": {
          "base_uri": "https://localhost:8080/",
          "height": 104
        },
        "outputId": "ab600335-9cb3-4492-e5d5-b4727e8e4e74"
      },
      "source": [
        "clf = LogisticRegression(max_iter= 1000)\n",
        "clf.fit(iris.data, iris.target)"
      ],
      "execution_count": 162,
      "outputs": [
        {
          "output_type": "execute_result",
          "data": {
            "text/plain": [
              "LogisticRegression(C=1.0, class_weight=None, dual=False, fit_intercept=True,\n",
              "                   intercept_scaling=1, l1_ratio=None, max_iter=1000,\n",
              "                   multi_class='auto', n_jobs=None, penalty='l2',\n",
              "                   random_state=None, solver='lbfgs', tol=0.0001, verbose=0,\n",
              "                   warm_start=False)"
            ]
          },
          "metadata": {
            "tags": []
          },
          "execution_count": 162
        }
      ]
    },
    {
      "cell_type": "code",
      "metadata": {
        "id": "BT86WRzfDO-k",
        "colab_type": "code",
        "colab": {}
      },
      "source": [
        "predicted = clf.predict(iris.data)"
      ],
      "execution_count": 163,
      "outputs": []
    },
    {
      "cell_type": "code",
      "metadata": {
        "id": "IMrEJp5pg-Gq",
        "colab_type": "code",
        "colab": {
          "base_uri": "https://localhost:8080/",
          "height": 139
        },
        "outputId": "6b153dc9-6727-4ef2-bb38-3a6b1d7845e5"
      },
      "source": [
        "predicted"
      ],
      "execution_count": 164,
      "outputs": [
        {
          "output_type": "execute_result",
          "data": {
            "text/plain": [
              "array([0, 0, 0, 0, 0, 0, 0, 0, 0, 0, 0, 0, 0, 0, 0, 0, 0, 0, 0, 0, 0, 0,\n",
              "       0, 0, 0, 0, 0, 0, 0, 0, 0, 0, 0, 0, 0, 0, 0, 0, 0, 0, 0, 0, 0, 0,\n",
              "       0, 0, 0, 0, 0, 0, 1, 1, 1, 1, 1, 1, 1, 1, 1, 1, 1, 1, 1, 1, 1, 1,\n",
              "       1, 1, 1, 1, 2, 1, 1, 1, 1, 1, 1, 2, 1, 1, 1, 1, 1, 2, 1, 1, 1, 1,\n",
              "       1, 1, 1, 1, 1, 1, 1, 1, 1, 1, 1, 1, 2, 2, 2, 2, 2, 2, 1, 2, 2, 2,\n",
              "       2, 2, 2, 2, 2, 2, 2, 2, 2, 2, 2, 2, 2, 2, 2, 2, 2, 2, 2, 2, 2, 2,\n",
              "       2, 2, 2, 2, 2, 2, 2, 2, 2, 2, 2, 2, 2, 2, 2, 2, 2, 2])"
            ]
          },
          "metadata": {
            "tags": []
          },
          "execution_count": 164
        }
      ]
    },
    {
      "cell_type": "code",
      "metadata": {
        "id": "6hUdYTk5hBvz",
        "colab_type": "code",
        "colab": {}
      },
      "source": [
        "predicted2 = clf.predict_proba(iris.data)"
      ],
      "execution_count": 165,
      "outputs": []
    },
    {
      "cell_type": "code",
      "metadata": {
        "id": "2zi9POY-hFNp",
        "colab_type": "code",
        "colab": {
          "base_uri": "https://localhost:8080/",
          "height": 69
        },
        "outputId": "bd7de99b-0c2c-4fc4-8d9c-ceba9f22befb"
      },
      "source": [
        "predicted2[0:3,:]"
      ],
      "execution_count": 167,
      "outputs": [
        {
          "output_type": "execute_result",
          "data": {
            "text/plain": [
              "array([[9.81583143e-01, 1.84168427e-02, 1.45011486e-08],\n",
              "       [9.71339457e-01, 2.86605127e-02, 3.01872659e-08],\n",
              "       [9.85274653e-01, 1.47253344e-02, 1.23396963e-08]])"
            ]
          },
          "metadata": {
            "tags": []
          },
          "execution_count": 167
        }
      ]
    },
    {
      "cell_type": "code",
      "metadata": {
        "id": "St4F9g-aDq2i",
        "colab_type": "code",
        "colab": {
          "base_uri": "https://localhost:8080/",
          "height": 35
        },
        "outputId": "dcbdff58-17cf-474f-d8b5-6b85d194558a"
      },
      "source": [
        "sum(predicted == iris.target) / len(iris.target)"
      ],
      "execution_count": 84,
      "outputs": [
        {
          "output_type": "execute_result",
          "data": {
            "text/plain": [
              "0.9733333333333334"
            ]
          },
          "metadata": {
            "tags": []
          },
          "execution_count": 84
        }
      ]
    },
    {
      "cell_type": "code",
      "metadata": {
        "id": "EOdA4iOBDsWC",
        "colab_type": "code",
        "colab": {
          "base_uri": "https://localhost:8080/",
          "height": 104
        },
        "outputId": "dfeb2f48-ce94-4db6-f560-3a1dc88b8299"
      },
      "source": [
        "X = iris.data[:, [2, 3]]\n",
        "y = iris.target\n",
        "clf = LogisticRegression()\n",
        "clf.fit(X, y)"
      ],
      "execution_count": 85,
      "outputs": [
        {
          "output_type": "execute_result",
          "data": {
            "text/plain": [
              "LogisticRegression(C=1.0, class_weight=None, dual=False, fit_intercept=True,\n",
              "                   intercept_scaling=1, l1_ratio=None, max_iter=100,\n",
              "                   multi_class='auto', n_jobs=None, penalty='l2',\n",
              "                   random_state=None, solver='lbfgs', tol=0.0001, verbose=0,\n",
              "                   warm_start=False)"
            ]
          },
          "metadata": {
            "tags": []
          },
          "execution_count": 85
        }
      ]
    },
    {
      "cell_type": "code",
      "metadata": {
        "id": "aMpjHIGqD2Zh",
        "colab_type": "code",
        "colab": {
          "base_uri": "https://localhost:8080/",
          "height": 313
        },
        "outputId": "e2f87fb0-305c-4c48-ee94-f76eaa17b472"
      },
      "source": [
        "x_min, x_max = X[:, 0].min() - 1, X[:, 0].max() + 1\n",
        "y_min, y_max = X[:, 1].min() - 1, X[:, 1].max() + 1\n",
        "xx, yy = np.meshgrid(np.arange(x_min, x_max, 0.1),\n",
        "np.arange(y_min, y_max, 0.1))\n",
        "Z = clf.predict(np.c_[xx.ravel(), yy.ravel()])\n",
        "Z = Z.reshape(xx.shape)\n",
        "plt.plot()\n",
        "plt.contourf(xx, yy, Z, alpha=0.4, cmap = plt.cm.RdYlBu)\n",
        "plt.scatter(X[:, 0], X[:, 1], c=y, cmap = plt.cm.brg)\n",
        "plt.title('Logistic Regression')\n",
        "plt.xlabel('Petal.Length')\n",
        "plt.ylabel('Petal.Width')\n",
        "plt.show()"
      ],
      "execution_count": 86,
      "outputs": [
        {
          "output_type": "display_data",
          "data": {
            "image/png": "[encoded data removed]",
            "text/plain": [
              "<Figure size 432x288 with 1 Axes>"
            ]
          },
          "metadata": {
            "tags": [],
            "needs_background": "light"
          }
        },
        {
          "output_type": "execute_result",
          "data": {
            "text/plain": [
              "150"
            ]
          },
          "metadata": {
            "tags": []
          },
          "execution_count": 86
        }
      ]
    },
    {
      "cell_type": "markdown",
      "metadata": {
        "id": "sGqwxI8VLJJw",
        "colab_type": "text"
      },
      "source": [
        "## Numpy"
      ]
    },
    {
      "cell_type": "code",
      "metadata": {
        "id": "TnUZvFviD4mg",
        "colab_type": "code",
        "colab": {}
      },
      "source": [
        "import numpy as np\n",
        "na = np.array([1,2,3,4,5])"
      ],
      "execution_count": 87,
      "outputs": []
    },
    {
      "cell_type": "code",
      "metadata": {
        "id": "3Be4xL4mLO7P",
        "colab_type": "code",
        "colab": {
          "base_uri": "https://localhost:8080/",
          "height": 35
        },
        "outputId": "9826622e-e512-4afb-945d-69a33401515d"
      },
      "source": [
        "na"
      ],
      "execution_count": 88,
      "outputs": [
        {
          "output_type": "execute_result",
          "data": {
            "text/plain": [
              "array([1, 2, 3, 4, 5])"
            ]
          },
          "metadata": {
            "tags": []
          },
          "execution_count": 88
        }
      ]
    },
    {
      "cell_type": "code",
      "metadata": {
        "id": "Of38RG7ULPjv",
        "colab_type": "code",
        "colab": {
          "base_uri": "https://localhost:8080/",
          "height": 166
        },
        "outputId": "41f4f8a1-ae4b-41de-8479-4c715b97cbba"
      },
      "source": [
        "na.append"
      ],
      "execution_count": 89,
      "outputs": [
        {
          "output_type": "error",
          "ename": "AttributeError",
          "evalue": "ignored",
          "traceback": [
            "\u001b[0;31m---------------------------------------------------------------------------\u001b[0m",
            "\u001b[0;31mAttributeError\u001b[0m                            Traceback (most recent call last)",
            "\u001b[0;32m<ipython-input-89-268bcd5ff307>\u001b[0m in \u001b[0;36m<module>\u001b[0;34m()\u001b[0m\n\u001b[0;32m----> 1\u001b[0;31m \u001b[0mna\u001b[0m\u001b[0;34m.\u001b[0m\u001b[0mappend\u001b[0m\u001b[0;34m\u001b[0m\u001b[0;34m\u001b[0m\u001b[0m\n\u001b[0m",
            "\u001b[0;31mAttributeError\u001b[0m: 'numpy.ndarray' object has no attribute 'append'"
          ]
        }
      ]
    },
    {
      "cell_type": "code",
      "metadata": {
        "id": "e3alrkjoLSXg",
        "colab_type": "code",
        "colab": {
          "base_uri": "https://localhost:8080/",
          "height": 35
        },
        "outputId": "68913026-421a-4bfe-c802-113cd065b49b"
      },
      "source": [
        "np.array([1,2,3,4,5, 'qoo'])"
      ],
      "execution_count": 91,
      "outputs": [
        {
          "output_type": "execute_result",
          "data": {
            "text/plain": [
              "array(['1', '2', '3', '4', '5', 'qoo'], dtype='<U21')"
            ]
          },
          "metadata": {
            "tags": []
          },
          "execution_count": 91
        }
      ]
    },
    {
      "cell_type": "markdown",
      "metadata": {
        "id": "yMT2eLBOLaLL",
        "colab_type": "text"
      },
      "source": [
        "## Numpy v.s. List\n",
        "- Numpy: 必須所有資料都同一類型\n",
        "- Numpy: 不得增減裡面的物件數量"
      ]
    },
    {
      "cell_type": "code",
      "metadata": {
        "id": "v89GllyJLZd-",
        "colab_type": "code",
        "colab": {
          "base_uri": "https://localhost:8080/",
          "height": 35
        },
        "outputId": "da81c440-b7ab-45ab-d1c9-8a8b4a42538a"
      },
      "source": [
        "na"
      ],
      "execution_count": 92,
      "outputs": [
        {
          "output_type": "execute_result",
          "data": {
            "text/plain": [
              "array([1, 2, 3, 4, 5])"
            ]
          },
          "metadata": {
            "tags": []
          },
          "execution_count": 92
        }
      ]
    },
    {
      "cell_type": "code",
      "metadata": {
        "id": "XZokAfXqLmk9",
        "colab_type": "code",
        "colab": {
          "base_uri": "https://localhost:8080/",
          "height": 35
        },
        "outputId": "88ec729b-5b81-4b80-eac7-9449dc033258"
      },
      "source": [
        "na[0]"
      ],
      "execution_count": 93,
      "outputs": [
        {
          "output_type": "execute_result",
          "data": {
            "text/plain": [
              "1"
            ]
          },
          "metadata": {
            "tags": []
          },
          "execution_count": 93
        }
      ]
    },
    {
      "cell_type": "code",
      "metadata": {
        "id": "aXfY0yhhLn1O",
        "colab_type": "code",
        "colab": {
          "base_uri": "https://localhost:8080/",
          "height": 35
        },
        "outputId": "0d4b5f1d-1b7c-4e32-dce2-a6fe3eeda9e4"
      },
      "source": [
        "na[1:3]"
      ],
      "execution_count": 94,
      "outputs": [
        {
          "output_type": "execute_result",
          "data": {
            "text/plain": [
              "array([2, 3])"
            ]
          },
          "metadata": {
            "tags": []
          },
          "execution_count": 94
        }
      ]
    },
    {
      "cell_type": "code",
      "metadata": {
        "id": "slF58UV1LpuN",
        "colab_type": "code",
        "colab": {
          "base_uri": "https://localhost:8080/",
          "height": 35
        },
        "outputId": "908fc4de-f3a9-46d3-85e0-843db1603309"
      },
      "source": [
        "na > 3"
      ],
      "execution_count": 95,
      "outputs": [
        {
          "output_type": "execute_result",
          "data": {
            "text/plain": [
              "array([False, False, False,  True,  True])"
            ]
          },
          "metadata": {
            "tags": []
          },
          "execution_count": 95
        }
      ]
    },
    {
      "cell_type": "code",
      "metadata": {
        "id": "8_augncULtNe",
        "colab_type": "code",
        "colab": {
          "base_uri": "https://localhost:8080/",
          "height": 35
        },
        "outputId": "dc1f2094-39cd-4e0c-ade3-6911436df668"
      },
      "source": [
        "na[na > 3]"
      ],
      "execution_count": 96,
      "outputs": [
        {
          "output_type": "execute_result",
          "data": {
            "text/plain": [
              "array([4, 5])"
            ]
          },
          "metadata": {
            "tags": []
          },
          "execution_count": 96
        }
      ]
    },
    {
      "cell_type": "code",
      "metadata": {
        "id": "yeGW9WacLv0d",
        "colab_type": "code",
        "colab": {}
      },
      "source": [
        "na = np.array([[1, 2, 3, 4, 5],[6, 7, 8, 9, 10]])"
      ],
      "execution_count": 97,
      "outputs": []
    },
    {
      "cell_type": "code",
      "metadata": {
        "id": "tR0d3AGVLzpc",
        "colab_type": "code",
        "colab": {
          "base_uri": "https://localhost:8080/",
          "height": 52
        },
        "outputId": "4ab97793-c16b-49c8-ad27-46eed1dbdaeb"
      },
      "source": [
        "na"
      ],
      "execution_count": 98,
      "outputs": [
        {
          "output_type": "execute_result",
          "data": {
            "text/plain": [
              "array([[ 1,  2,  3,  4,  5],\n",
              "       [ 6,  7,  8,  9, 10]])"
            ]
          },
          "metadata": {
            "tags": []
          },
          "execution_count": 98
        }
      ]
    },
    {
      "cell_type": "code",
      "metadata": {
        "id": "Slx0IkWXL0JM",
        "colab_type": "code",
        "colab": {
          "base_uri": "https://localhost:8080/",
          "height": 35
        },
        "outputId": "a3f2696a-65a0-4f8f-db5d-2f8ae0df28ab"
      },
      "source": [
        "na.shape"
      ],
      "execution_count": 99,
      "outputs": [
        {
          "output_type": "execute_result",
          "data": {
            "text/plain": [
              "(2, 5)"
            ]
          },
          "metadata": {
            "tags": []
          },
          "execution_count": 99
        }
      ]
    },
    {
      "cell_type": "code",
      "metadata": {
        "id": "myVWd3jjL1xc",
        "colab_type": "code",
        "colab": {
          "base_uri": "https://localhost:8080/",
          "height": 35
        },
        "outputId": "09fe7801-b3ed-410e-d253-8e58a86a4ac5"
      },
      "source": [
        "na[0,0]"
      ],
      "execution_count": 100,
      "outputs": [
        {
          "output_type": "execute_result",
          "data": {
            "text/plain": [
              "1"
            ]
          },
          "metadata": {
            "tags": []
          },
          "execution_count": 100
        }
      ]
    },
    {
      "cell_type": "code",
      "metadata": {
        "id": "Vl9HNAUPL49s",
        "colab_type": "code",
        "colab": {
          "base_uri": "https://localhost:8080/",
          "height": 35
        },
        "outputId": "16f7a363-ed86-4099-e5fe-e213032d22c1"
      },
      "source": [
        "na[0,:]"
      ],
      "execution_count": 101,
      "outputs": [
        {
          "output_type": "execute_result",
          "data": {
            "text/plain": [
              "array([1, 2, 3, 4, 5])"
            ]
          },
          "metadata": {
            "tags": []
          },
          "execution_count": 101
        }
      ]
    },
    {
      "cell_type": "code",
      "metadata": {
        "id": "NBIGHMx7L8BM",
        "colab_type": "code",
        "colab": {
          "base_uri": "https://localhost:8080/",
          "height": 35
        },
        "outputId": "d53a64eb-720b-4452-b88a-8f4b1ca1d93d"
      },
      "source": [
        "na[:,0]"
      ],
      "execution_count": 112,
      "outputs": [
        {
          "output_type": "execute_result",
          "data": {
            "text/plain": [
              "array([1, 6])"
            ]
          },
          "metadata": {
            "tags": []
          },
          "execution_count": 112
        }
      ]
    },
    {
      "cell_type": "code",
      "metadata": {
        "id": "go9wYvc4L-Oc",
        "colab_type": "code",
        "colab": {
          "base_uri": "https://localhost:8080/",
          "height": 104
        },
        "outputId": "9f5a3158-483f-4a60-8958-4c9aa7d36ffa"
      },
      "source": [
        "na.T"
      ],
      "execution_count": 103,
      "outputs": [
        {
          "output_type": "execute_result",
          "data": {
            "text/plain": [
              "array([[ 1,  6],\n",
              "       [ 2,  7],\n",
              "       [ 3,  8],\n",
              "       [ 4,  9],\n",
              "       [ 5, 10]])"
            ]
          },
          "metadata": {
            "tags": []
          },
          "execution_count": 103
        }
      ]
    },
    {
      "cell_type": "code",
      "metadata": {
        "id": "X7wHvmNfMBBs",
        "colab_type": "code",
        "colab": {
          "base_uri": "https://localhost:8080/",
          "height": 52
        },
        "outputId": "6afb2ffc-43b8-407f-f0d0-ed43a8a6d17c"
      },
      "source": [
        "na"
      ],
      "execution_count": 104,
      "outputs": [
        {
          "output_type": "execute_result",
          "data": {
            "text/plain": [
              "array([[ 1,  2,  3,  4,  5],\n",
              "       [ 6,  7,  8,  9, 10]])"
            ]
          },
          "metadata": {
            "tags": []
          },
          "execution_count": 104
        }
      ]
    },
    {
      "cell_type": "code",
      "metadata": {
        "id": "7qWhKPZtMEnL",
        "colab_type": "code",
        "colab": {
          "base_uri": "https://localhost:8080/",
          "height": 104
        },
        "outputId": "75abac49-a2d9-4224-ff8f-2c23b477e7c3"
      },
      "source": [
        "na.reshape(5,2)"
      ],
      "execution_count": 105,
      "outputs": [
        {
          "output_type": "execute_result",
          "data": {
            "text/plain": [
              "array([[ 1,  2],\n",
              "       [ 3,  4],\n",
              "       [ 5,  6],\n",
              "       [ 7,  8],\n",
              "       [ 9, 10]])"
            ]
          },
          "metadata": {
            "tags": []
          },
          "execution_count": 105
        }
      ]
    },
    {
      "cell_type": "code",
      "metadata": {
        "id": "lHCDZo50MGML",
        "colab_type": "code",
        "colab": {}
      },
      "source": [
        "x = np.array([20,3,100,10])"
      ],
      "execution_count": 106,
      "outputs": []
    },
    {
      "cell_type": "code",
      "metadata": {
        "id": "aDRWHIoyMWVL",
        "colab_type": "code",
        "colab": {
          "base_uri": "https://localhost:8080/",
          "height": 35
        },
        "outputId": "fca956b9-772c-4cce-df20-a4fb65afedc4"
      },
      "source": [
        "x.shape"
      ],
      "execution_count": 107,
      "outputs": [
        {
          "output_type": "execute_result",
          "data": {
            "text/plain": [
              "(4,)"
            ]
          },
          "metadata": {
            "tags": []
          },
          "execution_count": 107
        }
      ]
    },
    {
      "cell_type": "code",
      "metadata": {
        "id": "F7LBhiXAMW5a",
        "colab_type": "code",
        "colab": {}
      },
      "source": [
        "w = np.random.randn(4,5)"
      ],
      "execution_count": 110,
      "outputs": []
    },
    {
      "cell_type": "code",
      "metadata": {
        "id": "Zex0c1rVMcQL",
        "colab_type": "code",
        "colab": {
          "base_uri": "https://localhost:8080/",
          "height": 52
        },
        "outputId": "c9e44c92-3a74-43e4-9714-45cfc3d984bd"
      },
      "source": [
        "np.dot(x,w)"
      ],
      "execution_count": 111,
      "outputs": [
        {
          "output_type": "execute_result",
          "data": {
            "text/plain": [
              "array([ -43.60132607,  122.12712989,  112.6195485 , -128.73337904,\n",
              "        -57.30324349])"
            ]
          },
          "metadata": {
            "tags": []
          },
          "execution_count": 111
        }
      ]
    },
    {
      "cell_type": "markdown",
      "metadata": {
        "id": "oU4jzIQObGyg",
        "colab_type": "text"
      },
      "source": [
        "## 激活函數"
      ]
    },
    {
      "cell_type": "code",
      "metadata": {
        "id": "1kQvz7bsMgFp",
        "colab_type": "code",
        "colab": {}
      },
      "source": [
        "x = np.array([-1,1,2])"
      ],
      "execution_count": 113,
      "outputs": []
    },
    {
      "cell_type": "code",
      "metadata": {
        "id": "VBOsQlOJbLAR",
        "colab_type": "code",
        "colab": {
          "base_uri": "https://localhost:8080/",
          "height": 35
        },
        "outputId": "7bd1b89a-3b7d-4bfd-e513-1200c3c9b105"
      },
      "source": [
        "x > 0"
      ],
      "execution_count": 114,
      "outputs": [
        {
          "output_type": "execute_result",
          "data": {
            "text/plain": [
              "array([False,  True,  True])"
            ]
          },
          "metadata": {
            "tags": []
          },
          "execution_count": 114
        }
      ]
    },
    {
      "cell_type": "code",
      "metadata": {
        "id": "kGX-gj_4bNqA",
        "colab_type": "code",
        "colab": {
          "base_uri": "https://localhost:8080/",
          "height": 35
        },
        "outputId": "76ac2f05-a37f-49b2-9dc6-1ea276e10388"
      },
      "source": [
        "(x > 0).astype(int)"
      ],
      "execution_count": 115,
      "outputs": [
        {
          "output_type": "execute_result",
          "data": {
            "text/plain": [
              "array([0, 1, 1])"
            ]
          },
          "metadata": {
            "tags": []
          },
          "execution_count": 115
        }
      ]
    },
    {
      "cell_type": "code",
      "metadata": {
        "id": "87zPhUkIbSJw",
        "colab_type": "code",
        "colab": {}
      },
      "source": [
        "def threshold_function(x):\n",
        "  return (x>0).astype(int)"
      ],
      "execution_count": 116,
      "outputs": []
    },
    {
      "cell_type": "code",
      "metadata": {
        "id": "MZj8gerzbZEP",
        "colab_type": "code",
        "colab": {
          "base_uri": "https://localhost:8080/",
          "height": 35
        },
        "outputId": "96dc6d9d-8443-4b47-e69e-62dd12188b0f"
      },
      "source": [
        "a = np.array([-3,3,9])\n",
        "threshold_function(a)"
      ],
      "execution_count": 117,
      "outputs": [
        {
          "output_type": "execute_result",
          "data": {
            "text/plain": [
              "array([0, 1, 1])"
            ]
          },
          "metadata": {
            "tags": []
          },
          "execution_count": 117
        }
      ]
    },
    {
      "cell_type": "code",
      "metadata": {
        "id": "__1ygzbRbfHv",
        "colab_type": "code",
        "colab": {
          "base_uri": "https://localhost:8080/",
          "height": 35
        },
        "outputId": "fe28ec77-0ab9-4247-8794-8f7999144819"
      },
      "source": [
        "np.exp(1)\n",
        "#1 / (1 +np.exp(-x))"
      ],
      "execution_count": 118,
      "outputs": [
        {
          "output_type": "execute_result",
          "data": {
            "text/plain": [
              "2.718281828459045"
            ]
          },
          "metadata": {
            "tags": []
          },
          "execution_count": 118
        }
      ]
    },
    {
      "cell_type": "code",
      "metadata": {
        "id": "ucCrrOSVb5nu",
        "colab_type": "code",
        "colab": {}
      },
      "source": [
        "def sigmoid_function(x):\n",
        "  return 1 / (1 +np.exp(-x))"
      ],
      "execution_count": 119,
      "outputs": []
    },
    {
      "cell_type": "code",
      "metadata": {
        "id": "RrWdHtkJb_-e",
        "colab_type": "code",
        "colab": {}
      },
      "source": [
        "a = np.array([-1,1,2])"
      ],
      "execution_count": 120,
      "outputs": []
    },
    {
      "cell_type": "code",
      "metadata": {
        "id": "hP2rZvcpcE-d",
        "colab_type": "code",
        "colab": {
          "base_uri": "https://localhost:8080/",
          "height": 35
        },
        "outputId": "49e0306a-f703-4ea2-c754-c8fea0069ef8"
      },
      "source": [
        "sigmoid_function(a)"
      ],
      "execution_count": 121,
      "outputs": [
        {
          "output_type": "execute_result",
          "data": {
            "text/plain": [
              "array([0.26894142, 0.73105858, 0.88079708])"
            ]
          },
          "metadata": {
            "tags": []
          },
          "execution_count": 121
        }
      ]
    },
    {
      "cell_type": "code",
      "metadata": {
        "id": "WVzgKV60cGgt",
        "colab_type": "code",
        "colab": {}
      },
      "source": [
        "a = np.array([-1,100,200])"
      ],
      "execution_count": 122,
      "outputs": []
    },
    {
      "cell_type": "code",
      "metadata": {
        "id": "8iH2tsFrcKy9",
        "colab_type": "code",
        "colab": {
          "base_uri": "https://localhost:8080/",
          "height": 35
        },
        "outputId": "aa6807fe-f7d9-4ce6-8284-69027a109866"
      },
      "source": [
        "sigmoid_function(a)"
      ],
      "execution_count": 123,
      "outputs": [
        {
          "output_type": "execute_result",
          "data": {
            "text/plain": [
              "array([0.26894142, 1.        , 1.        ])"
            ]
          },
          "metadata": {
            "tags": []
          },
          "execution_count": 123
        }
      ]
    },
    {
      "cell_type": "code",
      "metadata": {
        "id": "-jV0m-H5dYcC",
        "colab_type": "code",
        "colab": {
          "base_uri": "https://localhost:8080/",
          "height": 283
        },
        "outputId": "4262bf43-92e8-43b5-f6db-b74638bb61e1"
      },
      "source": [
        "from matplotlib import pyplot as plt\n",
        "x = np.arange(-10,10,0.1)\n",
        "y = sigmoid_function(x)\n",
        "plt.plot(x,y)"
      ],
      "execution_count": 128,
      "outputs": [
        {
          "output_type": "execute_result",
          "data": {
            "text/plain": [
              "[<matplotlib.lines.Line2D at 0x7fb80f4b67f0>]"
            ]
          },
          "metadata": {
            "tags": []
          },
          "execution_count": 128
        },
        {
          "output_type": "display_data",
          "data": {
            "image/png": "[encoded data removed]",
            "text/plain": [
              "<Figure size 432x288 with 1 Axes>"
            ]
          },
          "metadata": {
            "tags": [],
            "needs_background": "light"
          }
        }
      ]
    },
    {
      "cell_type": "code",
      "metadata": {
        "id": "rK-Ox7z1cMIN",
        "colab_type": "code",
        "colab": {}
      },
      "source": [
        "def tangent_function(x):\n",
        "  return (1 - np.exp(-2*x)) / (1 +np.exp(-2*x))"
      ],
      "execution_count": 125,
      "outputs": []
    },
    {
      "cell_type": "code",
      "metadata": {
        "id": "LGVr3magdV2Y",
        "colab_type": "code",
        "colab": {
          "base_uri": "https://localhost:8080/",
          "height": 283
        },
        "outputId": "75b64cfa-6726-4e61-8ec8-1dfdd477e580"
      },
      "source": [
        "x = np.arange(-10,10,0.1)\n",
        "y = tangent_function(x)\n",
        "plt.plot(x,y)"
      ],
      "execution_count": 129,
      "outputs": [
        {
          "output_type": "execute_result",
          "data": {
            "text/plain": [
              "[<matplotlib.lines.Line2D at 0x7fb80f681f98>]"
            ]
          },
          "metadata": {
            "tags": []
          },
          "execution_count": 129
        },
        {
          "output_type": "display_data",
          "data": {
            "image/png": "[encoded data removed]",
            "text/plain": [
              "<Figure size 432x288 with 1 Axes>"
            ]
          },
          "metadata": {
            "tags": [],
            "needs_background": "light"
          }
        }
      ]
    },
    {
      "cell_type": "code",
      "metadata": {
        "id": "2LXFtNrFdsc3",
        "colab_type": "code",
        "colab": {
          "base_uri": "https://localhost:8080/",
          "height": 35
        },
        "outputId": "dfa7b7ec-1a62-446f-b3dd-c46a88fa4a63"
      },
      "source": [
        "x = np.array([-1,1,2])\n",
        "tangent_function(x)"
      ],
      "execution_count": 130,
      "outputs": [
        {
          "output_type": "execute_result",
          "data": {
            "text/plain": [
              "array([-0.76159416,  0.76159416,  0.96402758])"
            ]
          },
          "metadata": {
            "tags": []
          },
          "execution_count": 130
        }
      ]
    },
    {
      "cell_type": "code",
      "metadata": {
        "id": "MPStZXIidvsn",
        "colab_type": "code",
        "colab": {
          "base_uri": "https://localhost:8080/",
          "height": 35
        },
        "outputId": "96e7e373-f766-45ba-c546-af965703fc7d"
      },
      "source": [
        "np.tanh(x)"
      ],
      "execution_count": 131,
      "outputs": [
        {
          "output_type": "execute_result",
          "data": {
            "text/plain": [
              "array([-0.76159416,  0.76159416,  0.96402758])"
            ]
          },
          "metadata": {
            "tags": []
          },
          "execution_count": 131
        }
      ]
    },
    {
      "cell_type": "code",
      "metadata": {
        "id": "ZzAO46HXdxxX",
        "colab_type": "code",
        "colab": {
          "base_uri": "https://localhost:8080/",
          "height": 35
        },
        "outputId": "db0caa3f-2d41-453c-9752-578ab7a43a55"
      },
      "source": [
        "a = np.array([-1,1,3])\n",
        "sigmoid_function(a)"
      ],
      "execution_count": 138,
      "outputs": [
        {
          "output_type": "execute_result",
          "data": {
            "text/plain": [
              "array([0.26894142, 0.73105858, 0.95257413])"
            ]
          },
          "metadata": {
            "tags": []
          },
          "execution_count": 138
        }
      ]
    },
    {
      "cell_type": "code",
      "metadata": {
        "id": "HlhT7lGFd8R2",
        "colab_type": "code",
        "colab": {
          "base_uri": "https://localhost:8080/",
          "height": 35
        },
        "outputId": "cda5222c-18bf-4e07-aae5-8e7111ccd9f2"
      },
      "source": [
        "tangent_function(a)"
      ],
      "execution_count": 139,
      "outputs": [
        {
          "output_type": "execute_result",
          "data": {
            "text/plain": [
              "array([-0.76159416,  0.76159416,  0.99505475])"
            ]
          },
          "metadata": {
            "tags": []
          },
          "execution_count": 139
        }
      ]
    },
    {
      "cell_type": "code",
      "metadata": {
        "id": "Vb2KmL0UeDym",
        "colab_type": "code",
        "colab": {}
      },
      "source": [
        "def relu_function(x):\n",
        "  return np.maximum(0,x)"
      ],
      "execution_count": 140,
      "outputs": []
    },
    {
      "cell_type": "code",
      "metadata": {
        "id": "iV9yD1cOed40",
        "colab_type": "code",
        "colab": {
          "base_uri": "https://localhost:8080/",
          "height": 283
        },
        "outputId": "b2365caf-6bdb-4f54-eaba-22aece15ebb5"
      },
      "source": [
        "x = np.arange(-10,10,0.1)\n",
        "y = relu_function(x)\n",
        "plt.plot(x,y)"
      ],
      "execution_count": 141,
      "outputs": [
        {
          "output_type": "execute_result",
          "data": {
            "text/plain": [
              "[<matplotlib.lines.Line2D at 0x7fb80f1ee470>]"
            ]
          },
          "metadata": {
            "tags": []
          },
          "execution_count": 141
        },
        {
          "output_type": "display_data",
          "data": {
            "image/png": "[encoded data removed]",
            "text/plain": [
              "<Figure size 432x288 with 1 Axes>"
            ]
          },
          "metadata": {
            "tags": [],
            "needs_background": "light"
          }
        }
      ]
    },
    {
      "cell_type": "code",
      "metadata": {
        "id": "eVf6dwtoegaU",
        "colab_type": "code",
        "colab": {}
      },
      "source": [
        "X = np.array([1,2])\n",
        "W = np.array([[1,3,5],[2,4,6]])"
      ],
      "execution_count": 142,
      "outputs": []
    },
    {
      "cell_type": "code",
      "metadata": {
        "id": "RwTUUNLmfOAy",
        "colab_type": "code",
        "colab": {
          "base_uri": "https://localhost:8080/",
          "height": 35
        },
        "outputId": "f3df7922-8bbc-4a4a-f62a-97221daa257c"
      },
      "source": [
        "X.shape"
      ],
      "execution_count": 143,
      "outputs": [
        {
          "output_type": "execute_result",
          "data": {
            "text/plain": [
              "(2,)"
            ]
          },
          "metadata": {
            "tags": []
          },
          "execution_count": 143
        }
      ]
    },
    {
      "cell_type": "code",
      "metadata": {
        "id": "PyeuoDYHfPNy",
        "colab_type": "code",
        "colab": {
          "base_uri": "https://localhost:8080/",
          "height": 35
        },
        "outputId": "af953d58-3f80-46d9-f891-3afe7d181a0a"
      },
      "source": [
        "W.shape"
      ],
      "execution_count": 144,
      "outputs": [
        {
          "output_type": "execute_result",
          "data": {
            "text/plain": [
              "(2, 3)"
            ]
          },
          "metadata": {
            "tags": []
          },
          "execution_count": 144
        }
      ]
    },
    {
      "cell_type": "code",
      "metadata": {
        "id": "WzRMIVeVfQOS",
        "colab_type": "code",
        "colab": {}
      },
      "source": [
        "O1 = np.dot(X,W)"
      ],
      "execution_count": 146,
      "outputs": []
    },
    {
      "cell_type": "code",
      "metadata": {
        "id": "NlqnLUkefSrw",
        "colab_type": "code",
        "colab": {
          "base_uri": "https://localhost:8080/",
          "height": 35
        },
        "outputId": "0975d66f-6464-4150-d2bf-a6a8aaf392fb"
      },
      "source": [
        "W2 = np.array([[1,2],[3,4],[5,6]])\n",
        "np.dot(O1, W2)"
      ],
      "execution_count": 147,
      "outputs": [
        {
          "output_type": "execute_result",
          "data": {
            "text/plain": [
              "array([123, 156])"
            ]
          },
          "metadata": {
            "tags": []
          },
          "execution_count": 147
        }
      ]
    },
    {
      "cell_type": "code",
      "metadata": {
        "id": "-0SFMCUXfkkQ",
        "colab_type": "code",
        "colab": {}
      },
      "source": [
        "network = {}\n",
        "network['w1'] = np.array([[0.1,0.3,0.5],[0.2,0.4,0.6]])\n",
        "network['b1'] = np.array([0.1,0.2,0.3])\n",
        "network['w2'] = np.array([[0.1,0.4],[0.2,0.5],[0.3,0.6]])\n",
        "network['b2'] = np.array([0.1,0.2])"
      ],
      "execution_count": 148,
      "outputs": []
    },
    {
      "cell_type": "code",
      "metadata": {
        "id": "R33Fm7jGf5Nw",
        "colab_type": "code",
        "colab": {
          "base_uri": "https://localhost:8080/",
          "height": 139
        },
        "outputId": "4b648b55-9505-49ea-d870-6f9a6886c8cc"
      },
      "source": [
        "network"
      ],
      "execution_count": 149,
      "outputs": [
        {
          "output_type": "execute_result",
          "data": {
            "text/plain": [
              "{'b1': array([0.1, 0.2, 0.3]),\n",
              " 'b2': array([0.1, 0.2]),\n",
              " 'w1': array([[0.1, 0.3, 0.5],\n",
              "        [0.2, 0.4, 0.6]]),\n",
              " 'w2': array([[0.1, 0.4],\n",
              "        [0.2, 0.5],\n",
              "        [0.3, 0.6]])}"
            ]
          },
          "metadata": {
            "tags": []
          },
          "execution_count": 149
        }
      ]
    },
    {
      "cell_type": "code",
      "metadata": {
        "id": "qow4rrMMf6U_",
        "colab_type": "code",
        "colab": {}
      },
      "source": [
        "x = np.array([1,0.5])"
      ],
      "execution_count": 150,
      "outputs": []
    },
    {
      "cell_type": "code",
      "metadata": {
        "id": "VBv1bgiDgAte",
        "colab_type": "code",
        "colab": {
          "base_uri": "https://localhost:8080/",
          "height": 35
        },
        "outputId": "76f75a55-5c86-41b4-ec90-de5fb54c3c1c"
      },
      "source": [
        "x.shape"
      ],
      "execution_count": 151,
      "outputs": [
        {
          "output_type": "execute_result",
          "data": {
            "text/plain": [
              "(2,)"
            ]
          },
          "metadata": {
            "tags": []
          },
          "execution_count": 151
        }
      ]
    },
    {
      "cell_type": "code",
      "metadata": {
        "id": "Ak68hBHAgBoO",
        "colab_type": "code",
        "colab": {}
      },
      "source": [
        "a = np.dot(x, network['w1']) + network['b1']"
      ],
      "execution_count": 155,
      "outputs": []
    },
    {
      "cell_type": "code",
      "metadata": {
        "id": "YxcyABqNgYe9",
        "colab_type": "code",
        "colab": {}
      },
      "source": [
        "z = sigmoid_function(a)"
      ],
      "execution_count": 158,
      "outputs": []
    },
    {
      "cell_type": "code",
      "metadata": {
        "id": "ta7SytJzgbnN",
        "colab_type": "code",
        "colab": {
          "base_uri": "https://localhost:8080/",
          "height": 35
        },
        "outputId": "5d4ef7fa-601e-41f7-d05d-2524eb80e68e"
      },
      "source": [
        "y = np.dot(z, network['w2']) + network['b2']\n"
      ],
      "execution_count": 160,
      "outputs": [
        {
          "output_type": "execute_result",
          "data": {
            "text/plain": [
              "array([0.51615984, 1.21402696])"
            ]
          },
          "metadata": {
            "tags": []
          },
          "execution_count": 160
        }
      ]
    },
    {
      "cell_type": "code",
      "metadata": {
        "id": "r4zcRHozgiWt",
        "colab_type": "code",
        "colab": {}
      },
      "source": [
        "def softmax_function(x):\n",
        "  return np.exp(x) / np.sum(np.exp(x))"
      ],
      "execution_count": 168,
      "outputs": []
    },
    {
      "cell_type": "code",
      "metadata": {
        "id": "zZ7is-JJha4u",
        "colab_type": "code",
        "colab": {
          "base_uri": "https://localhost:8080/",
          "height": 35
        },
        "outputId": "a087c4fa-6a24-484b-e515-43a9abff2ba0"
      },
      "source": [
        "softmax_function(y)"
      ],
      "execution_count": 169,
      "outputs": [
        {
          "output_type": "execute_result",
          "data": {
            "text/plain": [
              "array([0.33228528, 0.66771472])"
            ]
          },
          "metadata": {
            "tags": []
          },
          "execution_count": 169
        }
      ]
    },
    {
      "cell_type": "code",
      "metadata": {
        "id": "1HLXYSWmhfrI",
        "colab_type": "code",
        "colab": {}
      },
      "source": [
        "def mean_squared_err(y_hat, y):\n",
        "  return 0.5 * np.sum((y_hat - y) ** 2)\n"
      ],
      "execution_count": 170,
      "outputs": []
    },
    {
      "cell_type": "code",
      "metadata": {
        "id": "3TVhZiRCjP3D",
        "colab_type": "code",
        "colab": {}
      },
      "source": [
        "def cross_entropy_err(y_hat, y):\n",
        "  delta = 1e-8\n",
        "  return -np.sum(y*np.log(y_hat + delta))"
      ],
      "execution_count": null,
      "outputs": []
    },
    {
      "cell_type": "code",
      "metadata": {
        "id": "AO8zyRnVjf8q",
        "colab_type": "code",
        "colab": {
          "base_uri": "https://localhost:8080/",
          "height": 89
        },
        "outputId": "7d45df48-70c5-40bb-ebe5-ccc53514757d"
      },
      "source": [
        "np.log(0)"
      ],
      "execution_count": 171,
      "outputs": [
        {
          "output_type": "stream",
          "text": [
            "/usr/local/lib/python3.6/dist-packages/ipykernel_launcher.py:1: RuntimeWarning: divide by zero encountered in log\n",
            "  \"\"\"Entry point for launching an IPython kernel.\n"
          ],
          "name": "stderr"
        },
        {
          "output_type": "execute_result",
          "data": {
            "text/plain": [
              "-inf"
            ]
          },
          "metadata": {
            "tags": []
          },
          "execution_count": 171
        }
      ]
    },
    {
      "cell_type": "code",
      "metadata": {
        "id": "Y5WRd5ksjhGx",
        "colab_type": "code",
        "colab": {
          "base_uri": "https://localhost:8080/",
          "height": 35
        },
        "outputId": "6cc7888d-26ab-4578-ddf6-d16ad7ec90e0"
      },
      "source": [
        "np.log(0 + 1e-8)"
      ],
      "execution_count": 172,
      "outputs": [
        {
          "output_type": "execute_result",
          "data": {
            "text/plain": [
              "-18.420680743952367"
            ]
          },
          "metadata": {
            "tags": []
          },
          "execution_count": 172
        }
      ]
    },
    {
      "cell_type": "code",
      "metadata": {
        "id": "f3LALNrkjlDB",
        "colab_type": "code",
        "colab": {}
      },
      "source": [
        "def func(x):\n",
        "  return x ** 2"
      ],
      "execution_count": 173,
      "outputs": []
    },
    {
      "cell_type": "code",
      "metadata": {
        "id": "ng_--quqkqj-",
        "colab_type": "code",
        "colab": {}
      },
      "source": [
        "x = np.arange(-5,5,0.1)"
      ],
      "execution_count": 180,
      "outputs": []
    },
    {
      "cell_type": "code",
      "metadata": {
        "id": "FrVKogPOkuSt",
        "colab_type": "code",
        "colab": {}
      },
      "source": [
        "y = func(x)"
      ],
      "execution_count": 181,
      "outputs": []
    },
    {
      "cell_type": "code",
      "metadata": {
        "id": "CK1gQJdckwFe",
        "colab_type": "code",
        "colab": {
          "base_uri": "https://localhost:8080/",
          "height": 283
        },
        "outputId": "209583d2-5870-4e69-dd92-3e693729d124"
      },
      "source": [
        "plt.plot(x,y)"
      ],
      "execution_count": 182,
      "outputs": [
        {
          "output_type": "execute_result",
          "data": {
            "text/plain": [
              "[<matplotlib.lines.Line2D at 0x7fb80f0d2978>]"
            ]
          },
          "metadata": {
            "tags": []
          },
          "execution_count": 182
        },
        {
          "output_type": "display_data",
          "data": {
            "image/png": "[encoded data removed]",
            "text/plain": [
              "<Figure size 432x288 with 1 Axes>"
            ]
          },
          "metadata": {
            "tags": [],
            "needs_background": "light"
          }
        }
      ]
    },
    {
      "cell_type": "code",
      "metadata": {
        "id": "njOKzPf7kx2d",
        "colab_type": "code",
        "colab": {}
      },
      "source": [
        "def dfunc(f, x):\n",
        "  h = 1e-4\n",
        "  return (f(x+h) - f(x)) / (h)"
      ],
      "execution_count": 183,
      "outputs": []
    },
    {
      "cell_type": "code",
      "metadata": {
        "id": "lKK6EJcxlBAc",
        "colab_type": "code",
        "colab": {
          "base_uri": "https://localhost:8080/",
          "height": 35
        },
        "outputId": "d3d16240-4199-4339-de0a-6649b3d49e4a"
      },
      "source": [
        "dfunc(func, 3)"
      ],
      "execution_count": 184,
      "outputs": [
        {
          "output_type": "execute_result",
          "data": {
            "text/plain": [
              "6.000100000012054"
            ]
          },
          "metadata": {
            "tags": []
          },
          "execution_count": 184
        }
      ]
    },
    {
      "cell_type": "code",
      "metadata": {
        "id": "9C0HO9HUlFOL",
        "colab_type": "code",
        "colab": {}
      },
      "source": [
        "def dfunc2(f, x):\n",
        "  h = 1e-40\n",
        "  return (f(x+h) - f(x)) / (h)"
      ],
      "execution_count": 185,
      "outputs": []
    },
    {
      "cell_type": "code",
      "metadata": {
        "id": "Vge_BDPrlMG7",
        "colab_type": "code",
        "colab": {
          "base_uri": "https://localhost:8080/",
          "height": 35
        },
        "outputId": "ff8d3058-a75f-4162-878d-e460344a93af"
      },
      "source": [
        "dfunc2(func, 3)"
      ],
      "execution_count": 186,
      "outputs": [
        {
          "output_type": "execute_result",
          "data": {
            "text/plain": [
              "0.0"
            ]
          },
          "metadata": {
            "tags": []
          },
          "execution_count": 186
        }
      ]
    },
    {
      "cell_type": "code",
      "metadata": {
        "id": "0oTThf_blNZB",
        "colab_type": "code",
        "colab": {}
      },
      "source": [
        "# 切線函數\n",
        "def tfunc(f, x, t):\n",
        "  d = dfunc(f, x)\n",
        "  y = f(x) - d*x\n",
        "  return d*t + y"
      ],
      "execution_count": 187,
      "outputs": []
    },
    {
      "cell_type": "code",
      "metadata": {
        "id": "_7cru1XDleyr",
        "colab_type": "code",
        "colab": {
          "base_uri": "https://localhost:8080/",
          "height": 283
        },
        "outputId": "26119bac-105e-459a-da8e-910ed2534492"
      },
      "source": [
        "# 繪製x ^ 2\n",
        "x = np.arange(-6, 6, 0.01)\n",
        "y = func(x)\n",
        "plt.plot(x, y)\n",
        "\n",
        "# 繪製x = 3 時的切線\n",
        "x2 = np.arange(0, 5, 0.01)\n",
        "y2 = tfunc(func, 3, x2)\n",
        "plt.plot(x2, y2)"
      ],
      "execution_count": 189,
      "outputs": [
        {
          "output_type": "execute_result",
          "data": {
            "text/plain": [
              "[<matplotlib.lines.Line2D at 0x7fb80efefda0>]"
            ]
          },
          "metadata": {
            "tags": []
          },
          "execution_count": 189
        },
        {
          "output_type": "display_data",
          "data": {
            "image/png": "[encoded data removed]",
            "text/plain": [
              "<Figure size 432x288 with 1 Axes>"
            ]
          },
          "metadata": {
            "tags": [],
            "needs_background": "light"
          }
        }
      ]
    },
    {
      "cell_type": "code",
      "metadata": {
        "id": "Kxdgkh4Qlg4q",
        "colab_type": "code",
        "colab": {}
      },
      "source": [
        "def dfunc(f, x):\n",
        "  h = 1e-4\n",
        "  return (f(x+h) - f(x-h)) / (2*h)"
      ],
      "execution_count": 190,
      "outputs": []
    },
    {
      "cell_type": "code",
      "metadata": {
        "id": "8oE1MllAl0fa",
        "colab_type": "code",
        "colab": {
          "base_uri": "https://localhost:8080/",
          "height": 35
        },
        "outputId": "df5a3bb1-91f1-44a1-e668-c41fc4d89e0f"
      },
      "source": [
        "dfunc(func, 3)"
      ],
      "execution_count": 191,
      "outputs": [
        {
          "output_type": "execute_result",
          "data": {
            "text/plain": [
              "6.000000000012662"
            ]
          },
          "metadata": {
            "tags": []
          },
          "execution_count": 191
        }
      ]
    },
    {
      "cell_type": "code",
      "metadata": {
        "id": "RpTN-6Xnl13q",
        "colab_type": "code",
        "colab": {
          "base_uri": "https://localhost:8080/",
          "height": 283
        },
        "outputId": "ca8585fd-fa15-4daf-f7ee-3d7328539626"
      },
      "source": [
        "x = np.arange(-6,6,0.1)\n",
        "y = func(x)\n",
        "plt.plot(x,y)\n",
        "\n",
        "p = 3\n",
        "ary = [p]\n",
        "newp = p - dfunc(func, 3)\n",
        "ary.append(newp)\n",
        "plt.plot(x,y, c='blue')\n",
        "plt.plot(np.array(ary),func(np.array(ary)), c='red')"
      ],
      "execution_count": 195,
      "outputs": [
        {
          "output_type": "execute_result",
          "data": {
            "text/plain": [
              "[<matplotlib.lines.Line2D at 0x7fb80eef0da0>]"
            ]
          },
          "metadata": {
            "tags": []
          },
          "execution_count": 195
        },
        {
          "output_type": "display_data",
          "data": {
            "image/png": "[encoded data removed]",
            "text/plain": [
              "<Figure size 432x288 with 1 Axes>"
            ]
          },
          "metadata": {
            "tags": [],
            "needs_background": "light"
          }
        }
      ]
    },
    {
      "cell_type": "code",
      "metadata": {
        "id": "jQe9eEkqmlc3",
        "colab_type": "code",
        "colab": {
          "base_uri": "https://localhost:8080/",
          "height": 283
        },
        "outputId": "e1e3f8e2-d80e-4aa3-f622-6a94b93f9030"
      },
      "source": [
        "x = np.arange(-6,6,0.1)\n",
        "y = func(x)\n",
        "plt.plot(x,y)\n",
        "\n",
        "p = 3\n",
        "ary = [p]\n",
        "for i in range(10):\n",
        "  p = p - dfunc(func, p)\n",
        "  ary.append(p)\n",
        "\n",
        "plt.plot(x,y, c='blue')\n",
        "plt.plot(np.array(ary),func(np.array(ary)), c='red')"
      ],
      "execution_count": 198,
      "outputs": [
        {
          "output_type": "execute_result",
          "data": {
            "text/plain": [
              "[<matplotlib.lines.Line2D at 0x7fb80ee11438>]"
            ]
          },
          "metadata": {
            "tags": []
          },
          "execution_count": 198
        },
        {
          "output_type": "display_data",
          "data": {
            "image/png": "[encoded data removed]",
            "text/plain": [
              "<Figure size 432x288 with 1 Axes>"
            ]
          },
          "metadata": {
            "tags": [],
            "needs_background": "light"
          }
        }
      ]
    },
    {
      "cell_type": "code",
      "metadata": {
        "id": "LeBN5Jw6nWh6",
        "colab_type": "code",
        "colab": {
          "base_uri": "https://localhost:8080/",
          "height": 283
        },
        "outputId": "514bea30-a62e-4299-ce88-e7d1d39d3406"
      },
      "source": [
        "x = np.arange(-6,6,0.1)\n",
        "y = func(x)\n",
        "plt.plot(x,y)\n",
        "\n",
        "p = 3\n",
        "ary = [p]\n",
        "for i in range(10):\n",
        "  p = p - dfunc(func, p) * 0.8\n",
        "  ary.append(p)\n",
        "\n",
        "plt.plot(x,y, c='blue')\n",
        "plt.plot(np.array(ary),func(np.array(ary)), c='red')"
      ],
      "execution_count": 200,
      "outputs": [
        {
          "output_type": "execute_result",
          "data": {
            "text/plain": [
              "[<matplotlib.lines.Line2D at 0x7fb80eddb748>]"
            ]
          },
          "metadata": {
            "tags": []
          },
          "execution_count": 200
        },
        {
          "output_type": "display_data",
          "data": {
            "image/png": "[encoded data removed]",
            "text/plain": [
              "<Figure size 432x288 with 1 Axes>"
            ]
          },
          "metadata": {
            "tags": [],
            "needs_background": "light"
          }
        }
      ]
    },
    {
      "cell_type": "code",
      "metadata": {
        "id": "KiFsLyM8nna2",
        "colab_type": "code",
        "colab": {
          "base_uri": "https://localhost:8080/",
          "height": 35
        },
        "outputId": "3cc612e3-3ee2-454a-cc74-f41356be7cfe"
      },
      "source": [
        "x = 3\n",
        "g = 6\n",
        "\n",
        "3 - 6 * 0.8"
      ],
      "execution_count": 201,
      "outputs": [
        {
          "output_type": "execute_result",
          "data": {
            "text/plain": [
              "-1.8000000000000007"
            ]
          },
          "metadata": {
            "tags": []
          },
          "execution_count": 201
        }
      ]
    },
    {
      "cell_type": "code",
      "metadata": {
        "id": "olhkqJAvn4Th",
        "colab_type": "code",
        "colab": {
          "base_uri": "https://localhost:8080/",
          "height": 35
        },
        "outputId": "020ba9b6-9c2e-42e8-eb17-584398b5a2bb"
      },
      "source": [
        "x = -1.8\n",
        "g = -3.6\n",
        "-1.8 - (-3.6 * 0.8)"
      ],
      "execution_count": 202,
      "outputs": [
        {
          "output_type": "execute_result",
          "data": {
            "text/plain": [
              "1.0800000000000003"
            ]
          },
          "metadata": {
            "tags": []
          },
          "execution_count": 202
        }
      ]
    },
    {
      "cell_type": "code",
      "metadata": {
        "id": "tI6xjxp8oBPx",
        "colab_type": "code",
        "colab": {}
      },
      "source": [
        "def gradient_descent(func, init_x, lr = 0.3, epochs = 100):\n",
        "  x = init_x\n",
        "  res = [x]\n",
        "  for i in range(epochs):\n",
        "    grad = dfunc(func,x)\n",
        "    x = x - grad * lr\n",
        "    res.append(x)\n",
        "  return np.array(res)"
      ],
      "execution_count": 203,
      "outputs": []
    },
    {
      "cell_type": "code",
      "metadata": {
        "id": "HEalor2CoL9x",
        "colab_type": "code",
        "colab": {}
      },
      "source": [
        "x = gradient_descent(func, -5, lr=0.8)"
      ],
      "execution_count": 204,
      "outputs": []
    },
    {
      "cell_type": "code",
      "metadata": {
        "id": "91XAp_APoPux",
        "colab_type": "code",
        "colab": {
          "base_uri": "https://localhost:8080/",
          "height": 283
        },
        "outputId": "d1714bc8-f378-4838-87da-29a192e97b2d"
      },
      "source": [
        "t = np.arange(-6.0, 6.0, 0.01)\n",
        "plt.plot(t, func(t), c='b')\n",
        "plt.plot(x, func(x), c='r')\n",
        "plt.scatter(x, func(x), c='r')"
      ],
      "execution_count": 206,
      "outputs": [
        {
          "output_type": "execute_result",
          "data": {
            "text/plain": [
              "<matplotlib.collections.PathCollection at 0x7fb80ec2a9e8>"
            ]
          },
          "metadata": {
            "tags": []
          },
          "execution_count": 206
        },
        {
          "output_type": "display_data",
          "data": {
            "image/png": "[encoded data removed]",
            "text/plain": [
              "<Figure size 432x288 with 1 Axes>"
            ]
          },
          "metadata": {
            "tags": [],
            "needs_background": "light"
          }
        }
      ]
    },
    {
      "cell_type": "code",
      "metadata": {
        "id": "k-eCvJXIoTmw",
        "colab_type": "code",
        "colab": {
          "base_uri": "https://localhost:8080/",
          "height": 283
        },
        "outputId": "469f86b1-88bb-44b8-d953-3ec769f9bcae"
      },
      "source": [
        "x = gradient_descent(func, -5, lr=1)\n",
        "t = np.arange(-6.0, 6.0, 0.01)\n",
        "plt.plot(t, func(t), c='b')\n",
        "plt.plot(x, func(x), c='r')\n",
        "plt.scatter(x, func(x), c='r')"
      ],
      "execution_count": 207,
      "outputs": [
        {
          "output_type": "execute_result",
          "data": {
            "text/plain": [
              "<matplotlib.collections.PathCollection at 0x7fb80f4c4128>"
            ]
          },
          "metadata": {
            "tags": []
          },
          "execution_count": 207
        },
        {
          "output_type": "display_data",
          "data": {
            "image/png": "[encoded data removed]",
            "text/plain": [
              "<Figure size 432x288 with 1 Axes>"
            ]
          },
          "metadata": {
            "tags": [],
            "needs_background": "light"
          }
        }
      ]
    },
    {
      "cell_type": "code",
      "metadata": {
        "id": "w2j4zyLyokOf",
        "colab_type": "code",
        "colab": {
          "base_uri": "https://localhost:8080/",
          "height": 283
        },
        "outputId": "5bd251eb-43bf-445e-df6a-4ef7ba25092e"
      },
      "source": [
        "x = gradient_descent(func, -5, lr=0.8)\n",
        "t = np.arange(-6.0, 6.0, 0.01)\n",
        "plt.plot(t, func(t), c='b')\n",
        "plt.plot(x, func(x), c='r')\n",
        "plt.scatter(x, func(x), c='r')"
      ],
      "execution_count": 208,
      "outputs": [
        {
          "output_type": "execute_result",
          "data": {
            "text/plain": [
              "<matplotlib.collections.PathCollection at 0x7fb80ef93b38>"
            ]
          },
          "metadata": {
            "tags": []
          },
          "execution_count": 208
        },
        {
          "output_type": "display_data",
          "data": {
            "image/png": "[encoded data removed]",
            "text/plain": [
              "<Figure size 432x288 with 1 Axes>"
            ]
          },
          "metadata": {
            "tags": [],
            "needs_background": "light"
          }
        }
      ]
    },
    {
      "cell_type": "code",
      "metadata": {
        "id": "Mb_Iytudon7v",
        "colab_type": "code",
        "colab": {
          "base_uri": "https://localhost:8080/",
          "height": 283
        },
        "outputId": "36fecc41-a28c-4bc1-9275-2bc02fd54952"
      },
      "source": [
        "x = gradient_descent(func, -5, lr=0.1)\n",
        "t = np.arange(-6.0, 6.0, 0.01)\n",
        "plt.plot(t, func(t), c='b')\n",
        "plt.plot(x, func(x), c='r')\n",
        "plt.scatter(x, func(x), c='r')"
      ],
      "execution_count": 209,
      "outputs": [
        {
          "output_type": "execute_result",
          "data": {
            "text/plain": [
              "<matplotlib.collections.PathCollection at 0x7fb80ebf53c8>"
            ]
          },
          "metadata": {
            "tags": []
          },
          "execution_count": 209
        },
        {
          "output_type": "display_data",
          "data": {
            "image/png": "[encoded data removed]",
            "text/plain": [
              "<Figure size 432x288 with 1 Axes>"
            ]
          },
          "metadata": {
            "tags": [],
            "needs_background": "light"
          }
        }
      ]
    },
    {
      "cell_type": "code",
      "metadata": {
        "id": "Tp54oedvoqsv",
        "colab_type": "code",
        "colab": {}
      },
      "source": [
        "#dir()"
      ],
      "execution_count": 216,
      "outputs": []
    },
    {
      "cell_type": "code",
      "metadata": {
        "id": "A2qOF0u0pQHd",
        "colab_type": "code",
        "colab": {
          "base_uri": "https://localhost:8080/",
          "height": 105
        },
        "outputId": "35de49e1-3de5-4308-f48a-1ef2802e4364"
      },
      "source": [
        "import gdown, os\n",
        "file_id = \"1efHsY16pxK0lBD2gYCgCTnv1Swstq771\"\n",
        "url = f\"https://drive.google.com/uc?id={file_id}\"\n",
        "data_zip = os.path.join('/content/', \"data.zip\")\n",
        "gdown.download(url, data_zip, quiet=False)\n",
        "    "
      ],
      "execution_count": 215,
      "outputs": [
        {
          "output_type": "stream",
          "text": [
            "Downloading...\n",
            "From: https://drive.google.com/uc?id=1efHsY16pxK0lBD2gYCgCTnv1Swstq771\n",
            "To: /content/data.zip\n",
            "1.88GB [00:20, 90.7MB/s]\n"
          ],
          "name": "stderr"
        },
        {
          "output_type": "execute_result",
          "data": {
            "application/vnd.google.colaboratory.intrinsic": {
              "type": "string"
            },
            "text/plain": [
              "'/content/data.zip'"
            ]
          },
          "metadata": {
            "tags": []
          },
          "execution_count": 215
        }
      ]
    },
    {
      "cell_type": "code",
      "metadata": {
        "id": "kz3NwUTltxPu",
        "colab_type": "code",
        "colab": {
          "base_uri": "https://localhost:8080/",
          "height": 35
        },
        "outputId": "2ad0e7ca-894b-4007-9595-26b1cff0892a"
      },
      "source": [
        "np.random.seed(42)\n",
        "np.random.randint(100)"
      ],
      "execution_count": 224,
      "outputs": [
        {
          "output_type": "execute_result",
          "data": {
            "text/plain": [
              "51"
            ]
          },
          "metadata": {
            "tags": []
          },
          "execution_count": 224
        }
      ]
    },
    {
      "cell_type": "code",
      "metadata": {
        "id": "wl2mO-H2uTcb",
        "colab_type": "code",
        "colab": {}
      },
      "source": [
        "def cross_entropy_err(y_hat, y):\n",
        "  delta = 1e-8\n",
        "  return -np.sum(y*np.log(y_hat + delta))"
      ],
      "execution_count": 230,
      "outputs": []
    },
    {
      "cell_type": "code",
      "metadata": {
        "id": "R7vW6TnAqYZr",
        "colab_type": "code",
        "colab": {}
      },
      "source": [
        "x = np.array([0.6, 0.9])\n",
        "np.random.seed(42)\n",
        "weight = np.random.randn(2,3)\n",
        "z = np.dot(x, weight)"
      ],
      "execution_count": 226,
      "outputs": []
    },
    {
      "cell_type": "code",
      "metadata": {
        "id": "-hpxtn8quCub",
        "colab_type": "code",
        "colab": {}
      },
      "source": [
        "y_hat = softmax_function(z)"
      ],
      "execution_count": 227,
      "outputs": []
    },
    {
      "cell_type": "code",
      "metadata": {
        "id": "fxG7jj24uLXr",
        "colab_type": "code",
        "colab": {
          "base_uri": "https://localhost:8080/",
          "height": 35
        },
        "outputId": "cc0e9e58-cf76-46ea-fa44-24e34beff0e7"
      },
      "source": [
        "y_hat"
      ],
      "execution_count": 228,
      "outputs": [
        {
          "output_type": "execute_result",
          "data": {
            "text/plain": [
              "array([0.73222998, 0.10288817, 0.16488185])"
            ]
          },
          "metadata": {
            "tags": []
          },
          "execution_count": 228
        }
      ]
    },
    {
      "cell_type": "code",
      "metadata": {
        "id": "mHNi-MffuML7",
        "colab_type": "code",
        "colab": {}
      },
      "source": [
        "y = np.array([0, 0, 1])"
      ],
      "execution_count": 231,
      "outputs": []
    },
    {
      "cell_type": "code",
      "metadata": {
        "id": "kme0zsVMuPH6",
        "colab_type": "code",
        "colab": {
          "base_uri": "https://localhost:8080/",
          "height": 35
        },
        "outputId": "8ee3fb71-3c1a-4395-a2c2-32f885128ec2"
      },
      "source": [
        "cross_entropy_err(y_hat, y)"
      ],
      "execution_count": 232,
      "outputs": [
        {
          "output_type": "execute_result",
          "data": {
            "text/plain": [
              "1.8025260716416405"
            ]
          },
          "metadata": {
            "tags": []
          },
          "execution_count": 232
        }
      ]
    },
    {
      "cell_type": "code",
      "metadata": {
        "id": "hbL1SSM-uY97",
        "colab_type": "code",
        "colab": {}
      },
      "source": [
        "def dfunc(f, x):\n",
        "  h = 1e-4\n",
        "  grad = np.zeros_like(x)\n",
        "  it = np.nditer(x, flags=['multi_index'])\n",
        "  while not it.finished:\n",
        "    idx = it.multi_index\n",
        "    tmp_val = x[idx]\n",
        "    x[idx] = float(tmp_val) + h\n",
        "    fxh1 = f(x) # f(x+h)\n",
        "    x[idx] = tmp_val - h\n",
        "    fxh2 = f(x) # f(x-h)\n",
        "    grad[idx] = (fxh1 - fxh2) / (2*h)\n",
        "    x[idx] = tmp_val\n",
        "    it.iternext()\n",
        "  return grad"
      ],
      "execution_count": 233,
      "outputs": []
    },
    {
      "cell_type": "code",
      "metadata": {
        "id": "6l4wvq2nurYp",
        "colab_type": "code",
        "colab": {
          "base_uri": "https://localhost:8080/",
          "height": 52
        },
        "outputId": "91a48cfc-0bf5-4d36-99f1-7ff150eb6918"
      },
      "source": [
        "weight"
      ],
      "execution_count": 238,
      "outputs": [
        {
          "output_type": "execute_result",
          "data": {
            "text/plain": [
              "array([[ 0.49671415, -0.1382643 ,  0.64768854],\n",
              "       [ 1.52302986, -0.23415337, -0.23413696]])"
            ]
          },
          "metadata": {
            "tags": []
          },
          "execution_count": 238
        }
      ]
    },
    {
      "cell_type": "code",
      "metadata": {
        "id": "Dx01AOYnu5I4",
        "colab_type": "code",
        "colab": {
          "base_uri": "https://localhost:8080/",
          "height": 121
        },
        "outputId": "804422d3-6761-406c-f190-08a7a80b2875"
      },
      "source": [
        "it = np.nditer(weight, flags=['multi_index'])\n",
        "while not it.finished:\n",
        "  idx = it.multi_index\n",
        "  print(idx, weight[idx])\n",
        "  it.iternext()"
      ],
      "execution_count": 239,
      "outputs": [
        {
          "output_type": "stream",
          "text": [
            "(0, 0) 0.4967141530112327\n",
            "(0, 1) -0.13826430117118466\n",
            "(0, 2) 0.6476885381006925\n",
            "(1, 0) 1.5230298564080254\n",
            "(1, 1) -0.23415337472333597\n",
            "(1, 2) -0.23413695694918055\n"
          ],
          "name": "stdout"
        }
      ]
    },
    {
      "cell_type": "code",
      "metadata": {
        "id": "X4qPQp_iu8dY",
        "colab_type": "code",
        "colab": {}
      },
      "source": [
        "def predict(x):\n",
        "  return np.dot(x, weight)"
      ],
      "execution_count": 240,
      "outputs": []
    },
    {
      "cell_type": "code",
      "metadata": {
        "id": "MxZf_Pi5vED4",
        "colab_type": "code",
        "colab": {}
      },
      "source": [
        "def loss(x, y):\n",
        "  z = predict(x)\n",
        "  y_hat = softmax_function(z)\n",
        "  loss = cross_entropy_err(y_hat, y)\n",
        "  return loss"
      ],
      "execution_count": 241,
      "outputs": []
    },
    {
      "cell_type": "code",
      "metadata": {
        "id": "sjoviTItvi0M",
        "colab_type": "code",
        "colab": {}
      },
      "source": [
        "func = lambda w: loss(x, y)"
      ],
      "execution_count": 242,
      "outputs": []
    },
    {
      "cell_type": "code",
      "metadata": {
        "id": "zxHfh17pvsj1",
        "colab_type": "code",
        "colab": {
          "base_uri": "https://localhost:8080/",
          "height": 52
        },
        "outputId": "fdc25f71-eb5b-4c4b-d653-9c12d3e88b75"
      },
      "source": [
        "dfunc(func, weight)"
      ],
      "execution_count": 243,
      "outputs": [
        {
          "output_type": "execute_result",
          "data": {
            "text/plain": [
              "array([[ 0.43933796,  0.0617329 , -0.50107086],\n",
              "       [ 0.65900694,  0.09259935, -0.75160629]])"
            ]
          },
          "metadata": {
            "tags": []
          },
          "execution_count": 243
        }
      ]
    },
    {
      "cell_type": "code",
      "metadata": {
        "id": "UyGg0zwavt_l",
        "colab_type": "code",
        "colab": {
          "base_uri": "https://localhost:8080/",
          "height": 52
        },
        "outputId": "d3765c39-b520-4561-ef36-7b946d18f375"
      },
      "source": [
        "lr = 0.01 \n",
        "weight - dfunc(func, weight) * lr"
      ],
      "execution_count": 244,
      "outputs": [
        {
          "output_type": "execute_result",
          "data": {
            "text/plain": [
              "array([[ 0.49232077, -0.13888163,  0.65269925],\n",
              "       [ 1.51643979, -0.23507937, -0.22662089]])"
            ]
          },
          "metadata": {
            "tags": []
          },
          "execution_count": 244
        }
      ]
    },
    {
      "cell_type": "markdown",
      "metadata": {
        "id": "JXfMTatMxH-a",
        "colab_type": "text"
      },
      "source": [
        "## 訓練神經網路"
      ]
    },
    {
      "cell_type": "code",
      "metadata": {
        "id": "ZWKx0ielvzkl",
        "colab_type": "code",
        "colab": {}
      },
      "source": [
        "import numpy as np"
      ],
      "execution_count": 245,
      "outputs": []
    },
    {
      "cell_type": "code",
      "metadata": {
        "id": "H4PrSpUVxOdA",
        "colab_type": "code",
        "colab": {}
      },
      "source": [
        "def softmax_function(x):\n",
        "    return np.exp(x) / np.sum(np.exp(x))\n",
        "\n",
        "def sigmoid_function(x):\n",
        "    return 1/ (1 + np.exp(-x))\n",
        "\n",
        "def dfunc(f, x):\n",
        "    h = 1e-4 \n",
        "    grad = np.zeros_like(x)\n",
        "    it = np.nditer(x, flags=['multi_index'])\n",
        "    while not it.finished:     \n",
        "        idx = it.multi_index\n",
        "        tmp_val = x[idx]\n",
        "        x[idx] = float(tmp_val) + h\n",
        "        fxh1 = f(x) # f(x+h)\n",
        "        x[idx] = tmp_val - h \n",
        "        fxh2 = f(x) # f(x-h)\n",
        "        grad[idx] = (fxh1 - fxh2) / (2*h)\n",
        "        x[idx] = tmp_val\n",
        "        it.iternext()   \n",
        "    return grad\n",
        "\n",
        "def cross_entropy_err(y_hat, y):\n",
        "    delta = 1e-8\n",
        "    return -np.sum(y*np.log(y_hat + delta))"
      ],
      "execution_count": 246,
      "outputs": []
    },
    {
      "cell_type": "code",
      "metadata": {
        "id": "ov0y6wKoxQvQ",
        "colab_type": "code",
        "colab": {}
      },
      "source": [
        "class ANN:\n",
        "    def __init__(self, input_size, hidden_size, output_size, weight_init_std=0.01):\n",
        "        self.params = {}\n",
        "        self.params['W1'] = weight_init_std * np.random.randn(input_size, hidden_size)\n",
        "        self.params['b1'] = np.zeros(hidden_size)\n",
        "        self.params['W2'] = weight_init_std * np.random.randn(hidden_size, output_size)\n",
        "        self.params['b2'] = np.zeros(output_size)\n",
        " \n",
        "    def predict(self, x):\n",
        "        W1, W2 = self.params['W1'], self.params['W2']\n",
        "        b1, b2 = self.params['b1'], self.params['b2']\n",
        "        a1 = np.dot(x, W1) + b1\n",
        "        z1 = sigmoid_function(a1)\n",
        "        a2 = np.dot(z1, W2) + b2\n",
        "        y = softmax_function(a2)\n",
        "        return y\n",
        "        \n",
        "    def loss(self, x, y):\n",
        "        y_hat = self.predict(x)\n",
        "        return cross_entropy_err(y_hat, y)\n",
        "        \n",
        "    def numerical_gradient(self, x, y):\n",
        "        loss_W = lambda W: self.loss(x, y)\n",
        "        grads = {}\n",
        "        grads['W1'] = dfunc(loss_W, self.params['W1'])\n",
        "        grads['b1'] = dfunc(loss_W, self.params['b1'])\n",
        "        grads['W2'] = dfunc(loss_W, self.params['W2'])\n",
        "        grads['b2'] = dfunc(loss_W, self.params['b2'])\n",
        "        return grads"
      ],
      "execution_count": 247,
      "outputs": []
    },
    {
      "cell_type": "code",
      "metadata": {
        "id": "zl2a-n18xxwU",
        "colab_type": "code",
        "colab": {}
      },
      "source": [
        "net = ANN(input_size=4, hidden_size=5, output_size=3)"
      ],
      "execution_count": 248,
      "outputs": []
    },
    {
      "cell_type": "code",
      "metadata": {
        "id": "eyJCm0Hpx3ge",
        "colab_type": "code",
        "colab": {
          "base_uri": "https://localhost:8080/",
          "height": 87
        },
        "outputId": "f0304129-176b-405a-a1ab-e5f40932ae78"
      },
      "source": [
        "net.params['W1']"
      ],
      "execution_count": 250,
      "outputs": [
        {
          "output_type": "execute_result",
          "data": {
            "text/plain": [
              "array([[ 0.01579213,  0.00767435, -0.00469474,  0.0054256 , -0.00463418],\n",
              "       [-0.0046573 ,  0.00241962, -0.0191328 , -0.01724918, -0.00562288],\n",
              "       [-0.01012831,  0.00314247, -0.00908024, -0.01412304,  0.01465649],\n",
              "       [-0.00225776,  0.00067528, -0.01424748, -0.00544383,  0.00110923]])"
            ]
          },
          "metadata": {
            "tags": []
          },
          "execution_count": 250
        }
      ]
    },
    {
      "cell_type": "code",
      "metadata": {
        "id": "I0AEJh7hx9l9",
        "colab_type": "code",
        "colab": {
          "base_uri": "https://localhost:8080/",
          "height": 35
        },
        "outputId": "92b288ea-8ce2-455a-ff02-7713471604bc"
      },
      "source": [
        "net.params['b1']"
      ],
      "execution_count": 251,
      "outputs": [
        {
          "output_type": "execute_result",
          "data": {
            "text/plain": [
              "array([0., 0., 0., 0., 0.])"
            ]
          },
          "metadata": {
            "tags": []
          },
          "execution_count": 251
        }
      ]
    },
    {
      "cell_type": "code",
      "metadata": {
        "id": "0JlbwUe8yA79",
        "colab_type": "code",
        "colab": {
          "base_uri": "https://localhost:8080/",
          "height": 35
        },
        "outputId": "9d99de56-01d5-4e00-a77c-95f73064414b"
      },
      "source": [
        "net.params['W1'].shape"
      ],
      "execution_count": 252,
      "outputs": [
        {
          "output_type": "execute_result",
          "data": {
            "text/plain": [
              "(4, 5)"
            ]
          },
          "metadata": {
            "tags": []
          },
          "execution_count": 252
        }
      ]
    },
    {
      "cell_type": "code",
      "metadata": {
        "id": "pGlnuLCEyDTt",
        "colab_type": "code",
        "colab": {
          "base_uri": "https://localhost:8080/",
          "height": 35
        },
        "outputId": "7a527d4c-ca3d-469a-b6ba-3a108ce4bef0"
      },
      "source": [
        "net.params['b1'].shape"
      ],
      "execution_count": 253,
      "outputs": [
        {
          "output_type": "execute_result",
          "data": {
            "text/plain": [
              "(5,)"
            ]
          },
          "metadata": {
            "tags": []
          },
          "execution_count": 253
        }
      ]
    },
    {
      "cell_type": "code",
      "metadata": {
        "id": "s7Szge72yEzN",
        "colab_type": "code",
        "colab": {
          "base_uri": "https://localhost:8080/",
          "height": 104
        },
        "outputId": "f02a7693-358e-4132-a011-bb89e9e5e72a"
      },
      "source": [
        "net.params['W2']"
      ],
      "execution_count": 254,
      "outputs": [
        {
          "output_type": "execute_result",
          "data": {
            "text/plain": [
              "array([[-0.01150994,  0.00375698, -0.00600639],\n",
              "       [-0.00291694, -0.00601707,  0.01852278],\n",
              "       [-0.00013497, -0.01057711,  0.00822545],\n",
              "       [-0.01220844,  0.00208864, -0.0195967 ],\n",
              "       [-0.01328186,  0.00196861,  0.00738467]])"
            ]
          },
          "metadata": {
            "tags": []
          },
          "execution_count": 254
        }
      ]
    },
    {
      "cell_type": "code",
      "metadata": {
        "id": "mkLuENu1yGdt",
        "colab_type": "code",
        "colab": {
          "base_uri": "https://localhost:8080/",
          "height": 35
        },
        "outputId": "8acce02b-0300-4fec-892f-dff2c58836ca"
      },
      "source": [
        "net.params['W2'].shape"
      ],
      "execution_count": 255,
      "outputs": [
        {
          "output_type": "execute_result",
          "data": {
            "text/plain": [
              "(5, 3)"
            ]
          },
          "metadata": {
            "tags": []
          },
          "execution_count": 255
        }
      ]
    },
    {
      "cell_type": "code",
      "metadata": {
        "id": "5AYfD8PdyIMN",
        "colab_type": "code",
        "colab": {
          "base_uri": "https://localhost:8080/",
          "height": 35
        },
        "outputId": "6ad483e5-9bde-4a33-ed46-1f919b0771c7"
      },
      "source": [
        "net.params['b2']"
      ],
      "execution_count": 256,
      "outputs": [
        {
          "output_type": "execute_result",
          "data": {
            "text/plain": [
              "array([0., 0., 0.])"
            ]
          },
          "metadata": {
            "tags": []
          },
          "execution_count": 256
        }
      ]
    },
    {
      "cell_type": "code",
      "metadata": {
        "id": "1yJqSBdvyJ3t",
        "colab_type": "code",
        "colab": {
          "base_uri": "https://localhost:8080/",
          "height": 35
        },
        "outputId": "49b565fa-04a1-4188-b35f-db17b1c49e8f"
      },
      "source": [
        "net.params['b2'].shape"
      ],
      "execution_count": 257,
      "outputs": [
        {
          "output_type": "execute_result",
          "data": {
            "text/plain": [
              "(3,)"
            ]
          },
          "metadata": {
            "tags": []
          },
          "execution_count": 257
        }
      ]
    },
    {
      "cell_type": "code",
      "metadata": {
        "id": "jPFiyXmvyKvM",
        "colab_type": "code",
        "colab": {}
      },
      "source": [
        "from sklearn.datasets import load_iris\n",
        "iris = load_iris()\n",
        "x= iris.data"
      ],
      "execution_count": 258,
      "outputs": []
    },
    {
      "cell_type": "code",
      "metadata": {
        "id": "ZWQ7-EF5yOst",
        "colab_type": "code",
        "colab": {
          "base_uri": "https://localhost:8080/",
          "height": 35
        },
        "outputId": "dda515c3-d466-4d46-8a90-c756d2732738"
      },
      "source": [
        "x.shape"
      ],
      "execution_count": 259,
      "outputs": [
        {
          "output_type": "execute_result",
          "data": {
            "text/plain": [
              "(150, 4)"
            ]
          },
          "metadata": {
            "tags": []
          },
          "execution_count": 259
        }
      ]
    },
    {
      "cell_type": "code",
      "metadata": {
        "id": "WeMvJADJyQNt",
        "colab_type": "code",
        "colab": {
          "base_uri": "https://localhost:8080/",
          "height": 35
        },
        "outputId": "a11a1856-33b6-4d1a-8d46-775103e3d598"
      },
      "source": [
        "iris.target.shape"
      ],
      "execution_count": 260,
      "outputs": [
        {
          "output_type": "execute_result",
          "data": {
            "text/plain": [
              "(150,)"
            ]
          },
          "metadata": {
            "tags": []
          },
          "execution_count": 260
        }
      ]
    },
    {
      "cell_type": "code",
      "metadata": {
        "id": "RNGZseZDySft",
        "colab_type": "code",
        "colab": {
          "base_uri": "https://localhost:8080/",
          "height": 139
        },
        "outputId": "598b3c28-6c4c-4850-bebb-e2ee8a4b34ce"
      },
      "source": [
        "iris.target"
      ],
      "execution_count": 261,
      "outputs": [
        {
          "output_type": "execute_result",
          "data": {
            "text/plain": [
              "array([0, 0, 0, 0, 0, 0, 0, 0, 0, 0, 0, 0, 0, 0, 0, 0, 0, 0, 0, 0, 0, 0,\n",
              "       0, 0, 0, 0, 0, 0, 0, 0, 0, 0, 0, 0, 0, 0, 0, 0, 0, 0, 0, 0, 0, 0,\n",
              "       0, 0, 0, 0, 0, 0, 1, 1, 1, 1, 1, 1, 1, 1, 1, 1, 1, 1, 1, 1, 1, 1,\n",
              "       1, 1, 1, 1, 1, 1, 1, 1, 1, 1, 1, 1, 1, 1, 1, 1, 1, 1, 1, 1, 1, 1,\n",
              "       1, 1, 1, 1, 1, 1, 1, 1, 1, 1, 1, 1, 2, 2, 2, 2, 2, 2, 2, 2, 2, 2,\n",
              "       2, 2, 2, 2, 2, 2, 2, 2, 2, 2, 2, 2, 2, 2, 2, 2, 2, 2, 2, 2, 2, 2,\n",
              "       2, 2, 2, 2, 2, 2, 2, 2, 2, 2, 2, 2, 2, 2, 2, 2, 2, 2])"
            ]
          },
          "metadata": {
            "tags": []
          },
          "execution_count": 261
        }
      ]
    },
    {
      "cell_type": "code",
      "metadata": {
        "id": "VpmgHj-oybwb",
        "colab_type": "code",
        "colab": {}
      },
      "source": [
        "y = np.zeros((len(iris.target), 3))\n",
        "for idx, val in enumerate(iris.target):\n",
        "  y[idx, val] = 1"
      ],
      "execution_count": 264,
      "outputs": []
    },
    {
      "cell_type": "code",
      "metadata": {
        "id": "Ts8wCt1-ynQK",
        "colab_type": "code",
        "colab": {}
      },
      "source": [
        "#y"
      ],
      "execution_count": 266,
      "outputs": []
    },
    {
      "cell_type": "code",
      "metadata": {
        "id": "tfmJB8zqyygK",
        "colab_type": "code",
        "colab": {}
      },
      "source": [
        "y_hat = net.predict(x)"
      ],
      "execution_count": 267,
      "outputs": []
    },
    {
      "cell_type": "code",
      "metadata": {
        "id": "GFul-tVezB1p",
        "colab_type": "code",
        "colab": {}
      },
      "source": [
        "#y - y_hat"
      ],
      "execution_count": 270,
      "outputs": []
    },
    {
      "cell_type": "code",
      "metadata": {
        "id": "xZSNOb5hzCka",
        "colab_type": "code",
        "colab": {
          "base_uri": "https://localhost:8080/",
          "height": 35
        },
        "outputId": "854f4593-b830-49a4-f1ce-b64c6cda3f38"
      },
      "source": [
        "import time\n",
        "a = time.clock()\n",
        "epochs = 3000\n",
        "lr     = 0.01\n",
        "\n",
        "train_loss = []\n",
        "for i in range(epochs):         \n",
        "    grad = net.numerical_gradient(x,y)\n",
        "    for key in ('W1', 'b1', 'W2', 'b2'):\n",
        "        net.params[key] = net.params[key] - lr * grad[key]\n",
        "    loss = net.loss(x, y)\n",
        "    train_loss.append(loss)\n",
        "\n",
        "time.clock() - a"
      ],
      "execution_count": 271,
      "outputs": [
        {
          "output_type": "execute_result",
          "data": {
            "text/plain": [
              "22.314839000000006"
            ]
          },
          "metadata": {
            "tags": []
          },
          "execution_count": 271
        }
      ]
    },
    {
      "cell_type": "code",
      "metadata": {
        "id": "9gKdgm98ziGI",
        "colab_type": "code",
        "colab": {
          "base_uri": "https://localhost:8080/",
          "height": 87
        },
        "outputId": "35078c43-8d5d-4d91-8bfc-d69e151a38b9"
      },
      "source": [
        "net.params['W1']"
      ],
      "execution_count": 272,
      "outputs": [
        {
          "output_type": "execute_result",
          "data": {
            "text/plain": [
              "array([[ 1.87528243, -4.1601032 ,  1.12563981,  4.49336522, -0.82310418],\n",
              "       [ 0.95757907, -4.84599824,  1.96425022,  4.85830651, -2.56640712],\n",
              "       [-2.69765164,  6.25651091, -4.02817191, -7.30876271,  4.26029221],\n",
              "       [-3.23609277,  9.0640642 , -2.52128215, -7.29588234,  2.0641366 ]])"
            ]
          },
          "metadata": {
            "tags": []
          },
          "execution_count": 272
        }
      ]
    },
    {
      "cell_type": "code",
      "metadata": {
        "id": "mUtOBhyy0Adm",
        "colab_type": "code",
        "colab": {}
      },
      "source": [
        "predicted = np.argmax(net.predict(x), axis = 1)"
      ],
      "execution_count": 276,
      "outputs": []
    },
    {
      "cell_type": "code",
      "metadata": {
        "id": "hAFjTK8g0B2V",
        "colab_type": "code",
        "colab": {
          "base_uri": "https://localhost:8080/",
          "height": 35
        },
        "outputId": "bf37b791-0843-417f-cb2c-32c071c691f7"
      },
      "source": [
        "sum(predicted == iris.target) / len(iris.target)"
      ],
      "execution_count": 278,
      "outputs": [
        {
          "output_type": "execute_result",
          "data": {
            "text/plain": [
              "0.98"
            ]
          },
          "metadata": {
            "tags": []
          },
          "execution_count": 278
        }
      ]
    },
    {
      "cell_type": "code",
      "metadata": {
        "id": "cg9_H2Rw0Pfl",
        "colab_type": "code",
        "colab": {
          "base_uri": "https://localhost:8080/",
          "height": 313
        },
        "outputId": "054c1eb4-bf17-4b72-8923-bc1383014084"
      },
      "source": [
        "import matplotlib.pyplot as plt\n",
        "plt.scatter(range(0,3000),train_loss)\n",
        "plt.xlabel('Iteration')\n",
        "plt.ylabel('Loss')\n",
        "plt.title('Training Loss')"
      ],
      "execution_count": 279,
      "outputs": [
        {
          "output_type": "execute_result",
          "data": {
            "text/plain": [
              "Text(0.5, 1.0, 'Training Loss')"
            ]
          },
          "metadata": {
            "tags": []
          },
          "execution_count": 279
        },
        {
          "output_type": "display_data",
          "data": {
            "image/png": "[encoded data removed]",
            "text/plain": [
              "<Figure size 432x288 with 1 Axes>"
            ]
          },
          "metadata": {
            "tags": [],
            "needs_background": "light"
          }
        }
      ]
    },
    {
      "cell_type": "markdown",
      "metadata": {
        "id": "PRwZYQeu1kSg",
        "colab_type": "text"
      },
      "source": [
        "## 隨機梯度下降(Stochastic Gradient Descent)"
      ]
    },
    {
      "cell_type": "code",
      "metadata": {
        "id": "uycpoGXw0fqV",
        "colab_type": "code",
        "colab": {
          "base_uri": "https://localhost:8080/",
          "height": 35
        },
        "outputId": "388b6f45-b9d2-46c8-bef7-b39270c4ae68"
      },
      "source": [
        "import time\n",
        "a = time.clock()\n",
        "\n",
        "net = ANN(input_size=4, hidden_size=5, output_size=3)\n",
        "epochs = 3000\n",
        "lr = 0.01\n",
        "batch_size = 30\n",
        "train_loss = []\n",
        "for i in range(epochs):\n",
        "  idx = np.random.choice(iris.data.shape[0], batch_size)\n",
        "  x_batch = iris.data[idx]\n",
        "  y_batch = y[idx]\n",
        "\n",
        "  grad = net.numerical_gradient(x_batch,y_batch)\n",
        "\n",
        "  for key in ('W1', 'b1', 'W2', 'b2'):\n",
        "    net.params[key] = net.params[key] - lr * grad[key]\n",
        "  loss = net.loss(x_batch, y_batch)\n",
        "  train_loss.append(loss)\n",
        "\n",
        "time.clock() - a"
      ],
      "execution_count": 282,
      "outputs": [
        {
          "output_type": "execute_result",
          "data": {
            "text/plain": [
              "11.314261000000002"
            ]
          },
          "metadata": {
            "tags": []
          },
          "execution_count": 282
        }
      ]
    },
    {
      "cell_type": "code",
      "metadata": {
        "id": "_IfL6CLt2F4u",
        "colab_type": "code",
        "colab": {
          "base_uri": "https://localhost:8080/",
          "height": 313
        },
        "outputId": "10e05add-f364-436d-d607-6c117c7a5e76"
      },
      "source": [
        "import matplotlib.pyplot as plt\n",
        "plt.scatter(range(0,3000),train_loss)\n",
        "plt.xlabel('Iteration')\n",
        "plt.ylabel('Loss')\n",
        "plt.title('Training Loss')"
      ],
      "execution_count": 283,
      "outputs": [
        {
          "output_type": "execute_result",
          "data": {
            "text/plain": [
              "Text(0.5, 1.0, 'Training Loss')"
            ]
          },
          "metadata": {
            "tags": []
          },
          "execution_count": 283
        },
        {
          "output_type": "display_data",
          "data": {
            "image/png": "[encoded data removed]",
            "text/plain": [
              "<Figure size 432x288 with 1 Axes>"
            ]
          },
          "metadata": {
            "tags": [],
            "needs_background": "light"
          }
        }
      ]
    },
    {
      "cell_type": "code",
      "metadata": {
        "id": "jljUo1k32c8O",
        "colab_type": "code",
        "colab": {}
      },
      "source": [
        "predicted = np.argmax(net.predict(iris.data), axis = 1)"
      ],
      "execution_count": 286,
      "outputs": []
    },
    {
      "cell_type": "code",
      "metadata": {
        "id": "qQhoYoYJ2qAc",
        "colab_type": "code",
        "colab": {
          "base_uri": "https://localhost:8080/",
          "height": 35
        },
        "outputId": "393937fc-5e4f-4213-c7bd-c506cb75b5b0"
      },
      "source": [
        "# accuracy\n",
        "sum(predicted == iris.target) / len(iris.target)"
      ],
      "execution_count": 290,
      "outputs": [
        {
          "output_type": "execute_result",
          "data": {
            "text/plain": [
              "0.98"
            ]
          },
          "metadata": {
            "tags": []
          },
          "execution_count": 290
        }
      ]
    },
    {
      "cell_type": "code",
      "metadata": {
        "id": "LrWg1X8o3Qkc",
        "colab_type": "code",
        "colab": {
          "base_uri": "https://localhost:8080/",
          "height": 35
        },
        "outputId": "69ef60f0-6dd6-492a-f7e3-6aaff47b1b56"
      },
      "source": [
        "from sklearn.metrics import accuracy_score\n",
        "accuracy_score(iris.target, predicted)"
      ],
      "execution_count": 291,
      "outputs": [
        {
          "output_type": "execute_result",
          "data": {
            "text/plain": [
              "0.98"
            ]
          },
          "metadata": {
            "tags": []
          },
          "execution_count": 291
        }
      ]
    },
    {
      "cell_type": "code",
      "metadata": {
        "id": "JGHwKmOd3eKx",
        "colab_type": "code",
        "colab": {
          "base_uri": "https://localhost:8080/",
          "height": 69
        },
        "outputId": "93b5b573-c250-4ad7-e438-be55b5c1761d"
      },
      "source": [
        "from sklearn.metrics import confusion_matrix\n",
        "confusion_matrix(iris.target, predicted)"
      ],
      "execution_count": 292,
      "outputs": [
        {
          "output_type": "execute_result",
          "data": {
            "text/plain": [
              "array([[50,  0,  0],\n",
              "       [ 0, 47,  3],\n",
              "       [ 0,  0, 50]])"
            ]
          },
          "metadata": {
            "tags": []
          },
          "execution_count": 292
        }
      ]
    },
    {
      "cell_type": "markdown",
      "metadata": {
        "id": "m01aHwv332dN",
        "colab_type": "text"
      },
      "source": [
        "## 決策邊界"
      ]
    },
    {
      "cell_type": "code",
      "metadata": {
        "id": "Nik1S__w33y8",
        "colab_type": "code",
        "colab": {}
      },
      "source": [
        "net = ANN(input_size=2, hidden_size=5, output_size=3)"
      ],
      "execution_count": 293,
      "outputs": []
    },
    {
      "cell_type": "code",
      "metadata": {
        "id": "zFNXOP_p4AXX",
        "colab_type": "code",
        "colab": {}
      },
      "source": [
        "from sklearn.datasets import load_iris\n",
        "iris = load_iris()\n",
        "x= iris.data[:,[2,3]]"
      ],
      "execution_count": 294,
      "outputs": []
    },
    {
      "cell_type": "code",
      "metadata": {
        "id": "ehRsk-kv4Br3",
        "colab_type": "code",
        "colab": {}
      },
      "source": [
        "y = np.zeros((len(iris.target), 3))\n",
        "for idx, val in enumerate(iris.target):\n",
        "    y[idx, val] = 1"
      ],
      "execution_count": 295,
      "outputs": []
    },
    {
      "cell_type": "code",
      "metadata": {
        "id": "6bMxrgpp4IcH",
        "colab_type": "code",
        "colab": {
          "base_uri": "https://localhost:8080/",
          "height": 35
        },
        "outputId": "15eeb5a2-ffb0-44a9-98b0-ba8bc1090a33"
      },
      "source": [
        "import time\n",
        "a = time.clock()\n",
        "\n",
        "epochs = 3000\n",
        "lr = 0.01\n",
        "batch_size = 30\n",
        "train_loss = []\n",
        "for i in range(epochs):\n",
        "  idx = np.random.choice(x.shape[0], batch_size)\n",
        "  x_batch = x[idx]\n",
        "  y_batch = y[idx]\n",
        "\n",
        "  grad = net.numerical_gradient(x_batch,y_batch)\n",
        "\n",
        "  for key in ('W1', 'b1', 'W2', 'b2'):\n",
        "    net.params[key] = net.params[key] - lr * grad[key]\n",
        "  loss = net.loss(x_batch, y_batch)\n",
        "  train_loss.append(loss)\n",
        "\n",
        "time.clock() - a"
      ],
      "execution_count": 297,
      "outputs": [
        {
          "output_type": "execute_result",
          "data": {
            "text/plain": [
              "8.658056000000002"
            ]
          },
          "metadata": {
            "tags": []
          },
          "execution_count": 297
        }
      ]
    },
    {
      "cell_type": "code",
      "metadata": {
        "id": "naopBRZJ4Sdn",
        "colab_type": "code",
        "colab": {}
      },
      "source": [
        "x_min, x_max = x[:, 0].min() - 1, x[:, 0].max() + 1\n",
        "y_min, y_max = x[:, 1].min() - 1, x[:, 1].max() + 1\n",
        "\n",
        "xx, yy = np.meshgrid(np.arange(x_min, x_max, 0.1),\n",
        "                     np.arange(y_min, y_max, 0.1))"
      ],
      "execution_count": 298,
      "outputs": []
    },
    {
      "cell_type": "code",
      "metadata": {
        "id": "iGp1wfkH4WW2",
        "colab_type": "code",
        "colab": {}
      },
      "source": [
        "Z = np.argmax(net.predict(np.c_[xx.ravel(), yy.ravel()]), axis = 1)\n",
        "Z = Z.reshape(xx.shape)"
      ],
      "execution_count": 300,
      "outputs": []
    },
    {
      "cell_type": "code",
      "metadata": {
        "id": "CW1QCvkP4Xu3",
        "colab_type": "code",
        "colab": {
          "base_uri": "https://localhost:8080/",
          "height": 295
        },
        "outputId": "1a2693bc-fba4-4ded-a330-c2a44e999238"
      },
      "source": [
        "plt.plot()\n",
        "plt.contourf(xx, yy, Z, alpha=0.4, cmap = plt.cm.RdYlBu)\n",
        "plt.scatter(x[:, 0], x[:, 1], c=y, cmap = plt.cm.brg)\n",
        "plt.title('Neural Network')\n",
        "plt.xlabel('Petal.Length')\n",
        "plt.ylabel('Petal.Width')\n",
        "plt.show()"
      ],
      "execution_count": 301,
      "outputs": [
        {
          "output_type": "display_data",
          "data": {
            "image/png": "[encoded data removed]",
            "text/plain": [
              "<Figure size 432x288 with 1 Axes>"
            ]
          },
          "metadata": {
            "tags": [],
            "needs_background": "light"
          }
        }
      ]
    },
    {
      "cell_type": "markdown",
      "metadata": {
        "id": "aQKYXkXO_Q0g",
        "colab_type": "text"
      },
      "source": [
        "## 反向傳播算法"
      ]
    },
    {
      "cell_type": "code",
      "metadata": {
        "id": "KGFQhPo04a4W",
        "colab_type": "code",
        "colab": {}
      },
      "source": [
        "class Relu:\n",
        "  def __init__(self):\n",
        "    self.cache = None\n",
        "    \n",
        "  def forward(self, x):\n",
        "    self.cache = (x <=0)\n",
        "    out = np.maximum(0,x)\n",
        "    return out\n",
        "\n",
        "  def backward(self, dout):\n",
        "    dout[self.cache] = 0\n",
        "    dx = dout\n",
        "    return dx"
      ],
      "execution_count": 302,
      "outputs": []
    },
    {
      "cell_type": "code",
      "metadata": {
        "id": "_Qp1fVR3_Z59",
        "colab_type": "code",
        "colab": {}
      },
      "source": [
        "f = Relu()"
      ],
      "execution_count": 303,
      "outputs": []
    },
    {
      "cell_type": "code",
      "metadata": {
        "id": "KA11QPN0_gGd",
        "colab_type": "code",
        "colab": {
          "base_uri": "https://localhost:8080/",
          "height": 35
        },
        "outputId": "71bdb5dd-6aff-4c93-dc2c-a931a0828aee"
      },
      "source": [
        "x = np.array([-1,1,2])\n",
        "f.forward(x)"
      ],
      "execution_count": 305,
      "outputs": [
        {
          "output_type": "execute_result",
          "data": {
            "text/plain": [
              "array([0, 1, 2])"
            ]
          },
          "metadata": {
            "tags": []
          },
          "execution_count": 305
        }
      ]
    },
    {
      "cell_type": "code",
      "metadata": {
        "id": "JopNHEO8_k7d",
        "colab_type": "code",
        "colab": {
          "base_uri": "https://localhost:8080/",
          "height": 35
        },
        "outputId": "dadc04c2-931b-4769-a84e-9ee5c60fb887"
      },
      "source": [
        "f.cache"
      ],
      "execution_count": 306,
      "outputs": [
        {
          "output_type": "execute_result",
          "data": {
            "text/plain": [
              "array([ True, False, False])"
            ]
          },
          "metadata": {
            "tags": []
          },
          "execution_count": 306
        }
      ]
    },
    {
      "cell_type": "code",
      "metadata": {
        "id": "7u_TDYPN_tz7",
        "colab_type": "code",
        "colab": {
          "base_uri": "https://localhost:8080/",
          "height": 35
        },
        "outputId": "0592bfa8-66aa-4313-9216-f33a01739804"
      },
      "source": [
        "out = np.array([2,2,2])\n",
        "f.backward(out)"
      ],
      "execution_count": 309,
      "outputs": [
        {
          "output_type": "execute_result",
          "data": {
            "text/plain": [
              "array([0, 2, 2])"
            ]
          },
          "metadata": {
            "tags": []
          },
          "execution_count": 309
        }
      ]
    },
    {
      "cell_type": "markdown",
      "metadata": {
        "id": "uULG5YFFAmEa",
        "colab_type": "text"
      },
      "source": [
        "### https://www.wolframalpha.com/input/?i=derivative+1%2Fx"
      ]
    },
    {
      "cell_type": "code",
      "metadata": {
        "id": "m5gmTEy7__xb",
        "colab_type": "code",
        "colab": {}
      },
      "source": [
        "class Sigmoid:\n",
        "    def __init__(self):\n",
        "        self.out = None\n",
        "\n",
        "    def forward(self, x):\n",
        "        out = 1/ (1 + np.exp(-x))\n",
        "        self.out = out\n",
        "        return out\n",
        "\n",
        "    def backward(self, dout):\n",
        "        y  = self.out\n",
        "        dx = dout * y * (1-y)\n",
        "        return dx"
      ],
      "execution_count": 310,
      "outputs": []
    },
    {
      "cell_type": "code",
      "metadata": {
        "id": "_IMevk0nA3aI",
        "colab_type": "code",
        "colab": {
          "base_uri": "https://localhost:8080/",
          "height": 35
        },
        "outputId": "7234fb05-752c-4935-bdcc-372ce27f4142"
      },
      "source": [
        "s = Sigmoid()\n",
        "print(s.out)"
      ],
      "execution_count": 311,
      "outputs": [
        {
          "output_type": "stream",
          "text": [
            "None\n"
          ],
          "name": "stdout"
        }
      ]
    },
    {
      "cell_type": "code",
      "metadata": {
        "id": "V4jsZ1uQA9XI",
        "colab_type": "code",
        "colab": {
          "base_uri": "https://localhost:8080/",
          "height": 35
        },
        "outputId": "66e5b8b1-1acf-4426-dac6-523d1c1b37a8"
      },
      "source": [
        "ary = np.array([-1,1,2])\n",
        "s.forward(ary)"
      ],
      "execution_count": 313,
      "outputs": [
        {
          "output_type": "execute_result",
          "data": {
            "text/plain": [
              "array([0.26894142, 0.73105858, 0.88079708])"
            ]
          },
          "metadata": {
            "tags": []
          },
          "execution_count": 313
        }
      ]
    },
    {
      "cell_type": "code",
      "metadata": {
        "id": "qyh-4U4eA_gH",
        "colab_type": "code",
        "colab": {
          "base_uri": "https://localhost:8080/",
          "height": 35
        },
        "outputId": "6933e3a8-6bde-431d-b5ba-5f486879c01b"
      },
      "source": [
        "s.out"
      ],
      "execution_count": 314,
      "outputs": [
        {
          "output_type": "execute_result",
          "data": {
            "text/plain": [
              "array([0.26894142, 0.73105858, 0.88079708])"
            ]
          },
          "metadata": {
            "tags": []
          },
          "execution_count": 314
        }
      ]
    },
    {
      "cell_type": "code",
      "metadata": {
        "id": "QL0FA3nGBCrH",
        "colab_type": "code",
        "colab": {
          "base_uri": "https://localhost:8080/",
          "height": 35
        },
        "outputId": "9ffada28-668e-4301-b129-1485f377b56e"
      },
      "source": [
        "out = np.array([2,2,2])\n",
        "s.backward(out)\n"
      ],
      "execution_count": 316,
      "outputs": [
        {
          "output_type": "execute_result",
          "data": {
            "text/plain": [
              "array([0.39322387, 0.39322387, 0.20998717])"
            ]
          },
          "metadata": {
            "tags": []
          },
          "execution_count": 316
        }
      ]
    },
    {
      "cell_type": "code",
      "metadata": {
        "id": "WnfKVX6VBF04",
        "colab_type": "code",
        "colab": {
          "base_uri": "https://localhost:8080/",
          "height": 35
        },
        "outputId": "e41ef22b-05a2-4bc7-f049-eddb03615965"
      },
      "source": [
        "2 * 0.26894142 * (1- 0.26894142)"
      ],
      "execution_count": 317,
      "outputs": [
        {
          "output_type": "execute_result",
          "data": {
            "text/plain": [
              "0.39322386521676717"
            ]
          },
          "metadata": {
            "tags": []
          },
          "execution_count": 317
        }
      ]
    },
    {
      "cell_type": "code",
      "metadata": {
        "id": "oWLqD-uDBL6n",
        "colab_type": "code",
        "colab": {}
      },
      "source": [
        "class Affine:\n",
        "    def __init__(self, W, b):\n",
        "        self.W = W\n",
        "        self.b = b\n",
        "        self.x = None\n",
        "        self.dW = None\n",
        "        self.db = None\n",
        "\n",
        "    def forward(self, x):\n",
        "        self.x = x\n",
        "        out = np.dot(self.x, self.W) + self.b\n",
        "        return out\n",
        "\n",
        "    def backward(self, dout):\n",
        "        dx = np.dot(dout, self.W.T)\n",
        "        self.dW = np.dot(self.x.T, dout)\n",
        "        self.db = np.sum(dout)\n",
        "        return dx"
      ],
      "execution_count": 318,
      "outputs": []
    },
    {
      "cell_type": "code",
      "metadata": {
        "id": "_CjZoeHqBvQV",
        "colab_type": "code",
        "colab": {}
      },
      "source": [
        "class SoftmaxWithLoss:\n",
        "    def __init__(self):\n",
        "        self.loss = None\n",
        "        self.y_hat = None \n",
        "        self.y = None \n",
        "\n",
        "    def forward(self, x, y):\n",
        "        self.y = y\n",
        "        self.y_hat = softmax_function(x)\n",
        "        self.loss = cross_entropy_err(self.y_hat, self.y)\n",
        "        return self.loss\n",
        "\n",
        "    def backward(self, dout=1):\n",
        "        batch_size = self.y.shape[0]\n",
        "        dx = (self.y_hat - self.y) / batch_size\n",
        "        return dx"
      ],
      "execution_count": 319,
      "outputs": []
    },
    {
      "cell_type": "code",
      "metadata": {
        "id": "UGk-1TbjCJPD",
        "colab_type": "code",
        "colab": {}
      },
      "source": [
        "def softmax_function(x):\n",
        "    if x.ndim == 2:\n",
        "        x = x.T\n",
        "        x = x - np.max(x, axis=0)\n",
        "        y = np.exp(x) / np.sum(np.exp(x), axis=0)\n",
        "        return y.T \n",
        "\n",
        "    x = x - np.max(x)\n",
        "    return np.exp(x) / np.sum(np.exp(x))"
      ],
      "execution_count": 320,
      "outputs": []
    },
    {
      "cell_type": "code",
      "metadata": {
        "id": "AYwXypw3CN0D",
        "colab_type": "code",
        "colab": {}
      },
      "source": [
        "import numpy as np\n",
        "from collections import OrderedDict\n",
        "\n",
        "class ANN:\n",
        "\n",
        "    def __init__(self, input_size, hidden_size, output_size, weight_init_std = 0.01):\n",
        "        self.params = {}\n",
        "        self.params['W1'] = weight_init_std * np.random.randn(input_size, hidden_size)\n",
        "        self.params['b1'] = np.zeros(hidden_size)\n",
        "        self.params['W2'] = weight_init_std * np.random.randn(hidden_size, output_size) \n",
        "        self.params['b2'] = np.zeros(output_size)\n",
        "\n",
        "        self.layers = OrderedDict()\n",
        "        self.layers['Affine1'] = Affine(self.params['W1'], self.params['b1'])\n",
        "        self.layers['Sigmoid1'] = Sigmoid()\n",
        "        self.layers['Affine2'] = Affine(self.params['W2'], self.params['b2'])\n",
        "\n",
        "        self.lastLayer = SoftmaxWithLoss()\n",
        "        \n",
        "    def predict(self, x):\n",
        "        for layer in self.layers.values():\n",
        "            x = layer.forward(x)\n",
        "        return x\n",
        "        \n",
        "    def loss(self, x, y):\n",
        "        y_hat = self.predict(x)\n",
        "        return self.lastLayer.forward(y_hat, y)\n",
        "  \n",
        "    def gradient(self, x, y):\n",
        "        # forward\n",
        "        self.loss(x, y)\n",
        "\n",
        "        # backward\n",
        "        dout = 1\n",
        "        dout = self.lastLayer.backward(dout)\n",
        "        \n",
        "        layers = list(self.layers.values())\n",
        "        layers.reverse()\n",
        "        for layer in layers:\n",
        "            dout = layer.backward(dout)\n",
        "\n",
        "        grads = {}\n",
        "        grads['W1'], grads['b1'] = self.layers['Affine1'].dW, self.layers['Affine1'].db\n",
        "        grads['W2'], grads['b2'] = self.layers['Affine2'].dW, self.layers['Affine2'].db\n",
        "\n",
        "        return grads"
      ],
      "execution_count": 321,
      "outputs": []
    },
    {
      "cell_type": "code",
      "metadata": {
        "id": "ivk7rJJHC_X4",
        "colab_type": "code",
        "colab": {}
      },
      "source": [
        "from sklearn.datasets import load_iris\n",
        "iris = load_iris()\n",
        "\n",
        "x = iris.data\n",
        "y = np.zeros((len(iris.target), 3))\n",
        "\n",
        "# one hot encoding\n",
        "for idx, val in enumerate(iris.target):\n",
        "    y[idx, val] = 1"
      ],
      "execution_count": 322,
      "outputs": []
    },
    {
      "cell_type": "code",
      "metadata": {
        "id": "LQWzXSeVDJDg",
        "colab_type": "code",
        "colab": {}
      },
      "source": [
        "#y"
      ],
      "execution_count": 325,
      "outputs": []
    },
    {
      "cell_type": "code",
      "metadata": {
        "id": "xx0ibsm7DapF",
        "colab_type": "code",
        "colab": {
          "base_uri": "https://localhost:8080/",
          "height": 35
        },
        "outputId": "e0a902d2-095c-4db3-97fb-da5a68cc75d1"
      },
      "source": [
        "import random\n",
        "import time\n",
        "\n",
        "epochs     = 3000\n",
        "lr         = 0.01\n",
        "batch_size = 30\n",
        "\n",
        "net = ANN(input_size=4, hidden_size=5, output_size=3)\n",
        "\n",
        "t0 = time.clock()\n",
        "train_loss = []\n",
        "for i in range(epochs): \n",
        "    idx = np.random.choice(iris.data.shape[0], batch_size)\n",
        "    x_batch   = iris.data[idx]\n",
        "    y_batch   = y[idx]\n",
        "    grad = net.gradient(x_batch,y_batch)\n",
        "    for key in ('W1', 'b1', 'W2', 'b2'):\n",
        "        net.params[key] -= lr * grad[key]\n",
        "    loss = net.loss(x_batch, y_batch)\n",
        "    train_loss.append(loss)\n",
        "    \n",
        "time.clock() - t0"
      ],
      "execution_count": 326,
      "outputs": [
        {
          "output_type": "execute_result",
          "data": {
            "text/plain": [
              "0.5915289999999942"
            ]
          },
          "metadata": {
            "tags": []
          },
          "execution_count": 326
        }
      ]
    },
    {
      "cell_type": "code",
      "metadata": {
        "id": "nGGfu2vxDhu_",
        "colab_type": "code",
        "colab": {
          "base_uri": "https://localhost:8080/",
          "height": 313
        },
        "outputId": "5d13d184-fdf6-4bf3-c1d2-cd0d38e1272c"
      },
      "source": [
        "plt.scatter(range(0,3000),train_loss)\n",
        "plt.xlabel('Iteration')\n",
        "plt.ylabel('Loss')\n",
        "plt.title('Training Loss')"
      ],
      "execution_count": 327,
      "outputs": [
        {
          "output_type": "execute_result",
          "data": {
            "text/plain": [
              "Text(0.5, 1.0, 'Training Loss')"
            ]
          },
          "metadata": {
            "tags": []
          },
          "execution_count": 327
        },
        {
          "output_type": "display_data",
          "data": {
            "image/png": "[encoded data removed]",
            "text/plain": [
              "<Figure size 432x288 with 1 Axes>"
            ]
          },
          "metadata": {
            "tags": [],
            "needs_background": "light"
          }
        }
      ]
    },
    {
      "cell_type": "code",
      "metadata": {
        "id": "2seDlWyED03u",
        "colab_type": "code",
        "colab": {
          "base_uri": "https://localhost:8080/",
          "height": 35
        },
        "outputId": "8b1e627c-2a82-4cae-a98e-c2b73dee3d4b"
      },
      "source": [
        "import random\n",
        "import time\n",
        "\n",
        "epochs     = 10000\n",
        "lr         = 0.01\n",
        "batch_size = 30\n",
        "\n",
        "net = ANN(input_size=4, hidden_size=5, output_size=3)\n",
        "\n",
        "t0 = time.clock()\n",
        "train_loss = []\n",
        "for i in range(epochs): \n",
        "    idx = np.random.choice(iris.data.shape[0], batch_size)\n",
        "    x_batch   = iris.data[idx]\n",
        "    y_batch   = y[idx]\n",
        "    grad = net.gradient(x_batch,y_batch)\n",
        "    for key in ('W1', 'b1', 'W2', 'b2'):\n",
        "        net.params[key] -= lr * grad[key]\n",
        "    loss = net.loss(x_batch, y_batch)\n",
        "    train_loss.append(loss)\n",
        "    \n",
        "time.clock() - t0"
      ],
      "execution_count": 328,
      "outputs": [
        {
          "output_type": "execute_result",
          "data": {
            "text/plain": [
              "1.9287460000000038"
            ]
          },
          "metadata": {
            "tags": []
          },
          "execution_count": 328
        }
      ]
    },
    {
      "cell_type": "code",
      "metadata": {
        "id": "cX_DqmdfD7tt",
        "colab_type": "code",
        "colab": {
          "base_uri": "https://localhost:8080/",
          "height": 313
        },
        "outputId": "45f60a0c-7fe6-4d3a-f5e9-f183047cfc6c"
      },
      "source": [
        "plt.scatter(range(0,10000),train_loss)\n",
        "plt.xlabel('Iteration')\n",
        "plt.ylabel('Loss')\n",
        "plt.title('Training Loss')"
      ],
      "execution_count": 329,
      "outputs": [
        {
          "output_type": "execute_result",
          "data": {
            "text/plain": [
              "Text(0.5, 1.0, 'Training Loss')"
            ]
          },
          "metadata": {
            "tags": []
          },
          "execution_count": 329
        },
        {
          "output_type": "display_data",
          "data": {
            "image/png": "[encoded data removed]",
            "text/plain": [
              "<Figure size 432x288 with 1 Axes>"
            ]
          },
          "metadata": {
            "tags": [],
            "needs_background": "light"
          }
        }
      ]
    },
    {
      "cell_type": "code",
      "metadata": {
        "id": "tyNAgFMVEAJs",
        "colab_type": "code",
        "colab": {}
      },
      "source": [
        "predicted = np.argmax(net.predict(x), axis = 1)"
      ],
      "execution_count": 330,
      "outputs": []
    },
    {
      "cell_type": "code",
      "metadata": {
        "id": "1ehlLKs8EEDc",
        "colab_type": "code",
        "colab": {
          "base_uri": "https://localhost:8080/",
          "height": 35
        },
        "outputId": "4caea358-653a-4466-ab87-b197884a5dba"
      },
      "source": [
        "from sklearn.metrics import accuracy_score\n",
        "accuracy_score(iris.target, predicted)"
      ],
      "execution_count": 331,
      "outputs": [
        {
          "output_type": "execute_result",
          "data": {
            "text/plain": [
              "0.98"
            ]
          },
          "metadata": {
            "tags": []
          },
          "execution_count": 331
        }
      ]
    },
    {
      "cell_type": "markdown",
      "metadata": {
        "id": "MSt-w0C3E_VC",
        "colab_type": "text"
      },
      "source": [
        "## 使用Scikit-Learn 建立 ANN"
      ]
    },
    {
      "cell_type": "code",
      "metadata": {
        "id": "rtw4U-0-FGqp",
        "colab_type": "code",
        "colab": {}
      },
      "source": [
        "from sklearn.datasets import load_digits\n",
        "digits = load_digits()"
      ],
      "execution_count": 333,
      "outputs": []
    },
    {
      "cell_type": "code",
      "metadata": {
        "id": "1wQuIbDaFJDp",
        "colab_type": "code",
        "colab": {
          "base_uri": "https://localhost:8080/",
          "height": 815
        },
        "outputId": "abaa38ef-1d9d-4a69-8fdf-fef619d65ee7"
      },
      "source": [
        "print(digits.DESCR)"
      ],
      "execution_count": 335,
      "outputs": [
        {
          "output_type": "stream",
          "text": [
            ".. _digits_dataset:\n",
            "\n",
            "Optical recognition of handwritten digits dataset\n",
            "--------------------------------------------------\n",
            "\n",
            "**Data Set Characteristics:**\n",
            "\n",
            "    :Number of Instances: 5620\n",
            "    :Number of Attributes: 64\n",
            "    :Attribute Information: 8x8 image of integer pixels in the range 0..16.\n",
            "    :Missing Attribute Values: None\n",
            "    :Creator: E. Alpaydin (alpaydin '@' boun.edu.tr)\n",
            "    :Date: July; 1998\n",
            "\n",
            "This is a copy of the test set of the UCI ML hand-written digits datasets\n",
            "https://archive.ics.uci.edu/ml/datasets/Optical+Recognition+of+Handwritten+Digits\n",
            "\n",
            "The data set contains images of hand-written digits: 10 classes where\n",
            "each class refers to a digit.\n",
            "\n",
            "Preprocessing programs made available by NIST were used to extract\n",
            "normalized bitmaps of handwritten digits from a preprinted form. From a\n",
            "total of 43 people, 30 contributed to the training set and different 13\n",
            "to the test set. 32x32 bitmaps are divided into nonoverlapping blocks of\n",
            "4x4 and the number of on pixels are counted in each block. This generates\n",
            "an input matrix of 8x8 where each element is an integer in the range\n",
            "0..16. This reduces dimensionality and gives invariance to small\n",
            "distortions.\n",
            "\n",
            "For info on NIST preprocessing routines, see M. D. Garris, J. L. Blue, G.\n",
            "T. Candela, D. L. Dimmick, J. Geist, P. J. Grother, S. A. Janet, and C.\n",
            "L. Wilson, NIST Form-Based Handprint Recognition System, NISTIR 5469,\n",
            "1994.\n",
            "\n",
            ".. topic:: References\n",
            "\n",
            "  - C. Kaynak (1995) Methods of Combining Multiple Classifiers and Their\n",
            "    Applications to Handwritten Digit Recognition, MSc Thesis, Institute of\n",
            "    Graduate Studies in Science and Engineering, Bogazici University.\n",
            "  - E. Alpaydin, C. Kaynak (1998) Cascading Classifiers, Kybernetika.\n",
            "  - Ken Tang and Ponnuthurai N. Suganthan and Xi Yao and A. Kai Qin.\n",
            "    Linear dimensionalityreduction using relevance weighted LDA. School of\n",
            "    Electrical and Electronic Engineering Nanyang Technological University.\n",
            "    2005.\n",
            "  - Claudio Gentile. A New Approximate Maximal Margin Classification\n",
            "    Algorithm. NIPS. 2000.\n"
          ],
          "name": "stdout"
        }
      ]
    },
    {
      "cell_type": "code",
      "metadata": {
        "id": "VH4UmKNtFNVY",
        "colab_type": "code",
        "colab": {
          "base_uri": "https://localhost:8080/",
          "height": 104
        },
        "outputId": "931f7e38-06c3-44bc-c984-3d3b13bb1243"
      },
      "source": [
        "digits.data[0]"
      ],
      "execution_count": 336,
      "outputs": [
        {
          "output_type": "execute_result",
          "data": {
            "text/plain": [
              "array([ 0.,  0.,  5., 13.,  9.,  1.,  0.,  0.,  0.,  0., 13., 15., 10.,\n",
              "       15.,  5.,  0.,  0.,  3., 15.,  2.,  0., 11.,  8.,  0.,  0.,  4.,\n",
              "       12.,  0.,  0.,  8.,  8.,  0.,  0.,  5.,  8.,  0.,  0.,  9.,  8.,\n",
              "        0.,  0.,  4., 11.,  0.,  1., 12.,  7.,  0.,  0.,  2., 14.,  5.,\n",
              "       10., 12.,  0.,  0.,  0.,  0.,  6., 13., 10.,  0.,  0.,  0.])"
            ]
          },
          "metadata": {
            "tags": []
          },
          "execution_count": 336
        }
      ]
    },
    {
      "cell_type": "code",
      "metadata": {
        "id": "u01eA5XxFcvp",
        "colab_type": "code",
        "colab": {
          "base_uri": "https://localhost:8080/",
          "height": 228
        },
        "outputId": "08203db4-ad3c-4076-993f-ee63dcc7072e"
      },
      "source": [
        "! wget https://upload.wikimedia.org/wikipedia/commons/b/b4/TIFF_2019_jlo_%281_of_1%29-2_%2848696671561%29_%28cropped%29.jpg\n"
      ],
      "execution_count": 337,
      "outputs": [
        {
          "output_type": "stream",
          "text": [
            "--2020-07-18 08:42:37--  https://upload.wikimedia.org/wikipedia/commons/b/b4/TIFF_2019_jlo_%281_of_1%29-2_%2848696671561%29_%28cropped%29.jpg\n",
            "Resolving upload.wikimedia.org (upload.wikimedia.org)... 208.80.154.240, 2620:0:861:ed1a::2:b\n",
            "Connecting to upload.wikimedia.org (upload.wikimedia.org)|208.80.154.240|:443... connected.\n",
            "HTTP request sent, awaiting response... 200 OK\n",
            "Length: 698776 (682K) [image/jpeg]\n",
            "Saving to: ‘TIFF_2019_jlo_(1_of_1)-2_(48696671561)_(cropped).jpg’\n",
            "\n",
            "\r          TIFF_2019   0%[                    ]       0  --.-KB/s               \rTIFF_2019_jlo_(1_of 100%[===================>] 682.40K  --.-KB/s    in 0.07s   \n",
            "\n",
            "2020-07-18 08:42:37 (9.68 MB/s) - ‘TIFF_2019_jlo_(1_of_1)-2_(48696671561)_(cropped).jpg’ saved [698776/698776]\n",
            "\n"
          ],
          "name": "stdout"
        }
      ]
    },
    {
      "cell_type": "code",
      "metadata": {
        "id": "KTEXPhDPFuLG",
        "colab_type": "code",
        "colab": {
          "base_uri": "https://localhost:8080/",
          "height": 35
        },
        "outputId": "3ad6512a-c112-463b-a462-ed5e01f98919"
      },
      "source": [
        "from PIL import Image\n",
        "\n",
        "img = Image.open('TIFF_2019_jlo_(1_of_1)-2_(48696671561)_(cropped).jpg')\n",
        "#img\n",
        "im = np.array(img)\n",
        "im.shape"
      ],
      "execution_count": 340,
      "outputs": [
        {
          "output_type": "execute_result",
          "data": {
            "text/plain": [
              "(1241, 899, 3)"
            ]
          },
          "metadata": {
            "tags": []
          },
          "execution_count": 340
        }
      ]
    },
    {
      "cell_type": "code",
      "metadata": {
        "id": "k18dTnGBF0KG",
        "colab_type": "code",
        "colab": {
          "base_uri": "https://localhost:8080/",
          "height": 156
        },
        "outputId": "15cdb51c-4e5e-4d39-f98a-398c25eafdb6"
      },
      "source": [
        "digits.images[0]"
      ],
      "execution_count": 341,
      "outputs": [
        {
          "output_type": "execute_result",
          "data": {
            "text/plain": [
              "array([[ 0.,  0.,  5., 13.,  9.,  1.,  0.,  0.],\n",
              "       [ 0.,  0., 13., 15., 10., 15.,  5.,  0.],\n",
              "       [ 0.,  3., 15.,  2.,  0., 11.,  8.,  0.],\n",
              "       [ 0.,  4., 12.,  0.,  0.,  8.,  8.,  0.],\n",
              "       [ 0.,  5.,  8.,  0.,  0.,  9.,  8.,  0.],\n",
              "       [ 0.,  4., 11.,  0.,  1., 12.,  7.,  0.],\n",
              "       [ 0.,  2., 14.,  5., 10., 12.,  0.,  0.],\n",
              "       [ 0.,  0.,  6., 13., 10.,  0.,  0.,  0.]])"
            ]
          },
          "metadata": {
            "tags": []
          },
          "execution_count": 341
        }
      ]
    },
    {
      "cell_type": "code",
      "metadata": {
        "id": "3RbNs8TFGO1E",
        "colab_type": "code",
        "colab": {
          "base_uri": "https://localhost:8080/",
          "height": 283
        },
        "outputId": "7de6386f-2798-4a91-cf60-c5a5cbb9f13d"
      },
      "source": [
        "plt.imshow(digits.images[0])"
      ],
      "execution_count": 342,
      "outputs": [
        {
          "output_type": "execute_result",
          "data": {
            "text/plain": [
              "<matplotlib.image.AxesImage at 0x7fb80db425f8>"
            ]
          },
          "metadata": {
            "tags": []
          },
          "execution_count": 342
        },
        {
          "output_type": "display_data",
          "data": {
            "image/png": "[encoded data removed]",
            "text/plain": [
              "<Figure size 432x288 with 1 Axes>"
            ]
          },
          "metadata": {
            "tags": [],
            "needs_background": "light"
          }
        }
      ]
    },
    {
      "cell_type": "code",
      "metadata": {
        "id": "c8ZMwSjuGVIV",
        "colab_type": "code",
        "colab": {
          "base_uri": "https://localhost:8080/",
          "height": 35
        },
        "outputId": "123e3866-2bc7-4af0-a346-63439995d8cc"
      },
      "source": [
        "digits.target[0]"
      ],
      "execution_count": 343,
      "outputs": [
        {
          "output_type": "execute_result",
          "data": {
            "text/plain": [
              "0"
            ]
          },
          "metadata": {
            "tags": []
          },
          "execution_count": 343
        }
      ]
    },
    {
      "cell_type": "code",
      "metadata": {
        "id": "YMMuSE6SGY8T",
        "colab_type": "code",
        "colab": {
          "base_uri": "https://localhost:8080/",
          "height": 610
        },
        "outputId": "62d40ce1-f1fd-4a32-c540-f624af5160be"
      },
      "source": [
        "fig = plt.figure(figsize = (8,8))\n",
        "\n",
        "# 圖與圖的間距\n",
        "fig.subplots_adjust(left=0, right=1, bottom=0, top=1, hspace=0.05, wspace=0.05)\n",
        "\n",
        "# 取樣36 張圖\n",
        "for i in range(36):\n",
        "    # 每張 6 * 6 的大小\n",
        "    ax = fig.add_subplot(6, 6, i+1, xticks=[], yticks=[])\n",
        "    # 繪製灰階圖\n",
        "    ax.imshow(digits.images[i],cmap=plt.cm.binary,interpolation='nearest')\n",
        "    # 於左下標示紅色大小為20數字\n",
        "    ax.text(0, 7, digits.target[i], color=\"r\", fontsize = 20)"
      ],
      "execution_count": 351,
      "outputs": [
        {
          "output_type": "display_data",
          "data": {
            "image/png": "[encoded data removed]",
            "text/plain": [
              "<Figure size 576x576 with 36 Axes>"
            ]
          },
          "metadata": {
            "tags": []
          }
        }
      ]
    },
    {
      "cell_type": "code",
      "metadata": {
        "id": "kZhyrD9MHb98",
        "colab_type": "code",
        "colab": {
          "base_uri": "https://localhost:8080/",
          "height": 35
        },
        "outputId": "4702bf04-01c5-49aa-e59d-725205942903"
      },
      "source": [
        "a = np.array([50,60,70,80,90])\n",
        "a.mean(), a.std()\n",
        "(a - a.mean()) / a.std()"
      ],
      "execution_count": 354,
      "outputs": [
        {
          "output_type": "execute_result",
          "data": {
            "text/plain": [
              "array([-1.41421356, -0.70710678,  0.        ,  0.70710678,  1.41421356])"
            ]
          },
          "metadata": {
            "tags": []
          },
          "execution_count": 354
        }
      ]
    },
    {
      "cell_type": "code",
      "metadata": {
        "id": "B53Xu4KeIGTf",
        "colab_type": "code",
        "colab": {
          "base_uri": "https://localhost:8080/",
          "height": 104
        },
        "outputId": "6aa0a132-a07c-4612-f12e-7d1836887400"
      },
      "source": [
        "a.reshape(-1,1)"
      ],
      "execution_count": 356,
      "outputs": [
        {
          "output_type": "execute_result",
          "data": {
            "text/plain": [
              "array([[50],\n",
              "       [60],\n",
              "       [70],\n",
              "       [80],\n",
              "       [90]])"
            ]
          },
          "metadata": {
            "tags": []
          },
          "execution_count": 356
        }
      ]
    },
    {
      "cell_type": "markdown",
      "metadata": {
        "id": "qWti2t5qM-Bl",
        "colab_type": "text"
      },
      "source": [
        "### Standard Scaler\n",
        "- fit: 產生結構\n",
        "- fit_transform: 產生結構, 並轉換資料\n",
        "- transform: 資料轉換"
      ]
    },
    {
      "cell_type": "code",
      "metadata": {
        "id": "0EEp970zNNPk",
        "colab_type": "code",
        "colab": {
          "base_uri": "https://localhost:8080/",
          "height": 104
        },
        "outputId": "e8d26b7b-de4f-427e-956d-3230b6ec2628"
      },
      "source": [
        "from sklearn.preprocessing import StandardScaler\n",
        "a = np.array([50,60,70,80,90])\n",
        "sc = StandardScaler()\n",
        "sc.fit_transform(a.reshape(-1,1))"
      ],
      "execution_count": 412,
      "outputs": [
        {
          "output_type": "execute_result",
          "data": {
            "text/plain": [
              "array([[-1.41421356],\n",
              "       [-0.70710678],\n",
              "       [ 0.        ],\n",
              "       [ 0.70710678],\n",
              "       [ 1.41421356]])"
            ]
          },
          "metadata": {
            "tags": []
          },
          "execution_count": 412
        }
      ]
    },
    {
      "cell_type": "code",
      "metadata": {
        "id": "Qak4pF-tNW5j",
        "colab_type": "code",
        "colab": {
          "base_uri": "https://localhost:8080/",
          "height": 35
        },
        "outputId": "811019bd-6ea3-46de-df7a-b8dfbfe96570"
      },
      "source": [
        "sc.fit(a.reshape(-1,1))"
      ],
      "execution_count": 413,
      "outputs": [
        {
          "output_type": "execute_result",
          "data": {
            "text/plain": [
              "StandardScaler(copy=True, with_mean=True, with_std=True)"
            ]
          },
          "metadata": {
            "tags": []
          },
          "execution_count": 413
        }
      ]
    },
    {
      "cell_type": "code",
      "metadata": {
        "id": "El-dp8rxNcFU",
        "colab_type": "code",
        "colab": {
          "base_uri": "https://localhost:8080/",
          "height": 35
        },
        "outputId": "12480bfe-0e7d-4ec4-9d81-14a61098e02c"
      },
      "source": [
        "sc.mean_, sc.var_"
      ],
      "execution_count": 414,
      "outputs": [
        {
          "output_type": "execute_result",
          "data": {
            "text/plain": [
              "(array([70.]), array([200.]))"
            ]
          },
          "metadata": {
            "tags": []
          },
          "execution_count": 414
        }
      ]
    },
    {
      "cell_type": "code",
      "metadata": {
        "id": "o29Vo6AzNeo7",
        "colab_type": "code",
        "colab": {
          "base_uri": "https://localhost:8080/",
          "height": 104
        },
        "outputId": "c88841f5-aeee-40be-e042-5bfc6c20a553"
      },
      "source": [
        "sc.transform(a.reshape(-1,1))"
      ],
      "execution_count": 415,
      "outputs": [
        {
          "output_type": "execute_result",
          "data": {
            "text/plain": [
              "array([[-1.41421356],\n",
              "       [-0.70710678],\n",
              "       [ 0.        ],\n",
              "       [ 0.70710678],\n",
              "       [ 1.41421356]])"
            ]
          },
          "metadata": {
            "tags": []
          },
          "execution_count": 415
        }
      ]
    },
    {
      "cell_type": "code",
      "metadata": {
        "id": "kcJR3zgGGstz",
        "colab_type": "code",
        "colab": {
          "base_uri": "https://localhost:8080/",
          "height": 104
        },
        "outputId": "212d4ca1-2480-4feb-83bc-ad043e0f82cd"
      },
      "source": [
        "from sklearn.preprocessing import StandardScaler\n",
        "# (x - x.mean) / x.std\n",
        "sc = StandardScaler()\n",
        "sc.fit_transform(a.reshape(-1,1))"
      ],
      "execution_count": 358,
      "outputs": [
        {
          "output_type": "execute_result",
          "data": {
            "text/plain": [
              "array([[-1.41421356],\n",
              "       [-0.70710678],\n",
              "       [ 0.        ],\n",
              "       [ 0.70710678],\n",
              "       [ 1.41421356]])"
            ]
          },
          "metadata": {
            "tags": []
          },
          "execution_count": 358
        }
      ]
    },
    {
      "cell_type": "code",
      "metadata": {
        "id": "PdzTsGWfIB1u",
        "colab_type": "code",
        "colab": {
          "base_uri": "https://localhost:8080/",
          "height": 35
        },
        "outputId": "0d48859e-a9da-42ed-bec2-32ef5011b9b7"
      },
      "source": [
        "sc.mean_"
      ],
      "execution_count": 359,
      "outputs": [
        {
          "output_type": "execute_result",
          "data": {
            "text/plain": [
              "array([70.])"
            ]
          },
          "metadata": {
            "tags": []
          },
          "execution_count": 359
        }
      ]
    },
    {
      "cell_type": "code",
      "metadata": {
        "id": "fewdFNKAIdgt",
        "colab_type": "code",
        "colab": {
          "base_uri": "https://localhost:8080/",
          "height": 35
        },
        "outputId": "1805e864-cef5-400c-c8d8-5b16dcb9aa7f"
      },
      "source": [
        "sc.var_"
      ],
      "execution_count": 360,
      "outputs": [
        {
          "output_type": "execute_result",
          "data": {
            "text/plain": [
              "array([200.])"
            ]
          },
          "metadata": {
            "tags": []
          },
          "execution_count": 360
        }
      ]
    },
    {
      "cell_type": "code",
      "metadata": {
        "id": "ATf8rnrUImnt",
        "colab_type": "code",
        "colab": {
          "base_uri": "https://localhost:8080/",
          "height": 35
        },
        "outputId": "a47bca1c-ca6e-4244-c3d1-6f4cacbc5e14"
      },
      "source": [
        "digits.data.shape"
      ],
      "execution_count": 361,
      "outputs": [
        {
          "output_type": "execute_result",
          "data": {
            "text/plain": [
              "(1797, 64)"
            ]
          },
          "metadata": {
            "tags": []
          },
          "execution_count": 361
        }
      ]
    },
    {
      "cell_type": "code",
      "metadata": {
        "id": "miBwdltfIuJc",
        "colab_type": "code",
        "colab": {
          "base_uri": "https://localhost:8080/",
          "height": 35
        },
        "outputId": "8fd17a09-8158-4ab1-8fa1-f87986fbb1d3"
      },
      "source": [
        "digits.target.shape"
      ],
      "execution_count": 362,
      "outputs": [
        {
          "output_type": "execute_result",
          "data": {
            "text/plain": [
              "(1797,)"
            ]
          },
          "metadata": {
            "tags": []
          },
          "execution_count": 362
        }
      ]
    },
    {
      "cell_type": "code",
      "metadata": {
        "id": "9jo8YKCEIewd",
        "colab_type": "code",
        "colab": {}
      },
      "source": [
        "from sklearn.preprocessing import StandardScaler\n",
        "sc = StandardScaler()\n",
        "X_scaled = sc.fit_transform(digits.data)"
      ],
      "execution_count": 416,
      "outputs": []
    },
    {
      "cell_type": "code",
      "metadata": {
        "id": "_W44e4NiIxT8",
        "colab_type": "code",
        "colab": {
          "base_uri": "https://localhost:8080/",
          "height": 243
        },
        "outputId": "d5249b0f-c430-4369-adc5-02e14d8224f1"
      },
      "source": [
        "X_scaled"
      ],
      "execution_count": 364,
      "outputs": [
        {
          "output_type": "execute_result",
          "data": {
            "text/plain": [
              "array([[ 0.        , -0.33501649, -0.04308102, ..., -1.14664746,\n",
              "        -0.5056698 , -0.19600752],\n",
              "       [ 0.        , -0.33501649, -1.09493684, ...,  0.54856067,\n",
              "        -0.5056698 , -0.19600752],\n",
              "       [ 0.        , -0.33501649, -1.09493684, ...,  1.56568555,\n",
              "         1.6951369 , -0.19600752],\n",
              "       ...,\n",
              "       [ 0.        , -0.33501649, -0.88456568, ..., -0.12952258,\n",
              "        -0.5056698 , -0.19600752],\n",
              "       [ 0.        , -0.33501649, -0.67419451, ...,  0.8876023 ,\n",
              "        -0.5056698 , -0.19600752],\n",
              "       [ 0.        , -0.33501649,  1.00877481, ...,  0.8876023 ,\n",
              "        -0.26113572, -0.19600752]])"
            ]
          },
          "metadata": {
            "tags": []
          },
          "execution_count": 364
        }
      ]
    },
    {
      "cell_type": "code",
      "metadata": {
        "id": "tdae1dXMIzIs",
        "colab_type": "code",
        "colab": {}
      },
      "source": [
        "from sklearn.neural_network import MLPClassifier\n",
        "?MLPClassifier"
      ],
      "execution_count": 365,
      "outputs": []
    },
    {
      "cell_type": "code",
      "metadata": {
        "id": "m95EUj_6I8XL",
        "colab_type": "code",
        "colab": {}
      },
      "source": [
        "#epoch: 1000\n",
        "#solver: stochastic gradient descent\n",
        "# Input 64 => hidden1 30 => hidden2 30 => hidden3 30 => output 10\n",
        "mlp = MLPClassifier(hidden_layer_sizes=(30,30,30), \n",
        "                    activation='relu', \n",
        "                    max_iter = 2000,\n",
        "                    solver='sgd',\n",
        "                    learning_rate='constant',\n",
        "                    learning_rate_init=0.001)"
      ],
      "execution_count": 393,
      "outputs": []
    },
    {
      "cell_type": "code",
      "metadata": {
        "id": "A-cdrUYkJ-XX",
        "colab_type": "code",
        "colab": {
          "base_uri": "https://localhost:8080/",
          "height": 156
        },
        "outputId": "118968f6-2197-48a9-f44b-12c8732011dd"
      },
      "source": [
        "mlp.fit(X_scaled,digits.target)"
      ],
      "execution_count": 394,
      "outputs": [
        {
          "output_type": "execute_result",
          "data": {
            "text/plain": [
              "MLPClassifier(activation='relu', alpha=0.0001, batch_size='auto', beta_1=0.9,\n",
              "              beta_2=0.999, early_stopping=False, epsilon=1e-08,\n",
              "              hidden_layer_sizes=(30, 30, 30), learning_rate='constant',\n",
              "              learning_rate_init=0.001, max_fun=15000, max_iter=2000,\n",
              "              momentum=0.9, n_iter_no_change=10, nesterovs_momentum=True,\n",
              "              power_t=0.5, random_state=None, shuffle=True, solver='sgd',\n",
              "              tol=0.0001, validation_fraction=0.1, verbose=False,\n",
              "              warm_start=False)"
            ]
          },
          "metadata": {
            "tags": []
          },
          "execution_count": 394
        }
      ]
    },
    {
      "cell_type": "code",
      "metadata": {
        "id": "hO1n7j02LB1L",
        "colab_type": "code",
        "colab": {
          "base_uri": "https://localhost:8080/",
          "height": 283
        },
        "outputId": "82641f80-c2db-44e9-e8fa-e5066eb7ac7c"
      },
      "source": [
        "plt.plot(range(len(mlp.loss_curve_)), mlp.loss_curve_)"
      ],
      "execution_count": 395,
      "outputs": [
        {
          "output_type": "execute_result",
          "data": {
            "text/plain": [
              "[<matplotlib.lines.Line2D at 0x7fb80c7fceb8>]"
            ]
          },
          "metadata": {
            "tags": []
          },
          "execution_count": 395
        },
        {
          "output_type": "display_data",
          "data": {
            "image/png": "[encoded data removed]",
            "text/plain": [
              "<Figure size 432x288 with 1 Axes>"
            ]
          },
          "metadata": {
            "tags": [],
            "needs_background": "light"
          }
        }
      ]
    },
    {
      "cell_type": "code",
      "metadata": {
        "id": "t6aJsF97KDE3",
        "colab_type": "code",
        "colab": {
          "base_uri": "https://localhost:8080/",
          "height": 35
        },
        "outputId": "95dd51ef-b969-4368-e042-71e7264f2cf0"
      },
      "source": [
        "predicted = mlp.predict(X_scaled)\n",
        "predicted"
      ],
      "execution_count": 396,
      "outputs": [
        {
          "output_type": "execute_result",
          "data": {
            "text/plain": [
              "array([0, 1, 2, ..., 8, 9, 8])"
            ]
          },
          "metadata": {
            "tags": []
          },
          "execution_count": 396
        }
      ]
    },
    {
      "cell_type": "code",
      "metadata": {
        "id": "DWTqASeZKORX",
        "colab_type": "code",
        "colab": {
          "base_uri": "https://localhost:8080/",
          "height": 35
        },
        "outputId": "5badf075-ea12-4c19-a0d6-7c6eb961ba9b"
      },
      "source": [
        "sum(predicted == digits.target) / len(digits.target)"
      ],
      "execution_count": 397,
      "outputs": [
        {
          "output_type": "execute_result",
          "data": {
            "text/plain": [
              "0.996661101836394"
            ]
          },
          "metadata": {
            "tags": []
          },
          "execution_count": 397
        }
      ]
    },
    {
      "cell_type": "code",
      "metadata": {
        "id": "tGU_bcToKRmm",
        "colab_type": "code",
        "colab": {
          "base_uri": "https://localhost:8080/",
          "height": 35
        },
        "outputId": "dc0202ab-53ec-4ca9-8454-1e1819929c66"
      },
      "source": [
        "from sklearn.metrics import accuracy_score, confusion_matrix\n",
        "accuracy_score(digits.target, predicted)"
      ],
      "execution_count": 398,
      "outputs": [
        {
          "output_type": "execute_result",
          "data": {
            "text/plain": [
              "0.996661101836394"
            ]
          },
          "metadata": {
            "tags": []
          },
          "execution_count": 398
        }
      ]
    },
    {
      "cell_type": "code",
      "metadata": {
        "id": "tPSVdfylKjE1",
        "colab_type": "code",
        "colab": {
          "base_uri": "https://localhost:8080/",
          "height": 191
        },
        "outputId": "74352741-ba83-46ba-868c-050a4c52c04b"
      },
      "source": [
        "confusion_matrix(digits.target, predicted)"
      ],
      "execution_count": 399,
      "outputs": [
        {
          "output_type": "execute_result",
          "data": {
            "text/plain": [
              "array([[178,   0,   0,   0,   0,   0,   0,   0,   0,   0],\n",
              "       [  0, 182,   0,   0,   0,   0,   0,   0,   0,   0],\n",
              "       [  0,   0, 177,   0,   0,   0,   0,   0,   0,   0],\n",
              "       [  0,   0,   0, 182,   0,   0,   0,   0,   1,   0],\n",
              "       [  0,   0,   0,   0, 180,   0,   0,   0,   0,   1],\n",
              "       [  0,   0,   0,   0,   0, 181,   0,   0,   0,   1],\n",
              "       [  0,   0,   0,   0,   0,   0, 181,   0,   0,   0],\n",
              "       [  0,   0,   0,   0,   0,   1,   0, 178,   0,   0],\n",
              "       [  0,   1,   0,   0,   0,   0,   0,   0, 173,   0],\n",
              "       [  0,   0,   0,   1,   0,   0,   0,   0,   0, 179]])"
            ]
          },
          "metadata": {
            "tags": []
          },
          "execution_count": 399
        }
      ]
    },
    {
      "cell_type": "code",
      "metadata": {
        "id": "OofKSnHRKokE",
        "colab_type": "code",
        "colab": {
          "base_uri": "https://localhost:8080/",
          "height": 610
        },
        "outputId": "eeca2d29-b3b7-438a-d3d0-9a1ca679a214"
      },
      "source": [
        "fig = plt.figure(figsize = (8,8))\n",
        "fig.subplots_adjust(left=0, right=1, bottom=0, top=1, hspace=0.05, wspace=0.05)\n",
        "for i in range(36):\n",
        "  ax = fig.add_subplot(6, 6, i+1, xticks=[], yticks=[])\n",
        "  ax.imshow(digits.images[i],cmap=plt.cm.binary,interpolation='nearest')\n",
        "  ax.text(0, 7, '{}-{}'.format(digits.target[i],predicted[i]), color=\"red\", fontsize = 20)"
      ],
      "execution_count": 400,
      "outputs": [
        {
          "output_type": "display_data",
          "data": {
            "image/png": "[encoded data removed]",
            "text/plain": [
              "<Figure size 576x576 with 36 Axes>"
            ]
          },
          "metadata": {
            "tags": []
          }
        }
      ]
    },
    {
      "cell_type": "code",
      "metadata": {
        "id": "rm6DH4UNK0tE",
        "colab_type": "code",
        "colab": {
          "base_uri": "https://localhost:8080/",
          "height": 416
        },
        "outputId": "471a3765-4352-4c97-9bd1-7be7c97e6d9c"
      },
      "source": [
        "mlp.get_params()"
      ],
      "execution_count": 401,
      "outputs": [
        {
          "output_type": "execute_result",
          "data": {
            "text/plain": [
              "{'activation': 'relu',\n",
              " 'alpha': 0.0001,\n",
              " 'batch_size': 'auto',\n",
              " 'beta_1': 0.9,\n",
              " 'beta_2': 0.999,\n",
              " 'early_stopping': False,\n",
              " 'epsilon': 1e-08,\n",
              " 'hidden_layer_sizes': (30, 30, 30),\n",
              " 'learning_rate': 'constant',\n",
              " 'learning_rate_init': 0.001,\n",
              " 'max_fun': 15000,\n",
              " 'max_iter': 2000,\n",
              " 'momentum': 0.9,\n",
              " 'n_iter_no_change': 10,\n",
              " 'nesterovs_momentum': True,\n",
              " 'power_t': 0.5,\n",
              " 'random_state': None,\n",
              " 'shuffle': True,\n",
              " 'solver': 'sgd',\n",
              " 'tol': 0.0001,\n",
              " 'validation_fraction': 0.1,\n",
              " 'verbose': False,\n",
              " 'warm_start': False}"
            ]
          },
          "metadata": {
            "tags": []
          },
          "execution_count": 401
        }
      ]
    },
    {
      "cell_type": "code",
      "metadata": {
        "id": "u3zxDxXbLzTC",
        "colab_type": "code",
        "colab": {
          "base_uri": "https://localhost:8080/",
          "height": 35
        },
        "outputId": "4da49334-8a3a-43f7-fb43-180dae124364"
      },
      "source": [
        "mlp.coefs_[0].shape"
      ],
      "execution_count": 403,
      "outputs": [
        {
          "output_type": "execute_result",
          "data": {
            "text/plain": [
              "(64, 30)"
            ]
          },
          "metadata": {
            "tags": []
          },
          "execution_count": 403
        }
      ]
    },
    {
      "cell_type": "code",
      "metadata": {
        "id": "G8BP92ixMA__",
        "colab_type": "code",
        "colab": {
          "base_uri": "https://localhost:8080/",
          "height": 228
        },
        "outputId": "d6f22c24-1692-4d1e-b238-9569b03535b4"
      },
      "source": [
        "! wget https://raw.githubusercontent.com/ywchiu/tibamedl/master/Data/unknown_digits.bmp"
      ],
      "execution_count": 404,
      "outputs": [
        {
          "output_type": "stream",
          "text": [
            "--2020-07-18 09:12:25--  https://raw.githubusercontent.com/ywchiu/tibamedl/master/Data/unknown_digits.bmp\n",
            "Resolving raw.githubusercontent.com (raw.githubusercontent.com)... 151.101.0.133, 151.101.64.133, 151.101.128.133, ...\n",
            "Connecting to raw.githubusercontent.com (raw.githubusercontent.com)|151.101.0.133|:443... connected.\n",
            "HTTP request sent, awaiting response... 200 OK\n",
            "Length: 150 [image/bmp]\n",
            "Saving to: ‘unknown_digits.bmp’\n",
            "\n",
            "\runknown_digits.bmp    0%[                    ]       0  --.-KB/s               \runknown_digits.bmp  100%[===================>]     150  --.-KB/s    in 0s      \n",
            "\n",
            "2020-07-18 09:12:26 (6.09 MB/s) - ‘unknown_digits.bmp’ saved [150/150]\n",
            "\n"
          ],
          "name": "stdout"
        }
      ]
    },
    {
      "cell_type": "code",
      "metadata": {
        "id": "fD36a20aMipf",
        "colab_type": "code",
        "colab": {
          "base_uri": "https://localhost:8080/",
          "height": 35
        },
        "outputId": "057d1599-2447-49d3-80e0-bb09ba228d0c"
      },
      "source": [
        "Image.open('unknown_digits.bmp')"
      ],
      "execution_count": 405,
      "outputs": [
        {
          "output_type": "execute_result",
          "data": {
            "image/png": "[encoded data removed]",
            "text/plain": [
              "<PIL.BmpImagePlugin.BmpImageFile image mode=P size=8x8 at 0x7FB809213438>"
            ]
          },
          "metadata": {
            "tags": []
          },
          "execution_count": 405
        }
      ]
    },
    {
      "cell_type": "code",
      "metadata": {
        "id": "OcQl3qHQMmm9",
        "colab_type": "code",
        "colab": {}
      },
      "source": [
        "im = np.array(Image.open('unknown_digits.bmp'))"
      ],
      "execution_count": 408,
      "outputs": []
    },
    {
      "cell_type": "code",
      "metadata": {
        "id": "lxBl9V8bMp3d",
        "colab_type": "code",
        "colab": {
          "base_uri": "https://localhost:8080/",
          "height": 156
        },
        "outputId": "dd08c4ee-9372-4aac-d6b5-7cc45d7e0941"
      },
      "source": [
        "im"
      ],
      "execution_count": 409,
      "outputs": [
        {
          "output_type": "execute_result",
          "data": {
            "text/plain": [
              "array([[15, 15, 15, 15, 15, 15, 15, 15],\n",
              "       [15, 15,  0, 15,  0, 15, 15, 15],\n",
              "       [15, 15,  0, 15,  0, 15, 15, 15],\n",
              "       [15,  0,  0, 15,  0, 15, 15, 15],\n",
              "       [15,  0, 15, 15,  0, 15, 15, 15],\n",
              "       [ 0,  0,  0,  0,  0,  0,  0, 15],\n",
              "       [15, 15, 15, 15,  0, 15, 15, 15],\n",
              "       [15, 15, 15, 15,  0, 15, 15, 15]], dtype=uint8)"
            ]
          },
          "metadata": {
            "tags": []
          },
          "execution_count": 409
        }
      ]
    },
    {
      "cell_type": "code",
      "metadata": {
        "id": "1O1Ep2jAMzMG",
        "colab_type": "code",
        "colab": {
          "base_uri": "https://localhost:8080/",
          "height": 156
        },
        "outputId": "a02a6cf9-e938-4760-a397-32424b7e430c"
      },
      "source": [
        "15 - im"
      ],
      "execution_count": 410,
      "outputs": [
        {
          "output_type": "execute_result",
          "data": {
            "text/plain": [
              "array([[ 0,  0,  0,  0,  0,  0,  0,  0],\n",
              "       [ 0,  0, 15,  0, 15,  0,  0,  0],\n",
              "       [ 0,  0, 15,  0, 15,  0,  0,  0],\n",
              "       [ 0, 15, 15,  0, 15,  0,  0,  0],\n",
              "       [ 0, 15,  0,  0, 15,  0,  0,  0],\n",
              "       [15, 15, 15, 15, 15, 15, 15,  0],\n",
              "       [ 0,  0,  0,  0, 15,  0,  0,  0],\n",
              "       [ 0,  0,  0,  0, 15,  0,  0,  0]], dtype=uint8)"
            ]
          },
          "metadata": {
            "tags": []
          },
          "execution_count": 410
        }
      ]
    },
    {
      "cell_type": "code",
      "metadata": {
        "id": "SuQPJMSGMqIP",
        "colab_type": "code",
        "colab": {
          "base_uri": "https://localhost:8080/",
          "height": 87
        },
        "outputId": "a7203ef4-0e27-4167-834e-81760471738a"
      },
      "source": [
        "im2 = (15 - im).reshape(64,)\n",
        "im2"
      ],
      "execution_count": 411,
      "outputs": [
        {
          "output_type": "execute_result",
          "data": {
            "text/plain": [
              "array([ 0,  0,  0,  0,  0,  0,  0,  0,  0,  0, 15,  0, 15,  0,  0,  0,  0,\n",
              "        0, 15,  0, 15,  0,  0,  0,  0, 15, 15,  0, 15,  0,  0,  0,  0, 15,\n",
              "        0,  0, 15,  0,  0,  0, 15, 15, 15, 15, 15, 15, 15,  0,  0,  0,  0,\n",
              "        0, 15,  0,  0,  0,  0,  0,  0,  0, 15,  0,  0,  0], dtype=uint8)"
            ]
          },
          "metadata": {
            "tags": []
          },
          "execution_count": 411
        }
      ]
    },
    {
      "cell_type": "code",
      "metadata": {
        "id": "FUBodVytM259",
        "colab_type": "code",
        "colab": {}
      },
      "source": [
        "src = sc.transform([im2])"
      ],
      "execution_count": 417,
      "outputs": []
    },
    {
      "cell_type": "code",
      "metadata": {
        "id": "T-dIvVxINtjP",
        "colab_type": "code",
        "colab": {
          "base_uri": "https://localhost:8080/",
          "height": 399
        },
        "outputId": "c58c7843-9817-4f15-c7ae-e616ad60cff5"
      },
      "source": [
        "src"
      ],
      "execution_count": 418,
      "outputs": [
        {
          "output_type": "execute_result",
          "data": {
            "text/plain": [
              "array([[ 0.00000000e+00, -3.35016487e-01, -1.09493684e+00,\n",
              "        -2.78643746e+00, -2.76424203e+00, -1.02065685e+00,\n",
              "        -4.09723921e-01, -1.25022923e-01, -5.90775571e-02,\n",
              "        -6.24009262e-01,  8.51981802e-01, -3.01259995e+00,\n",
              "         9.87303977e-01, -1.35109507e+00, -5.14991458e-01,\n",
              "        -1.30433381e-01, -4.46250733e-02, -7.27646281e-01,\n",
              "         8.95880438e-01, -1.20543167e+00,  1.27989088e+00,\n",
              "        -1.25998248e+00, -5.48805463e-01, -1.14221844e-01,\n",
              "        -3.33797263e-02,  3.98337420e+00,  9.54513151e-01,\n",
              "        -1.49990136e+00,  8.24810596e-01, -1.28625035e+00,\n",
              "        -6.28895882e-01, -4.72323823e-02,  0.00000000e+00,\n",
              "         3.63871114e+00, -1.21260656e+00, -1.44763006e+00,\n",
              "         7.92062324e-01, -1.48986148e+00, -8.22694515e-01,\n",
              "         0.00000000e+00,  1.03283569e+02,  4.50060728e+00,\n",
              "         1.24209958e+00,  1.20688552e+00,  1.17098727e+00,\n",
              "         1.18784054e+00,  2.66613420e+00, -8.87416172e-02,\n",
              "        -3.54332626e-02, -4.03574986e-01, -1.33033057e+00,\n",
              "        -1.82551805e+00,  1.05342397e+00, -1.45261152e+00,\n",
              "        -7.57435810e-01, -2.09785127e-01, -2.35964589e-02,\n",
              "        -2.99081347e-01, -1.08938309e+00, -2.76417101e+00,\n",
              "         6.46898245e-01, -1.14664746e+00, -5.05669803e-01,\n",
              "        -1.96007519e-01]])"
            ]
          },
          "metadata": {
            "tags": []
          },
          "execution_count": 418
        }
      ]
    },
    {
      "cell_type": "code",
      "metadata": {
        "id": "2dxUOLaeNuUq",
        "colab_type": "code",
        "colab": {
          "base_uri": "https://localhost:8080/",
          "height": 35
        },
        "outputId": "0186ecc7-5bd6-4acc-ff7b-a607e0eb3080"
      },
      "source": [
        "mlp.predict(src)"
      ],
      "execution_count": 419,
      "outputs": [
        {
          "output_type": "execute_result",
          "data": {
            "text/plain": [
              "array([4])"
            ]
          },
          "metadata": {
            "tags": []
          },
          "execution_count": 419
        }
      ]
    },
    {
      "cell_type": "code",
      "metadata": {
        "id": "YFBDpMMqNx9q",
        "colab_type": "code",
        "colab": {
          "base_uri": "https://localhost:8080/",
          "height": 35
        },
        "outputId": "992e2f6c-69b6-494c-ac88-ce253905e176"
      },
      "source": [
        "from joblib import dump, load\n",
        "dump(mlp, 'mlp.joblib')"
      ],
      "execution_count": 420,
      "outputs": [
        {
          "output_type": "execute_result",
          "data": {
            "text/plain": [
              "['mlp.joblib']"
            ]
          },
          "metadata": {
            "tags": []
          },
          "execution_count": 420
        }
      ]
    },
    {
      "cell_type": "code",
      "metadata": {
        "id": "lPITy0DeOAPp",
        "colab_type": "code",
        "colab": {}
      },
      "source": [
        "mlp2 = load('mlp.joblib')"
      ],
      "execution_count": 421,
      "outputs": []
    },
    {
      "cell_type": "code",
      "metadata": {
        "id": "LWM7yzDEOHHb",
        "colab_type": "code",
        "colab": {
          "base_uri": "https://localhost:8080/",
          "height": 35
        },
        "outputId": "21d3a1d1-d826-4cb7-9d98-5655df45d311"
      },
      "source": [
        "mlp2.predict(src)"
      ],
      "execution_count": 422,
      "outputs": [
        {
          "output_type": "execute_result",
          "data": {
            "text/plain": [
              "array([4])"
            ]
          },
          "metadata": {
            "tags": []
          },
          "execution_count": 422
        }
      ]
    },
    {
      "cell_type": "code",
      "metadata": {
        "id": "2DfTZfg9Ocrg",
        "colab_type": "code",
        "colab": {}
      },
      "source": [
        ""
      ],
      "execution_count": null,
      "outputs": []
    },
    {
      "cell_type": "markdown",
      "metadata": {
        "id": "3eU1vgBVOdMg",
        "colab_type": "text"
      },
      "source": [
        "## 請使用 MLPClassfier 建立 iris 預測模型"
      ]
    },
    {
      "cell_type": "code",
      "metadata": {
        "id": "MZ_dJzQPOIqJ",
        "colab_type": "code",
        "colab": {}
      },
      "source": [
        ""
      ],
      "execution_count": null,
      "outputs": []
    }
  ]
}