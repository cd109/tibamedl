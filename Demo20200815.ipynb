{
  "nbformat": 4,
  "nbformat_minor": 0,
  "metadata": {
    "colab": {
      "name": "Demo20200815.ipynb",
      "provenance": [],
      "collapsed_sections": []
    },
    "kernelspec": {
      "name": "python3",
      "display_name": "Python 3"
    },
    "accelerator": "GPU"
  },
  "cells": [
    {
      "cell_type": "code",
      "metadata": {
        "id": "0yIgE-a04ESK",
        "colab_type": "code",
        "colab": {
          "base_uri": "https://localhost:8080/",
          "height": 364
        },
        "outputId": "0e98f34e-0638-43ec-fccd-65794f4936a4"
      },
      "source": [
        "! nvidia-smi"
      ],
      "execution_count": 1,
      "outputs": [
        {
          "output_type": "stream",
          "text": [
            "Sat Aug 15 02:09:32 2020       \n",
            "+-----------------------------------------------------------------------------+\n",
            "| NVIDIA-SMI 450.57       Driver Version: 418.67       CUDA Version: 10.1     |\n",
            "|-------------------------------+----------------------+----------------------+\n",
            "| GPU  Name        Persistence-M| Bus-Id        Disp.A | Volatile Uncorr. ECC |\n",
            "| Fan  Temp  Perf  Pwr:Usage/Cap|         Memory-Usage | GPU-Util  Compute M. |\n",
            "|                               |                      |               MIG M. |\n",
            "|===============================+======================+======================|\n",
            "|   0  Tesla P100-PCIE...  Off  | 00000000:00:04.0 Off |                    0 |\n",
            "| N/A   33C    P0    26W / 250W |      0MiB / 16280MiB |      0%      Default |\n",
            "|                               |                      |                 ERR! |\n",
            "+-------------------------------+----------------------+----------------------+\n",
            "                                                                               \n",
            "+-----------------------------------------------------------------------------+\n",
            "| Processes:                                                                  |\n",
            "|  GPU   GI   CI        PID   Type   Process name                  GPU Memory |\n",
            "|        ID   ID                                                   Usage      |\n",
            "|=============================================================================|\n",
            "|  No running processes found                                                 |\n",
            "+-----------------------------------------------------------------------------+\n"
          ],
          "name": "stdout"
        }
      ]
    },
    {
      "cell_type": "markdown",
      "metadata": {
        "id": "PUQqoSN14buS",
        "colab_type": "text"
      },
      "source": [
        "## LSTM"
      ]
    },
    {
      "cell_type": "markdown",
      "metadata": {
        "id": "vbJvKXP2ApAh",
        "colab_type": "text"
      },
      "source": [
        "### 讀取資料"
      ]
    },
    {
      "cell_type": "code",
      "metadata": {
        "id": "pqGerLL94bAE",
        "colab_type": "code",
        "colab": {}
      },
      "source": [
        "import pandas_datareader\n",
        "dataset = pandas_datareader.get_data_yahoo('2330.TW', start = '2000-01-01')"
      ],
      "execution_count": 4,
      "outputs": []
    },
    {
      "cell_type": "code",
      "metadata": {
        "id": "HJs5taE-4vwJ",
        "colab_type": "code",
        "colab": {
          "base_uri": "https://localhost:8080/",
          "height": 233
        },
        "outputId": "ac043e24-70d8-4d96-9742-444ad90cfdaf"
      },
      "source": [
        "dataset.head()"
      ],
      "execution_count": 5,
      "outputs": [
        {
          "output_type": "execute_result",
          "data": {
            "text/html": [
              "<div>\n",
              "<style scoped>\n",
              "    .dataframe tbody tr th:only-of-type {\n",
              "        vertical-align: middle;\n",
              "    }\n",
              "\n",
              "    .dataframe tbody tr th {\n",
              "        vertical-align: top;\n",
              "    }\n",
              "\n",
              "    .dataframe thead th {\n",
              "        text-align: right;\n",
              "    }\n",
              "</style>\n",
              "<table border=\"1\" class=\"dataframe\">\n",
              "  <thead>\n",
              "    <tr style=\"text-align: right;\">\n",
              "      <th></th>\n",
              "      <th>High</th>\n",
              "      <th>Low</th>\n",
              "      <th>Open</th>\n",
              "      <th>Close</th>\n",
              "      <th>Volume</th>\n",
              "      <th>Adj Close</th>\n",
              "    </tr>\n",
              "    <tr>\n",
              "      <th>Date</th>\n",
              "      <th></th>\n",
              "      <th></th>\n",
              "      <th></th>\n",
              "      <th></th>\n",
              "      <th></th>\n",
              "      <th></th>\n",
              "    </tr>\n",
              "  </thead>\n",
              "  <tbody>\n",
              "    <tr>\n",
              "      <th>2000-01-04</th>\n",
              "      <td>69.649002</td>\n",
              "      <td>68.475197</td>\n",
              "      <td>69.649002</td>\n",
              "      <td>69.649002</td>\n",
              "      <td>2.006623e+11</td>\n",
              "      <td>37.032295</td>\n",
              "    </tr>\n",
              "    <tr>\n",
              "      <th>2000-01-05</th>\n",
              "      <td>71.214104</td>\n",
              "      <td>68.866302</td>\n",
              "      <td>69.649002</td>\n",
              "      <td>71.214104</td>\n",
              "      <td>4.024668e+11</td>\n",
              "      <td>37.864456</td>\n",
              "    </tr>\n",
              "    <tr>\n",
              "      <th>2000-01-06</th>\n",
              "      <td>71.214104</td>\n",
              "      <td>69.649002</td>\n",
              "      <td>70.822899</td>\n",
              "      <td>69.649002</td>\n",
              "      <td>1.975457e+11</td>\n",
              "      <td>37.032295</td>\n",
              "    </tr>\n",
              "    <tr>\n",
              "      <th>2000-01-07</th>\n",
              "      <td>68.475197</td>\n",
              "      <td>66.518600</td>\n",
              "      <td>67.301300</td>\n",
              "      <td>67.692497</td>\n",
              "      <td>2.352703e+11</td>\n",
              "      <td>35.992020</td>\n",
              "    </tr>\n",
              "    <tr>\n",
              "      <th>2000-01-10</th>\n",
              "      <td>70.431396</td>\n",
              "      <td>68.475197</td>\n",
              "      <td>69.649002</td>\n",
              "      <td>70.040199</td>\n",
              "      <td>2.761717e+11</td>\n",
              "      <td>37.240295</td>\n",
              "    </tr>\n",
              "  </tbody>\n",
              "</table>\n",
              "</div>"
            ],
            "text/plain": [
              "                 High        Low       Open      Close        Volume  Adj Close\n",
              "Date                                                                           \n",
              "2000-01-04  69.649002  68.475197  69.649002  69.649002  2.006623e+11  37.032295\n",
              "2000-01-05  71.214104  68.866302  69.649002  71.214104  4.024668e+11  37.864456\n",
              "2000-01-06  71.214104  69.649002  70.822899  69.649002  1.975457e+11  37.032295\n",
              "2000-01-07  68.475197  66.518600  67.301300  67.692497  2.352703e+11  35.992020\n",
              "2000-01-10  70.431396  68.475197  69.649002  70.040199  2.761717e+11  37.240295"
            ]
          },
          "metadata": {
            "tags": []
          },
          "execution_count": 5
        }
      ]
    },
    {
      "cell_type": "code",
      "metadata": {
        "id": "KaGiWsa04ww5",
        "colab_type": "code",
        "colab": {
          "base_uri": "https://localhost:8080/",
          "height": 337
        },
        "outputId": "16a6b6cf-44f1-4e87-a01f-207f370fdd59"
      },
      "source": [
        "dataset['Close'].plot(kind = 'line', figsize = [10,5])"
      ],
      "execution_count": 7,
      "outputs": [
        {
          "output_type": "execute_result",
          "data": {
            "text/plain": [
              "<matplotlib.axes._subplots.AxesSubplot at 0x7fcd0219e908>"
            ]
          },
          "metadata": {
            "tags": []
          },
          "execution_count": 7
        },
        {
          "output_type": "display_data",
          "data": {
            "image/png": "[encoded data removed]",
            "text/plain": [
              "<Figure size 720x360 with 1 Axes>"
            ]
          },
          "metadata": {
            "tags": [],
            "needs_background": "light"
          }
        }
      ]
    },
    {
      "cell_type": "code",
      "metadata": {
        "id": "NjwYHBwd48Pp",
        "colab_type": "code",
        "colab": {}
      },
      "source": [
        "dataset = dataset[['Close']].values "
      ],
      "execution_count": 9,
      "outputs": []
    },
    {
      "cell_type": "markdown",
      "metadata": {
        "id": "X5qaBLrSArKA",
        "colab_type": "text"
      },
      "source": [
        "### 資料標準化"
      ]
    },
    {
      "cell_type": "code",
      "metadata": {
        "id": "jTv6C_Hv5MkK",
        "colab_type": "code",
        "colab": {}
      },
      "source": [
        "from sklearn.preprocessing import MinMaxScaler\n",
        "sc = MinMaxScaler(feature_range = (0, 1))\n",
        "training_set_scaled  = sc.fit_transform(dataset)"
      ],
      "execution_count": 12,
      "outputs": []
    },
    {
      "cell_type": "code",
      "metadata": {
        "id": "Cbgb5GWu5Wcq",
        "colab_type": "code",
        "colab": {
          "base_uri": "https://localhost:8080/",
          "height": 139
        },
        "outputId": "6f339eb6-2f35-4c03-e2df-f841bd7cd08d"
      },
      "source": [
        "training_set_scaled"
      ],
      "execution_count": 13,
      "outputs": [
        {
          "output_type": "execute_result",
          "data": {
            "text/plain": [
              "array([[0.10339779],\n",
              "       [0.10723344],\n",
              "       [0.10339779],\n",
              "       ...,\n",
              "       [0.95956295],\n",
              "       [0.98407025],\n",
              "       [0.97916879]])"
            ]
          },
          "metadata": {
            "tags": []
          },
          "execution_count": 13
        }
      ]
    },
    {
      "cell_type": "code",
      "metadata": {
        "id": "gXQQpI1E6eJj",
        "colab_type": "code",
        "colab": {
          "base_uri": "https://localhost:8080/",
          "height": 35
        },
        "outputId": "9fe6af79-bc22-4893-a30c-4871defdb8bb"
      },
      "source": [
        "len(training_set_scaled)"
      ],
      "execution_count": 14,
      "outputs": [
        {
          "output_type": "execute_result",
          "data": {
            "text/plain": [
              "5079"
            ]
          },
          "metadata": {
            "tags": []
          },
          "execution_count": 14
        }
      ]
    },
    {
      "cell_type": "code",
      "metadata": {
        "id": "L3zeH7Ts5_s5",
        "colab_type": "code",
        "colab": {}
      },
      "source": [
        "import numpy as np\n",
        "X_train = []\n",
        "y_train = []\n",
        "for i in range(60,len(training_set_scaled)):\n",
        "  X_train.append(training_set_scaled[i-60:i,0])\n",
        "  y_train.append(training_set_scaled[i,0])"
      ],
      "execution_count": 17,
      "outputs": []
    },
    {
      "cell_type": "code",
      "metadata": {
        "id": "1Q4_4vT96m4q",
        "colab_type": "code",
        "colab": {}
      },
      "source": [
        "X_train, y_train = np.array(X_train), np.array(y_train)"
      ],
      "execution_count": 18,
      "outputs": []
    },
    {
      "cell_type": "code",
      "metadata": {
        "id": "eYMfveKR6_5b",
        "colab_type": "code",
        "colab": {
          "base_uri": "https://localhost:8080/",
          "height": 35
        },
        "outputId": "32856aa0-b9a9-4394-9c23-be2b98e99c8d"
      },
      "source": [
        "X_train.shape"
      ],
      "execution_count": 19,
      "outputs": [
        {
          "output_type": "execute_result",
          "data": {
            "text/plain": [
              "(5019, 60)"
            ]
          },
          "metadata": {
            "tags": []
          },
          "execution_count": 19
        }
      ]
    },
    {
      "cell_type": "code",
      "metadata": {
        "id": "Ye7zjoJn7Bg6",
        "colab_type": "code",
        "colab": {
          "base_uri": "https://localhost:8080/",
          "height": 225
        },
        "outputId": "bf41ade2-30ec-412b-d794-8c9967d8e4a8"
      },
      "source": [
        "X_train[0]"
      ],
      "execution_count": 21,
      "outputs": [
        {
          "output_type": "execute_result",
          "data": {
            "text/plain": [
              "array([0.10339779, 0.10723344, 0.10339779, 0.09860293, 0.10435651,\n",
              "       0.10147961, 0.1062747 , 0.10339779, 0.10723344, 0.11202828,\n",
              "       0.10915136, 0.10915136, 0.10723344, 0.11106882, 0.112987  ,\n",
              "       0.11778187, 0.1302475 , 0.13216568, 0.1283303 , 0.12737083,\n",
              "       0.12641212, 0.12641212, 0.12641212, 0.12641212, 0.12641212,\n",
              "       0.12641212, 0.13504261, 0.13791927, 0.14271438, 0.13791927,\n",
              "       0.138878  , 0.13696079, 0.13504261, 0.13216568, 0.11969906,\n",
              "       0.11969906, 0.11874034, 0.11969906, 0.12353544, 0.12353544,\n",
              "       0.12545265, 0.1302475 , 0.12737083, 0.12737083, 0.12449393,\n",
              "       0.12353544, 0.12257574, 0.12449393, 0.11969906, 0.10723344,\n",
              "       0.11106882, 0.10819191, 0.10915136, 0.11490495, 0.10915136,\n",
              "       0.11969906, 0.11682216, 0.12545265, 0.12257574, 0.13504261])"
            ]
          },
          "metadata": {
            "tags": []
          },
          "execution_count": 21
        }
      ]
    },
    {
      "cell_type": "code",
      "metadata": {
        "id": "I7JVmRoP7N_6",
        "colab_type": "code",
        "colab": {
          "base_uri": "https://localhost:8080/",
          "height": 35
        },
        "outputId": "a545e532-f693-4778-f0ed-4f593950ca8e"
      },
      "source": [
        "y_train.shape"
      ],
      "execution_count": 22,
      "outputs": [
        {
          "output_type": "execute_result",
          "data": {
            "text/plain": [
              "(5019,)"
            ]
          },
          "metadata": {
            "tags": []
          },
          "execution_count": 22
        }
      ]
    },
    {
      "cell_type": "code",
      "metadata": {
        "id": "5ITkmEDj7Pla",
        "colab_type": "code",
        "colab": {}
      },
      "source": [
        "X_train = np.reshape(X_train, (X_train.shape[0], X_train.shape[1], 1))"
      ],
      "execution_count": 23,
      "outputs": []
    },
    {
      "cell_type": "code",
      "metadata": {
        "id": "QM7_Ukfk8Kys",
        "colab_type": "code",
        "colab": {
          "base_uri": "https://localhost:8080/",
          "height": 35
        },
        "outputId": "d3057a0c-9f5e-4ec6-f167-3fb9d96ab8a9"
      },
      "source": [
        "X_train.shape"
      ],
      "execution_count": 24,
      "outputs": [
        {
          "output_type": "execute_result",
          "data": {
            "text/plain": [
              "(5019, 60, 1)"
            ]
          },
          "metadata": {
            "tags": []
          },
          "execution_count": 24
        }
      ]
    },
    {
      "cell_type": "markdown",
      "metadata": {
        "id": "Zs_ARiU08O21",
        "colab_type": "text"
      },
      "source": [
        "(5019, 60, 1)\n",
        "\n",
        "- 5019: 資料筆數\n",
        "- 60: 時間的 sliding window\n",
        "- 1: 特徵數量"
      ]
    },
    {
      "cell_type": "markdown",
      "metadata": {
        "id": "yC7RDcgnAuc4",
        "colab_type": "text"
      },
      "source": [
        "### 建立模型"
      ]
    },
    {
      "cell_type": "code",
      "metadata": {
        "id": "MNmqcGJO8MKr",
        "colab_type": "code",
        "colab": {}
      },
      "source": [
        "% tensorflow_version 2.x"
      ],
      "execution_count": 25,
      "outputs": []
    },
    {
      "cell_type": "code",
      "metadata": {
        "id": "bcd5akKZ8jrr",
        "colab_type": "code",
        "colab": {}
      },
      "source": [
        "import tensorflow as tf"
      ],
      "execution_count": 26,
      "outputs": []
    },
    {
      "cell_type": "code",
      "metadata": {
        "id": "O-IpCof_8oVr",
        "colab_type": "code",
        "colab": {}
      },
      "source": [
        "from tensorflow.keras.models import Sequential \n",
        "from tensorflow.keras.layers import Dense, LSTM, Dropout\n"
      ],
      "execution_count": 27,
      "outputs": []
    },
    {
      "cell_type": "code",
      "metadata": {
        "id": "U0kZCnnf8v0r",
        "colab_type": "code",
        "colab": {}
      },
      "source": [
        "regressor = Sequential()\n",
        "regressor.add(LSTM(units = 50, return_sequences = True, input_shape = (X_train.shape[1], 1)))\n",
        "regressor.add(Dropout(0.2))\n",
        "\n",
        "regressor.add(LSTM(units = 50, return_sequences = True)) \n",
        "regressor.add(Dropout(0.2))\n",
        "\n",
        "regressor.add(LSTM(units = 50, return_sequences = True)) \n",
        "regressor.add(Dropout(0.2))\n",
        "\n",
        "regressor.add(LSTM(units = 50))\n",
        "regressor.add(Dropout(0.2))\n",
        "\n",
        "regressor.add(Dense(units = 1))"
      ],
      "execution_count": 28,
      "outputs": []
    },
    {
      "cell_type": "code",
      "metadata": {
        "id": "zQEprLkf957m",
        "colab_type": "code",
        "colab": {
          "base_uri": "https://localhost:8080/",
          "height": 468
        },
        "outputId": "5b894bfd-6f07-432d-9860-2a1b6246a921"
      },
      "source": [
        "regressor.summary()"
      ],
      "execution_count": 30,
      "outputs": [
        {
          "output_type": "stream",
          "text": [
            "Model: \"sequential\"\n",
            "_________________________________________________________________\n",
            "Layer (type)                 Output Shape              Param #   \n",
            "=================================================================\n",
            "lstm (LSTM)                  (None, 60, 50)            10400     \n",
            "_________________________________________________________________\n",
            "dropout (Dropout)            (None, 60, 50)            0         \n",
            "_________________________________________________________________\n",
            "lstm_1 (LSTM)                (None, 60, 50)            20200     \n",
            "_________________________________________________________________\n",
            "dropout_1 (Dropout)          (None, 60, 50)            0         \n",
            "_________________________________________________________________\n",
            "lstm_2 (LSTM)                (None, 60, 50)            20200     \n",
            "_________________________________________________________________\n",
            "dropout_2 (Dropout)          (None, 60, 50)            0         \n",
            "_________________________________________________________________\n",
            "lstm_3 (LSTM)                (None, 50)                20200     \n",
            "_________________________________________________________________\n",
            "dropout_3 (Dropout)          (None, 50)                0         \n",
            "_________________________________________________________________\n",
            "dense (Dense)                (None, 1)                 51        \n",
            "=================================================================\n",
            "Total params: 71,051\n",
            "Trainable params: 71,051\n",
            "Non-trainable params: 0\n",
            "_________________________________________________________________\n"
          ],
          "name": "stdout"
        }
      ]
    },
    {
      "cell_type": "code",
      "metadata": {
        "id": "OzS-zBJQ9R08",
        "colab_type": "code",
        "colab": {}
      },
      "source": [
        "regressor.compile(optimizer = 'adam', loss = 'mean_squared_error')\n",
        "regressor.fit(X_train, y_train, epochs = 100, batch_size = 32)"
      ],
      "execution_count": null,
      "outputs": []
    },
    {
      "cell_type": "markdown",
      "metadata": {
        "id": "VGp_8aWtAxjY",
        "colab_type": "text"
      },
      "source": [
        "### 驗證模型"
      ]
    },
    {
      "cell_type": "code",
      "metadata": {
        "id": "E3YM3QVG9mqL",
        "colab_type": "code",
        "colab": {}
      },
      "source": [
        "pred_y = regressor.predict(X_train)"
      ],
      "execution_count": 32,
      "outputs": []
    },
    {
      "cell_type": "code",
      "metadata": {
        "id": "me11zjPc-MnM",
        "colab_type": "code",
        "colab": {
          "base_uri": "https://localhost:8080/",
          "height": 279
        },
        "outputId": "9ad0d40d-9b76-4fb0-ce45-d91933b71b7f"
      },
      "source": [
        "\n",
        "from matplotlib import pyplot as plt\n",
        "plt.plot(y_train, color = 'red', label = 'Real Price')\n",
        "plt.plot(pred_y, color = 'blue', label = 'Predicted Price')\n",
        "plt.xlabel('Time')\n",
        "plt.ylabel('Predicted Price')\n",
        "plt.legend()\n",
        "plt.show()"
      ],
      "execution_count": 35,
      "outputs": [
        {
          "output_type": "display_data",
          "data": {
            "image/png": "[encoded data removed]",
            "text/plain": [
              "<Figure size 432x288 with 1 Axes>"
            ]
          },
          "metadata": {
            "tags": [],
            "needs_background": "light"
          }
        }
      ]
    },
    {
      "cell_type": "markdown",
      "metadata": {
        "id": "GejkIEyW-w0W",
        "colab_type": "text"
      },
      "source": [
        "## 將資料分為訓練與測試資料集"
      ]
    },
    {
      "cell_type": "code",
      "metadata": {
        "id": "OcWLSU7K-4rF",
        "colab_type": "code",
        "colab": {
          "base_uri": "https://localhost:8080/",
          "height": 35
        },
        "outputId": "a211d631-a691-4e60-ced8-2dd9e024449d"
      },
      "source": [
        "len(training_set_scaled)"
      ],
      "execution_count": 36,
      "outputs": [
        {
          "output_type": "execute_result",
          "data": {
            "text/plain": [
              "5079"
            ]
          },
          "metadata": {
            "tags": []
          },
          "execution_count": 36
        }
      ]
    },
    {
      "cell_type": "code",
      "metadata": {
        "id": "UXChMwsP-2hd",
        "colab_type": "code",
        "colab": {}
      },
      "source": [
        "import numpy as np\n",
        "X_train = []\n",
        "y_train = []\n",
        "for i in range(60,4000):\n",
        "  X_train.append(training_set_scaled[i-60:i,0])\n",
        "  y_train.append(training_set_scaled[i,0])\n",
        "\n",
        "\n",
        "X_test = []\n",
        "y_test = []\n",
        "\n",
        "for i in range(4000 - 60,len(training_set_scaled)):\n",
        "  X_test.append(training_set_scaled[i-60:i,0])\n",
        "  y_test.append(training_set_scaled[i,0])"
      ],
      "execution_count": 42,
      "outputs": []
    },
    {
      "cell_type": "code",
      "metadata": {
        "id": "hj2o4E09_Tcu",
        "colab_type": "code",
        "colab": {}
      },
      "source": [
        "X_train, y_train = np.array(X_train), np.array(y_train)\n",
        "X_test, y_test = np.array(X_test), np.array(y_test)"
      ],
      "execution_count": 43,
      "outputs": []
    },
    {
      "cell_type": "code",
      "metadata": {
        "id": "ASVl6724_Kac",
        "colab_type": "code",
        "colab": {}
      },
      "source": [
        "X_train = np.reshape(X_train, (X_train.shape[0], X_train.shape[1], 1))\n",
        "X_test = np.reshape(X_test, (X_test.shape[0], X_test.shape[1], 1))"
      ],
      "execution_count": 44,
      "outputs": []
    },
    {
      "cell_type": "code",
      "metadata": {
        "id": "LHlhlb9y_pXH",
        "colab_type": "code",
        "colab": {}
      },
      "source": [
        "regressor = Sequential()\n",
        "regressor.add(LSTM(units = 50, return_sequences = True, input_shape = (X_train.shape[1], 1)))\n",
        "regressor.add(Dropout(0.2))\n",
        "\n",
        "regressor.add(LSTM(units = 50, return_sequences = True)) \n",
        "regressor.add(Dropout(0.2))\n",
        "\n",
        "regressor.add(LSTM(units = 50, return_sequences = True)) \n",
        "regressor.add(Dropout(0.2))\n",
        "\n",
        "regressor.add(LSTM(units = 50))\n",
        "regressor.add(Dropout(0.2))\n",
        "\n",
        "regressor.add(Dense(units = 1))"
      ],
      "execution_count": 46,
      "outputs": []
    },
    {
      "cell_type": "code",
      "metadata": {
        "id": "1LUCBlMS_N89",
        "colab_type": "code",
        "colab": {}
      },
      "source": [
        "regressor.compile(optimizer = 'adam', loss = 'mean_squared_error')\n",
        "regressor.fit(X_train, y_train, epochs = 20, batch_size = 32)"
      ],
      "execution_count": null,
      "outputs": []
    },
    {
      "cell_type": "code",
      "metadata": {
        "id": "1-9hbE5U_kD9",
        "colab_type": "code",
        "colab": {}
      },
      "source": [
        "pred_y = regressor.predict(X_test)"
      ],
      "execution_count": 48,
      "outputs": []
    },
    {
      "cell_type": "code",
      "metadata": {
        "id": "Ow-yD9J0AGUJ",
        "colab_type": "code",
        "colab": {
          "base_uri": "https://localhost:8080/",
          "height": 35
        },
        "outputId": "3a3d05c7-19ee-40b2-d2c3-b7e1a3515f9b"
      },
      "source": [
        "pred_y.shape"
      ],
      "execution_count": 51,
      "outputs": [
        {
          "output_type": "execute_result",
          "data": {
            "text/plain": [
              "(1139, 1)"
            ]
          },
          "metadata": {
            "tags": []
          },
          "execution_count": 51
        }
      ]
    },
    {
      "cell_type": "code",
      "metadata": {
        "id": "pz9H4MwQ_5yd",
        "colab_type": "code",
        "colab": {
          "base_uri": "https://localhost:8080/",
          "height": 279
        },
        "outputId": "23144ce7-8ac2-4362-c2c0-03c10cef8adb"
      },
      "source": [
        "\n",
        "from matplotlib import pyplot as plt\n",
        "plt.plot(y_test, color = 'red', label = 'Real Price')\n",
        "plt.plot(pred_y, color = 'blue', label = 'Predicted Price')\n",
        "plt.xlabel('Time')\n",
        "plt.ylabel('Predicted Price')\n",
        "plt.legend()\n",
        "plt.show()"
      ],
      "execution_count": 49,
      "outputs": [
        {
          "output_type": "display_data",
          "data": {
            "image/png": "[encoded data removed]",
            "text/plain": [
              "<Figure size 432x288 with 1 Axes>"
            ]
          },
          "metadata": {
            "tags": [],
            "needs_background": "light"
          }
        }
      ]
    },
    {
      "cell_type": "code",
      "metadata": {
        "id": "1yKprfWx_9Ft",
        "colab_type": "code",
        "colab": {}
      },
      "source": [
        "y_real_test = sc.inverse_transform(y_test.reshape(-1,1)).flatten()"
      ],
      "execution_count": 55,
      "outputs": []
    },
    {
      "cell_type": "code",
      "metadata": {
        "id": "vEPkQJ_xAX_-",
        "colab_type": "code",
        "colab": {}
      },
      "source": [
        "y_real_pred = sc.inverse_transform(pred_y.reshape(-1,1)).flatten()"
      ],
      "execution_count": 56,
      "outputs": []
    },
    {
      "cell_type": "code",
      "metadata": {
        "id": "_H_g-M8uAcHO",
        "colab_type": "code",
        "colab": {
          "base_uri": "https://localhost:8080/",
          "height": 283
        },
        "outputId": "7cad487f-48e8-47d3-9c51-b8fab93feada"
      },
      "source": [
        "\n",
        "from matplotlib import pyplot as plt\n",
        "plt.plot(y_real_test, color = 'red', label = 'Real Price')\n",
        "plt.plot(y_real_pred, color = 'blue', label = 'Predicted Price')\n",
        "plt.xlabel('Time')\n",
        "plt.ylabel('Predicted Price')\n",
        "plt.legend()\n",
        "plt.show()"
      ],
      "execution_count": 57,
      "outputs": [
        {
          "output_type": "display_data",
          "data": {
            "image/png": "[encoded data removed]",
            "text/plain": [
              "<Figure size 432x288 with 1 Axes>"
            ]
          },
          "metadata": {
            "tags": [],
            "needs_background": "light"
          }
        }
      ]
    },
    {
      "cell_type": "code",
      "metadata": {
        "id": "UTpGDMS1Afze",
        "colab_type": "code",
        "colab": {}
      },
      "source": [
        ""
      ],
      "execution_count": null,
      "outputs": []
    }
  ]
}