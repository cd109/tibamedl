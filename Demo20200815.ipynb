{
  "nbformat": 4,
  "nbformat_minor": 0,
  "metadata": {
    "colab": {
      "name": "Demo20200815.ipynb",
      "provenance": [],
      "collapsed_sections": []
    },
    "kernelspec": {
      "name": "python3",
      "display_name": "Python 3"
    },
    "accelerator": "GPU"
  },
  "cells": [
    {
      "cell_type": "code",
      "metadata": {
        "id": "0yIgE-a04ESK",
        "colab_type": "code",
        "colab": {
          "base_uri": "https://localhost:8080/",
          "height": 364
        },
        "outputId": "0e98f34e-0638-43ec-fccd-65794f4936a4"
      },
      "source": [
        "! nvidia-smi"
      ],
      "execution_count": 1,
      "outputs": [
        {
          "output_type": "stream",
          "text": [
            "Sat Aug 15 02:09:32 2020       \n",
            "+-----------------------------------------------------------------------------+\n",
            "| NVIDIA-SMI 450.57       Driver Version: 418.67       CUDA Version: 10.1     |\n",
            "|-------------------------------+----------------------+----------------------+\n",
            "| GPU  Name        Persistence-M| Bus-Id        Disp.A | Volatile Uncorr. ECC |\n",
            "| Fan  Temp  Perf  Pwr:Usage/Cap|         Memory-Usage | GPU-Util  Compute M. |\n",
            "|                               |                      |               MIG M. |\n",
            "|===============================+======================+======================|\n",
            "|   0  Tesla P100-PCIE...  Off  | 00000000:00:04.0 Off |                    0 |\n",
            "| N/A   33C    P0    26W / 250W |      0MiB / 16280MiB |      0%      Default |\n",
            "|                               |                      |                 ERR! |\n",
            "+-------------------------------+----------------------+----------------------+\n",
            "                                                                               \n",
            "+-----------------------------------------------------------------------------+\n",
            "| Processes:                                                                  |\n",
            "|  GPU   GI   CI        PID   Type   Process name                  GPU Memory |\n",
            "|        ID   ID                                                   Usage      |\n",
            "|=============================================================================|\n",
            "|  No running processes found                                                 |\n",
            "+-----------------------------------------------------------------------------+\n"
          ],
          "name": "stdout"
        }
      ]
    },
    {
      "cell_type": "markdown",
      "metadata": {
        "id": "PUQqoSN14buS",
        "colab_type": "text"
      },
      "source": [
        "## LSTM"
      ]
    },
    {
      "cell_type": "markdown",
      "metadata": {
        "id": "vbJvKXP2ApAh",
        "colab_type": "text"
      },
      "source": [
        "### 讀取資料"
      ]
    },
    {
      "cell_type": "code",
      "metadata": {
        "id": "pqGerLL94bAE",
        "colab_type": "code",
        "colab": {}
      },
      "source": [
        "import pandas_datareader\n",
        "dataset = pandas_datareader.get_data_yahoo('2330.TW', start = '2000-01-01')"
      ],
      "execution_count": 4,
      "outputs": []
    },
    {
      "cell_type": "code",
      "metadata": {
        "id": "HJs5taE-4vwJ",
        "colab_type": "code",
        "colab": {
          "base_uri": "https://localhost:8080/",
          "height": 233
        },
        "outputId": "ac043e24-70d8-4d96-9742-444ad90cfdaf"
      },
      "source": [
        "dataset.head()"
      ],
      "execution_count": 5,
      "outputs": [
        {
          "output_type": "execute_result",
          "data": {
            "text/html": [
              "<div>\n",
              "<style scoped>\n",
              "    .dataframe tbody tr th:only-of-type {\n",
              "        vertical-align: middle;\n",
              "    }\n",
              "\n",
              "    .dataframe tbody tr th {\n",
              "        vertical-align: top;\n",
              "    }\n",
              "\n",
              "    .dataframe thead th {\n",
              "        text-align: right;\n",
              "    }\n",
              "</style>\n",
              "<table border=\"1\" class=\"dataframe\">\n",
              "  <thead>\n",
              "    <tr style=\"text-align: right;\">\n",
              "      <th></th>\n",
              "      <th>High</th>\n",
              "      <th>Low</th>\n",
              "      <th>Open</th>\n",
              "      <th>Close</th>\n",
              "      <th>Volume</th>\n",
              "      <th>Adj Close</th>\n",
              "    </tr>\n",
              "    <tr>\n",
              "      <th>Date</th>\n",
              "      <th></th>\n",
              "      <th></th>\n",
              "      <th></th>\n",
              "      <th></th>\n",
              "      <th></th>\n",
              "      <th></th>\n",
              "    </tr>\n",
              "  </thead>\n",
              "  <tbody>\n",
              "    <tr>\n",
              "      <th>2000-01-04</th>\n",
              "      <td>69.649002</td>\n",
              "      <td>68.475197</td>\n",
              "      <td>69.649002</td>\n",
              "      <td>69.649002</td>\n",
              "      <td>2.006623e+11</td>\n",
              "      <td>37.032295</td>\n",
              "    </tr>\n",
              "    <tr>\n",
              "      <th>2000-01-05</th>\n",
              "      <td>71.214104</td>\n",
              "      <td>68.866302</td>\n",
              "      <td>69.649002</td>\n",
              "      <td>71.214104</td>\n",
              "      <td>4.024668e+11</td>\n",
              "      <td>37.864456</td>\n",
              "    </tr>\n",
              "    <tr>\n",
              "      <th>2000-01-06</th>\n",
              "      <td>71.214104</td>\n",
              "      <td>69.649002</td>\n",
              "      <td>70.822899</td>\n",
              "      <td>69.649002</td>\n",
              "      <td>1.975457e+11</td>\n",
              "      <td>37.032295</td>\n",
              "    </tr>\n",
              "    <tr>\n",
              "      <th>2000-01-07</th>\n",
              "      <td>68.475197</td>\n",
              "      <td>66.518600</td>\n",
              "      <td>67.301300</td>\n",
              "      <td>67.692497</td>\n",
              "      <td>2.352703e+11</td>\n",
              "      <td>35.992020</td>\n",
              "    </tr>\n",
              "    <tr>\n",
              "      <th>2000-01-10</th>\n",
              "      <td>70.431396</td>\n",
              "      <td>68.475197</td>\n",
              "      <td>69.649002</td>\n",
              "      <td>70.040199</td>\n",
              "      <td>2.761717e+11</td>\n",
              "      <td>37.240295</td>\n",
              "    </tr>\n",
              "  </tbody>\n",
              "</table>\n",
              "</div>"
            ],
            "text/plain": [
              "                 High        Low       Open      Close        Volume  Adj Close\n",
              "Date                                                                           \n",
              "2000-01-04  69.649002  68.475197  69.649002  69.649002  2.006623e+11  37.032295\n",
              "2000-01-05  71.214104  68.866302  69.649002  71.214104  4.024668e+11  37.864456\n",
              "2000-01-06  71.214104  69.649002  70.822899  69.649002  1.975457e+11  37.032295\n",
              "2000-01-07  68.475197  66.518600  67.301300  67.692497  2.352703e+11  35.992020\n",
              "2000-01-10  70.431396  68.475197  69.649002  70.040199  2.761717e+11  37.240295"
            ]
          },
          "metadata": {
            "tags": []
          },
          "execution_count": 5
        }
      ]
    },
    {
      "cell_type": "code",
      "metadata": {
        "id": "KaGiWsa04ww5",
        "colab_type": "code",
        "colab": {
          "base_uri": "https://localhost:8080/",
          "height": 337
        },
        "outputId": "16a6b6cf-44f1-4e87-a01f-207f370fdd59"
      },
      "source": [
        "dataset['Close'].plot(kind = 'line', figsize = [10,5])"
      ],
      "execution_count": 7,
      "outputs": [
        {
          "output_type": "execute_result",
          "data": {
            "text/plain": [
              "<matplotlib.axes._subplots.AxesSubplot at 0x7fcd0219e908>"
            ]
          },
          "metadata": {
            "tags": []
          },
          "execution_count": 7
        },
        {
          "output_type": "display_data",
          "data": {
            "image/png": "[encoded data removed]",
            "text/plain": [
              "<Figure size 720x360 with 1 Axes>"
            ]
          },
          "metadata": {
            "tags": [],
            "needs_background": "light"
          }
        }
      ]
    },
    {
      "cell_type": "code",
      "metadata": {
        "id": "NjwYHBwd48Pp",
        "colab_type": "code",
        "colab": {}
      },
      "source": [
        "dataset = dataset[['Close']].values "
      ],
      "execution_count": 9,
      "outputs": []
    },
    {
      "cell_type": "markdown",
      "metadata": {
        "id": "X5qaBLrSArKA",
        "colab_type": "text"
      },
      "source": [
        "### 資料標準化"
      ]
    },
    {
      "cell_type": "code",
      "metadata": {
        "id": "jTv6C_Hv5MkK",
        "colab_type": "code",
        "colab": {}
      },
      "source": [
        "from sklearn.preprocessing import MinMaxScaler\n",
        "sc = MinMaxScaler(feature_range = (0, 1))\n",
        "training_set_scaled  = sc.fit_transform(dataset)"
      ],
      "execution_count": 12,
      "outputs": []
    },
    {
      "cell_type": "code",
      "metadata": {
        "id": "Cbgb5GWu5Wcq",
        "colab_type": "code",
        "colab": {
          "base_uri": "https://localhost:8080/",
          "height": 139
        },
        "outputId": "6f339eb6-2f35-4c03-e2df-f841bd7cd08d"
      },
      "source": [
        "training_set_scaled"
      ],
      "execution_count": 13,
      "outputs": [
        {
          "output_type": "execute_result",
          "data": {
            "text/plain": [
              "array([[0.10339779],\n",
              "       [0.10723344],\n",
              "       [0.10339779],\n",
              "       ...,\n",
              "       [0.95956295],\n",
              "       [0.98407025],\n",
              "       [0.97916879]])"
            ]
          },
          "metadata": {
            "tags": []
          },
          "execution_count": 13
        }
      ]
    },
    {
      "cell_type": "code",
      "metadata": {
        "id": "gXQQpI1E6eJj",
        "colab_type": "code",
        "colab": {
          "base_uri": "https://localhost:8080/",
          "height": 35
        },
        "outputId": "9fe6af79-bc22-4893-a30c-4871defdb8bb"
      },
      "source": [
        "len(training_set_scaled)"
      ],
      "execution_count": 14,
      "outputs": [
        {
          "output_type": "execute_result",
          "data": {
            "text/plain": [
              "5079"
            ]
          },
          "metadata": {
            "tags": []
          },
          "execution_count": 14
        }
      ]
    },
    {
      "cell_type": "code",
      "metadata": {
        "id": "L3zeH7Ts5_s5",
        "colab_type": "code",
        "colab": {}
      },
      "source": [
        "import numpy as np\n",
        "X_train = []\n",
        "y_train = []\n",
        "for i in range(60,len(training_set_scaled)):\n",
        "  X_train.append(training_set_scaled[i-60:i,0])\n",
        "  y_train.append(training_set_scaled[i,0])"
      ],
      "execution_count": 17,
      "outputs": []
    },
    {
      "cell_type": "code",
      "metadata": {
        "id": "1Q4_4vT96m4q",
        "colab_type": "code",
        "colab": {}
      },
      "source": [
        "X_train, y_train = np.array(X_train), np.array(y_train)"
      ],
      "execution_count": 18,
      "outputs": []
    },
    {
      "cell_type": "code",
      "metadata": {
        "id": "eYMfveKR6_5b",
        "colab_type": "code",
        "colab": {
          "base_uri": "https://localhost:8080/",
          "height": 35
        },
        "outputId": "32856aa0-b9a9-4394-9c23-be2b98e99c8d"
      },
      "source": [
        "X_train.shape"
      ],
      "execution_count": 19,
      "outputs": [
        {
          "output_type": "execute_result",
          "data": {
            "text/plain": [
              "(5019, 60)"
            ]
          },
          "metadata": {
            "tags": []
          },
          "execution_count": 19
        }
      ]
    },
    {
      "cell_type": "code",
      "metadata": {
        "id": "Ye7zjoJn7Bg6",
        "colab_type": "code",
        "colab": {
          "base_uri": "https://localhost:8080/",
          "height": 225
        },
        "outputId": "bf41ade2-30ec-412b-d794-8c9967d8e4a8"
      },
      "source": [
        "X_train[0]"
      ],
      "execution_count": 21,
      "outputs": [
        {
          "output_type": "execute_result",
          "data": {
            "text/plain": [
              "array([0.10339779, 0.10723344, 0.10339779, 0.09860293, 0.10435651,\n",
              "       0.10147961, 0.1062747 , 0.10339779, 0.10723344, 0.11202828,\n",
              "       0.10915136, 0.10915136, 0.10723344, 0.11106882, 0.112987  ,\n",
              "       0.11778187, 0.1302475 , 0.13216568, 0.1283303 , 0.12737083,\n",
              "       0.12641212, 0.12641212, 0.12641212, 0.12641212, 0.12641212,\n",
              "       0.12641212, 0.13504261, 0.13791927, 0.14271438, 0.13791927,\n",
              "       0.138878  , 0.13696079, 0.13504261, 0.13216568, 0.11969906,\n",
              "       0.11969906, 0.11874034, 0.11969906, 0.12353544, 0.12353544,\n",
              "       0.12545265, 0.1302475 , 0.12737083, 0.12737083, 0.12449393,\n",
              "       0.12353544, 0.12257574, 0.12449393, 0.11969906, 0.10723344,\n",
              "       0.11106882, 0.10819191, 0.10915136, 0.11490495, 0.10915136,\n",
              "       0.11969906, 0.11682216, 0.12545265, 0.12257574, 0.13504261])"
            ]
          },
          "metadata": {
            "tags": []
          },
          "execution_count": 21
        }
      ]
    },
    {
      "cell_type": "code",
      "metadata": {
        "id": "I7JVmRoP7N_6",
        "colab_type": "code",
        "colab": {
          "base_uri": "https://localhost:8080/",
          "height": 35
        },
        "outputId": "a545e532-f693-4778-f0ed-4f593950ca8e"
      },
      "source": [
        "y_train.shape"
      ],
      "execution_count": 22,
      "outputs": [
        {
          "output_type": "execute_result",
          "data": {
            "text/plain": [
              "(5019,)"
            ]
          },
          "metadata": {
            "tags": []
          },
          "execution_count": 22
        }
      ]
    },
    {
      "cell_type": "code",
      "metadata": {
        "id": "5ITkmEDj7Pla",
        "colab_type": "code",
        "colab": {}
      },
      "source": [
        "X_train = np.reshape(X_train, (X_train.shape[0], X_train.shape[1], 1))"
      ],
      "execution_count": 23,
      "outputs": []
    },
    {
      "cell_type": "code",
      "metadata": {
        "id": "QM7_Ukfk8Kys",
        "colab_type": "code",
        "colab": {
          "base_uri": "https://localhost:8080/",
          "height": 35
        },
        "outputId": "d3057a0c-9f5e-4ec6-f167-3fb9d96ab8a9"
      },
      "source": [
        "X_train.shape"
      ],
      "execution_count": 24,
      "outputs": [
        {
          "output_type": "execute_result",
          "data": {
            "text/plain": [
              "(5019, 60, 1)"
            ]
          },
          "metadata": {
            "tags": []
          },
          "execution_count": 24
        }
      ]
    },
    {
      "cell_type": "markdown",
      "metadata": {
        "id": "Zs_ARiU08O21",
        "colab_type": "text"
      },
      "source": [
        "(5019, 60, 1)\n",
        "\n",
        "- 5019: 資料筆數\n",
        "- 60: 時間的 sliding window\n",
        "- 1: 特徵數量"
      ]
    },
    {
      "cell_type": "markdown",
      "metadata": {
        "id": "yC7RDcgnAuc4",
        "colab_type": "text"
      },
      "source": [
        "### 建立模型"
      ]
    },
    {
      "cell_type": "code",
      "metadata": {
        "id": "MNmqcGJO8MKr",
        "colab_type": "code",
        "colab": {}
      },
      "source": [
        "% tensorflow_version 2.x"
      ],
      "execution_count": 25,
      "outputs": []
    },
    {
      "cell_type": "code",
      "metadata": {
        "id": "bcd5akKZ8jrr",
        "colab_type": "code",
        "colab": {}
      },
      "source": [
        "import tensorflow as tf"
      ],
      "execution_count": 26,
      "outputs": []
    },
    {
      "cell_type": "code",
      "metadata": {
        "id": "O-IpCof_8oVr",
        "colab_type": "code",
        "colab": {}
      },
      "source": [
        "from tensorflow.keras.models import Sequential \n",
        "from tensorflow.keras.layers import Dense, LSTM, Dropout\n"
      ],
      "execution_count": 27,
      "outputs": []
    },
    {
      "cell_type": "code",
      "metadata": {
        "id": "U0kZCnnf8v0r",
        "colab_type": "code",
        "colab": {}
      },
      "source": [
        "regressor = Sequential()\n",
        "regressor.add(LSTM(units = 50, return_sequences = True, input_shape = (X_train.shape[1], 1)))\n",
        "regressor.add(Dropout(0.2))\n",
        "\n",
        "regressor.add(LSTM(units = 50, return_sequences = True)) \n",
        "regressor.add(Dropout(0.2))\n",
        "\n",
        "regressor.add(LSTM(units = 50, return_sequences = True)) \n",
        "regressor.add(Dropout(0.2))\n",
        "\n",
        "regressor.add(LSTM(units = 50))\n",
        "regressor.add(Dropout(0.2))\n",
        "\n",
        "regressor.add(Dense(units = 1))"
      ],
      "execution_count": 28,
      "outputs": []
    },
    {
      "cell_type": "code",
      "metadata": {
        "id": "zQEprLkf957m",
        "colab_type": "code",
        "colab": {
          "base_uri": "https://localhost:8080/",
          "height": 468
        },
        "outputId": "5b894bfd-6f07-432d-9860-2a1b6246a921"
      },
      "source": [
        "regressor.summary()"
      ],
      "execution_count": 30,
      "outputs": [
        {
          "output_type": "stream",
          "text": [
            "Model: \"sequential\"\n",
            "_________________________________________________________________\n",
            "Layer (type)                 Output Shape              Param #   \n",
            "=================================================================\n",
            "lstm (LSTM)                  (None, 60, 50)            10400     \n",
            "_________________________________________________________________\n",
            "dropout (Dropout)            (None, 60, 50)            0         \n",
            "_________________________________________________________________\n",
            "lstm_1 (LSTM)                (None, 60, 50)            20200     \n",
            "_________________________________________________________________\n",
            "dropout_1 (Dropout)          (None, 60, 50)            0         \n",
            "_________________________________________________________________\n",
            "lstm_2 (LSTM)                (None, 60, 50)            20200     \n",
            "_________________________________________________________________\n",
            "dropout_2 (Dropout)          (None, 60, 50)            0         \n",
            "_________________________________________________________________\n",
            "lstm_3 (LSTM)                (None, 50)                20200     \n",
            "_________________________________________________________________\n",
            "dropout_3 (Dropout)          (None, 50)                0         \n",
            "_________________________________________________________________\n",
            "dense (Dense)                (None, 1)                 51        \n",
            "=================================================================\n",
            "Total params: 71,051\n",
            "Trainable params: 71,051\n",
            "Non-trainable params: 0\n",
            "_________________________________________________________________\n"
          ],
          "name": "stdout"
        }
      ]
    },
    {
      "cell_type": "code",
      "metadata": {
        "id": "OzS-zBJQ9R08",
        "colab_type": "code",
        "colab": {}
      },
      "source": [
        "regressor.compile(optimizer = 'adam', loss = 'mean_squared_error')\n",
        "regressor.fit(X_train, y_train, epochs = 100, batch_size = 32)"
      ],
      "execution_count": null,
      "outputs": []
    },
    {
      "cell_type": "markdown",
      "metadata": {
        "id": "VGp_8aWtAxjY",
        "colab_type": "text"
      },
      "source": [
        "### 驗證模型"
      ]
    },
    {
      "cell_type": "code",
      "metadata": {
        "id": "E3YM3QVG9mqL",
        "colab_type": "code",
        "colab": {}
      },
      "source": [
        "pred_y = regressor.predict(X_train)"
      ],
      "execution_count": 32,
      "outputs": []
    },
    {
      "cell_type": "code",
      "metadata": {
        "id": "me11zjPc-MnM",
        "colab_type": "code",
        "colab": {
          "base_uri": "https://localhost:8080/",
          "height": 279
        },
        "outputId": "9ad0d40d-9b76-4fb0-ce45-d91933b71b7f"
      },
      "source": [
        "\n",
        "from matplotlib import pyplot as plt\n",
        "plt.plot(y_train, color = 'red', label = 'Real Price')\n",
        "plt.plot(pred_y, color = 'blue', label = 'Predicted Price')\n",
        "plt.xlabel('Time')\n",
        "plt.ylabel('Predicted Price')\n",
        "plt.legend()\n",
        "plt.show()"
      ],
      "execution_count": 35,
      "outputs": [
        {
          "output_type": "display_data",
          "data": {
            "image/png": "[encoded data removed]",
            "text/plain": [
              "<Figure size 432x288 with 1 Axes>"
            ]
          },
          "metadata": {
            "tags": [],
            "needs_background": "light"
          }
        }
      ]
    },
    {
      "cell_type": "markdown",
      "metadata": {
        "id": "GejkIEyW-w0W",
        "colab_type": "text"
      },
      "source": [
        "## 將資料分為訓練與測試資料集"
      ]
    },
    {
      "cell_type": "code",
      "metadata": {
        "id": "768NfCo6GQAq",
        "colab_type": "code",
        "colab": {}
      },
      "source": [
        "from google.colab import drive\n",
        "drive.mount('/content/drive')"
      ],
      "execution_count": null,
      "outputs": []
    },
    {
      "cell_type": "code",
      "metadata": {
        "id": "OcWLSU7K-4rF",
        "colab_type": "code",
        "colab": {
          "base_uri": "https://localhost:8080/",
          "height": 35
        },
        "outputId": "a211d631-a691-4e60-ced8-2dd9e024449d"
      },
      "source": [
        "len(training_set_scaled)"
      ],
      "execution_count": 36,
      "outputs": [
        {
          "output_type": "execute_result",
          "data": {
            "text/plain": [
              "5079"
            ]
          },
          "metadata": {
            "tags": []
          },
          "execution_count": 36
        }
      ]
    },
    {
      "cell_type": "code",
      "metadata": {
        "id": "UXChMwsP-2hd",
        "colab_type": "code",
        "colab": {}
      },
      "source": [
        "import numpy as np\n",
        "X_train = []\n",
        "y_train = []\n",
        "for i in range(60,4000):\n",
        "  X_train.append(training_set_scaled[i-60:i,0])\n",
        "  y_train.append(training_set_scaled[i,0])\n",
        "\n",
        "\n",
        "X_test = []\n",
        "y_test = []\n",
        "\n",
        "for i in range(4000 - 60,len(training_set_scaled)):\n",
        "  X_test.append(training_set_scaled[i-60:i,0])\n",
        "  y_test.append(training_set_scaled[i,0])"
      ],
      "execution_count": 42,
      "outputs": []
    },
    {
      "cell_type": "code",
      "metadata": {
        "id": "hj2o4E09_Tcu",
        "colab_type": "code",
        "colab": {}
      },
      "source": [
        "X_train, y_train = np.array(X_train), np.array(y_train)\n",
        "X_test, y_test = np.array(X_test), np.array(y_test)"
      ],
      "execution_count": 43,
      "outputs": []
    },
    {
      "cell_type": "code",
      "metadata": {
        "id": "ASVl6724_Kac",
        "colab_type": "code",
        "colab": {}
      },
      "source": [
        "X_train = np.reshape(X_train, (X_train.shape[0], X_train.shape[1], 1))\n",
        "X_test = np.reshape(X_test, (X_test.shape[0], X_test.shape[1], 1))"
      ],
      "execution_count": 44,
      "outputs": []
    },
    {
      "cell_type": "code",
      "metadata": {
        "id": "LHlhlb9y_pXH",
        "colab_type": "code",
        "colab": {}
      },
      "source": [
        "regressor = Sequential()\n",
        "regressor.add(LSTM(units = 50, return_sequences = True, input_shape = (X_train.shape[1], 1)))\n",
        "regressor.add(Dropout(0.2))\n",
        "\n",
        "regressor.add(LSTM(units = 50, return_sequences = True)) \n",
        "regressor.add(Dropout(0.2))\n",
        "\n",
        "regressor.add(LSTM(units = 50, return_sequences = True)) \n",
        "regressor.add(Dropout(0.2))\n",
        "\n",
        "regressor.add(LSTM(units = 50))\n",
        "regressor.add(Dropout(0.2))\n",
        "\n",
        "regressor.add(Dense(units = 1))"
      ],
      "execution_count": 46,
      "outputs": []
    },
    {
      "cell_type": "code",
      "metadata": {
        "id": "1LUCBlMS_N89",
        "colab_type": "code",
        "colab": {}
      },
      "source": [
        "regressor.compile(optimizer = 'adam', loss = 'mean_squared_error')\n",
        "regressor.fit(X_train, y_train, epochs = 20, batch_size = 32)"
      ],
      "execution_count": null,
      "outputs": []
    },
    {
      "cell_type": "code",
      "metadata": {
        "id": "1-9hbE5U_kD9",
        "colab_type": "code",
        "colab": {}
      },
      "source": [
        "pred_y = regressor.predict(X_test)"
      ],
      "execution_count": 48,
      "outputs": []
    },
    {
      "cell_type": "code",
      "metadata": {
        "id": "Ow-yD9J0AGUJ",
        "colab_type": "code",
        "colab": {
          "base_uri": "https://localhost:8080/",
          "height": 35
        },
        "outputId": "3a3d05c7-19ee-40b2-d2c3-b7e1a3515f9b"
      },
      "source": [
        "pred_y.shape"
      ],
      "execution_count": 51,
      "outputs": [
        {
          "output_type": "execute_result",
          "data": {
            "text/plain": [
              "(1139, 1)"
            ]
          },
          "metadata": {
            "tags": []
          },
          "execution_count": 51
        }
      ]
    },
    {
      "cell_type": "code",
      "metadata": {
        "id": "pz9H4MwQ_5yd",
        "colab_type": "code",
        "colab": {
          "base_uri": "https://localhost:8080/",
          "height": 279
        },
        "outputId": "23144ce7-8ac2-4362-c2c0-03c10cef8adb"
      },
      "source": [
        "\n",
        "from matplotlib import pyplot as plt\n",
        "plt.plot(y_test, color = 'red', label = 'Real Price')\n",
        "plt.plot(pred_y, color = 'blue', label = 'Predicted Price')\n",
        "plt.xlabel('Time')\n",
        "plt.ylabel('Predicted Price')\n",
        "plt.legend()\n",
        "plt.show()"
      ],
      "execution_count": 49,
      "outputs": [
        {
          "output_type": "display_data",
          "data": {
            "image/png": "[encoded data removed]",
            "text/plain": [
              "<Figure size 432x288 with 1 Axes>"
            ]
          },
          "metadata": {
            "tags": [],
            "needs_background": "light"
          }
        }
      ]
    },
    {
      "cell_type": "code",
      "metadata": {
        "id": "1yKprfWx_9Ft",
        "colab_type": "code",
        "colab": {}
      },
      "source": [
        "y_real_test = sc.inverse_transform(y_test.reshape(-1,1)).flatten()"
      ],
      "execution_count": 55,
      "outputs": []
    },
    {
      "cell_type": "code",
      "metadata": {
        "id": "vEPkQJ_xAX_-",
        "colab_type": "code",
        "colab": {}
      },
      "source": [
        "y_real_pred = sc.inverse_transform(pred_y.reshape(-1,1)).flatten()"
      ],
      "execution_count": 56,
      "outputs": []
    },
    {
      "cell_type": "code",
      "metadata": {
        "id": "_H_g-M8uAcHO",
        "colab_type": "code",
        "colab": {
          "base_uri": "https://localhost:8080/",
          "height": 283
        },
        "outputId": "7cad487f-48e8-47d3-9c51-b8fab93feada"
      },
      "source": [
        "\n",
        "from matplotlib import pyplot as plt\n",
        "plt.plot(y_real_test, color = 'red', label = 'Real Price')\n",
        "plt.plot(y_real_pred, color = 'blue', label = 'Predicted Price')\n",
        "plt.xlabel('Time')\n",
        "plt.ylabel('Predicted Price')\n",
        "plt.legend()\n",
        "plt.show()"
      ],
      "execution_count": 57,
      "outputs": [
        {
          "output_type": "display_data",
          "data": {
            "image/png": "[encoded data removed]",
            "text/plain": [
              "<Figure size 432x288 with 1 Axes>"
            ]
          },
          "metadata": {
            "tags": [],
            "needs_background": "light"
          }
        }
      ]
    },
    {
      "cell_type": "markdown",
      "metadata": {
        "id": "CCiEJ5uHOIi3",
        "colab_type": "text"
      },
      "source": [
        "## 驗證碼辨識案例\n",
        "- https://drive.google.com/file/d/1vEbLS19iIHNXAIyfmLblSCe5jpRTLgF3/view?usp=sharing"
      ]
    },
    {
      "cell_type": "code",
      "metadata": {
        "id": "OzYHv11aoWHw",
        "colab_type": "code",
        "colab": {
          "base_uri": "https://localhost:8080/",
          "height": 87
        },
        "outputId": "bd40af03-b656-4ce2-cc1f-c61ae0b26692"
      },
      "source": [
        "! gdown https://drive.google.com/u/1/uc?id=1vEbLS19iIHNXAIyfmLblSCe5jpRTLgF3&export=download"
      ],
      "execution_count": 1,
      "outputs": [
        {
          "output_type": "stream",
          "text": [
            "Downloading...\n",
            "From: https://drive.google.com/u/1/uc?id=1vEbLS19iIHNXAIyfmLblSCe5jpRTLgF3\n",
            "To: /content/shwoo_image.zip\n",
            "\r0.00B [00:00, ?B/s]\r5.36MB [00:00, 85.0MB/s]\n"
          ],
          "name": "stdout"
        }
      ]
    },
    {
      "cell_type": "markdown",
      "metadata": {
        "id": "Kz7B6Gs6oT8z",
        "colab_type": "text"
      },
      "source": [
        ""
      ]
    },
    {
      "cell_type": "code",
      "metadata": {
        "id": "Yjx-dBLeLFLx",
        "colab_type": "code",
        "colab": {
          "base_uri": "https://localhost:8080/",
          "height": 364
        },
        "outputId": "687df7a9-e499-4861-f902-ff165dd6bdda"
      },
      "source": [
        "! nvidia-smi"
      ],
      "execution_count": 5,
      "outputs": [
        {
          "output_type": "stream",
          "text": [
            "Sat Aug 15 03:31:49 2020       \n",
            "+-----------------------------------------------------------------------------+\n",
            "| NVIDIA-SMI 450.57       Driver Version: 418.67       CUDA Version: 10.1     |\n",
            "|-------------------------------+----------------------+----------------------+\n",
            "| GPU  Name        Persistence-M| Bus-Id        Disp.A | Volatile Uncorr. ECC |\n",
            "| Fan  Temp  Perf  Pwr:Usage/Cap|         Memory-Usage | GPU-Util  Compute M. |\n",
            "|                               |                      |               MIG M. |\n",
            "|===============================+======================+======================|\n",
            "|   0  Tesla P100-PCIE...  Off  | 00000000:00:04.0 Off |                    0 |\n",
            "| N/A   36C    P0    26W / 250W |      0MiB / 16280MiB |      0%      Default |\n",
            "|                               |                      |                 ERR! |\n",
            "+-------------------------------+----------------------+----------------------+\n",
            "                                                                               \n",
            "+-----------------------------------------------------------------------------+\n",
            "| Processes:                                                                  |\n",
            "|  GPU   GI   CI        PID   Type   Process name                  GPU Memory |\n",
            "|        ID   ID                                                   Usage      |\n",
            "|=============================================================================|\n",
            "|  No running processes found                                                 |\n",
            "+-----------------------------------------------------------------------------+\n"
          ],
          "name": "stdout"
        }
      ]
    },
    {
      "cell_type": "code",
      "metadata": {
        "id": "UTpGDMS1Afze",
        "colab_type": "code",
        "colab": {
          "base_uri": "https://localhost:8080/",
          "height": 69
        },
        "outputId": "e57367f1-cde2-40f8-cbaa-2509b5ded373"
      },
      "source": [
        "! ls /content/drive/My\\ Drive/aidataset/"
      ],
      "execution_count": 6,
      "outputs": [
        {
          "output_type": "stream",
          "text": [
            "aoi.zip\t\t   data_edited_2018.csv       shwoo_image.zip  yolov4.weights\n",
            "cfg_mask\t   medical-masks-dataset.zip  test.jpg\n",
            "darknet53.conv.74  new_best_model.h5\t      weights\n"
          ],
          "name": "stdout"
        }
      ]
    },
    {
      "cell_type": "code",
      "metadata": {
        "id": "YfmfrvbbGbak",
        "colab_type": "code",
        "colab": {}
      },
      "source": [
        "! cp /content/drive/My\\ Drive/aidataset/darknet53.conv.74 ./"
      ],
      "execution_count": 59,
      "outputs": []
    },
    {
      "cell_type": "code",
      "metadata": {
        "id": "ShkaTFThGe_D",
        "colab_type": "code",
        "colab": {}
      },
      "source": [
        "! cp /content/drive/My\\ Drive/aidataset/shwoo_image.zip ./"
      ],
      "execution_count": 2,
      "outputs": []
    },
    {
      "cell_type": "code",
      "metadata": {
        "id": "hmwNwlT4IFPW",
        "colab_type": "code",
        "colab": {}
      },
      "source": [
        "! unzip shwoo_image.zip > zip.log"
      ],
      "execution_count": 3,
      "outputs": []
    },
    {
      "cell_type": "code",
      "metadata": {
        "id": "TmMB1tdBIX3U",
        "colab_type": "code",
        "colab": {
          "base_uri": "https://localhost:8080/",
          "height": 44
        },
        "outputId": "c96f810c-7509-446c-cb74-fd7d48d1013d"
      },
      "source": [
        "from PIL import Image\n",
        "img = Image.open('images/118rxy.jpg')\n",
        "img"
      ],
      "execution_count": 14,
      "outputs": [
        {
          "output_type": "execute_result",
          "data": {
            "image/png": "[encoded data removed]",
            "text/plain": [
              "<PIL.JpegImagePlugin.JpegImageFile image mode=RGB size=85x27 at 0x7F3DD6C3F550>"
            ]
          },
          "metadata": {
            "tags": []
          },
          "execution_count": 14
        }
      ]
    },
    {
      "cell_type": "code",
      "metadata": {
        "id": "XLb_zC27Ix3X",
        "colab_type": "code",
        "colab": {
          "base_uri": "https://localhost:8080/",
          "height": 35
        },
        "outputId": "fbbc6d8c-3ae2-4c65-b558-8ad1adf7b84d"
      },
      "source": [
        "import numpy as np\n",
        "im = np.array(img)\n",
        "im.shape"
      ],
      "execution_count": 15,
      "outputs": [
        {
          "output_type": "execute_result",
          "data": {
            "text/plain": [
              "(27, 85, 3)"
            ]
          },
          "metadata": {
            "tags": []
          },
          "execution_count": 15
        }
      ]
    },
    {
      "cell_type": "code",
      "metadata": {
        "id": "nTTa5dy_JNGO",
        "colab_type": "code",
        "colab": {}
      },
      "source": [
        "import os\n",
        "captcha_ary = []\n",
        "for f in os.listdir('images/'):\n",
        "  captcha_ary.append({'captcua':f.strip('.jpg'), 'fname':'images/' + f})\n"
      ],
      "execution_count": 16,
      "outputs": []
    },
    {
      "cell_type": "code",
      "metadata": {
        "id": "dOElRG7zJc0M",
        "colab_type": "code",
        "colab": {}
      },
      "source": [
        "import pandas\n",
        "captcha = pandas.DataFrame(captcha_ary)"
      ],
      "execution_count": 17,
      "outputs": []
    },
    {
      "cell_type": "code",
      "metadata": {
        "id": "pGT9csQYKCm9",
        "colab_type": "code",
        "colab": {
          "base_uri": "https://localhost:8080/",
          "height": 202
        },
        "outputId": "d6658400-5618-4e40-e2b9-06f206c55311"
      },
      "source": [
        "captcha.head()"
      ],
      "execution_count": 18,
      "outputs": [
        {
          "output_type": "execute_result",
          "data": {
            "text/html": [
              "<div>\n",
              "<style scoped>\n",
              "    .dataframe tbody tr th:only-of-type {\n",
              "        vertical-align: middle;\n",
              "    }\n",
              "\n",
              "    .dataframe tbody tr th {\n",
              "        vertical-align: top;\n",
              "    }\n",
              "\n",
              "    .dataframe thead th {\n",
              "        text-align: right;\n",
              "    }\n",
              "</style>\n",
              "<table border=\"1\" class=\"dataframe\">\n",
              "  <thead>\n",
              "    <tr style=\"text-align: right;\">\n",
              "      <th></th>\n",
              "      <th>captcua</th>\n",
              "      <th>fname</th>\n",
              "    </tr>\n",
              "  </thead>\n",
              "  <tbody>\n",
              "    <tr>\n",
              "      <th>0</th>\n",
              "      <td>xldge</td>\n",
              "      <td>images/jxldge.jpg</td>\n",
              "    </tr>\n",
              "    <tr>\n",
              "      <th>1</th>\n",
              "      <td>8qbuzy</td>\n",
              "      <td>images/8qbuzy.jpg</td>\n",
              "    </tr>\n",
              "    <tr>\n",
              "      <th>2</th>\n",
              "      <td>6gf8tq</td>\n",
              "      <td>images/6gf8tq.jpg</td>\n",
              "    </tr>\n",
              "    <tr>\n",
              "      <th>3</th>\n",
              "      <td>osbcnb</td>\n",
              "      <td>images/osbcnb.jpg</td>\n",
              "    </tr>\n",
              "    <tr>\n",
              "      <th>4</th>\n",
              "      <td>ronhxf</td>\n",
              "      <td>images/ronhxf.jpg</td>\n",
              "    </tr>\n",
              "  </tbody>\n",
              "</table>\n",
              "</div>"
            ],
            "text/plain": [
              "  captcua              fname\n",
              "0   xldge  images/jxldge.jpg\n",
              "1  8qbuzy  images/8qbuzy.jpg\n",
              "2  6gf8tq  images/6gf8tq.jpg\n",
              "3  osbcnb  images/osbcnb.jpg\n",
              "4  ronhxf  images/ronhxf.jpg"
            ]
          },
          "metadata": {
            "tags": []
          },
          "execution_count": 18
        }
      ]
    },
    {
      "cell_type": "code",
      "metadata": {
        "id": "BNk0vVnzIkYj",
        "colab_type": "code",
        "colab": {
          "base_uri": "https://localhost:8080/",
          "height": 35
        },
        "outputId": "18848e68-d4bf-451b-eb91-16686e9033d1"
      },
      "source": [
        "characters = '0123456789abcdefghijklmnopqrstuvwxyz'\n",
        "height, width = 27,85\n",
        "n_len = 6\n",
        "n_class = len(characters)\n",
        "print(height, width, n_class,n_len)"
      ],
      "execution_count": 19,
      "outputs": [
        {
          "output_type": "stream",
          "text": [
            "27 85 36 6\n"
          ],
          "name": "stdout"
        }
      ]
    },
    {
      "cell_type": "code",
      "metadata": {
        "id": "JjZLtmNNJFJc",
        "colab_type": "code",
        "colab": {}
      },
      "source": [
        "X = np.zeros((len(captcha), height, width, 3), dtype=np.float32)\n",
        "y = [np.zeros((len(captcha), n_class), dtype=np.uint8) for i in range(n_len)]"
      ],
      "execution_count": 20,
      "outputs": []
    },
    {
      "cell_type": "code",
      "metadata": {
        "id": "zWMseDkjJIEl",
        "colab_type": "code",
        "colab": {}
      },
      "source": [
        "for i in range(len(captcha)):\n",
        "    random_str = captcha.iloc[i,0]\n",
        "    fname = captcha.iloc[i,1]\n",
        "    img = Image.open(fname)\n",
        "    img = img.resize((width, height))\n",
        "    im = np.array(img)\n",
        "    X[i] = im * 1.0 / 255.0\n",
        "    for j, ch in enumerate(random_str):\n",
        "        y[j][i, :] = 0\n",
        "        y[j][i, characters.find(ch)] = 1"
      ],
      "execution_count": 21,
      "outputs": []
    },
    {
      "cell_type": "code",
      "metadata": {
        "id": "RL_NjZBVKGDW",
        "colab_type": "code",
        "colab": {
          "base_uri": "https://localhost:8080/",
          "height": 52
        },
        "outputId": "472689b4-5d07-41bc-b0dd-394842daaf5e"
      },
      "source": [
        "y[0][0]"
      ],
      "execution_count": 22,
      "outputs": [
        {
          "output_type": "execute_result",
          "data": {
            "text/plain": [
              "array([0, 0, 0, 0, 0, 0, 0, 0, 0, 0, 0, 0, 0, 0, 0, 0, 0, 0, 0, 0, 0, 0,\n",
              "       0, 0, 0, 0, 0, 0, 0, 0, 0, 0, 0, 1, 0, 0], dtype=uint8)"
            ]
          },
          "metadata": {
            "tags": []
          },
          "execution_count": 22
        }
      ]
    },
    {
      "cell_type": "code",
      "metadata": {
        "id": "VtXh8xaPKIeF",
        "colab_type": "code",
        "colab": {}
      },
      "source": [
        "#X[0][0]"
      ],
      "execution_count": 23,
      "outputs": []
    },
    {
      "cell_type": "code",
      "metadata": {
        "id": "BoWBCXXcKKyl",
        "colab_type": "code",
        "colab": {}
      },
      "source": [
        "import random\n",
        "def gen(batch_size=32):\n",
        "    X = np.zeros((batch_size, height, width, 3), dtype=np.float32)\n",
        "    y = [np.zeros((batch_size, n_class), dtype=np.uint8) for i in range(n_len)]\n",
        "    while True:\n",
        "        for i in range(batch_size):\n",
        "            rand_index = random.choice(range(len(captcha)))\n",
        "            random_str = captcha.iloc[rand_index,0]\n",
        "            fname = captcha.iloc[rand_index,1]\n",
        "            img = Image.open(fname)\n",
        "            img = img.resize((width, height))\n",
        "            im = np.array(img)\n",
        "            X[i] = im / 255.0\n",
        "\n",
        "            for j, ch in enumerate(random_str):\n",
        "                y[j][i, :] = 0\n",
        "                y[j][i, characters.find(ch)] = 1\n",
        "        yield X, y"
      ],
      "execution_count": 24,
      "outputs": []
    },
    {
      "cell_type": "code",
      "metadata": {
        "id": "26ujzDmNKQPF",
        "colab_type": "code",
        "colab": {}
      },
      "source": [
        "%tensorflow_version 2.x\n",
        "import tensorflow as tf"
      ],
      "execution_count": 25,
      "outputs": []
    },
    {
      "cell_type": "code",
      "metadata": {
        "id": "lm9T2NmUKTPW",
        "colab_type": "code",
        "colab": {}
      },
      "source": [
        "from tensorflow.keras.models import Sequential, Model\n",
        "from tensorflow.keras.layers import Conv2D,MaxPooling2D,Flatten,Dropout, Input, Dense"
      ],
      "execution_count": 26,
      "outputs": []
    },
    {
      "cell_type": "code",
      "metadata": {
        "id": "eQttOWUJKUrm",
        "colab_type": "code",
        "colab": {}
      },
      "source": [
        "input_tensor = Input((height, width, 3))\n",
        "\n",
        "x = input_tensor\n",
        "\n",
        "\n",
        "\n",
        "x = Conv2D(64, (3, 3), activation='relu')(x)\n",
        "x = Conv2D(64, (3, 3), activation='relu')(x)\n",
        "x = MaxPooling2D((2, 2))(x)\n",
        "\n",
        "x = Conv2D(128, (3, 3), activation='relu')(x)\n",
        "x = Conv2D(128, (3, 3), activation='relu')(x)\n",
        "x = MaxPooling2D((2, 2))(x) \n",
        "\n",
        "\n",
        "\n",
        "x = Flatten()(x)\n",
        "x = Dropout(0.25)(x)"
      ],
      "execution_count": 27,
      "outputs": []
    },
    {
      "cell_type": "code",
      "metadata": {
        "id": "woIHu3kwKXmW",
        "colab_type": "code",
        "colab": {}
      },
      "source": [
        "x = [Dense(n_class, activation='softmax', name='c%d'%(i+1))(x) for i in range(6)]\n",
        "\n",
        "model = Model(inputs=input_tensor, outputs=x)"
      ],
      "execution_count": 28,
      "outputs": []
    },
    {
      "cell_type": "code",
      "metadata": {
        "id": "HztEumJaKkdW",
        "colab_type": "code",
        "colab": {}
      },
      "source": [
        "model.compile(loss='categorical_crossentropy',\n",
        "              optimizer='adam',\n",
        "              metrics=['accuracy'])"
      ],
      "execution_count": 29,
      "outputs": []
    },
    {
      "cell_type": "code",
      "metadata": {
        "id": "U29yxQptM9JD",
        "colab_type": "code",
        "colab": {
          "base_uri": "https://localhost:8080/",
          "height": 139
        },
        "outputId": "fce57ebc-8aa6-48e3-aae8-88476c241c62"
      },
      "source": [
        "! ls /content/drive/My\\ Drive/aidataset/"
      ],
      "execution_count": 40,
      "outputs": [
        {
          "output_type": "stream",
          "text": [
            "aoi.zip\t\t\t   model.03-1.29.h5  model.10-1.94.h5\n",
            "cfg_mask\t\t   model.04-1.41.h5  new_best_model.h5\n",
            "darknet53.conv.74\t   model.05-1.01.h5  shwoo_image.zip\n",
            "data_edited_2018.csv\t   model.06-2.47.h5  test.jpg\n",
            "medical-masks-dataset.zip  model.07-2.24.h5  weights\n",
            "model.01-1.86.h5\t   model.08-1.70.h5  yolov4.weights\n",
            "model.02-1.98.h5\t   model.09-2.79.h5\n"
          ],
          "name": "stdout"
        }
      ]
    },
    {
      "cell_type": "code",
      "metadata": {
        "id": "g9LG6_bmKqk2",
        "colab_type": "code",
        "colab": {
          "base_uri": "https://localhost:8080/",
          "height": 384
        },
        "outputId": "6ce66438-22e8-461d-b1f5-e7d001604435"
      },
      "source": [
        "my_callbacks = [\n",
        "    #tf.keras.callbacks.EarlyStopping(patience=2),\n",
        "    tf.keras.callbacks.ModelCheckpoint(filepath='/content/drive/My Drive/aidataset/model.{epoch:02d}-{val_loss:.2f}.h5'),\n",
        "    #tf.keras.callbacks.TensorBoard(log_dir='./logs'),\n",
        "]\n",
        "history = model.fit_generator(gen(batch_size=32),      # 每次生成器會產生32筆小批量的資料\n",
        "                 epochs=10,                # 總共跑5個訓練循環\n",
        "                 steps_per_epoch=100,\n",
        "                 callbacks=my_callbacks,          # 保存最好的模型到檔案\n",
        "                 validation_data=gen(batch_size=32),   # 驗證資料也是用生成器來產生\n",
        "                 validation_steps=10      # 用40組資料來驗證\n",
        "                   )"
      ],
      "execution_count": 39,
      "outputs": [
        {
          "output_type": "stream",
          "text": [
            "Epoch 1/10\n",
            "100/100 [==============================] - 2s 21ms/step - loss: 1.8642 - c1_loss: 0.1334 - c2_loss: 0.1398 - c3_loss: 0.2010 - c4_loss: 0.1616 - c5_loss: 0.3269 - c6_loss: 0.9015 - c1_accuracy: 0.9878 - c2_accuracy: 0.9878 - c3_accuracy: 0.9828 - c4_accuracy: 0.9847 - c5_accuracy: 0.9534 - c6_accuracy: 0.7975 - val_loss: 1.8575 - val_c1_loss: 0.2944 - val_c2_loss: 0.1968 - val_c3_loss: 0.0902 - val_c4_loss: 0.1771 - val_c5_loss: 0.2174 - val_c6_loss: 0.8816 - val_c1_accuracy: 0.9719 - val_c2_accuracy: 0.9812 - val_c3_accuracy: 0.9937 - val_c4_accuracy: 0.9781 - val_c5_accuracy: 0.9594 - val_c6_accuracy: 0.8000\n",
            "Epoch 2/10\n",
            "100/100 [==============================] - 2s 20ms/step - loss: 2.0651 - c1_loss: 0.2132 - c2_loss: 0.1711 - c3_loss: 0.2751 - c4_loss: 0.1996 - c5_loss: 0.3234 - c6_loss: 0.8828 - c1_accuracy: 0.9794 - c2_accuracy: 0.9834 - c3_accuracy: 0.9725 - c4_accuracy: 0.9800 - c5_accuracy: 0.9525 - c6_accuracy: 0.8075 - val_loss: 1.9789 - val_c1_loss: 0.1847 - val_c2_loss: 0.3592 - val_c3_loss: 0.2078 - val_c4_loss: 0.2253 - val_c5_loss: 0.3164 - val_c6_loss: 0.6855 - val_c1_accuracy: 0.9812 - val_c2_accuracy: 0.9625 - val_c3_accuracy: 0.9812 - val_c4_accuracy: 0.9688 - val_c5_accuracy: 0.9469 - val_c6_accuracy: 0.8375\n",
            "Epoch 3/10\n",
            "100/100 [==============================] - 2s 21ms/step - loss: 2.7482 - c1_loss: 0.2830 - c2_loss: 0.3726 - c3_loss: 0.3726 - c4_loss: 0.4345 - c5_loss: 0.3623 - c6_loss: 0.9232 - c1_accuracy: 0.9728 - c2_accuracy: 0.9669 - c3_accuracy: 0.9600 - c4_accuracy: 0.9553 - c5_accuracy: 0.9519 - c6_accuracy: 0.8066 - val_loss: 1.2945 - val_c1_loss: 0.0651 - val_c2_loss: 0.0757 - val_c3_loss: 0.0760 - val_c4_loss: 0.1118 - val_c5_loss: 0.1820 - val_c6_loss: 0.7838 - val_c1_accuracy: 1.0000 - val_c2_accuracy: 1.0000 - val_c3_accuracy: 1.0000 - val_c4_accuracy: 0.9937 - val_c5_accuracy: 0.9750 - val_c6_accuracy: 0.8188\n",
            "Epoch 4/10\n",
            "100/100 [==============================] - 2s 20ms/step - loss: 2.5429 - c1_loss: 0.3072 - c2_loss: 0.1976 - c3_loss: 0.3183 - c4_loss: 0.4220 - c5_loss: 0.3514 - c6_loss: 0.9464 - c1_accuracy: 0.9706 - c2_accuracy: 0.9806 - c3_accuracy: 0.9684 - c4_accuracy: 0.9569 - c5_accuracy: 0.9497 - c6_accuracy: 0.7937 - val_loss: 1.4118 - val_c1_loss: 0.1340 - val_c2_loss: 0.0685 - val_c3_loss: 0.1339 - val_c4_loss: 0.1465 - val_c5_loss: 0.1297 - val_c6_loss: 0.7993 - val_c1_accuracy: 0.9906 - val_c2_accuracy: 1.0000 - val_c3_accuracy: 0.9906 - val_c4_accuracy: 0.9906 - val_c5_accuracy: 0.9844 - val_c6_accuracy: 0.8094\n",
            "Epoch 5/10\n",
            "100/100 [==============================] - 2s 20ms/step - loss: 1.9327 - c1_loss: 0.2023 - c2_loss: 0.1712 - c3_loss: 0.2295 - c4_loss: 0.1689 - c5_loss: 0.2723 - c6_loss: 0.8883 - c1_accuracy: 0.9819 - c2_accuracy: 0.9856 - c3_accuracy: 0.9787 - c4_accuracy: 0.9859 - c5_accuracy: 0.9616 - c6_accuracy: 0.8062 - val_loss: 1.0141 - val_c1_loss: 0.0251 - val_c2_loss: 0.0153 - val_c3_loss: 0.0353 - val_c4_loss: 0.0548 - val_c5_loss: 0.1713 - val_c6_loss: 0.7124 - val_c1_accuracy: 0.9937 - val_c2_accuracy: 1.0000 - val_c3_accuracy: 0.9969 - val_c4_accuracy: 0.9906 - val_c5_accuracy: 0.9688 - val_c6_accuracy: 0.8281\n",
            "Epoch 6/10\n",
            "100/100 [==============================] - 2s 22ms/step - loss: 2.4462 - c1_loss: 0.2603 - c2_loss: 0.3551 - c3_loss: 0.2513 - c4_loss: 0.2952 - c5_loss: 0.3523 - c6_loss: 0.9320 - c1_accuracy: 0.9753 - c2_accuracy: 0.9644 - c3_accuracy: 0.9772 - c4_accuracy: 0.9706 - c5_accuracy: 0.9503 - c6_accuracy: 0.7975 - val_loss: 2.4737 - val_c1_loss: 0.2156 - val_c2_loss: 0.2284 - val_c3_loss: 0.2081 - val_c4_loss: 0.4866 - val_c5_loss: 0.5479 - val_c6_loss: 0.7872 - val_c1_accuracy: 0.9781 - val_c2_accuracy: 0.9750 - val_c3_accuracy: 0.9812 - val_c4_accuracy: 0.9438 - val_c5_accuracy: 0.9250 - val_c6_accuracy: 0.8281\n",
            "Epoch 7/10\n",
            "100/100 [==============================] - 2s 21ms/step - loss: 1.6718 - c1_loss: 0.1430 - c2_loss: 0.1672 - c3_loss: 0.1354 - c4_loss: 0.1749 - c5_loss: 0.2080 - c6_loss: 0.8432 - c1_accuracy: 0.9869 - c2_accuracy: 0.9853 - c3_accuracy: 0.9884 - c4_accuracy: 0.9822 - c5_accuracy: 0.9641 - c6_accuracy: 0.8069 - val_loss: 2.2409 - val_c1_loss: 0.1255 - val_c2_loss: 0.2663 - val_c3_loss: 0.3428 - val_c4_loss: 0.3907 - val_c5_loss: 0.2032 - val_c6_loss: 0.9125 - val_c1_accuracy: 0.9875 - val_c2_accuracy: 0.9781 - val_c3_accuracy: 0.9688 - val_c4_accuracy: 0.9656 - val_c5_accuracy: 0.9688 - val_c6_accuracy: 0.8000\n",
            "Epoch 8/10\n",
            "100/100 [==============================] - 2s 20ms/step - loss: 2.1975 - c1_loss: 0.1905 - c2_loss: 0.1714 - c3_loss: 0.2596 - c4_loss: 0.2936 - c5_loss: 0.3421 - c6_loss: 0.9405 - c1_accuracy: 0.9834 - c2_accuracy: 0.9850 - c3_accuracy: 0.9756 - c4_accuracy: 0.9712 - c5_accuracy: 0.9538 - c6_accuracy: 0.7922 - val_loss: 1.6963 - val_c1_loss: 0.0053 - val_c2_loss: 0.0057 - val_c3_loss: 0.1551 - val_c4_loss: 0.0199 - val_c5_loss: 0.6143 - val_c6_loss: 0.8959 - val_c1_accuracy: 1.0000 - val_c2_accuracy: 1.0000 - val_c3_accuracy: 0.9844 - val_c4_accuracy: 0.9969 - val_c5_accuracy: 0.9281 - val_c6_accuracy: 0.8000\n",
            "Epoch 9/10\n",
            "100/100 [==============================] - 2s 22ms/step - loss: 2.1347 - c1_loss: 0.2327 - c2_loss: 0.2744 - c3_loss: 0.2117 - c4_loss: 0.2296 - c5_loss: 0.3184 - c6_loss: 0.8679 - c1_accuracy: 0.9791 - c2_accuracy: 0.9772 - c3_accuracy: 0.9819 - c4_accuracy: 0.9784 - c5_accuracy: 0.9528 - c6_accuracy: 0.8091 - val_loss: 2.7916 - val_c1_loss: 0.5189 - val_c2_loss: 0.4491 - val_c3_loss: 0.5048 - val_c4_loss: 0.2657 - val_c5_loss: 0.2833 - val_c6_loss: 0.7697 - val_c1_accuracy: 0.9406 - val_c2_accuracy: 0.9469 - val_c3_accuracy: 0.9375 - val_c4_accuracy: 0.9750 - val_c5_accuracy: 0.9594 - val_c6_accuracy: 0.8250\n",
            "Epoch 10/10\n",
            "100/100 [==============================] - 2s 20ms/step - loss: 2.4374 - c1_loss: 0.2207 - c2_loss: 0.2972 - c3_loss: 0.3603 - c4_loss: 0.2146 - c5_loss: 0.4175 - c6_loss: 0.9271 - c1_accuracy: 0.9806 - c2_accuracy: 0.9722 - c3_accuracy: 0.9650 - c4_accuracy: 0.9791 - c5_accuracy: 0.9413 - c6_accuracy: 0.7962 - val_loss: 1.9386 - val_c1_loss: 0.0207 - val_c2_loss: 0.3215 - val_c3_loss: 0.3080 - val_c4_loss: 0.1559 - val_c5_loss: 0.3187 - val_c6_loss: 0.8137 - val_c1_accuracy: 1.0000 - val_c2_accuracy: 0.9656 - val_c3_accuracy: 0.9688 - val_c4_accuracy: 0.9812 - val_c5_accuracy: 0.9500 - val_c6_accuracy: 0.8094\n"
          ],
          "name": "stdout"
        }
      ]
    },
    {
      "cell_type": "markdown",
      "metadata": {
        "id": "vHJ54L8wOxBe",
        "colab_type": "text"
      },
      "source": [
        "## 多變數時間序列"
      ]
    },
    {
      "cell_type": "markdown",
      "metadata": {
        "id": "bMkVo6QHPGIf",
        "colab_type": "text"
      },
      "source": [
        "### 讀取資料"
      ]
    },
    {
      "cell_type": "code",
      "metadata": {
        "id": "KrJ6u-Y3KsDW",
        "colab_type": "code",
        "colab": {
          "base_uri": "https://localhost:8080/",
          "height": 233
        },
        "outputId": "3493cac5-ae44-434e-faa7-973f301a06bc"
      },
      "source": [
        "from pandas import read_csv\n",
        "from datetime import datetime\n",
        "\n",
        "def parse(x):\n",
        "\treturn datetime.strptime(x, '%Y %m %d %H')\n",
        "\n",
        "dataset = read_csv('https://raw.githubusercontent.com/ywchiu/tibamedl/master/Data/pollution.csv',  parse_dates = [['year', 'month', 'day', 'hour']], index_col=0, date_parser=parse)\n",
        "dataset.head()"
      ],
      "execution_count": 41,
      "outputs": [
        {
          "output_type": "execute_result",
          "data": {
            "text/html": [
              "<div>\n",
              "<style scoped>\n",
              "    .dataframe tbody tr th:only-of-type {\n",
              "        vertical-align: middle;\n",
              "    }\n",
              "\n",
              "    .dataframe tbody tr th {\n",
              "        vertical-align: top;\n",
              "    }\n",
              "\n",
              "    .dataframe thead th {\n",
              "        text-align: right;\n",
              "    }\n",
              "</style>\n",
              "<table border=\"1\" class=\"dataframe\">\n",
              "  <thead>\n",
              "    <tr style=\"text-align: right;\">\n",
              "      <th></th>\n",
              "      <th>No</th>\n",
              "      <th>pm2.5</th>\n",
              "      <th>DEWP</th>\n",
              "      <th>TEMP</th>\n",
              "      <th>PRES</th>\n",
              "      <th>cbwd</th>\n",
              "      <th>Iws</th>\n",
              "      <th>Is</th>\n",
              "      <th>Ir</th>\n",
              "    </tr>\n",
              "    <tr>\n",
              "      <th>year_month_day_hour</th>\n",
              "      <th></th>\n",
              "      <th></th>\n",
              "      <th></th>\n",
              "      <th></th>\n",
              "      <th></th>\n",
              "      <th></th>\n",
              "      <th></th>\n",
              "      <th></th>\n",
              "      <th></th>\n",
              "    </tr>\n",
              "  </thead>\n",
              "  <tbody>\n",
              "    <tr>\n",
              "      <th>2010-01-01 00:00:00</th>\n",
              "      <td>1</td>\n",
              "      <td>NaN</td>\n",
              "      <td>-21</td>\n",
              "      <td>-11.0</td>\n",
              "      <td>1021.0</td>\n",
              "      <td>NW</td>\n",
              "      <td>1.79</td>\n",
              "      <td>0</td>\n",
              "      <td>0</td>\n",
              "    </tr>\n",
              "    <tr>\n",
              "      <th>2010-01-01 01:00:00</th>\n",
              "      <td>2</td>\n",
              "      <td>NaN</td>\n",
              "      <td>-21</td>\n",
              "      <td>-12.0</td>\n",
              "      <td>1020.0</td>\n",
              "      <td>NW</td>\n",
              "      <td>4.92</td>\n",
              "      <td>0</td>\n",
              "      <td>0</td>\n",
              "    </tr>\n",
              "    <tr>\n",
              "      <th>2010-01-01 02:00:00</th>\n",
              "      <td>3</td>\n",
              "      <td>NaN</td>\n",
              "      <td>-21</td>\n",
              "      <td>-11.0</td>\n",
              "      <td>1019.0</td>\n",
              "      <td>NW</td>\n",
              "      <td>6.71</td>\n",
              "      <td>0</td>\n",
              "      <td>0</td>\n",
              "    </tr>\n",
              "    <tr>\n",
              "      <th>2010-01-01 03:00:00</th>\n",
              "      <td>4</td>\n",
              "      <td>NaN</td>\n",
              "      <td>-21</td>\n",
              "      <td>-14.0</td>\n",
              "      <td>1019.0</td>\n",
              "      <td>NW</td>\n",
              "      <td>9.84</td>\n",
              "      <td>0</td>\n",
              "      <td>0</td>\n",
              "    </tr>\n",
              "    <tr>\n",
              "      <th>2010-01-01 04:00:00</th>\n",
              "      <td>5</td>\n",
              "      <td>NaN</td>\n",
              "      <td>-20</td>\n",
              "      <td>-12.0</td>\n",
              "      <td>1018.0</td>\n",
              "      <td>NW</td>\n",
              "      <td>12.97</td>\n",
              "      <td>0</td>\n",
              "      <td>0</td>\n",
              "    </tr>\n",
              "  </tbody>\n",
              "</table>\n",
              "</div>"
            ],
            "text/plain": [
              "                     No  pm2.5  DEWP  TEMP    PRES cbwd    Iws  Is  Ir\n",
              "year_month_day_hour                                                   \n",
              "2010-01-01 00:00:00   1    NaN   -21 -11.0  1021.0   NW   1.79   0   0\n",
              "2010-01-01 01:00:00   2    NaN   -21 -12.0  1020.0   NW   4.92   0   0\n",
              "2010-01-01 02:00:00   3    NaN   -21 -11.0  1019.0   NW   6.71   0   0\n",
              "2010-01-01 03:00:00   4    NaN   -21 -14.0  1019.0   NW   9.84   0   0\n",
              "2010-01-01 04:00:00   5    NaN   -20 -12.0  1018.0   NW  12.97   0   0"
            ]
          },
          "metadata": {
            "tags": []
          },
          "execution_count": 41
        }
      ]
    },
    {
      "cell_type": "markdown",
      "metadata": {
        "id": "uafuyy4WPIw2",
        "colab_type": "text"
      },
      "source": [
        "### 資料預處理"
      ]
    },
    {
      "cell_type": "code",
      "metadata": {
        "id": "zJuxhl5EO9Tr",
        "colab_type": "code",
        "colab": {}
      },
      "source": [
        "dataset.drop('No', axis=1, inplace=True)\n",
        "dataset.columns = ['pollution', 'dew', 'temp', 'press', 'wnd_dir', 'wnd_spd', 'snow', 'rain']\n",
        "dataset.index.name = 'date'\n",
        "dataset['pollution'].fillna(0, inplace=True)"
      ],
      "execution_count": 42,
      "outputs": []
    },
    {
      "cell_type": "code",
      "metadata": {
        "id": "ryMOE5L5Pd2b",
        "colab_type": "code",
        "colab": {
          "base_uri": "https://localhost:8080/",
          "height": 233
        },
        "outputId": "196f0f78-290a-42de-fa1e-6a8de8753eaf"
      },
      "source": [
        "dataset.head()"
      ],
      "execution_count": 43,
      "outputs": [
        {
          "output_type": "execute_result",
          "data": {
            "text/html": [
              "<div>\n",
              "<style scoped>\n",
              "    .dataframe tbody tr th:only-of-type {\n",
              "        vertical-align: middle;\n",
              "    }\n",
              "\n",
              "    .dataframe tbody tr th {\n",
              "        vertical-align: top;\n",
              "    }\n",
              "\n",
              "    .dataframe thead th {\n",
              "        text-align: right;\n",
              "    }\n",
              "</style>\n",
              "<table border=\"1\" class=\"dataframe\">\n",
              "  <thead>\n",
              "    <tr style=\"text-align: right;\">\n",
              "      <th></th>\n",
              "      <th>pollution</th>\n",
              "      <th>dew</th>\n",
              "      <th>temp</th>\n",
              "      <th>press</th>\n",
              "      <th>wnd_dir</th>\n",
              "      <th>wnd_spd</th>\n",
              "      <th>snow</th>\n",
              "      <th>rain</th>\n",
              "    </tr>\n",
              "    <tr>\n",
              "      <th>date</th>\n",
              "      <th></th>\n",
              "      <th></th>\n",
              "      <th></th>\n",
              "      <th></th>\n",
              "      <th></th>\n",
              "      <th></th>\n",
              "      <th></th>\n",
              "      <th></th>\n",
              "    </tr>\n",
              "  </thead>\n",
              "  <tbody>\n",
              "    <tr>\n",
              "      <th>2010-01-01 00:00:00</th>\n",
              "      <td>0.0</td>\n",
              "      <td>-21</td>\n",
              "      <td>-11.0</td>\n",
              "      <td>1021.0</td>\n",
              "      <td>NW</td>\n",
              "      <td>1.79</td>\n",
              "      <td>0</td>\n",
              "      <td>0</td>\n",
              "    </tr>\n",
              "    <tr>\n",
              "      <th>2010-01-01 01:00:00</th>\n",
              "      <td>0.0</td>\n",
              "      <td>-21</td>\n",
              "      <td>-12.0</td>\n",
              "      <td>1020.0</td>\n",
              "      <td>NW</td>\n",
              "      <td>4.92</td>\n",
              "      <td>0</td>\n",
              "      <td>0</td>\n",
              "    </tr>\n",
              "    <tr>\n",
              "      <th>2010-01-01 02:00:00</th>\n",
              "      <td>0.0</td>\n",
              "      <td>-21</td>\n",
              "      <td>-11.0</td>\n",
              "      <td>1019.0</td>\n",
              "      <td>NW</td>\n",
              "      <td>6.71</td>\n",
              "      <td>0</td>\n",
              "      <td>0</td>\n",
              "    </tr>\n",
              "    <tr>\n",
              "      <th>2010-01-01 03:00:00</th>\n",
              "      <td>0.0</td>\n",
              "      <td>-21</td>\n",
              "      <td>-14.0</td>\n",
              "      <td>1019.0</td>\n",
              "      <td>NW</td>\n",
              "      <td>9.84</td>\n",
              "      <td>0</td>\n",
              "      <td>0</td>\n",
              "    </tr>\n",
              "    <tr>\n",
              "      <th>2010-01-01 04:00:00</th>\n",
              "      <td>0.0</td>\n",
              "      <td>-20</td>\n",
              "      <td>-12.0</td>\n",
              "      <td>1018.0</td>\n",
              "      <td>NW</td>\n",
              "      <td>12.97</td>\n",
              "      <td>0</td>\n",
              "      <td>0</td>\n",
              "    </tr>\n",
              "  </tbody>\n",
              "</table>\n",
              "</div>"
            ],
            "text/plain": [
              "                     pollution  dew  temp   press wnd_dir  wnd_spd  snow  rain\n",
              "date                                                                          \n",
              "2010-01-01 00:00:00        0.0  -21 -11.0  1021.0      NW     1.79     0     0\n",
              "2010-01-01 01:00:00        0.0  -21 -12.0  1020.0      NW     4.92     0     0\n",
              "2010-01-01 02:00:00        0.0  -21 -11.0  1019.0      NW     6.71     0     0\n",
              "2010-01-01 03:00:00        0.0  -21 -14.0  1019.0      NW     9.84     0     0\n",
              "2010-01-01 04:00:00        0.0  -20 -12.0  1018.0      NW    12.97     0     0"
            ]
          },
          "metadata": {
            "tags": []
          },
          "execution_count": 43
        }
      ]
    },
    {
      "cell_type": "code",
      "metadata": {
        "id": "HcQl8oduPf27",
        "colab_type": "code",
        "colab": {}
      },
      "source": [
        "dataset = dataset[24:]"
      ],
      "execution_count": 44,
      "outputs": []
    },
    {
      "cell_type": "code",
      "metadata": {
        "id": "c5z8T3HEPl1L",
        "colab_type": "code",
        "colab": {
          "base_uri": "https://localhost:8080/",
          "height": 233
        },
        "outputId": "80f9eb38-e4d5-4855-9d5a-07bf62c2de3d"
      },
      "source": [
        "dataset.head()"
      ],
      "execution_count": 45,
      "outputs": [
        {
          "output_type": "execute_result",
          "data": {
            "text/html": [
              "<div>\n",
              "<style scoped>\n",
              "    .dataframe tbody tr th:only-of-type {\n",
              "        vertical-align: middle;\n",
              "    }\n",
              "\n",
              "    .dataframe tbody tr th {\n",
              "        vertical-align: top;\n",
              "    }\n",
              "\n",
              "    .dataframe thead th {\n",
              "        text-align: right;\n",
              "    }\n",
              "</style>\n",
              "<table border=\"1\" class=\"dataframe\">\n",
              "  <thead>\n",
              "    <tr style=\"text-align: right;\">\n",
              "      <th></th>\n",
              "      <th>pollution</th>\n",
              "      <th>dew</th>\n",
              "      <th>temp</th>\n",
              "      <th>press</th>\n",
              "      <th>wnd_dir</th>\n",
              "      <th>wnd_spd</th>\n",
              "      <th>snow</th>\n",
              "      <th>rain</th>\n",
              "    </tr>\n",
              "    <tr>\n",
              "      <th>date</th>\n",
              "      <th></th>\n",
              "      <th></th>\n",
              "      <th></th>\n",
              "      <th></th>\n",
              "      <th></th>\n",
              "      <th></th>\n",
              "      <th></th>\n",
              "      <th></th>\n",
              "    </tr>\n",
              "  </thead>\n",
              "  <tbody>\n",
              "    <tr>\n",
              "      <th>2010-01-02 00:00:00</th>\n",
              "      <td>129.0</td>\n",
              "      <td>-16</td>\n",
              "      <td>-4.0</td>\n",
              "      <td>1020.0</td>\n",
              "      <td>SE</td>\n",
              "      <td>1.79</td>\n",
              "      <td>0</td>\n",
              "      <td>0</td>\n",
              "    </tr>\n",
              "    <tr>\n",
              "      <th>2010-01-02 01:00:00</th>\n",
              "      <td>148.0</td>\n",
              "      <td>-15</td>\n",
              "      <td>-4.0</td>\n",
              "      <td>1020.0</td>\n",
              "      <td>SE</td>\n",
              "      <td>2.68</td>\n",
              "      <td>0</td>\n",
              "      <td>0</td>\n",
              "    </tr>\n",
              "    <tr>\n",
              "      <th>2010-01-02 02:00:00</th>\n",
              "      <td>159.0</td>\n",
              "      <td>-11</td>\n",
              "      <td>-5.0</td>\n",
              "      <td>1021.0</td>\n",
              "      <td>SE</td>\n",
              "      <td>3.57</td>\n",
              "      <td>0</td>\n",
              "      <td>0</td>\n",
              "    </tr>\n",
              "    <tr>\n",
              "      <th>2010-01-02 03:00:00</th>\n",
              "      <td>181.0</td>\n",
              "      <td>-7</td>\n",
              "      <td>-5.0</td>\n",
              "      <td>1022.0</td>\n",
              "      <td>SE</td>\n",
              "      <td>5.36</td>\n",
              "      <td>1</td>\n",
              "      <td>0</td>\n",
              "    </tr>\n",
              "    <tr>\n",
              "      <th>2010-01-02 04:00:00</th>\n",
              "      <td>138.0</td>\n",
              "      <td>-7</td>\n",
              "      <td>-5.0</td>\n",
              "      <td>1022.0</td>\n",
              "      <td>SE</td>\n",
              "      <td>6.25</td>\n",
              "      <td>2</td>\n",
              "      <td>0</td>\n",
              "    </tr>\n",
              "  </tbody>\n",
              "</table>\n",
              "</div>"
            ],
            "text/plain": [
              "                     pollution  dew  temp   press wnd_dir  wnd_spd  snow  rain\n",
              "date                                                                          \n",
              "2010-01-02 00:00:00      129.0  -16  -4.0  1020.0      SE     1.79     0     0\n",
              "2010-01-02 01:00:00      148.0  -15  -4.0  1020.0      SE     2.68     0     0\n",
              "2010-01-02 02:00:00      159.0  -11  -5.0  1021.0      SE     3.57     0     0\n",
              "2010-01-02 03:00:00      181.0   -7  -5.0  1022.0      SE     5.36     1     0\n",
              "2010-01-02 04:00:00      138.0   -7  -5.0  1022.0      SE     6.25     2     0"
            ]
          },
          "metadata": {
            "tags": []
          },
          "execution_count": 45
        }
      ]
    },
    {
      "cell_type": "markdown",
      "metadata": {
        "id": "765gOtb7PvUx",
        "colab_type": "text"
      },
      "source": [
        "## 探索資料"
      ]
    },
    {
      "cell_type": "code",
      "metadata": {
        "id": "oLImwZRsPndK",
        "colab_type": "code",
        "colab": {
          "base_uri": "https://localhost:8080/",
          "height": 357
        },
        "outputId": "70306d27-0016-42d0-d445-a11be4651f63"
      },
      "source": [
        "%pylab inline\n",
        "from matplotlib import pyplot\n",
        "values = dataset.values\n",
        "\n",
        "groups = [0, 1, 2, 3, 5, 6, 7]\n",
        "i = 1\n",
        "pyplot.figure()\n",
        "for group in groups:\n",
        "\tpyplot.subplot(len(groups), 1, i)\n",
        "\tpyplot.plot(values[:, group])\n",
        "\tpyplot.title(dataset.columns[group], y=0.5, loc='right')\n",
        "\ti += 1\n",
        "pyplot.show()"
      ],
      "execution_count": 46,
      "outputs": [
        {
          "output_type": "stream",
          "text": [
            "Populating the interactive namespace from numpy and matplotlib\n"
          ],
          "name": "stdout"
        },
        {
          "output_type": "stream",
          "text": [
            "/usr/local/lib/python3.6/dist-packages/IPython/core/magics/pylab.py:161: UserWarning: pylab import has clobbered these variables: ['datetime', 'f', 'random']\n",
            "`%matplotlib` prevents importing * from pylab and numpy\n",
            "  \"\\n`%matplotlib` prevents importing * from pylab and numpy\"\n"
          ],
          "name": "stderr"
        },
        {
          "output_type": "display_data",
          "data": {
            "image/png": "[encoded data removed]",
            "text/plain": [
              "<Figure size 432x288 with 7 Axes>"
            ]
          },
          "metadata": {
            "tags": [],
            "needs_background": "light"
          }
        }
      ]
    },
    {
      "cell_type": "markdown",
      "metadata": {
        "id": "MrR2mwaiQh6w",
        "colab_type": "text"
      },
      "source": [
        "### 資料編碼"
      ]
    },
    {
      "cell_type": "code",
      "metadata": {
        "id": "LDDK3jZSQkOg",
        "colab_type": "code",
        "colab": {
          "base_uri": "https://localhost:8080/",
          "height": 233
        },
        "outputId": "65c746a5-a970-40be-9d2a-9e04b1063d84"
      },
      "source": [
        "dataset.head()"
      ],
      "execution_count": 47,
      "outputs": [
        {
          "output_type": "execute_result",
          "data": {
            "text/html": [
              "<div>\n",
              "<style scoped>\n",
              "    .dataframe tbody tr th:only-of-type {\n",
              "        vertical-align: middle;\n",
              "    }\n",
              "\n",
              "    .dataframe tbody tr th {\n",
              "        vertical-align: top;\n",
              "    }\n",
              "\n",
              "    .dataframe thead th {\n",
              "        text-align: right;\n",
              "    }\n",
              "</style>\n",
              "<table border=\"1\" class=\"dataframe\">\n",
              "  <thead>\n",
              "    <tr style=\"text-align: right;\">\n",
              "      <th></th>\n",
              "      <th>pollution</th>\n",
              "      <th>dew</th>\n",
              "      <th>temp</th>\n",
              "      <th>press</th>\n",
              "      <th>wnd_dir</th>\n",
              "      <th>wnd_spd</th>\n",
              "      <th>snow</th>\n",
              "      <th>rain</th>\n",
              "    </tr>\n",
              "    <tr>\n",
              "      <th>date</th>\n",
              "      <th></th>\n",
              "      <th></th>\n",
              "      <th></th>\n",
              "      <th></th>\n",
              "      <th></th>\n",
              "      <th></th>\n",
              "      <th></th>\n",
              "      <th></th>\n",
              "    </tr>\n",
              "  </thead>\n",
              "  <tbody>\n",
              "    <tr>\n",
              "      <th>2010-01-02 00:00:00</th>\n",
              "      <td>129.0</td>\n",
              "      <td>-16</td>\n",
              "      <td>-4.0</td>\n",
              "      <td>1020.0</td>\n",
              "      <td>SE</td>\n",
              "      <td>1.79</td>\n",
              "      <td>0</td>\n",
              "      <td>0</td>\n",
              "    </tr>\n",
              "    <tr>\n",
              "      <th>2010-01-02 01:00:00</th>\n",
              "      <td>148.0</td>\n",
              "      <td>-15</td>\n",
              "      <td>-4.0</td>\n",
              "      <td>1020.0</td>\n",
              "      <td>SE</td>\n",
              "      <td>2.68</td>\n",
              "      <td>0</td>\n",
              "      <td>0</td>\n",
              "    </tr>\n",
              "    <tr>\n",
              "      <th>2010-01-02 02:00:00</th>\n",
              "      <td>159.0</td>\n",
              "      <td>-11</td>\n",
              "      <td>-5.0</td>\n",
              "      <td>1021.0</td>\n",
              "      <td>SE</td>\n",
              "      <td>3.57</td>\n",
              "      <td>0</td>\n",
              "      <td>0</td>\n",
              "    </tr>\n",
              "    <tr>\n",
              "      <th>2010-01-02 03:00:00</th>\n",
              "      <td>181.0</td>\n",
              "      <td>-7</td>\n",
              "      <td>-5.0</td>\n",
              "      <td>1022.0</td>\n",
              "      <td>SE</td>\n",
              "      <td>5.36</td>\n",
              "      <td>1</td>\n",
              "      <td>0</td>\n",
              "    </tr>\n",
              "    <tr>\n",
              "      <th>2010-01-02 04:00:00</th>\n",
              "      <td>138.0</td>\n",
              "      <td>-7</td>\n",
              "      <td>-5.0</td>\n",
              "      <td>1022.0</td>\n",
              "      <td>SE</td>\n",
              "      <td>6.25</td>\n",
              "      <td>2</td>\n",
              "      <td>0</td>\n",
              "    </tr>\n",
              "  </tbody>\n",
              "</table>\n",
              "</div>"
            ],
            "text/plain": [
              "                     pollution  dew  temp   press wnd_dir  wnd_spd  snow  rain\n",
              "date                                                                          \n",
              "2010-01-02 00:00:00      129.0  -16  -4.0  1020.0      SE     1.79     0     0\n",
              "2010-01-02 01:00:00      148.0  -15  -4.0  1020.0      SE     2.68     0     0\n",
              "2010-01-02 02:00:00      159.0  -11  -5.0  1021.0      SE     3.57     0     0\n",
              "2010-01-02 03:00:00      181.0   -7  -5.0  1022.0      SE     5.36     1     0\n",
              "2010-01-02 04:00:00      138.0   -7  -5.0  1022.0      SE     6.25     2     0"
            ]
          },
          "metadata": {
            "tags": []
          },
          "execution_count": 47
        }
      ]
    },
    {
      "cell_type": "code",
      "metadata": {
        "id": "nnKN-PfHQt98",
        "colab_type": "code",
        "colab": {
          "base_uri": "https://localhost:8080/",
          "height": 233
        },
        "outputId": "71ced7c8-99fb-4f8c-8cb7-dd2f08aa4693"
      },
      "source": [
        "from sklearn.preprocessing import LabelEncoder\n",
        "\n",
        "encoder = LabelEncoder()\n",
        "dataset['wnd_dir']= encoder.fit_transform(dataset['wnd_dir'])\n",
        "dataset.head()"
      ],
      "execution_count": 48,
      "outputs": [
        {
          "output_type": "execute_result",
          "data": {
            "text/html": [
              "<div>\n",
              "<style scoped>\n",
              "    .dataframe tbody tr th:only-of-type {\n",
              "        vertical-align: middle;\n",
              "    }\n",
              "\n",
              "    .dataframe tbody tr th {\n",
              "        vertical-align: top;\n",
              "    }\n",
              "\n",
              "    .dataframe thead th {\n",
              "        text-align: right;\n",
              "    }\n",
              "</style>\n",
              "<table border=\"1\" class=\"dataframe\">\n",
              "  <thead>\n",
              "    <tr style=\"text-align: right;\">\n",
              "      <th></th>\n",
              "      <th>pollution</th>\n",
              "      <th>dew</th>\n",
              "      <th>temp</th>\n",
              "      <th>press</th>\n",
              "      <th>wnd_dir</th>\n",
              "      <th>wnd_spd</th>\n",
              "      <th>snow</th>\n",
              "      <th>rain</th>\n",
              "    </tr>\n",
              "    <tr>\n",
              "      <th>date</th>\n",
              "      <th></th>\n",
              "      <th></th>\n",
              "      <th></th>\n",
              "      <th></th>\n",
              "      <th></th>\n",
              "      <th></th>\n",
              "      <th></th>\n",
              "      <th></th>\n",
              "    </tr>\n",
              "  </thead>\n",
              "  <tbody>\n",
              "    <tr>\n",
              "      <th>2010-01-02 00:00:00</th>\n",
              "      <td>129.0</td>\n",
              "      <td>-16</td>\n",
              "      <td>-4.0</td>\n",
              "      <td>1020.0</td>\n",
              "      <td>2</td>\n",
              "      <td>1.79</td>\n",
              "      <td>0</td>\n",
              "      <td>0</td>\n",
              "    </tr>\n",
              "    <tr>\n",
              "      <th>2010-01-02 01:00:00</th>\n",
              "      <td>148.0</td>\n",
              "      <td>-15</td>\n",
              "      <td>-4.0</td>\n",
              "      <td>1020.0</td>\n",
              "      <td>2</td>\n",
              "      <td>2.68</td>\n",
              "      <td>0</td>\n",
              "      <td>0</td>\n",
              "    </tr>\n",
              "    <tr>\n",
              "      <th>2010-01-02 02:00:00</th>\n",
              "      <td>159.0</td>\n",
              "      <td>-11</td>\n",
              "      <td>-5.0</td>\n",
              "      <td>1021.0</td>\n",
              "      <td>2</td>\n",
              "      <td>3.57</td>\n",
              "      <td>0</td>\n",
              "      <td>0</td>\n",
              "    </tr>\n",
              "    <tr>\n",
              "      <th>2010-01-02 03:00:00</th>\n",
              "      <td>181.0</td>\n",
              "      <td>-7</td>\n",
              "      <td>-5.0</td>\n",
              "      <td>1022.0</td>\n",
              "      <td>2</td>\n",
              "      <td>5.36</td>\n",
              "      <td>1</td>\n",
              "      <td>0</td>\n",
              "    </tr>\n",
              "    <tr>\n",
              "      <th>2010-01-02 04:00:00</th>\n",
              "      <td>138.0</td>\n",
              "      <td>-7</td>\n",
              "      <td>-5.0</td>\n",
              "      <td>1022.0</td>\n",
              "      <td>2</td>\n",
              "      <td>6.25</td>\n",
              "      <td>2</td>\n",
              "      <td>0</td>\n",
              "    </tr>\n",
              "  </tbody>\n",
              "</table>\n",
              "</div>"
            ],
            "text/plain": [
              "                     pollution  dew  temp   press  wnd_dir  wnd_spd  snow  rain\n",
              "date                                                                           \n",
              "2010-01-02 00:00:00      129.0  -16  -4.0  1020.0        2     1.79     0     0\n",
              "2010-01-02 01:00:00      148.0  -15  -4.0  1020.0        2     2.68     0     0\n",
              "2010-01-02 02:00:00      159.0  -11  -5.0  1021.0        2     3.57     0     0\n",
              "2010-01-02 03:00:00      181.0   -7  -5.0  1022.0        2     5.36     1     0\n",
              "2010-01-02 04:00:00      138.0   -7  -5.0  1022.0        2     6.25     2     0"
            ]
          },
          "metadata": {
            "tags": []
          },
          "execution_count": 48
        }
      ]
    },
    {
      "cell_type": "markdown",
      "metadata": {
        "id": "8iP-ku3qRi_5",
        "colab_type": "text"
      },
      "source": [
        "### 資料正規化"
      ]
    },
    {
      "cell_type": "code",
      "metadata": {
        "id": "IAiRy4RaRvjD",
        "colab_type": "code",
        "colab": {}
      },
      "source": [
        "values = dataset.values"
      ],
      "execution_count": 51,
      "outputs": []
    },
    {
      "cell_type": "code",
      "metadata": {
        "id": "JGl5KNG_Rmft",
        "colab_type": "code",
        "colab": {}
      },
      "source": [
        "from sklearn.preprocessing import MinMaxScaler\n",
        "scaler = MinMaxScaler(feature_range=(0, 1))\n",
        "scaled = scaler.fit_transform(values)"
      ],
      "execution_count": 52,
      "outputs": []
    },
    {
      "cell_type": "markdown",
      "metadata": {
        "id": "qwcwRCJ-QSBx",
        "colab_type": "text"
      },
      "source": [
        "### 資料轉換"
      ]
    },
    {
      "cell_type": "code",
      "metadata": {
        "id": "9PADaLHtP7Cb",
        "colab_type": "code",
        "colab": {}
      },
      "source": [
        "\n",
        "import pandas\n",
        "def series_to_supervised(data, n_in=1, n_out=1, dropnan=True):\n",
        "  \n",
        "\tn_vars = 1 if type(data) is list else data.shape[1]\n",
        "\tdf = pandas.DataFrame(data)\n",
        "\tcols, names = list(), list()\n",
        "\tfor i in range(n_in, 0, -1):\n",
        "\t\tcols.append(df.shift(i))\n",
        "\t\tnames += [('var%d(t-%d)' % (j+1, i)) for j in range(n_vars)]\n",
        "        \n",
        "\tfor i in range(0, n_out):\n",
        "\t\tcols.append(df.shift(-i))\n",
        "\t\tif i == 0:\n",
        "\t\t\tnames += [('var%d(t)' % (j+1)) for j in range(n_vars)]\n",
        "\t\telse:\n",
        "\t\t\tnames += [('var%d(t+%d)' % (j+1, i)) for j in range(n_vars)]\n",
        "\t# put it all together\n",
        "\tagg = pandas.concat(cols, axis=1)\n",
        "\tagg.columns = names\n",
        "    \n",
        "\t# drop rows with NaN values\n",
        "\tif dropnan:\n",
        "\t\tagg.dropna(inplace=True)\n",
        "\treturn agg"
      ],
      "execution_count": 53,
      "outputs": []
    },
    {
      "cell_type": "code",
      "metadata": {
        "id": "laE3DhgoRW99",
        "colab_type": "code",
        "colab": {}
      },
      "source": [
        "reframed = series_to_supervised(scaled, 1, 1)"
      ],
      "execution_count": 54,
      "outputs": []
    },
    {
      "cell_type": "code",
      "metadata": {
        "id": "P9rfzJx0R0WM",
        "colab_type": "code",
        "colab": {
          "base_uri": "https://localhost:8080/",
          "height": 239
        },
        "outputId": "471ef8a7-5c40-45d8-a3f8-27c2680901b6"
      },
      "source": [
        "reframed.head()"
      ],
      "execution_count": 55,
      "outputs": [
        {
          "output_type": "execute_result",
          "data": {
            "text/html": [
              "<div>\n",
              "<style scoped>\n",
              "    .dataframe tbody tr th:only-of-type {\n",
              "        vertical-align: middle;\n",
              "    }\n",
              "\n",
              "    .dataframe tbody tr th {\n",
              "        vertical-align: top;\n",
              "    }\n",
              "\n",
              "    .dataframe thead th {\n",
              "        text-align: right;\n",
              "    }\n",
              "</style>\n",
              "<table border=\"1\" class=\"dataframe\">\n",
              "  <thead>\n",
              "    <tr style=\"text-align: right;\">\n",
              "      <th></th>\n",
              "      <th>var1(t-1)</th>\n",
              "      <th>var2(t-1)</th>\n",
              "      <th>var3(t-1)</th>\n",
              "      <th>var4(t-1)</th>\n",
              "      <th>var5(t-1)</th>\n",
              "      <th>var6(t-1)</th>\n",
              "      <th>var7(t-1)</th>\n",
              "      <th>var8(t-1)</th>\n",
              "      <th>var1(t)</th>\n",
              "      <th>var2(t)</th>\n",
              "      <th>var3(t)</th>\n",
              "      <th>var4(t)</th>\n",
              "      <th>var5(t)</th>\n",
              "      <th>var6(t)</th>\n",
              "      <th>var7(t)</th>\n",
              "      <th>var8(t)</th>\n",
              "    </tr>\n",
              "  </thead>\n",
              "  <tbody>\n",
              "    <tr>\n",
              "      <th>1</th>\n",
              "      <td>0.129779</td>\n",
              "      <td>0.352941</td>\n",
              "      <td>0.245902</td>\n",
              "      <td>0.527273</td>\n",
              "      <td>0.666667</td>\n",
              "      <td>0.002290</td>\n",
              "      <td>0.000000</td>\n",
              "      <td>0.0</td>\n",
              "      <td>0.148893</td>\n",
              "      <td>0.367647</td>\n",
              "      <td>0.245902</td>\n",
              "      <td>0.527273</td>\n",
              "      <td>0.666667</td>\n",
              "      <td>0.003811</td>\n",
              "      <td>0.000000</td>\n",
              "      <td>0.0</td>\n",
              "    </tr>\n",
              "    <tr>\n",
              "      <th>2</th>\n",
              "      <td>0.148893</td>\n",
              "      <td>0.367647</td>\n",
              "      <td>0.245902</td>\n",
              "      <td>0.527273</td>\n",
              "      <td>0.666667</td>\n",
              "      <td>0.003811</td>\n",
              "      <td>0.000000</td>\n",
              "      <td>0.0</td>\n",
              "      <td>0.159960</td>\n",
              "      <td>0.426471</td>\n",
              "      <td>0.229508</td>\n",
              "      <td>0.545455</td>\n",
              "      <td>0.666667</td>\n",
              "      <td>0.005332</td>\n",
              "      <td>0.000000</td>\n",
              "      <td>0.0</td>\n",
              "    </tr>\n",
              "    <tr>\n",
              "      <th>3</th>\n",
              "      <td>0.159960</td>\n",
              "      <td>0.426471</td>\n",
              "      <td>0.229508</td>\n",
              "      <td>0.545455</td>\n",
              "      <td>0.666667</td>\n",
              "      <td>0.005332</td>\n",
              "      <td>0.000000</td>\n",
              "      <td>0.0</td>\n",
              "      <td>0.182093</td>\n",
              "      <td>0.485294</td>\n",
              "      <td>0.229508</td>\n",
              "      <td>0.563636</td>\n",
              "      <td>0.666667</td>\n",
              "      <td>0.008391</td>\n",
              "      <td>0.037037</td>\n",
              "      <td>0.0</td>\n",
              "    </tr>\n",
              "    <tr>\n",
              "      <th>4</th>\n",
              "      <td>0.182093</td>\n",
              "      <td>0.485294</td>\n",
              "      <td>0.229508</td>\n",
              "      <td>0.563636</td>\n",
              "      <td>0.666667</td>\n",
              "      <td>0.008391</td>\n",
              "      <td>0.037037</td>\n",
              "      <td>0.0</td>\n",
              "      <td>0.138833</td>\n",
              "      <td>0.485294</td>\n",
              "      <td>0.229508</td>\n",
              "      <td>0.563636</td>\n",
              "      <td>0.666667</td>\n",
              "      <td>0.009912</td>\n",
              "      <td>0.074074</td>\n",
              "      <td>0.0</td>\n",
              "    </tr>\n",
              "    <tr>\n",
              "      <th>5</th>\n",
              "      <td>0.138833</td>\n",
              "      <td>0.485294</td>\n",
              "      <td>0.229508</td>\n",
              "      <td>0.563636</td>\n",
              "      <td>0.666667</td>\n",
              "      <td>0.009912</td>\n",
              "      <td>0.074074</td>\n",
              "      <td>0.0</td>\n",
              "      <td>0.109658</td>\n",
              "      <td>0.485294</td>\n",
              "      <td>0.213115</td>\n",
              "      <td>0.563636</td>\n",
              "      <td>0.666667</td>\n",
              "      <td>0.011433</td>\n",
              "      <td>0.111111</td>\n",
              "      <td>0.0</td>\n",
              "    </tr>\n",
              "  </tbody>\n",
              "</table>\n",
              "</div>"
            ],
            "text/plain": [
              "   var1(t-1)  var2(t-1)  var3(t-1)  ...   var6(t)   var7(t)  var8(t)\n",
              "1   0.129779   0.352941   0.245902  ...  0.003811  0.000000      0.0\n",
              "2   0.148893   0.367647   0.245902  ...  0.005332  0.000000      0.0\n",
              "3   0.159960   0.426471   0.229508  ...  0.008391  0.037037      0.0\n",
              "4   0.182093   0.485294   0.229508  ...  0.009912  0.074074      0.0\n",
              "5   0.138833   0.485294   0.229508  ...  0.011433  0.111111      0.0\n",
              "\n",
              "[5 rows x 16 columns]"
            ]
          },
          "metadata": {
            "tags": []
          },
          "execution_count": 55
        }
      ]
    },
    {
      "cell_type": "code",
      "metadata": {
        "id": "7-AhVmR7R1as",
        "colab_type": "code",
        "colab": {
          "base_uri": "https://localhost:8080/",
          "height": 219
        },
        "outputId": "9e5780ca-89e8-4313-9083-34598150fa02"
      },
      "source": [
        "reframed.drop(reframed.columns[[9,10,11,12,13,14,15]], axis=1, inplace=True)\n",
        "reframed.head()"
      ],
      "execution_count": 56,
      "outputs": [
        {
          "output_type": "execute_result",
          "data": {
            "text/html": [
              "<div>\n",
              "<style scoped>\n",
              "    .dataframe tbody tr th:only-of-type {\n",
              "        vertical-align: middle;\n",
              "    }\n",
              "\n",
              "    .dataframe tbody tr th {\n",
              "        vertical-align: top;\n",
              "    }\n",
              "\n",
              "    .dataframe thead th {\n",
              "        text-align: right;\n",
              "    }\n",
              "</style>\n",
              "<table border=\"1\" class=\"dataframe\">\n",
              "  <thead>\n",
              "    <tr style=\"text-align: right;\">\n",
              "      <th></th>\n",
              "      <th>var1(t-1)</th>\n",
              "      <th>var2(t-1)</th>\n",
              "      <th>var3(t-1)</th>\n",
              "      <th>var4(t-1)</th>\n",
              "      <th>var5(t-1)</th>\n",
              "      <th>var6(t-1)</th>\n",
              "      <th>var7(t-1)</th>\n",
              "      <th>var8(t-1)</th>\n",
              "      <th>var1(t)</th>\n",
              "    </tr>\n",
              "  </thead>\n",
              "  <tbody>\n",
              "    <tr>\n",
              "      <th>1</th>\n",
              "      <td>0.129779</td>\n",
              "      <td>0.352941</td>\n",
              "      <td>0.245902</td>\n",
              "      <td>0.527273</td>\n",
              "      <td>0.666667</td>\n",
              "      <td>0.002290</td>\n",
              "      <td>0.000000</td>\n",
              "      <td>0.0</td>\n",
              "      <td>0.148893</td>\n",
              "    </tr>\n",
              "    <tr>\n",
              "      <th>2</th>\n",
              "      <td>0.148893</td>\n",
              "      <td>0.367647</td>\n",
              "      <td>0.245902</td>\n",
              "      <td>0.527273</td>\n",
              "      <td>0.666667</td>\n",
              "      <td>0.003811</td>\n",
              "      <td>0.000000</td>\n",
              "      <td>0.0</td>\n",
              "      <td>0.159960</td>\n",
              "    </tr>\n",
              "    <tr>\n",
              "      <th>3</th>\n",
              "      <td>0.159960</td>\n",
              "      <td>0.426471</td>\n",
              "      <td>0.229508</td>\n",
              "      <td>0.545455</td>\n",
              "      <td>0.666667</td>\n",
              "      <td>0.005332</td>\n",
              "      <td>0.000000</td>\n",
              "      <td>0.0</td>\n",
              "      <td>0.182093</td>\n",
              "    </tr>\n",
              "    <tr>\n",
              "      <th>4</th>\n",
              "      <td>0.182093</td>\n",
              "      <td>0.485294</td>\n",
              "      <td>0.229508</td>\n",
              "      <td>0.563636</td>\n",
              "      <td>0.666667</td>\n",
              "      <td>0.008391</td>\n",
              "      <td>0.037037</td>\n",
              "      <td>0.0</td>\n",
              "      <td>0.138833</td>\n",
              "    </tr>\n",
              "    <tr>\n",
              "      <th>5</th>\n",
              "      <td>0.138833</td>\n",
              "      <td>0.485294</td>\n",
              "      <td>0.229508</td>\n",
              "      <td>0.563636</td>\n",
              "      <td>0.666667</td>\n",
              "      <td>0.009912</td>\n",
              "      <td>0.074074</td>\n",
              "      <td>0.0</td>\n",
              "      <td>0.109658</td>\n",
              "    </tr>\n",
              "  </tbody>\n",
              "</table>\n",
              "</div>"
            ],
            "text/plain": [
              "   var1(t-1)  var2(t-1)  var3(t-1)  ...  var7(t-1)  var8(t-1)   var1(t)\n",
              "1   0.129779   0.352941   0.245902  ...   0.000000        0.0  0.148893\n",
              "2   0.148893   0.367647   0.245902  ...   0.000000        0.0  0.159960\n",
              "3   0.159960   0.426471   0.229508  ...   0.000000        0.0  0.182093\n",
              "4   0.182093   0.485294   0.229508  ...   0.037037        0.0  0.138833\n",
              "5   0.138833   0.485294   0.229508  ...   0.074074        0.0  0.109658\n",
              "\n",
              "[5 rows x 9 columns]"
            ]
          },
          "metadata": {
            "tags": []
          },
          "execution_count": 56
        }
      ]
    },
    {
      "cell_type": "markdown",
      "metadata": {
        "id": "iCKRWz3uSNa7",
        "colab_type": "text"
      },
      "source": [
        "### 分為訓練與測試資料集"
      ]
    },
    {
      "cell_type": "code",
      "metadata": {
        "id": "n3bMu2k_SGCt",
        "colab_type": "code",
        "colab": {}
      },
      "source": [
        "values = reframed.values\n",
        "n_train_hours = 365 * 24\n",
        "\n",
        "train = values[:n_train_hours, :]\n",
        "test = values[n_train_hours:, :]\n",
        "\n",
        "train_X, train_y = train[:, :-1], train[:, -1]\n",
        "test_X, test_y = test[:, :-1], test[:, -1]\n"
      ],
      "execution_count": 57,
      "outputs": []
    },
    {
      "cell_type": "code",
      "metadata": {
        "id": "JgkQcGv4SbMu",
        "colab_type": "code",
        "colab": {
          "base_uri": "https://localhost:8080/",
          "height": 35
        },
        "outputId": "d3983c98-7a85-4456-b965-c24d3ebc23e7"
      },
      "source": [
        "train_X.shape"
      ],
      "execution_count": 58,
      "outputs": [
        {
          "output_type": "execute_result",
          "data": {
            "text/plain": [
              "(8760, 8)"
            ]
          },
          "metadata": {
            "tags": []
          },
          "execution_count": 58
        }
      ]
    },
    {
      "cell_type": "code",
      "metadata": {
        "id": "-R4rIMj4Sc2u",
        "colab_type": "code",
        "colab": {
          "base_uri": "https://localhost:8080/",
          "height": 35
        },
        "outputId": "b33c3d3b-94a7-48b3-9799-f626009f7ce6"
      },
      "source": [
        "train_y.shape"
      ],
      "execution_count": 60,
      "outputs": [
        {
          "output_type": "execute_result",
          "data": {
            "text/plain": [
              "(8760,)"
            ]
          },
          "metadata": {
            "tags": []
          },
          "execution_count": 60
        }
      ]
    },
    {
      "cell_type": "code",
      "metadata": {
        "id": "R7CRCNRESf2-",
        "colab_type": "code",
        "colab": {
          "base_uri": "https://localhost:8080/",
          "height": 35
        },
        "outputId": "830bec84-8a37-484c-f7c0-eb3dce531e5b"
      },
      "source": [
        "train_X = train_X.reshape((train_X.shape[0], 1, train_X.shape[1]))\n",
        "test_X = test_X.reshape((test_X.shape[0], 1, test_X.shape[1]))\n",
        "train_X.shape, train_y.shape, test_X.shape, test_y.shape"
      ],
      "execution_count": 61,
      "outputs": [
        {
          "output_type": "execute_result",
          "data": {
            "text/plain": [
              "((8760, 1, 8), (8760,), (35039, 1, 8), (35039,))"
            ]
          },
          "metadata": {
            "tags": []
          },
          "execution_count": 61
        }
      ]
    },
    {
      "cell_type": "markdown",
      "metadata": {
        "id": "1VD7nRvkSo7a",
        "colab_type": "text"
      },
      "source": [
        "(8760, 1, 8)\n",
        "\n",
        "- 8760: 資料筆數\n",
        "- 1: 時間window\n",
        "- 8: 特徵的數量"
      ]
    },
    {
      "cell_type": "markdown",
      "metadata": {
        "id": "bJdD6k-_S4JE",
        "colab_type": "text"
      },
      "source": [
        "### 建立模型"
      ]
    },
    {
      "cell_type": "code",
      "metadata": {
        "id": "LhOFkd1LSnAu",
        "colab_type": "code",
        "colab": {}
      },
      "source": [
        "% %tensorflow_version 2.x\n",
        "import tensorflow as tf\n",
        "from tensorflow.keras.models import Sequential\n",
        "from tensorflow.keras.layers import LSTM, Dense\n",
        "\n",
        "\n",
        "model = Sequential()\n",
        "model.add(LSTM(50, return_sequences = True, input_shape=(train_X.shape[1], train_X.shape[2])))\n",
        "model.add(LSTM(50, return_sequences = True))\n",
        "model.add(Dense(1))\n",
        "model.compile(loss='mae', optimizer='adam')"
      ],
      "execution_count": 64,
      "outputs": []
    },
    {
      "cell_type": "markdown",
      "metadata": {
        "id": "-OOxU2SrTVbW",
        "colab_type": "text"
      },
      "source": [
        "### 訓練模型"
      ]
    },
    {
      "cell_type": "code",
      "metadata": {
        "id": "k8c0GA3tTMn_",
        "colab_type": "code",
        "colab": {}
      },
      "source": [
        "history = model.fit(train_X, train_y, \n",
        "          epochs=50, \n",
        "          batch_size=72, \n",
        "          validation_data=(test_X, test_y), \n",
        "          verbose=1, \n",
        "          shuffle=False)"
      ],
      "execution_count": null,
      "outputs": []
    },
    {
      "cell_type": "code",
      "metadata": {
        "id": "dGcUroY9Tqvv",
        "colab_type": "code",
        "colab": {
          "base_uri": "https://localhost:8080/",
          "height": 265
        },
        "outputId": "d906878a-dca0-4286-e6ea-79053c0aae59"
      },
      "source": [
        "pyplot.plot(history.history['loss'], label='train')\n",
        "pyplot.plot(history.history['val_loss'], label='test')\n",
        "pyplot.legend()\n",
        "pyplot.show()"
      ],
      "execution_count": 66,
      "outputs": [
        {
          "output_type": "display_data",
          "data": {
            "image/png": "[encoded data removed]",
            "text/plain": [
              "<Figure size 432x288 with 1 Axes>"
            ]
          },
          "metadata": {
            "tags": [],
            "needs_background": "light"
          }
        }
      ]
    },
    {
      "cell_type": "markdown",
      "metadata": {
        "id": "rGeg9RsoUIAN",
        "colab_type": "text"
      },
      "source": [
        "### 驗證結果"
      ]
    },
    {
      "cell_type": "code",
      "metadata": {
        "id": "eUgl34D6UFv_",
        "colab_type": "code",
        "colab": {}
      },
      "source": [
        "yhat = model.predict(test_X)\n",
        "test_X = test_X.reshape((test_X.shape[0], test_X.shape[2]))"
      ],
      "execution_count": 67,
      "outputs": []
    },
    {
      "cell_type": "code",
      "metadata": {
        "id": "zb9ZBLAsULJ_",
        "colab_type": "code",
        "colab": {
          "base_uri": "https://localhost:8080/",
          "height": 35
        },
        "outputId": "239922d9-237a-4e36-c5c1-ef87908f7b7f"
      },
      "source": [
        "yhat.shape"
      ],
      "execution_count": 71,
      "outputs": [
        {
          "output_type": "execute_result",
          "data": {
            "text/plain": [
              "(35039, 1, 1)"
            ]
          },
          "metadata": {
            "tags": []
          },
          "execution_count": 71
        }
      ]
    },
    {
      "cell_type": "code",
      "metadata": {
        "id": "aeya9jhUUkQ_",
        "colab_type": "code",
        "colab": {}
      },
      "source": [
        "yhat = yhat.flatten()"
      ],
      "execution_count": 75,
      "outputs": []
    },
    {
      "cell_type": "code",
      "metadata": {
        "id": "J82ckUvhUPgP",
        "colab_type": "code",
        "colab": {
          "base_uri": "https://localhost:8080/",
          "height": 35
        },
        "outputId": "da011f73-d833-42be-e95b-2cb98d5b61e6"
      },
      "source": [
        "test_y.shape"
      ],
      "execution_count": 76,
      "outputs": [
        {
          "output_type": "execute_result",
          "data": {
            "text/plain": [
              "(35039,)"
            ]
          },
          "metadata": {
            "tags": []
          },
          "execution_count": 76
        }
      ]
    },
    {
      "cell_type": "code",
      "metadata": {
        "id": "oNDN9-boURdP",
        "colab_type": "code",
        "colab": {
          "base_uri": "https://localhost:8080/",
          "height": 279
        },
        "outputId": "2b764389-fc0b-41f5-f9b2-ae18c6fdb8f6"
      },
      "source": [
        "\n",
        "from matplotlib import pyplot as plt\n",
        "plt.plot(test_y, color = 'red', label = 'Real')\n",
        "plt.plot(yhat, color = 'blue', label = 'Predicted')\n",
        "plt.xlabel('Time')\n",
        "plt.ylabel('Pollution')\n",
        "plt.legend()\n",
        "plt.show()"
      ],
      "execution_count": 77,
      "outputs": [
        {
          "output_type": "display_data",
          "data": {
            "image/png": "[encoded data removed]",
            "text/plain": [
              "<Figure size 432x288 with 1 Axes>"
            ]
          },
          "metadata": {
            "tags": [],
            "needs_background": "light"
          }
        }
      ]
    },
    {
      "cell_type": "markdown",
      "metadata": {
        "id": "9TkORsf4U4JF",
        "colab_type": "text"
      },
      "source": [
        "## 計算RMSE"
      ]
    },
    {
      "cell_type": "code",
      "metadata": {
        "id": "OiHIhEkHUxIg",
        "colab_type": "code",
        "colab": {
          "base_uri": "https://localhost:8080/",
          "height": 35
        },
        "outputId": "63d813a2-c65c-49dd-fcdd-dd425c87efc1"
      },
      "source": [
        "from sklearn.metrics import mean_squared_error\n",
        "mean_squared_error(test_y, yhat)"
      ],
      "execution_count": 78,
      "outputs": [
        {
          "output_type": "execute_result",
          "data": {
            "text/plain": [
              "0.0007390017713704497"
            ]
          },
          "metadata": {
            "tags": []
          },
          "execution_count": 78
        }
      ]
    },
    {
      "cell_type": "markdown",
      "metadata": {
        "id": "PX0AdsctsWXM",
        "colab_type": "text"
      },
      "source": [
        "## Seq2Seq"
      ]
    },
    {
      "cell_type": "code",
      "metadata": {
        "id": "ywH6_1isVM-x",
        "colab_type": "code",
        "colab": {
          "base_uri": "https://localhost:8080/",
          "height": 233
        },
        "outputId": "8c4608e3-71dd-4cad-9cea-0bee50d00587"
      },
      "source": [
        "from pandas import read_csv\n",
        "from datetime import datetime\n",
        "\n",
        "def parse(x):\n",
        "\treturn datetime.strptime(x, '%Y %m %d %H')\n",
        "\n",
        "dataset = read_csv('https://raw.githubusercontent.com/ywchiu/tibamedl/master/Data/pollution.csv',  parse_dates = [['year', 'month', 'day', 'hour']], index_col=0, date_parser=parse)\n",
        "dataset.head()"
      ],
      "execution_count": 2,
      "outputs": [
        {
          "output_type": "execute_result",
          "data": {
            "text/html": [
              "<div>\n",
              "<style scoped>\n",
              "    .dataframe tbody tr th:only-of-type {\n",
              "        vertical-align: middle;\n",
              "    }\n",
              "\n",
              "    .dataframe tbody tr th {\n",
              "        vertical-align: top;\n",
              "    }\n",
              "\n",
              "    .dataframe thead th {\n",
              "        text-align: right;\n",
              "    }\n",
              "</style>\n",
              "<table border=\"1\" class=\"dataframe\">\n",
              "  <thead>\n",
              "    <tr style=\"text-align: right;\">\n",
              "      <th></th>\n",
              "      <th>No</th>\n",
              "      <th>pm2.5</th>\n",
              "      <th>DEWP</th>\n",
              "      <th>TEMP</th>\n",
              "      <th>PRES</th>\n",
              "      <th>cbwd</th>\n",
              "      <th>Iws</th>\n",
              "      <th>Is</th>\n",
              "      <th>Ir</th>\n",
              "    </tr>\n",
              "    <tr>\n",
              "      <th>year_month_day_hour</th>\n",
              "      <th></th>\n",
              "      <th></th>\n",
              "      <th></th>\n",
              "      <th></th>\n",
              "      <th></th>\n",
              "      <th></th>\n",
              "      <th></th>\n",
              "      <th></th>\n",
              "      <th></th>\n",
              "    </tr>\n",
              "  </thead>\n",
              "  <tbody>\n",
              "    <tr>\n",
              "      <th>2010-01-01 00:00:00</th>\n",
              "      <td>1</td>\n",
              "      <td>NaN</td>\n",
              "      <td>-21</td>\n",
              "      <td>-11.0</td>\n",
              "      <td>1021.0</td>\n",
              "      <td>NW</td>\n",
              "      <td>1.79</td>\n",
              "      <td>0</td>\n",
              "      <td>0</td>\n",
              "    </tr>\n",
              "    <tr>\n",
              "      <th>2010-01-01 01:00:00</th>\n",
              "      <td>2</td>\n",
              "      <td>NaN</td>\n",
              "      <td>-21</td>\n",
              "      <td>-12.0</td>\n",
              "      <td>1020.0</td>\n",
              "      <td>NW</td>\n",
              "      <td>4.92</td>\n",
              "      <td>0</td>\n",
              "      <td>0</td>\n",
              "    </tr>\n",
              "    <tr>\n",
              "      <th>2010-01-01 02:00:00</th>\n",
              "      <td>3</td>\n",
              "      <td>NaN</td>\n",
              "      <td>-21</td>\n",
              "      <td>-11.0</td>\n",
              "      <td>1019.0</td>\n",
              "      <td>NW</td>\n",
              "      <td>6.71</td>\n",
              "      <td>0</td>\n",
              "      <td>0</td>\n",
              "    </tr>\n",
              "    <tr>\n",
              "      <th>2010-01-01 03:00:00</th>\n",
              "      <td>4</td>\n",
              "      <td>NaN</td>\n",
              "      <td>-21</td>\n",
              "      <td>-14.0</td>\n",
              "      <td>1019.0</td>\n",
              "      <td>NW</td>\n",
              "      <td>9.84</td>\n",
              "      <td>0</td>\n",
              "      <td>0</td>\n",
              "    </tr>\n",
              "    <tr>\n",
              "      <th>2010-01-01 04:00:00</th>\n",
              "      <td>5</td>\n",
              "      <td>NaN</td>\n",
              "      <td>-20</td>\n",
              "      <td>-12.0</td>\n",
              "      <td>1018.0</td>\n",
              "      <td>NW</td>\n",
              "      <td>12.97</td>\n",
              "      <td>0</td>\n",
              "      <td>0</td>\n",
              "    </tr>\n",
              "  </tbody>\n",
              "</table>\n",
              "</div>"
            ],
            "text/plain": [
              "                     No  pm2.5  DEWP  TEMP    PRES cbwd    Iws  Is  Ir\n",
              "year_month_day_hour                                                   \n",
              "2010-01-01 00:00:00   1    NaN   -21 -11.0  1021.0   NW   1.79   0   0\n",
              "2010-01-01 01:00:00   2    NaN   -21 -12.0  1020.0   NW   4.92   0   0\n",
              "2010-01-01 02:00:00   3    NaN   -21 -11.0  1019.0   NW   6.71   0   0\n",
              "2010-01-01 03:00:00   4    NaN   -21 -14.0  1019.0   NW   9.84   0   0\n",
              "2010-01-01 04:00:00   5    NaN   -20 -12.0  1018.0   NW  12.97   0   0"
            ]
          },
          "metadata": {
            "tags": []
          },
          "execution_count": 2
        }
      ]
    },
    {
      "cell_type": "code",
      "metadata": {
        "id": "APFTfoQgsqXU",
        "colab_type": "code",
        "colab": {
          "base_uri": "https://localhost:8080/",
          "height": 233
        },
        "outputId": "700f4633-c10c-4b1e-a9b1-740adac057ef"
      },
      "source": [
        "dataset.drop('No', axis=1, inplace=True)\n",
        "dataset.columns = ['pollution', 'dew', 'temp', 'press', 'wnd_dir', 'wnd_spd', 'snow', 'rain']\n",
        "dataset.index.name = 'date'\n",
        "dataset['pollution'].fillna(0, inplace=True)\n",
        "dataset = dataset[24:]\n",
        "dataset.head()"
      ],
      "execution_count": 3,
      "outputs": [
        {
          "output_type": "execute_result",
          "data": {
            "text/html": [
              "<div>\n",
              "<style scoped>\n",
              "    .dataframe tbody tr th:only-of-type {\n",
              "        vertical-align: middle;\n",
              "    }\n",
              "\n",
              "    .dataframe tbody tr th {\n",
              "        vertical-align: top;\n",
              "    }\n",
              "\n",
              "    .dataframe thead th {\n",
              "        text-align: right;\n",
              "    }\n",
              "</style>\n",
              "<table border=\"1\" class=\"dataframe\">\n",
              "  <thead>\n",
              "    <tr style=\"text-align: right;\">\n",
              "      <th></th>\n",
              "      <th>pollution</th>\n",
              "      <th>dew</th>\n",
              "      <th>temp</th>\n",
              "      <th>press</th>\n",
              "      <th>wnd_dir</th>\n",
              "      <th>wnd_spd</th>\n",
              "      <th>snow</th>\n",
              "      <th>rain</th>\n",
              "    </tr>\n",
              "    <tr>\n",
              "      <th>date</th>\n",
              "      <th></th>\n",
              "      <th></th>\n",
              "      <th></th>\n",
              "      <th></th>\n",
              "      <th></th>\n",
              "      <th></th>\n",
              "      <th></th>\n",
              "      <th></th>\n",
              "    </tr>\n",
              "  </thead>\n",
              "  <tbody>\n",
              "    <tr>\n",
              "      <th>2010-01-02 00:00:00</th>\n",
              "      <td>129.0</td>\n",
              "      <td>-16</td>\n",
              "      <td>-4.0</td>\n",
              "      <td>1020.0</td>\n",
              "      <td>SE</td>\n",
              "      <td>1.79</td>\n",
              "      <td>0</td>\n",
              "      <td>0</td>\n",
              "    </tr>\n",
              "    <tr>\n",
              "      <th>2010-01-02 01:00:00</th>\n",
              "      <td>148.0</td>\n",
              "      <td>-15</td>\n",
              "      <td>-4.0</td>\n",
              "      <td>1020.0</td>\n",
              "      <td>SE</td>\n",
              "      <td>2.68</td>\n",
              "      <td>0</td>\n",
              "      <td>0</td>\n",
              "    </tr>\n",
              "    <tr>\n",
              "      <th>2010-01-02 02:00:00</th>\n",
              "      <td>159.0</td>\n",
              "      <td>-11</td>\n",
              "      <td>-5.0</td>\n",
              "      <td>1021.0</td>\n",
              "      <td>SE</td>\n",
              "      <td>3.57</td>\n",
              "      <td>0</td>\n",
              "      <td>0</td>\n",
              "    </tr>\n",
              "    <tr>\n",
              "      <th>2010-01-02 03:00:00</th>\n",
              "      <td>181.0</td>\n",
              "      <td>-7</td>\n",
              "      <td>-5.0</td>\n",
              "      <td>1022.0</td>\n",
              "      <td>SE</td>\n",
              "      <td>5.36</td>\n",
              "      <td>1</td>\n",
              "      <td>0</td>\n",
              "    </tr>\n",
              "    <tr>\n",
              "      <th>2010-01-02 04:00:00</th>\n",
              "      <td>138.0</td>\n",
              "      <td>-7</td>\n",
              "      <td>-5.0</td>\n",
              "      <td>1022.0</td>\n",
              "      <td>SE</td>\n",
              "      <td>6.25</td>\n",
              "      <td>2</td>\n",
              "      <td>0</td>\n",
              "    </tr>\n",
              "  </tbody>\n",
              "</table>\n",
              "</div>"
            ],
            "text/plain": [
              "                     pollution  dew  temp   press wnd_dir  wnd_spd  snow  rain\n",
              "date                                                                          \n",
              "2010-01-02 00:00:00      129.0  -16  -4.0  1020.0      SE     1.79     0     0\n",
              "2010-01-02 01:00:00      148.0  -15  -4.0  1020.0      SE     2.68     0     0\n",
              "2010-01-02 02:00:00      159.0  -11  -5.0  1021.0      SE     3.57     0     0\n",
              "2010-01-02 03:00:00      181.0   -7  -5.0  1022.0      SE     5.36     1     0\n",
              "2010-01-02 04:00:00      138.0   -7  -5.0  1022.0      SE     6.25     2     0"
            ]
          },
          "metadata": {
            "tags": []
          },
          "execution_count": 3
        }
      ]
    },
    {
      "cell_type": "code",
      "metadata": {
        "id": "R3uj0jN_ssfk",
        "colab_type": "code",
        "colab": {}
      },
      "source": [
        "from sklearn.preprocessing import LabelEncoder\n",
        "values = dataset.values\n",
        "encoder = LabelEncoder()\n",
        "wnd_dir = encoder.fit_transform(values[:,4])"
      ],
      "execution_count": 4,
      "outputs": []
    },
    {
      "cell_type": "code",
      "metadata": {
        "id": "BiMpVDvTsuRE",
        "colab_type": "code",
        "colab": {}
      },
      "source": [
        "dataset['wnd_dir'] = wnd_dir"
      ],
      "execution_count": 5,
      "outputs": []
    },
    {
      "cell_type": "code",
      "metadata": {
        "id": "3XYhYPB0sv3E",
        "colab_type": "code",
        "colab": {
          "base_uri": "https://localhost:8080/",
          "height": 233
        },
        "outputId": "e6541e4c-9478-49e6-924f-b4ece4c3b718"
      },
      "source": [
        "dataset.head()"
      ],
      "execution_count": 6,
      "outputs": [
        {
          "output_type": "execute_result",
          "data": {
            "text/html": [
              "<div>\n",
              "<style scoped>\n",
              "    .dataframe tbody tr th:only-of-type {\n",
              "        vertical-align: middle;\n",
              "    }\n",
              "\n",
              "    .dataframe tbody tr th {\n",
              "        vertical-align: top;\n",
              "    }\n",
              "\n",
              "    .dataframe thead th {\n",
              "        text-align: right;\n",
              "    }\n",
              "</style>\n",
              "<table border=\"1\" class=\"dataframe\">\n",
              "  <thead>\n",
              "    <tr style=\"text-align: right;\">\n",
              "      <th></th>\n",
              "      <th>pollution</th>\n",
              "      <th>dew</th>\n",
              "      <th>temp</th>\n",
              "      <th>press</th>\n",
              "      <th>wnd_dir</th>\n",
              "      <th>wnd_spd</th>\n",
              "      <th>snow</th>\n",
              "      <th>rain</th>\n",
              "    </tr>\n",
              "    <tr>\n",
              "      <th>date</th>\n",
              "      <th></th>\n",
              "      <th></th>\n",
              "      <th></th>\n",
              "      <th></th>\n",
              "      <th></th>\n",
              "      <th></th>\n",
              "      <th></th>\n",
              "      <th></th>\n",
              "    </tr>\n",
              "  </thead>\n",
              "  <tbody>\n",
              "    <tr>\n",
              "      <th>2010-01-02 00:00:00</th>\n",
              "      <td>129.0</td>\n",
              "      <td>-16</td>\n",
              "      <td>-4.0</td>\n",
              "      <td>1020.0</td>\n",
              "      <td>2</td>\n",
              "      <td>1.79</td>\n",
              "      <td>0</td>\n",
              "      <td>0</td>\n",
              "    </tr>\n",
              "    <tr>\n",
              "      <th>2010-01-02 01:00:00</th>\n",
              "      <td>148.0</td>\n",
              "      <td>-15</td>\n",
              "      <td>-4.0</td>\n",
              "      <td>1020.0</td>\n",
              "      <td>2</td>\n",
              "      <td>2.68</td>\n",
              "      <td>0</td>\n",
              "      <td>0</td>\n",
              "    </tr>\n",
              "    <tr>\n",
              "      <th>2010-01-02 02:00:00</th>\n",
              "      <td>159.0</td>\n",
              "      <td>-11</td>\n",
              "      <td>-5.0</td>\n",
              "      <td>1021.0</td>\n",
              "      <td>2</td>\n",
              "      <td>3.57</td>\n",
              "      <td>0</td>\n",
              "      <td>0</td>\n",
              "    </tr>\n",
              "    <tr>\n",
              "      <th>2010-01-02 03:00:00</th>\n",
              "      <td>181.0</td>\n",
              "      <td>-7</td>\n",
              "      <td>-5.0</td>\n",
              "      <td>1022.0</td>\n",
              "      <td>2</td>\n",
              "      <td>5.36</td>\n",
              "      <td>1</td>\n",
              "      <td>0</td>\n",
              "    </tr>\n",
              "    <tr>\n",
              "      <th>2010-01-02 04:00:00</th>\n",
              "      <td>138.0</td>\n",
              "      <td>-7</td>\n",
              "      <td>-5.0</td>\n",
              "      <td>1022.0</td>\n",
              "      <td>2</td>\n",
              "      <td>6.25</td>\n",
              "      <td>2</td>\n",
              "      <td>0</td>\n",
              "    </tr>\n",
              "  </tbody>\n",
              "</table>\n",
              "</div>"
            ],
            "text/plain": [
              "                     pollution  dew  temp   press  wnd_dir  wnd_spd  snow  rain\n",
              "date                                                                           \n",
              "2010-01-02 00:00:00      129.0  -16  -4.0  1020.0        2     1.79     0     0\n",
              "2010-01-02 01:00:00      148.0  -15  -4.0  1020.0        2     2.68     0     0\n",
              "2010-01-02 02:00:00      159.0  -11  -5.0  1021.0        2     3.57     0     0\n",
              "2010-01-02 03:00:00      181.0   -7  -5.0  1022.0        2     5.36     1     0\n",
              "2010-01-02 04:00:00      138.0   -7  -5.0  1022.0        2     6.25     2     0"
            ]
          },
          "metadata": {
            "tags": []
          },
          "execution_count": 6
        }
      ]
    },
    {
      "cell_type": "code",
      "metadata": {
        "id": "fd88t0fMsxiU",
        "colab_type": "code",
        "colab": {}
      },
      "source": [
        "from sklearn.preprocessing import StandardScaler\n",
        "\n",
        "def df_to_lstm_format(df, test_size=0.5, look_back=5, target_column='target', scale_X=True):\n",
        "\n",
        "    df = df.copy()\n",
        "\n",
        "    # 最後一個欄位為預測目標\n",
        "    df['target'] = df[target_column] \n",
        "    # 捨棄 y\n",
        "    df = df.drop(columns=[target_column]) \n",
        "    \n",
        "    # 取得目標 y\n",
        "    target_location = df.shape[1] - 1 \n",
        "    \n",
        "    # 根據 test_size 比例分割資料\n",
        "    split_index = int(df.shape[0]*test_size) \n",
        "    \n",
        "    # 訓練資料集\n",
        "    X_train = df.values[:split_index, :target_location]\n",
        "    y_train = df.values[:split_index, target_location]\n",
        "\n",
        "    # 測試資料集\n",
        "    X_test = df.values[split_index:, :target_location] \n",
        "    y_test = df.values[split_index:, target_location] \n",
        "\n",
        "    # 將資料正規化 (如果 scale_X 為True)\n",
        "    if scale_X:\n",
        "        scalerX = StandardScaler(with_mean=True, with_std=True).fit(X_train)\n",
        "        X_train = scalerX.transform(X_train)\n",
        "        X_test = scalerX.transform(X_test)\n",
        "        \n",
        "    # 重塑輸入矩陣\n",
        "    samples = len(X_train) \n",
        "    num_features = target_location \n",
        "\n",
        "    samples_train = X_train.shape[0] - look_back\n",
        "    \n",
        "    # 重塑訓練資料\n",
        "    # (資料筆數, 往前看多少筆, 特徵數量)\n",
        "    X_train_reshaped = np.zeros((samples_train, look_back, num_features))\n",
        "    y_train_reshaped = np.zeros((samples_train))\n",
        "\n",
        "    \n",
        "    for i in range(samples_train):\n",
        "        y_position = i + look_back\n",
        "        X_train_reshaped[i] = X_train[i:y_position]\n",
        "        y_train_reshaped[i] = y_train[y_position]\n",
        "\n",
        "    # 重塑測試資料\n",
        "    samples_test = X_test.shape[0] - look_back\n",
        "    X_test_reshaped = np.zeros((samples_test, look_back, num_features))\n",
        "    y_test_reshaped = np.zeros((samples_test))\n",
        "\n",
        "    for i in range(samples_test):\n",
        "        y_position = i + look_back\n",
        "        X_test_reshaped[i] = X_test[i:y_position]\n",
        "        y_test_reshaped[i] = y_test[y_position]\n",
        "    \n",
        "    return X_train_reshaped, y_train_reshaped, X_test_reshaped, y_test_reshaped"
      ],
      "execution_count": 7,
      "outputs": []
    },
    {
      "cell_type": "code",
      "metadata": {
        "id": "lo4SUrkKtJWU",
        "colab_type": "code",
        "colab": {}
      },
      "source": [
        "import numpy as np\n",
        "look_back = 24\n",
        "test_size = 0.5\n",
        "\n",
        "\n",
        "X_train, y_train, X_test, y_test = df_to_lstm_format(df=dataset, \n",
        "                             test_size=test_size, \n",
        "                             look_back=look_back, \n",
        "                             target_column='pollution', scale_X=True)"
      ],
      "execution_count": 9,
      "outputs": []
    },
    {
      "cell_type": "code",
      "metadata": {
        "id": "qP2gL3QvtSuU",
        "colab_type": "code",
        "colab": {
          "base_uri": "https://localhost:8080/",
          "height": 35
        },
        "outputId": "0b6efef4-f3ee-4841-bb42-5653a6b7b130"
      },
      "source": [
        "X_train.shape"
      ],
      "execution_count": 10,
      "outputs": [
        {
          "output_type": "execute_result",
          "data": {
            "text/plain": [
              "(21876, 24, 7)"
            ]
          },
          "metadata": {
            "tags": []
          },
          "execution_count": 10
        }
      ]
    },
    {
      "cell_type": "markdown",
      "metadata": {
        "id": "8XnIFdVdtkpQ",
        "colab_type": "text"
      },
      "source": [
        "### 建立 Seq2Seq 模型 (LSTM)"
      ]
    },
    {
      "cell_type": "markdown",
      "metadata": {
        "id": "E4j0Bg-gtnPN",
        "colab_type": "text"
      },
      "source": [
        "#### 編碼器 (Encoder)"
      ]
    },
    {
      "cell_type": "code",
      "metadata": {
        "id": "iJZoyleDt85N",
        "colab_type": "code",
        "colab": {}
      },
      "source": [
        "% tensorflow_version 2.x\n",
        "import tensorflow as tf"
      ],
      "execution_count": 14,
      "outputs": []
    },
    {
      "cell_type": "code",
      "metadata": {
        "id": "Pxr93AXWtspk",
        "colab_type": "code",
        "colab": {
          "base_uri": "https://localhost:8080/",
          "height": 35
        },
        "outputId": "1fa50e7f-7c28-4ef3-d3fb-6be3f47a12fc"
      },
      "source": [
        "num_features = dataset.shape[1] - 1\n",
        "num_features"
      ],
      "execution_count": 15,
      "outputs": [
        {
          "output_type": "execute_result",
          "data": {
            "text/plain": [
              "7"
            ]
          },
          "metadata": {
            "tags": []
          },
          "execution_count": 15
        }
      ]
    },
    {
      "cell_type": "code",
      "metadata": {
        "id": "oFPDAcdJtXrk",
        "colab_type": "code",
        "colab": {}
      },
      "source": [
        "encoder_inputs = tf.keras.layers.Input(shape=(None, num_features))\n",
        "encoder = tf.keras.layers.LSTM(50, return_state=True)\n",
        "encoder_outputs, state_h, state_c = encoder(encoder_inputs)\n",
        "encoder_states = [state_h, state_c]"
      ],
      "execution_count": 16,
      "outputs": []
    },
    {
      "cell_type": "markdown",
      "metadata": {
        "id": "_SzLZ7GjuJaG",
        "colab_type": "text"
      },
      "source": [
        "#### 解碼器 (Decoder)"
      ]
    },
    {
      "cell_type": "code",
      "metadata": {
        "id": "lHr8kZagt7P1",
        "colab_type": "code",
        "colab": {}
      },
      "source": [
        "decoder_inputs = tf.keras.layers.Input(shape=(None, 1))\n",
        "decoder_lstm = tf.keras.layers.LSTM(50, return_sequences=True, return_state=True)\n",
        "decoder_outputs, _, _ = decoder_lstm(decoder_inputs,\n",
        "                    initial_state=2\n",
        "decoder_dense = tf.keras.layers.Dense(1, activation='linear')\n",
        "decoder_outputs = decoder_dense(decoder_outputs)"
      ],
      "execution_count": 17,
      "outputs": []
    },
    {
      "cell_type": "markdown",
      "metadata": {
        "id": "Q-eIbQVXuoqT",
        "colab_type": "text"
      },
      "source": [
        "## 建立且編譯模型"
      ]
    },
    {
      "cell_type": "code",
      "metadata": {
        "id": "xOI3Ci76ufzH",
        "colab_type": "code",
        "colab": {}
      },
      "source": [
        "import tensorflow.keras.backend as K\n",
        "def mape(y_true, y_pred):\n",
        "    return (K.abs(y_true - y_pred) / K.abs(y_pred)) * 100\n",
        "\n",
        "def smape(y_true, y_pred):\n",
        "    return (K.abs(y_pred - y_true) / ((K.abs(y_true) + K.abs(y_pred))))*100"
      ],
      "execution_count": 18,
      "outputs": []
    },
    {
      "cell_type": "code",
      "metadata": {
        "id": "iNNKQLmbvVDG",
        "colab_type": "code",
        "colab": {}
      },
      "source": [
        "model = tf.keras.models.Model([encoder_inputs, decoder_inputs], decoder_outputs)\n",
        "model.compile(optimizer='adam', loss='mse', metrics=[mape, smape])"
      ],
      "execution_count": 19,
      "outputs": []
    },
    {
      "cell_type": "code",
      "metadata": {
        "id": "f7WPx9havXEm",
        "colab_type": "code",
        "colab": {
          "base_uri": "https://localhost:8080/",
          "height": 384
        },
        "outputId": "4a562a4d-cdfa-4ce2-9fce-8d377d8f5c10"
      },
      "source": [
        "model.summary()"
      ],
      "execution_count": 20,
      "outputs": [
        {
          "output_type": "stream",
          "text": [
            "Model: \"functional_1\"\n",
            "__________________________________________________________________________________________________\n",
            "Layer (type)                    Output Shape         Param #     Connected to                     \n",
            "==================================================================================================\n",
            "input_1 (InputLayer)            [(None, None, 7)]    0                                            \n",
            "__________________________________________________________________________________________________\n",
            "input_2 (InputLayer)            [(None, None, 1)]    0                                            \n",
            "__________________________________________________________________________________________________\n",
            "lstm (LSTM)                     [(None, 50), (None,  11600       input_1[0][0]                    \n",
            "__________________________________________________________________________________________________\n",
            "lstm_1 (LSTM)                   [(None, None, 50), ( 10400       input_2[0][0]                    \n",
            "                                                                 lstm[0][1]                       \n",
            "                                                                 lstm[0][2]                       \n",
            "__________________________________________________________________________________________________\n",
            "dense (Dense)                   (None, None, 1)      51          lstm_1[0][0]                     \n",
            "==================================================================================================\n",
            "Total params: 22,051\n",
            "Trainable params: 22,051\n",
            "Non-trainable params: 0\n",
            "__________________________________________________________________________________________________\n"
          ],
          "name": "stdout"
        }
      ]
    },
    {
      "cell_type": "code",
      "metadata": {
        "id": "saLwxm2RvZP3",
        "colab_type": "code",
        "colab": {}
      },
      "source": [
        "# 建立編碼器與解碼器所需numpy array\n",
        "encoder_input_train = X_train\n",
        "decoder_input_train = np.zeros((X_train.shape[0], X_train.shape[1], 1)) # Zeros array\n",
        "decoder_output_train = y_train.reshape((y_train.shape[0], 1, 1))\n",
        "\n",
        "encoder_input_test = X_test\n",
        "decoder_input_test = np.zeros((X_test.shape[0], X_test.shape[1], 1)) # Zeros array\n",
        "decoder_output_test = y_test.reshape((y_test.shape[0], 1, 1))"
      ],
      "execution_count": 21,
      "outputs": []
    },
    {
      "cell_type": "code",
      "metadata": {
        "id": "lkNO71ckvqDX",
        "colab_type": "code",
        "colab": {
          "base_uri": "https://localhost:8080/",
          "height": 35
        },
        "outputId": "6dae39f4-8b3d-424e-d37d-9aafcda90add"
      },
      "source": [
        "encoder_input_train.shape"
      ],
      "execution_count": 22,
      "outputs": [
        {
          "output_type": "execute_result",
          "data": {
            "text/plain": [
              "(21876, 24, 7)"
            ]
          },
          "metadata": {
            "tags": []
          },
          "execution_count": 22
        }
      ]
    },
    {
      "cell_type": "code",
      "metadata": {
        "id": "N4_nVDJ_vsEG",
        "colab_type": "code",
        "colab": {
          "base_uri": "https://localhost:8080/",
          "height": 35
        },
        "outputId": "57a31077-c990-4f4a-a97f-6c2c5559b00c"
      },
      "source": [
        "decoder_input_train.shape"
      ],
      "execution_count": 23,
      "outputs": [
        {
          "output_type": "execute_result",
          "data": {
            "text/plain": [
              "(21876, 24, 1)"
            ]
          },
          "metadata": {
            "tags": []
          },
          "execution_count": 23
        }
      ]
    },
    {
      "cell_type": "code",
      "metadata": {
        "id": "s6laI4rlvunH",
        "colab_type": "code",
        "colab": {
          "base_uri": "https://localhost:8080/",
          "height": 35
        },
        "outputId": "c1e646a3-99d0-489e-d1df-4d9f8df8a7f6"
      },
      "source": [
        "decoder_output_train.shape"
      ],
      "execution_count": 24,
      "outputs": [
        {
          "output_type": "execute_result",
          "data": {
            "text/plain": [
              "(21876, 1, 1)"
            ]
          },
          "metadata": {
            "tags": []
          },
          "execution_count": 24
        }
      ]
    },
    {
      "cell_type": "markdown",
      "metadata": {
        "id": "NP5kdisuwC1F",
        "colab_type": "text"
      },
      "source": [
        "## 訓練模型"
      ]
    },
    {
      "cell_type": "code",
      "metadata": {
        "id": "pNY-72IbvyUH",
        "colab_type": "code",
        "colab": {
          "base_uri": "https://localhost:8080/",
          "height": 401
        },
        "outputId": "821169b8-8547-4452-fac3-750f54339789"
      },
      "source": [
        "model.fit([encoder_input_train, decoder_input_train], decoder_output_train, \n",
        "          validation_data=([encoder_input_test, decoder_input_test], decoder_output_test), \n",
        "          epochs=10, verbose=1)"
      ],
      "execution_count": 26,
      "outputs": [
        {
          "output_type": "stream",
          "text": [
            "Epoch 1/10\n",
            "684/684 [==============================] - 7s 10ms/step - loss: 3903.8496 - mape: 48.3796 - smape: 26.1239 - val_loss: 4683.9351 - val_mape: 54.4260 - val_smape: 26.0725\n",
            "Epoch 2/10\n",
            "684/684 [==============================] - 7s 10ms/step - loss: 3714.7610 - mape: 47.7448 - smape: 25.8112 - val_loss: 4859.0459 - val_mape: 58.3362 - val_smape: 26.7377\n",
            "Epoch 3/10\n",
            "684/684 [==============================] - 7s 10ms/step - loss: 3515.5779 - mape: 48.5420 - smape: 25.4973 - val_loss: 5138.0894 - val_mape: 54.1736 - val_smape: 27.2840\n",
            "Epoch 4/10\n",
            "684/684 [==============================] - 7s 10ms/step - loss: 3355.2771 - mape: 46.3142 - smape: 25.1684 - val_loss: 5505.0337 - val_mape: 56.1383 - val_smape: 28.4938\n",
            "Epoch 5/10\n",
            "684/684 [==============================] - 7s 10ms/step - loss: 3276.1462 - mape: 46.6839 - smape: 25.1381 - val_loss: 5143.5010 - val_mape: 56.3638 - val_smape: 27.4902\n",
            "Epoch 6/10\n",
            "684/684 [==============================] - 7s 10ms/step - loss: 3140.4680 - mape: 45.1800 - smape: 24.8502 - val_loss: 4670.9692 - val_mape: 53.0136 - val_smape: 27.2730\n",
            "Epoch 7/10\n",
            "684/684 [==============================] - 7s 10ms/step - loss: 3139.6885 - mape: 45.1491 - smape: 24.8783 - val_loss: 5024.8208 - val_mape: 57.0346 - val_smape: 27.2441\n",
            "Epoch 8/10\n",
            "684/684 [==============================] - 7s 10ms/step - loss: 2874.7671 - mape: 44.3070 - smape: 24.4184 - val_loss: 5077.0083 - val_mape: 71.7222 - val_smape: 27.5225\n",
            "Epoch 9/10\n",
            "684/684 [==============================] - 7s 10ms/step - loss: 2851.4458 - mape: 44.0927 - smape: 24.3531 - val_loss: 5088.4429 - val_mape: 64.8750 - val_smape: 27.9417\n",
            "Epoch 10/10\n",
            "684/684 [==============================] - 7s 10ms/step - loss: 2700.4346 - mape: 44.0343 - smape: 24.1957 - val_loss: 5101.0801 - val_mape: 56.3854 - val_smape: 27.6964\n"
          ],
          "name": "stdout"
        },
        {
          "output_type": "execute_result",
          "data": {
            "text/plain": [
              "<tensorflow.python.keras.callbacks.History at 0x7f86767c5dd8>"
            ]
          },
          "metadata": {
            "tags": []
          },
          "execution_count": 26
        }
      ]
    },
    {
      "cell_type": "code",
      "metadata": {
        "id": "1DiqReeMwGum",
        "colab_type": "code",
        "colab": {}
      },
      "source": [
        ""
      ],
      "execution_count": null,
      "outputs": []
    },
    {
      "cell_type": "markdown",
      "metadata": {
        "id": "PLRow7b3w3aO",
        "colab_type": "text"
      },
      "source": [
        "## 產生預測結果"
      ]
    },
    {
      "cell_type": "code",
      "metadata": {
        "id": "I7Is_0-1w4JY",
        "colab_type": "code",
        "colab": {}
      },
      "source": [
        "\n",
        "encoder_model = tf.keras.models.Model(encoder_inputs, encoder_states)\n",
        "\n",
        "decoder_state_input_h = tf.keras.layers.Input(shape=(50,))\n",
        "decoder_state_input_c = tf.keras.layers.Input(shape=(50,))\n",
        "\n",
        "decoder_states_inputs = [decoder_state_input_h, decoder_state_input_c]\n",
        "\n",
        "decoder_outputs, state_h, state_c = decoder_lstm(\n",
        "    decoder_inputs, initial_state=decoder_states_inputs)\n",
        "\n",
        "decoder_states = [state_h, state_c]\n",
        "decoder_outputs = decoder_dense(decoder_outputs)\n",
        "decoder_model = tf.keras.models.Model(\n",
        "    [decoder_inputs] + decoder_states_inputs,\n",
        "    [decoder_outputs] + decoder_states)"
      ],
      "execution_count": 27,
      "outputs": []
    },
    {
      "cell_type": "code",
      "metadata": {
        "id": "eTf7djdOw8Ho",
        "colab_type": "code",
        "colab": {}
      },
      "source": [
        "def predict(x, encoder_predict_model, decoder_predict_model, num_steps_to_predict):\n",
        "    y_predicted = []\n",
        "\n",
        "    # 將輸入值轉變為狀態向量\n",
        "    states = encoder_predict_model.predict(x)\n",
        "\n",
        "    # 狀態向量必須是 list\n",
        "    if not isinstance(states, list):\n",
        "        states = [states]\n",
        "\n",
        "    # 產生第一筆解碼值\n",
        "    decoder_input = np.zeros((x.shape[0], 1, 1))\n",
        "\n",
        "\n",
        "    for _ in range(num_steps_to_predict):\n",
        "        outputs_and_states = decoder_predict_model.predict(\n",
        "        [decoder_input] + states, batch_size=batch_size)\n",
        "        output = outputs_and_states[0]\n",
        "        states = outputs_and_states[1:]\n",
        "\n",
        "        # 增加預測結果\n",
        "        y_predicted.append(output)\n",
        "\n",
        "    return np.concatenate(y_predicted, axis=1)"
      ],
      "execution_count": 28,
      "outputs": []
    },
    {
      "cell_type": "code",
      "metadata": {
        "id": "Gv0LYt1rxYCY",
        "colab_type": "code",
        "colab": {
          "base_uri": "https://localhost:8080/",
          "height": 35
        },
        "outputId": "1f469b3b-e1d5-4403-fd00-f056ba30fc0e"
      },
      "source": [
        "num_steps_to_predict = 1\n",
        "batch_size = 1\n",
        "\n",
        "y_preds= predict(X_test, encoder_model, decoder_model, num_steps_to_predict)\n",
        "y_preds = y_preds.reshape(y_preds.shape[0])\n",
        "y_preds.shape"
      ],
      "execution_count": 29,
      "outputs": [
        {
          "output_type": "execute_result",
          "data": {
            "text/plain": [
              "(21876,)"
            ]
          },
          "metadata": {
            "tags": []
          },
          "execution_count": 29
        }
      ]
    },
    {
      "cell_type": "code",
      "metadata": {
        "id": "f__9gsVUxafJ",
        "colab_type": "code",
        "colab": {
          "base_uri": "https://localhost:8080/",
          "height": 52
        },
        "outputId": "fc1e4999-c2e9-4e8a-ee15-fcfe2138b7a5"
      },
      "source": [
        "y_preds"
      ],
      "execution_count": 30,
      "outputs": [
        {
          "output_type": "execute_result",
          "data": {
            "text/plain": [
              "array([33.80191 , 30.67473 , 25.979864, ..., 11.590134, 11.329283,\n",
              "       11.107168], dtype=float32)"
            ]
          },
          "metadata": {
            "tags": []
          },
          "execution_count": 30
        }
      ]
    },
    {
      "cell_type": "code",
      "metadata": {
        "id": "fN_3ZXbSxjWY",
        "colab_type": "code",
        "colab": {}
      },
      "source": [
        "y_true = y_test.reshape(y_test.shape[0])"
      ],
      "execution_count": 31,
      "outputs": []
    },
    {
      "cell_type": "code",
      "metadata": {
        "id": "HjCvicfkxlnJ",
        "colab_type": "code",
        "colab": {}
      },
      "source": [
        "split_index = int(dataset.shape[0]*test_size)\n",
        "x = dataset[split_index:]"
      ],
      "execution_count": 32,
      "outputs": []
    },
    {
      "cell_type": "code",
      "metadata": {
        "id": "b12O1cATxnuZ",
        "colab_type": "code",
        "colab": {
          "base_uri": "https://localhost:8080/",
          "height": 35
        },
        "outputId": "30944340-e558-4539-bc66-84dbc1f69e05"
      },
      "source": [
        "datetime_difference = len(x) - len(y_true)\n",
        "x = x[datetime_difference:] # 修正延遲數\n",
        "x.index.shape"
      ],
      "execution_count": 33,
      "outputs": [
        {
          "output_type": "execute_result",
          "data": {
            "text/plain": [
              "(21876,)"
            ]
          },
          "metadata": {
            "tags": []
          },
          "execution_count": 33
        }
      ]
    },
    {
      "cell_type": "code",
      "metadata": {
        "id": "AY0TMYcdxpyJ",
        "colab_type": "code",
        "colab": {
          "base_uri": "https://localhost:8080/",
          "height": 403
        },
        "outputId": "8502712b-5cd5-4e06-9e9f-fad73a34532f"
      },
      "source": [
        "from matplotlib import pyplot as plt\n",
        "plt.figure(figsize=(20,10))\n",
        "plt.plot(x.index, y_true, '.-', color='red', label='Real values')\n",
        "plt.plot(x.index, y_preds, '.-', color='blue', label='Predicted values')\n",
        "\n",
        "plt.ylabel('y')\n",
        "plt.xlabel('datetime')\n",
        "plt.legend()"
      ],
      "execution_count": 34,
      "outputs": [
        {
          "output_type": "execute_result",
          "data": {
            "text/plain": [
              "<matplotlib.legend.Legend at 0x7f8677812b70>"
            ]
          },
          "metadata": {
            "tags": []
          },
          "execution_count": 34
        },
        {
          "output_type": "display_data",
          "data": {
            "image/png": "[encoded data removed]",
            "text/plain": [
              "<Figure size 1440x720 with 1 Axes>"
            ]
          },
          "metadata": {
            "tags": [],
            "needs_background": "light"
          }
        }
      ]
    },
    {
      "cell_type": "code",
      "metadata": {
        "id": "dgCWiN7yxss5",
        "colab_type": "code",
        "colab": {
          "base_uri": "https://localhost:8080/",
          "height": 89
        },
        "outputId": "30383717-6f8a-487d-bbf6-86e04703a590"
      },
      "source": [
        "mse = model.evaluate([encoder_input_test, decoder_input_test], decoder_output_test)[0]\n",
        "mape = model.evaluate([encoder_input_test, decoder_input_test], decoder_output_test)[1]\n",
        "smape = model.evaluate([encoder_input_test, decoder_input_test], decoder_output_test)[2]\n"
      ],
      "execution_count": 35,
      "outputs": [
        {
          "output_type": "stream",
          "text": [
            "684/684 [==============================] - 3s 4ms/step - loss: 5101.0801 - mape: 56.3854 - smape: 27.6964\n",
            "684/684 [==============================] - 3s 4ms/step - loss: 5101.0801 - mape: 56.3854 - smape: 27.6964\n",
            "684/684 [==============================] - 3s 4ms/step - loss: 5101.0801 - mape: 56.3854 - smape: 27.6964\n"
          ],
          "name": "stdout"
        }
      ]
    },
    {
      "cell_type": "code",
      "metadata": {
        "id": "75hygqZ2x9lZ",
        "colab_type": "code",
        "colab": {
          "base_uri": "https://localhost:8080/",
          "height": 35
        },
        "outputId": "6fe65401-2863-4765-e53d-ab944ccc5155"
      },
      "source": [
        "mse, mape, smape"
      ],
      "execution_count": 36,
      "outputs": [
        {
          "output_type": "execute_result",
          "data": {
            "text/plain": [
              "(5101.080078125, 56.38542938232422, 27.69639015197754)"
            ]
          },
          "metadata": {
            "tags": []
          },
          "execution_count": 36
        }
      ]
    },
    {
      "cell_type": "code",
      "metadata": {
        "id": "rf2Njp0fyApp",
        "colab_type": "code",
        "colab": {}
      },
      "source": [
        ""
      ],
      "execution_count": null,
      "outputs": []
    }
  ]
}