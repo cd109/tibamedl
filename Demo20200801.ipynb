{
  "nbformat": 4,
  "nbformat_minor": 0,
  "metadata": {
    "colab": {
      "name": "Demo20200801.ipynb",
      "provenance": [],
      "collapsed_sections": []
    },
    "kernelspec": {
      "name": "python3",
      "display_name": "Python 3"
    }
  },
  "cells": [
    {
      "cell_type": "markdown",
      "metadata": {
        "id": "0w7AOj_3qj0T",
        "colab_type": "text"
      },
      "source": [
        "\n",
        "## 作業\n",
        "\n",
        "目標: 建立一深度學習模型預測客戶是否流失\n",
        "\n",
        "- 問題一: 請將資料區分為訓練與測試資料集\n",
        "- 問題二: 請將資料標準化\n",
        "- 問題三: 使用Keras 建立深度學習模型預測客戶是否流失\n",
        "- 問題四: 評估模型準確度\n",
        "- 問題五: 請繪製ROC Curve, 並求出 AUC\n",
        "- 問題六: 請比較 ANN, SVM, Gradient Boosting, Random Forest, Logist Regression, Decision Tree 各模型的 AUC 與 ROC Curve"
      ]
    },
    {
      "cell_type": "markdown",
      "metadata": {
        "id": "mDi3wVZXqpd1",
        "colab_type": "text"
      },
      "source": [
        "### 讀取資料"
      ]
    },
    {
      "cell_type": "code",
      "metadata": {
        "id": "N1GAGlupomcU",
        "colab_type": "code",
        "colab": {
          "base_uri": "https://localhost:8080/",
          "height": 222
        },
        "outputId": "a19b4b03-a597-4896-e802-91416f7976bd"
      },
      "source": [
        "import pandas\n",
        "df = pandas.read_csv('https://raw.githubusercontent.com/ywchiu/tibamedl/master/Data/Churn_Modelling.csv', header = 0 )\n",
        "df.head()"
      ],
      "execution_count": 1,
      "outputs": [
        {
          "output_type": "execute_result",
          "data": {
            "text/html": [
              "<div>\n",
              "<style scoped>\n",
              "    .dataframe tbody tr th:only-of-type {\n",
              "        vertical-align: middle;\n",
              "    }\n",
              "\n",
              "    .dataframe tbody tr th {\n",
              "        vertical-align: top;\n",
              "    }\n",
              "\n",
              "    .dataframe thead th {\n",
              "        text-align: right;\n",
              "    }\n",
              "</style>\n",
              "<table border=\"1\" class=\"dataframe\">\n",
              "  <thead>\n",
              "    <tr style=\"text-align: right;\">\n",
              "      <th></th>\n",
              "      <th>RowNumber</th>\n",
              "      <th>CustomerId</th>\n",
              "      <th>Surname</th>\n",
              "      <th>CreditScore</th>\n",
              "      <th>Geography</th>\n",
              "      <th>Gender</th>\n",
              "      <th>Age</th>\n",
              "      <th>Tenure</th>\n",
              "      <th>Balance</th>\n",
              "      <th>NumOfProducts</th>\n",
              "      <th>HasCrCard</th>\n",
              "      <th>IsActiveMember</th>\n",
              "      <th>EstimatedSalary</th>\n",
              "      <th>Exited</th>\n",
              "    </tr>\n",
              "  </thead>\n",
              "  <tbody>\n",
              "    <tr>\n",
              "      <th>0</th>\n",
              "      <td>1</td>\n",
              "      <td>15634602</td>\n",
              "      <td>Hargrave</td>\n",
              "      <td>619</td>\n",
              "      <td>France</td>\n",
              "      <td>Female</td>\n",
              "      <td>42</td>\n",
              "      <td>2</td>\n",
              "      <td>0.00</td>\n",
              "      <td>1</td>\n",
              "      <td>1</td>\n",
              "      <td>1</td>\n",
              "      <td>101348.88</td>\n",
              "      <td>1</td>\n",
              "    </tr>\n",
              "    <tr>\n",
              "      <th>1</th>\n",
              "      <td>2</td>\n",
              "      <td>15647311</td>\n",
              "      <td>Hill</td>\n",
              "      <td>608</td>\n",
              "      <td>Spain</td>\n",
              "      <td>Female</td>\n",
              "      <td>41</td>\n",
              "      <td>1</td>\n",
              "      <td>83807.86</td>\n",
              "      <td>1</td>\n",
              "      <td>0</td>\n",
              "      <td>1</td>\n",
              "      <td>112542.58</td>\n",
              "      <td>0</td>\n",
              "    </tr>\n",
              "    <tr>\n",
              "      <th>2</th>\n",
              "      <td>3</td>\n",
              "      <td>15619304</td>\n",
              "      <td>Onio</td>\n",
              "      <td>502</td>\n",
              "      <td>France</td>\n",
              "      <td>Female</td>\n",
              "      <td>42</td>\n",
              "      <td>8</td>\n",
              "      <td>159660.80</td>\n",
              "      <td>3</td>\n",
              "      <td>1</td>\n",
              "      <td>0</td>\n",
              "      <td>113931.57</td>\n",
              "      <td>1</td>\n",
              "    </tr>\n",
              "    <tr>\n",
              "      <th>3</th>\n",
              "      <td>4</td>\n",
              "      <td>15701354</td>\n",
              "      <td>Boni</td>\n",
              "      <td>699</td>\n",
              "      <td>France</td>\n",
              "      <td>Female</td>\n",
              "      <td>39</td>\n",
              "      <td>1</td>\n",
              "      <td>0.00</td>\n",
              "      <td>2</td>\n",
              "      <td>0</td>\n",
              "      <td>0</td>\n",
              "      <td>93826.63</td>\n",
              "      <td>0</td>\n",
              "    </tr>\n",
              "    <tr>\n",
              "      <th>4</th>\n",
              "      <td>5</td>\n",
              "      <td>15737888</td>\n",
              "      <td>Mitchell</td>\n",
              "      <td>850</td>\n",
              "      <td>Spain</td>\n",
              "      <td>Female</td>\n",
              "      <td>43</td>\n",
              "      <td>2</td>\n",
              "      <td>125510.82</td>\n",
              "      <td>1</td>\n",
              "      <td>1</td>\n",
              "      <td>1</td>\n",
              "      <td>79084.10</td>\n",
              "      <td>0</td>\n",
              "    </tr>\n",
              "  </tbody>\n",
              "</table>\n",
              "</div>"
            ],
            "text/plain": [
              "   RowNumber  CustomerId   Surname  ...  IsActiveMember EstimatedSalary Exited\n",
              "0          1    15634602  Hargrave  ...               1       101348.88      1\n",
              "1          2    15647311      Hill  ...               1       112542.58      0\n",
              "2          3    15619304      Onio  ...               0       113931.57      1\n",
              "3          4    15701354      Boni  ...               0        93826.63      0\n",
              "4          5    15737888  Mitchell  ...               1        79084.10      0\n",
              "\n",
              "[5 rows x 14 columns]"
            ]
          },
          "metadata": {
            "tags": []
          },
          "execution_count": 1
        }
      ]
    },
    {
      "cell_type": "code",
      "metadata": {
        "id": "AtN7-wlDqsY7",
        "colab_type": "code",
        "colab": {
          "base_uri": "https://localhost:8080/",
          "height": 277
        },
        "outputId": "4a163c38-65f9-46af-d9e0-cbd45b424e34"
      },
      "source": [
        "df.isna().sum()"
      ],
      "execution_count": 2,
      "outputs": [
        {
          "output_type": "execute_result",
          "data": {
            "text/plain": [
              "RowNumber          0\n",
              "CustomerId         0\n",
              "Surname            0\n",
              "CreditScore        0\n",
              "Geography          0\n",
              "Gender             0\n",
              "Age                0\n",
              "Tenure             0\n",
              "Balance            0\n",
              "NumOfProducts      0\n",
              "HasCrCard          0\n",
              "IsActiveMember     0\n",
              "EstimatedSalary    0\n",
              "Exited             0\n",
              "dtype: int64"
            ]
          },
          "metadata": {
            "tags": []
          },
          "execution_count": 2
        }
      ]
    },
    {
      "cell_type": "code",
      "metadata": {
        "id": "OJx3V44bq4Sf",
        "colab_type": "code",
        "colab": {
          "base_uri": "https://localhost:8080/",
          "height": 381
        },
        "outputId": "508993ac-ea8e-4223-c5d2-5f31957c5ffa"
      },
      "source": [
        "df.info()"
      ],
      "execution_count": 3,
      "outputs": [
        {
          "output_type": "stream",
          "text": [
            "<class 'pandas.core.frame.DataFrame'>\n",
            "RangeIndex: 10000 entries, 0 to 9999\n",
            "Data columns (total 14 columns):\n",
            " #   Column           Non-Null Count  Dtype  \n",
            "---  ------           --------------  -----  \n",
            " 0   RowNumber        10000 non-null  int64  \n",
            " 1   CustomerId       10000 non-null  int64  \n",
            " 2   Surname          10000 non-null  object \n",
            " 3   CreditScore      10000 non-null  int64  \n",
            " 4   Geography        10000 non-null  object \n",
            " 5   Gender           10000 non-null  object \n",
            " 6   Age              10000 non-null  int64  \n",
            " 7   Tenure           10000 non-null  int64  \n",
            " 8   Balance          10000 non-null  float64\n",
            " 9   NumOfProducts    10000 non-null  int64  \n",
            " 10  HasCrCard        10000 non-null  int64  \n",
            " 11  IsActiveMember   10000 non-null  int64  \n",
            " 12  EstimatedSalary  10000 non-null  float64\n",
            " 13  Exited           10000 non-null  int64  \n",
            "dtypes: float64(2), int64(9), object(3)\n",
            "memory usage: 1.1+ MB\n"
          ],
          "name": "stdout"
        }
      ]
    },
    {
      "cell_type": "markdown",
      "metadata": {
        "id": "H-UMvZmFrDjT",
        "colab_type": "text"
      },
      "source": [
        "### 資料預處理"
      ]
    },
    {
      "cell_type": "code",
      "metadata": {
        "id": "reW0lfOVq8uP",
        "colab_type": "code",
        "colab": {}
      },
      "source": [
        "df = df.iloc[:,3:]"
      ],
      "execution_count": 7,
      "outputs": []
    },
    {
      "cell_type": "code",
      "metadata": {
        "id": "MUhOpQ7Vrnhg",
        "colab_type": "code",
        "colab": {
          "base_uri": "https://localhost:8080/",
          "height": 222
        },
        "outputId": "93d21be6-a82d-474a-e6e5-4c31e59903f2"
      },
      "source": [
        "df.head()"
      ],
      "execution_count": 8,
      "outputs": [
        {
          "output_type": "execute_result",
          "data": {
            "text/html": [
              "<div>\n",
              "<style scoped>\n",
              "    .dataframe tbody tr th:only-of-type {\n",
              "        vertical-align: middle;\n",
              "    }\n",
              "\n",
              "    .dataframe tbody tr th {\n",
              "        vertical-align: top;\n",
              "    }\n",
              "\n",
              "    .dataframe thead th {\n",
              "        text-align: right;\n",
              "    }\n",
              "</style>\n",
              "<table border=\"1\" class=\"dataframe\">\n",
              "  <thead>\n",
              "    <tr style=\"text-align: right;\">\n",
              "      <th></th>\n",
              "      <th>CreditScore</th>\n",
              "      <th>Geography</th>\n",
              "      <th>Gender</th>\n",
              "      <th>Age</th>\n",
              "      <th>Tenure</th>\n",
              "      <th>Balance</th>\n",
              "      <th>NumOfProducts</th>\n",
              "      <th>HasCrCard</th>\n",
              "      <th>IsActiveMember</th>\n",
              "      <th>EstimatedSalary</th>\n",
              "      <th>Exited</th>\n",
              "    </tr>\n",
              "  </thead>\n",
              "  <tbody>\n",
              "    <tr>\n",
              "      <th>0</th>\n",
              "      <td>619</td>\n",
              "      <td>France</td>\n",
              "      <td>Female</td>\n",
              "      <td>42</td>\n",
              "      <td>2</td>\n",
              "      <td>0.00</td>\n",
              "      <td>1</td>\n",
              "      <td>1</td>\n",
              "      <td>1</td>\n",
              "      <td>101348.88</td>\n",
              "      <td>1</td>\n",
              "    </tr>\n",
              "    <tr>\n",
              "      <th>1</th>\n",
              "      <td>608</td>\n",
              "      <td>Spain</td>\n",
              "      <td>Female</td>\n",
              "      <td>41</td>\n",
              "      <td>1</td>\n",
              "      <td>83807.86</td>\n",
              "      <td>1</td>\n",
              "      <td>0</td>\n",
              "      <td>1</td>\n",
              "      <td>112542.58</td>\n",
              "      <td>0</td>\n",
              "    </tr>\n",
              "    <tr>\n",
              "      <th>2</th>\n",
              "      <td>502</td>\n",
              "      <td>France</td>\n",
              "      <td>Female</td>\n",
              "      <td>42</td>\n",
              "      <td>8</td>\n",
              "      <td>159660.80</td>\n",
              "      <td>3</td>\n",
              "      <td>1</td>\n",
              "      <td>0</td>\n",
              "      <td>113931.57</td>\n",
              "      <td>1</td>\n",
              "    </tr>\n",
              "    <tr>\n",
              "      <th>3</th>\n",
              "      <td>699</td>\n",
              "      <td>France</td>\n",
              "      <td>Female</td>\n",
              "      <td>39</td>\n",
              "      <td>1</td>\n",
              "      <td>0.00</td>\n",
              "      <td>2</td>\n",
              "      <td>0</td>\n",
              "      <td>0</td>\n",
              "      <td>93826.63</td>\n",
              "      <td>0</td>\n",
              "    </tr>\n",
              "    <tr>\n",
              "      <th>4</th>\n",
              "      <td>850</td>\n",
              "      <td>Spain</td>\n",
              "      <td>Female</td>\n",
              "      <td>43</td>\n",
              "      <td>2</td>\n",
              "      <td>125510.82</td>\n",
              "      <td>1</td>\n",
              "      <td>1</td>\n",
              "      <td>1</td>\n",
              "      <td>79084.10</td>\n",
              "      <td>0</td>\n",
              "    </tr>\n",
              "  </tbody>\n",
              "</table>\n",
              "</div>"
            ],
            "text/plain": [
              "   CreditScore Geography  Gender  ...  IsActiveMember  EstimatedSalary  Exited\n",
              "0          619    France  Female  ...               1        101348.88       1\n",
              "1          608     Spain  Female  ...               1        112542.58       0\n",
              "2          502    France  Female  ...               0        113931.57       1\n",
              "3          699    France  Female  ...               0         93826.63       0\n",
              "4          850     Spain  Female  ...               1         79084.10       0\n",
              "\n",
              "[5 rows x 11 columns]"
            ]
          },
          "metadata": {
            "tags": []
          },
          "execution_count": 8
        }
      ]
    },
    {
      "cell_type": "code",
      "metadata": {
        "id": "DR7mjtI1rzQ6",
        "colab_type": "code",
        "colab": {
          "base_uri": "https://localhost:8080/",
          "height": 35
        },
        "outputId": "c0cd4266-46e5-4cd5-b770-ceae8e3d39ae"
      },
      "source": [
        "df['Geography'].unique()"
      ],
      "execution_count": 9,
      "outputs": [
        {
          "output_type": "execute_result",
          "data": {
            "text/plain": [
              "array(['France', 'Spain', 'Germany'], dtype=object)"
            ]
          },
          "metadata": {
            "tags": []
          },
          "execution_count": 9
        }
      ]
    },
    {
      "cell_type": "code",
      "metadata": {
        "id": "IkkE-Krjr5Fr",
        "colab_type": "code",
        "colab": {}
      },
      "source": [
        "import pandas\n",
        "geography = pandas.get_dummies(df['Geography'])\n",
        "del geography['France']"
      ],
      "execution_count": 11,
      "outputs": []
    },
    {
      "cell_type": "code",
      "metadata": {
        "id": "6wiB2s1rsWYP",
        "colab_type": "code",
        "colab": {
          "base_uri": "https://localhost:8080/",
          "height": 35
        },
        "outputId": "e021d6e6-2706-489d-9f73-30e5cfc1206c"
      },
      "source": [
        "df['Gender'].unique()"
      ],
      "execution_count": 12,
      "outputs": [
        {
          "output_type": "execute_result",
          "data": {
            "text/plain": [
              "array(['Female', 'Male'], dtype=object)"
            ]
          },
          "metadata": {
            "tags": []
          },
          "execution_count": 12
        }
      ]
    },
    {
      "cell_type": "code",
      "metadata": {
        "id": "Fog5jfQusyr0",
        "colab_type": "code",
        "colab": {}
      },
      "source": [
        "import pandas\n",
        "gender = pandas.get_dummies(df['Gender'])\n",
        "del gender['Male']"
      ],
      "execution_count": 13,
      "outputs": []
    },
    {
      "cell_type": "code",
      "metadata": {
        "id": "hX4jNkTys5Uf",
        "colab_type": "code",
        "colab": {}
      },
      "source": [
        "#geography"
      ],
      "execution_count": 16,
      "outputs": []
    },
    {
      "cell_type": "code",
      "metadata": {
        "id": "rbvSwk2Ms6af",
        "colab_type": "code",
        "colab": {}
      },
      "source": [
        "df = pandas.concat([geography, gender, df], axis = 1)"
      ],
      "execution_count": 18,
      "outputs": []
    },
    {
      "cell_type": "code",
      "metadata": {
        "id": "3r19DWU1tKSb",
        "colab_type": "code",
        "colab": {
          "base_uri": "https://localhost:8080/",
          "height": 222
        },
        "outputId": "bb963f03-d62d-43e0-b6b4-afa80a4abb68"
      },
      "source": [
        "df.head()"
      ],
      "execution_count": 19,
      "outputs": [
        {
          "output_type": "execute_result",
          "data": {
            "text/html": [
              "<div>\n",
              "<style scoped>\n",
              "    .dataframe tbody tr th:only-of-type {\n",
              "        vertical-align: middle;\n",
              "    }\n",
              "\n",
              "    .dataframe tbody tr th {\n",
              "        vertical-align: top;\n",
              "    }\n",
              "\n",
              "    .dataframe thead th {\n",
              "        text-align: right;\n",
              "    }\n",
              "</style>\n",
              "<table border=\"1\" class=\"dataframe\">\n",
              "  <thead>\n",
              "    <tr style=\"text-align: right;\">\n",
              "      <th></th>\n",
              "      <th>Germany</th>\n",
              "      <th>Spain</th>\n",
              "      <th>Female</th>\n",
              "      <th>CreditScore</th>\n",
              "      <th>Geography</th>\n",
              "      <th>Gender</th>\n",
              "      <th>Age</th>\n",
              "      <th>Tenure</th>\n",
              "      <th>Balance</th>\n",
              "      <th>NumOfProducts</th>\n",
              "      <th>HasCrCard</th>\n",
              "      <th>IsActiveMember</th>\n",
              "      <th>EstimatedSalary</th>\n",
              "      <th>Exited</th>\n",
              "    </tr>\n",
              "  </thead>\n",
              "  <tbody>\n",
              "    <tr>\n",
              "      <th>0</th>\n",
              "      <td>0</td>\n",
              "      <td>0</td>\n",
              "      <td>1</td>\n",
              "      <td>619</td>\n",
              "      <td>France</td>\n",
              "      <td>Female</td>\n",
              "      <td>42</td>\n",
              "      <td>2</td>\n",
              "      <td>0.00</td>\n",
              "      <td>1</td>\n",
              "      <td>1</td>\n",
              "      <td>1</td>\n",
              "      <td>101348.88</td>\n",
              "      <td>1</td>\n",
              "    </tr>\n",
              "    <tr>\n",
              "      <th>1</th>\n",
              "      <td>0</td>\n",
              "      <td>1</td>\n",
              "      <td>1</td>\n",
              "      <td>608</td>\n",
              "      <td>Spain</td>\n",
              "      <td>Female</td>\n",
              "      <td>41</td>\n",
              "      <td>1</td>\n",
              "      <td>83807.86</td>\n",
              "      <td>1</td>\n",
              "      <td>0</td>\n",
              "      <td>1</td>\n",
              "      <td>112542.58</td>\n",
              "      <td>0</td>\n",
              "    </tr>\n",
              "    <tr>\n",
              "      <th>2</th>\n",
              "      <td>0</td>\n",
              "      <td>0</td>\n",
              "      <td>1</td>\n",
              "      <td>502</td>\n",
              "      <td>France</td>\n",
              "      <td>Female</td>\n",
              "      <td>42</td>\n",
              "      <td>8</td>\n",
              "      <td>159660.80</td>\n",
              "      <td>3</td>\n",
              "      <td>1</td>\n",
              "      <td>0</td>\n",
              "      <td>113931.57</td>\n",
              "      <td>1</td>\n",
              "    </tr>\n",
              "    <tr>\n",
              "      <th>3</th>\n",
              "      <td>0</td>\n",
              "      <td>0</td>\n",
              "      <td>1</td>\n",
              "      <td>699</td>\n",
              "      <td>France</td>\n",
              "      <td>Female</td>\n",
              "      <td>39</td>\n",
              "      <td>1</td>\n",
              "      <td>0.00</td>\n",
              "      <td>2</td>\n",
              "      <td>0</td>\n",
              "      <td>0</td>\n",
              "      <td>93826.63</td>\n",
              "      <td>0</td>\n",
              "    </tr>\n",
              "    <tr>\n",
              "      <th>4</th>\n",
              "      <td>0</td>\n",
              "      <td>1</td>\n",
              "      <td>1</td>\n",
              "      <td>850</td>\n",
              "      <td>Spain</td>\n",
              "      <td>Female</td>\n",
              "      <td>43</td>\n",
              "      <td>2</td>\n",
              "      <td>125510.82</td>\n",
              "      <td>1</td>\n",
              "      <td>1</td>\n",
              "      <td>1</td>\n",
              "      <td>79084.10</td>\n",
              "      <td>0</td>\n",
              "    </tr>\n",
              "  </tbody>\n",
              "</table>\n",
              "</div>"
            ],
            "text/plain": [
              "   Germany  Spain  Female  ...  IsActiveMember EstimatedSalary Exited\n",
              "0        0      0       1  ...               1       101348.88      1\n",
              "1        0      1       1  ...               1       112542.58      0\n",
              "2        0      0       1  ...               0       113931.57      1\n",
              "3        0      0       1  ...               0        93826.63      0\n",
              "4        0      1       1  ...               1        79084.10      0\n",
              "\n",
              "[5 rows x 14 columns]"
            ]
          },
          "metadata": {
            "tags": []
          },
          "execution_count": 19
        }
      ]
    },
    {
      "cell_type": "code",
      "metadata": {
        "id": "JsoOjnzftPMa",
        "colab_type": "code",
        "colab": {}
      },
      "source": [
        "del df['Gender']\n",
        "del df['Geography']"
      ],
      "execution_count": 20,
      "outputs": []
    },
    {
      "cell_type": "code",
      "metadata": {
        "id": "bBv2xeiEtYEE",
        "colab_type": "code",
        "colab": {
          "base_uri": "https://localhost:8080/",
          "height": 222
        },
        "outputId": "a4ec31f0-cfd4-4de4-816c-1f8a1daea034"
      },
      "source": [
        "df.head()"
      ],
      "execution_count": 21,
      "outputs": [
        {
          "output_type": "execute_result",
          "data": {
            "text/html": [
              "<div>\n",
              "<style scoped>\n",
              "    .dataframe tbody tr th:only-of-type {\n",
              "        vertical-align: middle;\n",
              "    }\n",
              "\n",
              "    .dataframe tbody tr th {\n",
              "        vertical-align: top;\n",
              "    }\n",
              "\n",
              "    .dataframe thead th {\n",
              "        text-align: right;\n",
              "    }\n",
              "</style>\n",
              "<table border=\"1\" class=\"dataframe\">\n",
              "  <thead>\n",
              "    <tr style=\"text-align: right;\">\n",
              "      <th></th>\n",
              "      <th>Germany</th>\n",
              "      <th>Spain</th>\n",
              "      <th>Female</th>\n",
              "      <th>CreditScore</th>\n",
              "      <th>Age</th>\n",
              "      <th>Tenure</th>\n",
              "      <th>Balance</th>\n",
              "      <th>NumOfProducts</th>\n",
              "      <th>HasCrCard</th>\n",
              "      <th>IsActiveMember</th>\n",
              "      <th>EstimatedSalary</th>\n",
              "      <th>Exited</th>\n",
              "    </tr>\n",
              "  </thead>\n",
              "  <tbody>\n",
              "    <tr>\n",
              "      <th>0</th>\n",
              "      <td>0</td>\n",
              "      <td>0</td>\n",
              "      <td>1</td>\n",
              "      <td>619</td>\n",
              "      <td>42</td>\n",
              "      <td>2</td>\n",
              "      <td>0.00</td>\n",
              "      <td>1</td>\n",
              "      <td>1</td>\n",
              "      <td>1</td>\n",
              "      <td>101348.88</td>\n",
              "      <td>1</td>\n",
              "    </tr>\n",
              "    <tr>\n",
              "      <th>1</th>\n",
              "      <td>0</td>\n",
              "      <td>1</td>\n",
              "      <td>1</td>\n",
              "      <td>608</td>\n",
              "      <td>41</td>\n",
              "      <td>1</td>\n",
              "      <td>83807.86</td>\n",
              "      <td>1</td>\n",
              "      <td>0</td>\n",
              "      <td>1</td>\n",
              "      <td>112542.58</td>\n",
              "      <td>0</td>\n",
              "    </tr>\n",
              "    <tr>\n",
              "      <th>2</th>\n",
              "      <td>0</td>\n",
              "      <td>0</td>\n",
              "      <td>1</td>\n",
              "      <td>502</td>\n",
              "      <td>42</td>\n",
              "      <td>8</td>\n",
              "      <td>159660.80</td>\n",
              "      <td>3</td>\n",
              "      <td>1</td>\n",
              "      <td>0</td>\n",
              "      <td>113931.57</td>\n",
              "      <td>1</td>\n",
              "    </tr>\n",
              "    <tr>\n",
              "      <th>3</th>\n",
              "      <td>0</td>\n",
              "      <td>0</td>\n",
              "      <td>1</td>\n",
              "      <td>699</td>\n",
              "      <td>39</td>\n",
              "      <td>1</td>\n",
              "      <td>0.00</td>\n",
              "      <td>2</td>\n",
              "      <td>0</td>\n",
              "      <td>0</td>\n",
              "      <td>93826.63</td>\n",
              "      <td>0</td>\n",
              "    </tr>\n",
              "    <tr>\n",
              "      <th>4</th>\n",
              "      <td>0</td>\n",
              "      <td>1</td>\n",
              "      <td>1</td>\n",
              "      <td>850</td>\n",
              "      <td>43</td>\n",
              "      <td>2</td>\n",
              "      <td>125510.82</td>\n",
              "      <td>1</td>\n",
              "      <td>1</td>\n",
              "      <td>1</td>\n",
              "      <td>79084.10</td>\n",
              "      <td>0</td>\n",
              "    </tr>\n",
              "  </tbody>\n",
              "</table>\n",
              "</div>"
            ],
            "text/plain": [
              "   Germany  Spain  Female  ...  IsActiveMember  EstimatedSalary  Exited\n",
              "0        0      0       1  ...               1        101348.88       1\n",
              "1        0      1       1  ...               1        112542.58       0\n",
              "2        0      0       1  ...               0        113931.57       1\n",
              "3        0      0       1  ...               0         93826.63       0\n",
              "4        0      1       1  ...               1         79084.10       0\n",
              "\n",
              "[5 rows x 12 columns]"
            ]
          },
          "metadata": {
            "tags": []
          },
          "execution_count": 21
        }
      ]
    },
    {
      "cell_type": "code",
      "metadata": {
        "id": "Ei03dwUPtY_E",
        "colab_type": "code",
        "colab": {}
      },
      "source": [
        ""
      ],
      "execution_count": null,
      "outputs": []
    },
    {
      "cell_type": "markdown",
      "metadata": {
        "id": "ZfTzRKvitjeu",
        "colab_type": "text"
      },
      "source": [
        "### 將資料區分為訓練與測試資料集"
      ]
    },
    {
      "cell_type": "code",
      "metadata": {
        "id": "it9XEtpptvVw",
        "colab_type": "code",
        "colab": {}
      },
      "source": [
        "X = df.iloc[:,:-1]\n",
        "y = df.iloc[:,-1]"
      ],
      "execution_count": 22,
      "outputs": []
    },
    {
      "cell_type": "code",
      "metadata": {
        "id": "7CgnXUWdtmw_",
        "colab_type": "code",
        "colab": {}
      },
      "source": [
        "from sklearn.model_selection import train_test_split\n",
        "train_x, test_x, train_y, test_y = train_test_split(X,y, test_size = 0.3, random_state = 42)"
      ],
      "execution_count": 23,
      "outputs": []
    },
    {
      "cell_type": "code",
      "metadata": {
        "id": "_rUni__luKrE",
        "colab_type": "code",
        "colab": {
          "base_uri": "https://localhost:8080/",
          "height": 35
        },
        "outputId": "11fa4736-ed8a-403f-ee8a-2df730ce183c"
      },
      "source": [
        "train_x.shape"
      ],
      "execution_count": 24,
      "outputs": [
        {
          "output_type": "execute_result",
          "data": {
            "text/plain": [
              "(7000, 11)"
            ]
          },
          "metadata": {
            "tags": []
          },
          "execution_count": 24
        }
      ]
    },
    {
      "cell_type": "code",
      "metadata": {
        "id": "veNWlWCeuPL0",
        "colab_type": "code",
        "colab": {
          "base_uri": "https://localhost:8080/",
          "height": 35
        },
        "outputId": "04f6c4c9-4681-463e-c915-4afd031035f8"
      },
      "source": [
        "test_x.shape"
      ],
      "execution_count": 25,
      "outputs": [
        {
          "output_type": "execute_result",
          "data": {
            "text/plain": [
              "(3000, 11)"
            ]
          },
          "metadata": {
            "tags": []
          },
          "execution_count": 25
        }
      ]
    },
    {
      "cell_type": "markdown",
      "metadata": {
        "id": "A18a7fBluWaB",
        "colab_type": "text"
      },
      "source": [
        "### 將資料標準化"
      ]
    },
    {
      "cell_type": "code",
      "metadata": {
        "id": "DscpDZUquQxv",
        "colab_type": "code",
        "colab": {}
      },
      "source": [
        "from sklearn.preprocessing import StandardScaler\n",
        "sc = StandardScaler()\n",
        "train_x = sc.fit_transform(train_x)"
      ],
      "execution_count": 27,
      "outputs": []
    },
    {
      "cell_type": "code",
      "metadata": {
        "id": "qzBJfHBjusOo",
        "colab_type": "code",
        "colab": {
          "base_uri": "https://localhost:8080/",
          "height": 243
        },
        "outputId": "f64093c4-fe6d-4411-8ce4-2cb126fa33be"
      },
      "source": [
        "train_x"
      ],
      "execution_count": 28,
      "outputs": [
        {
          "output_type": "execute_result",
          "data": {
            "text/plain": [
              "array([[-0.57559072,  1.73073215,  1.09823226, ...,  0.64598061,\n",
              "         0.97071435,  1.24821373],\n",
              "       [ 1.73734559, -0.57779016,  1.09823226, ..., -1.54803408,\n",
              "         0.97071435,  1.52122527],\n",
              "       [-0.57559072, -0.57779016, -0.91055421, ..., -1.54803408,\n",
              "        -1.03016917,  1.2636148 ],\n",
              "       ...,\n",
              "       [-0.57559072, -0.57779016,  1.09823226, ..., -1.54803408,\n",
              "        -1.03016917, -0.14925893],\n",
              "       [-0.57559072, -0.57779016, -0.91055421, ...,  0.64598061,\n",
              "        -1.03016917, -0.05754351],\n",
              "       [ 1.73734559, -0.57779016, -0.91055421, ...,  0.64598061,\n",
              "         0.97071435, -0.81942612]])"
            ]
          },
          "metadata": {
            "tags": []
          },
          "execution_count": 28
        }
      ]
    },
    {
      "cell_type": "code",
      "metadata": {
        "id": "GxHDYJhMuxRz",
        "colab_type": "code",
        "colab": {}
      },
      "source": [
        "test_x = sc.transform(test_x)"
      ],
      "execution_count": 29,
      "outputs": []
    },
    {
      "cell_type": "markdown",
      "metadata": {
        "id": "Gli14HnRvb9H",
        "colab_type": "text"
      },
      "source": [
        "### 使用keras 建立模型"
      ]
    },
    {
      "cell_type": "code",
      "metadata": {
        "id": "CZIEC0HjvV34",
        "colab_type": "code",
        "colab": {}
      },
      "source": [
        "% tensorflow_version 2.x"
      ],
      "execution_count": 30,
      "outputs": []
    },
    {
      "cell_type": "code",
      "metadata": {
        "id": "cp7zoiNKvmj0",
        "colab_type": "code",
        "colab": {}
      },
      "source": [
        "import tensorflow as tf"
      ],
      "execution_count": 31,
      "outputs": []
    },
    {
      "cell_type": "code",
      "metadata": {
        "id": "K3rXCoTnv6ON",
        "colab_type": "code",
        "colab": {}
      },
      "source": [
        "from tensorflow.keras.models import Sequential\n",
        "from tensorflow.keras.layers import Dense, Dropout\n",
        "model = Sequential()\n",
        "model.add(Dense(5, activation='relu', input_shape = (11,)))\n",
        "#model.add(Dropout(rate= 0.1))\n",
        "model.add(Dense(5, activation='relu'))\n",
        "#model.add(Dropout(rate= 0.1))\n",
        "model.add(Dense(1, activation='sigmoid'))"
      ],
      "execution_count": 44,
      "outputs": []
    },
    {
      "cell_type": "code",
      "metadata": {
        "id": "JODxqM57wvHY",
        "colab_type": "code",
        "colab": {
          "base_uri": "https://localhost:8080/",
          "height": 260
        },
        "outputId": "54fd3daf-ef74-4bdc-f007-215751eb44c4"
      },
      "source": [
        "model.summary()"
      ],
      "execution_count": 45,
      "outputs": [
        {
          "output_type": "stream",
          "text": [
            "Model: \"sequential_4\"\n",
            "_________________________________________________________________\n",
            "Layer (type)                 Output Shape              Param #   \n",
            "=================================================================\n",
            "dense_9 (Dense)              (None, 5)                 60        \n",
            "_________________________________________________________________\n",
            "dense_10 (Dense)             (None, 5)                 30        \n",
            "_________________________________________________________________\n",
            "dense_11 (Dense)             (None, 1)                 6         \n",
            "=================================================================\n",
            "Total params: 96\n",
            "Trainable params: 96\n",
            "Non-trainable params: 0\n",
            "_________________________________________________________________\n"
          ],
          "name": "stdout"
        }
      ]
    },
    {
      "cell_type": "code",
      "metadata": {
        "id": "9mUSp8Z-wwiy",
        "colab_type": "code",
        "colab": {}
      },
      "source": [
        "model.compile(optimizer='adam', \n",
        "       loss = 'binary_crossentropy', \n",
        "       metrics = ['accuracy'])"
      ],
      "execution_count": 46,
      "outputs": []
    },
    {
      "cell_type": "code",
      "metadata": {
        "id": "ePcxPJG0xTfN",
        "colab_type": "code",
        "colab": {}
      },
      "source": [
        "history = model.fit(\n",
        "    x = train_x, \n",
        "    y = train_y,\n",
        "    epochs = 100,\n",
        "    verbose = 1,\n",
        "    validation_data = (test_x, test_y))"
      ],
      "execution_count": null,
      "outputs": []
    },
    {
      "cell_type": "code",
      "metadata": {
        "id": "JG6vymywxmNU",
        "colab_type": "code",
        "colab": {
          "base_uri": "https://localhost:8080/",
          "height": 283
        },
        "outputId": "f352e1f3-d1ad-411b-b00a-100ec7941c7b"
      },
      "source": [
        "from matplotlib import pyplot as plt\n",
        "plt.plot(range(len(history.history.get('loss'))), history.history.get('loss'))"
      ],
      "execution_count": 49,
      "outputs": [
        {
          "output_type": "execute_result",
          "data": {
            "text/plain": [
              "[<matplotlib.lines.Line2D at 0x7ff276b6d668>]"
            ]
          },
          "metadata": {
            "tags": []
          },
          "execution_count": 49
        },
        {
          "output_type": "display_data",
          "data": {
            "image/png": "[encoded data removed]",
            "text/plain": [
              "<Figure size 432x288 with 1 Axes>"
            ]
          },
          "metadata": {
            "tags": [],
            "needs_background": "light"
          }
        }
      ]
    },
    {
      "cell_type": "code",
      "metadata": {
        "id": "49ZHZLyJyYV9",
        "colab_type": "code",
        "colab": {
          "base_uri": "https://localhost:8080/",
          "height": 283
        },
        "outputId": "da870896-4b3a-4cf4-84a2-8c104415a621"
      },
      "source": [
        "from matplotlib import pyplot as plt\n",
        "plt.plot(range(len(history.history.get('accuracy'))), history.history.get('accuracy'))"
      ],
      "execution_count": 50,
      "outputs": [
        {
          "output_type": "execute_result",
          "data": {
            "text/plain": [
              "[<matplotlib.lines.Line2D at 0x7ff276b2bba8>]"
            ]
          },
          "metadata": {
            "tags": []
          },
          "execution_count": 50
        },
        {
          "output_type": "display_data",
          "data": {
            "image/png": "[encoded data removed]",
            "text/plain": [
              "<Figure size 432x288 with 1 Axes>"
            ]
          },
          "metadata": {
            "tags": [],
            "needs_background": "light"
          }
        }
      ]
    },
    {
      "cell_type": "markdown",
      "metadata": {
        "id": "JLlOY72iyjsW",
        "colab_type": "text"
      },
      "source": [
        "### 模型準確度"
      ]
    },
    {
      "cell_type": "code",
      "metadata": {
        "id": "4-Ep1veGycTD",
        "colab_type": "code",
        "colab": {}
      },
      "source": [
        "predicted_y = (model(test_x).numpy() > 0.5).flatten().astype(int)"
      ],
      "execution_count": 57,
      "outputs": []
    },
    {
      "cell_type": "code",
      "metadata": {
        "id": "WVynRa3Cynuf",
        "colab_type": "code",
        "colab": {
          "base_uri": "https://localhost:8080/",
          "height": 35
        },
        "outputId": "a415385f-de51-4636-a337-21359a835302"
      },
      "source": [
        "from sklearn.metrics import accuracy_score\n",
        "accuracy_score(test_y, predicted_y)"
      ],
      "execution_count": 58,
      "outputs": [
        {
          "output_type": "execute_result",
          "data": {
            "text/plain": [
              "0.8696666666666667"
            ]
          },
          "metadata": {
            "tags": []
          },
          "execution_count": 58
        }
      ]
    },
    {
      "cell_type": "markdown",
      "metadata": {
        "id": "SPN0aHlEy_st",
        "colab_type": "text"
      },
      "source": [
        "### 請繪製ROC Curve, 並求出 AUC"
      ]
    },
    {
      "cell_type": "code",
      "metadata": {
        "id": "LMICkbPKy_He",
        "colab_type": "code",
        "colab": {}
      },
      "source": [
        "from sklearn.metrics import roc_curve\n",
        "fpr, tpr, threshold = roc_curve(test_y, model(test_x).numpy())"
      ],
      "execution_count": 59,
      "outputs": []
    },
    {
      "cell_type": "code",
      "metadata": {
        "id": "UaV9ab8ky7Dr",
        "colab_type": "code",
        "colab": {
          "base_uri": "https://localhost:8080/",
          "height": 283
        },
        "outputId": "b231ca70-b949-4ce5-86a6-0819735ca5b8"
      },
      "source": [
        "from matplotlib import pyplot as plt\n",
        "plt.plot(fpr, tpr)"
      ],
      "execution_count": 60,
      "outputs": [
        {
          "output_type": "execute_result",
          "data": {
            "text/plain": [
              "[<matplotlib.lines.Line2D at 0x7ff2733746d8>]"
            ]
          },
          "metadata": {
            "tags": []
          },
          "execution_count": 60
        },
        {
          "output_type": "display_data",
          "data": {
            "image/png": "[encoded data removed]",
            "text/plain": [
              "<Figure size 432x288 with 1 Axes>"
            ]
          },
          "metadata": {
            "tags": [],
            "needs_background": "light"
          }
        }
      ]
    },
    {
      "cell_type": "code",
      "metadata": {
        "id": "AWWxdiwwzRO4",
        "colab_type": "code",
        "colab": {
          "base_uri": "https://localhost:8080/",
          "height": 35
        },
        "outputId": "4fee5d5d-69af-4f01-cc6f-7dd3b73c6690"
      },
      "source": [
        "from sklearn.metrics import auc\n",
        "auc(fpr, tpr)"
      ],
      "execution_count": 62,
      "outputs": [
        {
          "output_type": "execute_result",
          "data": {
            "text/plain": [
              "0.8579624705161935"
            ]
          },
          "metadata": {
            "tags": []
          },
          "execution_count": 62
        }
      ]
    },
    {
      "cell_type": "markdown",
      "metadata": {
        "id": "GBsLxEGFzdhv",
        "colab_type": "text"
      },
      "source": [
        "### 比較 ANN, SVM, Gradient Boosting, Random Forest, Logist Regression, Decision Tree 各模型的 AUC 與 ROC Curve"
      ]
    },
    {
      "cell_type": "code",
      "metadata": {
        "id": "U7oxL43wzZuE",
        "colab_type": "code",
        "colab": {
          "base_uri": "https://localhost:8080/",
          "height": 191
        },
        "outputId": "f7584fe5-e61c-4b62-f7a9-efc3b0614b96"
      },
      "source": [
        "from sklearn.tree import DecisionTreeClassifier\n",
        "from sklearn.linear_model import LogisticRegression\n",
        "from sklearn.svm import SVC\n",
        "from sklearn.ensemble import RandomForestClassifier\n",
        "from sklearn.ensemble import GradientBoostingClassifier\n",
        "\n",
        "clf1 = DecisionTreeClassifier()\n",
        "clf1.fit(train_x, train_y)\n",
        "\n",
        "clf2 = SVC(probability = True)\n",
        "clf2.fit(train_x, train_y)\n",
        "\n",
        "clf3 = LogisticRegression()\n",
        "clf3.fit(train_x, train_y)\n",
        "\n",
        "clf4 = RandomForestClassifier()\n",
        "clf4.fit(train_x, train_y)\n",
        "\n",
        "clf5 = GradientBoostingClassifier()\n",
        "clf5.fit(train_x, train_y)"
      ],
      "execution_count": 63,
      "outputs": [
        {
          "output_type": "execute_result",
          "data": {
            "text/plain": [
              "GradientBoostingClassifier(ccp_alpha=0.0, criterion='friedman_mse', init=None,\n",
              "                           learning_rate=0.1, loss='deviance', max_depth=3,\n",
              "                           max_features=None, max_leaf_nodes=None,\n",
              "                           min_impurity_decrease=0.0, min_impurity_split=None,\n",
              "                           min_samples_leaf=1, min_samples_split=2,\n",
              "                           min_weight_fraction_leaf=0.0, n_estimators=100,\n",
              "                           n_iter_no_change=None, presort='deprecated',\n",
              "                           random_state=None, subsample=1.0, tol=0.0001,\n",
              "                           validation_fraction=0.1, verbose=0,\n",
              "                           warm_start=False)"
            ]
          },
          "metadata": {
            "tags": []
          },
          "execution_count": 63
        }
      ]
    },
    {
      "cell_type": "code",
      "metadata": {
        "id": "e07rwXD4zilQ",
        "colab_type": "code",
        "colab": {
          "base_uri": "https://localhost:8080/",
          "height": 399
        },
        "outputId": "6944b68c-30ba-47a6-878f-e5cf060f2b85"
      },
      "source": [
        "plt.figure(figsize= [20,10])\n",
        "\n",
        "for clf, title in zip([model,clf1,clf2,clf3,clf4,clf5], \n",
        "             ['ANN','Decision Tree','SVM','LogisticRegression','RandomForest','GBT']):\n",
        "  if title != 'ANN':\n",
        "    probas_ = clf.predict_proba(test_x)\n",
        "    fpr, tpr, thresholds = roc_curve(test_y, probas_[:, 1])\n",
        "  else:\n",
        "    y_pred = clf(test_x).numpy()\n",
        "    fpr, tpr, thresholds = roc_curve(test_y, y_pred)\n",
        "  plt.plot(fpr, tpr, label='%s - AUC:%.2f'%(title, auc(fpr, tpr)) )\n",
        "\n",
        "\n",
        "plt.plot([0, 1], [0, 1], 'k--')\n",
        "plt.xlim([0.0, 1.0])\n",
        "plt.ylim([0.0, 1.0])\n",
        "plt.xlabel('False Positive Rate', fontsize = 20)\n",
        "plt.ylabel('True Positive Rate', fontsize = 20)\n",
        "plt.title('Receiver operating characteristic curve', fontsize = 20)\n",
        "plt.legend(loc=\"lower right\", fontsize = 20)\n",
        "plt.show()"
      ],
      "execution_count": 64,
      "outputs": [
        {
          "output_type": "display_data",
          "data": {
            "image/png": "[encoded data removed]",
            "text/plain": [
              "<Figure size 1440x720 with 1 Axes>"
            ]
          },
          "metadata": {
            "tags": [],
            "needs_background": "light"
          }
        }
      ]
    },
    {
      "cell_type": "code",
      "metadata": {
        "id": "gSvosCTMzoMA",
        "colab_type": "code",
        "colab": {}
      },
      "source": [
        "?model.compile"
      ],
      "execution_count": 66,
      "outputs": []
    },
    {
      "cell_type": "code",
      "metadata": {
        "id": "z3PrTGs-25ZH",
        "colab_type": "code",
        "colab": {
          "base_uri": "https://localhost:8080/",
          "height": 416
        },
        "outputId": "ec259128-e377-40cd-8f53-2e6f195ec1ed"
      },
      "source": [
        "dir(tf.keras.optimizers)"
      ],
      "execution_count": 70,
      "outputs": [
        {
          "output_type": "execute_result",
          "data": {
            "text/plain": [
              "['Adadelta',\n",
              " 'Adagrad',\n",
              " 'Adam',\n",
              " 'Adamax',\n",
              " 'Ftrl',\n",
              " 'Nadam',\n",
              " 'Optimizer',\n",
              " 'RMSprop',\n",
              " 'SGD',\n",
              " '__builtins__',\n",
              " '__cached__',\n",
              " '__doc__',\n",
              " '__file__',\n",
              " '__loader__',\n",
              " '__name__',\n",
              " '__package__',\n",
              " '__path__',\n",
              " '__spec__',\n",
              " '_sys',\n",
              " 'deserialize',\n",
              " 'get',\n",
              " 'schedules',\n",
              " 'serialize']"
            ]
          },
          "metadata": {
            "tags": []
          },
          "execution_count": 70
        }
      ]
    },
    {
      "cell_type": "markdown",
      "metadata": {
        "id": "KmUFYnIh_Ubu",
        "colab_type": "text"
      },
      "source": [
        "## 使用CNN 建立MNIST 識別網路"
      ]
    },
    {
      "cell_type": "code",
      "metadata": {
        "id": "B09WkYIyDdRE",
        "colab_type": "code",
        "colab": {
          "base_uri": "https://localhost:8080/",
          "height": 364
        },
        "outputId": "73a682ee-8688-43a4-e061-bbc7f8a11ec3"
      },
      "source": [
        "! nvidia-smi"
      ],
      "execution_count": 2,
      "outputs": [
        {
          "output_type": "stream",
          "text": [
            "Sat Aug  1 03:25:58 2020       \n",
            "+-----------------------------------------------------------------------------+\n",
            "| NVIDIA-SMI 450.57       Driver Version: 418.67       CUDA Version: 10.1     |\n",
            "|-------------------------------+----------------------+----------------------+\n",
            "| GPU  Name        Persistence-M| Bus-Id        Disp.A | Volatile Uncorr. ECC |\n",
            "| Fan  Temp  Perf  Pwr:Usage/Cap|         Memory-Usage | GPU-Util  Compute M. |\n",
            "|                               |                      |               MIG M. |\n",
            "|===============================+======================+======================|\n",
            "|   0  Tesla T4            Off  | 00000000:00:04.0 Off |                    0 |\n",
            "| N/A   63C    P8    11W /  70W |      0MiB / 15079MiB |      0%      Default |\n",
            "|                               |                      |                 ERR! |\n",
            "+-------------------------------+----------------------+----------------------+\n",
            "                                                                               \n",
            "+-----------------------------------------------------------------------------+\n",
            "| Processes:                                                                  |\n",
            "|  GPU   GI   CI        PID   Type   Process name                  GPU Memory |\n",
            "|        ID   ID                                                   Usage      |\n",
            "|=============================================================================|\n",
            "|  No running processes found                                                 |\n",
            "+-----------------------------------------------------------------------------+\n"
          ],
          "name": "stdout"
        }
      ]
    },
    {
      "cell_type": "code",
      "metadata": {
        "id": "cwoXrNCM28hW",
        "colab_type": "code",
        "colab": {}
      },
      "source": [
        "%tensorflow_version 2.x\n",
        "import tensorflow as tf\n",
        "from tensorflow import keras"
      ],
      "execution_count": 3,
      "outputs": []
    },
    {
      "cell_type": "code",
      "metadata": {
        "id": "ErfrNBPx_pvA",
        "colab_type": "code",
        "colab": {
          "base_uri": "https://localhost:8080/",
          "height": 52
        },
        "outputId": "cf68db77-55dd-4a01-f3b1-72fb794c1938"
      },
      "source": [
        "mnist = keras.datasets.mnist\n",
        "\n",
        "(train_images, train_labels), (test_images, test_labels) = mnist.load_data()"
      ],
      "execution_count": 4,
      "outputs": [
        {
          "output_type": "stream",
          "text": [
            "Downloading data from https://storage.googleapis.com/tensorflow/tf-keras-datasets/mnist.npz\n",
            "11493376/11490434 [==============================] - 0s 0us/step\n"
          ],
          "name": "stdout"
        }
      ]
    },
    {
      "cell_type": "code",
      "metadata": {
        "id": "oPYUF84J_r6v",
        "colab_type": "code",
        "colab": {
          "base_uri": "https://localhost:8080/",
          "height": 35
        },
        "outputId": "59467b58-798e-46f8-874e-87423fb9439a"
      },
      "source": [
        "train_images.shape"
      ],
      "execution_count": 5,
      "outputs": [
        {
          "output_type": "execute_result",
          "data": {
            "text/plain": [
              "(60000, 28, 28)"
            ]
          },
          "metadata": {
            "tags": []
          },
          "execution_count": 5
        }
      ]
    },
    {
      "cell_type": "code",
      "metadata": {
        "id": "zpWy1g6f_tuf",
        "colab_type": "code",
        "colab": {
          "base_uri": "https://localhost:8080/",
          "height": 35
        },
        "outputId": "ee941d48-d1f0-4db4-808b-ae04105c2559"
      },
      "source": [
        "test_images.shape"
      ],
      "execution_count": 6,
      "outputs": [
        {
          "output_type": "execute_result",
          "data": {
            "text/plain": [
              "(10000, 28, 28)"
            ]
          },
          "metadata": {
            "tags": []
          },
          "execution_count": 6
        }
      ]
    },
    {
      "cell_type": "code",
      "metadata": {
        "id": "zRZRlkcz_vd_",
        "colab_type": "code",
        "colab": {
          "base_uri": "https://localhost:8080/",
          "height": 283
        },
        "outputId": "aa5bcc2e-545e-450f-86fc-f014b985bde9"
      },
      "source": [
        "from matplotlib import pyplot as plt \n",
        "plt.imshow(train_images[0])"
      ],
      "execution_count": 7,
      "outputs": [
        {
          "output_type": "execute_result",
          "data": {
            "text/plain": [
              "<matplotlib.image.AxesImage at 0x7ff21bded518>"
            ]
          },
          "metadata": {
            "tags": []
          },
          "execution_count": 7
        },
        {
          "output_type": "display_data",
          "data": {
            "image/png": "[encoded data removed]",
            "text/plain": [
              "<Figure size 432x288 with 1 Axes>"
            ]
          },
          "metadata": {
            "tags": [],
            "needs_background": "light"
          }
        }
      ]
    },
    {
      "cell_type": "code",
      "metadata": {
        "id": "kuJei_N9_4cu",
        "colab_type": "code",
        "colab": {
          "base_uri": "https://localhost:8080/",
          "height": 35
        },
        "outputId": "76aad652-0351-4a14-c1fd-30bf7ef45131"
      },
      "source": [
        "train_images.shape"
      ],
      "execution_count": 8,
      "outputs": [
        {
          "output_type": "execute_result",
          "data": {
            "text/plain": [
              "(60000, 28, 28)"
            ]
          },
          "metadata": {
            "tags": []
          },
          "execution_count": 8
        }
      ]
    },
    {
      "cell_type": "code",
      "metadata": {
        "id": "6kKnLhSa_9aN",
        "colab_type": "code",
        "colab": {}
      },
      "source": [
        "train_images = train_images.reshape(60000,28,28,1)\n",
        "test_images = test_images.reshape(10000,28,28,1)"
      ],
      "execution_count": 9,
      "outputs": []
    },
    {
      "cell_type": "code",
      "metadata": {
        "id": "r7jR7gNkAFYL",
        "colab_type": "code",
        "colab": {
          "base_uri": "https://localhost:8080/",
          "height": 35
        },
        "outputId": "6fc7126d-9d73-49da-d1c3-bc22c63d9ef4"
      },
      "source": [
        "train_images.shape"
      ],
      "execution_count": 10,
      "outputs": [
        {
          "output_type": "execute_result",
          "data": {
            "text/plain": [
              "(60000, 28, 28, 1)"
            ]
          },
          "metadata": {
            "tags": []
          },
          "execution_count": 10
        }
      ]
    },
    {
      "cell_type": "code",
      "metadata": {
        "id": "o8FlnDELAUy-",
        "colab_type": "code",
        "colab": {}
      },
      "source": [
        "train_images = train_images / 255.0\n",
        "test_images = test_images / 255.0"
      ],
      "execution_count": 11,
      "outputs": []
    },
    {
      "cell_type": "code",
      "metadata": {
        "id": "aCT38CPcAYqZ",
        "colab_type": "code",
        "colab": {}
      },
      "source": [
        "from tensorflow.keras.models import Sequential\n",
        "from tensorflow.keras.layers import Dense, Conv2D, MaxPooling2D, Flatten\n",
        "model = Sequential()\n",
        "# 1. Convolution\n",
        "model.add(Conv2D(filters=16, \n",
        "        kernel_size=(3, 3), \n",
        "        padding = 'same', \n",
        "        input_shape = (28, 28, 1), \n",
        "        activation = 'relu'))\n",
        "\n",
        "# 2. Max Pooling\n",
        "model.add(MaxPooling2D(pool_size = (2, 2)))\n",
        "\n",
        "# 3. Flattening\n",
        "model.add(Flatten())\n",
        "\n",
        "\n",
        "# 4. Fully Connected Network (FCN)\n",
        "model.add(Dense(128, activation = 'relu'))\n",
        "model.add(Dense(10, activation = 'softmax'))"
      ],
      "execution_count": 12,
      "outputs": []
    },
    {
      "cell_type": "code",
      "metadata": {
        "id": "cX7BYLe1DOjn",
        "colab_type": "code",
        "colab": {
          "base_uri": "https://localhost:8080/",
          "height": 329
        },
        "outputId": "4f0f59d2-4269-448e-e292-212f4dc4f669"
      },
      "source": [
        "model.summary()"
      ],
      "execution_count": 13,
      "outputs": [
        {
          "output_type": "stream",
          "text": [
            "Model: \"sequential\"\n",
            "_________________________________________________________________\n",
            "Layer (type)                 Output Shape              Param #   \n",
            "=================================================================\n",
            "conv2d (Conv2D)              (None, 28, 28, 16)        160       \n",
            "_________________________________________________________________\n",
            "max_pooling2d (MaxPooling2D) (None, 14, 14, 16)        0         \n",
            "_________________________________________________________________\n",
            "flatten (Flatten)            (None, 3136)              0         \n",
            "_________________________________________________________________\n",
            "dense (Dense)                (None, 128)               401536    \n",
            "_________________________________________________________________\n",
            "dense_1 (Dense)              (None, 10)                1290      \n",
            "=================================================================\n",
            "Total params: 402,986\n",
            "Trainable params: 402,986\n",
            "Non-trainable params: 0\n",
            "_________________________________________________________________\n"
          ],
          "name": "stdout"
        }
      ]
    },
    {
      "cell_type": "markdown",
      "metadata": {
        "id": "yRNdKi38CXP6",
        "colab_type": "text"
      },
      "source": [
        "## Loss\n",
        "SparseCategoricalCrossentropy: y =0,1,2,3,4...9\n",
        "\n",
        "categorical_crossentropy: y = [[1,0,0,0,0..0],[0,1,...0],[0,0,1,...0]]"
      ]
    },
    {
      "cell_type": "code",
      "metadata": {
        "id": "_nNM-HxUByFR",
        "colab_type": "code",
        "colab": {}
      },
      "source": [
        "loss_fn = tf.keras.losses.SparseCategoricalCrossentropy(from_logits=True)\n",
        "model.compile(optimizer = 'adam', \n",
        "         loss = loss_fn, \n",
        "         metrics = ['accuracy'])"
      ],
      "execution_count": 17,
      "outputs": []
    },
    {
      "cell_type": "code",
      "metadata": {
        "id": "nsg4yNmoCwLm",
        "colab_type": "code",
        "colab": {}
      },
      "source": [
        "#print(dir(tf.keras.optimizers))\n",
        "#print(dir(tf.keras.losses))"
      ],
      "execution_count": 18,
      "outputs": []
    },
    {
      "cell_type": "code",
      "metadata": {
        "id": "tBTai2XoCEF8",
        "colab_type": "code",
        "colab": {
          "base_uri": "https://localhost:8080/",
          "height": 557
        },
        "outputId": "a698ef15-af01-4209-b11b-96781cd66d53"
      },
      "source": [
        "history = model.fit(train_images, train_labels,\n",
        "            batch_size=100,\n",
        "            epochs=15,\n",
        "            verbose=1,\n",
        "          validation_data=(test_images, test_labels))"
      ],
      "execution_count": 19,
      "outputs": [
        {
          "output_type": "stream",
          "text": [
            "Epoch 1/15\n",
            "600/600 [==============================] - 2s 3ms/step - loss: 1.4784 - accuracy: 0.9848 - val_loss: 1.4797 - val_accuracy: 0.9833\n",
            "Epoch 2/15\n",
            "600/600 [==============================] - 2s 3ms/step - loss: 1.4751 - accuracy: 0.9877 - val_loss: 1.4796 - val_accuracy: 0.9824\n",
            "Epoch 3/15\n",
            "600/600 [==============================] - 2s 3ms/step - loss: 1.4733 - accuracy: 0.9893 - val_loss: 1.4800 - val_accuracy: 0.9819\n",
            "Epoch 4/15\n",
            "600/600 [==============================] - 2s 3ms/step - loss: 1.4715 - accuracy: 0.9907 - val_loss: 1.4790 - val_accuracy: 0.9834\n",
            "Epoch 5/15\n",
            "600/600 [==============================] - 2s 3ms/step - loss: 1.4698 - accuracy: 0.9923 - val_loss: 1.4775 - val_accuracy: 0.9840\n",
            "Epoch 6/15\n",
            "600/600 [==============================] - 2s 3ms/step - loss: 1.4690 - accuracy: 0.9931 - val_loss: 1.4777 - val_accuracy: 0.9841\n",
            "Epoch 7/15\n",
            "600/600 [==============================] - 2s 3ms/step - loss: 1.4684 - accuracy: 0.9934 - val_loss: 1.4763 - val_accuracy: 0.9859\n",
            "Epoch 8/15\n",
            "600/600 [==============================] - 2s 3ms/step - loss: 1.4675 - accuracy: 0.9943 - val_loss: 1.4765 - val_accuracy: 0.9852\n",
            "Epoch 9/15\n",
            "600/600 [==============================] - 2s 3ms/step - loss: 1.4671 - accuracy: 0.9947 - val_loss: 1.4759 - val_accuracy: 0.9857\n",
            "Epoch 10/15\n",
            "600/600 [==============================] - 2s 3ms/step - loss: 1.4664 - accuracy: 0.9953 - val_loss: 1.4765 - val_accuracy: 0.9845\n",
            "Epoch 11/15\n",
            "600/600 [==============================] - 2s 3ms/step - loss: 1.4662 - accuracy: 0.9954 - val_loss: 1.4757 - val_accuracy: 0.9860\n",
            "Epoch 12/15\n",
            "600/600 [==============================] - 2s 3ms/step - loss: 1.4662 - accuracy: 0.9954 - val_loss: 1.4795 - val_accuracy: 0.9818\n",
            "Epoch 13/15\n",
            "600/600 [==============================] - 2s 3ms/step - loss: 1.4661 - accuracy: 0.9955 - val_loss: 1.4755 - val_accuracy: 0.9864\n",
            "Epoch 14/15\n",
            "600/600 [==============================] - 2s 3ms/step - loss: 1.4656 - accuracy: 0.9960 - val_loss: 1.4748 - val_accuracy: 0.9866\n",
            "Epoch 15/15\n",
            "600/600 [==============================] - 2s 3ms/step - loss: 1.4653 - accuracy: 0.9962 - val_loss: 1.4771 - val_accuracy: 0.9847\n"
          ],
          "name": "stdout"
        }
      ]
    },
    {
      "cell_type": "code",
      "metadata": {
        "id": "1ZppCuM6CJj7",
        "colab_type": "code",
        "colab": {
          "base_uri": "https://localhost:8080/",
          "height": 283
        },
        "outputId": "6de7c499-98d4-41b1-f559-fb396c9c1323"
      },
      "source": [
        "from matplotlib import pyplot as plt\n",
        "plt.plot(range(len(history.history.get('loss'))), history.history.get('loss'))"
      ],
      "execution_count": 20,
      "outputs": [
        {
          "output_type": "execute_result",
          "data": {
            "text/plain": [
              "[<matplotlib.lines.Line2D at 0x7ff1be222550>]"
            ]
          },
          "metadata": {
            "tags": []
          },
          "execution_count": 20
        },
        {
          "output_type": "display_data",
          "data": {
            "image/png": "[encoded data removed]",
            "text/plain": [
              "<Figure size 432x288 with 1 Axes>"
            ]
          },
          "metadata": {
            "tags": [],
            "needs_background": "light"
          }
        }
      ]
    },
    {
      "cell_type": "code",
      "metadata": {
        "id": "jqHGLHPuEWQ7",
        "colab_type": "code",
        "colab": {
          "base_uri": "https://localhost:8080/",
          "height": 283
        },
        "outputId": "edcd4407-d437-4ecc-ccb4-e5264c1fc02a"
      },
      "source": [
        "from matplotlib import pyplot as plt\n",
        "plt.plot(range(len(history.history.get('accuracy'))), history.history.get('accuracy'))"
      ],
      "execution_count": 21,
      "outputs": [
        {
          "output_type": "execute_result",
          "data": {
            "text/plain": [
              "[<matplotlib.lines.Line2D at 0x7ff210047dd8>]"
            ]
          },
          "metadata": {
            "tags": []
          },
          "execution_count": 21
        },
        {
          "output_type": "display_data",
          "data": {
            "image/png": "[encoded data removed]",
            "text/plain": [
              "<Figure size 432x288 with 1 Axes>"
            ]
          },
          "metadata": {
            "tags": [],
            "needs_background": "light"
          }
        }
      ]
    },
    {
      "cell_type": "code",
      "metadata": {
        "id": "yzrFtT_YEYka",
        "colab_type": "code",
        "colab": {
          "base_uri": "https://localhost:8080/",
          "height": 228
        },
        "outputId": "cc1c8127-a4fd-4e21-d177-c514c94357ba"
      },
      "source": [
        "! wget https://raw.githubusercontent.com/ywchiu/tibamedl/master/data/7.png"
      ],
      "execution_count": 22,
      "outputs": [
        {
          "output_type": "stream",
          "text": [
            "--2020-08-01 03:32:50--  https://raw.githubusercontent.com/ywchiu/tibamedl/master/data/7.png\n",
            "Resolving raw.githubusercontent.com (raw.githubusercontent.com)... 151.101.0.133, 151.101.64.133, 151.101.128.133, ...\n",
            "Connecting to raw.githubusercontent.com (raw.githubusercontent.com)|151.101.0.133|:443... connected.\n",
            "HTTP request sent, awaiting response... 200 OK\n",
            "Length: 393 [image/png]\n",
            "Saving to: ‘7.png’\n",
            "\n",
            "\r7.png                 0%[                    ]       0  --.-KB/s               \r7.png               100%[===================>]     393  --.-KB/s    in 0s      \n",
            "\n",
            "2020-08-01 03:32:50 (26.6 MB/s) - ‘7.png’ saved [393/393]\n",
            "\n"
          ],
          "name": "stdout"
        }
      ]
    },
    {
      "cell_type": "code",
      "metadata": {
        "id": "MG8zh8GoFE3V",
        "colab_type": "code",
        "colab": {}
      },
      "source": [
        "from PIL import Image\n",
        "img = Image.open('7.png').convert('L')"
      ],
      "execution_count": 28,
      "outputs": []
    },
    {
      "cell_type": "code",
      "metadata": {
        "id": "NSkQS-oaFH-l",
        "colab_type": "code",
        "colab": {
          "base_uri": "https://localhost:8080/",
          "height": 35
        },
        "outputId": "f5187731-e1fd-482a-df7e-15c507775b14"
      },
      "source": [
        "import numpy as np\n",
        "im = np.array(img)\n",
        "im.shape"
      ],
      "execution_count": 29,
      "outputs": [
        {
          "output_type": "execute_result",
          "data": {
            "text/plain": [
              "(28, 28)"
            ]
          },
          "metadata": {
            "tags": []
          },
          "execution_count": 29
        }
      ]
    },
    {
      "cell_type": "code",
      "metadata": {
        "id": "7wi0WOk8FORW",
        "colab_type": "code",
        "colab": {}
      },
      "source": [
        "im = 255 - im"
      ],
      "execution_count": 31,
      "outputs": []
    },
    {
      "cell_type": "code",
      "metadata": {
        "id": "B9WZW9HcFXeU",
        "colab_type": "code",
        "colab": {}
      },
      "source": [
        "im = im / 255.0"
      ],
      "execution_count": 33,
      "outputs": []
    },
    {
      "cell_type": "code",
      "metadata": {
        "id": "u8KRXT9SFdJT",
        "colab_type": "code",
        "colab": {
          "base_uri": "https://localhost:8080/",
          "height": 35
        },
        "outputId": "a89c8f2e-5ac1-43cf-fbca-e51ee4ac1748"
      },
      "source": [
        "im.shape"
      ],
      "execution_count": 35,
      "outputs": [
        {
          "output_type": "execute_result",
          "data": {
            "text/plain": [
              "(28, 28)"
            ]
          },
          "metadata": {
            "tags": []
          },
          "execution_count": 35
        }
      ]
    },
    {
      "cell_type": "code",
      "metadata": {
        "id": "vg26UmTFFhky",
        "colab_type": "code",
        "colab": {}
      },
      "source": [
        "im = im.reshape((28,28,1))"
      ],
      "execution_count": 37,
      "outputs": []
    },
    {
      "cell_type": "code",
      "metadata": {
        "id": "xZVg6kWzFoHS",
        "colab_type": "code",
        "colab": {
          "base_uri": "https://localhost:8080/",
          "height": 35
        },
        "outputId": "9e0f9411-7b93-4871-93f1-7ce9c8e0da19"
      },
      "source": [
        "im.shape"
      ],
      "execution_count": 38,
      "outputs": [
        {
          "output_type": "execute_result",
          "data": {
            "text/plain": [
              "(28, 28, 1)"
            ]
          },
          "metadata": {
            "tags": []
          },
          "execution_count": 38
        }
      ]
    },
    {
      "cell_type": "code",
      "metadata": {
        "id": "ErhLg_iFFtvx",
        "colab_type": "code",
        "colab": {}
      },
      "source": [
        "im = np.expand_dims(im, 0)"
      ],
      "execution_count": 41,
      "outputs": []
    },
    {
      "cell_type": "code",
      "metadata": {
        "id": "xVNxbRwVFxjB",
        "colab_type": "code",
        "colab": {
          "base_uri": "https://localhost:8080/",
          "height": 35
        },
        "outputId": "50ff6013-1b96-4776-db1d-372bd6c46253"
      },
      "source": [
        "im.shape"
      ],
      "execution_count": 42,
      "outputs": [
        {
          "output_type": "execute_result",
          "data": {
            "text/plain": [
              "(1, 28, 28, 1)"
            ]
          },
          "metadata": {
            "tags": []
          },
          "execution_count": 42
        }
      ]
    },
    {
      "cell_type": "code",
      "metadata": {
        "id": "KytgjhPgF2Mg",
        "colab_type": "code",
        "colab": {}
      },
      "source": [
        "#(picnum, w, h, channel)\n",
        "#(1, 28, 28, 1)"
      ],
      "execution_count": 43,
      "outputs": []
    },
    {
      "cell_type": "code",
      "metadata": {
        "id": "YSCdHs7OF-X_",
        "colab_type": "code",
        "colab": {
          "base_uri": "https://localhost:8080/",
          "height": 69
        },
        "outputId": "96e504a8-8452-45ae-9431-7c41a4cbb39d"
      },
      "source": [
        "model.predict(im)"
      ],
      "execution_count": 44,
      "outputs": [
        {
          "output_type": "execute_result",
          "data": {
            "text/plain": [
              "array([[1.6320417e-19, 1.4631481e-19, 4.0763138e-23, 2.0352089e-14,\n",
              "        2.4928876e-13, 5.0275960e-20, 2.1309094e-17, 1.0000000e+00,\n",
              "        3.8459006e-15, 7.2217716e-15]], dtype=float32)"
            ]
          },
          "metadata": {
            "tags": []
          },
          "execution_count": 44
        }
      ]
    },
    {
      "cell_type": "code",
      "metadata": {
        "id": "9PwY1KelGAnP",
        "colab_type": "code",
        "colab": {
          "base_uri": "https://localhost:8080/",
          "height": 35
        },
        "outputId": "c791499a-4202-481d-c799-fca5f635bc3f"
      },
      "source": [
        "np.argmax(model.predict(im))"
      ],
      "execution_count": 45,
      "outputs": [
        {
          "output_type": "execute_result",
          "data": {
            "text/plain": [
              "7"
            ]
          },
          "metadata": {
            "tags": []
          },
          "execution_count": 45
        }
      ]
    },
    {
      "cell_type": "markdown",
      "metadata": {
        "id": "hc4rjGZWjRWt",
        "colab_type": "text"
      },
      "source": [
        "## [實例] 利用卷積神經網路辨識圖片"
      ]
    },
    {
      "cell_type": "markdown",
      "metadata": {
        "id": "T4dp3a6AKF7l",
        "colab_type": "text"
      },
      "source": [
        "### 寫爬蟲抓取明星圖片"
      ]
    },
    {
      "cell_type": "code",
      "metadata": {
        "id": "ZiUrcVBPKIXU",
        "colab_type": "code",
        "colab": {}
      },
      "source": [
        "import requests\n",
        "res = requests.get('https://upload.wikimedia.org/wikipedia/commons/thumb/c/cd/Chou_Tzuyu_at_the_Golden_Disc_Awards_2019.png/220px-Chou_Tzuyu_at_the_Golden_Disc_Awards_2019.png')"
      ],
      "execution_count": 46,
      "outputs": []
    },
    {
      "cell_type": "code",
      "metadata": {
        "id": "u_5BX6BCKO00",
        "colab_type": "code",
        "colab": {}
      },
      "source": [
        "with open('zhiyu_test.png' ,'wb') as f:\n",
        "  f.write(res.content)"
      ],
      "execution_count": 47,
      "outputs": []
    },
    {
      "cell_type": "code",
      "metadata": {
        "id": "7m3gHWr7KVET",
        "colab_type": "code",
        "colab": {
          "base_uri": "https://localhost:8080/",
          "height": 287
        },
        "outputId": "3ea0d0fe-617f-4de9-fe65-9b6c705104ef"
      },
      "source": [
        "from PIL import Image\n",
        "Image.open('zhiyu_test.png')"
      ],
      "execution_count": 48,
      "outputs": [
        {
          "output_type": "execute_result",
          "data": {
            "image/png": "[encoded data removed]",
            "text/plain": [
              "<PIL.PngImagePlugin.PngImageFile image mode=RGBA size=220x270 at 0x7FF1B75B0128>"
            ]
          },
          "metadata": {
            "tags": []
          },
          "execution_count": 48
        }
      ]
    },
    {
      "cell_type": "code",
      "metadata": {
        "id": "M1nHClAUKZjD",
        "colab_type": "code",
        "colab": {
          "base_uri": "https://localhost:8080/",
          "height": 263
        },
        "outputId": "91930bfe-d008-4dc0-c264-419ab9933ced"
      },
      "source": [
        "! pip install google_images_download"
      ],
      "execution_count": 53,
      "outputs": [
        {
          "output_type": "stream",
          "text": [
            "Collecting google_images_download\n",
            "  Downloading https://files.pythonhosted.org/packages/18/ed/0319d30c48f3653802da8e6dcfefcea6370157d10d566ef6807cceb5ec4d/google_images_download-2.8.0.tar.gz\n",
            "Collecting selenium\n",
            "\u001b[?25l  Downloading https://files.pythonhosted.org/packages/80/d6/4294f0b4bce4de0abf13e17190289f9d0613b0a44e5dd6a7f5ca98459853/selenium-3.141.0-py2.py3-none-any.whl (904kB)\n",
            "\u001b[K     |████████████████████████████████| 911kB 6.5MB/s \n",
            "\u001b[?25hRequirement already satisfied: urllib3 in /usr/local/lib/python3.6/dist-packages (from selenium->google_images_download) (1.24.3)\n",
            "Building wheels for collected packages: google-images-download\n",
            "  Building wheel for google-images-download (setup.py) ... \u001b[?25l\u001b[?25hdone\n",
            "  Created wheel for google-images-download: filename=google_images_download-2.8.0-py2.py3-none-any.whl size=14550 sha256=85a79820403af62f3f6e46917f97cc854b7ecdec81da1e0d57dafd9da7dcfa22\n",
            "  Stored in directory: /root/.cache/pip/wheels/1f/28/ad/f56e7061e1d2a9a1affe2f9c649c2570cb9198dd24ede0bbab\n",
            "Successfully built google-images-download\n",
            "Installing collected packages: selenium, google-images-download\n",
            "Successfully installed google-images-download-2.8.0 selenium-3.141.0\n"
          ],
          "name": "stdout"
        }
      ]
    },
    {
      "cell_type": "code",
      "metadata": {
        "id": "n2fHXEZDKwnQ",
        "colab_type": "code",
        "colab": {}
      },
      "source": [
        "import requests\n",
        "res = requests.get('https://image.baidu.com/search/acjson?tn=resultjson_com&ipn=rj&ct=201326592&is=&fp=result&queryWord=%E5%91%A8%E5%AD%90%E7%91%9C&cl=2&lm=-1&ie=utf-8&oe=utf-8&adpicid=&st=-1&z=&ic=0&hd=&latest=&copyright=&word=%E5%91%A8%E5%AD%90%E7%91%9C&s=&se=&tab=&width=&height=&face=0&istype=2&qc=&nc=1&fr=&expermode=&force=&pn=120&rn=30&gsm=78&1596254720074=')\n",
        "jd = res.json()"
      ],
      "execution_count": 57,
      "outputs": []
    },
    {
      "cell_type": "code",
      "metadata": {
        "id": "fZ0ta0jXK-4v",
        "colab_type": "code",
        "colab": {
          "base_uri": "https://localhost:8080/",
          "height": 575
        },
        "outputId": "cd8e6d47-96ce-4254-a74c-f73a95640d1c"
      },
      "source": [
        "for img in jd['data']:\n",
        "  print(img.get('middleURL'))"
      ],
      "execution_count": 59,
      "outputs": [
        {
          "output_type": "stream",
          "text": [
            "https://ss1.bdstatic.com/70cFvXSh_Q1YnxGkpoWK1HF6hhy/it/u=1567820363,3385104630&fm=26&gp=0.jpg\n",
            "https://ss0.bdstatic.com/70cFuHSh_Q1YnxGkpoWK1HF6hhy/it/u=3411140151,4185830543&fm=26&gp=0.jpg\n",
            "https://ss2.bdstatic.com/70cFvnSh_Q1YnxGkpoWK1HF6hhy/it/u=3787406153,806792539&fm=26&gp=0.jpg\n",
            "https://ss3.bdstatic.com/70cFv8Sh_Q1YnxGkpoWK1HF6hhy/it/u=2613854485,1060304972&fm=26&gp=0.jpg\n",
            "https://ss1.bdstatic.com/70cFvXSh_Q1YnxGkpoWK1HF6hhy/it/u=3099081977,3023464014&fm=26&gp=0.jpg\n",
            "https://ss1.bdstatic.com/70cFvXSh_Q1YnxGkpoWK1HF6hhy/it/u=1172841971,508307288&fm=26&gp=0.jpg\n",
            "https://ss1.bdstatic.com/70cFuXSh_Q1YnxGkpoWK1HF6hhy/it/u=1301190389,1676481024&fm=26&gp=0.jpg\n",
            "https://ss0.bdstatic.com/70cFuHSh_Q1YnxGkpoWK1HF6hhy/it/u=3179388575,3459569493&fm=26&gp=0.jpg\n",
            "https://ss3.bdstatic.com/70cFv8Sh_Q1YnxGkpoWK1HF6hhy/it/u=1168466272,523798649&fm=26&gp=0.jpg\n",
            "https://ss2.bdstatic.com/70cFvnSh_Q1YnxGkpoWK1HF6hhy/it/u=233302922,623571486&fm=26&gp=0.jpg\n",
            "https://ss2.bdstatic.com/70cFvnSh_Q1YnxGkpoWK1HF6hhy/it/u=2105656513,2237961581&fm=26&gp=0.jpg\n",
            "https://ss1.bdstatic.com/70cFuXSh_Q1YnxGkpoWK1HF6hhy/it/u=2503327950,3119188857&fm=26&gp=0.jpg\n",
            "https://ss3.bdstatic.com/70cFv8Sh_Q1YnxGkpoWK1HF6hhy/it/u=1661040984,1542561303&fm=26&gp=0.jpg\n",
            "https://ss0.bdstatic.com/70cFuHSh_Q1YnxGkpoWK1HF6hhy/it/u=1557074001,2594749321&fm=26&gp=0.jpg\n",
            "https://ss1.bdstatic.com/70cFvXSh_Q1YnxGkpoWK1HF6hhy/it/u=454003043,954019070&fm=26&gp=0.jpg\n",
            "https://ss3.bdstatic.com/70cFv8Sh_Q1YnxGkpoWK1HF6hhy/it/u=699204762,1936178631&fm=26&gp=0.jpg\n",
            "https://ss2.bdstatic.com/70cFvnSh_Q1YnxGkpoWK1HF6hhy/it/u=20617676,4011735222&fm=26&gp=0.jpg\n",
            "https://ss3.bdstatic.com/70cFv8Sh_Q1YnxGkpoWK1HF6hhy/it/u=1956160826,2363881469&fm=26&gp=0.jpg\n",
            "https://ss0.bdstatic.com/70cFvHSh_Q1YnxGkpoWK1HF6hhy/it/u=1397940719,776625463&fm=26&gp=0.jpg\n",
            "https://ss0.bdstatic.com/70cFvHSh_Q1YnxGkpoWK1HF6hhy/it/u=19179316,401550518&fm=26&gp=0.jpg\n",
            "https://ss1.bdstatic.com/70cFuXSh_Q1YnxGkpoWK1HF6hhy/it/u=1224787567,1331294110&fm=26&gp=0.jpg\n",
            "https://ss3.bdstatic.com/70cFv8Sh_Q1YnxGkpoWK1HF6hhy/it/u=2680125868,3608826969&fm=26&gp=0.jpg\n",
            "https://ss0.bdstatic.com/70cFuHSh_Q1YnxGkpoWK1HF6hhy/it/u=1236634181,579797117&fm=26&gp=0.jpg\n",
            "https://ss2.bdstatic.com/70cFvnSh_Q1YnxGkpoWK1HF6hhy/it/u=1513246335,3445315761&fm=26&gp=0.jpg\n",
            "https://ss0.bdstatic.com/70cFvHSh_Q1YnxGkpoWK1HF6hhy/it/u=1696733137,3053231895&fm=26&gp=0.jpg\n",
            "https://ss2.bdstatic.com/70cFvnSh_Q1YnxGkpoWK1HF6hhy/it/u=1411786652,3884197798&fm=26&gp=0.jpg\n",
            "https://ss2.bdstatic.com/70cFvnSh_Q1YnxGkpoWK1HF6hhy/it/u=1860758622,3611099286&fm=26&gp=0.jpg\n",
            "https://ss1.bdstatic.com/70cFuXSh_Q1YnxGkpoWK1HF6hhy/it/u=704769937,3097629358&fm=26&gp=0.jpg\n",
            "https://ss1.bdstatic.com/70cFvXSh_Q1YnxGkpoWK1HF6hhy/it/u=2456151915,465507442&fm=26&gp=0.jpg\n",
            "https://ss0.bdstatic.com/70cFuHSh_Q1YnxGkpoWK1HF6hhy/it/u=582543481,3814509403&fm=26&gp=0.jpg\n",
            "None\n"
          ],
          "name": "stdout"
        }
      ]
    },
    {
      "cell_type": "code",
      "metadata": {
        "id": "eaBhTssUNKAz",
        "colab_type": "code",
        "colab": {}
      },
      "source": [
        "def getPicture(path, url):\n",
        "  res = requests.get(url)\n",
        "  with open('{}/{}.jpg'.format(path, url.split('u=')[1].split('&')[0]) , 'wb') as f:\n",
        "    f.write(res.content)"
      ],
      "execution_count": 75,
      "outputs": []
    },
    {
      "cell_type": "code",
      "metadata": {
        "id": "JCXIXFU1Oc_n",
        "colab_type": "code",
        "colab": {}
      },
      "source": [
        "baidu_url = 'https://image.baidu.com/search/acjson?tn=resultjson_com&ipn=rj&ct=201326592&is=&fp=result&queryWord={}&cl=2&lm=-1&ie=utf-8&oe=utf-8&adpicid=&st=-1&z=&ic=0&hd=&latest=&copyright=&word={}&s=&se=&tab=&width=&height=&face=0&istype=2&qc=&nc=1&fr=&expermode=&force=&pn={}&rn=30&gsm=78&1596254720074='\n",
        "def getIdolImage(path, term, pagenum):\n",
        "  if not os.path.exists(path):\n",
        "    os.mkdir(path)\n",
        "  for p in range(pagenum):\n",
        "    res = requests.get(baidu_url.format(term, term, pagenum * 30))\n",
        "    jd = res.json()\n",
        "    for img in jd['data']:\n",
        "      if img.get('middleURL'):\n",
        "        getPicture(path, img.get('middleURL'))"
      ],
      "execution_count": 85,
      "outputs": []
    },
    {
      "cell_type": "code",
      "metadata": {
        "id": "pk7SHZypNojg",
        "colab_type": "code",
        "colab": {}
      },
      "source": [
        "getIdolImage('zhiyu/', '周子瑜' , 5)"
      ],
      "execution_count": 80,
      "outputs": []
    },
    {
      "cell_type": "code",
      "metadata": {
        "id": "2xJ3suNMN9Ik",
        "colab_type": "code",
        "colab": {
          "base_uri": "https://localhost:8080/",
          "height": 35
        },
        "outputId": "b29d50af-faad-4476-db5c-1fc363703833"
      },
      "source": [
        "! ls zhiyu | wc -l "
      ],
      "execution_count": 81,
      "outputs": [
        {
          "output_type": "stream",
          "text": [
            "60\n"
          ],
          "name": "stdout"
        }
      ]
    },
    {
      "cell_type": "code",
      "metadata": {
        "id": "WJ-iecBYQzjE",
        "colab_type": "code",
        "colab": {}
      },
      "source": [
        "#! zip -r zhiyu zhiyu/*"
      ],
      "execution_count": 83,
      "outputs": []
    },
    {
      "cell_type": "code",
      "metadata": {
        "id": "dRUacwJtP5Ca",
        "colab_type": "code",
        "colab": {}
      },
      "source": [
        "getIdolImage('ning/', '张钧甯' , 3)"
      ],
      "execution_count": 86,
      "outputs": []
    },
    {
      "cell_type": "code",
      "metadata": {
        "id": "x8Xok2FxR3Kd",
        "colab_type": "code",
        "colab": {
          "base_uri": "https://localhost:8080/",
          "height": 35
        },
        "outputId": "393569ad-daf1-43d9-c6c7-a0acb0e4b9af"
      },
      "source": [
        "! ls ning | wc -l "
      ],
      "execution_count": 87,
      "outputs": [
        {
          "output_type": "stream",
          "text": [
            "42\n"
          ],
          "name": "stdout"
        }
      ]
    },
    {
      "cell_type": "code",
      "metadata": {
        "id": "cB-r8YzJSb5v",
        "colab_type": "code",
        "colab": {
          "base_uri": "https://localhost:8080/",
          "height": 745
        },
        "outputId": "972c4b94-081e-4fe2-cfac-178fa9b1c270"
      },
      "source": [
        "! zip -r ning ning/*"
      ],
      "execution_count": 90,
      "outputs": [
        {
          "output_type": "stream",
          "text": [
            "  adding: ning/1065940236,2351591012.jpg (deflated 0%)\n",
            "  adding: ning/117487481,2001023976.jpg (deflated 0%)\n",
            "  adding: ning/1239906645,868325344.jpg (deflated 1%)\n",
            "  adding: ning/1493146964,2499526578.jpg (deflated 0%)\n",
            "  adding: ning/152228759,3566698306.jpg (deflated 1%)\n",
            "  adding: ning/1573792175,2613165350.jpg (deflated 0%)\n",
            "  adding: ning/1646717786,1639568989.jpg (deflated 0%)\n",
            "  adding: ning/172371035,3960180157.jpg (deflated 0%)\n",
            "  adding: ning/1734073644,3223955364.jpg (deflated 0%)\n",
            "  adding: ning/1842543233,2727112240.jpg (deflated 0%)\n",
            "  adding: ning/1937391276,937684927.jpg (deflated 1%)\n",
            "  adding: ning/197619559,1490231874.jpg (deflated 0%)\n",
            "  adding: ning/1999564752,1903942571.jpg (deflated 0%)\n",
            "  adding: ning/2041533341,2193964909.jpg (deflated 1%)\n",
            "  adding: ning/2046783697,3406947282.jpg (deflated 0%)\n",
            "  adding: ning/2061875557,3123840972.jpg (deflated 0%)\n",
            "  adding: ning/2120474464,4004767592.jpg (deflated 1%)\n",
            "  adding: ning/2168206564,2859682620.jpg (deflated 0%)\n",
            "  adding: ning/2375577781,2261156386.jpg (deflated 0%)\n",
            "  adding: ning/2395011105,360633879.jpg (deflated 0%)\n",
            "  adding: ning/2457959942,2202425175.jpg (deflated 0%)\n",
            "  adding: ning/2493992383,708737935.jpg (deflated 0%)\n",
            "  adding: ning/2572032446,2104457330.jpg (deflated 0%)\n",
            "  adding: ning/2703553773,1996457493.jpg (deflated 0%)\n",
            "  adding: ning/2714594326,3145076232.jpg (deflated 0%)\n",
            "  adding: ning/2739400642,4250035495.jpg (deflated 0%)\n",
            "  adding: ning/2835438845,120045893.jpg (deflated 1%)\n",
            "  adding: ning/2854720631,4146832843.jpg (deflated 1%)\n",
            "  adding: ning/2961304486,1617044670.jpg (deflated 1%)\n",
            "  adding: ning/3010524212,3010442068.jpg (deflated 0%)\n",
            "  adding: ning/3200418576,1451901111.jpg (deflated 0%)\n",
            "  adding: ning/3287347096,105019882.jpg (deflated 0%)\n",
            "  adding: ning/3369949294,3486261503.jpg (deflated 0%)\n",
            "  adding: ning/3378875149,1850555883.jpg (deflated 0%)\n",
            "  adding: ning/344389930,2245736323.jpg (deflated 0%)\n",
            "  adding: ning/3521987315,1642553320.jpg (deflated 2%)\n",
            "  adding: ning/3532879410,127821290.jpg (deflated 0%)\n",
            "  adding: ning/3551408317,3702991052.jpg (deflated 1%)\n",
            "  adding: ning/3666306908,2026226667.jpg (deflated 3%)\n",
            "  adding: ning/3687413769,3723955991.jpg (deflated 0%)\n",
            "  adding: ning/3730980436,3869431942.jpg (deflated 0%)\n",
            "  adding: ning/3784597767,1989884491.jpg (deflated 1%)\n"
          ],
          "name": "stdout"
        }
      ]
    },
    {
      "cell_type": "code",
      "metadata": {
        "id": "Q-L2LhJeRRkQ",
        "colab_type": "code",
        "colab": {}
      },
      "source": [
        "getIdolImage('gem/', '邓紫棋' , 5)"
      ],
      "execution_count": 92,
      "outputs": []
    },
    {
      "cell_type": "code",
      "metadata": {
        "id": "ssVp22ILR7xc",
        "colab_type": "code",
        "colab": {
          "base_uri": "https://localhost:8080/",
          "height": 35
        },
        "outputId": "931d4fe7-0221-40b7-f1cb-7e9fe010258d"
      },
      "source": [
        "! ls gem | wc -l "
      ],
      "execution_count": 89,
      "outputs": [
        {
          "output_type": "stream",
          "text": [
            "30\n"
          ],
          "name": "stdout"
        }
      ]
    },
    {
      "cell_type": "code",
      "metadata": {
        "id": "qKSGwWXxSY3G",
        "colab_type": "code",
        "colab": {
          "base_uri": "https://localhost:8080/",
          "height": 537
        },
        "outputId": "501f5cf4-617f-41f7-e809-8d584cdc061a"
      },
      "source": [
        "! zip -r gem gem/*"
      ],
      "execution_count": 91,
      "outputs": [
        {
          "output_type": "stream",
          "text": [
            "  adding: gem/1074790825,3831576924.jpg (deflated 1%)\n",
            "  adding: gem/1132653501,460162930.jpg (deflated 10%)\n",
            "  adding: gem/1449541942,4162565655.jpg (deflated 1%)\n",
            "  adding: gem/1452570317,2896188268.jpg (deflated 1%)\n",
            "  adding: gem/1553225710,839417953.jpg (deflated 1%)\n",
            "  adding: gem/16594607,2187333941.jpg (deflated 2%)\n",
            "  adding: gem/1664999240,2187919217.jpg (deflated 2%)\n",
            "  adding: gem/1741176069,1051871524.jpg (deflated 1%)\n",
            "  adding: gem/17458926,2876790909.jpg (deflated 1%)\n",
            "  adding: gem/1892754062,3320541358.jpg (deflated 1%)\n",
            "  adding: gem/2026922150,4291128020.jpg (deflated 1%)\n",
            "  adding: gem/2224578055,3035195458.jpg (deflated 0%)\n",
            "  adding: gem/2335261809,330657283.jpg (deflated 1%)\n",
            "  adding: gem/2347208693,2920585813.jpg (deflated 1%)\n",
            "  adding: gem/2374124418,4276775839.jpg (deflated 1%)\n",
            "  adding: gem/2474034278,3647391850.jpg (deflated 0%)\n",
            "  adding: gem/2486844804,259761539.jpg (deflated 0%)\n",
            "  adding: gem/2487592806,3345569403.jpg (deflated 1%)\n",
            "  adding: gem/2646048027,3924449655.jpg (deflated 3%)\n",
            "  adding: gem/2709643330,2713621223.jpg (deflated 1%)\n",
            "  adding: gem/2764717649,1739393314.jpg (deflated 0%)\n",
            "  adding: gem/2820594756,3985822970.jpg (deflated 2%)\n",
            "  adding: gem/29481696,1919139868.jpg (deflated 0%)\n",
            "  adding: gem/2949598579,917129892.jpg (deflated 0%)\n",
            "  adding: gem/2980494825,2574665269.jpg (deflated 3%)\n",
            "  adding: gem/3255164313,3695823897.jpg (deflated 1%)\n",
            "  adding: gem/3301912440,1319011569.jpg (deflated 0%)\n",
            "  adding: gem/363840027,3349415327.jpg (deflated 0%)\n",
            "  adding: gem/3727550384,4151365658.jpg (deflated 2%)\n",
            "  adding: gem/4290127736,2174833895.jpg (deflated 14%)\n"
          ],
          "name": "stdout"
        }
      ]
    },
    {
      "cell_type": "markdown",
      "metadata": {
        "id": "8Y4z8XBUjV56",
        "colab_type": "text"
      },
      "source": [
        "### 使用opencv擷取臉部資訊"
      ]
    },
    {
      "cell_type": "code",
      "metadata": {
        "id": "4I_MpiKySkgz",
        "colab_type": "code",
        "colab": {}
      },
      "source": [
        "import cv2 as cv"
      ],
      "execution_count": 1,
      "outputs": []
    },
    {
      "cell_type": "code",
      "metadata": {
        "id": "KKtH-wmOjbut",
        "colab_type": "code",
        "colab": {}
      },
      "source": [
        "import requests\n",
        "res = requests.get('https://upload.wikimedia.org/wikipedia/commons/thumb/c/cd/Chou_Tzuyu_at_the_Golden_Disc_Awards_2019.png/220px-Chou_Tzuyu_at_the_Golden_Disc_Awards_2019.png')"
      ],
      "execution_count": 2,
      "outputs": []
    },
    {
      "cell_type": "code",
      "metadata": {
        "id": "ha53Z6WKjgus",
        "colab_type": "code",
        "colab": {}
      },
      "source": [
        "with open('zhiyu_test.png' ,'wb') as f:\n",
        "  f.write(res.content)"
      ],
      "execution_count": 3,
      "outputs": []
    },
    {
      "cell_type": "code",
      "metadata": {
        "id": "KAqkCoZojj-L",
        "colab_type": "code",
        "colab": {
          "base_uri": "https://localhost:8080/",
          "height": 287
        },
        "outputId": "e8aed7b2-8530-45a9-a5a2-1d78dc6a59ea"
      },
      "source": [
        "from PIL import Image\n",
        "img = Image.open('zhiyu_test.png')\n",
        "img"
      ],
      "execution_count": 14,
      "outputs": [
        {
          "output_type": "execute_result",
          "data": {
            "image/png": "[encoded data removed]",
            "text/plain": [
              "<PIL.PngImagePlugin.PngImageFile image mode=RGBA size=220x270 at 0x7F0BF0B08160>"
            ]
          },
          "metadata": {
            "tags": []
          },
          "execution_count": 14
        }
      ]
    },
    {
      "cell_type": "code",
      "metadata": {
        "id": "V2YxslKdjoNL",
        "colab_type": "code",
        "colab": {
          "base_uri": "https://localhost:8080/",
          "height": 228
        },
        "outputId": "ab650d77-438c-4ee7-ccee-2be7120babac"
      },
      "source": [
        "! wget https://raw.githubusercontent.com/opencv/opencv/master/data/haarcascades/haarcascade_frontalface_default.xml"
      ],
      "execution_count": 7,
      "outputs": [
        {
          "output_type": "stream",
          "text": [
            "--2020-08-01 05:49:27--  https://raw.githubusercontent.com/opencv/opencv/master/data/haarcascades/haarcascade_frontalface_default.xml\n",
            "Resolving raw.githubusercontent.com (raw.githubusercontent.com)... 151.101.0.133, 151.101.64.133, 151.101.128.133, ...\n",
            "Connecting to raw.githubusercontent.com (raw.githubusercontent.com)|151.101.0.133|:443... connected.\n",
            "HTTP request sent, awaiting response... 200 OK\n",
            "Length: 930127 (908K) [text/plain]\n",
            "Saving to: ‘haarcascade_frontalface_default.xml’\n",
            "\n",
            "\r          haarcasca   0%[                    ]       0  --.-KB/s               \rhaarcascade_frontal 100%[===================>] 908.33K  --.-KB/s    in 0.1s    \n",
            "\n",
            "2020-08-01 05:49:27 (7.49 MB/s) - ‘haarcascade_frontalface_default.xml’ saved [930127/930127]\n",
            "\n"
          ],
          "name": "stdout"
        }
      ]
    },
    {
      "cell_type": "code",
      "metadata": {
        "id": "fP7BShsrkV_o",
        "colab_type": "code",
        "colab": {
          "base_uri": "https://localhost:8080/",
          "height": 35
        },
        "outputId": "1b35690e-3d2e-4fcb-f15a-7432413e65f7"
      },
      "source": [
        "im = cv.imread('zhiyu_test.png')\n",
        "im.shape"
      ],
      "execution_count": 15,
      "outputs": [
        {
          "output_type": "execute_result",
          "data": {
            "text/plain": [
              "(270, 220, 3)"
            ]
          },
          "metadata": {
            "tags": []
          },
          "execution_count": 15
        }
      ]
    },
    {
      "cell_type": "code",
      "metadata": {
        "id": "24iDiKcakgLX",
        "colab_type": "code",
        "colab": {
          "base_uri": "https://localhost:8080/",
          "height": 35
        },
        "outputId": "45e161ec-3e08-43ef-bdd3-107238d10a73"
      },
      "source": [
        "face_cascade = cv.CascadeClassifier('haarcascade_frontalface_default.xml')\n",
        "faces = face_cascade.detectMultiScale(im, 1.3, 5)\n",
        "faces"
      ],
      "execution_count": 17,
      "outputs": [
        {
          "output_type": "execute_result",
          "data": {
            "text/plain": [
              "array([[82, 60, 76, 76]], dtype=int32)"
            ]
          },
          "metadata": {
            "tags": []
          },
          "execution_count": 17
        }
      ]
    },
    {
      "cell_type": "code",
      "metadata": {
        "id": "mrT48jImktfV",
        "colab_type": "code",
        "colab": {}
      },
      "source": [
        "x,y,w,h = faces[0]"
      ],
      "execution_count": 18,
      "outputs": []
    },
    {
      "cell_type": "code",
      "metadata": {
        "id": "diY1hIBak5vF",
        "colab_type": "code",
        "colab": {
          "base_uri": "https://localhost:8080/",
          "height": 81
        },
        "outputId": "8bdb98df-3cb4-40cf-adc2-45fe7eee8498"
      },
      "source": [
        "box     = (x, y, x+w, y+h)\n",
        "crpim   = img.crop(box).resize((64,64))\n",
        "crpim"
      ],
      "execution_count": 19,
      "outputs": [
        {
          "output_type": "execute_result",
          "data": {
            "image/png": "[encoded data removed]",
            "text/plain": [
              "<PIL.Image.Image image mode=RGBA size=64x64 at 0x7F0BEFCE0DD8>"
            ]
          },
          "metadata": {
            "tags": []
          },
          "execution_count": 19
        }
      ]
    },
    {
      "cell_type": "code",
      "metadata": {
        "id": "pFPx_eAklNaz",
        "colab_type": "code",
        "colab": {}
      },
      "source": [
        "! unzip ning.zip > ning.log"
      ],
      "execution_count": 20,
      "outputs": []
    },
    {
      "cell_type": "code",
      "metadata": {
        "id": "pGRAylvflkw5",
        "colab_type": "code",
        "colab": {}
      },
      "source": [
        "! unzip gem.zip > gem.log"
      ],
      "execution_count": 21,
      "outputs": []
    },
    {
      "cell_type": "code",
      "metadata": {
        "id": "8PM6nLrHlmNx",
        "colab_type": "code",
        "colab": {}
      },
      "source": [
        "! unzip zhiyu.zip > zhiyu.log"
      ],
      "execution_count": 22,
      "outputs": []
    },
    {
      "cell_type": "code",
      "metadata": {
        "id": "UUAq9HreloUB",
        "colab_type": "code",
        "colab": {}
      },
      "source": [
        "import os\n",
        "def cropIdolFace(src, dest):\n",
        "    if not os.path.exists(dest):\n",
        "        os.mkdir(dest)\n",
        "    for filename in os.listdir(src):\n",
        "        img = cv.imread(src + filename)\n",
        "        faces = face_cascade.detectMultiScale(img, 1.3, 5)\n",
        "        if len(faces) == 1:\n",
        "          try:\n",
        "            im      = Image.open(src + filename)\n",
        "            x,y,w,h = faces[0]\n",
        "            box     = (x, y, x+w, y+h)\n",
        "            crpim   = im.crop(box).resize((64,64))\n",
        "            crpim.save(dest + filename)\n",
        "          except:\n",
        "            pass"
      ],
      "execution_count": 28,
      "outputs": []
    },
    {
      "cell_type": "code",
      "metadata": {
        "id": "EmcH-_LFmCuA",
        "colab_type": "code",
        "colab": {}
      },
      "source": [
        "cropIdolFace('zhiyu/', 'zhiyu_face/')"
      ],
      "execution_count": 26,
      "outputs": []
    },
    {
      "cell_type": "code",
      "metadata": {
        "id": "IlXJk-bLmEjP",
        "colab_type": "code",
        "colab": {}
      },
      "source": [
        "cropIdolFace('ning/', 'ning_face/')"
      ],
      "execution_count": 29,
      "outputs": []
    },
    {
      "cell_type": "code",
      "metadata": {
        "id": "tNRJtsS9mOM-",
        "colab_type": "code",
        "colab": {}
      },
      "source": [
        "cropIdolFace('gem/', 'gem_face/')"
      ],
      "execution_count": 30,
      "outputs": []
    },
    {
      "cell_type": "code",
      "metadata": {
        "id": "R2kcKOZpmXl-",
        "colab_type": "code",
        "colab": {}
      },
      "source": [
        "! zip -r zhiyu_face zhiyu_face/*\n",
        "! zip -r ning_face ning_face/*\n",
        "! zip -r gem_face gem_face/*"
      ],
      "execution_count": null,
      "outputs": []
    },
    {
      "cell_type": "code",
      "metadata": {
        "id": "M4D2yyVFmj6t",
        "colab_type": "code",
        "colab": {}
      },
      "source": [
        "! unzip faceset.zip"
      ],
      "execution_count": null,
      "outputs": []
    },
    {
      "cell_type": "markdown",
      "metadata": {
        "id": "3S2wZQ57nnwO",
        "colab_type": "text"
      },
      "source": [
        "### 使用 CNN 建立人臉識別模型"
      ]
    },
    {
      "cell_type": "code",
      "metadata": {
        "id": "BpiXsOZUnbOq",
        "colab_type": "code",
        "colab": {}
      },
      "source": [
        "% tensorflow_version 2.x"
      ],
      "execution_count": 33,
      "outputs": []
    },
    {
      "cell_type": "code",
      "metadata": {
        "id": "4AkhG-KEnq3m",
        "colab_type": "code",
        "colab": {}
      },
      "source": [
        "import tensorflow as tf\n",
        "from tensorflow.keras.models import Sequential\n",
        "from tensorflow.keras.layers import Dense, Conv2D, MaxPooling2D, Flatten,Dropout\n",
        "# Initialising the CNN\n",
        "classifier = Sequential()\n",
        "\n",
        "# Convolution\n",
        "classifier.add(Conv2D(filters=32, \n",
        "           kernel_size=(3, 3),                                    padding = 'same',\n",
        "           input_shape = (64, 64, 3),\n",
        "           activation = 'relu'))\n",
        "\n",
        "# Max Pooling\n",
        "classifier.add(MaxPooling2D(pool_size = (2, 2)))\n",
        "\n",
        "# Convolution\n",
        "classifier.add(Conv2D(filters=32, \n",
        "          kernel_size=(3, 3), \n",
        "          padding = 'same', \n",
        "          activation = 'relu'))\n",
        "\n",
        "# Max Pooling\n",
        "classifier.add(MaxPooling2D(pool_size = (2, 2)))\n",
        "\n",
        "# Flattening\n",
        "classifier.add(Flatten())\n",
        "\n",
        "# Fully Connected\n",
        "classifier.add(Dense(units = 128, activation = 'relu')) \n",
        "classifier.add(Dropout(rate=0.1)) \n",
        "classifier.add(Dense(units = 128, activation = 'relu')) \n",
        "classifier.add(Dropout(rate=0.1)) \n",
        "classifier.add(Dense(units = 3, activation = 'softmax'))"
      ],
      "execution_count": 65,
      "outputs": []
    },
    {
      "cell_type": "code",
      "metadata": {
        "id": "dCvyS_ugo-rU",
        "colab_type": "code",
        "colab": {
          "base_uri": "https://localhost:8080/",
          "height": 503
        },
        "outputId": "6c85266a-74d4-4938-8cba-33292fa6f0a5"
      },
      "source": [
        "classifier.summary()"
      ],
      "execution_count": 66,
      "outputs": [
        {
          "output_type": "stream",
          "text": [
            "Model: \"sequential_4\"\n",
            "_________________________________________________________________\n",
            "Layer (type)                 Output Shape              Param #   \n",
            "=================================================================\n",
            "conv2d_6 (Conv2D)            (None, 64, 64, 32)        896       \n",
            "_________________________________________________________________\n",
            "max_pooling2d_4 (MaxPooling2 (None, 32, 32, 32)        0         \n",
            "_________________________________________________________________\n",
            "conv2d_7 (Conv2D)            (None, 32, 32, 32)        9248      \n",
            "_________________________________________________________________\n",
            "max_pooling2d_5 (MaxPooling2 (None, 16, 16, 32)        0         \n",
            "_________________________________________________________________\n",
            "flatten_2 (Flatten)          (None, 8192)              0         \n",
            "_________________________________________________________________\n",
            "dense_4 (Dense)              (None, 128)               1048704   \n",
            "_________________________________________________________________\n",
            "dropout_2 (Dropout)          (None, 128)               0         \n",
            "_________________________________________________________________\n",
            "dense_5 (Dense)              (None, 128)               16512     \n",
            "_________________________________________________________________\n",
            "dropout_3 (Dropout)          (None, 128)               0         \n",
            "_________________________________________________________________\n",
            "dense_6 (Dense)              (None, 3)                 387       \n",
            "=================================================================\n",
            "Total params: 1,075,747\n",
            "Trainable params: 1,075,747\n",
            "Non-trainable params: 0\n",
            "_________________________________________________________________\n"
          ],
          "name": "stdout"
        }
      ]
    },
    {
      "cell_type": "code",
      "metadata": {
        "id": "gHe9ZadxpXvv",
        "colab_type": "code",
        "colab": {}
      },
      "source": [
        "classifier.compile(optimizer = 'adam', \n",
        "          loss ='categorical_crossentropy', \n",
        "          metrics = ['accuracy'])"
      ],
      "execution_count": 67,
      "outputs": []
    },
    {
      "cell_type": "markdown",
      "metadata": {
        "id": "ruHsWji3prne",
        "colab_type": "text"
      },
      "source": [
        "### 圖像增廣技術"
      ]
    },
    {
      "cell_type": "code",
      "metadata": {
        "id": "T9qCahCupiJ9",
        "colab_type": "code",
        "colab": {}
      },
      "source": [
        "train_datagen = tf.keras.preprocessing.image.ImageDataGenerator(\n",
        "           rescale = 1./255,\n",
        "           shear_range = 0.2,     #x坐标保持不变，而对应的y坐标按比例发生平移\n",
        "           zoom_range = 0.2,      #可以让图片在长或宽的方向进行放大\n",
        "           horizontal_flip = True #水平翻转操作\n",
        "         )"
      ],
      "execution_count": 68,
      "outputs": []
    },
    {
      "cell_type": "code",
      "metadata": {
        "id": "Nc_jpSgBp4iM",
        "colab_type": "code",
        "colab": {}
      },
      "source": [
        "test_datagen = tf.keras.preprocessing.image.ImageDataGenerator(rescale = 1./255)"
      ],
      "execution_count": 69,
      "outputs": []
    },
    {
      "cell_type": "code",
      "metadata": {
        "id": "NoTHCY2Ep-Ac",
        "colab_type": "code",
        "colab": {}
      },
      "source": [
        "import os\n",
        "if not os.path.exists('train/'):\n",
        "    os.mkdir('train/')\n",
        "if not os.path.exists('test/'):\n",
        "    os.mkdir('test/')"
      ],
      "execution_count": 47,
      "outputs": []
    },
    {
      "cell_type": "code",
      "metadata": {
        "id": "bB63E1V1qnZg",
        "colab_type": "code",
        "colab": {}
      },
      "source": [
        "! rm -rf zhiyu_face ning_face gem_face"
      ],
      "execution_count": 50,
      "outputs": []
    },
    {
      "cell_type": "code",
      "metadata": {
        "id": "sgDe4eeoqdT7",
        "colab_type": "code",
        "colab": {}
      },
      "source": [
        "! unzip faceset.zip"
      ],
      "execution_count": null,
      "outputs": []
    },
    {
      "cell_type": "code",
      "metadata": {
        "id": "5sZpRAMZqflf",
        "colab_type": "code",
        "colab": {}
      },
      "source": [
        "! mv faceset/gem_face ./\n",
        "! mv faceset/ning_face ./\n",
        "! mv faceset/zhiyu_face ./"
      ],
      "execution_count": 53,
      "outputs": []
    },
    {
      "cell_type": "code",
      "metadata": {
        "id": "qEQ68KAtqEc6",
        "colab_type": "code",
        "colab": {}
      },
      "source": [
        "import os\n",
        "from sklearn.model_selection import train_test_split\n",
        "\n",
        "def splitDataset(dirs):\n",
        "    dataset = list(os.listdir(dirs))\n",
        "    train_data, test_data = train_test_split(dataset, test_size= 0.33, random_state = 42)\n",
        "    \n",
        "    if not os.path.exists('train/'+dirs):\n",
        "        os.mkdir('train/'+dirs)\n",
        "    if not os.path.exists('test/'+dirs):\n",
        "        os.mkdir('test/'+dirs)\n",
        "\n",
        "    for f in train_data:\n",
        "        os.rename(dirs + f, 'train/'+ dirs + f)\n",
        "    for f in test_data:\n",
        "        os.rename(dirs + f, 'test/' + dirs +f)"
      ],
      "execution_count": 70,
      "outputs": []
    },
    {
      "cell_type": "code",
      "metadata": {
        "id": "6i4FRVtvqW9K",
        "colab_type": "code",
        "colab": {}
      },
      "source": [
        "splitDataset('zhiyu_face/')"
      ],
      "execution_count": 55,
      "outputs": []
    },
    {
      "cell_type": "code",
      "metadata": {
        "id": "xNIRugCkrD6o",
        "colab_type": "code",
        "colab": {}
      },
      "source": [
        "splitDataset('ning_face/')"
      ],
      "execution_count": 56,
      "outputs": []
    },
    {
      "cell_type": "code",
      "metadata": {
        "id": "0-G0OK8OrF12",
        "colab_type": "code",
        "colab": {}
      },
      "source": [
        "splitDataset('gem_face/')"
      ],
      "execution_count": 57,
      "outputs": []
    },
    {
      "cell_type": "code",
      "metadata": {
        "id": "fPstWhLyrHpl",
        "colab_type": "code",
        "colab": {
          "base_uri": "https://localhost:8080/",
          "height": 35
        },
        "outputId": "76a04ba8-8991-4003-972d-a3aa8f999472"
      },
      "source": [
        "training_set = train_datagen.flow_from_directory(\n",
        "    'train/', target_size = (64, 64),\n",
        "     batch_size = 16,\n",
        "     class_mode = 'categorical')"
      ],
      "execution_count": 71,
      "outputs": [
        {
          "output_type": "stream",
          "text": [
            "Found 55 images belonging to 3 classes.\n"
          ],
          "name": "stdout"
        }
      ]
    },
    {
      "cell_type": "code",
      "metadata": {
        "id": "2XZOeAI0rTf1",
        "colab_type": "code",
        "colab": {
          "base_uri": "https://localhost:8080/",
          "height": 35
        },
        "outputId": "69363ee1-ee39-4afd-c364-820c068f80bd"
      },
      "source": [
        "test_set = test_datagen.flow_from_directory(\n",
        "    'test/', target_size = (64, 64),\n",
        "    batch_size = 16, \n",
        "    class_mode = 'categorical')"
      ],
      "execution_count": 72,
      "outputs": [
        {
          "output_type": "stream",
          "text": [
            "Found 28 images belonging to 3 classes.\n"
          ],
          "name": "stdout"
        }
      ]
    },
    {
      "cell_type": "code",
      "metadata": {
        "id": "F2jYjWRwrWZU",
        "colab_type": "code",
        "colab": {}
      },
      "source": [
        "history = classifier.fit_generator(training_set,\n",
        "                  epochs=100,\n",
        "                  verbose = 1,\n",
        "                  validation_data = test_set)"
      ],
      "execution_count": null,
      "outputs": []
    },
    {
      "cell_type": "markdown",
      "metadata": {
        "id": "JFtoA9rxs5-j",
        "colab_type": "text"
      },
      "source": [
        "### 驗證模型"
      ]
    },
    {
      "cell_type": "code",
      "metadata": {
        "id": "BfghOJKGrsWz",
        "colab_type": "code",
        "colab": {}
      },
      "source": [
        "import requests\n",
        "res = requests.get('https://upload.wikimedia.org/wikipedia/commons/thumb/c/cd/Chou_Tzuyu_at_the_Golden_Disc_Awards_2019.png/220px-Chou_Tzuyu_at_the_Golden_Disc_Awards_2019.png')"
      ],
      "execution_count": 75,
      "outputs": []
    },
    {
      "cell_type": "code",
      "metadata": {
        "id": "NU5dBgncs-9N",
        "colab_type": "code",
        "colab": {
          "base_uri": "https://localhost:8080/",
          "height": 287
        },
        "outputId": "d220c8fc-e7f7-44e8-8c72-6f12eb6f3c98"
      },
      "source": [
        "from PIL import Image\n",
        "img = Image.open('zhiyu_test.png')\n",
        "img"
      ],
      "execution_count": 76,
      "outputs": [
        {
          "output_type": "execute_result",
          "data": {
            "image/png": "[encoded data removed]",
            "text/plain": [
              "<PIL.PngImagePlugin.PngImageFile image mode=RGBA size=220x270 at 0x7F0B9677FFD0>"
            ]
          },
          "metadata": {
            "tags": []
          },
          "execution_count": 76
        }
      ]
    },
    {
      "cell_type": "code",
      "metadata": {
        "id": "1Qid2u2KtFUM",
        "colab_type": "code",
        "colab": {
          "base_uri": "https://localhost:8080/",
          "height": 35
        },
        "outputId": "88ef0566-1ec5-48ba-834d-99ee88109ed0"
      },
      "source": [
        "im = cv.imread('zhiyu_test.png')\n",
        "im.shape"
      ],
      "execution_count": 77,
      "outputs": [
        {
          "output_type": "execute_result",
          "data": {
            "text/plain": [
              "(270, 220, 3)"
            ]
          },
          "metadata": {
            "tags": []
          },
          "execution_count": 77
        }
      ]
    },
    {
      "cell_type": "code",
      "metadata": {
        "id": "hG9_1TK2tF99",
        "colab_type": "code",
        "colab": {
          "base_uri": "https://localhost:8080/",
          "height": 35
        },
        "outputId": "672d90b8-3715-41c9-e73f-141695c65ae7"
      },
      "source": [
        "face_cascade = cv.CascadeClassifier('haarcascade_frontalface_default.xml')\n",
        "faces = face_cascade.detectMultiScale(im, 1.3, 5)\n",
        "faces"
      ],
      "execution_count": 78,
      "outputs": [
        {
          "output_type": "execute_result",
          "data": {
            "text/plain": [
              "array([[82, 60, 76, 76]], dtype=int32)"
            ]
          },
          "metadata": {
            "tags": []
          },
          "execution_count": 78
        }
      ]
    },
    {
      "cell_type": "code",
      "metadata": {
        "id": "5vXw7nJYtI3N",
        "colab_type": "code",
        "colab": {}
      },
      "source": [
        "x,y,w,h = faces[0]"
      ],
      "execution_count": 79,
      "outputs": []
    },
    {
      "cell_type": "code",
      "metadata": {
        "id": "Wcowh3sbtMCs",
        "colab_type": "code",
        "colab": {
          "base_uri": "https://localhost:8080/",
          "height": 81
        },
        "outputId": "e14eb2df-bb0c-451c-a9f0-fa6079ca74bc"
      },
      "source": [
        "box     = (x, y, x+w, y+h)\n",
        "crpim   = img.crop(box).resize((64,64))\n",
        "crpim"
      ],
      "execution_count": 80,
      "outputs": [
        {
          "output_type": "execute_result",
          "data": {
            "image/png": "[encoded data removed]",
            "text/plain": [
              "<PIL.Image.Image image mode=RGBA size=64x64 at 0x7F0BF2831BA8>"
            ]
          },
          "metadata": {
            "tags": []
          },
          "execution_count": 80
        }
      ]
    },
    {
      "cell_type": "code",
      "metadata": {
        "id": "8hQa6S3dtO48",
        "colab_type": "code",
        "colab": {}
      },
      "source": [
        "crpim.save('predict_face.png')"
      ],
      "execution_count": 83,
      "outputs": []
    },
    {
      "cell_type": "code",
      "metadata": {
        "id": "qvLuLGWJtaSa",
        "colab_type": "code",
        "colab": {
          "base_uri": "https://localhost:8080/",
          "height": 35
        },
        "outputId": "693e0b6c-8f49-493c-d9f6-b23a7f7d5774"
      },
      "source": [
        "\n",
        "import numpy as np\n",
        "from keras.preprocessing import image\n",
        "test_image = image.load_img('predict_face.png', target_size= (64,64))\n",
        "test_image = image.img_to_array(test_image)\n",
        "test_image.shape"
      ],
      "execution_count": 84,
      "outputs": [
        {
          "output_type": "execute_result",
          "data": {
            "text/plain": [
              "(64, 64, 3)"
            ]
          },
          "metadata": {
            "tags": []
          },
          "execution_count": 84
        }
      ]
    },
    {
      "cell_type": "code",
      "metadata": {
        "id": "PtIU32wmtcwK",
        "colab_type": "code",
        "colab": {
          "base_uri": "https://localhost:8080/",
          "height": 35
        },
        "outputId": "68bafc52-db58-4d9e-b42b-51bf828892c1"
      },
      "source": [
        "test_image = np.expand_dims(test_image, axis = 0)\n",
        "test_image.shape"
      ],
      "execution_count": 85,
      "outputs": [
        {
          "output_type": "execute_result",
          "data": {
            "text/plain": [
              "(1, 64, 64, 3)"
            ]
          },
          "metadata": {
            "tags": []
          },
          "execution_count": 85
        }
      ]
    },
    {
      "cell_type": "code",
      "metadata": {
        "id": "Lv6fdjN0tyB6",
        "colab_type": "code",
        "colab": {
          "base_uri": "https://localhost:8080/",
          "height": 107
        },
        "outputId": "8d8f561b-49a9-4018-8c33-788b5d0bfabf"
      },
      "source": [
        "classifier.predict_classes(test_image)"
      ],
      "execution_count": 87,
      "outputs": [
        {
          "output_type": "stream",
          "text": [
            "WARNING:tensorflow:From <ipython-input-87-2bcfe6fa87bc>:1: Sequential.predict_classes (from tensorflow.python.keras.engine.sequential) is deprecated and will be removed after 2021-01-01.\n",
            "Instructions for updating:\n",
            "Please use instead:* `np.argmax(model.predict(x), axis=-1)`,   if your model does multi-class classification   (e.g. if it uses a `softmax` last-layer activation).* `(model.predict(x) > 0.5).astype(\"int32\")`,   if your model does binary classification   (e.g. if it uses a `sigmoid` last-layer activation).\n"
          ],
          "name": "stdout"
        },
        {
          "output_type": "execute_result",
          "data": {
            "text/plain": [
              "array([2])"
            ]
          },
          "metadata": {
            "tags": []
          },
          "execution_count": 87
        }
      ]
    },
    {
      "cell_type": "code",
      "metadata": {
        "id": "dTPDm_fKt64o",
        "colab_type": "code",
        "colab": {
          "base_uri": "https://localhost:8080/",
          "height": 35
        },
        "outputId": "f29f86a8-54a9-4f24-bdcb-f2982523876c"
      },
      "source": [
        "training_set.class_indices"
      ],
      "execution_count": 88,
      "outputs": [
        {
          "output_type": "execute_result",
          "data": {
            "text/plain": [
              "{'gem_face': 0, 'ning_face': 1, 'zhiyu_face': 2}"
            ]
          },
          "metadata": {
            "tags": []
          },
          "execution_count": 88
        }
      ]
    },
    {
      "cell_type": "code",
      "metadata": {
        "id": "75vCl1fruDDo",
        "colab_type": "code",
        "colab": {}
      },
      "source": [
        ""
      ],
      "execution_count": null,
      "outputs": []
    }
  ]
}