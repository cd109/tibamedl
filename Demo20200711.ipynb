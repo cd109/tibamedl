{
  "nbformat": 4,
  "nbformat_minor": 0,
  "metadata": {
    "colab": {
      "name": "Demo20200711.ipynb",
      "provenance": [],
      "collapsed_sections": []
    },
    "kernelspec": {
      "name": "python3",
      "display_name": "Python 3"
    },
    "accelerator": "GPU"
  },
  "cells": [
    {
      "cell_type": "markdown",
      "metadata": {
        "id": "yeQNEjqOpzf8",
        "colab_type": "text"
      },
      "source": [
        "## Python Basic"
      ]
    },
    {
      "cell_type": "code",
      "metadata": {
        "id": "MTZdEnA0pBfZ",
        "colab_type": "code",
        "colab": {
          "base_uri": "https://localhost:8080/",
          "height": 35
        },
        "outputId": "ef474c55-dfcb-400e-aeb1-2199002f35a1"
      },
      "source": [
        "a = 3\n",
        "b = 2\n",
        "a + b"
      ],
      "execution_count": null,
      "outputs": [
        {
          "output_type": "execute_result",
          "data": {
            "text/plain": [
              "5"
            ]
          },
          "metadata": {
            "tags": []
          },
          "execution_count": 2
        }
      ]
    },
    {
      "cell_type": "markdown",
      "metadata": {
        "id": "taL7PDRVrxOm",
        "colab_type": "text"
      },
      "source": [
        "## Python 與資料科學"
      ]
    },
    {
      "cell_type": "markdown",
      "metadata": {
        "id": "M7yxTMw5sL6e",
        "colab_type": "text"
      },
      "source": [
        "### 資料蒐集"
      ]
    },
    {
      "cell_type": "code",
      "metadata": {
        "id": "r1aJ7lHvqUoy",
        "colab_type": "code",
        "colab": {}
      },
      "source": [
        "import pandas\n",
        "dfs = pandas.read_html('https://rate.bot.com.tw/xrt/quote/l6m/USD')"
      ],
      "execution_count": null,
      "outputs": []
    },
    {
      "cell_type": "markdown",
      "metadata": {
        "id": "4Qg0VkEOtBav",
        "colab_type": "text"
      },
      "source": [
        "### 資料清理"
      ]
    },
    {
      "cell_type": "code",
      "metadata": {
        "id": "3ySBmOV9sTyu",
        "colab_type": "code",
        "colab": {}
      },
      "source": [
        "df = dfs[0].iloc[:,[0,2]]"
      ],
      "execution_count": null,
      "outputs": []
    },
    {
      "cell_type": "code",
      "metadata": {
        "id": "M9ArH1FusXW-",
        "colab_type": "code",
        "colab": {}
      },
      "source": [
        "df.columns = ['Date', 'Price']"
      ],
      "execution_count": null,
      "outputs": []
    },
    {
      "cell_type": "code",
      "metadata": {
        "id": "9J0fs0NMse0-",
        "colab_type": "code",
        "colab": {
          "base_uri": "https://localhost:8080/",
          "height": 141
        },
        "outputId": "1e0545e7-bca0-43e5-8c45-03cda30019f6"
      },
      "source": [
        "df['Date'] = pandas.to_datetime(df['Date'], format = \"%Y/%m/%d\")"
      ],
      "execution_count": null,
      "outputs": [
        {
          "output_type": "stream",
          "text": [
            "/usr/local/lib/python3.6/dist-packages/ipykernel_launcher.py:1: SettingWithCopyWarning: \n",
            "A value is trying to be set on a copy of a slice from a DataFrame.\n",
            "Try using .loc[row_indexer,col_indexer] = value instead\n",
            "\n",
            "See the caveats in the documentation: https://pandas.pydata.org/pandas-docs/stable/user_guide/indexing.html#returning-a-view-versus-a-copy\n",
            "  \"\"\"Entry point for launching an IPython kernel.\n"
          ],
          "name": "stderr"
        }
      ]
    },
    {
      "cell_type": "code",
      "metadata": {
        "id": "9mBdoicWsjMe",
        "colab_type": "code",
        "colab": {}
      },
      "source": [
        "df.set_index('Date', drop=True, inplace=True)"
      ],
      "execution_count": null,
      "outputs": []
    },
    {
      "cell_type": "code",
      "metadata": {
        "id": "coKgS8WCsx99",
        "colab_type": "code",
        "colab": {
          "base_uri": "https://localhost:8080/",
          "height": 124
        },
        "outputId": "850747b2-7d9a-4d08-d66e-223a8e149e1f"
      },
      "source": [
        "df.sort_index(inplace=True)"
      ],
      "execution_count": null,
      "outputs": [
        {
          "output_type": "stream",
          "text": [
            "/usr/local/lib/python3.6/dist-packages/ipykernel_launcher.py:1: SettingWithCopyWarning: \n",
            "A value is trying to be set on a copy of a slice from a DataFrame\n",
            "\n",
            "See the caveats in the documentation: https://pandas.pydata.org/pandas-docs/stable/user_guide/indexing.html#returning-a-view-versus-a-copy\n",
            "  \"\"\"Entry point for launching an IPython kernel.\n"
          ],
          "name": "stderr"
        }
      ]
    },
    {
      "cell_type": "markdown",
      "metadata": {
        "id": "eQ3OMQy6tGQ_",
        "colab_type": "text"
      },
      "source": [
        "### 資料視覺化"
      ]
    },
    {
      "cell_type": "code",
      "metadata": {
        "id": "z9bn1aIks_c-",
        "colab_type": "code",
        "colab": {
          "base_uri": "https://localhost:8080/",
          "height": 295
        },
        "outputId": "630bdeda-c2f2-49ea-f16f-dcb7a1b9a641"
      },
      "source": [
        "df.plot(kind = 'line')"
      ],
      "execution_count": null,
      "outputs": [
        {
          "output_type": "execute_result",
          "data": {
            "text/plain": [
              "<matplotlib.axes._subplots.AxesSubplot at 0x7fca651f4f98>"
            ]
          },
          "metadata": {
            "tags": []
          },
          "execution_count": 17
        },
        {
          "output_type": "display_data",
          "data": {
            "image/png": "[encoded data removed]",
            "text/plain": [
              "<Figure size 432x288 with 1 Axes>"
            ]
          },
          "metadata": {
            "tags": [],
            "needs_background": "light"
          }
        }
      ]
    },
    {
      "cell_type": "code",
      "metadata": {
        "id": "eh64JYt6s_zu",
        "colab_type": "code",
        "colab": {
          "base_uri": "https://localhost:8080/",
          "height": 141
        },
        "outputId": "aa61b19f-ed6b-4db9-a1b2-b3422da92fe7"
      },
      "source": [
        "df['ma30'] = df['Price'].rolling(window = 30).mean()"
      ],
      "execution_count": null,
      "outputs": [
        {
          "output_type": "stream",
          "text": [
            "/usr/local/lib/python3.6/dist-packages/ipykernel_launcher.py:1: SettingWithCopyWarning: \n",
            "A value is trying to be set on a copy of a slice from a DataFrame.\n",
            "Try using .loc[row_indexer,col_indexer] = value instead\n",
            "\n",
            "See the caveats in the documentation: https://pandas.pydata.org/pandas-docs/stable/user_guide/indexing.html#returning-a-view-versus-a-copy\n",
            "  \"\"\"Entry point for launching an IPython kernel.\n"
          ],
          "name": "stderr"
        }
      ]
    },
    {
      "cell_type": "code",
      "metadata": {
        "id": "w029dElXtVZv",
        "colab_type": "code",
        "colab": {
          "base_uri": "https://localhost:8080/",
          "height": 295
        },
        "outputId": "04ca3a61-ba92-4d7a-a773-6b76da806c0d"
      },
      "source": [
        "df.plot(kind = 'line')"
      ],
      "execution_count": null,
      "outputs": [
        {
          "output_type": "execute_result",
          "data": {
            "text/plain": [
              "<matplotlib.axes._subplots.AxesSubplot at 0x7fca64c8c4e0>"
            ]
          },
          "metadata": {
            "tags": []
          },
          "execution_count": 20
        },
        {
          "output_type": "display_data",
          "data": {
            "image/png": "[encoded data removed]",
            "text/plain": [
              "<Figure size 432x288 with 1 Axes>"
            ]
          },
          "metadata": {
            "tags": [],
            "needs_background": "light"
          }
        }
      ]
    },
    {
      "cell_type": "markdown",
      "metadata": {
        "id": "dnY5Yy3bxSx3",
        "colab_type": "text"
      },
      "source": [
        "## Number "
      ]
    },
    {
      "cell_type": "markdown",
      "metadata": {
        "id": "iuVSCpnkx1XT",
        "colab_type": "text"
      },
      "source": [
        "#### 快捷鍵\n",
        "\n",
        "執行cell, 下面新增 \n",
        "cell\n",
        "- shift + enter\n",
        "\n",
        "執行cell\n",
        "- ctrl + enter"
      ]
    },
    {
      "cell_type": "code",
      "metadata": {
        "id": "o2DfGtAitYWO",
        "colab_type": "code",
        "colab": {
          "base_uri": "https://localhost:8080/",
          "height": 35
        },
        "outputId": "88ad47b3-32f7-4528-8ffa-0995176a8ab1"
      },
      "source": [
        "3 + 2 * 8 "
      ],
      "execution_count": 1,
      "outputs": [
        {
          "output_type": "execute_result",
          "data": {
            "text/plain": [
              "19"
            ]
          },
          "metadata": {
            "tags": []
          },
          "execution_count": 1
        }
      ]
    },
    {
      "cell_type": "code",
      "metadata": {
        "id": "wCi-Q5HKxYJj",
        "colab_type": "code",
        "colab": {
          "base_uri": "https://localhost:8080/",
          "height": 35
        },
        "outputId": "ecb8338b-425f-4ae9-9f81-94f3bf397b66"
      },
      "source": [
        "2 + 1 "
      ],
      "execution_count": 2,
      "outputs": [
        {
          "output_type": "execute_result",
          "data": {
            "text/plain": [
              "3"
            ]
          },
          "metadata": {
            "tags": []
          },
          "execution_count": 2
        }
      ]
    },
    {
      "cell_type": "code",
      "metadata": {
        "id": "OfnpyGQAxjBy",
        "colab_type": "code",
        "colab": {
          "base_uri": "https://localhost:8080/",
          "height": 35
        },
        "outputId": "9adb9a49-7077-4767-ed57-373ecf4e08c9"
      },
      "source": [
        "2 - 1"
      ],
      "execution_count": 3,
      "outputs": [
        {
          "output_type": "execute_result",
          "data": {
            "text/plain": [
              "1"
            ]
          },
          "metadata": {
            "tags": []
          },
          "execution_count": 3
        }
      ]
    },
    {
      "cell_type": "code",
      "metadata": {
        "id": "Qnp_vF4-xkhC",
        "colab_type": "code",
        "colab": {
          "base_uri": "https://localhost:8080/",
          "height": 35
        },
        "outputId": "25efa31c-de62-4d64-dd8c-2730a71a7951"
      },
      "source": [
        "2 * 3 "
      ],
      "execution_count": 4,
      "outputs": [
        {
          "output_type": "execute_result",
          "data": {
            "text/plain": [
              "6"
            ]
          },
          "metadata": {
            "tags": []
          },
          "execution_count": 4
        }
      ]
    },
    {
      "cell_type": "code",
      "metadata": {
        "id": "6WYu8YSwxl4C",
        "colab_type": "code",
        "colab": {
          "base_uri": "https://localhost:8080/",
          "height": 35
        },
        "outputId": "ab855ba4-e428-43f4-e1dd-2aac0439b29a"
      },
      "source": [
        "3 / 2"
      ],
      "execution_count": 5,
      "outputs": [
        {
          "output_type": "execute_result",
          "data": {
            "text/plain": [
              "1.5"
            ]
          },
          "metadata": {
            "tags": []
          },
          "execution_count": 5
        }
      ]
    },
    {
      "cell_type": "code",
      "metadata": {
        "id": "qgkgjywZxnZy",
        "colab_type": "code",
        "colab": {
          "base_uri": "https://localhost:8080/",
          "height": 35
        },
        "outputId": "ce2aac7f-a82d-4b7e-e117-11a5a78a4289"
      },
      "source": [
        "2 ** 3"
      ],
      "execution_count": 6,
      "outputs": [
        {
          "output_type": "execute_result",
          "data": {
            "text/plain": [
              "8"
            ]
          },
          "metadata": {
            "tags": []
          },
          "execution_count": 6
        }
      ]
    },
    {
      "cell_type": "code",
      "metadata": {
        "id": "RdXjaJkhyLoi",
        "colab_type": "code",
        "colab": {
          "base_uri": "https://localhost:8080/",
          "height": 35
        },
        "outputId": "8ee611d5-1ef5-4f92-ec59-19a9d65070ce"
      },
      "source": [
        "4 ** 0.5"
      ],
      "execution_count": 7,
      "outputs": [
        {
          "output_type": "execute_result",
          "data": {
            "text/plain": [
              "2.0"
            ]
          },
          "metadata": {
            "tags": []
          },
          "execution_count": 7
        }
      ]
    },
    {
      "cell_type": "code",
      "metadata": {
        "id": "c4_h_XjmyNni",
        "colab_type": "code",
        "colab": {
          "base_uri": "https://localhost:8080/",
          "height": 35
        },
        "outputId": "203a87f5-0b1b-49aa-903c-f8a8b5bc3979"
      },
      "source": [
        "2 + 10 * 10 + 3"
      ],
      "execution_count": 9,
      "outputs": [
        {
          "output_type": "execute_result",
          "data": {
            "text/plain": [
              "105"
            ]
          },
          "metadata": {
            "tags": []
          },
          "execution_count": 9
        }
      ]
    },
    {
      "cell_type": "code",
      "metadata": {
        "id": "2PVVgHvzyQNz",
        "colab_type": "code",
        "colab": {
          "base_uri": "https://localhost:8080/",
          "height": 35
        },
        "outputId": "21ff711f-ce53-443c-e798-db0027685823"
      },
      "source": [
        "(2 + 10) * (10+ 3)"
      ],
      "execution_count": 10,
      "outputs": [
        {
          "output_type": "execute_result",
          "data": {
            "text/plain": [
              "156"
            ]
          },
          "metadata": {
            "tags": []
          },
          "execution_count": 10
        }
      ]
    },
    {
      "cell_type": "code",
      "metadata": {
        "id": "_SKrdlIRyWbj",
        "colab_type": "code",
        "colab": {}
      },
      "source": [
        "a = 5"
      ],
      "execution_count": 11,
      "outputs": []
    },
    {
      "cell_type": "code",
      "metadata": {
        "id": "Gnw_lt3pykFj",
        "colab_type": "code",
        "colab": {
          "base_uri": "https://localhost:8080/",
          "height": 35
        },
        "outputId": "e138387a-f38b-4c29-a7e2-8e316afa8966"
      },
      "source": [
        "a"
      ],
      "execution_count": 12,
      "outputs": [
        {
          "output_type": "execute_result",
          "data": {
            "text/plain": [
              "5"
            ]
          },
          "metadata": {
            "tags": []
          },
          "execution_count": 12
        }
      ]
    },
    {
      "cell_type": "code",
      "metadata": {
        "id": "KlmpHCeCykiS",
        "colab_type": "code",
        "colab": {}
      },
      "source": [
        "a = 10"
      ],
      "execution_count": 13,
      "outputs": []
    },
    {
      "cell_type": "code",
      "metadata": {
        "id": "A3zMgMtWyrNj",
        "colab_type": "code",
        "colab": {
          "base_uri": "https://localhost:8080/",
          "height": 35
        },
        "outputId": "c4701816-9930-4a99-e534-f0298c2c3d39"
      },
      "source": [
        "a"
      ],
      "execution_count": 14,
      "outputs": [
        {
          "output_type": "execute_result",
          "data": {
            "text/plain": [
              "10"
            ]
          },
          "metadata": {
            "tags": []
          },
          "execution_count": 14
        }
      ]
    },
    {
      "cell_type": "code",
      "metadata": {
        "id": "tSsbfTD8yrjT",
        "colab_type": "code",
        "colab": {}
      },
      "source": [
        "a = a + a"
      ],
      "execution_count": 15,
      "outputs": []
    },
    {
      "cell_type": "code",
      "metadata": {
        "id": "M9nS5X4byvdD",
        "colab_type": "code",
        "colab": {
          "base_uri": "https://localhost:8080/",
          "height": 35
        },
        "outputId": "46b07b2b-bf2c-4ad3-a78e-881210c0aa16"
      },
      "source": [
        "a"
      ],
      "execution_count": 16,
      "outputs": [
        {
          "output_type": "execute_result",
          "data": {
            "text/plain": [
              "20"
            ]
          },
          "metadata": {
            "tags": []
          },
          "execution_count": 16
        }
      ]
    },
    {
      "cell_type": "code",
      "metadata": {
        "id": "5b59I1Anyv1T",
        "colab_type": "code",
        "colab": {}
      },
      "source": [
        "price = 49.99\n",
        "exchange_rate = 32.33"
      ],
      "execution_count": 17,
      "outputs": []
    },
    {
      "cell_type": "code",
      "metadata": {
        "id": "BU1-ZQLZy-4U",
        "colab_type": "code",
        "colab": {
          "base_uri": "https://localhost:8080/",
          "height": 35
        },
        "outputId": "32d1e280-4aba-405d-bd40-7326cd60f333"
      },
      "source": [
        "price * exchange_rate"
      ],
      "execution_count": 18,
      "outputs": [
        {
          "output_type": "execute_result",
          "data": {
            "text/plain": [
              "1616.1767"
            ]
          },
          "metadata": {
            "tags": []
          },
          "execution_count": 18
        }
      ]
    },
    {
      "cell_type": "code",
      "metadata": {
        "id": "p5WO9KZszGn0",
        "colab_type": "code",
        "colab": {}
      },
      "source": [
        "ntd_price = price * exchange_rate"
      ],
      "execution_count": 19,
      "outputs": []
    },
    {
      "cell_type": "code",
      "metadata": {
        "id": "NwM4dTFjzNWk",
        "colab_type": "code",
        "colab": {
          "base_uri": "https://localhost:8080/",
          "height": 35
        },
        "outputId": "c675fd75-4382-4c24-974c-371af8f4f8af"
      },
      "source": [
        "ntd_price"
      ],
      "execution_count": 21,
      "outputs": [
        {
          "output_type": "execute_result",
          "data": {
            "text/plain": [
              "1616.1767"
            ]
          },
          "metadata": {
            "tags": []
          },
          "execution_count": 21
        }
      ]
    },
    {
      "cell_type": "code",
      "metadata": {
        "id": "S78QFv9XzS90",
        "colab_type": "code",
        "colab": {
          "base_uri": "https://localhost:8080/",
          "height": 166
        },
        "outputId": "0ed1fcf4-26ba-4841-978c-fd0489885f0c"
      },
      "source": [
        "NTD_PRICE"
      ],
      "execution_count": 22,
      "outputs": [
        {
          "output_type": "error",
          "ename": "NameError",
          "evalue": "ignored",
          "traceback": [
            "\u001b[0;31m---------------------------------------------------------------------------\u001b[0m",
            "\u001b[0;31mNameError\u001b[0m                                 Traceback (most recent call last)",
            "\u001b[0;32m<ipython-input-22-e94e23827b36>\u001b[0m in \u001b[0;36m<module>\u001b[0;34m()\u001b[0m\n\u001b[0;32m----> 1\u001b[0;31m \u001b[0mNTD_PRICE\u001b[0m\u001b[0;34m\u001b[0m\u001b[0;34m\u001b[0m\u001b[0m\n\u001b[0m",
            "\u001b[0;31mNameError\u001b[0m: name 'NTD_PRICE' is not defined"
          ]
        }
      ]
    },
    {
      "cell_type": "markdown",
      "metadata": {
        "id": "tyb9xzoL0How",
        "colab_type": "text"
      },
      "source": [
        "## String"
      ]
    },
    {
      "cell_type": "code",
      "metadata": {
        "id": "lc2DTLK-zUF0",
        "colab_type": "code",
        "colab": {
          "base_uri": "https://localhost:8080/",
          "height": 35
        },
        "outputId": "9276644d-f9ba-46bb-a5f5-e1af4b84f530"
      },
      "source": [
        "'this is a string'"
      ],
      "execution_count": 23,
      "outputs": [
        {
          "output_type": "execute_result",
          "data": {
            "application/vnd.google.colaboratory.intrinsic": {
              "type": "string"
            },
            "text/plain": [
              "'this is a string'"
            ]
          },
          "metadata": {
            "tags": []
          },
          "execution_count": 23
        }
      ]
    },
    {
      "cell_type": "code",
      "metadata": {
        "id": "qccEkHJk0Kz1",
        "colab_type": "code",
        "colab": {
          "base_uri": "https://localhost:8080/",
          "height": 35
        },
        "outputId": "164ea8dc-5d06-409c-8931-23c866eecb26"
      },
      "source": [
        "\"this is a string\""
      ],
      "execution_count": 24,
      "outputs": [
        {
          "output_type": "execute_result",
          "data": {
            "application/vnd.google.colaboratory.intrinsic": {
              "type": "string"
            },
            "text/plain": [
              "'this is a string'"
            ]
          },
          "metadata": {
            "tags": []
          },
          "execution_count": 24
        }
      ]
    },
    {
      "cell_type": "code",
      "metadata": {
        "id": "-HjEjV_K0MiF",
        "colab_type": "code",
        "colab": {
          "base_uri": "https://localhost:8080/",
          "height": 35
        },
        "outputId": "6da0ed6c-b583-4bd4-924a-9b94ac1b198b"
      },
      "source": [
        "'Hello World'\n",
        "'Hello World 2'"
      ],
      "execution_count": 26,
      "outputs": [
        {
          "output_type": "execute_result",
          "data": {
            "application/vnd.google.colaboratory.intrinsic": {
              "type": "string"
            },
            "text/plain": [
              "'Hello World 2'"
            ]
          },
          "metadata": {
            "tags": []
          },
          "execution_count": 26
        }
      ]
    },
    {
      "cell_type": "code",
      "metadata": {
        "id": "OR6CEDIl0UKU",
        "colab_type": "code",
        "colab": {
          "base_uri": "https://localhost:8080/",
          "height": 104
        },
        "outputId": "208d44cb-9cdb-4e9b-9482-8ccdaa9ec961"
      },
      "source": [
        "print('Hello World1')\n",
        "print('Hello World2')\n",
        "print('this is a new line \\n')\n",
        "print(\"done\")"
      ],
      "execution_count": 27,
      "outputs": [
        {
          "output_type": "stream",
          "text": [
            "Hello World1\n",
            "Hello World2\n",
            "this is a new line \n",
            "\n",
            "done\n"
          ],
          "name": "stdout"
        }
      ]
    },
    {
      "cell_type": "code",
      "metadata": {
        "id": "wcMmn3oP0iBk",
        "colab_type": "code",
        "colab": {
          "base_uri": "https://localhost:8080/",
          "height": 52
        },
        "outputId": "3bae32e0-34f0-443d-ed76-c1857dda1497"
      },
      "source": [
        "print('this is a new line \\n this is the second line')"
      ],
      "execution_count": 28,
      "outputs": [
        {
          "output_type": "stream",
          "text": [
            "this is a new line \n",
            " this is the second line\n"
          ],
          "name": "stdout"
        }
      ]
    },
    {
      "cell_type": "code",
      "metadata": {
        "id": "99qjWqkE0zBF",
        "colab_type": "code",
        "colab": {
          "base_uri": "https://localhost:8080/",
          "height": 52
        },
        "outputId": "5c6993ac-765b-4c26-992b-5cc6b4b327f4"
      },
      "source": [
        "print('1 2 3\\n100 200 300')"
      ],
      "execution_count": 29,
      "outputs": [
        {
          "output_type": "stream",
          "text": [
            "1 2 3\n",
            "100 200 300\n"
          ],
          "name": "stdout"
        }
      ]
    },
    {
      "cell_type": "code",
      "metadata": {
        "id": "ZKWuwL7403yE",
        "colab_type": "code",
        "colab": {
          "base_uri": "https://localhost:8080/",
          "height": 52
        },
        "outputId": "59d07897-eac6-4ce4-df34-2e7cef2525b1"
      },
      "source": [
        "print('1\\t2\\t3\\n100\\t200\\t300')"
      ],
      "execution_count": 30,
      "outputs": [
        {
          "output_type": "stream",
          "text": [
            "1\t2\t3\n",
            "100\t200\t300\n"
          ],
          "name": "stdout"
        }
      ]
    },
    {
      "cell_type": "code",
      "metadata": {
        "id": "u7DnPRj709VU",
        "colab_type": "code",
        "colab": {}
      },
      "source": [
        "a = 'this is a loooooooooooooooooooooooooooooooooooooooooooooooooooooooooooong text'"
      ],
      "execution_count": 31,
      "outputs": []
    },
    {
      "cell_type": "code",
      "metadata": {
        "id": "7IxoUFBN1Hh2",
        "colab_type": "code",
        "colab": {
          "base_uri": "https://localhost:8080/",
          "height": 35
        },
        "outputId": "85e10d26-6029-47cf-e695-58a1d124a072"
      },
      "source": [
        "a = 'this is a looooooooooooooooooooo\\\n",
        "ooooooooooooooooooooooooooooooooooooooong text'\n",
        "a"
      ],
      "execution_count": 34,
      "outputs": [
        {
          "output_type": "execute_result",
          "data": {
            "application/vnd.google.colaboratory.intrinsic": {
              "type": "string"
            },
            "text/plain": [
              "'this is a loooooooooooooooooooooooooooooooooooooooooooooooooooooooooooong text'"
            ]
          },
          "metadata": {
            "tags": []
          },
          "execution_count": 34
        }
      ]
    },
    {
      "cell_type": "code",
      "metadata": {
        "id": "khvgnKjP1S41",
        "colab_type": "code",
        "colab": {
          "base_uri": "https://localhost:8080/",
          "height": 35
        },
        "outputId": "9f1c67f9-9944-4cb3-81b5-0034efa2250b"
      },
      "source": [
        "a = '''this is a looooooooooooooooooooo\n",
        "ooooooooooooooooooooooooooooooooooooooong text'''\n",
        "a"
      ],
      "execution_count": 35,
      "outputs": [
        {
          "output_type": "execute_result",
          "data": {
            "application/vnd.google.colaboratory.intrinsic": {
              "type": "string"
            },
            "text/plain": [
              "'this is a looooooooooooooooooooo\\nooooooooooooooooooooooooooooooooooooooong text'"
            ]
          },
          "metadata": {
            "tags": []
          },
          "execution_count": 35
        }
      ]
    },
    {
      "cell_type": "code",
      "metadata": {
        "id": "Qk8IXbms1gLF",
        "colab_type": "code",
        "colab": {
          "base_uri": "https://localhost:8080/",
          "height": 52
        },
        "outputId": "2408fd41-bf39-4f65-abef-aa2961452015"
      },
      "source": [
        "print(a)"
      ],
      "execution_count": 36,
      "outputs": [
        {
          "output_type": "stream",
          "text": [
            "this is a looooooooooooooooooooo\n",
            "ooooooooooooooooooooooooooooooooooooooong text\n"
          ],
          "name": "stdout"
        }
      ]
    },
    {
      "cell_type": "code",
      "metadata": {
        "id": "F3DnPP7L1yom",
        "colab_type": "code",
        "colab": {}
      },
      "source": [
        "news = \"\"\"\n",
        "ELVA個性率真，許多男生都會主動追求她，偏偏追她的男生，常常也是S女星喜歡的對象，S女星過去不經意向ELVA表達過，欣賞某位一出道就走紅的鮮肉男星及靠著嘻哈翻紅的帥哥歌手，還有一位校園片起家的演員，這3個男星最後都跟ELVA交往，S女星多年後才藉著酒意跟ELVA攤牌。\n",
        " \n",
        "莫仇打聽，前幾個月S女星跟ELVA視訊通話，當年這3位男星分處不同時間點出現，S女星都曾暗示過ELVA「這個男生很可愛」！ELVA完全不知道這個意思是S女星喜歡這個男生，ELVA更無法控制對方追求她，ELVA向友人喊冤：「不可能我說『布萊德彼特很可愛』就是要跟他交往，如果她明確跟我說喜歡這個男生，我就會主動喊停。」\n",
        " \"\"\""
      ],
      "execution_count": 37,
      "outputs": []
    },
    {
      "cell_type": "code",
      "metadata": {
        "id": "bo3PX-VY112l",
        "colab_type": "code",
        "colab": {
          "base_uri": "https://localhost:8080/",
          "height": 124
        },
        "outputId": "a9c66234-4023-4c8b-c802-089ecb17aaf7"
      },
      "source": [
        "print(news)"
      ],
      "execution_count": 39,
      "outputs": [
        {
          "output_type": "stream",
          "text": [
            "\n",
            "ELVA個性率真，許多男生都會主動追求她，偏偏追她的男生，常常也是S女星喜歡的對象，S女星過去不經意向ELVA表達過，欣賞某位一出道就走紅的鮮肉男星及靠著嘻哈翻紅的帥哥歌手，還有一位校園片起家的演員，這3個男星最後都跟ELVA交往，S女星多年後才藉著酒意跟ELVA攤牌。\n",
            " \n",
            "莫仇打聽，前幾個月S女星跟ELVA視訊通話，當年這3位男星分處不同時間點出現，S女星都曾暗示過ELVA「這個男生很可愛」！ELVA完全不知道這個意思是S女星喜歡這個男生，ELVA更無法控制對方追求她，ELVA向友人喊冤：「不可能我說『布萊德彼特很可愛』就是要跟他交往，如果她明確跟我說喜歡這個男生，我就會主動喊停。」\n",
            " \n"
          ],
          "name": "stdout"
        }
      ]
    },
    {
      "cell_type": "code",
      "metadata": {
        "id": "KNlIuY1w12-l",
        "colab_type": "code",
        "colab": {}
      },
      "source": [
        "s = 'Hello'"
      ],
      "execution_count": 40,
      "outputs": []
    },
    {
      "cell_type": "code",
      "metadata": {
        "id": "cVxF2i262C0m",
        "colab_type": "code",
        "colab": {
          "base_uri": "https://localhost:8080/",
          "height": 35
        },
        "outputId": "f755631e-c925-4d53-b4a0-06f6addf7330"
      },
      "source": [
        "s[0]"
      ],
      "execution_count": 41,
      "outputs": [
        {
          "output_type": "execute_result",
          "data": {
            "application/vnd.google.colaboratory.intrinsic": {
              "type": "string"
            },
            "text/plain": [
              "'H'"
            ]
          },
          "metadata": {
            "tags": []
          },
          "execution_count": 41
        }
      ]
    },
    {
      "cell_type": "code",
      "metadata": {
        "id": "v5AsLjzD2Fbm",
        "colab_type": "code",
        "colab": {
          "base_uri": "https://localhost:8080/",
          "height": 35
        },
        "outputId": "c71f12b4-1749-484d-bb4b-a0db6001a40a"
      },
      "source": [
        "s[1]"
      ],
      "execution_count": 42,
      "outputs": [
        {
          "output_type": "execute_result",
          "data": {
            "application/vnd.google.colaboratory.intrinsic": {
              "type": "string"
            },
            "text/plain": [
              "'e'"
            ]
          },
          "metadata": {
            "tags": []
          },
          "execution_count": 42
        }
      ]
    },
    {
      "cell_type": "code",
      "metadata": {
        "id": "tc7TULx52JIm",
        "colab_type": "code",
        "colab": {
          "base_uri": "https://localhost:8080/",
          "height": 35
        },
        "outputId": "bea790ce-4461-466d-9fcd-d19cd83cf0e2"
      },
      "source": [
        "s[-1]"
      ],
      "execution_count": 43,
      "outputs": [
        {
          "output_type": "execute_result",
          "data": {
            "application/vnd.google.colaboratory.intrinsic": {
              "type": "string"
            },
            "text/plain": [
              "'o'"
            ]
          },
          "metadata": {
            "tags": []
          },
          "execution_count": 43
        }
      ]
    },
    {
      "cell_type": "code",
      "metadata": {
        "id": "yVioCmWS2L_W",
        "colab_type": "code",
        "colab": {
          "base_uri": "https://localhost:8080/",
          "height": 35
        },
        "outputId": "9c83c7b0-f12c-4ab9-a9c6-7dd9276110df"
      },
      "source": [
        "s[-2]"
      ],
      "execution_count": 44,
      "outputs": [
        {
          "output_type": "execute_result",
          "data": {
            "application/vnd.google.colaboratory.intrinsic": {
              "type": "string"
            },
            "text/plain": [
              "'l'"
            ]
          },
          "metadata": {
            "tags": []
          },
          "execution_count": 44
        }
      ]
    },
    {
      "cell_type": "code",
      "metadata": {
        "id": "0hNyb0Ut2Ol2",
        "colab_type": "code",
        "colab": {
          "base_uri": "https://localhost:8080/",
          "height": 35
        },
        "outputId": "2796b77d-9daf-4afa-f728-38857d3ce78e"
      },
      "source": [
        "s"
      ],
      "execution_count": 45,
      "outputs": [
        {
          "output_type": "execute_result",
          "data": {
            "application/vnd.google.colaboratory.intrinsic": {
              "type": "string"
            },
            "text/plain": [
              "'Hello'"
            ]
          },
          "metadata": {
            "tags": []
          },
          "execution_count": 45
        }
      ]
    },
    {
      "cell_type": "code",
      "metadata": {
        "id": "84LB4Xd22UWG",
        "colab_type": "code",
        "colab": {
          "base_uri": "https://localhost:8080/",
          "height": 35
        },
        "outputId": "bbde84f6-2f78-4acf-9280-b5f399b09182"
      },
      "source": [
        "# s[開頭:結尾]\n",
        "s[:]"
      ],
      "execution_count": 46,
      "outputs": [
        {
          "output_type": "execute_result",
          "data": {
            "application/vnd.google.colaboratory.intrinsic": {
              "type": "string"
            },
            "text/plain": [
              "'Hello'"
            ]
          },
          "metadata": {
            "tags": []
          },
          "execution_count": 46
        }
      ]
    },
    {
      "cell_type": "code",
      "metadata": {
        "id": "k3zs0TsE2dz2",
        "colab_type": "code",
        "colab": {
          "base_uri": "https://localhost:8080/",
          "height": 35
        },
        "outputId": "e52c686e-475e-4850-91c1-087f9db5b565"
      },
      "source": [
        "s[1:]"
      ],
      "execution_count": 47,
      "outputs": [
        {
          "output_type": "execute_result",
          "data": {
            "application/vnd.google.colaboratory.intrinsic": {
              "type": "string"
            },
            "text/plain": [
              "'ello'"
            ]
          },
          "metadata": {
            "tags": []
          },
          "execution_count": 47
        }
      ]
    },
    {
      "cell_type": "code",
      "metadata": {
        "id": "KqynzKyl2myk",
        "colab_type": "code",
        "colab": {
          "base_uri": "https://localhost:8080/",
          "height": 35
        },
        "outputId": "423330ca-049d-4dbc-be55-6bc19861a363"
      },
      "source": [
        "s"
      ],
      "execution_count": 49,
      "outputs": [
        {
          "output_type": "execute_result",
          "data": {
            "application/vnd.google.colaboratory.intrinsic": {
              "type": "string"
            },
            "text/plain": [
              "'Hello'"
            ]
          },
          "metadata": {
            "tags": []
          },
          "execution_count": 49
        }
      ]
    },
    {
      "cell_type": "code",
      "metadata": {
        "id": "Jmy-8SkK2g1m",
        "colab_type": "code",
        "colab": {
          "base_uri": "https://localhost:8080/",
          "height": 35
        },
        "outputId": "6697863b-cf47-4181-ed9e-31550363a44b"
      },
      "source": [
        "#for(i=0; i< 3;i++)\n",
        "s[:3]"
      ],
      "execution_count": 50,
      "outputs": [
        {
          "output_type": "execute_result",
          "data": {
            "application/vnd.google.colaboratory.intrinsic": {
              "type": "string"
            },
            "text/plain": [
              "'Hel'"
            ]
          },
          "metadata": {
            "tags": []
          },
          "execution_count": 50
        }
      ]
    },
    {
      "cell_type": "code",
      "metadata": {
        "id": "eEtPOO7q2lw2",
        "colab_type": "code",
        "colab": {
          "base_uri": "https://localhost:8080/",
          "height": 35
        },
        "outputId": "d3ef6860-20bd-4bc1-f18f-ed4e41a18659"
      },
      "source": [
        "s"
      ],
      "execution_count": 51,
      "outputs": [
        {
          "output_type": "execute_result",
          "data": {
            "application/vnd.google.colaboratory.intrinsic": {
              "type": "string"
            },
            "text/plain": [
              "'Hello'"
            ]
          },
          "metadata": {
            "tags": []
          },
          "execution_count": 51
        }
      ]
    },
    {
      "cell_type": "code",
      "metadata": {
        "id": "imScspGB29XG",
        "colab_type": "code",
        "colab": {
          "base_uri": "https://localhost:8080/",
          "height": 35
        },
        "outputId": "85064350-c4f1-43cb-c582-b21f1643b0b5"
      },
      "source": [
        "# s[開頭:結尾:中間隔多少字元]\n",
        "s[::]"
      ],
      "execution_count": 52,
      "outputs": [
        {
          "output_type": "execute_result",
          "data": {
            "application/vnd.google.colaboratory.intrinsic": {
              "type": "string"
            },
            "text/plain": [
              "'Hello'"
            ]
          },
          "metadata": {
            "tags": []
          },
          "execution_count": 52
        }
      ]
    },
    {
      "cell_type": "code",
      "metadata": {
        "id": "V5X6cOMC3D32",
        "colab_type": "code",
        "colab": {
          "base_uri": "https://localhost:8080/",
          "height": 35
        },
        "outputId": "b28c3bf9-49d1-4c9c-c5b8-887f9b465073"
      },
      "source": [
        "s[::1]"
      ],
      "execution_count": 53,
      "outputs": [
        {
          "output_type": "execute_result",
          "data": {
            "application/vnd.google.colaboratory.intrinsic": {
              "type": "string"
            },
            "text/plain": [
              "'Hello'"
            ]
          },
          "metadata": {
            "tags": []
          },
          "execution_count": 53
        }
      ]
    },
    {
      "cell_type": "code",
      "metadata": {
        "id": "Qwk8nQNw3FbG",
        "colab_type": "code",
        "colab": {
          "base_uri": "https://localhost:8080/",
          "height": 35
        },
        "outputId": "75060ef7-a1b1-4795-83c7-2069f8bc11e9"
      },
      "source": [
        "s[::2]"
      ],
      "execution_count": 54,
      "outputs": [
        {
          "output_type": "execute_result",
          "data": {
            "application/vnd.google.colaboratory.intrinsic": {
              "type": "string"
            },
            "text/plain": [
              "'Hlo'"
            ]
          },
          "metadata": {
            "tags": []
          },
          "execution_count": 54
        }
      ]
    },
    {
      "cell_type": "code",
      "metadata": {
        "id": "yD5gfaPx3HdH",
        "colab_type": "code",
        "colab": {
          "base_uri": "https://localhost:8080/",
          "height": 35
        },
        "outputId": "5dd1cecb-bb28-4287-e010-80318e4646d7"
      },
      "source": [
        "s[0:3:2]"
      ],
      "execution_count": 55,
      "outputs": [
        {
          "output_type": "execute_result",
          "data": {
            "application/vnd.google.colaboratory.intrinsic": {
              "type": "string"
            },
            "text/plain": [
              "'Hl'"
            ]
          },
          "metadata": {
            "tags": []
          },
          "execution_count": 55
        }
      ]
    },
    {
      "cell_type": "code",
      "metadata": {
        "id": "vtDZZ0cY3MFm",
        "colab_type": "code",
        "colab": {
          "base_uri": "https://localhost:8080/",
          "height": 35
        },
        "outputId": "13a91f2b-db0a-4a04-8d42-f47b791cc7eb"
      },
      "source": [
        "s[::-1]"
      ],
      "execution_count": 56,
      "outputs": [
        {
          "output_type": "execute_result",
          "data": {
            "application/vnd.google.colaboratory.intrinsic": {
              "type": "string"
            },
            "text/plain": [
              "'olleH'"
            ]
          },
          "metadata": {
            "tags": []
          },
          "execution_count": 56
        }
      ]
    },
    {
      "cell_type": "code",
      "metadata": {
        "id": "3A51NGlW3Umm",
        "colab_type": "code",
        "colab": {
          "base_uri": "https://localhost:8080/",
          "height": 35
        },
        "outputId": "6ccfc162-e832-4727-bbb2-5a963ea97257"
      },
      "source": [
        "s = '上海自來水來自海上'\n",
        "s"
      ],
      "execution_count": 57,
      "outputs": [
        {
          "output_type": "execute_result",
          "data": {
            "application/vnd.google.colaboratory.intrinsic": {
              "type": "string"
            },
            "text/plain": [
              "'上海自來水來自海上'"
            ]
          },
          "metadata": {
            "tags": []
          },
          "execution_count": 57
        }
      ]
    },
    {
      "cell_type": "code",
      "metadata": {
        "id": "bcoZV0Sv3dPW",
        "colab_type": "code",
        "colab": {
          "base_uri": "https://localhost:8080/",
          "height": 35
        },
        "outputId": "4b2df655-551a-4b07-b8d8-d52bfaabe13f"
      },
      "source": [
        "s[::-1]"
      ],
      "execution_count": 58,
      "outputs": [
        {
          "output_type": "execute_result",
          "data": {
            "application/vnd.google.colaboratory.intrinsic": {
              "type": "string"
            },
            "text/plain": [
              "'上海自來水來自海上'"
            ]
          },
          "metadata": {
            "tags": []
          },
          "execution_count": 58
        }
      ]
    },
    {
      "cell_type": "code",
      "metadata": {
        "id": "pWqnDgcW3e-W",
        "colab_type": "code",
        "colab": {
          "base_uri": "https://localhost:8080/",
          "height": 35
        },
        "outputId": "7f30c05f-6ec6-45ce-c542-5f716da1d580"
      },
      "source": [
        "s == s[::-1]"
      ],
      "execution_count": 59,
      "outputs": [
        {
          "output_type": "execute_result",
          "data": {
            "text/plain": [
              "True"
            ]
          },
          "metadata": {
            "tags": []
          },
          "execution_count": 59
        }
      ]
    },
    {
      "cell_type": "code",
      "metadata": {
        "id": "wwTO83nL3h42",
        "colab_type": "code",
        "colab": {
          "base_uri": "https://localhost:8080/",
          "height": 35
        },
        "outputId": "2349d733-29c4-4ac5-9d83-4a09c07a30fb"
      },
      "source": [
        "s = '今天天氣真好'\n",
        "s == s[::-1]"
      ],
      "execution_count": 61,
      "outputs": [
        {
          "output_type": "execute_result",
          "data": {
            "text/plain": [
              "False"
            ]
          },
          "metadata": {
            "tags": []
          },
          "execution_count": 61
        }
      ]
    },
    {
      "cell_type": "code",
      "metadata": {
        "id": "y4dlj44o3o42",
        "colab_type": "code",
        "colab": {
          "base_uri": "https://localhost:8080/",
          "height": 166
        },
        "outputId": "3c15b1de-b859-418e-b192-0120672be1cc"
      },
      "source": [
        "s[-1] = '壞'"
      ],
      "execution_count": 64,
      "outputs": [
        {
          "output_type": "error",
          "ename": "TypeError",
          "evalue": "ignored",
          "traceback": [
            "\u001b[0;31m---------------------------------------------------------------------------\u001b[0m",
            "\u001b[0;31mTypeError\u001b[0m                                 Traceback (most recent call last)",
            "\u001b[0;32m<ipython-input-64-74c7296e023e>\u001b[0m in \u001b[0;36m<module>\u001b[0;34m()\u001b[0m\n\u001b[0;32m----> 1\u001b[0;31m \u001b[0ms\u001b[0m\u001b[0;34m[\u001b[0m\u001b[0;34m-\u001b[0m\u001b[0;36m1\u001b[0m\u001b[0;34m]\u001b[0m \u001b[0;34m=\u001b[0m \u001b[0;34m'壞'\u001b[0m\u001b[0;34m\u001b[0m\u001b[0;34m\u001b[0m\u001b[0m\n\u001b[0m",
            "\u001b[0;31mTypeError\u001b[0m: 'str' object does not support item assignment"
          ]
        }
      ]
    },
    {
      "cell_type": "code",
      "metadata": {
        "id": "NbHNMoEH3vvm",
        "colab_type": "code",
        "colab": {
          "base_uri": "https://localhost:8080/",
          "height": 35
        },
        "outputId": "7c285eb0-e3ea-497b-c187-761e429a65c6"
      },
      "source": [
        "s= 'Hello'\n",
        "s + ' World'"
      ],
      "execution_count": 65,
      "outputs": [
        {
          "output_type": "execute_result",
          "data": {
            "application/vnd.google.colaboratory.intrinsic": {
              "type": "string"
            },
            "text/plain": [
              "'Hello World'"
            ]
          },
          "metadata": {
            "tags": []
          },
          "execution_count": 65
        }
      ]
    },
    {
      "cell_type": "code",
      "metadata": {
        "id": "CveZIxGx37SX",
        "colab_type": "code",
        "colab": {
          "base_uri": "https://localhost:8080/",
          "height": 35
        },
        "outputId": "0de778b9-193b-4254-aa87-777af86e5036"
      },
      "source": [
        "letter = '?'\n",
        "letter * 10"
      ],
      "execution_count": 66,
      "outputs": [
        {
          "output_type": "execute_result",
          "data": {
            "application/vnd.google.colaboratory.intrinsic": {
              "type": "string"
            },
            "text/plain": [
              "'??????????'"
            ]
          },
          "metadata": {
            "tags": []
          },
          "execution_count": 66
        }
      ]
    },
    {
      "cell_type": "code",
      "metadata": {
        "id": "rfHCi-c24Be2",
        "colab_type": "code",
        "colab": {
          "base_uri": "https://localhost:8080/",
          "height": 122
        },
        "outputId": "d85a44d6-e5f4-4d86-adb5-612b2fea0a7d"
      },
      "source": [
        "'對不起' * 100"
      ],
      "execution_count": 67,
      "outputs": [
        {
          "output_type": "execute_result",
          "data": {
            "application/vnd.google.colaboratory.intrinsic": {
              "type": "string"
            },
            "text/plain": [
              "'對不起對不起對不起對不起對不起對不起對不起對不起對不起對不起對不起對不起對不起對不起對不起對不起對不起對不起對不起對不起對不起對不起對不起對不起對不起對不起對不起對不起對不起對不起對不起對不起對不起對不起對不起對不起對不起對不起對不起對不起對不起對不起對不起對不起對不起對不起對不起對不起對不起對不起對不起對不起對不起對不起對不起對不起對不起對不起對不起對不起對不起對不起對不起對不起對不起對不起對不起對不起對不起對不起對不起對不起對不起對不起對不起對不起對不起對不起對不起對不起對不起對不起對不起對不起對不起對不起對不起對不起對不起對不起對不起對不起對不起對不起對不起對不起對不起對不起對不起對不起'"
            ]
          },
          "metadata": {
            "tags": []
          },
          "execution_count": 67
        }
      ]
    },
    {
      "cell_type": "code",
      "metadata": {
        "id": "gLaLvwAy4GaG",
        "colab_type": "code",
        "colab": {
          "base_uri": "https://localhost:8080/",
          "height": 35
        },
        "outputId": "84e66103-8e2b-4f8d-8468-fdd0f687e9da"
      },
      "source": [
        "s"
      ],
      "execution_count": 68,
      "outputs": [
        {
          "output_type": "execute_result",
          "data": {
            "application/vnd.google.colaboratory.intrinsic": {
              "type": "string"
            },
            "text/plain": [
              "'Hello'"
            ]
          },
          "metadata": {
            "tags": []
          },
          "execution_count": 68
        }
      ]
    },
    {
      "cell_type": "code",
      "metadata": {
        "id": "p2FpfKzh4MEv",
        "colab_type": "code",
        "colab": {
          "base_uri": "https://localhost:8080/",
          "height": 35
        },
        "outputId": "a1c66d2c-e2e2-425a-cf83-b00e6fcb90ca"
      },
      "source": [
        "type(s)"
      ],
      "execution_count": 71,
      "outputs": [
        {
          "output_type": "execute_result",
          "data": {
            "text/plain": [
              "str"
            ]
          },
          "metadata": {
            "tags": []
          },
          "execution_count": 71
        }
      ]
    },
    {
      "cell_type": "code",
      "metadata": {
        "id": "qBgnw8b-4VnH",
        "colab_type": "code",
        "colab": {}
      },
      "source": [
        "a = 3"
      ],
      "execution_count": 72,
      "outputs": []
    },
    {
      "cell_type": "code",
      "metadata": {
        "id": "5_fSTSx64WnH",
        "colab_type": "code",
        "colab": {
          "base_uri": "https://localhost:8080/",
          "height": 35
        },
        "outputId": "3ec81a2f-296f-40a8-d3c8-9f200c5ca419"
      },
      "source": [
        "type(a)"
      ],
      "execution_count": 73,
      "outputs": [
        {
          "output_type": "execute_result",
          "data": {
            "text/plain": [
              "int"
            ]
          },
          "metadata": {
            "tags": []
          },
          "execution_count": 73
        }
      ]
    },
    {
      "cell_type": "code",
      "metadata": {
        "id": "yDkWKU-34X6X",
        "colab_type": "code",
        "colab": {
          "base_uri": "https://localhost:8080/",
          "height": 1000
        },
        "outputId": "4a4f9bd5-b90f-4264-f1ed-4df90a45cbcf"
      },
      "source": [
        "dir(s)"
      ],
      "execution_count": 74,
      "outputs": [
        {
          "output_type": "execute_result",
          "data": {
            "text/plain": [
              "['__add__',\n",
              " '__class__',\n",
              " '__contains__',\n",
              " '__delattr__',\n",
              " '__dir__',\n",
              " '__doc__',\n",
              " '__eq__',\n",
              " '__format__',\n",
              " '__ge__',\n",
              " '__getattribute__',\n",
              " '__getitem__',\n",
              " '__getnewargs__',\n",
              " '__gt__',\n",
              " '__hash__',\n",
              " '__init__',\n",
              " '__init_subclass__',\n",
              " '__iter__',\n",
              " '__le__',\n",
              " '__len__',\n",
              " '__lt__',\n",
              " '__mod__',\n",
              " '__mul__',\n",
              " '__ne__',\n",
              " '__new__',\n",
              " '__reduce__',\n",
              " '__reduce_ex__',\n",
              " '__repr__',\n",
              " '__rmod__',\n",
              " '__rmul__',\n",
              " '__setattr__',\n",
              " '__sizeof__',\n",
              " '__str__',\n",
              " '__subclasshook__',\n",
              " 'capitalize',\n",
              " 'casefold',\n",
              " 'center',\n",
              " 'count',\n",
              " 'encode',\n",
              " 'endswith',\n",
              " 'expandtabs',\n",
              " 'find',\n",
              " 'format',\n",
              " 'format_map',\n",
              " 'index',\n",
              " 'isalnum',\n",
              " 'isalpha',\n",
              " 'isdecimal',\n",
              " 'isdigit',\n",
              " 'isidentifier',\n",
              " 'islower',\n",
              " 'isnumeric',\n",
              " 'isprintable',\n",
              " 'isspace',\n",
              " 'istitle',\n",
              " 'isupper',\n",
              " 'join',\n",
              " 'ljust',\n",
              " 'lower',\n",
              " 'lstrip',\n",
              " 'maketrans',\n",
              " 'partition',\n",
              " 'replace',\n",
              " 'rfind',\n",
              " 'rindex',\n",
              " 'rjust',\n",
              " 'rpartition',\n",
              " 'rsplit',\n",
              " 'rstrip',\n",
              " 'split',\n",
              " 'splitlines',\n",
              " 'startswith',\n",
              " 'strip',\n",
              " 'swapcase',\n",
              " 'title',\n",
              " 'translate',\n",
              " 'upper',\n",
              " 'zfill']"
            ]
          },
          "metadata": {
            "tags": []
          },
          "execution_count": 74
        }
      ]
    },
    {
      "cell_type": "code",
      "metadata": {
        "id": "BGeHvdmt4bF3",
        "colab_type": "code",
        "colab": {
          "base_uri": "https://localhost:8080/",
          "height": 35
        },
        "outputId": "bbe4fd5b-d605-43bb-a867-2653c02082c8"
      },
      "source": [
        "s"
      ],
      "execution_count": 75,
      "outputs": [
        {
          "output_type": "execute_result",
          "data": {
            "application/vnd.google.colaboratory.intrinsic": {
              "type": "string"
            },
            "text/plain": [
              "'Hello'"
            ]
          },
          "metadata": {
            "tags": []
          },
          "execution_count": 75
        }
      ]
    },
    {
      "cell_type": "code",
      "metadata": {
        "id": "rBSI7QCK4gAn",
        "colab_type": "code",
        "colab": {
          "base_uri": "https://localhost:8080/",
          "height": 35
        },
        "outputId": "d5eabed5-b847-4f4f-e900-4373b9cd422c"
      },
      "source": [
        "s.upper()"
      ],
      "execution_count": 77,
      "outputs": [
        {
          "output_type": "execute_result",
          "data": {
            "application/vnd.google.colaboratory.intrinsic": {
              "type": "string"
            },
            "text/plain": [
              "'HELLO'"
            ]
          },
          "metadata": {
            "tags": []
          },
          "execution_count": 77
        }
      ]
    },
    {
      "cell_type": "code",
      "metadata": {
        "id": "SZn-4AE84hs3",
        "colab_type": "code",
        "colab": {}
      },
      "source": [
        "?s.upper"
      ],
      "execution_count": 78,
      "outputs": []
    },
    {
      "cell_type": "code",
      "metadata": {
        "id": "ztOLx9Qz4lp4",
        "colab_type": "code",
        "colab": {
          "base_uri": "https://localhost:8080/",
          "height": 35
        },
        "outputId": "f1ec9e72-dd39-4fd2-9c2e-4149e036a4d9"
      },
      "source": [
        "s.lower()"
      ],
      "execution_count": 79,
      "outputs": [
        {
          "output_type": "execute_result",
          "data": {
            "application/vnd.google.colaboratory.intrinsic": {
              "type": "string"
            },
            "text/plain": [
              "'hello'"
            ]
          },
          "metadata": {
            "tags": []
          },
          "execution_count": 79
        }
      ]
    },
    {
      "cell_type": "code",
      "metadata": {
        "id": "oYtDUOOu4re3",
        "colab_type": "code",
        "colab": {
          "base_uri": "https://localhost:8080/",
          "height": 139
        },
        "outputId": "e8cec662-d914-4ac1-c3f7-8a996d2487c5"
      },
      "source": [
        "help(s.lower)"
      ],
      "execution_count": 80,
      "outputs": [
        {
          "output_type": "stream",
          "text": [
            "Help on built-in function lower:\n",
            "\n",
            "lower(...) method of builtins.str instance\n",
            "    S.lower() -> str\n",
            "    \n",
            "    Return a copy of the string S converted to lowercase.\n",
            "\n"
          ],
          "name": "stdout"
        }
      ]
    },
    {
      "cell_type": "code",
      "metadata": {
        "id": "37ZeZQuR4xz4",
        "colab_type": "code",
        "colab": {
          "base_uri": "https://localhost:8080/",
          "height": 156
        },
        "outputId": "4ae7d79a-6a87-4bfc-b187-22c166a02118"
      },
      "source": [
        "help(s.swapcase)"
      ],
      "execution_count": 82,
      "outputs": [
        {
          "output_type": "stream",
          "text": [
            "Help on built-in function swapcase:\n",
            "\n",
            "swapcase(...) method of builtins.str instance\n",
            "    S.swapcase() -> str\n",
            "    \n",
            "    Return a copy of S with uppercase characters converted to lowercase\n",
            "    and vice versa.\n",
            "\n"
          ],
          "name": "stdout"
        }
      ]
    },
    {
      "cell_type": "code",
      "metadata": {
        "id": "ucffaDwp6DAa",
        "colab_type": "code",
        "colab": {
          "base_uri": "https://localhost:8080/",
          "height": 35
        },
        "outputId": "31d47274-6c2b-490a-f980-07bd5a29dea5"
      },
      "source": [
        "s.swapcase()"
      ],
      "execution_count": 84,
      "outputs": [
        {
          "output_type": "execute_result",
          "data": {
            "application/vnd.google.colaboratory.intrinsic": {
              "type": "string"
            },
            "text/plain": [
              "'hELLO'"
            ]
          },
          "metadata": {
            "tags": []
          },
          "execution_count": 84
        }
      ]
    },
    {
      "cell_type": "code",
      "metadata": {
        "id": "hXm4-TeN6DgI",
        "colab_type": "code",
        "colab": {
          "base_uri": "https://localhost:8080/",
          "height": 35
        },
        "outputId": "95cdbeda-4e97-4a39-fc60-e4fa0b52cda4"
      },
      "source": [
        "s = 'Hello World'\n",
        "s.split()"
      ],
      "execution_count": 85,
      "outputs": [
        {
          "output_type": "execute_result",
          "data": {
            "text/plain": [
              "['Hello', 'World']"
            ]
          },
          "metadata": {
            "tags": []
          },
          "execution_count": 85
        }
      ]
    },
    {
      "cell_type": "code",
      "metadata": {
        "id": "dG1g_wRz6KOY",
        "colab_type": "code",
        "colab": {
          "base_uri": "https://localhost:8080/",
          "height": 35
        },
        "outputId": "82c4bbca-7ae8-4f84-cdcf-36cc8e3885fd"
      },
      "source": [
        "len(s)"
      ],
      "execution_count": 86,
      "outputs": [
        {
          "output_type": "execute_result",
          "data": {
            "text/plain": [
              "11"
            ]
          },
          "metadata": {
            "tags": []
          },
          "execution_count": 86
        }
      ]
    },
    {
      "cell_type": "code",
      "metadata": {
        "id": "oXQQnoZ56Meo",
        "colab_type": "code",
        "colab": {}
      },
      "source": [
        "news = '''\n",
        "【有心人‧有星事】「我喜歡的人都跟妳在一起！」 蕭亞軒vs.閨蜜女星攤牌回不去（黎莫仇）\n",
        "11小時前\n",
        "蕭亞軒（ELVA）出道21年，靠精湛舞藝及唱功爬到天后地位，她的感情世界跟作品同樣精采，也從不諱言是外貌協會。攤開歷任男友名單，王陽明、柯震東到現在的黃皓都是極品，但她異性緣太好，竟成了原罪。莫仇聽說八卦，S女星某件事踩到ELVA地雷，讓曾是閨蜜的兩人就此疏離，莫仇分別從雙方友人打聽發現，雙姝結怨背後跟3位男星有關！S女星某天酒後吐真言，當著ELVA的面，宣洩不滿：「我就是要氣妳、傷害妳，為什麼喜歡的人都跟妳在一起！」\n",
        "\n",
        "蕭亞軒男人緣太好，竟為此與閨蜜失和，且讓黎莫仇細說這不為人知的內幕。\n",
        "蕭亞軒男人緣太好，竟為此與閨蜜失和，且讓黎莫仇細說這不為人知的內幕。\n",
        "ELVA個性率真，許多男生都會主動追求她，偏偏追她的男生，常常也是S女星喜歡的對象，S女星過去不經意向ELVA表達過，欣賞某位一出道就走紅的鮮肉男星及靠著嘻哈翻紅的帥哥歌手，還有一位校園片起家的演員，這3個男星最後都跟ELVA交往，S女星多年後才藉著酒意跟ELVA攤牌。\n",
        " \n",
        "莫仇打聽，前幾個月S女星跟ELVA視訊通話，當年這3位男星分處不同時間點出現，S女星都曾暗示過ELVA「這個男生很可愛」！ELVA完全不知道這個意思是S女星喜歡這個男生，ELVA更無法控制對方追求她，ELVA向友人喊冤：「不可能我說『布萊德彼特很可愛』就是要跟他交往，如果她明確跟我說喜歡這個男生，我就會主動喊停。」\n",
        " \n",
        "不過S女星的密友也為S女星抱屈，轉述S女星內心想法給莫仇聽，過去S女星把ELVA當作天，「她以前什麼樣的感受，她的喜怒哀樂都牽動著我，地位比我男友還要大，如果今天她說那個男生可愛，就算我喜歡，也絕對不會碰，我對於好友的另一半，就會主動保持距離」。\n",
        " \n",
        "ELVA跟S女星一度隔著電話筒把話講開，哭著恢復邦交。只是那次S女星酒後吐真言，將隱藏心中的不滿全吐出來，再次摧毀友誼，ELVA說得直白：「我沒辦法回到以前那個樣子。」兩人退回平行線。\n",
        " \n",
        "不過友人跟莫仇說，S女星不只一次告訴ELVA因為男生的事心生不滿，ELVA只回一句「忘記了」。但S女星沉澱心情之後，講起ELVA一度哽咽，腦中浮現的盡是當年彼此扶持的深刻場景，「我真的很愛她」！S女星過去不懂怎麼將心中真正想法講出口，導致內心很不快樂，儘管S女星極力解釋，想挽回友誼，無奈卻解不開這個結，「我也想把這段緣分修好，我還是希望她的工作、身體越來越好」，S女星也透過共同友人向ELVA喊話：「等妳想找我、想跟我講話，我永遠都在這裡。」\n",
        " \n",
        "其實過去的ELVA保護色很重，加上經紀人在旁「監督」，每回見到她，她就像有話卡在喉嚨裡，不敢說出口。前幾年她身心遭受創傷，隱身不見人，長達2年沒人知道她到底發生什麼事，直到去年8月24日40歲生日當天，在微博公開與小16歲男友黃皓戀情，那幾天她跟莫仇通了電話，才知道她過去幾年憂鬱症、胸口受傷、頭部重創、支氣管炎等病痛纏身，經長時間養病，身心飽受煎熬，一度擔心無法唱歌，沒有自信再站上熱愛的舞台，靠著黃皓陪伴才走出低谷。\n",
        " \n",
        "ELVA私下個性有話直說，往往容易得罪人，不熟的人常把她貼上「難搞」標籤，但莫仇知道她只是對自己的工作負責，過去如拍照燈光、角度不合自己的意思，還能透過經紀人當黑臉，現場她盡力配合不擺臭臉，尊重專業，但畢竟上鏡頭的是她，最了解自己的長處，現在自己當老闆，所有工作細節全攬在身上，對拍攝成果不滿意，她會關起門來打小孩，檢討攝影師、燈光師，不讓其他不相干的人感受負能量。\n",
        " \n",
        "講到感情，外界佩服她的男友都是又高又帥的鮮肉天菜，現在跟黃皓感情甜蜜，不過之前的幾任，也有讓她刻骨銘心的戀情，就算分手還能成為朋友，那就是柯震東。\n",
        " \n",
        "ELVA從小受到經商的母親有系統的培育，在加拿大以歌唱比賽被挖掘出道，能歌善舞迅速走紅，頂著歌后天后光環，與時尚圈孫芸芸等名媛都有好交情，朋友圈非富即貴，也過慣都市生活，在她的成長過程不曾有過戶外約會行程，直到跟柯震東交往，讓她打開眼界，第一次泛舟、溯溪、攀岩跟跳水，都是柯震東帶她去的，她印象深刻在花蓮秀姑巒溪泛舟，出發前不慎跌入溪中，雖然水不深，但石頭很多，她還沒穿救生衣驚慌失措，柯震東一把將她救起，發現她沒事後故意取笑她，直到她哭喊不會游泳，柯震東才趕緊抱抱安撫她。\n",
        " \n",
        "他倆剛開始交往，柯震東靠著《那些年，我們一起追的女孩》一炮而紅，輿論對她並不友善，形容兩人為楊過與小龍女的姊弟戀，ELVA內心難過，不只一次退縮，告訴柯「我們再觀察吧」，反而是柯鍥而不捨地說：「妳有在怕嗎？」就是這麼堅定的語氣，讓她有了勇氣，決定繼續走下去。\n",
        " \n",
        "除了戶外活動，柯震東還會帶ELVA到夜市撈金魚，這是她小時候曾經做過的事，長大後從沒有一任男友帶她逛夜市，柯震東還帶她到澎湖釣小管、在原住民戶外餐廳聽歌、喝小米酒，過著簡單自在的愛情生活；有一次她跟柯家人到海島旅遊，當地湯匙用水盆洗的，衛生條件不佳，當時柯震東故意在家人面前虧她「她是貴婦，不會用一般人的湯匙」，她被柯激到，硬著頭皮用了，當下覺得油膩，不過配合到底，當時她認為柯震東就是個單純的男生，所有戀愛過程都是她從未經歷過的。\n",
        " \n",
        "她曾跟友人透露柯震東是歷任男友最愛的一個，當然不是每個戀曲都有美好結局，他們2度分合，第一次分手時，當年ELVA某任前男友回頭找她，兩人已經復合，內心還是等待柯震東，「心中還是愛著他」。柯震東在北京吸毒被抓，她每天深夜都在哭，一直對友人傾吐心聲，向外求救「怎麼辦？他只是個單純的男孩」！\n",
        " \n",
        "莫仇聽說兩人再次復合又分手主因是，當年柯震東走紅後，身邊多了許多誘惑，偏偏他又不懂得避嫌，後來她察覺到他跟別的女生曖昧，加上柯媽並不喜歡她，兩人大吵後黯然分手，最終成為最熟悉的陌生人。\n",
        " \n",
        "不過他倆分手後，柯爸還是把ELVA當女兒一樣疼愛，逢人都稱ELVA「我女兒」，因為柯爸沒有女兒也想生女兒，從小把柯震東當女兒來養；也因為ELVA從小沒有父愛，同樣把柯爸當作自己的爸爸，至今仍會聯繫，彼此關心，她跟柯震東分手多年後才恢復友誼，但她顧及現任男友黃皓感受，並不會跟柯震東聯繫。\n",
        " \n",
        "'''"
      ],
      "execution_count": 87,
      "outputs": []
    },
    {
      "cell_type": "markdown",
      "metadata": {
        "id": "vhEfhipm7BBm",
        "colab_type": "text"
      },
      "source": [
        "### 練習題\n",
        "- 請使用 python len 計算 文章長度\n",
        "- 請使用 Python count 找出 Elva 出現幾次"
      ]
    },
    {
      "cell_type": "code",
      "metadata": {
        "id": "nsor69e87BdY",
        "colab_type": "code",
        "colab": {}
      },
      "source": [
        "?len"
      ],
      "execution_count": 88,
      "outputs": []
    },
    {
      "cell_type": "code",
      "metadata": {
        "id": "hvuL5sur-Vss",
        "colab_type": "code",
        "colab": {
          "base_uri": "https://localhost:8080/",
          "height": 35
        },
        "outputId": "f68499a7-2315-4976-d75f-79516da13c4a"
      },
      "source": [
        "len(news)"
      ],
      "execution_count": 89,
      "outputs": [
        {
          "output_type": "execute_result",
          "data": {
            "text/plain": [
              "2533"
            ]
          },
          "metadata": {
            "tags": []
          },
          "execution_count": 89
        }
      ]
    },
    {
      "cell_type": "code",
      "metadata": {
        "id": "ughcRh-b-ZQg",
        "colab_type": "code",
        "colab": {
          "base_uri": "https://localhost:8080/",
          "height": 35
        },
        "outputId": "5b79e60d-cccb-4368-f25b-c4336799e9b2"
      },
      "source": [
        "news.count('ELVA')"
      ],
      "execution_count": 90,
      "outputs": [
        {
          "output_type": "execute_result",
          "data": {
            "text/plain": [
              "28"
            ]
          },
          "metadata": {
            "tags": []
          },
          "execution_count": 90
        }
      ]
    },
    {
      "cell_type": "code",
      "metadata": {
        "id": "S_6yvRgm-gvb",
        "colab_type": "code",
        "colab": {
          "base_uri": "https://localhost:8080/",
          "height": 35
        },
        "outputId": "69fe76e8-0cdc-4a5e-9d1c-6fdb2b1d9d59"
      },
      "source": [
        "news.count('蕭亞軒')"
      ],
      "execution_count": 91,
      "outputs": [
        {
          "output_type": "execute_result",
          "data": {
            "text/plain": [
              "4"
            ]
          },
          "metadata": {
            "tags": []
          },
          "execution_count": 91
        }
      ]
    },
    {
      "cell_type": "code",
      "metadata": {
        "id": "7FrSiYMf-kQq",
        "colab_type": "code",
        "colab": {
          "base_uri": "https://localhost:8080/",
          "height": 35
        },
        "outputId": "c9bfb7f7-142d-4639-8c34-8704c540c77d"
      },
      "source": [
        "news.count('ELVA') + news.count('蕭亞軒')"
      ],
      "execution_count": 92,
      "outputs": [
        {
          "output_type": "execute_result",
          "data": {
            "text/plain": [
              "32"
            ]
          },
          "metadata": {
            "tags": []
          },
          "execution_count": 92
        }
      ]
    },
    {
      "cell_type": "code",
      "metadata": {
        "id": "f-0x92XU-oWq",
        "colab_type": "code",
        "colab": {}
      },
      "source": [
        "pos = news.find('ELVA')"
      ],
      "execution_count": 94,
      "outputs": []
    },
    {
      "cell_type": "code",
      "metadata": {
        "id": "_iP1xR_B-wB7",
        "colab_type": "code",
        "colab": {
          "base_uri": "https://localhost:8080/",
          "height": 35
        },
        "outputId": "2b10e4c0-d3e4-4a07-94eb-ecdebd074067"
      },
      "source": [
        "news[pos - 10: pos+ 10]"
      ],
      "execution_count": 95,
      "outputs": [
        {
          "output_type": "execute_result",
          "data": {
            "application/vnd.google.colaboratory.intrinsic": {
              "type": "string"
            },
            "text/plain": [
              "'11小時前\\n蕭亞軒（ELVA）出道21年'"
            ]
          },
          "metadata": {
            "tags": []
          },
          "execution_count": 95
        }
      ]
    },
    {
      "cell_type": "markdown",
      "metadata": {
        "id": "R4pQ5wjvAcoB",
        "colab_type": "text"
      },
      "source": [
        "## List"
      ]
    },
    {
      "cell_type": "code",
      "metadata": {
        "id": "t6Bz-dlnAm0b",
        "colab_type": "code",
        "colab": {
          "base_uri": "https://localhost:8080/",
          "height": 35
        },
        "outputId": "416eb468-a42f-4b70-9996-3f028510b1ef"
      },
      "source": [
        "a = [1,2,3]\n",
        "a"
      ],
      "execution_count": 97,
      "outputs": [
        {
          "output_type": "execute_result",
          "data": {
            "text/plain": [
              "[1, 2, 3]"
            ]
          },
          "metadata": {
            "tags": []
          },
          "execution_count": 97
        }
      ]
    },
    {
      "cell_type": "code",
      "metadata": {
        "id": "aoj3YHFxAso7",
        "colab_type": "code",
        "colab": {}
      },
      "source": [
        "a = ['hello world', 100, ['a', 'b']]"
      ],
      "execution_count": 98,
      "outputs": []
    },
    {
      "cell_type": "code",
      "metadata": {
        "id": "XkPYuQTCAyiL",
        "colab_type": "code",
        "colab": {}
      },
      "source": [
        "a.append(100)"
      ],
      "execution_count": 99,
      "outputs": []
    },
    {
      "cell_type": "code",
      "metadata": {
        "id": "IdOvpr4zA20a",
        "colab_type": "code",
        "colab": {
          "base_uri": "https://localhost:8080/",
          "height": 35
        },
        "outputId": "267908d4-6968-4275-b5eb-c263c6fc0cc9"
      },
      "source": [
        "a"
      ],
      "execution_count": 100,
      "outputs": [
        {
          "output_type": "execute_result",
          "data": {
            "text/plain": [
              "['hello world', 100, ['a', 'b'], 100]"
            ]
          },
          "metadata": {
            "tags": []
          },
          "execution_count": 100
        }
      ]
    },
    {
      "cell_type": "code",
      "metadata": {
        "id": "4j3bL9KkA3KK",
        "colab_type": "code",
        "colab": {
          "base_uri": "https://localhost:8080/",
          "height": 35
        },
        "outputId": "42a60e3f-414d-4202-f3fe-ca7d79b2c197"
      },
      "source": [
        "type(a)"
      ],
      "execution_count": 101,
      "outputs": [
        {
          "output_type": "execute_result",
          "data": {
            "text/plain": [
              "list"
            ]
          },
          "metadata": {
            "tags": []
          },
          "execution_count": 101
        }
      ]
    },
    {
      "cell_type": "code",
      "metadata": {
        "id": "gCMf1EtLA8UK",
        "colab_type": "code",
        "colab": {
          "base_uri": "https://localhost:8080/",
          "height": 35
        },
        "outputId": "dcfbc5ec-06f5-43c4-a1e9-ddcaee86b8a8"
      },
      "source": [
        "len(a)"
      ],
      "execution_count": 102,
      "outputs": [
        {
          "output_type": "execute_result",
          "data": {
            "text/plain": [
              "4"
            ]
          },
          "metadata": {
            "tags": []
          },
          "execution_count": 102
        }
      ]
    },
    {
      "cell_type": "code",
      "metadata": {
        "id": "gQbX3eN-A_qa",
        "colab_type": "code",
        "colab": {}
      },
      "source": [
        "a = [5,6,7,'s']"
      ],
      "execution_count": 103,
      "outputs": []
    },
    {
      "cell_type": "code",
      "metadata": {
        "id": "uKVX9222BFw7",
        "colab_type": "code",
        "colab": {
          "base_uri": "https://localhost:8080/",
          "height": 35
        },
        "outputId": "58f97eac-fe7a-4677-abbd-3ee77f2c0077"
      },
      "source": [
        "a[0]"
      ],
      "execution_count": 104,
      "outputs": [
        {
          "output_type": "execute_result",
          "data": {
            "text/plain": [
              "5"
            ]
          },
          "metadata": {
            "tags": []
          },
          "execution_count": 104
        }
      ]
    },
    {
      "cell_type": "code",
      "metadata": {
        "id": "mPwuvKSRBHcb",
        "colab_type": "code",
        "colab": {
          "base_uri": "https://localhost:8080/",
          "height": 35
        },
        "outputId": "9e1acae9-c061-45d0-90b4-fc7f606e1f96"
      },
      "source": [
        "a[-1]"
      ],
      "execution_count": 105,
      "outputs": [
        {
          "output_type": "execute_result",
          "data": {
            "application/vnd.google.colaboratory.intrinsic": {
              "type": "string"
            },
            "text/plain": [
              "'s'"
            ]
          },
          "metadata": {
            "tags": []
          },
          "execution_count": 105
        }
      ]
    },
    {
      "cell_type": "code",
      "metadata": {
        "id": "ttIcNdnlBIs8",
        "colab_type": "code",
        "colab": {
          "base_uri": "https://localhost:8080/",
          "height": 35
        },
        "outputId": "4816b871-df46-4874-9d59-942c1d6e2d0c"
      },
      "source": [
        "a[2:4]"
      ],
      "execution_count": 106,
      "outputs": [
        {
          "output_type": "execute_result",
          "data": {
            "text/plain": [
              "[7, 's']"
            ]
          },
          "metadata": {
            "tags": []
          },
          "execution_count": 106
        }
      ]
    },
    {
      "cell_type": "code",
      "metadata": {
        "id": "AlQVTO-HBKu7",
        "colab_type": "code",
        "colab": {
          "base_uri": "https://localhost:8080/",
          "height": 35
        },
        "outputId": "572d58cb-ef56-4a37-8e2a-8a11b31968a8"
      },
      "source": [
        "a[2:100]"
      ],
      "execution_count": 107,
      "outputs": [
        {
          "output_type": "execute_result",
          "data": {
            "text/plain": [
              "[7, 's']"
            ]
          },
          "metadata": {
            "tags": []
          },
          "execution_count": 107
        }
      ]
    },
    {
      "cell_type": "code",
      "metadata": {
        "id": "1qaQAythBS6r",
        "colab_type": "code",
        "colab": {
          "base_uri": "https://localhost:8080/",
          "height": 35
        },
        "outputId": "ae87622f-92b7-4e8b-f68f-242576897f4c"
      },
      "source": [
        "a[2:]"
      ],
      "execution_count": 108,
      "outputs": [
        {
          "output_type": "execute_result",
          "data": {
            "text/plain": [
              "[7, 's']"
            ]
          },
          "metadata": {
            "tags": []
          },
          "execution_count": 108
        }
      ]
    },
    {
      "cell_type": "code",
      "metadata": {
        "id": "8ygyPMUPBVfs",
        "colab_type": "code",
        "colab": {
          "base_uri": "https://localhost:8080/",
          "height": 35
        },
        "outputId": "80aa25a1-f7ab-4ee7-ed65-3df3bdee8440"
      },
      "source": [
        "a[::2]"
      ],
      "execution_count": 109,
      "outputs": [
        {
          "output_type": "execute_result",
          "data": {
            "text/plain": [
              "[5, 7]"
            ]
          },
          "metadata": {
            "tags": []
          },
          "execution_count": 109
        }
      ]
    },
    {
      "cell_type": "code",
      "metadata": {
        "id": "8u7yVBheBW1r",
        "colab_type": "code",
        "colab": {
          "base_uri": "https://localhost:8080/",
          "height": 35
        },
        "outputId": "31f7d6d2-7194-4260-ec82-5682be97f4d3"
      },
      "source": [
        "a[::-1]"
      ],
      "execution_count": 110,
      "outputs": [
        {
          "output_type": "execute_result",
          "data": {
            "text/plain": [
              "['s', 7, 6, 5]"
            ]
          },
          "metadata": {
            "tags": []
          },
          "execution_count": 110
        }
      ]
    },
    {
      "cell_type": "code",
      "metadata": {
        "id": "4kfnfDXEBYcb",
        "colab_type": "code",
        "colab": {
          "base_uri": "https://localhost:8080/",
          "height": 35
        },
        "outputId": "d2035502-247b-4140-e610-8b46115b2a13"
      },
      "source": [
        "len(a)"
      ],
      "execution_count": 111,
      "outputs": [
        {
          "output_type": "execute_result",
          "data": {
            "text/plain": [
              "4"
            ]
          },
          "metadata": {
            "tags": []
          },
          "execution_count": 111
        }
      ]
    },
    {
      "cell_type": "code",
      "metadata": {
        "id": "Ki_gZemHBagL",
        "colab_type": "code",
        "colab": {}
      },
      "source": [
        "a = [5,6,7,8]"
      ],
      "execution_count": 112,
      "outputs": []
    },
    {
      "cell_type": "code",
      "metadata": {
        "id": "uwqq0QI4BjEc",
        "colab_type": "code",
        "colab": {
          "base_uri": "https://localhost:8080/",
          "height": 35
        },
        "outputId": "ff1a045b-eecc-450a-e0f0-37f7fddd5d8b"
      },
      "source": [
        "a.pop()"
      ],
      "execution_count": 113,
      "outputs": [
        {
          "output_type": "execute_result",
          "data": {
            "text/plain": [
              "8"
            ]
          },
          "metadata": {
            "tags": []
          },
          "execution_count": 113
        }
      ]
    },
    {
      "cell_type": "code",
      "metadata": {
        "id": "CdNL6QoSBlGM",
        "colab_type": "code",
        "colab": {
          "base_uri": "https://localhost:8080/",
          "height": 35
        },
        "outputId": "e9f9bfbc-19f1-4de4-e667-b5fdd2f1b214"
      },
      "source": [
        "a"
      ],
      "execution_count": 114,
      "outputs": [
        {
          "output_type": "execute_result",
          "data": {
            "text/plain": [
              "[5, 6, 7]"
            ]
          },
          "metadata": {
            "tags": []
          },
          "execution_count": 114
        }
      ]
    },
    {
      "cell_type": "code",
      "metadata": {
        "id": "Gx058ELcBlyL",
        "colab_type": "code",
        "colab": {}
      },
      "source": [
        "a.append(2)"
      ],
      "execution_count": 115,
      "outputs": []
    },
    {
      "cell_type": "code",
      "metadata": {
        "id": "BMrh2z5WBoAc",
        "colab_type": "code",
        "colab": {
          "base_uri": "https://localhost:8080/",
          "height": 35
        },
        "outputId": "78d38b8f-f077-4c6b-b2d9-a90df1382f1d"
      },
      "source": [
        "a"
      ],
      "execution_count": 116,
      "outputs": [
        {
          "output_type": "execute_result",
          "data": {
            "text/plain": [
              "[5, 6, 7, 2]"
            ]
          },
          "metadata": {
            "tags": []
          },
          "execution_count": 116
        }
      ]
    },
    {
      "cell_type": "code",
      "metadata": {
        "id": "n1jSzYd8Boir",
        "colab_type": "code",
        "colab": {}
      },
      "source": [
        "a.sort()"
      ],
      "execution_count": 117,
      "outputs": []
    },
    {
      "cell_type": "code",
      "metadata": {
        "id": "546sPrHvBqHM",
        "colab_type": "code",
        "colab": {
          "base_uri": "https://localhost:8080/",
          "height": 35
        },
        "outputId": "169f475b-debd-44ae-db32-a6010431269f"
      },
      "source": [
        "a"
      ],
      "execution_count": 118,
      "outputs": [
        {
          "output_type": "execute_result",
          "data": {
            "text/plain": [
              "[2, 5, 6, 7]"
            ]
          },
          "metadata": {
            "tags": []
          },
          "execution_count": 118
        }
      ]
    },
    {
      "cell_type": "code",
      "metadata": {
        "id": "w0LzudFEBqwM",
        "colab_type": "code",
        "colab": {}
      },
      "source": [
        "a.reverse()"
      ],
      "execution_count": 119,
      "outputs": []
    },
    {
      "cell_type": "code",
      "metadata": {
        "id": "0ToQ4lqiBsc8",
        "colab_type": "code",
        "colab": {
          "base_uri": "https://localhost:8080/",
          "height": 35
        },
        "outputId": "c1d79c8f-7f71-4bf4-ef29-fdcff6bcba7e"
      },
      "source": [
        "a"
      ],
      "execution_count": 120,
      "outputs": [
        {
          "output_type": "execute_result",
          "data": {
            "text/plain": [
              "[7, 6, 5, 2]"
            ]
          },
          "metadata": {
            "tags": []
          },
          "execution_count": 120
        }
      ]
    },
    {
      "cell_type": "code",
      "metadata": {
        "id": "UDJN2sOgBs7s",
        "colab_type": "code",
        "colab": {
          "base_uri": "https://localhost:8080/",
          "height": 35
        },
        "outputId": "bd309ec3-291f-45aa-dbd6-3f313a6e1a3f"
      },
      "source": [
        "'a'"
      ],
      "execution_count": 121,
      "outputs": [
        {
          "output_type": "execute_result",
          "data": {
            "application/vnd.google.colaboratory.intrinsic": {
              "type": "string"
            },
            "text/plain": [
              "'a'"
            ]
          },
          "metadata": {
            "tags": []
          },
          "execution_count": 121
        }
      ]
    },
    {
      "cell_type": "code",
      "metadata": {
        "id": "iwhGCT17B2Nb",
        "colab_type": "code",
        "colab": {
          "base_uri": "https://localhost:8080/",
          "height": 35
        },
        "outputId": "85518bd1-beb0-46c3-c899-6b89c3564597"
      },
      "source": [
        "list('a')"
      ],
      "execution_count": 122,
      "outputs": [
        {
          "output_type": "execute_result",
          "data": {
            "text/plain": [
              "['a']"
            ]
          },
          "metadata": {
            "tags": []
          },
          "execution_count": 122
        }
      ]
    },
    {
      "cell_type": "code",
      "metadata": {
        "id": "WAlxjivgB4ps",
        "colab_type": "code",
        "colab": {
          "base_uri": "https://localhost:8080/",
          "height": 35
        },
        "outputId": "274ce91a-ec97-496a-92bb-c2732fee3032"
      },
      "source": [
        "list('hello world')"
      ],
      "execution_count": 123,
      "outputs": [
        {
          "output_type": "execute_result",
          "data": {
            "text/plain": [
              "['h', 'e', 'l', 'l', 'o', ' ', 'w', 'o', 'r', 'l', 'd']"
            ]
          },
          "metadata": {
            "tags": []
          },
          "execution_count": 123
        }
      ]
    },
    {
      "cell_type": "code",
      "metadata": {
        "id": "AmJvu5DdB8Ac",
        "colab_type": "code",
        "colab": {
          "base_uri": "https://localhost:8080/",
          "height": 35
        },
        "outputId": "dd3d6ac0-7f05-4c99-b1bf-292988dba642"
      },
      "source": [
        "'e' in 'hello world'"
      ],
      "execution_count": 124,
      "outputs": [
        {
          "output_type": "execute_result",
          "data": {
            "text/plain": [
              "True"
            ]
          },
          "metadata": {
            "tags": []
          },
          "execution_count": 124
        }
      ]
    },
    {
      "cell_type": "code",
      "metadata": {
        "id": "u5TPqAhZCBts",
        "colab_type": "code",
        "colab": {
          "base_uri": "https://localhost:8080/",
          "height": 35
        },
        "outputId": "49e41a28-e23b-4648-f0f9-454bbdc6aad3"
      },
      "source": [
        "'e' in list('hello world')"
      ],
      "execution_count": 125,
      "outputs": [
        {
          "output_type": "execute_result",
          "data": {
            "text/plain": [
              "True"
            ]
          },
          "metadata": {
            "tags": []
          },
          "execution_count": 125
        }
      ]
    },
    {
      "cell_type": "code",
      "metadata": {
        "id": "wKJ2t5KTCEcM",
        "colab_type": "code",
        "colab": {
          "base_uri": "https://localhost:8080/",
          "height": 35
        },
        "outputId": "6f16f36b-df48-41bc-8e1c-0e7a020868e1"
      },
      "source": [
        "filedir = ['A001.txt','A002.txt', 'A003.txt','A005.txt']\n",
        "'A004.txt' in filedir"
      ],
      "execution_count": 126,
      "outputs": [
        {
          "output_type": "execute_result",
          "data": {
            "text/plain": [
              "False"
            ]
          },
          "metadata": {
            "tags": []
          },
          "execution_count": 126
        }
      ]
    },
    {
      "cell_type": "code",
      "metadata": {
        "id": "M_5uZ_e6CRGM",
        "colab_type": "code",
        "colab": {}
      },
      "source": [
        "a = [1,2,3]\n",
        "b = a"
      ],
      "execution_count": 127,
      "outputs": []
    },
    {
      "cell_type": "code",
      "metadata": {
        "id": "gaI49QsaCdHM",
        "colab_type": "code",
        "colab": {
          "base_uri": "https://localhost:8080/",
          "height": 35
        },
        "outputId": "7cf65d9d-c02c-4092-dc7b-2398a0026c94"
      },
      "source": [
        "a"
      ],
      "execution_count": 128,
      "outputs": [
        {
          "output_type": "execute_result",
          "data": {
            "text/plain": [
              "[1, 2, 3]"
            ]
          },
          "metadata": {
            "tags": []
          },
          "execution_count": 128
        }
      ]
    },
    {
      "cell_type": "code",
      "metadata": {
        "id": "6dcAaHVeCdgd",
        "colab_type": "code",
        "colab": {
          "base_uri": "https://localhost:8080/",
          "height": 35
        },
        "outputId": "14b073d7-1bc2-485e-ac84-69e87b84895f"
      },
      "source": [
        "b"
      ],
      "execution_count": 129,
      "outputs": [
        {
          "output_type": "execute_result",
          "data": {
            "text/plain": [
              "[1, 2, 3]"
            ]
          },
          "metadata": {
            "tags": []
          },
          "execution_count": 129
        }
      ]
    },
    {
      "cell_type": "code",
      "metadata": {
        "id": "J4Ox2T7MCeIM",
        "colab_type": "code",
        "colab": {}
      },
      "source": [
        "a[1] = 2000"
      ],
      "execution_count": 131,
      "outputs": []
    },
    {
      "cell_type": "code",
      "metadata": {
        "id": "HR7mB4CKCgpM",
        "colab_type": "code",
        "colab": {
          "base_uri": "https://localhost:8080/",
          "height": 35
        },
        "outputId": "65282b9b-2787-4144-ea39-c18ec01c7a78"
      },
      "source": [
        "a"
      ],
      "execution_count": 132,
      "outputs": [
        {
          "output_type": "execute_result",
          "data": {
            "text/plain": [
              "[1, 2000, 3]"
            ]
          },
          "metadata": {
            "tags": []
          },
          "execution_count": 132
        }
      ]
    },
    {
      "cell_type": "code",
      "metadata": {
        "id": "_IgY-uy7CiZc",
        "colab_type": "code",
        "colab": {
          "base_uri": "https://localhost:8080/",
          "height": 183
        },
        "outputId": "e941acfd-cce4-40ee-ec24-f0b070eb7e14"
      },
      "source": [
        "s = 'hello'\n",
        "s[1] = 'a'"
      ],
      "execution_count": 134,
      "outputs": [
        {
          "output_type": "error",
          "ename": "TypeError",
          "evalue": "ignored",
          "traceback": [
            "\u001b[0;31m---------------------------------------------------------------------------\u001b[0m",
            "\u001b[0;31mTypeError\u001b[0m                                 Traceback (most recent call last)",
            "\u001b[0;32m<ipython-input-134-1a42f42e3c3a>\u001b[0m in \u001b[0;36m<module>\u001b[0;34m()\u001b[0m\n\u001b[1;32m      1\u001b[0m \u001b[0ms\u001b[0m \u001b[0;34m=\u001b[0m \u001b[0;34m'hello'\u001b[0m\u001b[0;34m\u001b[0m\u001b[0;34m\u001b[0m\u001b[0m\n\u001b[0;32m----> 2\u001b[0;31m \u001b[0ms\u001b[0m\u001b[0;34m[\u001b[0m\u001b[0;36m1\u001b[0m\u001b[0;34m]\u001b[0m \u001b[0;34m=\u001b[0m \u001b[0;34m'a'\u001b[0m\u001b[0;34m\u001b[0m\u001b[0;34m\u001b[0m\u001b[0m\n\u001b[0m",
            "\u001b[0;31mTypeError\u001b[0m: 'str' object does not support item assignment"
          ]
        }
      ]
    },
    {
      "cell_type": "code",
      "metadata": {
        "id": "__tZnhh-Cnnc",
        "colab_type": "code",
        "colab": {
          "base_uri": "https://localhost:8080/",
          "height": 35
        },
        "outputId": "584538ca-6fe5-4792-88ec-11c4138f53d6"
      },
      "source": [
        "b"
      ],
      "execution_count": 135,
      "outputs": [
        {
          "output_type": "execute_result",
          "data": {
            "text/plain": [
              "[1, 2000, 3]"
            ]
          },
          "metadata": {
            "tags": []
          },
          "execution_count": 135
        }
      ]
    },
    {
      "cell_type": "code",
      "metadata": {
        "id": "l6AF6lgGCu5M",
        "colab_type": "code",
        "colab": {}
      },
      "source": [
        "a = [1,2,3]\n",
        "b = a.copy()"
      ],
      "execution_count": 136,
      "outputs": []
    },
    {
      "cell_type": "code",
      "metadata": {
        "id": "r9DSW0A7C35M",
        "colab_type": "code",
        "colab": {}
      },
      "source": [
        "a[1] = 2000"
      ],
      "execution_count": 137,
      "outputs": []
    },
    {
      "cell_type": "code",
      "metadata": {
        "id": "XiARkgDfC5ks",
        "colab_type": "code",
        "colab": {
          "base_uri": "https://localhost:8080/",
          "height": 35
        },
        "outputId": "54a38106-f20d-490c-c3fe-a48eb7b3aa35"
      },
      "source": [
        "a"
      ],
      "execution_count": 138,
      "outputs": [
        {
          "output_type": "execute_result",
          "data": {
            "text/plain": [
              "[1, 2000, 3]"
            ]
          },
          "metadata": {
            "tags": []
          },
          "execution_count": 138
        }
      ]
    },
    {
      "cell_type": "code",
      "metadata": {
        "id": "4p65JhZkC56t",
        "colab_type": "code",
        "colab": {
          "base_uri": "https://localhost:8080/",
          "height": 35
        },
        "outputId": "eb352f9c-a19c-4b5e-b1cd-bcd534a27887"
      },
      "source": [
        "b"
      ],
      "execution_count": 139,
      "outputs": [
        {
          "output_type": "execute_result",
          "data": {
            "text/plain": [
              "[1, 2, 3]"
            ]
          },
          "metadata": {
            "tags": []
          },
          "execution_count": 139
        }
      ]
    },
    {
      "cell_type": "markdown",
      "metadata": {
        "id": "CxMAtGOTEaU0",
        "colab_type": "text"
      },
      "source": [
        "## Dictionary"
      ]
    },
    {
      "cell_type": "code",
      "metadata": {
        "id": "FnBURliLC7Lx",
        "colab_type": "code",
        "colab": {
          "base_uri": "https://localhost:8080/",
          "height": 35
        },
        "outputId": "0ff8ede4-efc6-4101-c91f-e7194b4270fc"
      },
      "source": [
        "dic = {'a':100, 'b': 'yes', 'c':0.98}\n",
        "dic"
      ],
      "execution_count": 140,
      "outputs": [
        {
          "output_type": "execute_result",
          "data": {
            "text/plain": [
              "{'a': 100, 'b': 'yes', 'c': 0.98}"
            ]
          },
          "metadata": {
            "tags": []
          },
          "execution_count": 140
        }
      ]
    },
    {
      "cell_type": "code",
      "metadata": {
        "id": "eESndsLEEh-8",
        "colab_type": "code",
        "colab": {}
      },
      "source": [
        "dic = {1:0, 2:1}"
      ],
      "execution_count": 141,
      "outputs": []
    },
    {
      "cell_type": "code",
      "metadata": {
        "id": "INtCvFeZEpJc",
        "colab_type": "code",
        "colab": {
          "base_uri": "https://localhost:8080/",
          "height": 35
        },
        "outputId": "2f4f2b4d-0342-495f-e4b1-a5e0246c969a"
      },
      "source": [
        "dic"
      ],
      "execution_count": 142,
      "outputs": [
        {
          "output_type": "execute_result",
          "data": {
            "text/plain": [
              "{1: 0, 2: 1}"
            ]
          },
          "metadata": {
            "tags": []
          },
          "execution_count": 142
        }
      ]
    },
    {
      "cell_type": "code",
      "metadata": {
        "id": "SmXZ4HkDEqYM",
        "colab_type": "code",
        "colab": {
          "base_uri": "https://localhost:8080/",
          "height": 35
        },
        "outputId": "50525957-e402-4c07-b31b-df7d7d3a3038"
      },
      "source": [
        "dic = {'a':100, 'b': 'yes', 'c':0.98}\n",
        "dic"
      ],
      "execution_count": 143,
      "outputs": [
        {
          "output_type": "execute_result",
          "data": {
            "text/plain": [
              "{'a': 100, 'b': 'yes', 'c': 0.98}"
            ]
          },
          "metadata": {
            "tags": []
          },
          "execution_count": 143
        }
      ]
    },
    {
      "cell_type": "code",
      "metadata": {
        "id": "v5jft_2OEsQ8",
        "colab_type": "code",
        "colab": {
          "base_uri": "https://localhost:8080/",
          "height": 35
        },
        "outputId": "e35b4b2d-e6a6-43d9-9099-52dec0000896"
      },
      "source": [
        "dic.keys()"
      ],
      "execution_count": 144,
      "outputs": [
        {
          "output_type": "execute_result",
          "data": {
            "text/plain": [
              "dict_keys(['a', 'b', 'c'])"
            ]
          },
          "metadata": {
            "tags": []
          },
          "execution_count": 144
        }
      ]
    },
    {
      "cell_type": "code",
      "metadata": {
        "id": "BoBCfaqzEvX8",
        "colab_type": "code",
        "colab": {
          "base_uri": "https://localhost:8080/",
          "height": 35
        },
        "outputId": "388bf976-6ed3-472e-f952-70ae78d79bfa"
      },
      "source": [
        "dic.values()"
      ],
      "execution_count": 146,
      "outputs": [
        {
          "output_type": "execute_result",
          "data": {
            "text/plain": [
              "dict_values([100, 'yes', 0.98])"
            ]
          },
          "metadata": {
            "tags": []
          },
          "execution_count": 146
        }
      ]
    },
    {
      "cell_type": "code",
      "metadata": {
        "id": "iu7W7KdZEyfN",
        "colab_type": "code",
        "colab": {
          "base_uri": "https://localhost:8080/",
          "height": 35
        },
        "outputId": "db82cb1d-d58e-4b77-d532-e350dd43e7a4"
      },
      "source": [
        "dic['a']"
      ],
      "execution_count": 147,
      "outputs": [
        {
          "output_type": "execute_result",
          "data": {
            "text/plain": [
              "100"
            ]
          },
          "metadata": {
            "tags": []
          },
          "execution_count": 147
        }
      ]
    },
    {
      "cell_type": "code",
      "metadata": {
        "id": "ZcasKaqQE3qs",
        "colab_type": "code",
        "colab": {
          "base_uri": "https://localhost:8080/",
          "height": 166
        },
        "outputId": "12b64bcd-4516-403e-b1fb-a17a406c8ce1"
      },
      "source": [
        "dic['d']"
      ],
      "execution_count": 148,
      "outputs": [
        {
          "output_type": "error",
          "ename": "KeyError",
          "evalue": "ignored",
          "traceback": [
            "\u001b[0;31m---------------------------------------------------------------------------\u001b[0m",
            "\u001b[0;31mKeyError\u001b[0m                                  Traceback (most recent call last)",
            "\u001b[0;32m<ipython-input-148-2b1b63ca196d>\u001b[0m in \u001b[0;36m<module>\u001b[0;34m()\u001b[0m\n\u001b[0;32m----> 1\u001b[0;31m \u001b[0mdic\u001b[0m\u001b[0;34m[\u001b[0m\u001b[0;34m'd'\u001b[0m\u001b[0;34m]\u001b[0m\u001b[0;34m\u001b[0m\u001b[0;34m\u001b[0m\u001b[0m\n\u001b[0m",
            "\u001b[0;31mKeyError\u001b[0m: 'd'"
          ]
        }
      ]
    },
    {
      "cell_type": "code",
      "metadata": {
        "id": "K2psvYPqE6sd",
        "colab_type": "code",
        "colab": {
          "base_uri": "https://localhost:8080/",
          "height": 35
        },
        "outputId": "9cec4b52-7019-4361-a62e-b2c266084887"
      },
      "source": [
        "dic.get('a')"
      ],
      "execution_count": 149,
      "outputs": [
        {
          "output_type": "execute_result",
          "data": {
            "text/plain": [
              "100"
            ]
          },
          "metadata": {
            "tags": []
          },
          "execution_count": 149
        }
      ]
    },
    {
      "cell_type": "code",
      "metadata": {
        "id": "DFFeIvpcFke1",
        "colab_type": "code",
        "colab": {}
      },
      "source": [
        "dic.get('d')"
      ],
      "execution_count": 150,
      "outputs": []
    },
    {
      "cell_type": "code",
      "metadata": {
        "id": "duZLz1UVFmpN",
        "colab_type": "code",
        "colab": {
          "base_uri": "https://localhost:8080/",
          "height": 35
        },
        "outputId": "7a62ecb8-ab3a-436f-f65d-588581e96805"
      },
      "source": [
        "print(dic.get('d'))"
      ],
      "execution_count": 151,
      "outputs": [
        {
          "output_type": "stream",
          "text": [
            "None\n"
          ],
          "name": "stdout"
        }
      ]
    },
    {
      "cell_type": "code",
      "metadata": {
        "id": "yj7X-sEqFp29",
        "colab_type": "code",
        "colab": {}
      },
      "source": [
        "None"
      ],
      "execution_count": 152,
      "outputs": []
    },
    {
      "cell_type": "code",
      "metadata": {
        "id": "cw6CofTUFsc9",
        "colab_type": "code",
        "colab": {
          "base_uri": "https://localhost:8080/",
          "height": 35
        },
        "outputId": "6d9a96fc-572d-4af9-b8a1-b45971017e06"
      },
      "source": [
        "dic.get('d', 'DEFAULT ANSWER')"
      ],
      "execution_count": 153,
      "outputs": [
        {
          "output_type": "execute_result",
          "data": {
            "application/vnd.google.colaboratory.intrinsic": {
              "type": "string"
            },
            "text/plain": [
              "'DEFAULT ANSWER'"
            ]
          },
          "metadata": {
            "tags": []
          },
          "execution_count": 153
        }
      ]
    },
    {
      "cell_type": "code",
      "metadata": {
        "id": "b1PtVUbQF2hM",
        "colab_type": "code",
        "colab": {
          "base_uri": "https://localhost:8080/",
          "height": 35
        },
        "outputId": "f1d4c2b5-0696-47d9-ad96-29a42eb67364"
      },
      "source": [
        "dic.get('a', 'DEFAULT ANSWER')"
      ],
      "execution_count": 154,
      "outputs": [
        {
          "output_type": "execute_result",
          "data": {
            "text/plain": [
              "100"
            ]
          },
          "metadata": {
            "tags": []
          },
          "execution_count": 154
        }
      ]
    },
    {
      "cell_type": "code",
      "metadata": {
        "id": "EyYD3ICIF5DN",
        "colab_type": "code",
        "colab": {
          "base_uri": "https://localhost:8080/",
          "height": 35
        },
        "outputId": "0ccc9a8b-3f7c-40f2-daba-c930685d4107"
      },
      "source": [
        "dic"
      ],
      "execution_count": 155,
      "outputs": [
        {
          "output_type": "execute_result",
          "data": {
            "text/plain": [
              "{'a': 100, 'b': 'yes', 'c': 0.98}"
            ]
          },
          "metadata": {
            "tags": []
          },
          "execution_count": 155
        }
      ]
    },
    {
      "cell_type": "code",
      "metadata": {
        "id": "A3VEjJEiGEZ9",
        "colab_type": "code",
        "colab": {}
      },
      "source": [
        "dic['d'] = 'new'"
      ],
      "execution_count": 156,
      "outputs": []
    },
    {
      "cell_type": "code",
      "metadata": {
        "id": "6dv50uT3GG6e",
        "colab_type": "code",
        "colab": {
          "base_uri": "https://localhost:8080/",
          "height": 35
        },
        "outputId": "67058943-2ca8-455b-a50f-9d0d93854348"
      },
      "source": [
        "dic"
      ],
      "execution_count": 157,
      "outputs": [
        {
          "output_type": "execute_result",
          "data": {
            "text/plain": [
              "{'a': 100, 'b': 'yes', 'c': 0.98, 'd': 'new'}"
            ]
          },
          "metadata": {
            "tags": []
          },
          "execution_count": 157
        }
      ]
    },
    {
      "cell_type": "code",
      "metadata": {
        "id": "WlxHe8WnGHXd",
        "colab_type": "code",
        "colab": {}
      },
      "source": [
        "dic2 = {'d':100, 'e':'newnew'}\n",
        "dic.update(dic2)"
      ],
      "execution_count": 158,
      "outputs": []
    },
    {
      "cell_type": "code",
      "metadata": {
        "id": "c9Och_7MGP9N",
        "colab_type": "code",
        "colab": {
          "base_uri": "https://localhost:8080/",
          "height": 35
        },
        "outputId": "a9fbfd19-ef4e-4198-8b86-d5eb9bcc385c"
      },
      "source": [
        "dic"
      ],
      "execution_count": 159,
      "outputs": [
        {
          "output_type": "execute_result",
          "data": {
            "text/plain": [
              "{'a': 100, 'b': 'yes', 'c': 0.98, 'd': 100, 'e': 'newnew'}"
            ]
          },
          "metadata": {
            "tags": []
          },
          "execution_count": 159
        }
      ]
    },
    {
      "cell_type": "markdown",
      "metadata": {
        "id": "m8WN-UZtGi0C",
        "colab_type": "text"
      },
      "source": [
        "### 練習題\n",
        "我們希望建立一個對話機器人, 機器人裡面內建一個資料問答資料庫, 資料庫的問題跟答案如下所示:\n",
        "\n",
        "- 問題:我要保保險 答案: 以下是我們推薦的險總類\n",
        "- 問題:我要貸款 答案: 以下是我們推薦的貸款總類\n",
        "- 問題:我要查餘額 答案: 以下是您的銀行存款餘額\n",
        "\n",
        "希望你能用這個問答資料庫建立成一個Python 字典, 當使用者輸入問題時, 可以根據問答資料庫回答答案, 但是如果問題不在資料庫之中，請答：我現在還不聰明，等我變聰明以後再回答你\n",
        "\n",
        "提示: 要使用 get 的語法"
      ]
    },
    {
      "cell_type": "code",
      "metadata": {
        "id": "P4agX-amGQu-",
        "colab_type": "code",
        "colab": {
          "base_uri": "https://localhost:8080/",
          "height": 35
        },
        "outputId": "b7b68675-5fb7-4065-a8d2-384a60aa15c6"
      },
      "source": [
        "question = input('請輸入你的問題:')"
      ],
      "execution_count": 168,
      "outputs": [
        {
          "output_type": "stream",
          "text": [
            "請輸入你的問題:吃飽沒\n"
          ],
          "name": "stdout"
        }
      ]
    },
    {
      "cell_type": "code",
      "metadata": {
        "id": "Tp8J2qnrXzDO",
        "colab_type": "code",
        "colab": {}
      },
      "source": [
        "qa = {\n",
        "  '我要保保險' :   '以下是我們推薦的險總類',\n",
        "  '我要貸款'   :   '以下是我們推薦的貸款總類',\n",
        "  '我要查餘額' :   '以下是您的銀行存款餘額'\n",
        "}"
      ],
      "execution_count": 162,
      "outputs": []
    },
    {
      "cell_type": "code",
      "metadata": {
        "id": "R6x1aG38G6lt",
        "colab_type": "code",
        "colab": {
          "base_uri": "https://localhost:8080/",
          "height": 35
        },
        "outputId": "0f74da9e-7103-4a2b-fb10-fc914eee832c"
      },
      "source": [
        "print(qa.get(question,'我現在還不聰明，等我變聰明以後再回答你'))"
      ],
      "execution_count": 170,
      "outputs": [
        {
          "output_type": "stream",
          "text": [
            "None\n"
          ],
          "name": "stdout"
        }
      ]
    },
    {
      "cell_type": "code",
      "metadata": {
        "id": "XShnWjZVHAy-",
        "colab_type": "code",
        "colab": {
          "base_uri": "https://localhost:8080/",
          "height": 52
        },
        "outputId": "8facd9b5-d621-41ae-f927-de9f6c20845c"
      },
      "source": [
        "question = input('請輸入你的問題:')\n",
        "print(qa.get(question,'我現在還不聰明，等我變聰明以後再回答你'))"
      ],
      "execution_count": 172,
      "outputs": [
        {
          "output_type": "stream",
          "text": [
            "請輸入你的問題:我要貸款\n",
            "以下是我們推薦的貸款總類\n"
          ],
          "name": "stdout"
        }
      ]
    },
    {
      "cell_type": "markdown",
      "metadata": {
        "id": "rHm6YsKdZYp_",
        "colab_type": "text"
      },
      "source": [
        "## Tuple"
      ]
    },
    {
      "cell_type": "code",
      "metadata": {
        "id": "7CF_oaGoZm3M",
        "colab_type": "code",
        "colab": {}
      },
      "source": [
        "t1 = (1,2,3)"
      ],
      "execution_count": 174,
      "outputs": []
    },
    {
      "cell_type": "code",
      "metadata": {
        "id": "JqEqrvyYZtwT",
        "colab_type": "code",
        "colab": {
          "base_uri": "https://localhost:8080/",
          "height": 35
        },
        "outputId": "3830bd62-eb69-46db-df23-7d6e17b19b74"
      },
      "source": [
        "type(t1)"
      ],
      "execution_count": 175,
      "outputs": [
        {
          "output_type": "execute_result",
          "data": {
            "text/plain": [
              "tuple"
            ]
          },
          "metadata": {
            "tags": []
          },
          "execution_count": 175
        }
      ]
    },
    {
      "cell_type": "code",
      "metadata": {
        "id": "-RPhfSP3ZxH1",
        "colab_type": "code",
        "colab": {}
      },
      "source": [
        "t2 = 1,2,3"
      ],
      "execution_count": 176,
      "outputs": []
    },
    {
      "cell_type": "code",
      "metadata": {
        "id": "daLzcAJNZzNT",
        "colab_type": "code",
        "colab": {
          "base_uri": "https://localhost:8080/",
          "height": 35
        },
        "outputId": "82d8bcf5-768c-435d-ff25-dd81d1f4e3e9"
      },
      "source": [
        "t2"
      ],
      "execution_count": 177,
      "outputs": [
        {
          "output_type": "execute_result",
          "data": {
            "text/plain": [
              "(1, 2, 3)"
            ]
          },
          "metadata": {
            "tags": []
          },
          "execution_count": 177
        }
      ]
    },
    {
      "cell_type": "code",
      "metadata": {
        "id": "OxwIKGmiZztj",
        "colab_type": "code",
        "colab": {}
      },
      "source": [
        "t3 = tuple([1,2,3])"
      ],
      "execution_count": 180,
      "outputs": []
    },
    {
      "cell_type": "code",
      "metadata": {
        "id": "O0MrLlLCZ2yT",
        "colab_type": "code",
        "colab": {
          "base_uri": "https://localhost:8080/",
          "height": 35
        },
        "outputId": "c545f04d-9d9d-44e8-ea1b-86d476efc0aa"
      },
      "source": [
        "t3"
      ],
      "execution_count": 181,
      "outputs": [
        {
          "output_type": "execute_result",
          "data": {
            "text/plain": [
              "(1, 2, 3)"
            ]
          },
          "metadata": {
            "tags": []
          },
          "execution_count": 181
        }
      ]
    },
    {
      "cell_type": "code",
      "metadata": {
        "id": "J6SxXbU6Z7qD",
        "colab_type": "code",
        "colab": {}
      },
      "source": [
        "l1 = [1,2,3]"
      ],
      "execution_count": 182,
      "outputs": []
    },
    {
      "cell_type": "code",
      "metadata": {
        "id": "KhLcOx_9Z_Bj",
        "colab_type": "code",
        "colab": {}
      },
      "source": [
        "t1 = (1,2,3)"
      ],
      "execution_count": 183,
      "outputs": []
    },
    {
      "cell_type": "code",
      "metadata": {
        "id": "gquT4uKuaCY0",
        "colab_type": "code",
        "colab": {}
      },
      "source": [
        "l1.append(4)"
      ],
      "execution_count": 184,
      "outputs": []
    },
    {
      "cell_type": "code",
      "metadata": {
        "id": "fkvJaLuKaFAD",
        "colab_type": "code",
        "colab": {
          "base_uri": "https://localhost:8080/",
          "height": 35
        },
        "outputId": "b86bf9d1-532d-4673-91f8-ada421ca8d16"
      },
      "source": [
        "l1"
      ],
      "execution_count": 185,
      "outputs": [
        {
          "output_type": "execute_result",
          "data": {
            "text/plain": [
              "[1, 2, 3, 4]"
            ]
          },
          "metadata": {
            "tags": []
          },
          "execution_count": 185
        }
      ]
    },
    {
      "cell_type": "code",
      "metadata": {
        "id": "cZcnvERwaFzk",
        "colab_type": "code",
        "colab": {
          "base_uri": "https://localhost:8080/",
          "height": 166
        },
        "outputId": "f641c4c6-46b1-4c1f-8874-d98edc67f25e"
      },
      "source": [
        "t1.append(4)"
      ],
      "execution_count": 186,
      "outputs": [
        {
          "output_type": "error",
          "ename": "AttributeError",
          "evalue": "ignored",
          "traceback": [
            "\u001b[0;31m---------------------------------------------------------------------------\u001b[0m",
            "\u001b[0;31mAttributeError\u001b[0m                            Traceback (most recent call last)",
            "\u001b[0;32m<ipython-input-186-9808aa612284>\u001b[0m in \u001b[0;36m<module>\u001b[0;34m()\u001b[0m\n\u001b[0;32m----> 1\u001b[0;31m \u001b[0mt1\u001b[0m\u001b[0;34m.\u001b[0m\u001b[0mappend\u001b[0m\u001b[0;34m(\u001b[0m\u001b[0;36m4\u001b[0m\u001b[0;34m)\u001b[0m\u001b[0;34m\u001b[0m\u001b[0;34m\u001b[0m\u001b[0m\n\u001b[0m",
            "\u001b[0;31mAttributeError\u001b[0m: 'tuple' object has no attribute 'append'"
          ]
        }
      ]
    },
    {
      "cell_type": "code",
      "metadata": {
        "id": "ctt88nz1aJMz",
        "colab_type": "code",
        "colab": {
          "base_uri": "https://localhost:8080/",
          "height": 55
        },
        "outputId": "b162c5a1-330f-4c36-93ab-9201117e2da4"
      },
      "source": [
        "print(dir(l1))"
      ],
      "execution_count": 187,
      "outputs": [
        {
          "output_type": "stream",
          "text": [
            "['__add__', '__class__', '__contains__', '__delattr__', '__delitem__', '__dir__', '__doc__', '__eq__', '__format__', '__ge__', '__getattribute__', '__getitem__', '__gt__', '__hash__', '__iadd__', '__imul__', '__init__', '__init_subclass__', '__iter__', '__le__', '__len__', '__lt__', '__mul__', '__ne__', '__new__', '__reduce__', '__reduce_ex__', '__repr__', '__reversed__', '__rmul__', '__setattr__', '__setitem__', '__sizeof__', '__str__', '__subclasshook__', 'append', 'clear', 'copy', 'count', 'extend', 'index', 'insert', 'pop', 'remove', 'reverse', 'sort']\n"
          ],
          "name": "stdout"
        }
      ]
    },
    {
      "cell_type": "code",
      "metadata": {
        "id": "ZIQ8vF-CaQ9k",
        "colab_type": "code",
        "colab": {
          "base_uri": "https://localhost:8080/",
          "height": 55
        },
        "outputId": "e795afda-c995-4cee-b90c-9983ea6867c4"
      },
      "source": [
        "print(dir(t1))"
      ],
      "execution_count": 188,
      "outputs": [
        {
          "output_type": "stream",
          "text": [
            "['__add__', '__class__', '__contains__', '__delattr__', '__dir__', '__doc__', '__eq__', '__format__', '__ge__', '__getattribute__', '__getitem__', '__getnewargs__', '__gt__', '__hash__', '__init__', '__init_subclass__', '__iter__', '__le__', '__len__', '__lt__', '__mul__', '__ne__', '__new__', '__reduce__', '__reduce_ex__', '__repr__', '__rmul__', '__setattr__', '__sizeof__', '__str__', '__subclasshook__', 'count', 'index']\n"
          ],
          "name": "stdout"
        }
      ]
    },
    {
      "cell_type": "code",
      "metadata": {
        "id": "od3Ce1hUaZF0",
        "colab_type": "code",
        "colab": {}
      },
      "source": [
        "  t = ('one', 2)"
      ],
      "execution_count": 189,
      "outputs": []
    },
    {
      "cell_type": "code",
      "metadata": {
        "id": "AZIPMhugaihE",
        "colab_type": "code",
        "colab": {
          "base_uri": "https://localhost:8080/",
          "height": 35
        },
        "outputId": "95233cd1-6e5c-4ab9-c05e-a6e7008b25a4"
      },
      "source": [
        "len(t)"
      ],
      "execution_count": 190,
      "outputs": [
        {
          "output_type": "execute_result",
          "data": {
            "text/plain": [
              "2"
            ]
          },
          "metadata": {
            "tags": []
          },
          "execution_count": 190
        }
      ]
    },
    {
      "cell_type": "code",
      "metadata": {
        "id": "usXh2cyIakMz",
        "colab_type": "code",
        "colab": {
          "base_uri": "https://localhost:8080/",
          "height": 35
        },
        "outputId": "67cf2d37-9bbd-4478-dc21-96acf2448638"
      },
      "source": [
        "t[0]"
      ],
      "execution_count": 191,
      "outputs": [
        {
          "output_type": "execute_result",
          "data": {
            "application/vnd.google.colaboratory.intrinsic": {
              "type": "string"
            },
            "text/plain": [
              "'one'"
            ]
          },
          "metadata": {
            "tags": []
          },
          "execution_count": 191
        }
      ]
    },
    {
      "cell_type": "code",
      "metadata": {
        "id": "TGVqodUaaoCz",
        "colab_type": "code",
        "colab": {
          "base_uri": "https://localhost:8080/",
          "height": 35
        },
        "outputId": "75c892bd-9349-4027-c774-c37ce64eb156"
      },
      "source": [
        "t[-1]"
      ],
      "execution_count": 192,
      "outputs": [
        {
          "output_type": "execute_result",
          "data": {
            "text/plain": [
              "2"
            ]
          },
          "metadata": {
            "tags": []
          },
          "execution_count": 192
        }
      ]
    },
    {
      "cell_type": "code",
      "metadata": {
        "id": "sMoaxgH-apyz",
        "colab_type": "code",
        "colab": {
          "base_uri": "https://localhost:8080/",
          "height": 35
        },
        "outputId": "2f8f1794-0272-4bab-c7a9-8e438c0308fe"
      },
      "source": [
        "t.index('one')"
      ],
      "execution_count": 193,
      "outputs": [
        {
          "output_type": "execute_result",
          "data": {
            "text/plain": [
              "0"
            ]
          },
          "metadata": {
            "tags": []
          },
          "execution_count": 193
        }
      ]
    },
    {
      "cell_type": "code",
      "metadata": {
        "id": "LqEUUU3WaveU",
        "colab_type": "code",
        "colab": {
          "base_uri": "https://localhost:8080/",
          "height": 35
        },
        "outputId": "6c66be4c-d980-4779-9385-e704b336c82a"
      },
      "source": [
        "t.count('one')"
      ],
      "execution_count": 194,
      "outputs": [
        {
          "output_type": "execute_result",
          "data": {
            "text/plain": [
              "1"
            ]
          },
          "metadata": {
            "tags": []
          },
          "execution_count": 194
        }
      ]
    },
    {
      "cell_type": "code",
      "metadata": {
        "id": "2LmELxKHay00",
        "colab_type": "code",
        "colab": {
          "base_uri": "https://localhost:8080/",
          "height": 35
        },
        "outputId": "3085cc46-3386-40e9-e12d-b3d09a98d678"
      },
      "source": [
        "t"
      ],
      "execution_count": 195,
      "outputs": [
        {
          "output_type": "execute_result",
          "data": {
            "text/plain": [
              "('one', 2)"
            ]
          },
          "metadata": {
            "tags": []
          },
          "execution_count": 195
        }
      ]
    },
    {
      "cell_type": "code",
      "metadata": {
        "id": "fwbt9VUOa-T0",
        "colab_type": "code",
        "colab": {
          "base_uri": "https://localhost:8080/",
          "height": 35
        },
        "outputId": "c3adf1a0-f8b6-4f5d-becd-3beaad73a72b"
      },
      "source": [
        "l1[1] = 2000\n",
        "l1"
      ],
      "execution_count": 197,
      "outputs": [
        {
          "output_type": "execute_result",
          "data": {
            "text/plain": [
              "[1, 2000, 3, 4]"
            ]
          },
          "metadata": {
            "tags": []
          },
          "execution_count": 197
        }
      ]
    },
    {
      "cell_type": "code",
      "metadata": {
        "id": "soPq6085a_K0",
        "colab_type": "code",
        "colab": {
          "base_uri": "https://localhost:8080/",
          "height": 166
        },
        "outputId": "46745e09-3e6b-4039-db48-a1eaeee9cd80"
      },
      "source": [
        "t[0] = 1"
      ],
      "execution_count": 198,
      "outputs": [
        {
          "output_type": "error",
          "ename": "TypeError",
          "evalue": "ignored",
          "traceback": [
            "\u001b[0;31m---------------------------------------------------------------------------\u001b[0m",
            "\u001b[0;31mTypeError\u001b[0m                                 Traceback (most recent call last)",
            "\u001b[0;32m<ipython-input-198-c8aeb8cd20ae>\u001b[0m in \u001b[0;36m<module>\u001b[0;34m()\u001b[0m\n\u001b[0;32m----> 1\u001b[0;31m \u001b[0mt\u001b[0m\u001b[0;34m[\u001b[0m\u001b[0;36m0\u001b[0m\u001b[0;34m]\u001b[0m \u001b[0;34m=\u001b[0m \u001b[0;36m1\u001b[0m\u001b[0;34m\u001b[0m\u001b[0;34m\u001b[0m\u001b[0m\n\u001b[0m",
            "\u001b[0;31mTypeError\u001b[0m: 'tuple' object does not support item assignment"
          ]
        }
      ]
    },
    {
      "cell_type": "code",
      "metadata": {
        "id": "qQKSkFYWbEgk",
        "colab_type": "code",
        "colab": {}
      },
      "source": [
        "?l1.append"
      ],
      "execution_count": 199,
      "outputs": []
    },
    {
      "cell_type": "code",
      "metadata": {
        "id": "ewU1ThIGbNNk",
        "colab_type": "code",
        "colab": {
          "base_uri": "https://localhost:8080/",
          "height": 166
        },
        "outputId": "eac956e9-de5a-4405-eca9-0007475fe526"
      },
      "source": [
        "t.append(3)"
      ],
      "execution_count": 200,
      "outputs": [
        {
          "output_type": "error",
          "ename": "AttributeError",
          "evalue": "ignored",
          "traceback": [
            "\u001b[0;31m---------------------------------------------------------------------------\u001b[0m",
            "\u001b[0;31mAttributeError\u001b[0m                            Traceback (most recent call last)",
            "\u001b[0;32m<ipython-input-200-a645ca36d01d>\u001b[0m in \u001b[0;36m<module>\u001b[0;34m()\u001b[0m\n\u001b[0;32m----> 1\u001b[0;31m \u001b[0mt\u001b[0m\u001b[0;34m.\u001b[0m\u001b[0mappend\u001b[0m\u001b[0;34m(\u001b[0m\u001b[0;36m3\u001b[0m\u001b[0;34m)\u001b[0m\u001b[0;34m\u001b[0m\u001b[0;34m\u001b[0m\u001b[0m\n\u001b[0m",
            "\u001b[0;31mAttributeError\u001b[0m: 'tuple' object has no attribute 'append'"
          ]
        }
      ]
    },
    {
      "cell_type": "code",
      "metadata": {
        "id": "ABxFIRmWbdVF",
        "colab_type": "code",
        "colab": {}
      },
      "source": [
        "  a = 3\n",
        "  b = 2"
      ],
      "execution_count": 201,
      "outputs": []
    },
    {
      "cell_type": "code",
      "metadata": {
        "id": "tdlvwEaXbnDk",
        "colab_type": "code",
        "colab": {}
      },
      "source": [
        "a,b = 3,2"
      ],
      "execution_count": 202,
      "outputs": []
    },
    {
      "cell_type": "code",
      "metadata": {
        "id": "lTPrShnXbq70",
        "colab_type": "code",
        "colab": {
          "base_uri": "https://localhost:8080/",
          "height": 35
        },
        "outputId": "4023e4c0-de3e-4d9f-dbfd-c7af9030443d"
      },
      "source": [
        "a"
      ],
      "execution_count": 203,
      "outputs": [
        {
          "output_type": "execute_result",
          "data": {
            "text/plain": [
              "3"
            ]
          },
          "metadata": {
            "tags": []
          },
          "execution_count": 203
        }
      ]
    },
    {
      "cell_type": "code",
      "metadata": {
        "id": "0Q6WiHyYbrpU",
        "colab_type": "code",
        "colab": {
          "base_uri": "https://localhost:8080/",
          "height": 35
        },
        "outputId": "375e33cc-fc8e-4413-963f-3fce3ba34770"
      },
      "source": [
        "b"
      ],
      "execution_count": 204,
      "outputs": [
        {
          "output_type": "execute_result",
          "data": {
            "text/plain": [
              "2"
            ]
          },
          "metadata": {
            "tags": []
          },
          "execution_count": 204
        }
      ]
    },
    {
      "cell_type": "code",
      "metadata": {
        "id": "qwylNLZBbsgk",
        "colab_type": "code",
        "colab": {
          "base_uri": "https://localhost:8080/",
          "height": 35
        },
        "outputId": "01dc527a-a94b-4df2-d247-e1ac25aae270"
      },
      "source": [
        "3,2"
      ],
      "execution_count": 205,
      "outputs": [
        {
          "output_type": "execute_result",
          "data": {
            "text/plain": [
              "(3, 2)"
            ]
          },
          "metadata": {
            "tags": []
          },
          "execution_count": 205
        }
      ]
    },
    {
      "cell_type": "code",
      "metadata": {
        "id": "es8tKhujbukU",
        "colab_type": "code",
        "colab": {}
      },
      "source": [
        "c = 3,2"
      ],
      "execution_count": 206,
      "outputs": []
    },
    {
      "cell_type": "code",
      "metadata": {
        "id": "dgYUeTVUb0sE",
        "colab_type": "code",
        "colab": {
          "base_uri": "https://localhost:8080/",
          "height": 35
        },
        "outputId": "c441e0ce-cc23-4431-b7ab-2a77646e3461"
      },
      "source": [
        "c == (a,b)"
      ],
      "execution_count": 208,
      "outputs": [
        {
          "output_type": "execute_result",
          "data": {
            "text/plain": [
              "True"
            ]
          },
          "metadata": {
            "tags": []
          },
          "execution_count": 208
        }
      ]
    },
    {
      "cell_type": "code",
      "metadata": {
        "id": "bnFmMC_Ib3G0",
        "colab_type": "code",
        "colab": {}
      },
      "source": [
        "t = (0,1)"
      ],
      "execution_count": 209,
      "outputs": []
    },
    {
      "cell_type": "code",
      "metadata": {
        "id": "9-tjAQC2cHsF",
        "colab_type": "code",
        "colab": {
          "base_uri": "https://localhost:8080/",
          "height": 35
        },
        "outputId": "027b14e7-0885-45d5-a97e-04651f3d8f92"
      },
      "source": [
        "type(t)"
      ],
      "execution_count": 210,
      "outputs": [
        {
          "output_type": "execute_result",
          "data": {
            "text/plain": [
              "tuple"
            ]
          },
          "metadata": {
            "tags": []
          },
          "execution_count": 210
        }
      ]
    },
    {
      "cell_type": "code",
      "metadata": {
        "id": "-aqpNmoOcI5l",
        "colab_type": "code",
        "colab": {
          "base_uri": "https://localhost:8080/",
          "height": 35
        },
        "outputId": "0d245834-013c-4b9c-ffca-cf2079d83008"
      },
      "source": [
        "list(t)"
      ],
      "execution_count": 211,
      "outputs": [
        {
          "output_type": "execute_result",
          "data": {
            "text/plain": [
              "[0, 1]"
            ]
          },
          "metadata": {
            "tags": []
          },
          "execution_count": 211
        }
      ]
    },
    {
      "cell_type": "code",
      "metadata": {
        "id": "XBdRTcEacLVk",
        "colab_type": "code",
        "colab": {
          "base_uri": "https://localhost:8080/",
          "height": 35
        },
        "outputId": "f190773f-eb27-42bb-c06f-63e9d17c81de"
      },
      "source": [
        "dic = {'a': 1, 'b': 2}\n",
        "dic.items()"
      ],
      "execution_count": 212,
      "outputs": [
        {
          "output_type": "execute_result",
          "data": {
            "text/plain": [
              "dict_items([('a', 1), ('b', 2)])"
            ]
          },
          "metadata": {
            "tags": []
          },
          "execution_count": 212
        }
      ]
    },
    {
      "cell_type": "markdown",
      "metadata": {
        "id": "euH4vIETdNqY",
        "colab_type": "text"
      },
      "source": [
        "## For Loop and If..else..."
      ]
    },
    {
      "cell_type": "code",
      "metadata": {
        "id": "pUCocPtycUPE",
        "colab_type": "code",
        "colab": {
          "base_uri": "https://localhost:8080/",
          "height": 35
        },
        "outputId": "0ec3dbfa-96ac-4c89-d020-758c1cbf3fda"
      },
      "source": [
        "a = 2\n",
        "\n",
        "if a > 3:\n",
        "  print('a is greater than 3')\n",
        "\n",
        "print('whatever it is, print')\n"
      ],
      "execution_count": 214,
      "outputs": [
        {
          "output_type": "stream",
          "text": [
            "whatever it is, print\n"
          ],
          "name": "stdout"
        }
      ]
    },
    {
      "cell_type": "code",
      "metadata": {
        "id": "v9IDBXradhNl",
        "colab_type": "code",
        "colab": {
          "base_uri": "https://localhost:8080/",
          "height": 35
        },
        "outputId": "dd6d793f-dbd0-43e8-9b8c-922c938dcd9d"
      },
      "source": [
        "a = 5\n",
        "\n",
        "if a > 3:\n",
        "                                                            print('a is greater than 3')"
      ],
      "execution_count": 221,
      "outputs": [
        {
          "output_type": "stream",
          "text": [
            "a is greater than 3\n"
          ],
          "name": "stdout"
        }
      ]
    },
    {
      "cell_type": "code",
      "metadata": {
        "id": "91WSvAlfey82",
        "colab_type": "code",
        "colab": {
          "base_uri": "https://localhost:8080/",
          "height": 35
        },
        "outputId": "519c6e90-2d8b-4c85-eb93-83232f359ea5"
      },
      "source": [
        "if a > 3:\n",
        "  print('yes')"
      ],
      "execution_count": 222,
      "outputs": [
        {
          "output_type": "stream",
          "text": [
            "yes\n"
          ],
          "name": "stdout"
        }
      ]
    },
    {
      "cell_type": "code",
      "metadata": {
        "id": "-33IOZJffE2G",
        "colab_type": "code",
        "colab": {
          "base_uri": "https://localhost:8080/",
          "height": 35
        },
        "outputId": "edee556b-9e5d-4e05-c4c9-bad36f2adfbf"
      },
      "source": [
        "if True:\n",
        "  print('It was true!')"
      ],
      "execution_count": 223,
      "outputs": [
        {
          "output_type": "stream",
          "text": [
            "It was true!\n"
          ],
          "name": "stdout"
        }
      ]
    },
    {
      "cell_type": "code",
      "metadata": {
        "id": "1IZevwNWfHZ1",
        "colab_type": "code",
        "colab": {
          "base_uri": "https://localhost:8080/",
          "height": 35
        },
        "outputId": "15d83b47-e895-4ffb-88f6-7df420527b17"
      },
      "source": [
        "a = 5\n",
        "a > 3"
      ],
      "execution_count": 224,
      "outputs": [
        {
          "output_type": "execute_result",
          "data": {
            "text/plain": [
              "True"
            ]
          },
          "metadata": {
            "tags": []
          },
          "execution_count": 224
        }
      ]
    },
    {
      "cell_type": "code",
      "metadata": {
        "id": "oI_UNHWpfKXV",
        "colab_type": "code",
        "colab": {
          "base_uri": "https://localhost:8080/",
          "height": 35
        },
        "outputId": "f5a01516-6610-445b-c202-c073acca5652"
      },
      "source": [
        "x = True\n",
        "if x:\n",
        "  print('x was true')\n",
        "else:\n",
        "  print('when x is not true')"
      ],
      "execution_count": 226,
      "outputs": [
        {
          "output_type": "stream",
          "text": [
            "x was true\n"
          ],
          "name": "stdout"
        }
      ]
    },
    {
      "cell_type": "code",
      "metadata": {
        "id": "Vy1j9ZyJfXzF",
        "colab_type": "code",
        "colab": {
          "base_uri": "https://localhost:8080/",
          "height": 35
        },
        "outputId": "9655c708-98ee-4c48-fe1d-316a16ee53e0"
      },
      "source": [
        "deposit = 25000\n",
        "\n",
        "if deposit > 30000:\n",
        "  print('buy iphone')\n",
        "elif deposit > 20000:\n",
        "  print('buy samsung')\n",
        "else:\n",
        "  print('save more money')"
      ],
      "execution_count": 229,
      "outputs": [
        {
          "output_type": "stream",
          "text": [
            "buy samsung\n"
          ],
          "name": "stdout"
        }
      ]
    },
    {
      "cell_type": "code",
      "metadata": {
        "id": "Vn-t2YhGf3FV",
        "colab_type": "code",
        "colab": {}
      },
      "source": [
        "l = [1,2,3,4,5,6,7,8,9,10]"
      ],
      "execution_count": 230,
      "outputs": []
    },
    {
      "cell_type": "code",
      "metadata": {
        "id": "cp6G8nz8gPtW",
        "colab_type": "code",
        "colab": {
          "base_uri": "https://localhost:8080/",
          "height": 191
        },
        "outputId": "fb4797d6-5435-49c4-cc5e-0533f9869997"
      },
      "source": [
        "for num in l:\n",
        "  print(num)"
      ],
      "execution_count": 231,
      "outputs": [
        {
          "output_type": "stream",
          "text": [
            "1\n",
            "2\n",
            "3\n",
            "4\n",
            "5\n",
            "6\n",
            "7\n",
            "8\n",
            "9\n",
            "10\n"
          ],
          "name": "stdout"
        }
      ]
    },
    {
      "cell_type": "code",
      "metadata": {
        "id": "TGy9f4TygT1m",
        "colab_type": "code",
        "colab": {
          "base_uri": "https://localhost:8080/",
          "height": 191
        },
        "outputId": "aa922a8a-e5ea-4b6e-ed65-edaf98d612e7"
      },
      "source": [
        "for qoo in l:\n",
        "  print(qoo)"
      ],
      "execution_count": 232,
      "outputs": [
        {
          "output_type": "stream",
          "text": [
            "1\n",
            "2\n",
            "3\n",
            "4\n",
            "5\n",
            "6\n",
            "7\n",
            "8\n",
            "9\n",
            "10\n"
          ],
          "name": "stdout"
        }
      ]
    },
    {
      "cell_type": "code",
      "metadata": {
        "id": "udKtTgcHgfEW",
        "colab_type": "code",
        "colab": {
          "base_uri": "https://localhost:8080/",
          "height": 35
        },
        "outputId": "7ca8599a-ac93-496c-e80e-cae7a26a5cac"
      },
      "source": [
        "range(1,11)"
      ],
      "execution_count": 233,
      "outputs": [
        {
          "output_type": "execute_result",
          "data": {
            "text/plain": [
              "range(1, 11)"
            ]
          },
          "metadata": {
            "tags": []
          },
          "execution_count": 233
        }
      ]
    },
    {
      "cell_type": "code",
      "metadata": {
        "id": "rwW48-rogoRm",
        "colab_type": "code",
        "colab": {
          "base_uri": "https://localhost:8080/",
          "height": 191
        },
        "outputId": "ddc5ff10-856c-4488-d2cb-b04a0ae19c5d"
      },
      "source": [
        "for num in range(1,11):\n",
        "  print(num)"
      ],
      "execution_count": 234,
      "outputs": [
        {
          "output_type": "stream",
          "text": [
            "1\n",
            "2\n",
            "3\n",
            "4\n",
            "5\n",
            "6\n",
            "7\n",
            "8\n",
            "9\n",
            "10\n"
          ],
          "name": "stdout"
        }
      ]
    },
    {
      "cell_type": "code",
      "metadata": {
        "id": "Ua4hwmFJgrUW",
        "colab_type": "code",
        "colab": {}
      },
      "source": [
        "list_sum = 0\n",
        "for i in range(1,11):\n",
        "  list_sum = list_sum + i"
      ],
      "execution_count": 235,
      "outputs": []
    },
    {
      "cell_type": "code",
      "metadata": {
        "id": "Qtj0TGglg-h2",
        "colab_type": "code",
        "colab": {
          "base_uri": "https://localhost:8080/",
          "height": 35
        },
        "outputId": "77a5715e-aacd-47bb-ef36-165570eafdb1"
      },
      "source": [
        "list_sum"
      ],
      "execution_count": 236,
      "outputs": [
        {
          "output_type": "execute_result",
          "data": {
            "text/plain": [
              "55"
            ]
          },
          "metadata": {
            "tags": []
          },
          "execution_count": 236
        }
      ]
    },
    {
      "cell_type": "code",
      "metadata": {
        "id": "L-7lRXOqg_y2",
        "colab_type": "code",
        "colab": {
          "base_uri": "https://localhost:8080/",
          "height": 35
        },
        "outputId": "f8609de5-3945-4d8d-a9a7-8062b93dbbd3"
      },
      "source": [
        "list_sum = 0\n",
        "for i in range(1,11):\n",
        "  list_sum += i\n",
        "list_sum"
      ],
      "execution_count": 237,
      "outputs": [
        {
          "output_type": "execute_result",
          "data": {
            "text/plain": [
              "55"
            ]
          },
          "metadata": {
            "tags": []
          },
          "execution_count": 237
        }
      ]
    },
    {
      "cell_type": "code",
      "metadata": {
        "id": "36fR14HHhGrm",
        "colab_type": "code",
        "colab": {
          "base_uri": "https://localhost:8080/",
          "height": 35
        },
        "outputId": "4aa413d5-bca5-4287-c4e9-fa25a2c1e61f"
      },
      "source": [
        "list_sum = 0\n",
        "for i in range(1,101):\n",
        "  list_sum += i\n",
        "list_sum"
      ],
      "execution_count": 238,
      "outputs": [
        {
          "output_type": "execute_result",
          "data": {
            "text/plain": [
              "5050"
            ]
          },
          "metadata": {
            "tags": []
          },
          "execution_count": 238
        }
      ]
    },
    {
      "cell_type": "code",
      "metadata": {
        "id": "GABwqB3nhOO2",
        "colab_type": "code",
        "colab": {
          "base_uri": "https://localhost:8080/",
          "height": 295
        },
        "outputId": "9a171d12-013c-4b45-9b0c-6738f2bbcdf5"
      },
      "source": [
        "for letter in 'This is a string':\n",
        "  print(letter)"
      ],
      "execution_count": 240,
      "outputs": [
        {
          "output_type": "stream",
          "text": [
            "T\n",
            "h\n",
            "i\n",
            "s\n",
            " \n",
            "i\n",
            "s\n",
            " \n",
            "a\n",
            " \n",
            "s\n",
            "t\n",
            "r\n",
            "i\n",
            "n\n",
            "g\n"
          ],
          "name": "stdout"
        }
      ]
    },
    {
      "cell_type": "code",
      "metadata": {
        "id": "ZjrVvP3UhaiG",
        "colab_type": "code",
        "colab": {
          "base_uri": "https://localhost:8080/",
          "height": 104
        },
        "outputId": "cfada52d-f805-4a28-8da2-8fc978edbddc"
      },
      "source": [
        "tup = (1,2,3,4,5)\n",
        "for t in tup:\n",
        "  print(t)"
      ],
      "execution_count": 241,
      "outputs": [
        {
          "output_type": "stream",
          "text": [
            "1\n",
            "2\n",
            "3\n",
            "4\n",
            "5\n"
          ],
          "name": "stdout"
        }
      ]
    },
    {
      "cell_type": "code",
      "metadata": {
        "id": "qkJDuCLHhcl2",
        "colab_type": "code",
        "colab": {
          "base_uri": "https://localhost:8080/",
          "height": 69
        },
        "outputId": "6e3885f8-fe82-4352-e31f-69af1c8a20d6"
      },
      "source": [
        "dic = {'a': 1, 'b':2, 'c':3}\n",
        "for k in dic:\n",
        "  print(k)"
      ],
      "execution_count": 242,
      "outputs": [
        {
          "output_type": "stream",
          "text": [
            "a\n",
            "b\n",
            "c\n"
          ],
          "name": "stdout"
        }
      ]
    },
    {
      "cell_type": "code",
      "metadata": {
        "id": "lSOKu8T7hob2",
        "colab_type": "code",
        "colab": {
          "base_uri": "https://localhost:8080/",
          "height": 69
        },
        "outputId": "12db6663-1fbb-455b-8b8b-5c09ae55ffb0"
      },
      "source": [
        "dic = {'a': 1, 'b':2, 'c':3}\n",
        "for k in dic:\n",
        "  print(k, dic.get(k))"
      ],
      "execution_count": 245,
      "outputs": [
        {
          "output_type": "stream",
          "text": [
            "a 1\n",
            "b 2\n",
            "c 3\n"
          ],
          "name": "stdout"
        }
      ]
    },
    {
      "cell_type": "code",
      "metadata": {
        "id": "4vUoBpvthu0m",
        "colab_type": "code",
        "colab": {
          "base_uri": "https://localhost:8080/",
          "height": 35
        },
        "outputId": "9cda2dcf-7b2d-498b-d00f-b81e78a9c828"
      },
      "source": [
        "dic.items()"
      ],
      "execution_count": 244,
      "outputs": [
        {
          "output_type": "execute_result",
          "data": {
            "text/plain": [
              "dict_items([('a', 1), ('b', 2), ('c', 3)])"
            ]
          },
          "metadata": {
            "tags": []
          },
          "execution_count": 244
        }
      ]
    },
    {
      "cell_type": "code",
      "metadata": {
        "id": "tbL5w3qyhzMX",
        "colab_type": "code",
        "colab": {
          "base_uri": "https://localhost:8080/",
          "height": 69
        },
        "outputId": "386c5597-2f90-4410-9a62-10d70d656330"
      },
      "source": [
        "for t in dic.items():\n",
        "  print(t)"
      ],
      "execution_count": 246,
      "outputs": [
        {
          "output_type": "stream",
          "text": [
            "('a', 1)\n",
            "('b', 2)\n",
            "('c', 3)\n"
          ],
          "name": "stdout"
        }
      ]
    },
    {
      "cell_type": "code",
      "metadata": {
        "id": "lE1BefYoiBTG",
        "colab_type": "code",
        "colab": {}
      },
      "source": [
        " k,v = ('a', 1)"
      ],
      "execution_count": 247,
      "outputs": []
    },
    {
      "cell_type": "code",
      "metadata": {
        "id": "DLQJZnkhiKVG",
        "colab_type": "code",
        "colab": {
          "base_uri": "https://localhost:8080/",
          "height": 35
        },
        "outputId": "30576266-5658-4fb3-f688-22fdd8a29804"
      },
      "source": [
        "k"
      ],
      "execution_count": 248,
      "outputs": [
        {
          "output_type": "execute_result",
          "data": {
            "application/vnd.google.colaboratory.intrinsic": {
              "type": "string"
            },
            "text/plain": [
              "'a'"
            ]
          },
          "metadata": {
            "tags": []
          },
          "execution_count": 248
        }
      ]
    },
    {
      "cell_type": "code",
      "metadata": {
        "id": "okt-O5_giLQG",
        "colab_type": "code",
        "colab": {
          "base_uri": "https://localhost:8080/",
          "height": 35
        },
        "outputId": "ea832077-3014-40e9-e2b3-de8ac9d00a9e"
      },
      "source": [
        "v"
      ],
      "execution_count": 249,
      "outputs": [
        {
          "output_type": "execute_result",
          "data": {
            "text/plain": [
              "1"
            ]
          },
          "metadata": {
            "tags": []
          },
          "execution_count": 249
        }
      ]
    },
    {
      "cell_type": "code",
      "metadata": {
        "id": "5DMVfMJeiL0G",
        "colab_type": "code",
        "colab": {
          "base_uri": "https://localhost:8080/",
          "height": 69
        },
        "outputId": "e0eb17f4-9c75-49cd-9128-a6dc92172a88"
      },
      "source": [
        "dic = {'a': 1, 'b':2, 'c':3}\n",
        "for k,v in dic.items():\n",
        "  print(k,v)"
      ],
      "execution_count": 250,
      "outputs": [
        {
          "output_type": "stream",
          "text": [
            "a 1\n",
            "b 2\n",
            "c 3\n"
          ],
          "name": "stdout"
        }
      ]
    },
    {
      "cell_type": "code",
      "metadata": {
        "id": "VB7TqW71iVM2",
        "colab_type": "code",
        "colab": {
          "base_uri": "https://localhost:8080/",
          "height": 191
        },
        "outputId": "6ff029e0-d74d-4a13-922b-05df06f0657d"
      },
      "source": [
        "x = 0\n",
        "while x < 10:\n",
        "  print(x)\n",
        "  x += 1\n",
        "  #pass"
      ],
      "execution_count": 252,
      "outputs": [
        {
          "output_type": "stream",
          "text": [
            "0\n",
            "1\n",
            "2\n",
            "3\n",
            "4\n",
            "5\n",
            "6\n",
            "7\n",
            "8\n",
            "9\n"
          ],
          "name": "stdout"
        }
      ]
    },
    {
      "cell_type": "code",
      "metadata": {
        "id": "nnmLp8FfiugW",
        "colab_type": "code",
        "colab": {
          "base_uri": "https://localhost:8080/",
          "height": 208
        },
        "outputId": "82bf7a13-b956-4e4b-ba98-6a6a05fe9f5c"
      },
      "source": [
        "x = 0\n",
        "while x < 10:\n",
        "  print('current x:', x)\n",
        "  x +=1\n",
        "else:\n",
        "  print('all done')"
      ],
      "execution_count": 253,
      "outputs": [
        {
          "output_type": "stream",
          "text": [
            "current x: 0\n",
            "current x: 1\n",
            "current x: 2\n",
            "current x: 3\n",
            "current x: 4\n",
            "current x: 5\n",
            "current x: 6\n",
            "current x: 7\n",
            "current x: 8\n",
            "current x: 9\n",
            "all done\n"
          ],
          "name": "stdout"
        }
      ]
    },
    {
      "cell_type": "code",
      "metadata": {
        "id": "GHIXg-ttjx4e",
        "colab_type": "code",
        "colab": {
          "base_uri": "https://localhost:8080/",
          "height": 537
        },
        "outputId": "367f2699-2342-4157-bbb1-b998cc1ca2d3"
      },
      "source": [
        "x = 0\n",
        "while x < 10:\n",
        "  print('x is currently: ',x )\n",
        "  print(' x is still less than 10, adding 1 to x' )\n",
        "  x+=1\n",
        "  if x ==3:\n",
        "    print('x==3')\n",
        "    #break\n",
        "  else:\n",
        "    #continue\n",
        "    pass\n",
        "    print('continuing...' )\n",
        "    #continue"
      ],
      "execution_count": 257,
      "outputs": [
        {
          "output_type": "stream",
          "text": [
            "x is currently:  0\n",
            " x is still less than 10, adding 1 to x\n",
            "continuing...\n",
            "x is currently:  1\n",
            " x is still less than 10, adding 1 to x\n",
            "continuing...\n",
            "x is currently:  2\n",
            " x is still less than 10, adding 1 to x\n",
            "x==3\n",
            "x is currently:  3\n",
            " x is still less than 10, adding 1 to x\n",
            "continuing...\n",
            "x is currently:  4\n",
            " x is still less than 10, adding 1 to x\n",
            "continuing...\n",
            "x is currently:  5\n",
            " x is still less than 10, adding 1 to x\n",
            "continuing...\n",
            "x is currently:  6\n",
            " x is still less than 10, adding 1 to x\n",
            "continuing...\n",
            "x is currently:  7\n",
            " x is still less than 10, adding 1 to x\n",
            "continuing...\n",
            "x is currently:  8\n",
            " x is still less than 10, adding 1 to x\n",
            "continuing...\n",
            "x is currently:  9\n",
            " x is still less than 10, adding 1 to x\n",
            "continuing...\n"
          ],
          "name": "stdout"
        }
      ]
    },
    {
      "cell_type": "code",
      "metadata": {
        "id": "d9AKdBQqjyJW",
        "colab_type": "code",
        "colab": {}
      },
      "source": [
        "#while True:\n",
        "#  print('Uh Oh infinite Loop!')"
      ],
      "execution_count": 259,
      "outputs": []
    },
    {
      "cell_type": "markdown",
      "metadata": {
        "id": "XvINqmCpjhDP",
        "colab_type": "text"
      },
      "source": [
        "### 練習題\n",
        "\n",
        "我們希望建立一個對話機器人, 機器人裡面內建一個資料問答資料庫, 資料庫的問題跟答案如下所示:\n",
        "\n",
        "- 問題:保險 答案: 以下是我們推薦的險總類\n",
        "- 問題:貸款 答案: 以下是我們推薦的貸款總類\n",
        "- 問題:存款 答案: 以下是您的銀行存款餘額\n",
        "\n",
        "希望你能用這個問答資料庫建立成一個Python 字典, 當使用者輸入問題時, 只要問題中有部分關鍵字對到問答資料庫的問題,電腦就予以回答"
      ]
    },
    {
      "cell_type": "code",
      "metadata": {
        "id": "cUEhIvxajMn2",
        "colab_type": "code",
        "colab": {
          "base_uri": "https://localhost:8080/",
          "height": 35
        },
        "outputId": "d431a5a9-888b-4662-f4f3-383685702e4f"
      },
      "source": [
        "'ktv' in '我想要唱ktv'"
      ],
      "execution_count": 260,
      "outputs": [
        {
          "output_type": "execute_result",
          "data": {
            "text/plain": [
              "True"
            ]
          },
          "metadata": {
            "tags": []
          },
          "execution_count": 260
        }
      ]
    },
    {
      "cell_type": "code",
      "metadata": {
        "id": "739Ku_1flZZY",
        "colab_type": "code",
        "colab": {}
      },
      "source": [
        "## break"
      ],
      "execution_count": null,
      "outputs": []
    },
    {
      "cell_type": "code",
      "metadata": {
        "id": "0Y-DnKXxrVWI",
        "colab_type": "code",
        "colab": {}
      },
      "source": [
        "qa_dic = {\n",
        "'保險': '以下是我們推薦的險總類',\n",
        "'貸款': '以下是我們推薦的貸款總類',\n",
        "'存款': '以下是您的銀行存款餘額'\n",
        "}"
      ],
      "execution_count": 261,
      "outputs": []
    },
    {
      "cell_type": "code",
      "metadata": {
        "id": "ukOMI7a6rhTQ",
        "colab_type": "code",
        "colab": {
          "base_uri": "https://localhost:8080/",
          "height": 35
        },
        "outputId": "3ca11fdc-6821-4e10-91bb-a05d7b1f5c7b"
      },
      "source": [
        "question = input('請輸入你的問題:')"
      ],
      "execution_count": 269,
      "outputs": [
        {
          "output_type": "stream",
          "text": [
            "請輸入你的問題:我的存款還有多少\n"
          ],
          "name": "stdout"
        }
      ]
    },
    {
      "cell_type": "code",
      "metadata": {
        "id": "W32yDJvKrl2Z",
        "colab_type": "code",
        "colab": {
          "base_uri": "https://localhost:8080/",
          "height": 35
        },
        "outputId": "bacbc1ff-772c-4282-e5f5-b86e4d1eadfe"
      },
      "source": [
        "question"
      ],
      "execution_count": 270,
      "outputs": [
        {
          "output_type": "execute_result",
          "data": {
            "application/vnd.google.colaboratory.intrinsic": {
              "type": "string"
            },
            "text/plain": [
              "'我的存款還有多少'"
            ]
          },
          "metadata": {
            "tags": []
          },
          "execution_count": 270
        }
      ]
    },
    {
      "cell_type": "code",
      "metadata": {
        "id": "UJ-D5tlirrxJ",
        "colab_type": "code",
        "colab": {
          "base_uri": "https://localhost:8080/",
          "height": 35
        },
        "outputId": "0caa9b2b-703b-4042-ad18-cb452dada3ec"
      },
      "source": [
        "for k in qa_dic:\n",
        "  #print(k)\n",
        "  #print(k in question)\n",
        "  if k in question:\n",
        "    print(qa_dic.get(k))\n",
        "    break"
      ],
      "execution_count": 271,
      "outputs": [
        {
          "output_type": "stream",
          "text": [
            "以下是您的銀行存款餘額\n"
          ],
          "name": "stdout"
        }
      ]
    },
    {
      "cell_type": "code",
      "metadata": {
        "id": "YefD5ygXrvHJ",
        "colab_type": "code",
        "colab": {
          "base_uri": "https://localhost:8080/",
          "height": 52
        },
        "outputId": "a2d0396f-ce85-4c21-dc12-cbd33d1c19b7"
      },
      "source": [
        "question = input('請輸入你的問題:')\n",
        "for k in qa_dic:\n",
        "  if k in question:\n",
        "    print(qa_dic.get(k))\n",
        "    break\n",
        "else:\n",
        "  print('我現在還不聰明,等我變聰明以後再告訴你')"
      ],
      "execution_count": 274,
      "outputs": [
        {
          "output_type": "stream",
          "text": [
            "請輸入你的問題:請告訴我有哪些貸款\n",
            "以下是我們推薦的貸款總類\n"
          ],
          "name": "stdout"
        }
      ]
    },
    {
      "cell_type": "markdown",
      "metadata": {
        "id": "rjL9UPl8tWTB",
        "colab_type": "text"
      },
      "source": [
        "## Functions"
      ]
    },
    {
      "cell_type": "code",
      "metadata": {
        "id": "5Vetc57csipw",
        "colab_type": "code",
        "colab": {}
      },
      "source": [
        "def say_hello():\n",
        "  print('hello world')"
      ],
      "execution_count": 275,
      "outputs": []
    },
    {
      "cell_type": "code",
      "metadata": {
        "id": "TQpHXCzUtkYw",
        "colab_type": "code",
        "colab": {
          "base_uri": "https://localhost:8080/",
          "height": 35
        },
        "outputId": "013911cb-9c81-4990-b70f-d6ad35e7bd52"
      },
      "source": [
        "say_hello()"
      ],
      "execution_count": 277,
      "outputs": [
        {
          "output_type": "stream",
          "text": [
            "hello world\n"
          ],
          "name": "stdout"
        }
      ]
    },
    {
      "cell_type": "code",
      "metadata": {
        "id": "33oKQr07thoK",
        "colab_type": "code",
        "colab": {}
      },
      "source": [
        "def say_hello(name):\n",
        "  print('hello,' + name)"
      ],
      "execution_count": 278,
      "outputs": []
    },
    {
      "cell_type": "code",
      "metadata": {
        "id": "eqHPsZSjts9K",
        "colab_type": "code",
        "colab": {
          "base_uri": "https://localhost:8080/",
          "height": 35
        },
        "outputId": "0ddf9c7e-fe99-425d-e299-8d486f69b4d0"
      },
      "source": [
        "say_hello('David')"
      ],
      "execution_count": 279,
      "outputs": [
        {
          "output_type": "stream",
          "text": [
            "hello,David\n"
          ],
          "name": "stdout"
        }
      ]
    },
    {
      "cell_type": "code",
      "metadata": {
        "id": "zFbfBacZtut5",
        "colab_type": "code",
        "colab": {
          "base_uri": "https://localhost:8080/",
          "height": 35
        },
        "outputId": "c3f57382-50fd-43a4-e635-5786e8693deb"
      },
      "source": [
        "say_hello('John')"
      ],
      "execution_count": 280,
      "outputs": [
        {
          "output_type": "stream",
          "text": [
            "hello,John\n"
          ],
          "name": "stdout"
        }
      ]
    },
    {
      "cell_type": "code",
      "metadata": {
        "id": "obLesuwjtxR6",
        "colab_type": "code",
        "colab": {}
      },
      "source": [
        "def addNum(a,b):\n",
        "  return a + b"
      ],
      "execution_count": 281,
      "outputs": []
    },
    {
      "cell_type": "code",
      "metadata": {
        "id": "wzExr3Xat5Fa",
        "colab_type": "code",
        "colab": {
          "base_uri": "https://localhost:8080/",
          "height": 35
        },
        "outputId": "26e5530d-c88a-4b1c-fad1-ac3253964b8e"
      },
      "source": [
        "addNum(3,5)"
      ],
      "execution_count": 282,
      "outputs": [
        {
          "output_type": "execute_result",
          "data": {
            "text/plain": [
              "8"
            ]
          },
          "metadata": {
            "tags": []
          },
          "execution_count": 282
        }
      ]
    },
    {
      "cell_type": "code",
      "metadata": {
        "id": "ymNKPMIHt7T6",
        "colab_type": "code",
        "colab": {
          "base_uri": "https://localhost:8080/",
          "height": 35
        },
        "outputId": "a4623a79-c938-4991-d2cf-4fd6215f18d3"
      },
      "source": [
        "addNum('Hello', 'World')"
      ],
      "execution_count": 283,
      "outputs": [
        {
          "output_type": "execute_result",
          "data": {
            "application/vnd.google.colaboratory.intrinsic": {
              "type": "string"
            },
            "text/plain": [
              "'HelloWorld'"
            ]
          },
          "metadata": {
            "tags": []
          },
          "execution_count": 283
        }
      ]
    },
    {
      "cell_type": "code",
      "metadata": {
        "id": "zxvn6QZLuAk6",
        "colab_type": "code",
        "colab": {
          "base_uri": "https://localhost:8080/",
          "height": 35
        },
        "outputId": "e3047513-909a-4a87-cd1b-86e91fc77162"
      },
      "source": [
        "addNum([1,2,3], [3,4,5])"
      ],
      "execution_count": 284,
      "outputs": [
        {
          "output_type": "execute_result",
          "data": {
            "text/plain": [
              "[1, 2, 3, 3, 4, 5]"
            ]
          },
          "metadata": {
            "tags": []
          },
          "execution_count": 284
        }
      ]
    },
    {
      "cell_type": "code",
      "metadata": {
        "id": "7PzI6r6ouFg5",
        "colab_type": "code",
        "colab": {
          "base_uri": "https://localhost:8080/",
          "height": 235
        },
        "outputId": "ee46b013-38fe-43a2-ca19-67d5bdd555fa"
      },
      "source": [
        "addNum('Hello' , 5)"
      ],
      "execution_count": 285,
      "outputs": [
        {
          "output_type": "error",
          "ename": "TypeError",
          "evalue": "ignored",
          "traceback": [
            "\u001b[0;31m---------------------------------------------------------------------------\u001b[0m",
            "\u001b[0;31mTypeError\u001b[0m                                 Traceback (most recent call last)",
            "\u001b[0;32m<ipython-input-285-42f182445978>\u001b[0m in \u001b[0;36m<module>\u001b[0;34m()\u001b[0m\n\u001b[0;32m----> 1\u001b[0;31m \u001b[0maddNum\u001b[0m\u001b[0;34m(\u001b[0m\u001b[0;34m'Hello'\u001b[0m \u001b[0;34m,\u001b[0m \u001b[0;36m5\u001b[0m\u001b[0;34m)\u001b[0m\u001b[0;34m\u001b[0m\u001b[0;34m\u001b[0m\u001b[0m\n\u001b[0m",
            "\u001b[0;32m<ipython-input-281-efdbc38136a3>\u001b[0m in \u001b[0;36maddNum\u001b[0;34m(a, b)\u001b[0m\n\u001b[1;32m      1\u001b[0m \u001b[0;32mdef\u001b[0m \u001b[0maddNum\u001b[0m\u001b[0;34m(\u001b[0m\u001b[0ma\u001b[0m\u001b[0;34m,\u001b[0m\u001b[0mb\u001b[0m\u001b[0;34m)\u001b[0m\u001b[0;34m:\u001b[0m\u001b[0;34m\u001b[0m\u001b[0;34m\u001b[0m\u001b[0m\n\u001b[0;32m----> 2\u001b[0;31m   \u001b[0;32mreturn\u001b[0m \u001b[0ma\u001b[0m \u001b[0;34m+\u001b[0m \u001b[0mb\u001b[0m\u001b[0;34m\u001b[0m\u001b[0;34m\u001b[0m\u001b[0m\n\u001b[0m",
            "\u001b[0;31mTypeError\u001b[0m: must be str, not int"
          ]
        }
      ]
    },
    {
      "cell_type": "code",
      "metadata": {
        "id": "PFtOUHOSuOpK",
        "colab_type": "code",
        "colab": {}
      },
      "source": [
        "def addNum2(a=1,b=2):\n",
        "  return a + b"
      ],
      "execution_count": 286,
      "outputs": []
    },
    {
      "cell_type": "code",
      "metadata": {
        "id": "5PMTGhxOuY2a",
        "colab_type": "code",
        "colab": {
          "base_uri": "https://localhost:8080/",
          "height": 35
        },
        "outputId": "dfb5061f-7788-43e0-ed71-4bc934177982"
      },
      "source": [
        "addNum2()"
      ],
      "execution_count": 287,
      "outputs": [
        {
          "output_type": "execute_result",
          "data": {
            "text/plain": [
              "3"
            ]
          },
          "metadata": {
            "tags": []
          },
          "execution_count": 287
        }
      ]
    },
    {
      "cell_type": "code",
      "metadata": {
        "id": "7Iq-S3qtuara",
        "colab_type": "code",
        "colab": {
          "base_uri": "https://localhost:8080/",
          "height": 35
        },
        "outputId": "fb2ecee7-312f-486f-fac2-4b9233879b79"
      },
      "source": [
        "addNum2(3)"
      ],
      "execution_count": 288,
      "outputs": [
        {
          "output_type": "execute_result",
          "data": {
            "text/plain": [
              "5"
            ]
          },
          "metadata": {
            "tags": []
          },
          "execution_count": 288
        }
      ]
    },
    {
      "cell_type": "code",
      "metadata": {
        "id": "aAKzr8tiugK6",
        "colab_type": "code",
        "colab": {
          "base_uri": "https://localhost:8080/",
          "height": 35
        },
        "outputId": "e90b60f8-f199-42c2-e537-7ecd24ad183f"
      },
      "source": [
        "addNum2(b=3)"
      ],
      "execution_count": 289,
      "outputs": [
        {
          "output_type": "execute_result",
          "data": {
            "text/plain": [
              "4"
            ]
          },
          "metadata": {
            "tags": []
          },
          "execution_count": 289
        }
      ]
    },
    {
      "cell_type": "markdown",
      "metadata": {
        "id": "twJtGLkHuuYT",
        "colab_type": "text"
      },
      "source": [
        "### 練習題\n",
        "我們希望建立一個對話機器人, 機器人裡面內建一個資料問答資料庫, 資料庫的問題跟答案如下所示:\n",
        "\n",
        "- 問題:保險 答案: 以下是我們推薦的險總類\n",
        "- 問題:貸款 答案: 以下是我們推薦的貸款總類\n",
        "- 問題:存款 答案: 以下是您的銀行存款餘額\n",
        "\n",
        "希望你能用這個問答資料庫建立成一個函式, 當使用者輸入問題時, 只要問題中有部分關鍵字對到問答資料庫的問題,電腦就予以回答"
      ]
    },
    {
      "cell_type": "code",
      "metadata": {
        "id": "-alj9kHdu6ii",
        "colab_type": "code",
        "colab": {}
      },
      "source": [
        "def qa_func(question):\n",
        "  if '保險' in question:\n",
        "    return '以下是我們推薦的險總類'\n",
        "  elif '貸款' in question:\n",
        "    return '以下是我們推薦的貸款總類'\n",
        "  elif '存款' in question:\n",
        "    return '以下是您的銀行存款餘額'\n",
        "  else:\n",
        "    return '我現在還不聰明, 等我變聰明以後再告訴你'"
      ],
      "execution_count": 290,
      "outputs": []
    },
    {
      "cell_type": "code",
      "metadata": {
        "id": "YrmW-X4evU6_",
        "colab_type": "code",
        "colab": {
          "base_uri": "https://localhost:8080/",
          "height": 53
        },
        "outputId": "6f6ba4fc-70c2-4d24-c2f8-78705f3b9ddc"
      },
      "source": [
        "question = input('請輸入你的問題:')\n",
        "qa_func(question)"
      ],
      "execution_count": 293,
      "outputs": [
        {
          "output_type": "stream",
          "text": [
            "請輸入你的問題:今天要吃什麼\n"
          ],
          "name": "stdout"
        },
        {
          "output_type": "execute_result",
          "data": {
            "application/vnd.google.colaboratory.intrinsic": {
              "type": "string"
            },
            "text/plain": [
              "'我現在還不聰明, 等我變聰明以後再告訴你'"
            ]
          },
          "metadata": {
            "tags": []
          },
          "execution_count": 293
        }
      ]
    },
    {
      "cell_type": "markdown",
      "metadata": {
        "id": "T5yzJv6Cvs-w",
        "colab_type": "text"
      },
      "source": [
        "## Object"
      ]
    },
    {
      "cell_type": "code",
      "metadata": {
        "id": "84IZPnm4vYY6",
        "colab_type": "code",
        "colab": {}
      },
      "source": [
        "a = 1"
      ],
      "execution_count": 294,
      "outputs": []
    },
    {
      "cell_type": "code",
      "metadata": {
        "id": "cyZO5BAXvc4L",
        "colab_type": "code",
        "colab": {
          "base_uri": "https://localhost:8080/",
          "height": 35
        },
        "outputId": "83d4081e-7464-4704-f8e0-f198042350c7"
      },
      "source": [
        "type(a)"
      ],
      "execution_count": 295,
      "outputs": [
        {
          "output_type": "execute_result",
          "data": {
            "text/plain": [
              "int"
            ]
          },
          "metadata": {
            "tags": []
          },
          "execution_count": 295
        }
      ]
    },
    {
      "cell_type": "code",
      "metadata": {
        "id": "j4RwYs0Dv62K",
        "colab_type": "code",
        "colab": {
          "base_uri": "https://localhost:8080/",
          "height": 1000
        },
        "outputId": "9b699e12-2eb7-46d6-fced-0a0de2209f3b"
      },
      "source": [
        "dir(a)"
      ],
      "execution_count": 296,
      "outputs": [
        {
          "output_type": "execute_result",
          "data": {
            "text/plain": [
              "['__abs__',\n",
              " '__add__',\n",
              " '__and__',\n",
              " '__bool__',\n",
              " '__ceil__',\n",
              " '__class__',\n",
              " '__delattr__',\n",
              " '__dir__',\n",
              " '__divmod__',\n",
              " '__doc__',\n",
              " '__eq__',\n",
              " '__float__',\n",
              " '__floor__',\n",
              " '__floordiv__',\n",
              " '__format__',\n",
              " '__ge__',\n",
              " '__getattribute__',\n",
              " '__getnewargs__',\n",
              " '__gt__',\n",
              " '__hash__',\n",
              " '__index__',\n",
              " '__init__',\n",
              " '__init_subclass__',\n",
              " '__int__',\n",
              " '__invert__',\n",
              " '__le__',\n",
              " '__lshift__',\n",
              " '__lt__',\n",
              " '__mod__',\n",
              " '__mul__',\n",
              " '__ne__',\n",
              " '__neg__',\n",
              " '__new__',\n",
              " '__or__',\n",
              " '__pos__',\n",
              " '__pow__',\n",
              " '__radd__',\n",
              " '__rand__',\n",
              " '__rdivmod__',\n",
              " '__reduce__',\n",
              " '__reduce_ex__',\n",
              " '__repr__',\n",
              " '__rfloordiv__',\n",
              " '__rlshift__',\n",
              " '__rmod__',\n",
              " '__rmul__',\n",
              " '__ror__',\n",
              " '__round__',\n",
              " '__rpow__',\n",
              " '__rrshift__',\n",
              " '__rshift__',\n",
              " '__rsub__',\n",
              " '__rtruediv__',\n",
              " '__rxor__',\n",
              " '__setattr__',\n",
              " '__sizeof__',\n",
              " '__str__',\n",
              " '__sub__',\n",
              " '__subclasshook__',\n",
              " '__truediv__',\n",
              " '__trunc__',\n",
              " '__xor__',\n",
              " 'bit_length',\n",
              " 'conjugate',\n",
              " 'denominator',\n",
              " 'from_bytes',\n",
              " 'imag',\n",
              " 'numerator',\n",
              " 'real',\n",
              " 'to_bytes']"
            ]
          },
          "metadata": {
            "tags": []
          },
          "execution_count": 296
        }
      ]
    },
    {
      "cell_type": "code",
      "metadata": {
        "id": "jeGSkwz7v8jq",
        "colab_type": "code",
        "colab": {
          "base_uri": "https://localhost:8080/",
          "height": 35
        },
        "outputId": "0b17b16c-653f-4d7e-a98c-df332e0f6379"
      },
      "source": [
        "a"
      ],
      "execution_count": 297,
      "outputs": [
        {
          "output_type": "execute_result",
          "data": {
            "text/plain": [
              "1"
            ]
          },
          "metadata": {
            "tags": []
          },
          "execution_count": 297
        }
      ]
    },
    {
      "cell_type": "code",
      "metadata": {
        "id": "1z0WGFzFv_PK",
        "colab_type": "code",
        "colab": {
          "base_uri": "https://localhost:8080/",
          "height": 35
        },
        "outputId": "f0e4f196-de4b-48d5-d3ae-8067a0e7abd8"
      },
      "source": [
        "id(a)"
      ],
      "execution_count": 298,
      "outputs": [
        {
          "output_type": "execute_result",
          "data": {
            "text/plain": [
              "10914496"
            ]
          },
          "metadata": {
            "tags": []
          },
          "execution_count": 298
        }
      ]
    },
    {
      "cell_type": "code",
      "metadata": {
        "id": "pj5G35jMwCU6",
        "colab_type": "code",
        "colab": {}
      },
      "source": [
        "a= 1"
      ],
      "execution_count": 299,
      "outputs": []
    },
    {
      "cell_type": "code",
      "metadata": {
        "id": "HID-y12uwF3K",
        "colab_type": "code",
        "colab": {
          "base_uri": "https://localhost:8080/",
          "height": 35
        },
        "outputId": "2e49034f-997b-42b7-fc89-5a80fa977112"
      },
      "source": [
        "id(a)"
      ],
      "execution_count": 300,
      "outputs": [
        {
          "output_type": "execute_result",
          "data": {
            "text/plain": [
              "10914496"
            ]
          },
          "metadata": {
            "tags": []
          },
          "execution_count": 300
        }
      ]
    },
    {
      "cell_type": "code",
      "metadata": {
        "id": "nmgbstGowGpa",
        "colab_type": "code",
        "colab": {}
      },
      "source": [
        "b = 1"
      ],
      "execution_count": 301,
      "outputs": []
    },
    {
      "cell_type": "code",
      "metadata": {
        "id": "Cw88tdO3wIWa",
        "colab_type": "code",
        "colab": {
          "base_uri": "https://localhost:8080/",
          "height": 35
        },
        "outputId": "4f52f8e6-d52b-4638-a86e-86ee3a716687"
      },
      "source": [
        "id(b)"
      ],
      "execution_count": 302,
      "outputs": [
        {
          "output_type": "execute_result",
          "data": {
            "text/plain": [
              "10914496"
            ]
          },
          "metadata": {
            "tags": []
          },
          "execution_count": 302
        }
      ]
    },
    {
      "cell_type": "code",
      "metadata": {
        "id": "gCd-3Z4IwJJb",
        "colab_type": "code",
        "colab": {}
      },
      "source": [
        "#    a   -- 1\n",
        "#          /\n",
        "#         b"
      ],
      "execution_count": 303,
      "outputs": []
    },
    {
      "cell_type": "code",
      "metadata": {
        "id": "oiKVC6hBwY8K",
        "colab_type": "code",
        "colab": {}
      },
      "source": [
        "class Sample(object):\n",
        "  pass"
      ],
      "execution_count": 305,
      "outputs": []
    },
    {
      "cell_type": "code",
      "metadata": {
        "id": "iK-C9bZLwb0b",
        "colab_type": "code",
        "colab": {}
      },
      "source": [
        "x = Sample()"
      ],
      "execution_count": 306,
      "outputs": []
    },
    {
      "cell_type": "code",
      "metadata": {
        "id": "sR8S5Wy4wmrK",
        "colab_type": "code",
        "colab": {
          "base_uri": "https://localhost:8080/",
          "height": 35
        },
        "outputId": "fcda0d65-1097-4c3e-b829-b79fe0eba9d0"
      },
      "source": [
        "print(type(x))"
      ],
      "execution_count": 307,
      "outputs": [
        {
          "output_type": "stream",
          "text": [
            "<class '__main__.Sample'>\n"
          ],
          "name": "stdout"
        }
      ]
    },
    {
      "cell_type": "code",
      "metadata": {
        "id": "-iSRoBGxwpKq",
        "colab_type": "code",
        "colab": {}
      },
      "source": [
        "class Dog(object):\n",
        "  def __init__(self,breed):\n",
        "    self.breed = breed\n",
        "    "
      ],
      "execution_count": 308,
      "outputs": []
    },
    {
      "cell_type": "code",
      "metadata": {
        "id": "vVY_YB8DxZWa",
        "colab_type": "code",
        "colab": {}
      },
      "source": [
        "sam = Dog(breed = 'Lab')\n",
        "frank = Dog(breed = 'Huskie')"
      ],
      "execution_count": 310,
      "outputs": []
    },
    {
      "cell_type": "code",
      "metadata": {
        "id": "kuhlQnezxf7b",
        "colab_type": "code",
        "colab": {
          "base_uri": "https://localhost:8080/",
          "height": 35
        },
        "outputId": "6e370aad-7a14-4cfe-bc23-a6d87e5f7970"
      },
      "source": [
        "sam.breed"
      ],
      "execution_count": 311,
      "outputs": [
        {
          "output_type": "execute_result",
          "data": {
            "application/vnd.google.colaboratory.intrinsic": {
              "type": "string"
            },
            "text/plain": [
              "'Lab'"
            ]
          },
          "metadata": {
            "tags": []
          },
          "execution_count": 311
        }
      ]
    },
    {
      "cell_type": "code",
      "metadata": {
        "id": "f6Qnn52xxijb",
        "colab_type": "code",
        "colab": {
          "base_uri": "https://localhost:8080/",
          "height": 35
        },
        "outputId": "d4de57fe-9c74-4dc9-e9e3-0f1559a941b2"
      },
      "source": [
        "frank.breed"
      ],
      "execution_count": 312,
      "outputs": [
        {
          "output_type": "execute_result",
          "data": {
            "application/vnd.google.colaboratory.intrinsic": {
              "type": "string"
            },
            "text/plain": [
              "'Huskie'"
            ]
          },
          "metadata": {
            "tags": []
          },
          "execution_count": 312
        }
      ]
    },
    {
      "cell_type": "code",
      "metadata": {
        "id": "kBi6K-saxkL0",
        "colab_type": "code",
        "colab": {}
      },
      "source": [
        "class Dog(object):\n",
        "  species = 'mammal' # 類別屬性\n",
        "  def __init__(self,breed,name):\n",
        "    self.breed = breed\n",
        "    self.name = name"
      ],
      "execution_count": 313,
      "outputs": []
    },
    {
      "cell_type": "code",
      "metadata": {
        "id": "XDafTumVxxCc",
        "colab_type": "code",
        "colab": {}
      },
      "source": [
        "sam = Dog('Lab','Sam')"
      ],
      "execution_count": 314,
      "outputs": []
    },
    {
      "cell_type": "code",
      "metadata": {
        "id": "wUNxdhZkx1xb",
        "colab_type": "code",
        "colab": {
          "base_uri": "https://localhost:8080/",
          "height": 55
        },
        "outputId": "0f7ea706-695c-4d12-801d-d6639d6f61f1"
      },
      "source": [
        "print(dir(sam))"
      ],
      "execution_count": 315,
      "outputs": [
        {
          "output_type": "stream",
          "text": [
            "['__class__', '__delattr__', '__dict__', '__dir__', '__doc__', '__eq__', '__format__', '__ge__', '__getattribute__', '__gt__', '__hash__', '__init__', '__init_subclass__', '__le__', '__lt__', '__module__', '__ne__', '__new__', '__reduce__', '__reduce_ex__', '__repr__', '__setattr__', '__sizeof__', '__str__', '__subclasshook__', '__weakref__', 'breed', 'name', 'species']\n"
          ],
          "name": "stdout"
        }
      ]
    },
    {
      "cell_type": "code",
      "metadata": {
        "id": "OA_UegUnx3Xr",
        "colab_type": "code",
        "colab": {
          "base_uri": "https://localhost:8080/",
          "height": 35
        },
        "outputId": "7098f02f-5290-4998-9bbc-714152144d85"
      },
      "source": [
        "sam.breed"
      ],
      "execution_count": 316,
      "outputs": [
        {
          "output_type": "execute_result",
          "data": {
            "application/vnd.google.colaboratory.intrinsic": {
              "type": "string"
            },
            "text/plain": [
              "'Lab'"
            ]
          },
          "metadata": {
            "tags": []
          },
          "execution_count": 316
        }
      ]
    },
    {
      "cell_type": "code",
      "metadata": {
        "id": "KeAz6U22x8qL",
        "colab_type": "code",
        "colab": {
          "base_uri": "https://localhost:8080/",
          "height": 35
        },
        "outputId": "ddef2ee5-d798-4277-ccdf-ccf7c9047d5a"
      },
      "source": [
        "sam.name"
      ],
      "execution_count": 317,
      "outputs": [
        {
          "output_type": "execute_result",
          "data": {
            "application/vnd.google.colaboratory.intrinsic": {
              "type": "string"
            },
            "text/plain": [
              "'Sam'"
            ]
          },
          "metadata": {
            "tags": []
          },
          "execution_count": 317
        }
      ]
    },
    {
      "cell_type": "code",
      "metadata": {
        "id": "AVy1Wk3wx9n7",
        "colab_type": "code",
        "colab": {
          "base_uri": "https://localhost:8080/",
          "height": 35
        },
        "outputId": "d9ecaa8a-6379-4ca6-f9e4-56256be645c0"
      },
      "source": [
        "sam.species"
      ],
      "execution_count": 318,
      "outputs": [
        {
          "output_type": "execute_result",
          "data": {
            "application/vnd.google.colaboratory.intrinsic": {
              "type": "string"
            },
            "text/plain": [
              "'mammal'"
            ]
          },
          "metadata": {
            "tags": []
          },
          "execution_count": 318
        }
      ]
    },
    {
      "cell_type": "code",
      "metadata": {
        "id": "TH1FUPIsx_Db",
        "colab_type": "code",
        "colab": {
          "base_uri": "https://localhost:8080/",
          "height": 35
        },
        "outputId": "4ab46c2d-4618-4d02-fba3-0fccdf8523c2"
      },
      "source": [
        "Dog.species"
      ],
      "execution_count": 319,
      "outputs": [
        {
          "output_type": "execute_result",
          "data": {
            "application/vnd.google.colaboratory.intrinsic": {
              "type": "string"
            },
            "text/plain": [
              "'mammal'"
            ]
          },
          "metadata": {
            "tags": []
          },
          "execution_count": 319
        }
      ]
    },
    {
      "cell_type": "code",
      "metadata": {
        "id": "rt-liTY-yBAL",
        "colab_type": "code",
        "colab": {}
      },
      "source": [
        "class Circle(object):\n",
        "  pi = 3.14\n",
        "  def __init__(self, radius=1):\n",
        "    self.radius = radius\n",
        "\n",
        "  def area(self):\n",
        "    return self.radius * self.radius * Circle.pi\n",
        "\n",
        "  def setRadius(self, radius):\n",
        "    self.radius = radius\n",
        "    \n",
        "  def getRadius(self):\n",
        "    return self.radius"
      ],
      "execution_count": 320,
      "outputs": []
    },
    {
      "cell_type": "code",
      "metadata": {
        "id": "76P4ylBGyoJr",
        "colab_type": "code",
        "colab": {}
      },
      "source": [
        "a = Circle()"
      ],
      "execution_count": 321,
      "outputs": []
    },
    {
      "cell_type": "code",
      "metadata": {
        "id": "5VxvdZKuypvb",
        "colab_type": "code",
        "colab": {
          "base_uri": "https://localhost:8080/",
          "height": 35
        },
        "outputId": "5e145f93-1f5e-4a9c-8b61-2d989836673a"
      },
      "source": [
        "a.radius"
      ],
      "execution_count": 322,
      "outputs": [
        {
          "output_type": "execute_result",
          "data": {
            "text/plain": [
              "1"
            ]
          },
          "metadata": {
            "tags": []
          },
          "execution_count": 322
        }
      ]
    },
    {
      "cell_type": "code",
      "metadata": {
        "id": "F4ef2f8Dyrqb",
        "colab_type": "code",
        "colab": {
          "base_uri": "https://localhost:8080/",
          "height": 35
        },
        "outputId": "a9542bc5-ca03-49c3-904b-62e08f43fa9c"
      },
      "source": [
        "a.getRadius()"
      ],
      "execution_count": 323,
      "outputs": [
        {
          "output_type": "execute_result",
          "data": {
            "text/plain": [
              "1"
            ]
          },
          "metadata": {
            "tags": []
          },
          "execution_count": 323
        }
      ]
    },
    {
      "cell_type": "code",
      "metadata": {
        "id": "EtUFrtc6ytDL",
        "colab_type": "code",
        "colab": {
          "base_uri": "https://localhost:8080/",
          "height": 35
        },
        "outputId": "3a41cbb3-b34a-443f-c7aa-91ecffa7b530"
      },
      "source": [
        "a.area()"
      ],
      "execution_count": 324,
      "outputs": [
        {
          "output_type": "execute_result",
          "data": {
            "text/plain": [
              "3.14"
            ]
          },
          "metadata": {
            "tags": []
          },
          "execution_count": 324
        }
      ]
    },
    {
      "cell_type": "code",
      "metadata": {
        "id": "Lr4A0-ymyu9b",
        "colab_type": "code",
        "colab": {}
      },
      "source": [
        "a.setRadius(2)"
      ],
      "execution_count": 325,
      "outputs": []
    },
    {
      "cell_type": "code",
      "metadata": {
        "id": "OxJ5ftZdyzKr",
        "colab_type": "code",
        "colab": {
          "base_uri": "https://localhost:8080/",
          "height": 35
        },
        "outputId": "5702963b-21d0-4657-e496-d764343c43fb"
      },
      "source": [
        "a.getRadius()"
      ],
      "execution_count": 326,
      "outputs": [
        {
          "output_type": "execute_result",
          "data": {
            "text/plain": [
              "2"
            ]
          },
          "metadata": {
            "tags": []
          },
          "execution_count": 326
        }
      ]
    },
    {
      "cell_type": "code",
      "metadata": {
        "id": "23vGPFeSy928",
        "colab_type": "code",
        "colab": {
          "base_uri": "https://localhost:8080/",
          "height": 35
        },
        "outputId": "f82c740f-edd3-406a-fcee-ac04ed1bcd65"
      },
      "source": [
        "a.area()"
      ],
      "execution_count": 327,
      "outputs": [
        {
          "output_type": "execute_result",
          "data": {
            "text/plain": [
              "12.56"
            ]
          },
          "metadata": {
            "tags": []
          },
          "execution_count": 327
        }
      ]
    },
    {
      "cell_type": "markdown",
      "metadata": {
        "id": "NV7eEn3d3lWB",
        "colab_type": "text"
      },
      "source": [
        "## File"
      ]
    },
    {
      "cell_type": "code",
      "metadata": {
        "id": "fwkXXOqRy_gb",
        "colab_type": "code",
        "colab": {}
      },
      "source": [
        "# r: read, a: append, b:binary\n",
        "fid = open('test.txt', 'w')\n",
        "fid.write('Hello\\nWorld')\n",
        "fid.close()\n"
      ],
      "execution_count": 328,
      "outputs": []
    },
    {
      "cell_type": "code",
      "metadata": {
        "id": "TQnzngEj31et",
        "colab_type": "code",
        "colab": {
          "base_uri": "https://localhost:8080/",
          "height": 52
        },
        "outputId": "66b41257-342e-4792-e8cc-9bc864d78587"
      },
      "source": [
        "! cat test.txt"
      ],
      "execution_count": 329,
      "outputs": [
        {
          "output_type": "stream",
          "text": [
            "Hello\n",
            "World"
          ],
          "name": "stdout"
        }
      ]
    },
    {
      "cell_type": "code",
      "metadata": {
        "id": "Hkvi6HoZ357d",
        "colab_type": "code",
        "colab": {}
      },
      "source": [
        "with open('test.txt', 'w') as f:\n",
        "  f.write('Hello\\nWorld')"
      ],
      "execution_count": 330,
      "outputs": []
    },
    {
      "cell_type": "code",
      "metadata": {
        "id": "oziaUfnD4J2P",
        "colab_type": "code",
        "colab": {}
      },
      "source": [
        ""
      ],
      "execution_count": null,
      "outputs": []
    },
    {
      "cell_type": "code",
      "metadata": {
        "id": "NLgcpdvM4VRk",
        "colab_type": "code",
        "colab": {
          "base_uri": "https://localhost:8080/",
          "height": 124
        },
        "outputId": "40deb997-d4c2-42dd-9a42-8d9fd3a9a61f"
      },
      "source": [
        "from google.colab import drive\n",
        "drive.mount('/content/drive')"
      ],
      "execution_count": 331,
      "outputs": [
        {
          "output_type": "stream",
          "text": [
            "Go to this URL in a browser: https://accounts.google.com/o/oauth2/auth?client_id=947318989803-6bn6qk8qdgf4n4g3pfee6491hc0brc4i.apps.googleusercontent.com&redirect_uri=urn%3aietf%3awg%3aoauth%3a2.0%3aoob&response_type=code&scope=email%20https%3a%2f%2fwww.googleapis.com%2fauth%2fdocs.test%20https%3a%2f%2fwww.googleapis.com%2fauth%2fdrive%20https%3a%2f%2fwww.googleapis.com%2fauth%2fdrive.photos.readonly%20https%3a%2f%2fwww.googleapis.com%2fauth%2fpeopleapi.readonly\n",
            "\n",
            "Enter your authorization code:\n",
            "··········\n",
            "Mounted at /content/drive\n"
          ],
          "name": "stdout"
        }
      ]
    },
    {
      "cell_type": "code",
      "metadata": {
        "id": "UMj5Yzq94Xwt",
        "colab_type": "code",
        "colab": {}
      },
      "source": [
        "with open('/content/drive/My Drive/test.txt', 'w') as f:\n",
        "  f.write('Hello\\nWorld')"
      ],
      "execution_count": 332,
      "outputs": []
    },
    {
      "cell_type": "code",
      "metadata": {
        "id": "ETofnp-U4rt9",
        "colab_type": "code",
        "colab": {
          "base_uri": "https://localhost:8080/",
          "height": 69
        },
        "outputId": "9d4b49b6-5482-4d42-af70-82274b05dc1d"
      },
      "source": [
        "with open('test.txt', 'r') as fid:\n",
        "  for line in fid:\n",
        "    print(\"Line: \" + line)"
      ],
      "execution_count": 334,
      "outputs": [
        {
          "output_type": "stream",
          "text": [
            "Line: Hello\n",
            "\n",
            "Line: World\n"
          ],
          "name": "stdout"
        }
      ]
    },
    {
      "cell_type": "code",
      "metadata": {
        "id": "Sz2fmNcA44OM",
        "colab_type": "code",
        "colab": {}
      },
      "source": [
        "with open('test.txt', 'r') as fid:\n",
        "  s = fid.read()"
      ],
      "execution_count": 335,
      "outputs": []
    },
    {
      "cell_type": "code",
      "metadata": {
        "id": "I7fkubA65FPM",
        "colab_type": "code",
        "colab": {
          "base_uri": "https://localhost:8080/",
          "height": 35
        },
        "outputId": "0e628319-188c-4050-b7b1-5de378aa5cd4"
      },
      "source": [
        "s"
      ],
      "execution_count": 336,
      "outputs": [
        {
          "output_type": "execute_result",
          "data": {
            "application/vnd.google.colaboratory.intrinsic": {
              "type": "string"
            },
            "text/plain": [
              "'Hello\\nWorld'"
            ]
          },
          "metadata": {
            "tags": []
          },
          "execution_count": 336
        }
      ]
    },
    {
      "cell_type": "code",
      "metadata": {
        "id": "1OhbVmV35F5c",
        "colab_type": "code",
        "colab": {
          "base_uri": "https://localhost:8080/",
          "height": 52
        },
        "outputId": "3594be86-b6de-4fa0-a80d-cfc326bd0b77"
      },
      "source": [
        "print(s)"
      ],
      "execution_count": 337,
      "outputs": [
        {
          "output_type": "stream",
          "text": [
            "Hello\n",
            "World\n"
          ],
          "name": "stdout"
        }
      ]
    },
    {
      "cell_type": "code",
      "metadata": {
        "id": "P5GwcYG05He8",
        "colab_type": "code",
        "colab": {}
      },
      "source": [
        "k = 0\n",
        "with open('test.txt', 'r') as fid:\n",
        "  for line in fid:\n",
        "    k += 1"
      ],
      "execution_count": 338,
      "outputs": []
    },
    {
      "cell_type": "code",
      "metadata": {
        "id": "KoB33F7I5Tr9",
        "colab_type": "code",
        "colab": {
          "base_uri": "https://localhost:8080/",
          "height": 35
        },
        "outputId": "d18ab805-66b5-4207-c92f-68beaeec0fd4"
      },
      "source": [
        "k"
      ],
      "execution_count": 339,
      "outputs": [
        {
          "output_type": "execute_result",
          "data": {
            "text/plain": [
              "2"
            ]
          },
          "metadata": {
            "tags": []
          },
          "execution_count": 339
        }
      ]
    },
    {
      "cell_type": "code",
      "metadata": {
        "id": "iCmPEKGz5UQt",
        "colab_type": "code",
        "colab": {}
      },
      "source": [
        "ary = []\n",
        "with open('test.txt', 'r') as fid:\n",
        "  for line in fid:\n",
        "    ary.append(line)"
      ],
      "execution_count": 340,
      "outputs": []
    },
    {
      "cell_type": "code",
      "metadata": {
        "id": "k1tqmxNJ5ce9",
        "colab_type": "code",
        "colab": {
          "base_uri": "https://localhost:8080/",
          "height": 35
        },
        "outputId": "80395d26-9947-4d22-e96b-f3490367bee8"
      },
      "source": [
        "ary"
      ],
      "execution_count": 341,
      "outputs": [
        {
          "output_type": "execute_result",
          "data": {
            "text/plain": [
              "['Hello\\n', 'World']"
            ]
          },
          "metadata": {
            "tags": []
          },
          "execution_count": 341
        }
      ]
    },
    {
      "cell_type": "code",
      "metadata": {
        "id": "xk4tZbQS5c_e",
        "colab_type": "code",
        "colab": {
          "base_uri": "https://localhost:8080/",
          "height": 35
        },
        "outputId": "e57f455e-2ee1-41f3-f460-b72425d6136f"
      },
      "source": [
        "len(ary)"
      ],
      "execution_count": 342,
      "outputs": [
        {
          "output_type": "execute_result",
          "data": {
            "text/plain": [
              "2"
            ]
          },
          "metadata": {
            "tags": []
          },
          "execution_count": 342
        }
      ]
    },
    {
      "cell_type": "code",
      "metadata": {
        "id": "QgOSWJ-z5hKN",
        "colab_type": "code",
        "colab": {
          "base_uri": "https://localhost:8080/",
          "height": 35
        },
        "outputId": "be17280b-7a27-4387-dbc1-20bf35f9e336"
      },
      "source": [
        "### non-Pythonic\n",
        "ary = []\n",
        "with open('test.txt', 'r') as fid:\n",
        "  for line in fid:\n",
        "    ary.append(line)\n",
        "len(ary)\n"
      ],
      "execution_count": 343,
      "outputs": [
        {
          "output_type": "execute_result",
          "data": {
            "text/plain": [
              "2"
            ]
          },
          "metadata": {
            "tags": []
          },
          "execution_count": 343
        }
      ]
    },
    {
      "cell_type": "code",
      "metadata": {
        "id": "csEGxRRf5r_t",
        "colab_type": "code",
        "colab": {
          "base_uri": "https://localhost:8080/",
          "height": 35
        },
        "outputId": "69493558-3223-4078-868b-ca2ce391f2c6"
      },
      "source": [
        "### Pythonic\n",
        "len([line for line in open('test.txt', 'r')])"
      ],
      "execution_count": 345,
      "outputs": [
        {
          "output_type": "execute_result",
          "data": {
            "text/plain": [
              "2"
            ]
          },
          "metadata": {
            "tags": []
          },
          "execution_count": 345
        }
      ]
    },
    {
      "cell_type": "code",
      "metadata": {
        "id": "wzE1StWK52sN",
        "colab_type": "code",
        "colab": {
          "base_uri": "https://localhost:8080/",
          "height": 35
        },
        "outputId": "6d88fca4-afee-4d3d-8ad3-b740d96bf3c8"
      },
      "source": [
        "filedir = ['a.txt', 'b.jpg', 'cdd.jpg', 'd.txt', 'e.pdf']\n",
        "ary = []\n",
        "for fname in filedir:\n",
        "  if 'jpg' in fname:\n",
        "    ary.append(fname)\n",
        "ary"
      ],
      "execution_count": 347,
      "outputs": [
        {
          "output_type": "execute_result",
          "data": {
            "text/plain": [
              "['b.jpg', 'cdd.jpg']"
            ]
          },
          "metadata": {
            "tags": []
          },
          "execution_count": 347
        }
      ]
    },
    {
      "cell_type": "code",
      "metadata": {
        "id": "fwo06Gub6P08",
        "colab_type": "code",
        "colab": {
          "base_uri": "https://localhost:8080/",
          "height": 35
        },
        "outputId": "8ad7048d-0b1e-4ce7-f556-30aa69d1e4b0"
      },
      "source": [
        "[fname for fname in filedir if 'jpg' in fname]"
      ],
      "execution_count": 348,
      "outputs": [
        {
          "output_type": "execute_result",
          "data": {
            "text/plain": [
              "['b.jpg', 'cdd.jpg']"
            ]
          },
          "metadata": {
            "tags": []
          },
          "execution_count": 348
        }
      ]
    },
    {
      "cell_type": "markdown",
      "metadata": {
        "id": "aoCGE7K57O0j",
        "colab_type": "text"
      },
      "source": [
        "## WordCount"
      ]
    },
    {
      "cell_type": "code",
      "metadata": {
        "id": "u624cBCU6cdN",
        "colab_type": "code",
        "colab": {
          "base_uri": "https://localhost:8080/",
          "height": 228
        },
        "outputId": "9649c83a-9ee3-4e57-949f-db6e22f582be"
      },
      "source": [
        "! wget https://raw.githubusercontent.com/ywchiu/tibamepy/master/data/trump.txt"
      ],
      "execution_count": 349,
      "outputs": [
        {
          "output_type": "stream",
          "text": [
            "--2020-07-11 08:10:46--  https://raw.githubusercontent.com/ywchiu/tibamepy/master/data/trump.txt\n",
            "Resolving raw.githubusercontent.com (raw.githubusercontent.com)... 151.101.0.133, 151.101.64.133, 151.101.128.133, ...\n",
            "Connecting to raw.githubusercontent.com (raw.githubusercontent.com)|151.101.0.133|:443... connected.\n",
            "HTTP request sent, awaiting response... 200 OK\n",
            "Length: 8736 (8.5K) [text/plain]\n",
            "Saving to: ‘trump.txt’\n",
            "\n",
            "\rtrump.txt             0%[                    ]       0  --.-KB/s               \rtrump.txt           100%[===================>]   8.53K  --.-KB/s    in 0s      \n",
            "\n",
            "2020-07-11 08:10:46 (89.4 MB/s) - ‘trump.txt’ saved [8736/8736]\n",
            "\n"
          ],
          "name": "stdout"
        }
      ]
    },
    {
      "cell_type": "code",
      "metadata": {
        "id": "bqjbYeB3-00A",
        "colab_type": "code",
        "colab": {}
      },
      "source": [
        "stopwords = [\"i\", \"me\", \"my\", \"myself\", \"we\", \"our\", \"ours\", \"ourselves\", \"you\", \"your\", \"yours\", \"yourself\", \"yourselves\", \"he\", \"him\", \"his\", \"himself\", \"she\", \"her\", \"hers\", \"herself\", \"it\", \"its\", \"itself\", \"they\", \"them\", \"their\", \"theirs\", \"themselves\", \"what\", \"which\", \"who\", \"whom\", \"this\", \"that\", \"these\", \"those\", \"am\", \"is\", \"are\", \"was\", \"were\", \"be\", \"been\", \"being\", \"have\", \"has\", \"had\", \"having\", \"do\", \"does\", \"did\", \"doing\", \"a\", \"an\", \"the\", \"and\", \"but\", \"if\", \"or\", \"because\", \"as\", \"until\", \"while\", \"of\", \"at\", \"by\", \"for\", \"with\", \"about\", \"against\", \"between\", \"into\", \"through\", \"during\", \"before\", \"after\", \"above\", \"below\", \"to\", \"from\", \"up\", \"down\", \"in\", \"out\", \"on\", \"off\", \"over\", \"under\", \"again\", \"further\", \"then\", \"once\", \"here\", \"there\", \"when\", \"where\", \"why\", \"how\", \"all\", \"any\", \"both\", \"each\", \"few\", \"more\", \"most\", \"other\", \"some\", \"such\", \"no\", \"nor\", \"not\", \"only\", \"own\", \"same\", \"so\", \"than\", \"too\", \"very\", \"s\", \"t\", \"can\", \"will\", \"just\", \"don\", \"should\", \"now\"]"
      ],
      "execution_count": 372,
      "outputs": []
    },
    {
      "cell_type": "code",
      "metadata": {
        "id": "tWvWxaRH7RTu",
        "colab_type": "code",
        "colab": {}
      },
      "source": [
        "with open('trump.txt', 'r', encoding = 'latin1') as f:\n",
        "  data = f.read()"
      ],
      "execution_count": 373,
      "outputs": []
    },
    {
      "cell_type": "code",
      "metadata": {
        "id": "sYYItd3r7cre",
        "colab_type": "code",
        "colab": {}
      },
      "source": [
        "words = data.lower().split()"
      ],
      "execution_count": 384,
      "outputs": []
    },
    {
      "cell_type": "code",
      "metadata": {
        "id": "aS5oe5vn8Kgj",
        "colab_type": "code",
        "colab": {
          "base_uri": "https://localhost:8080/",
          "height": 139
        },
        "outputId": "21589355-1495-4436-86ae-4f366d6efe28"
      },
      "source": [
        "dic = {}\n",
        "a = ['a','b', 'c', 'a', 'd', 'c' ,'c']\n",
        "for w in a:\n",
        "  if w not in dic:\n",
        "    dic[w] = 1\n",
        "  else:\n",
        "    dic[w] = dic[w] + 1\n",
        "  print(dic)"
      ],
      "execution_count": 385,
      "outputs": [
        {
          "output_type": "stream",
          "text": [
            "{'a': 1}\n",
            "{'a': 1, 'b': 1}\n",
            "{'a': 1, 'b': 1, 'c': 1}\n",
            "{'a': 2, 'b': 1, 'c': 1}\n",
            "{'a': 2, 'b': 1, 'c': 1, 'd': 1}\n",
            "{'a': 2, 'b': 1, 'c': 2, 'd': 1}\n",
            "{'a': 2, 'b': 1, 'c': 3, 'd': 1}\n"
          ],
          "name": "stdout"
        }
      ]
    },
    {
      "cell_type": "code",
      "metadata": {
        "id": "n9Lh7zXd7fPu",
        "colab_type": "code",
        "colab": {}
      },
      "source": [
        "dic = {}\n",
        "for w in words:\n",
        "  if (w not in stopwords) and len(w) > 2:\n",
        "    if w not in dic:\n",
        "      dic[w] = 1\n",
        "    else:\n",
        "      dic[w] = dic[w] + 1"
      ],
      "execution_count": 393,
      "outputs": []
    },
    {
      "cell_type": "code",
      "metadata": {
        "id": "IO8-bt9z8SWu",
        "colab_type": "code",
        "colab": {}
      },
      "source": [
        "#dic.items()"
      ],
      "execution_count": 394,
      "outputs": []
    },
    {
      "cell_type": "code",
      "metadata": {
        "id": "j9_SSgdP9tqu",
        "colab_type": "code",
        "colab": {
          "base_uri": "https://localhost:8080/",
          "height": 35
        },
        "outputId": "0d3d5f32-a1db-4ae3-c996-db8391a845cd"
      },
      "source": [
        "def square(x):\n",
        "  return x ** 2\n",
        "\n",
        "square(2)"
      ],
      "execution_count": 395,
      "outputs": [
        {
          "output_type": "execute_result",
          "data": {
            "text/plain": [
              "4"
            ]
          },
          "metadata": {
            "tags": []
          },
          "execution_count": 395
        }
      ]
    },
    {
      "cell_type": "code",
      "metadata": {
        "id": "5baYxXll91yn",
        "colab_type": "code",
        "colab": {
          "base_uri": "https://localhost:8080/",
          "height": 35
        },
        "outputId": "2bc2fe0d-6aba-46d0-febe-4c3f01ed04e4"
      },
      "source": [
        "# lambda : function without name\n",
        "square2 = lambda x: x ** 2\n",
        "square2(3)"
      ],
      "execution_count": 396,
      "outputs": [
        {
          "output_type": "execute_result",
          "data": {
            "text/plain": [
              "9"
            ]
          },
          "metadata": {
            "tags": []
          },
          "execution_count": 396
        }
      ]
    },
    {
      "cell_type": "code",
      "metadata": {
        "id": "qIi8KvcU-FOe",
        "colab_type": "code",
        "colab": {
          "base_uri": "https://localhost:8080/",
          "height": 35
        },
        "outputId": "1bf9c1fe-83fb-4761-d336-db7975268ddf"
      },
      "source": [
        "def getSecond(a):\n",
        "  return a[1]\n",
        "\n",
        "getSecond((3,5))"
      ],
      "execution_count": 397,
      "outputs": [
        {
          "output_type": "execute_result",
          "data": {
            "text/plain": [
              "5"
            ]
          },
          "metadata": {
            "tags": []
          },
          "execution_count": 397
        }
      ]
    },
    {
      "cell_type": "code",
      "metadata": {
        "id": "w-o8yp3r8z0o",
        "colab_type": "code",
        "colab": {}
      },
      "source": [
        "swd = sorted(dic.items(), key = lambda e: e[1], reverse=True)"
      ],
      "execution_count": 398,
      "outputs": []
    },
    {
      "cell_type": "code",
      "metadata": {
        "id": "XLLw6JVV9g9_",
        "colab_type": "code",
        "colab": {
          "base_uri": "https://localhost:8080/",
          "height": 191
        },
        "outputId": "48b54d3f-b1eb-45c6-aec6-3739aaf26bf3"
      },
      "source": [
        "swd[0:10]"
      ],
      "execution_count": 399,
      "outputs": [
        {
          "output_type": "execute_result",
          "data": {
            "text/plain": [
              "[('american', 11),\n",
              " ('america', 10),\n",
              " ('again.', 8),\n",
              " ('every', 7),\n",
              " ('one', 7),\n",
              " ('president', 6),\n",
              " ('people', 6),\n",
              " ('great', 6),\n",
              " ('country', 6),\n",
              " ('back', 6)]"
            ]
          },
          "metadata": {
            "tags": []
          },
          "execution_count": 399
        }
      ]
    },
    {
      "cell_type": "markdown",
      "metadata": {
        "id": "U-EY0nHM_ne-",
        "colab_type": "text"
      },
      "source": [
        "### WordCount (Tidy Version)"
      ]
    },
    {
      "cell_type": "code",
      "metadata": {
        "id": "A2OzVsQU-b9e",
        "colab_type": "code",
        "colab": {
          "base_uri": "https://localhost:8080/",
          "height": 228
        },
        "outputId": "4477f924-cc07-4ca4-f644-0c71e03349fc"
      },
      "source": [
        "! wget https://raw.githubusercontent.com/ywchiu/tibamepy/master/data/trump.txt"
      ],
      "execution_count": 400,
      "outputs": [
        {
          "output_type": "stream",
          "text": [
            "--2020-07-11 08:29:49--  https://raw.githubusercontent.com/ywchiu/tibamepy/master/data/trump.txt\n",
            "Resolving raw.githubusercontent.com (raw.githubusercontent.com)... 151.101.0.133, 151.101.64.133, 151.101.128.133, ...\n",
            "Connecting to raw.githubusercontent.com (raw.githubusercontent.com)|151.101.0.133|:443... connected.\n",
            "HTTP request sent, awaiting response... 200 OK\n",
            "Length: 8736 (8.5K) [text/plain]\n",
            "Saving to: ‘trump.txt.1’\n",
            "\n",
            "\rtrump.txt.1           0%[                    ]       0  --.-KB/s               \rtrump.txt.1         100%[===================>]   8.53K  --.-KB/s    in 0s      \n",
            "\n",
            "2020-07-11 08:29:49 (90.1 MB/s) - ‘trump.txt.1’ saved [8736/8736]\n",
            "\n"
          ],
          "name": "stdout"
        }
      ]
    },
    {
      "cell_type": "code",
      "metadata": {
        "id": "VZMo_Wpx_qWu",
        "colab_type": "code",
        "colab": {}
      },
      "source": [
        "stopwords = [\"i\", \"me\", \"my\", \"myself\", \"we\", \"our\", \"ours\", \"ourselves\", \"you\", \"your\", \"yours\", \"yourself\", \"yourselves\", \"he\", \"him\", \"his\", \"himself\", \"she\", \"her\", \"hers\", \"herself\", \"it\", \"its\", \"itself\", \"they\", \"them\", \"their\", \"theirs\", \"themselves\", \"what\", \"which\", \"who\", \"whom\", \"this\", \"that\", \"these\", \"those\", \"am\", \"is\", \"are\", \"was\", \"were\", \"be\", \"been\", \"being\", \"have\", \"has\", \"had\", \"having\", \"do\", \"does\", \"did\", \"doing\", \"a\", \"an\", \"the\", \"and\", \"but\", \"if\", \"or\", \"because\", \"as\", \"until\", \"while\", \"of\", \"at\", \"by\", \"for\", \"with\", \"about\", \"against\", \"between\", \"into\", \"through\", \"during\", \"before\", \"after\", \"above\", \"below\", \"to\", \"from\", \"up\", \"down\", \"in\", \"out\", \"on\", \"off\", \"over\", \"under\", \"again\", \"further\", \"then\", \"once\", \"here\", \"there\", \"when\", \"where\", \"why\", \"how\", \"all\", \"any\", \"both\", \"each\", \"few\", \"more\", \"most\", \"other\", \"some\", \"such\", \"no\", \"nor\", \"not\", \"only\", \"own\", \"same\", \"so\", \"than\", \"too\", \"very\", \"s\", \"t\", \"can\", \"will\", \"just\", \"don\", \"should\", \"now\"]"
      ],
      "execution_count": 401,
      "outputs": []
    },
    {
      "cell_type": "code",
      "metadata": {
        "id": "uuV5dosC_sXu",
        "colab_type": "code",
        "colab": {}
      },
      "source": [
        "with open('trump.txt', 'r', encoding = 'latin1') as f:\n",
        "  data = f.read()"
      ],
      "execution_count": 402,
      "outputs": []
    },
    {
      "cell_type": "code",
      "metadata": {
        "id": "1eNRm_bI_uYP",
        "colab_type": "code",
        "colab": {}
      },
      "source": [
        "words = data.lower().split()"
      ],
      "execution_count": 403,
      "outputs": []
    },
    {
      "cell_type": "code",
      "metadata": {
        "id": "DoSySCG4_wj-",
        "colab_type": "code",
        "colab": {}
      },
      "source": [
        "dic = {}\n",
        "for w in words:\n",
        "  if (w not in stopwords) and len(w) > 2:\n",
        "    if w not in dic:\n",
        "      dic[w] = 1\n",
        "    else:\n",
        "      dic[w] = dic[w] + 1"
      ],
      "execution_count": 404,
      "outputs": []
    },
    {
      "cell_type": "code",
      "metadata": {
        "id": "tG5Y5LFt_0oP",
        "colab_type": "code",
        "colab": {}
      },
      "source": [
        "swd = sorted(dic.items(), key = lambda e: e[1], reverse=True)"
      ],
      "execution_count": 405,
      "outputs": []
    },
    {
      "cell_type": "code",
      "metadata": {
        "id": "yoQp1tbx_25V",
        "colab_type": "code",
        "colab": {
          "base_uri": "https://localhost:8080/",
          "height": 191
        },
        "outputId": "bf83b95c-8a25-4bc8-d393-97a3516ad38a"
      },
      "source": [
        "swd[0:10]"
      ],
      "execution_count": 406,
      "outputs": [
        {
          "output_type": "execute_result",
          "data": {
            "text/plain": [
              "[('american', 11),\n",
              " ('america', 10),\n",
              " ('again.', 8),\n",
              " ('every', 7),\n",
              " ('one', 7),\n",
              " ('president', 6),\n",
              " ('people', 6),\n",
              " ('great', 6),\n",
              " ('country', 6),\n",
              " ('back', 6)]"
            ]
          },
          "metadata": {
            "tags": []
          },
          "execution_count": 406
        }
      ]
    },
    {
      "cell_type": "markdown",
      "metadata": {
        "id": "_y5NiQBZCNtU",
        "colab_type": "text"
      },
      "source": [
        "### WordCount V2"
      ]
    },
    {
      "cell_type": "code",
      "metadata": {
        "id": "A7r9w4VZCVDg",
        "colab_type": "code",
        "colab": {
          "base_uri": "https://localhost:8080/",
          "height": 35
        },
        "outputId": "6c95a271-c5f2-4f85-9ba2-101f0cd637af"
      },
      "source": [
        "dic = {}\n",
        "a = ['a','b', 'c', 'a', 'd', 'c' ,'c']\n",
        "for w in a:\n",
        "  dic[w] = dic.get(w, 0) + 1\n",
        "dic"
      ],
      "execution_count": 408,
      "outputs": [
        {
          "output_type": "execute_result",
          "data": {
            "text/plain": [
              "{'a': 2, 'b': 1, 'c': 3, 'd': 1}"
            ]
          },
          "metadata": {
            "tags": []
          },
          "execution_count": 408
        }
      ]
    },
    {
      "cell_type": "code",
      "metadata": {
        "id": "E7JmvTPi_43g",
        "colab_type": "code",
        "colab": {}
      },
      "source": [
        "words = data.lower().split()"
      ],
      "execution_count": 409,
      "outputs": []
    },
    {
      "cell_type": "code",
      "metadata": {
        "id": "5gQmdw9SCPtR",
        "colab_type": "code",
        "colab": {}
      },
      "source": [
        "dic = {}\n",
        "for w in words:\n",
        "  if (w not in stopwords) and len(w) > 2:\n",
        "    dic[w] = dic.get(w,0) + 1"
      ],
      "execution_count": 410,
      "outputs": []
    },
    {
      "cell_type": "code",
      "metadata": {
        "id": "cHU1qPj0CmCf",
        "colab_type": "code",
        "colab": {}
      },
      "source": [
        "swd = sorted(dic.items(), key = lambda e: e[1], reverse=True)"
      ],
      "execution_count": 411,
      "outputs": []
    },
    {
      "cell_type": "code",
      "metadata": {
        "id": "8MugQ9gYCpJP",
        "colab_type": "code",
        "colab": {
          "base_uri": "https://localhost:8080/",
          "height": 191
        },
        "outputId": "1b57634d-a52c-469d-8dc5-0f7c28ac20d3"
      },
      "source": [
        "swd[0:10]"
      ],
      "execution_count": 412,
      "outputs": [
        {
          "output_type": "execute_result",
          "data": {
            "text/plain": [
              "[('american', 11),\n",
              " ('america', 10),\n",
              " ('again.', 8),\n",
              " ('every', 7),\n",
              " ('one', 7),\n",
              " ('president', 6),\n",
              " ('people', 6),\n",
              " ('great', 6),\n",
              " ('country', 6),\n",
              " ('back', 6)]"
            ]
          },
          "metadata": {
            "tags": []
          },
          "execution_count": 412
        }
      ]
    },
    {
      "cell_type": "markdown",
      "metadata": {
        "id": "xlngPbmHCu57",
        "colab_type": "text"
      },
      "source": [
        "### WordCount V3\n",
        "- https://docs.python.org/3.6/library/collections.html"
      ]
    },
    {
      "cell_type": "code",
      "metadata": {
        "id": "PkX5BexHCqNf",
        "colab_type": "code",
        "colab": {
          "base_uri": "https://localhost:8080/",
          "height": 35
        },
        "outputId": "4529f4ff-47ea-451f-af38-84d5730571cc"
      },
      "source": [
        " import sys\n",
        " sys.version"
      ],
      "execution_count": 418,
      "outputs": [
        {
          "output_type": "execute_result",
          "data": {
            "application/vnd.google.colaboratory.intrinsic": {
              "type": "string"
            },
            "text/plain": [
              "'3.6.9 (default, Apr 18 2020, 01:56:04) \\n[GCC 8.4.0]'"
            ]
          },
          "metadata": {
            "tags": []
          },
          "execution_count": 418
        }
      ]
    },
    {
      "cell_type": "code",
      "metadata": {
        "id": "jyLEPf6HDFqh",
        "colab_type": "code",
        "colab": {
          "base_uri": "https://localhost:8080/",
          "height": 35
        },
        "outputId": "c0e522d3-70ba-42e4-d893-f7f671fa1d50"
      },
      "source": [
        "from collections import Counter\n",
        "a = ['a','b', 'c', 'a', 'd', 'c' ,'c']\n",
        "c = Counter(a)\n",
        "c"
      ],
      "execution_count": 419,
      "outputs": [
        {
          "output_type": "execute_result",
          "data": {
            "text/plain": [
              "Counter({'a': 2, 'b': 1, 'c': 3, 'd': 1})"
            ]
          },
          "metadata": {
            "tags": []
          },
          "execution_count": 419
        }
      ]
    },
    {
      "cell_type": "code",
      "metadata": {
        "id": "ApzMpCi3DVbr",
        "colab_type": "code",
        "colab": {
          "base_uri": "https://localhost:8080/",
          "height": 35
        },
        "outputId": "6edc0efe-1689-4632-dd52-cc41f96b98df"
      },
      "source": [
        "c.most_common(3)"
      ],
      "execution_count": 420,
      "outputs": [
        {
          "output_type": "execute_result",
          "data": {
            "text/plain": [
              "[('c', 3), ('a', 2), ('b', 1)]"
            ]
          },
          "metadata": {
            "tags": []
          },
          "execution_count": 420
        }
      ]
    },
    {
      "cell_type": "code",
      "metadata": {
        "id": "k2IPmOrNDfJ5",
        "colab_type": "code",
        "colab": {
          "base_uri": "https://localhost:8080/",
          "height": 191
        },
        "outputId": "3bbc4330-fdff-4699-a4fc-161f507c7069"
      },
      "source": [
        "words = [w for w in data.lower().split() if (w not in stopwords) and (len(w) > 2)]\n",
        "c = Counter(words)\n",
        "c.most_common(10)"
      ],
      "execution_count": 423,
      "outputs": [
        {
          "output_type": "execute_result",
          "data": {
            "text/plain": [
              "[('american', 11),\n",
              " ('america', 10),\n",
              " ('again.', 8),\n",
              " ('every', 7),\n",
              " ('one', 7),\n",
              " ('president', 6),\n",
              " ('people', 6),\n",
              " ('great', 6),\n",
              " ('country', 6),\n",
              " ('back', 6)]"
            ]
          },
          "metadata": {
            "tags": []
          },
          "execution_count": 423
        }
      ]
    },
    {
      "cell_type": "markdown",
      "metadata": {
        "id": "qLkuaFSgD0AL",
        "colab_type": "text"
      },
      "source": [
        "### WordCount Final"
      ]
    },
    {
      "cell_type": "code",
      "metadata": {
        "id": "6yr1HxmqDkrv",
        "colab_type": "code",
        "colab": {
          "base_uri": "https://localhost:8080/",
          "height": 191
        },
        "outputId": "bac480b8-cf4c-4140-8cad-5d0fcb741929"
      },
      "source": [
        "#with open('trump.txt', 'r', encoding = 'latin1') as f:\n",
        "#  data = f.read()\n",
        "Counter([w for w in open('trump.txt', 'r', encoding = 'latin1').read().lower().split() if (w not in stopwords) and (len(w) > 2)]).most_common(10)\n"
      ],
      "execution_count": 427,
      "outputs": [
        {
          "output_type": "execute_result",
          "data": {
            "text/plain": [
              "[('american', 11),\n",
              " ('america', 10),\n",
              " ('again.', 8),\n",
              " ('every', 7),\n",
              " ('one', 7),\n",
              " ('president', 6),\n",
              " ('people', 6),\n",
              " ('great', 6),\n",
              " ('country', 6),\n",
              " ('back', 6)]"
            ]
          },
          "metadata": {
            "tags": []
          },
          "execution_count": 427
        }
      ]
    },
    {
      "cell_type": "markdown",
      "metadata": {
        "id": "2zkHNUXuEmLJ",
        "colab_type": "text"
      },
      "source": [
        "## Third Party Package"
      ]
    },
    {
      "cell_type": "code",
      "metadata": {
        "id": "evbAKQI_EA4h",
        "colab_type": "code",
        "colab": {
          "base_uri": "https://localhost:8080/",
          "height": 35
        },
        "outputId": "729695a1-26d6-4646-c40a-fa022d0afcf4"
      },
      "source": [
        "! pip install jieba"
      ],
      "execution_count": 428,
      "outputs": [
        {
          "output_type": "stream",
          "text": [
            "Requirement already satisfied: jieba in /usr/local/lib/python3.6/dist-packages (0.42.1)\n"
          ],
          "name": "stdout"
        }
      ]
    },
    {
      "cell_type": "code",
      "metadata": {
        "id": "upxf6EX5Ewdx",
        "colab_type": "code",
        "colab": {
          "base_uri": "https://localhost:8080/",
          "height": 89
        },
        "outputId": "d9a7d051-d9ab-4602-e788-c9a94db762e9"
      },
      "source": [
        "! pip install wordcloud"
      ],
      "execution_count": 429,
      "outputs": [
        {
          "output_type": "stream",
          "text": [
            "Requirement already satisfied: wordcloud in /usr/local/lib/python3.6/dist-packages (1.5.0)\n",
            "Requirement already satisfied: numpy>=1.6.1 in /usr/local/lib/python3.6/dist-packages (from wordcloud) (1.18.5)\n",
            "Requirement already satisfied: pillow in /usr/local/lib/python3.6/dist-packages (from wordcloud) (7.0.0)\n"
          ],
          "name": "stdout"
        }
      ]
    },
    {
      "cell_type": "code",
      "metadata": {
        "id": "GwydhvrYE9nj",
        "colab_type": "code",
        "colab": {
          "base_uri": "https://localhost:8080/",
          "height": 215
        },
        "outputId": "3100fc98-8d0b-42ac-8c49-f891cd029f74"
      },
      "source": [
        "from wordcloud import WordCloud\n",
        "import matplotlib.pyplot as plt\n",
        "\n",
        "text = open('trump.txt', 'r', encoding='iso-8859-1').read()\n",
        "\n",
        "wordcloud = WordCloud().generate(text)\n",
        "\n",
        "plt.imshow(wordcloud, interpolation='bilinear')\n",
        "plt.axis(\"off\")"
      ],
      "execution_count": 430,
      "outputs": [
        {
          "output_type": "execute_result",
          "data": {
            "text/plain": [
              "(-0.5, 399.5, 199.5, -0.5)"
            ]
          },
          "metadata": {
            "tags": []
          },
          "execution_count": 430
        },
        {
          "output_type": "display_data",
          "data": {
            "image/png": "[encoded data removed]",
            "text/plain": [
              "<Figure size 432x288 with 1 Axes>"
            ]
          },
          "metadata": {
            "tags": [],
            "needs_background": "light"
          }
        }
      ]
    },
    {
      "cell_type": "markdown",
      "metadata": {
        "id": "ottNyq4lKdNE",
        "colab_type": "text"
      },
      "source": [
        "## Speech to Text"
      ]
    },
    {
      "cell_type": "code",
      "metadata": {
        "id": "xmxUSymiFbkx",
        "colab_type": "code",
        "colab": {}
      },
      "source": [
        "! pip install SpeechRecognition\n",
        "! conda install pyaudio -y"
      ],
      "execution_count": null,
      "outputs": []
    },
    {
      "cell_type": "code",
      "metadata": {
        "id": "dhVKUOMOKhtC",
        "colab_type": "code",
        "colab": {}
      },
      "source": [
        "import speech_recognition as sr\n",
        "\n",
        "def listenTo():\n",
        "    r = sr.Recognizer()\n",
        "    with sr.Microphone() as source:\n",
        "        #print(\"Say something!\")\n",
        "        audio = r.listen(source)\n",
        "\n",
        "    ret = r.recognize_google(audio,language = 'zh-TW')\n",
        "    print(ret)\n",
        "    return ret"
      ],
      "execution_count": null,
      "outputs": []
    },
    {
      "cell_type": "code",
      "metadata": {
        "id": "FkD4AoNWKkDj",
        "colab_type": "code",
        "colab": {}
      },
      "source": [
        "listenTo()"
      ],
      "execution_count": null,
      "outputs": []
    },
    {
      "cell_type": "code",
      "metadata": {
        "id": "ma5QgNS0KleC",
        "colab_type": "code",
        "colab": {}
      },
      "source": [
        "qa_dic = {\n",
        "  '早安': '你也早安',\n",
        "  '晚安': '快去睡',\n",
        "  '我餓了': '今晚你想來點什麼'  \n",
        "}"
      ],
      "execution_count": null,
      "outputs": []
    },
    {
      "cell_type": "code",
      "metadata": {
        "id": "ssTpcmNzKnBN",
        "colab_type": "code",
        "colab": {}
      },
      "source": [
        "qa_dic.get(listenTo(), '我現在還不聰明, 等我變聰明以後再告訴你')"
      ],
      "execution_count": null,
      "outputs": []
    },
    {
      "cell_type": "markdown",
      "metadata": {
        "id": "c_xL4hYEKov1",
        "colab_type": "text"
      },
      "source": [
        "## Text to Speech"
      ]
    },
    {
      "cell_type": "code",
      "metadata": {
        "id": "DNkUxh9MKqID",
        "colab_type": "code",
        "colab": {}
      },
      "source": [
        "! pip install gTTS"
      ],
      "execution_count": null,
      "outputs": []
    },
    {
      "cell_type": "code",
      "metadata": {
        "id": "_AxCm_kjKrt3",
        "colab_type": "code",
        "colab": {}
      },
      "source": [
        "from gtts import gTTS\n",
        "tts = gTTS('hello')\n",
        "tts.save('hello2.mp3')"
      ],
      "execution_count": null,
      "outputs": []
    },
    {
      "cell_type": "code",
      "metadata": {
        "id": "KwWj7b5aKtXz",
        "colab_type": "code",
        "colab": {}
      },
      "source": [
        "! pip install pygame"
      ],
      "execution_count": null,
      "outputs": []
    },
    {
      "cell_type": "code",
      "metadata": {
        "id": "vce3oxNIKuoT",
        "colab_type": "code",
        "colab": {}
      },
      "source": [
        "from gtts import gTTS\n",
        "from pygame import mixer\n",
        "mixer.init()\n",
        "\n",
        "import tempfile\n",
        "def speak(sentence):\n",
        "    with tempfile.NamedTemporaryFile(delete=True) as fp:\n",
        "        tts = gTTS(text=sentence, lang='zh-tw')\n",
        "        tts.save(\"{}.mp3\".format(fp.name))\n",
        "        mixer.music.load('{}.mp3'.format(fp.name))\n",
        "        mixer.music.play()"
      ],
      "execution_count": null,
      "outputs": []
    },
    {
      "cell_type": "code",
      "metadata": {
        "id": "ZYJKza2kKvxg",
        "colab_type": "code",
        "colab": {}
      },
      "source": [
        "speak(qa_dic.get(listenTo(), '我現在還不聰明, 等我變聰明以後再告訴你'))"
      ],
      "execution_count": null,
      "outputs": []
    },
    {
      "cell_type": "markdown",
      "metadata": {
        "id": "BsnrBrCxK4UQ",
        "colab_type": "text"
      },
      "source": [
        "## 作業 (Python 基礎)\n",
        "\n",
        "- 1 請使用 pip 將 jieba 安裝在自己的電腦上\n",
        "- 2 閱讀jieba 相關的文件，了解jieba 的用法\n",
        "- 3 請將蔡英文演說文 (https://raw.githubusercontent.com/ywchiu/tibamedl/master/Data/speech_tsai.txt) 下載存入到自己電腦\n",
        "- 4 請使用python 的檔案操作方法讀取新聞\n",
        "- 5 請使用 jieba 將演說文切詞\n",
        "- 6 請統計該演說文最常出現的十大字詞"
      ]
    },
    {
      "cell_type": "code",
      "metadata": {
        "id": "wOBWec2hK79W",
        "colab_type": "code",
        "colab": {}
      },
      "source": [
        ""
      ],
      "execution_count": null,
      "outputs": []
    }
  ]
}