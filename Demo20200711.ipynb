{
  "nbformat": 4,
  "nbformat_minor": 0,
  "metadata": {
    "colab": {
      "name": "Demo20200711.ipynb",
      "provenance": [],
      "collapsed_sections": []
    },
    "kernelspec": {
      "name": "python3",
      "display_name": "Python 3"
    },
    "accelerator": "GPU"
  },
  "cells": [
    {
      "cell_type": "markdown",
      "metadata": {
        "id": "yeQNEjqOpzf8",
        "colab_type": "text"
      },
      "source": [
        "## Python Basic"
      ]
    },
    {
      "cell_type": "code",
      "metadata": {
        "id": "MTZdEnA0pBfZ",
        "colab_type": "code",
        "colab": {
          "base_uri": "https://localhost:8080/",
          "height": 35
        },
        "outputId": "ef474c55-dfcb-400e-aeb1-2199002f35a1"
      },
      "source": [
        "a = 3\n",
        "b = 2\n",
        "a + b"
      ],
      "execution_count": null,
      "outputs": [
        {
          "output_type": "execute_result",
          "data": {
            "text/plain": [
              "5"
            ]
          },
          "metadata": {
            "tags": []
          },
          "execution_count": 2
        }
      ]
    },
    {
      "cell_type": "markdown",
      "metadata": {
        "id": "taL7PDRVrxOm",
        "colab_type": "text"
      },
      "source": [
        "## Python 與資料科學"
      ]
    },
    {
      "cell_type": "markdown",
      "metadata": {
        "id": "M7yxTMw5sL6e",
        "colab_type": "text"
      },
      "source": [
        "### 資料蒐集"
      ]
    },
    {
      "cell_type": "code",
      "metadata": {
        "id": "r1aJ7lHvqUoy",
        "colab_type": "code",
        "colab": {}
      },
      "source": [
        "import pandas\n",
        "dfs = pandas.read_html('https://rate.bot.com.tw/xrt/quote/l6m/USD')"
      ],
      "execution_count": null,
      "outputs": []
    },
    {
      "cell_type": "markdown",
      "metadata": {
        "id": "4Qg0VkEOtBav",
        "colab_type": "text"
      },
      "source": [
        "### 資料清理"
      ]
    },
    {
      "cell_type": "code",
      "metadata": {
        "id": "3ySBmOV9sTyu",
        "colab_type": "code",
        "colab": {}
      },
      "source": [
        "df = dfs[0].iloc[:,[0,2]]"
      ],
      "execution_count": null,
      "outputs": []
    },
    {
      "cell_type": "code",
      "metadata": {
        "id": "M9ArH1FusXW-",
        "colab_type": "code",
        "colab": {}
      },
      "source": [
        "df.columns = ['Date', 'Price']"
      ],
      "execution_count": null,
      "outputs": []
    },
    {
      "cell_type": "code",
      "metadata": {
        "id": "9J0fs0NMse0-",
        "colab_type": "code",
        "colab": {
          "base_uri": "https://localhost:8080/",
          "height": 141
        },
        "outputId": "1e0545e7-bca0-43e5-8c45-03cda30019f6"
      },
      "source": [
        "df['Date'] = pandas.to_datetime(df['Date'], format = \"%Y/%m/%d\")"
      ],
      "execution_count": null,
      "outputs": [
        {
          "output_type": "stream",
          "text": [
            "/usr/local/lib/python3.6/dist-packages/ipykernel_launcher.py:1: SettingWithCopyWarning: \n",
            "A value is trying to be set on a copy of a slice from a DataFrame.\n",
            "Try using .loc[row_indexer,col_indexer] = value instead\n",
            "\n",
            "See the caveats in the documentation: https://pandas.pydata.org/pandas-docs/stable/user_guide/indexing.html#returning-a-view-versus-a-copy\n",
            "  \"\"\"Entry point for launching an IPython kernel.\n"
          ],
          "name": "stderr"
        }
      ]
    },
    {
      "cell_type": "code",
      "metadata": {
        "id": "9mBdoicWsjMe",
        "colab_type": "code",
        "colab": {}
      },
      "source": [
        "df.set_index('Date', drop=True, inplace=True)"
      ],
      "execution_count": null,
      "outputs": []
    },
    {
      "cell_type": "code",
      "metadata": {
        "id": "coKgS8WCsx99",
        "colab_type": "code",
        "colab": {
          "base_uri": "https://localhost:8080/",
          "height": 124
        },
        "outputId": "850747b2-7d9a-4d08-d66e-223a8e149e1f"
      },
      "source": [
        "df.sort_index(inplace=True)"
      ],
      "execution_count": null,
      "outputs": [
        {
          "output_type": "stream",
          "text": [
            "/usr/local/lib/python3.6/dist-packages/ipykernel_launcher.py:1: SettingWithCopyWarning: \n",
            "A value is trying to be set on a copy of a slice from a DataFrame\n",
            "\n",
            "See the caveats in the documentation: https://pandas.pydata.org/pandas-docs/stable/user_guide/indexing.html#returning-a-view-versus-a-copy\n",
            "  \"\"\"Entry point for launching an IPython kernel.\n"
          ],
          "name": "stderr"
        }
      ]
    },
    {
      "cell_type": "markdown",
      "metadata": {
        "id": "eQ3OMQy6tGQ_",
        "colab_type": "text"
      },
      "source": [
        "### 資料視覺化"
      ]
    },
    {
      "cell_type": "code",
      "metadata": {
        "id": "z9bn1aIks_c-",
        "colab_type": "code",
        "colab": {
          "base_uri": "https://localhost:8080/",
          "height": 295
        },
        "outputId": "630bdeda-c2f2-49ea-f16f-dcb7a1b9a641"
      },
      "source": [
        "df.plot(kind = 'line')"
      ],
      "execution_count": null,
      "outputs": [
        {
          "output_type": "execute_result",
          "data": {
            "text/plain": [
              "<matplotlib.axes._subplots.AxesSubplot at 0x7fca651f4f98>"
            ]
          },
          "metadata": {
            "tags": []
          },
          "execution_count": 17
        },
        {
          "output_type": "display_data",
          "data": {
            "image/png": "[encoded data removed]",
            "text/plain": [
              "<Figure size 432x288 with 1 Axes>"
            ]
          },
          "metadata": {
            "tags": [],
            "needs_background": "light"
          }
        }
      ]
    },
    {
      "cell_type": "code",
      "metadata": {
        "id": "eh64JYt6s_zu",
        "colab_type": "code",
        "colab": {
          "base_uri": "https://localhost:8080/",
          "height": 141
        },
        "outputId": "aa61b19f-ed6b-4db9-a1b2-b3422da92fe7"
      },
      "source": [
        "df['ma30'] = df['Price'].rolling(window = 30).mean()"
      ],
      "execution_count": null,
      "outputs": [
        {
          "output_type": "stream",
          "text": [
            "/usr/local/lib/python3.6/dist-packages/ipykernel_launcher.py:1: SettingWithCopyWarning: \n",
            "A value is trying to be set on a copy of a slice from a DataFrame.\n",
            "Try using .loc[row_indexer,col_indexer] = value instead\n",
            "\n",
            "See the caveats in the documentation: https://pandas.pydata.org/pandas-docs/stable/user_guide/indexing.html#returning-a-view-versus-a-copy\n",
            "  \"\"\"Entry point for launching an IPython kernel.\n"
          ],
          "name": "stderr"
        }
      ]
    },
    {
      "cell_type": "code",
      "metadata": {
        "id": "w029dElXtVZv",
        "colab_type": "code",
        "colab": {
          "base_uri": "https://localhost:8080/",
          "height": 295
        },
        "outputId": "04ca3a61-ba92-4d7a-a773-6b76da806c0d"
      },
      "source": [
        "df.plot(kind = 'line')"
      ],
      "execution_count": null,
      "outputs": [
        {
          "output_type": "execute_result",
          "data": {
            "text/plain": [
              "<matplotlib.axes._subplots.AxesSubplot at 0x7fca64c8c4e0>"
            ]
          },
          "metadata": {
            "tags": []
          },
          "execution_count": 20
        },
        {
          "output_type": "display_data",
          "data": {
            "image/png": "[encoded data removed]",
            "text/plain": [
              "<Figure size 432x288 with 1 Axes>"
            ]
          },
          "metadata": {
            "tags": [],
            "needs_background": "light"
          }
        }
      ]
    },
    {
      "cell_type": "markdown",
      "metadata": {
        "id": "dnY5Yy3bxSx3",
        "colab_type": "text"
      },
      "source": [
        "## Number "
      ]
    },
    {
      "cell_type": "markdown",
      "metadata": {
        "id": "iuVSCpnkx1XT",
        "colab_type": "text"
      },
      "source": [
        "#### 快捷鍵\n",
        "\n",
        "執行cell, 下面新增 \n",
        "cell\n",
        "- shift + enter\n",
        "\n",
        "執行cell\n",
        "- ctrl + enter"
      ]
    },
    {
      "cell_type": "code",
      "metadata": {
        "id": "o2DfGtAitYWO",
        "colab_type": "code",
        "colab": {
          "base_uri": "https://localhost:8080/",
          "height": 35
        },
        "outputId": "88ad47b3-32f7-4528-8ffa-0995176a8ab1"
      },
      "source": [
        "3 + 2 * 8 "
      ],
      "execution_count": 1,
      "outputs": [
        {
          "output_type": "execute_result",
          "data": {
            "text/plain": [
              "19"
            ]
          },
          "metadata": {
            "tags": []
          },
          "execution_count": 1
        }
      ]
    },
    {
      "cell_type": "code",
      "metadata": {
        "id": "wCi-Q5HKxYJj",
        "colab_type": "code",
        "colab": {
          "base_uri": "https://localhost:8080/",
          "height": 35
        },
        "outputId": "ecb8338b-425f-4ae9-9f81-94f3bf397b66"
      },
      "source": [
        "2 + 1 "
      ],
      "execution_count": 2,
      "outputs": [
        {
          "output_type": "execute_result",
          "data": {
            "text/plain": [
              "3"
            ]
          },
          "metadata": {
            "tags": []
          },
          "execution_count": 2
        }
      ]
    },
    {
      "cell_type": "code",
      "metadata": {
        "id": "OfnpyGQAxjBy",
        "colab_type": "code",
        "colab": {
          "base_uri": "https://localhost:8080/",
          "height": 35
        },
        "outputId": "9adb9a49-7077-4767-ed57-373ecf4e08c9"
      },
      "source": [
        "2 - 1"
      ],
      "execution_count": 3,
      "outputs": [
        {
          "output_type": "execute_result",
          "data": {
            "text/plain": [
              "1"
            ]
          },
          "metadata": {
            "tags": []
          },
          "execution_count": 3
        }
      ]
    },
    {
      "cell_type": "code",
      "metadata": {
        "id": "Qnp_vF4-xkhC",
        "colab_type": "code",
        "colab": {
          "base_uri": "https://localhost:8080/",
          "height": 35
        },
        "outputId": "25efa31c-de62-4d64-dd8c-2730a71a7951"
      },
      "source": [
        "2 * 3 "
      ],
      "execution_count": 4,
      "outputs": [
        {
          "output_type": "execute_result",
          "data": {
            "text/plain": [
              "6"
            ]
          },
          "metadata": {
            "tags": []
          },
          "execution_count": 4
        }
      ]
    },
    {
      "cell_type": "code",
      "metadata": {
        "id": "6WYu8YSwxl4C",
        "colab_type": "code",
        "colab": {
          "base_uri": "https://localhost:8080/",
          "height": 35
        },
        "outputId": "ab855ba4-e428-43f4-e1dd-2aac0439b29a"
      },
      "source": [
        "3 / 2"
      ],
      "execution_count": 5,
      "outputs": [
        {
          "output_type": "execute_result",
          "data": {
            "text/plain": [
              "1.5"
            ]
          },
          "metadata": {
            "tags": []
          },
          "execution_count": 5
        }
      ]
    },
    {
      "cell_type": "code",
      "metadata": {
        "id": "qgkgjywZxnZy",
        "colab_type": "code",
        "colab": {
          "base_uri": "https://localhost:8080/",
          "height": 35
        },
        "outputId": "ce2aac7f-a82d-4b7e-e117-11a5a78a4289"
      },
      "source": [
        "2 ** 3"
      ],
      "execution_count": 6,
      "outputs": [
        {
          "output_type": "execute_result",
          "data": {
            "text/plain": [
              "8"
            ]
          },
          "metadata": {
            "tags": []
          },
          "execution_count": 6
        }
      ]
    },
    {
      "cell_type": "code",
      "metadata": {
        "id": "RdXjaJkhyLoi",
        "colab_type": "code",
        "colab": {
          "base_uri": "https://localhost:8080/",
          "height": 35
        },
        "outputId": "8ee611d5-1ef5-4f92-ec59-19a9d65070ce"
      },
      "source": [
        "4 ** 0.5"
      ],
      "execution_count": 7,
      "outputs": [
        {
          "output_type": "execute_result",
          "data": {
            "text/plain": [
              "2.0"
            ]
          },
          "metadata": {
            "tags": []
          },
          "execution_count": 7
        }
      ]
    },
    {
      "cell_type": "code",
      "metadata": {
        "id": "c4_h_XjmyNni",
        "colab_type": "code",
        "colab": {
          "base_uri": "https://localhost:8080/",
          "height": 35
        },
        "outputId": "203a87f5-0b1b-49aa-903c-f8a8b5bc3979"
      },
      "source": [
        "2 + 10 * 10 + 3"
      ],
      "execution_count": 9,
      "outputs": [
        {
          "output_type": "execute_result",
          "data": {
            "text/plain": [
              "105"
            ]
          },
          "metadata": {
            "tags": []
          },
          "execution_count": 9
        }
      ]
    },
    {
      "cell_type": "code",
      "metadata": {
        "id": "2PVVgHvzyQNz",
        "colab_type": "code",
        "colab": {
          "base_uri": "https://localhost:8080/",
          "height": 35
        },
        "outputId": "21ff711f-ce53-443c-e798-db0027685823"
      },
      "source": [
        "(2 + 10) * (10+ 3)"
      ],
      "execution_count": 10,
      "outputs": [
        {
          "output_type": "execute_result",
          "data": {
            "text/plain": [
              "156"
            ]
          },
          "metadata": {
            "tags": []
          },
          "execution_count": 10
        }
      ]
    },
    {
      "cell_type": "code",
      "metadata": {
        "id": "_SKrdlIRyWbj",
        "colab_type": "code",
        "colab": {}
      },
      "source": [
        "a = 5"
      ],
      "execution_count": 11,
      "outputs": []
    },
    {
      "cell_type": "code",
      "metadata": {
        "id": "Gnw_lt3pykFj",
        "colab_type": "code",
        "colab": {
          "base_uri": "https://localhost:8080/",
          "height": 35
        },
        "outputId": "e138387a-f38b-4c29-a7e2-8e316afa8966"
      },
      "source": [
        "a"
      ],
      "execution_count": 12,
      "outputs": [
        {
          "output_type": "execute_result",
          "data": {
            "text/plain": [
              "5"
            ]
          },
          "metadata": {
            "tags": []
          },
          "execution_count": 12
        }
      ]
    },
    {
      "cell_type": "code",
      "metadata": {
        "id": "KlmpHCeCykiS",
        "colab_type": "code",
        "colab": {}
      },
      "source": [
        "a = 10"
      ],
      "execution_count": 13,
      "outputs": []
    },
    {
      "cell_type": "code",
      "metadata": {
        "id": "A3zMgMtWyrNj",
        "colab_type": "code",
        "colab": {
          "base_uri": "https://localhost:8080/",
          "height": 35
        },
        "outputId": "c4701816-9930-4a99-e534-f0298c2c3d39"
      },
      "source": [
        "a"
      ],
      "execution_count": 14,
      "outputs": [
        {
          "output_type": "execute_result",
          "data": {
            "text/plain": [
              "10"
            ]
          },
          "metadata": {
            "tags": []
          },
          "execution_count": 14
        }
      ]
    },
    {
      "cell_type": "code",
      "metadata": {
        "id": "tSsbfTD8yrjT",
        "colab_type": "code",
        "colab": {}
      },
      "source": [
        "a = a + a"
      ],
      "execution_count": 15,
      "outputs": []
    },
    {
      "cell_type": "code",
      "metadata": {
        "id": "M9nS5X4byvdD",
        "colab_type": "code",
        "colab": {
          "base_uri": "https://localhost:8080/",
          "height": 35
        },
        "outputId": "46b07b2b-bf2c-4ad3-a78e-881210c0aa16"
      },
      "source": [
        "a"
      ],
      "execution_count": 16,
      "outputs": [
        {
          "output_type": "execute_result",
          "data": {
            "text/plain": [
              "20"
            ]
          },
          "metadata": {
            "tags": []
          },
          "execution_count": 16
        }
      ]
    },
    {
      "cell_type": "code",
      "metadata": {
        "id": "5b59I1Anyv1T",
        "colab_type": "code",
        "colab": {}
      },
      "source": [
        "price = 49.99\n",
        "exchange_rate = 32.33"
      ],
      "execution_count": 17,
      "outputs": []
    },
    {
      "cell_type": "code",
      "metadata": {
        "id": "BU1-ZQLZy-4U",
        "colab_type": "code",
        "colab": {
          "base_uri": "https://localhost:8080/",
          "height": 35
        },
        "outputId": "32d1e280-4aba-405d-bd40-7326cd60f333"
      },
      "source": [
        "price * exchange_rate"
      ],
      "execution_count": 18,
      "outputs": [
        {
          "output_type": "execute_result",
          "data": {
            "text/plain": [
              "1616.1767"
            ]
          },
          "metadata": {
            "tags": []
          },
          "execution_count": 18
        }
      ]
    },
    {
      "cell_type": "code",
      "metadata": {
        "id": "p5WO9KZszGn0",
        "colab_type": "code",
        "colab": {}
      },
      "source": [
        "ntd_price = price * exchange_rate"
      ],
      "execution_count": 19,
      "outputs": []
    },
    {
      "cell_type": "code",
      "metadata": {
        "id": "NwM4dTFjzNWk",
        "colab_type": "code",
        "colab": {
          "base_uri": "https://localhost:8080/",
          "height": 35
        },
        "outputId": "c675fd75-4382-4c24-974c-371af8f4f8af"
      },
      "source": [
        "ntd_price"
      ],
      "execution_count": 21,
      "outputs": [
        {
          "output_type": "execute_result",
          "data": {
            "text/plain": [
              "1616.1767"
            ]
          },
          "metadata": {
            "tags": []
          },
          "execution_count": 21
        }
      ]
    },
    {
      "cell_type": "code",
      "metadata": {
        "id": "S78QFv9XzS90",
        "colab_type": "code",
        "colab": {
          "base_uri": "https://localhost:8080/",
          "height": 166
        },
        "outputId": "0ed1fcf4-26ba-4841-978c-fd0489885f0c"
      },
      "source": [
        "NTD_PRICE"
      ],
      "execution_count": 22,
      "outputs": [
        {
          "output_type": "error",
          "ename": "NameError",
          "evalue": "ignored",
          "traceback": [
            "\u001b[0;31m---------------------------------------------------------------------------\u001b[0m",
            "\u001b[0;31mNameError\u001b[0m                                 Traceback (most recent call last)",
            "\u001b[0;32m<ipython-input-22-e94e23827b36>\u001b[0m in \u001b[0;36m<module>\u001b[0;34m()\u001b[0m\n\u001b[0;32m----> 1\u001b[0;31m \u001b[0mNTD_PRICE\u001b[0m\u001b[0;34m\u001b[0m\u001b[0;34m\u001b[0m\u001b[0m\n\u001b[0m",
            "\u001b[0;31mNameError\u001b[0m: name 'NTD_PRICE' is not defined"
          ]
        }
      ]
    },
    {
      "cell_type": "markdown",
      "metadata": {
        "id": "tyb9xzoL0How",
        "colab_type": "text"
      },
      "source": [
        "## String"
      ]
    },
    {
      "cell_type": "code",
      "metadata": {
        "id": "lc2DTLK-zUF0",
        "colab_type": "code",
        "colab": {
          "base_uri": "https://localhost:8080/",
          "height": 35
        },
        "outputId": "9276644d-f9ba-46bb-a5f5-e1af4b84f530"
      },
      "source": [
        "'this is a string'"
      ],
      "execution_count": 23,
      "outputs": [
        {
          "output_type": "execute_result",
          "data": {
            "application/vnd.google.colaboratory.intrinsic": {
              "type": "string"
            },
            "text/plain": [
              "'this is a string'"
            ]
          },
          "metadata": {
            "tags": []
          },
          "execution_count": 23
        }
      ]
    },
    {
      "cell_type": "code",
      "metadata": {
        "id": "qccEkHJk0Kz1",
        "colab_type": "code",
        "colab": {
          "base_uri": "https://localhost:8080/",
          "height": 35
        },
        "outputId": "164ea8dc-5d06-409c-8931-23c866eecb26"
      },
      "source": [
        "\"this is a string\""
      ],
      "execution_count": 24,
      "outputs": [
        {
          "output_type": "execute_result",
          "data": {
            "application/vnd.google.colaboratory.intrinsic": {
              "type": "string"
            },
            "text/plain": [
              "'this is a string'"
            ]
          },
          "metadata": {
            "tags": []
          },
          "execution_count": 24
        }
      ]
    },
    {
      "cell_type": "code",
      "metadata": {
        "id": "-HjEjV_K0MiF",
        "colab_type": "code",
        "colab": {
          "base_uri": "https://localhost:8080/",
          "height": 35
        },
        "outputId": "6da0ed6c-b583-4bd4-924a-9b94ac1b198b"
      },
      "source": [
        "'Hello World'\n",
        "'Hello World 2'"
      ],
      "execution_count": 26,
      "outputs": [
        {
          "output_type": "execute_result",
          "data": {
            "application/vnd.google.colaboratory.intrinsic": {
              "type": "string"
            },
            "text/plain": [
              "'Hello World 2'"
            ]
          },
          "metadata": {
            "tags": []
          },
          "execution_count": 26
        }
      ]
    },
    {
      "cell_type": "code",
      "metadata": {
        "id": "OR6CEDIl0UKU",
        "colab_type": "code",
        "colab": {
          "base_uri": "https://localhost:8080/",
          "height": 104
        },
        "outputId": "208d44cb-9cdb-4e9b-9482-8ccdaa9ec961"
      },
      "source": [
        "print('Hello World1')\n",
        "print('Hello World2')\n",
        "print('this is a new line \\n')\n",
        "print(\"done\")"
      ],
      "execution_count": 27,
      "outputs": [
        {
          "output_type": "stream",
          "text": [
            "Hello World1\n",
            "Hello World2\n",
            "this is a new line \n",
            "\n",
            "done\n"
          ],
          "name": "stdout"
        }
      ]
    },
    {
      "cell_type": "code",
      "metadata": {
        "id": "wcMmn3oP0iBk",
        "colab_type": "code",
        "colab": {
          "base_uri": "https://localhost:8080/",
          "height": 52
        },
        "outputId": "3bae32e0-34f0-443d-ed76-c1857dda1497"
      },
      "source": [
        "print('this is a new line \\n this is the second line')"
      ],
      "execution_count": 28,
      "outputs": [
        {
          "output_type": "stream",
          "text": [
            "this is a new line \n",
            " this is the second line\n"
          ],
          "name": "stdout"
        }
      ]
    },
    {
      "cell_type": "code",
      "metadata": {
        "id": "99qjWqkE0zBF",
        "colab_type": "code",
        "colab": {
          "base_uri": "https://localhost:8080/",
          "height": 52
        },
        "outputId": "5c6993ac-765b-4c26-992b-5cc6b4b327f4"
      },
      "source": [
        "print('1 2 3\\n100 200 300')"
      ],
      "execution_count": 29,
      "outputs": [
        {
          "output_type": "stream",
          "text": [
            "1 2 3\n",
            "100 200 300\n"
          ],
          "name": "stdout"
        }
      ]
    },
    {
      "cell_type": "code",
      "metadata": {
        "id": "ZKWuwL7403yE",
        "colab_type": "code",
        "colab": {
          "base_uri": "https://localhost:8080/",
          "height": 52
        },
        "outputId": "59d07897-eac6-4ce4-df34-2e7cef2525b1"
      },
      "source": [
        "print('1\\t2\\t3\\n100\\t200\\t300')"
      ],
      "execution_count": 30,
      "outputs": [
        {
          "output_type": "stream",
          "text": [
            "1\t2\t3\n",
            "100\t200\t300\n"
          ],
          "name": "stdout"
        }
      ]
    },
    {
      "cell_type": "code",
      "metadata": {
        "id": "u7DnPRj709VU",
        "colab_type": "code",
        "colab": {}
      },
      "source": [
        "a = 'this is a loooooooooooooooooooooooooooooooooooooooooooooooooooooooooooong text'"
      ],
      "execution_count": 31,
      "outputs": []
    },
    {
      "cell_type": "code",
      "metadata": {
        "id": "7IxoUFBN1Hh2",
        "colab_type": "code",
        "colab": {
          "base_uri": "https://localhost:8080/",
          "height": 35
        },
        "outputId": "85e10d26-6029-47cf-e695-58a1d124a072"
      },
      "source": [
        "a = 'this is a looooooooooooooooooooo\\\n",
        "ooooooooooooooooooooooooooooooooooooooong text'\n",
        "a"
      ],
      "execution_count": 34,
      "outputs": [
        {
          "output_type": "execute_result",
          "data": {
            "application/vnd.google.colaboratory.intrinsic": {
              "type": "string"
            },
            "text/plain": [
              "'this is a loooooooooooooooooooooooooooooooooooooooooooooooooooooooooooong text'"
            ]
          },
          "metadata": {
            "tags": []
          },
          "execution_count": 34
        }
      ]
    },
    {
      "cell_type": "code",
      "metadata": {
        "id": "khvgnKjP1S41",
        "colab_type": "code",
        "colab": {
          "base_uri": "https://localhost:8080/",
          "height": 35
        },
        "outputId": "9f1c67f9-9944-4cb3-81b5-0034efa2250b"
      },
      "source": [
        "a = '''this is a looooooooooooooooooooo\n",
        "ooooooooooooooooooooooooooooooooooooooong text'''\n",
        "a"
      ],
      "execution_count": 35,
      "outputs": [
        {
          "output_type": "execute_result",
          "data": {
            "application/vnd.google.colaboratory.intrinsic": {
              "type": "string"
            },
            "text/plain": [
              "'this is a looooooooooooooooooooo\\nooooooooooooooooooooooooooooooooooooooong text'"
            ]
          },
          "metadata": {
            "tags": []
          },
          "execution_count": 35
        }
      ]
    },
    {
      "cell_type": "code",
      "metadata": {
        "id": "Qk8IXbms1gLF",
        "colab_type": "code",
        "colab": {
          "base_uri": "https://localhost:8080/",
          "height": 52
        },
        "outputId": "2408fd41-bf39-4f65-abef-aa2961452015"
      },
      "source": [
        "print(a)"
      ],
      "execution_count": 36,
      "outputs": [
        {
          "output_type": "stream",
          "text": [
            "this is a looooooooooooooooooooo\n",
            "ooooooooooooooooooooooooooooooooooooooong text\n"
          ],
          "name": "stdout"
        }
      ]
    },
    {
      "cell_type": "code",
      "metadata": {
        "id": "F3DnPP7L1yom",
        "colab_type": "code",
        "colab": {}
      },
      "source": [
        "news = \"\"\"\n",
        "ELVA個性率真，許多男生都會主動追求她，偏偏追她的男生，常常也是S女星喜歡的對象，S女星過去不經意向ELVA表達過，欣賞某位一出道就走紅的鮮肉男星及靠著嘻哈翻紅的帥哥歌手，還有一位校園片起家的演員，這3個男星最後都跟ELVA交往，S女星多年後才藉著酒意跟ELVA攤牌。\n",
        " \n",
        "莫仇打聽，前幾個月S女星跟ELVA視訊通話，當年這3位男星分處不同時間點出現，S女星都曾暗示過ELVA「這個男生很可愛」！ELVA完全不知道這個意思是S女星喜歡這個男生，ELVA更無法控制對方追求她，ELVA向友人喊冤：「不可能我說『布萊德彼特很可愛』就是要跟他交往，如果她明確跟我說喜歡這個男生，我就會主動喊停。」\n",
        " \"\"\""
      ],
      "execution_count": 37,
      "outputs": []
    },
    {
      "cell_type": "code",
      "metadata": {
        "id": "bo3PX-VY112l",
        "colab_type": "code",
        "colab": {
          "base_uri": "https://localhost:8080/",
          "height": 124
        },
        "outputId": "a9c66234-4023-4c8b-c802-089ecb17aaf7"
      },
      "source": [
        "print(news)"
      ],
      "execution_count": 39,
      "outputs": [
        {
          "output_type": "stream",
          "text": [
            "\n",
            "ELVA個性率真，許多男生都會主動追求她，偏偏追她的男生，常常也是S女星喜歡的對象，S女星過去不經意向ELVA表達過，欣賞某位一出道就走紅的鮮肉男星及靠著嘻哈翻紅的帥哥歌手，還有一位校園片起家的演員，這3個男星最後都跟ELVA交往，S女星多年後才藉著酒意跟ELVA攤牌。\n",
            " \n",
            "莫仇打聽，前幾個月S女星跟ELVA視訊通話，當年這3位男星分處不同時間點出現，S女星都曾暗示過ELVA「這個男生很可愛」！ELVA完全不知道這個意思是S女星喜歡這個男生，ELVA更無法控制對方追求她，ELVA向友人喊冤：「不可能我說『布萊德彼特很可愛』就是要跟他交往，如果她明確跟我說喜歡這個男生，我就會主動喊停。」\n",
            " \n"
          ],
          "name": "stdout"
        }
      ]
    },
    {
      "cell_type": "code",
      "metadata": {
        "id": "KNlIuY1w12-l",
        "colab_type": "code",
        "colab": {}
      },
      "source": [
        "s = 'Hello'"
      ],
      "execution_count": 40,
      "outputs": []
    },
    {
      "cell_type": "code",
      "metadata": {
        "id": "cVxF2i262C0m",
        "colab_type": "code",
        "colab": {
          "base_uri": "https://localhost:8080/",
          "height": 35
        },
        "outputId": "f755631e-c925-4d53-b4a0-06f6addf7330"
      },
      "source": [
        "s[0]"
      ],
      "execution_count": 41,
      "outputs": [
        {
          "output_type": "execute_result",
          "data": {
            "application/vnd.google.colaboratory.intrinsic": {
              "type": "string"
            },
            "text/plain": [
              "'H'"
            ]
          },
          "metadata": {
            "tags": []
          },
          "execution_count": 41
        }
      ]
    },
    {
      "cell_type": "code",
      "metadata": {
        "id": "v5AsLjzD2Fbm",
        "colab_type": "code",
        "colab": {
          "base_uri": "https://localhost:8080/",
          "height": 35
        },
        "outputId": "c71f12b4-1749-484d-bb4b-a0db6001a40a"
      },
      "source": [
        "s[1]"
      ],
      "execution_count": 42,
      "outputs": [
        {
          "output_type": "execute_result",
          "data": {
            "application/vnd.google.colaboratory.intrinsic": {
              "type": "string"
            },
            "text/plain": [
              "'e'"
            ]
          },
          "metadata": {
            "tags": []
          },
          "execution_count": 42
        }
      ]
    },
    {
      "cell_type": "code",
      "metadata": {
        "id": "tc7TULx52JIm",
        "colab_type": "code",
        "colab": {
          "base_uri": "https://localhost:8080/",
          "height": 35
        },
        "outputId": "bea790ce-4461-466d-9fcd-d19cd83cf0e2"
      },
      "source": [
        "s[-1]"
      ],
      "execution_count": 43,
      "outputs": [
        {
          "output_type": "execute_result",
          "data": {
            "application/vnd.google.colaboratory.intrinsic": {
              "type": "string"
            },
            "text/plain": [
              "'o'"
            ]
          },
          "metadata": {
            "tags": []
          },
          "execution_count": 43
        }
      ]
    },
    {
      "cell_type": "code",
      "metadata": {
        "id": "yVioCmWS2L_W",
        "colab_type": "code",
        "colab": {
          "base_uri": "https://localhost:8080/",
          "height": 35
        },
        "outputId": "9c83c7b0-f12c-4ab9-a9c6-7dd9276110df"
      },
      "source": [
        "s[-2]"
      ],
      "execution_count": 44,
      "outputs": [
        {
          "output_type": "execute_result",
          "data": {
            "application/vnd.google.colaboratory.intrinsic": {
              "type": "string"
            },
            "text/plain": [
              "'l'"
            ]
          },
          "metadata": {
            "tags": []
          },
          "execution_count": 44
        }
      ]
    },
    {
      "cell_type": "code",
      "metadata": {
        "id": "0hNyb0Ut2Ol2",
        "colab_type": "code",
        "colab": {
          "base_uri": "https://localhost:8080/",
          "height": 35
        },
        "outputId": "2796b77d-9daf-4afa-f728-38857d3ce78e"
      },
      "source": [
        "s"
      ],
      "execution_count": 45,
      "outputs": [
        {
          "output_type": "execute_result",
          "data": {
            "application/vnd.google.colaboratory.intrinsic": {
              "type": "string"
            },
            "text/plain": [
              "'Hello'"
            ]
          },
          "metadata": {
            "tags": []
          },
          "execution_count": 45
        }
      ]
    },
    {
      "cell_type": "code",
      "metadata": {
        "id": "84LB4Xd22UWG",
        "colab_type": "code",
        "colab": {
          "base_uri": "https://localhost:8080/",
          "height": 35
        },
        "outputId": "bbde84f6-2f78-4acf-9280-b5f399b09182"
      },
      "source": [
        "# s[開頭:結尾]\n",
        "s[:]"
      ],
      "execution_count": 46,
      "outputs": [
        {
          "output_type": "execute_result",
          "data": {
            "application/vnd.google.colaboratory.intrinsic": {
              "type": "string"
            },
            "text/plain": [
              "'Hello'"
            ]
          },
          "metadata": {
            "tags": []
          },
          "execution_count": 46
        }
      ]
    },
    {
      "cell_type": "code",
      "metadata": {
        "id": "k3zs0TsE2dz2",
        "colab_type": "code",
        "colab": {
          "base_uri": "https://localhost:8080/",
          "height": 35
        },
        "outputId": "e52c686e-475e-4850-91c1-087f9db5b565"
      },
      "source": [
        "s[1:]"
      ],
      "execution_count": 47,
      "outputs": [
        {
          "output_type": "execute_result",
          "data": {
            "application/vnd.google.colaboratory.intrinsic": {
              "type": "string"
            },
            "text/plain": [
              "'ello'"
            ]
          },
          "metadata": {
            "tags": []
          },
          "execution_count": 47
        }
      ]
    },
    {
      "cell_type": "code",
      "metadata": {
        "id": "KqynzKyl2myk",
        "colab_type": "code",
        "colab": {
          "base_uri": "https://localhost:8080/",
          "height": 35
        },
        "outputId": "423330ca-049d-4dbc-be55-6bc19861a363"
      },
      "source": [
        "s"
      ],
      "execution_count": 49,
      "outputs": [
        {
          "output_type": "execute_result",
          "data": {
            "application/vnd.google.colaboratory.intrinsic": {
              "type": "string"
            },
            "text/plain": [
              "'Hello'"
            ]
          },
          "metadata": {
            "tags": []
          },
          "execution_count": 49
        }
      ]
    },
    {
      "cell_type": "code",
      "metadata": {
        "id": "Jmy-8SkK2g1m",
        "colab_type": "code",
        "colab": {
          "base_uri": "https://localhost:8080/",
          "height": 35
        },
        "outputId": "6697863b-cf47-4181-ed9e-31550363a44b"
      },
      "source": [
        "#for(i=0; i< 3;i++)\n",
        "s[:3]"
      ],
      "execution_count": 50,
      "outputs": [
        {
          "output_type": "execute_result",
          "data": {
            "application/vnd.google.colaboratory.intrinsic": {
              "type": "string"
            },
            "text/plain": [
              "'Hel'"
            ]
          },
          "metadata": {
            "tags": []
          },
          "execution_count": 50
        }
      ]
    },
    {
      "cell_type": "code",
      "metadata": {
        "id": "eEtPOO7q2lw2",
        "colab_type": "code",
        "colab": {
          "base_uri": "https://localhost:8080/",
          "height": 35
        },
        "outputId": "d3ef6860-20bd-4bc1-f18f-ed4e41a18659"
      },
      "source": [
        "s"
      ],
      "execution_count": 51,
      "outputs": [
        {
          "output_type": "execute_result",
          "data": {
            "application/vnd.google.colaboratory.intrinsic": {
              "type": "string"
            },
            "text/plain": [
              "'Hello'"
            ]
          },
          "metadata": {
            "tags": []
          },
          "execution_count": 51
        }
      ]
    },
    {
      "cell_type": "code",
      "metadata": {
        "id": "imScspGB29XG",
        "colab_type": "code",
        "colab": {
          "base_uri": "https://localhost:8080/",
          "height": 35
        },
        "outputId": "85064350-c4f1-43cb-c582-b21f1643b0b5"
      },
      "source": [
        "# s[開頭:結尾:中間隔多少字元]\n",
        "s[::]"
      ],
      "execution_count": 52,
      "outputs": [
        {
          "output_type": "execute_result",
          "data": {
            "application/vnd.google.colaboratory.intrinsic": {
              "type": "string"
            },
            "text/plain": [
              "'Hello'"
            ]
          },
          "metadata": {
            "tags": []
          },
          "execution_count": 52
        }
      ]
    },
    {
      "cell_type": "code",
      "metadata": {
        "id": "V5X6cOMC3D32",
        "colab_type": "code",
        "colab": {
          "base_uri": "https://localhost:8080/",
          "height": 35
        },
        "outputId": "b28c3bf9-49d1-4c9c-c5b8-887f9b465073"
      },
      "source": [
        "s[::1]"
      ],
      "execution_count": 53,
      "outputs": [
        {
          "output_type": "execute_result",
          "data": {
            "application/vnd.google.colaboratory.intrinsic": {
              "type": "string"
            },
            "text/plain": [
              "'Hello'"
            ]
          },
          "metadata": {
            "tags": []
          },
          "execution_count": 53
        }
      ]
    },
    {
      "cell_type": "code",
      "metadata": {
        "id": "Qwk8nQNw3FbG",
        "colab_type": "code",
        "colab": {
          "base_uri": "https://localhost:8080/",
          "height": 35
        },
        "outputId": "75060ef7-a1b1-4795-83c7-2069f8bc11e9"
      },
      "source": [
        "s[::2]"
      ],
      "execution_count": 54,
      "outputs": [
        {
          "output_type": "execute_result",
          "data": {
            "application/vnd.google.colaboratory.intrinsic": {
              "type": "string"
            },
            "text/plain": [
              "'Hlo'"
            ]
          },
          "metadata": {
            "tags": []
          },
          "execution_count": 54
        }
      ]
    },
    {
      "cell_type": "code",
      "metadata": {
        "id": "yD5gfaPx3HdH",
        "colab_type": "code",
        "colab": {
          "base_uri": "https://localhost:8080/",
          "height": 35
        },
        "outputId": "5dd1cecb-bb28-4287-e010-80318e4646d7"
      },
      "source": [
        "s[0:3:2]"
      ],
      "execution_count": 55,
      "outputs": [
        {
          "output_type": "execute_result",
          "data": {
            "application/vnd.google.colaboratory.intrinsic": {
              "type": "string"
            },
            "text/plain": [
              "'Hl'"
            ]
          },
          "metadata": {
            "tags": []
          },
          "execution_count": 55
        }
      ]
    },
    {
      "cell_type": "code",
      "metadata": {
        "id": "vtDZZ0cY3MFm",
        "colab_type": "code",
        "colab": {
          "base_uri": "https://localhost:8080/",
          "height": 35
        },
        "outputId": "13a91f2b-db0a-4a04-8d42-f47b791cc7eb"
      },
      "source": [
        "s[::-1]"
      ],
      "execution_count": 56,
      "outputs": [
        {
          "output_type": "execute_result",
          "data": {
            "application/vnd.google.colaboratory.intrinsic": {
              "type": "string"
            },
            "text/plain": [
              "'olleH'"
            ]
          },
          "metadata": {
            "tags": []
          },
          "execution_count": 56
        }
      ]
    },
    {
      "cell_type": "code",
      "metadata": {
        "id": "3A51NGlW3Umm",
        "colab_type": "code",
        "colab": {
          "base_uri": "https://localhost:8080/",
          "height": 35
        },
        "outputId": "6ccfc162-e832-4727-bbb2-5a963ea97257"
      },
      "source": [
        "s = '上海自來水來自海上'\n",
        "s"
      ],
      "execution_count": 57,
      "outputs": [
        {
          "output_type": "execute_result",
          "data": {
            "application/vnd.google.colaboratory.intrinsic": {
              "type": "string"
            },
            "text/plain": [
              "'上海自來水來自海上'"
            ]
          },
          "metadata": {
            "tags": []
          },
          "execution_count": 57
        }
      ]
    },
    {
      "cell_type": "code",
      "metadata": {
        "id": "bcoZV0Sv3dPW",
        "colab_type": "code",
        "colab": {
          "base_uri": "https://localhost:8080/",
          "height": 35
        },
        "outputId": "4b2df655-551a-4b07-b8d8-d52bfaabe13f"
      },
      "source": [
        "s[::-1]"
      ],
      "execution_count": 58,
      "outputs": [
        {
          "output_type": "execute_result",
          "data": {
            "application/vnd.google.colaboratory.intrinsic": {
              "type": "string"
            },
            "text/plain": [
              "'上海自來水來自海上'"
            ]
          },
          "metadata": {
            "tags": []
          },
          "execution_count": 58
        }
      ]
    },
    {
      "cell_type": "code",
      "metadata": {
        "id": "pWqnDgcW3e-W",
        "colab_type": "code",
        "colab": {
          "base_uri": "https://localhost:8080/",
          "height": 35
        },
        "outputId": "7f30c05f-6ec6-45ce-c542-5f716da1d580"
      },
      "source": [
        "s == s[::-1]"
      ],
      "execution_count": 59,
      "outputs": [
        {
          "output_type": "execute_result",
          "data": {
            "text/plain": [
              "True"
            ]
          },
          "metadata": {
            "tags": []
          },
          "execution_count": 59
        }
      ]
    },
    {
      "cell_type": "code",
      "metadata": {
        "id": "wwTO83nL3h42",
        "colab_type": "code",
        "colab": {
          "base_uri": "https://localhost:8080/",
          "height": 35
        },
        "outputId": "2349d733-29c4-4ac5-9d83-4a09c07a30fb"
      },
      "source": [
        "s = '今天天氣真好'\n",
        "s == s[::-1]"
      ],
      "execution_count": 61,
      "outputs": [
        {
          "output_type": "execute_result",
          "data": {
            "text/plain": [
              "False"
            ]
          },
          "metadata": {
            "tags": []
          },
          "execution_count": 61
        }
      ]
    },
    {
      "cell_type": "code",
      "metadata": {
        "id": "y4dlj44o3o42",
        "colab_type": "code",
        "colab": {
          "base_uri": "https://localhost:8080/",
          "height": 166
        },
        "outputId": "3c15b1de-b859-418e-b192-0120672be1cc"
      },
      "source": [
        "s[-1] = '壞'"
      ],
      "execution_count": 64,
      "outputs": [
        {
          "output_type": "error",
          "ename": "TypeError",
          "evalue": "ignored",
          "traceback": [
            "\u001b[0;31m---------------------------------------------------------------------------\u001b[0m",
            "\u001b[0;31mTypeError\u001b[0m                                 Traceback (most recent call last)",
            "\u001b[0;32m<ipython-input-64-74c7296e023e>\u001b[0m in \u001b[0;36m<module>\u001b[0;34m()\u001b[0m\n\u001b[0;32m----> 1\u001b[0;31m \u001b[0ms\u001b[0m\u001b[0;34m[\u001b[0m\u001b[0;34m-\u001b[0m\u001b[0;36m1\u001b[0m\u001b[0;34m]\u001b[0m \u001b[0;34m=\u001b[0m \u001b[0;34m'壞'\u001b[0m\u001b[0;34m\u001b[0m\u001b[0;34m\u001b[0m\u001b[0m\n\u001b[0m",
            "\u001b[0;31mTypeError\u001b[0m: 'str' object does not support item assignment"
          ]
        }
      ]
    },
    {
      "cell_type": "code",
      "metadata": {
        "id": "NbHNMoEH3vvm",
        "colab_type": "code",
        "colab": {
          "base_uri": "https://localhost:8080/",
          "height": 35
        },
        "outputId": "7c285eb0-e3ea-497b-c187-761e429a65c6"
      },
      "source": [
        "s= 'Hello'\n",
        "s + ' World'"
      ],
      "execution_count": 65,
      "outputs": [
        {
          "output_type": "execute_result",
          "data": {
            "application/vnd.google.colaboratory.intrinsic": {
              "type": "string"
            },
            "text/plain": [
              "'Hello World'"
            ]
          },
          "metadata": {
            "tags": []
          },
          "execution_count": 65
        }
      ]
    },
    {
      "cell_type": "code",
      "metadata": {
        "id": "CveZIxGx37SX",
        "colab_type": "code",
        "colab": {
          "base_uri": "https://localhost:8080/",
          "height": 35
        },
        "outputId": "0de778b9-193b-4254-aa87-777af86e5036"
      },
      "source": [
        "letter = '?'\n",
        "letter * 10"
      ],
      "execution_count": 66,
      "outputs": [
        {
          "output_type": "execute_result",
          "data": {
            "application/vnd.google.colaboratory.intrinsic": {
              "type": "string"
            },
            "text/plain": [
              "'??????????'"
            ]
          },
          "metadata": {
            "tags": []
          },
          "execution_count": 66
        }
      ]
    },
    {
      "cell_type": "code",
      "metadata": {
        "id": "rfHCi-c24Be2",
        "colab_type": "code",
        "colab": {
          "base_uri": "https://localhost:8080/",
          "height": 122
        },
        "outputId": "d85a44d6-e5f4-4d86-adb5-612b2fea0a7d"
      },
      "source": [
        "'對不起' * 100"
      ],
      "execution_count": 67,
      "outputs": [
        {
          "output_type": "execute_result",
          "data": {
            "application/vnd.google.colaboratory.intrinsic": {
              "type": "string"
            },
            "text/plain": [
              "'對不起對不起對不起對不起對不起對不起對不起對不起對不起對不起對不起對不起對不起對不起對不起對不起對不起對不起對不起對不起對不起對不起對不起對不起對不起對不起對不起對不起對不起對不起對不起對不起對不起對不起對不起對不起對不起對不起對不起對不起對不起對不起對不起對不起對不起對不起對不起對不起對不起對不起對不起對不起對不起對不起對不起對不起對不起對不起對不起對不起對不起對不起對不起對不起對不起對不起對不起對不起對不起對不起對不起對不起對不起對不起對不起對不起對不起對不起對不起對不起對不起對不起對不起對不起對不起對不起對不起對不起對不起對不起對不起對不起對不起對不起對不起對不起對不起對不起對不起對不起'"
            ]
          },
          "metadata": {
            "tags": []
          },
          "execution_count": 67
        }
      ]
    },
    {
      "cell_type": "code",
      "metadata": {
        "id": "gLaLvwAy4GaG",
        "colab_type": "code",
        "colab": {
          "base_uri": "https://localhost:8080/",
          "height": 35
        },
        "outputId": "84e66103-8e2b-4f8d-8468-fdd0f687e9da"
      },
      "source": [
        "s"
      ],
      "execution_count": 68,
      "outputs": [
        {
          "output_type": "execute_result",
          "data": {
            "application/vnd.google.colaboratory.intrinsic": {
              "type": "string"
            },
            "text/plain": [
              "'Hello'"
            ]
          },
          "metadata": {
            "tags": []
          },
          "execution_count": 68
        }
      ]
    },
    {
      "cell_type": "code",
      "metadata": {
        "id": "p2FpfKzh4MEv",
        "colab_type": "code",
        "colab": {
          "base_uri": "https://localhost:8080/",
          "height": 35
        },
        "outputId": "a1c66d2c-e2e2-425a-cf83-b00e6fcb90ca"
      },
      "source": [
        "type(s)"
      ],
      "execution_count": 71,
      "outputs": [
        {
          "output_type": "execute_result",
          "data": {
            "text/plain": [
              "str"
            ]
          },
          "metadata": {
            "tags": []
          },
          "execution_count": 71
        }
      ]
    },
    {
      "cell_type": "code",
      "metadata": {
        "id": "qBgnw8b-4VnH",
        "colab_type": "code",
        "colab": {}
      },
      "source": [
        "a = 3"
      ],
      "execution_count": 72,
      "outputs": []
    },
    {
      "cell_type": "code",
      "metadata": {
        "id": "5_fSTSx64WnH",
        "colab_type": "code",
        "colab": {
          "base_uri": "https://localhost:8080/",
          "height": 35
        },
        "outputId": "3ec81a2f-296f-40a8-d3c8-9f200c5ca419"
      },
      "source": [
        "type(a)"
      ],
      "execution_count": 73,
      "outputs": [
        {
          "output_type": "execute_result",
          "data": {
            "text/plain": [
              "int"
            ]
          },
          "metadata": {
            "tags": []
          },
          "execution_count": 73
        }
      ]
    },
    {
      "cell_type": "code",
      "metadata": {
        "id": "yDkWKU-34X6X",
        "colab_type": "code",
        "colab": {
          "base_uri": "https://localhost:8080/",
          "height": 1000
        },
        "outputId": "4a4f9bd5-b90f-4264-f1ed-4df90a45cbcf"
      },
      "source": [
        "dir(s)"
      ],
      "execution_count": 74,
      "outputs": [
        {
          "output_type": "execute_result",
          "data": {
            "text/plain": [
              "['__add__',\n",
              " '__class__',\n",
              " '__contains__',\n",
              " '__delattr__',\n",
              " '__dir__',\n",
              " '__doc__',\n",
              " '__eq__',\n",
              " '__format__',\n",
              " '__ge__',\n",
              " '__getattribute__',\n",
              " '__getitem__',\n",
              " '__getnewargs__',\n",
              " '__gt__',\n",
              " '__hash__',\n",
              " '__init__',\n",
              " '__init_subclass__',\n",
              " '__iter__',\n",
              " '__le__',\n",
              " '__len__',\n",
              " '__lt__',\n",
              " '__mod__',\n",
              " '__mul__',\n",
              " '__ne__',\n",
              " '__new__',\n",
              " '__reduce__',\n",
              " '__reduce_ex__',\n",
              " '__repr__',\n",
              " '__rmod__',\n",
              " '__rmul__',\n",
              " '__setattr__',\n",
              " '__sizeof__',\n",
              " '__str__',\n",
              " '__subclasshook__',\n",
              " 'capitalize',\n",
              " 'casefold',\n",
              " 'center',\n",
              " 'count',\n",
              " 'encode',\n",
              " 'endswith',\n",
              " 'expandtabs',\n",
              " 'find',\n",
              " 'format',\n",
              " 'format_map',\n",
              " 'index',\n",
              " 'isalnum',\n",
              " 'isalpha',\n",
              " 'isdecimal',\n",
              " 'isdigit',\n",
              " 'isidentifier',\n",
              " 'islower',\n",
              " 'isnumeric',\n",
              " 'isprintable',\n",
              " 'isspace',\n",
              " 'istitle',\n",
              " 'isupper',\n",
              " 'join',\n",
              " 'ljust',\n",
              " 'lower',\n",
              " 'lstrip',\n",
              " 'maketrans',\n",
              " 'partition',\n",
              " 'replace',\n",
              " 'rfind',\n",
              " 'rindex',\n",
              " 'rjust',\n",
              " 'rpartition',\n",
              " 'rsplit',\n",
              " 'rstrip',\n",
              " 'split',\n",
              " 'splitlines',\n",
              " 'startswith',\n",
              " 'strip',\n",
              " 'swapcase',\n",
              " 'title',\n",
              " 'translate',\n",
              " 'upper',\n",
              " 'zfill']"
            ]
          },
          "metadata": {
            "tags": []
          },
          "execution_count": 74
        }
      ]
    },
    {
      "cell_type": "code",
      "metadata": {
        "id": "BGeHvdmt4bF3",
        "colab_type": "code",
        "colab": {
          "base_uri": "https://localhost:8080/",
          "height": 35
        },
        "outputId": "bbe4fd5b-d605-43bb-a867-2653c02082c8"
      },
      "source": [
        "s"
      ],
      "execution_count": 75,
      "outputs": [
        {
          "output_type": "execute_result",
          "data": {
            "application/vnd.google.colaboratory.intrinsic": {
              "type": "string"
            },
            "text/plain": [
              "'Hello'"
            ]
          },
          "metadata": {
            "tags": []
          },
          "execution_count": 75
        }
      ]
    },
    {
      "cell_type": "code",
      "metadata": {
        "id": "rBSI7QCK4gAn",
        "colab_type": "code",
        "colab": {
          "base_uri": "https://localhost:8080/",
          "height": 35
        },
        "outputId": "d5eabed5-b847-4f4f-e900-4373b9cd422c"
      },
      "source": [
        "s.upper()"
      ],
      "execution_count": 77,
      "outputs": [
        {
          "output_type": "execute_result",
          "data": {
            "application/vnd.google.colaboratory.intrinsic": {
              "type": "string"
            },
            "text/plain": [
              "'HELLO'"
            ]
          },
          "metadata": {
            "tags": []
          },
          "execution_count": 77
        }
      ]
    },
    {
      "cell_type": "code",
      "metadata": {
        "id": "SZn-4AE84hs3",
        "colab_type": "code",
        "colab": {}
      },
      "source": [
        "?s.upper"
      ],
      "execution_count": 78,
      "outputs": []
    },
    {
      "cell_type": "code",
      "metadata": {
        "id": "ztOLx9Qz4lp4",
        "colab_type": "code",
        "colab": {
          "base_uri": "https://localhost:8080/",
          "height": 35
        },
        "outputId": "f1ec9e72-dd39-4fd2-9c2e-4149e036a4d9"
      },
      "source": [
        "s.lower()"
      ],
      "execution_count": 79,
      "outputs": [
        {
          "output_type": "execute_result",
          "data": {
            "application/vnd.google.colaboratory.intrinsic": {
              "type": "string"
            },
            "text/plain": [
              "'hello'"
            ]
          },
          "metadata": {
            "tags": []
          },
          "execution_count": 79
        }
      ]
    },
    {
      "cell_type": "code",
      "metadata": {
        "id": "oYtDUOOu4re3",
        "colab_type": "code",
        "colab": {
          "base_uri": "https://localhost:8080/",
          "height": 139
        },
        "outputId": "e8cec662-d914-4ac1-c3f7-8a996d2487c5"
      },
      "source": [
        "help(s.lower)"
      ],
      "execution_count": 80,
      "outputs": [
        {
          "output_type": "stream",
          "text": [
            "Help on built-in function lower:\n",
            "\n",
            "lower(...) method of builtins.str instance\n",
            "    S.lower() -> str\n",
            "    \n",
            "    Return a copy of the string S converted to lowercase.\n",
            "\n"
          ],
          "name": "stdout"
        }
      ]
    },
    {
      "cell_type": "code",
      "metadata": {
        "id": "37ZeZQuR4xz4",
        "colab_type": "code",
        "colab": {
          "base_uri": "https://localhost:8080/",
          "height": 156
        },
        "outputId": "4ae7d79a-6a87-4bfc-b187-22c166a02118"
      },
      "source": [
        "help(s.swapcase)"
      ],
      "execution_count": 82,
      "outputs": [
        {
          "output_type": "stream",
          "text": [
            "Help on built-in function swapcase:\n",
            "\n",
            "swapcase(...) method of builtins.str instance\n",
            "    S.swapcase() -> str\n",
            "    \n",
            "    Return a copy of S with uppercase characters converted to lowercase\n",
            "    and vice versa.\n",
            "\n"
          ],
          "name": "stdout"
        }
      ]
    },
    {
      "cell_type": "code",
      "metadata": {
        "id": "ucffaDwp6DAa",
        "colab_type": "code",
        "colab": {
          "base_uri": "https://localhost:8080/",
          "height": 35
        },
        "outputId": "31d47274-6c2b-490a-f980-07bd5a29dea5"
      },
      "source": [
        "s.swapcase()"
      ],
      "execution_count": 84,
      "outputs": [
        {
          "output_type": "execute_result",
          "data": {
            "application/vnd.google.colaboratory.intrinsic": {
              "type": "string"
            },
            "text/plain": [
              "'hELLO'"
            ]
          },
          "metadata": {
            "tags": []
          },
          "execution_count": 84
        }
      ]
    },
    {
      "cell_type": "code",
      "metadata": {
        "id": "hXm4-TeN6DgI",
        "colab_type": "code",
        "colab": {
          "base_uri": "https://localhost:8080/",
          "height": 35
        },
        "outputId": "95cdbeda-4e97-4a39-fc60-e4fa0b52cda4"
      },
      "source": [
        "s = 'Hello World'\n",
        "s.split()"
      ],
      "execution_count": 85,
      "outputs": [
        {
          "output_type": "execute_result",
          "data": {
            "text/plain": [
              "['Hello', 'World']"
            ]
          },
          "metadata": {
            "tags": []
          },
          "execution_count": 85
        }
      ]
    },
    {
      "cell_type": "code",
      "metadata": {
        "id": "dG1g_wRz6KOY",
        "colab_type": "code",
        "colab": {
          "base_uri": "https://localhost:8080/",
          "height": 35
        },
        "outputId": "82c4bbca-7ae8-4f84-cdcf-36cc8e3885fd"
      },
      "source": [
        "len(s)"
      ],
      "execution_count": 86,
      "outputs": [
        {
          "output_type": "execute_result",
          "data": {
            "text/plain": [
              "11"
            ]
          },
          "metadata": {
            "tags": []
          },
          "execution_count": 86
        }
      ]
    },
    {
      "cell_type": "code",
      "metadata": {
        "id": "oXQQnoZ56Meo",
        "colab_type": "code",
        "colab": {}
      },
      "source": [
        "news = '''\n",
        "【有心人‧有星事】「我喜歡的人都跟妳在一起！」 蕭亞軒vs.閨蜜女星攤牌回不去（黎莫仇）\n",
        "11小時前\n",
        "蕭亞軒（ELVA）出道21年，靠精湛舞藝及唱功爬到天后地位，她的感情世界跟作品同樣精采，也從不諱言是外貌協會。攤開歷任男友名單，王陽明、柯震東到現在的黃皓都是極品，但她異性緣太好，竟成了原罪。莫仇聽說八卦，S女星某件事踩到ELVA地雷，讓曾是閨蜜的兩人就此疏離，莫仇分別從雙方友人打聽發現，雙姝結怨背後跟3位男星有關！S女星某天酒後吐真言，當著ELVA的面，宣洩不滿：「我就是要氣妳、傷害妳，為什麼喜歡的人都跟妳在一起！」\n",
        "\n",
        "蕭亞軒男人緣太好，竟為此與閨蜜失和，且讓黎莫仇細說這不為人知的內幕。\n",
        "蕭亞軒男人緣太好，竟為此與閨蜜失和，且讓黎莫仇細說這不為人知的內幕。\n",
        "ELVA個性率真，許多男生都會主動追求她，偏偏追她的男生，常常也是S女星喜歡的對象，S女星過去不經意向ELVA表達過，欣賞某位一出道就走紅的鮮肉男星及靠著嘻哈翻紅的帥哥歌手，還有一位校園片起家的演員，這3個男星最後都跟ELVA交往，S女星多年後才藉著酒意跟ELVA攤牌。\n",
        " \n",
        "莫仇打聽，前幾個月S女星跟ELVA視訊通話，當年這3位男星分處不同時間點出現，S女星都曾暗示過ELVA「這個男生很可愛」！ELVA完全不知道這個意思是S女星喜歡這個男生，ELVA更無法控制對方追求她，ELVA向友人喊冤：「不可能我說『布萊德彼特很可愛』就是要跟他交往，如果她明確跟我說喜歡這個男生，我就會主動喊停。」\n",
        " \n",
        "不過S女星的密友也為S女星抱屈，轉述S女星內心想法給莫仇聽，過去S女星把ELVA當作天，「她以前什麼樣的感受，她的喜怒哀樂都牽動著我，地位比我男友還要大，如果今天她說那個男生可愛，就算我喜歡，也絕對不會碰，我對於好友的另一半，就會主動保持距離」。\n",
        " \n",
        "ELVA跟S女星一度隔著電話筒把話講開，哭著恢復邦交。只是那次S女星酒後吐真言，將隱藏心中的不滿全吐出來，再次摧毀友誼，ELVA說得直白：「我沒辦法回到以前那個樣子。」兩人退回平行線。\n",
        " \n",
        "不過友人跟莫仇說，S女星不只一次告訴ELVA因為男生的事心生不滿，ELVA只回一句「忘記了」。但S女星沉澱心情之後，講起ELVA一度哽咽，腦中浮現的盡是當年彼此扶持的深刻場景，「我真的很愛她」！S女星過去不懂怎麼將心中真正想法講出口，導致內心很不快樂，儘管S女星極力解釋，想挽回友誼，無奈卻解不開這個結，「我也想把這段緣分修好，我還是希望她的工作、身體越來越好」，S女星也透過共同友人向ELVA喊話：「等妳想找我、想跟我講話，我永遠都在這裡。」\n",
        " \n",
        "其實過去的ELVA保護色很重，加上經紀人在旁「監督」，每回見到她，她就像有話卡在喉嚨裡，不敢說出口。前幾年她身心遭受創傷，隱身不見人，長達2年沒人知道她到底發生什麼事，直到去年8月24日40歲生日當天，在微博公開與小16歲男友黃皓戀情，那幾天她跟莫仇通了電話，才知道她過去幾年憂鬱症、胸口受傷、頭部重創、支氣管炎等病痛纏身，經長時間養病，身心飽受煎熬，一度擔心無法唱歌，沒有自信再站上熱愛的舞台，靠著黃皓陪伴才走出低谷。\n",
        " \n",
        "ELVA私下個性有話直說，往往容易得罪人，不熟的人常把她貼上「難搞」標籤，但莫仇知道她只是對自己的工作負責，過去如拍照燈光、角度不合自己的意思，還能透過經紀人當黑臉，現場她盡力配合不擺臭臉，尊重專業，但畢竟上鏡頭的是她，最了解自己的長處，現在自己當老闆，所有工作細節全攬在身上，對拍攝成果不滿意，她會關起門來打小孩，檢討攝影師、燈光師，不讓其他不相干的人感受負能量。\n",
        " \n",
        "講到感情，外界佩服她的男友都是又高又帥的鮮肉天菜，現在跟黃皓感情甜蜜，不過之前的幾任，也有讓她刻骨銘心的戀情，就算分手還能成為朋友，那就是柯震東。\n",
        " \n",
        "ELVA從小受到經商的母親有系統的培育，在加拿大以歌唱比賽被挖掘出道，能歌善舞迅速走紅，頂著歌后天后光環，與時尚圈孫芸芸等名媛都有好交情，朋友圈非富即貴，也過慣都市生活，在她的成長過程不曾有過戶外約會行程，直到跟柯震東交往，讓她打開眼界，第一次泛舟、溯溪、攀岩跟跳水，都是柯震東帶她去的，她印象深刻在花蓮秀姑巒溪泛舟，出發前不慎跌入溪中，雖然水不深，但石頭很多，她還沒穿救生衣驚慌失措，柯震東一把將她救起，發現她沒事後故意取笑她，直到她哭喊不會游泳，柯震東才趕緊抱抱安撫她。\n",
        " \n",
        "他倆剛開始交往，柯震東靠著《那些年，我們一起追的女孩》一炮而紅，輿論對她並不友善，形容兩人為楊過與小龍女的姊弟戀，ELVA內心難過，不只一次退縮，告訴柯「我們再觀察吧」，反而是柯鍥而不捨地說：「妳有在怕嗎？」就是這麼堅定的語氣，讓她有了勇氣，決定繼續走下去。\n",
        " \n",
        "除了戶外活動，柯震東還會帶ELVA到夜市撈金魚，這是她小時候曾經做過的事，長大後從沒有一任男友帶她逛夜市，柯震東還帶她到澎湖釣小管、在原住民戶外餐廳聽歌、喝小米酒，過著簡單自在的愛情生活；有一次她跟柯家人到海島旅遊，當地湯匙用水盆洗的，衛生條件不佳，當時柯震東故意在家人面前虧她「她是貴婦，不會用一般人的湯匙」，她被柯激到，硬著頭皮用了，當下覺得油膩，不過配合到底，當時她認為柯震東就是個單純的男生，所有戀愛過程都是她從未經歷過的。\n",
        " \n",
        "她曾跟友人透露柯震東是歷任男友最愛的一個，當然不是每個戀曲都有美好結局，他們2度分合，第一次分手時，當年ELVA某任前男友回頭找她，兩人已經復合，內心還是等待柯震東，「心中還是愛著他」。柯震東在北京吸毒被抓，她每天深夜都在哭，一直對友人傾吐心聲，向外求救「怎麼辦？他只是個單純的男孩」！\n",
        " \n",
        "莫仇聽說兩人再次復合又分手主因是，當年柯震東走紅後，身邊多了許多誘惑，偏偏他又不懂得避嫌，後來她察覺到他跟別的女生曖昧，加上柯媽並不喜歡她，兩人大吵後黯然分手，最終成為最熟悉的陌生人。\n",
        " \n",
        "不過他倆分手後，柯爸還是把ELVA當女兒一樣疼愛，逢人都稱ELVA「我女兒」，因為柯爸沒有女兒也想生女兒，從小把柯震東當女兒來養；也因為ELVA從小沒有父愛，同樣把柯爸當作自己的爸爸，至今仍會聯繫，彼此關心，她跟柯震東分手多年後才恢復友誼，但她顧及現任男友黃皓感受，並不會跟柯震東聯繫。\n",
        " \n",
        "'''"
      ],
      "execution_count": 87,
      "outputs": []
    },
    {
      "cell_type": "markdown",
      "metadata": {
        "id": "vhEfhipm7BBm",
        "colab_type": "text"
      },
      "source": [
        "### 練習題\n",
        "- 請使用python len 計算 文章長度\n",
        "- 請使用 Python count 找出 Elva 出現幾次"
      ]
    },
    {
      "cell_type": "code",
      "metadata": {
        "id": "nsor69e87BdY",
        "colab_type": "code",
        "colab": {}
      },
      "source": [
        ""
      ],
      "execution_count": null,
      "outputs": []
    }
  ]
}