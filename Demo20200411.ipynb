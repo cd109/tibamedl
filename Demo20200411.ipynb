{
  "nbformat": 4,
  "nbformat_minor": 0,
  "metadata": {
    "colab": {
      "name": "Demo20200411.ipynb",
      "provenance": [],
      "collapsed_sections": []
    },
    "kernelspec": {
      "name": "python3",
      "display_name": "Python 3"
    },
    "accelerator": "GPU"
  },
  "cells": [
    {
      "cell_type": "markdown",
      "metadata": {
        "id": "5Kudibzk557B",
        "colab_type": "text"
      },
      "source": [
        "## 作業\n",
        "### 目標: 建立一深度學習模型預測客戶是否流失\n",
        "- 問題一: 請將資料區分為訓練與測試資料集\n",
        "- 問題二: 請將資料標準化\n",
        "- 問題三: 使用Keras 建立深度學習模型預測客戶是否流失\n",
        "- 問題四: 評估模型準確度\n",
        "- 問題五: 請繪製ROC Curve, 並求出 AUC\n",
        "- 問題六: 請比較 ANN, SVM, Gradient Boosting, Random Forest, Logist Regression, Decision Tree 各模型的 AUC 與 ROC Curve"
      ]
    },
    {
      "cell_type": "markdown",
      "metadata": {
        "id": "cH3Zvzhy_j9c",
        "colab_type": "text"
      },
      "source": [
        "### 資料預處理"
      ]
    },
    {
      "cell_type": "code",
      "metadata": {
        "id": "mi6z1giJ5zwf",
        "colab_type": "code",
        "colab": {
          "base_uri": "https://localhost:8080/",
          "height": 222
        },
        "outputId": "0a87058a-b014-4472-ce40-706038cab6a1"
      },
      "source": [
        "import pandas\n",
        "df = pandas.read_csv('https://raw.githubusercontent.com/ywchiu/tibamedl/master/Data/Churn_Modelling.csv', header = 0 )\n",
        "df.head()"
      ],
      "execution_count": 1,
      "outputs": [
        {
          "output_type": "execute_result",
          "data": {
            "text/html": [
              "<div>\n",
              "<style scoped>\n",
              "    .dataframe tbody tr th:only-of-type {\n",
              "        vertical-align: middle;\n",
              "    }\n",
              "\n",
              "    .dataframe tbody tr th {\n",
              "        vertical-align: top;\n",
              "    }\n",
              "\n",
              "    .dataframe thead th {\n",
              "        text-align: right;\n",
              "    }\n",
              "</style>\n",
              "<table border=\"1\" class=\"dataframe\">\n",
              "  <thead>\n",
              "    <tr style=\"text-align: right;\">\n",
              "      <th></th>\n",
              "      <th>RowNumber</th>\n",
              "      <th>CustomerId</th>\n",
              "      <th>Surname</th>\n",
              "      <th>CreditScore</th>\n",
              "      <th>Geography</th>\n",
              "      <th>Gender</th>\n",
              "      <th>Age</th>\n",
              "      <th>Tenure</th>\n",
              "      <th>Balance</th>\n",
              "      <th>NumOfProducts</th>\n",
              "      <th>HasCrCard</th>\n",
              "      <th>IsActiveMember</th>\n",
              "      <th>EstimatedSalary</th>\n",
              "      <th>Exited</th>\n",
              "    </tr>\n",
              "  </thead>\n",
              "  <tbody>\n",
              "    <tr>\n",
              "      <th>0</th>\n",
              "      <td>1</td>\n",
              "      <td>15634602</td>\n",
              "      <td>Hargrave</td>\n",
              "      <td>619</td>\n",
              "      <td>France</td>\n",
              "      <td>Female</td>\n",
              "      <td>42</td>\n",
              "      <td>2</td>\n",
              "      <td>0.00</td>\n",
              "      <td>1</td>\n",
              "      <td>1</td>\n",
              "      <td>1</td>\n",
              "      <td>101348.88</td>\n",
              "      <td>1</td>\n",
              "    </tr>\n",
              "    <tr>\n",
              "      <th>1</th>\n",
              "      <td>2</td>\n",
              "      <td>15647311</td>\n",
              "      <td>Hill</td>\n",
              "      <td>608</td>\n",
              "      <td>Spain</td>\n",
              "      <td>Female</td>\n",
              "      <td>41</td>\n",
              "      <td>1</td>\n",
              "      <td>83807.86</td>\n",
              "      <td>1</td>\n",
              "      <td>0</td>\n",
              "      <td>1</td>\n",
              "      <td>112542.58</td>\n",
              "      <td>0</td>\n",
              "    </tr>\n",
              "    <tr>\n",
              "      <th>2</th>\n",
              "      <td>3</td>\n",
              "      <td>15619304</td>\n",
              "      <td>Onio</td>\n",
              "      <td>502</td>\n",
              "      <td>France</td>\n",
              "      <td>Female</td>\n",
              "      <td>42</td>\n",
              "      <td>8</td>\n",
              "      <td>159660.80</td>\n",
              "      <td>3</td>\n",
              "      <td>1</td>\n",
              "      <td>0</td>\n",
              "      <td>113931.57</td>\n",
              "      <td>1</td>\n",
              "    </tr>\n",
              "    <tr>\n",
              "      <th>3</th>\n",
              "      <td>4</td>\n",
              "      <td>15701354</td>\n",
              "      <td>Boni</td>\n",
              "      <td>699</td>\n",
              "      <td>France</td>\n",
              "      <td>Female</td>\n",
              "      <td>39</td>\n",
              "      <td>1</td>\n",
              "      <td>0.00</td>\n",
              "      <td>2</td>\n",
              "      <td>0</td>\n",
              "      <td>0</td>\n",
              "      <td>93826.63</td>\n",
              "      <td>0</td>\n",
              "    </tr>\n",
              "    <tr>\n",
              "      <th>4</th>\n",
              "      <td>5</td>\n",
              "      <td>15737888</td>\n",
              "      <td>Mitchell</td>\n",
              "      <td>850</td>\n",
              "      <td>Spain</td>\n",
              "      <td>Female</td>\n",
              "      <td>43</td>\n",
              "      <td>2</td>\n",
              "      <td>125510.82</td>\n",
              "      <td>1</td>\n",
              "      <td>1</td>\n",
              "      <td>1</td>\n",
              "      <td>79084.10</td>\n",
              "      <td>0</td>\n",
              "    </tr>\n",
              "  </tbody>\n",
              "</table>\n",
              "</div>"
            ],
            "text/plain": [
              "   RowNumber  CustomerId   Surname  ...  IsActiveMember EstimatedSalary Exited\n",
              "0          1    15634602  Hargrave  ...               1       101348.88      1\n",
              "1          2    15647311      Hill  ...               1       112542.58      0\n",
              "2          3    15619304      Onio  ...               0       113931.57      1\n",
              "3          4    15701354      Boni  ...               0        93826.63      0\n",
              "4          5    15737888  Mitchell  ...               1        79084.10      0\n",
              "\n",
              "[5 rows x 14 columns]"
            ]
          },
          "metadata": {
            "tags": []
          },
          "execution_count": 1
        }
      ]
    },
    {
      "cell_type": "code",
      "metadata": {
        "id": "1MfwvdnK6MyM",
        "colab_type": "code",
        "colab": {
          "base_uri": "https://localhost:8080/",
          "height": 222
        },
        "outputId": "53bcef54-b185-46da-b97b-28fb8c50be03"
      },
      "source": [
        "df = df.iloc[ : , 3:]\n",
        "df.head()"
      ],
      "execution_count": 2,
      "outputs": [
        {
          "output_type": "execute_result",
          "data": {
            "text/html": [
              "<div>\n",
              "<style scoped>\n",
              "    .dataframe tbody tr th:only-of-type {\n",
              "        vertical-align: middle;\n",
              "    }\n",
              "\n",
              "    .dataframe tbody tr th {\n",
              "        vertical-align: top;\n",
              "    }\n",
              "\n",
              "    .dataframe thead th {\n",
              "        text-align: right;\n",
              "    }\n",
              "</style>\n",
              "<table border=\"1\" class=\"dataframe\">\n",
              "  <thead>\n",
              "    <tr style=\"text-align: right;\">\n",
              "      <th></th>\n",
              "      <th>CreditScore</th>\n",
              "      <th>Geography</th>\n",
              "      <th>Gender</th>\n",
              "      <th>Age</th>\n",
              "      <th>Tenure</th>\n",
              "      <th>Balance</th>\n",
              "      <th>NumOfProducts</th>\n",
              "      <th>HasCrCard</th>\n",
              "      <th>IsActiveMember</th>\n",
              "      <th>EstimatedSalary</th>\n",
              "      <th>Exited</th>\n",
              "    </tr>\n",
              "  </thead>\n",
              "  <tbody>\n",
              "    <tr>\n",
              "      <th>0</th>\n",
              "      <td>619</td>\n",
              "      <td>France</td>\n",
              "      <td>Female</td>\n",
              "      <td>42</td>\n",
              "      <td>2</td>\n",
              "      <td>0.00</td>\n",
              "      <td>1</td>\n",
              "      <td>1</td>\n",
              "      <td>1</td>\n",
              "      <td>101348.88</td>\n",
              "      <td>1</td>\n",
              "    </tr>\n",
              "    <tr>\n",
              "      <th>1</th>\n",
              "      <td>608</td>\n",
              "      <td>Spain</td>\n",
              "      <td>Female</td>\n",
              "      <td>41</td>\n",
              "      <td>1</td>\n",
              "      <td>83807.86</td>\n",
              "      <td>1</td>\n",
              "      <td>0</td>\n",
              "      <td>1</td>\n",
              "      <td>112542.58</td>\n",
              "      <td>0</td>\n",
              "    </tr>\n",
              "    <tr>\n",
              "      <th>2</th>\n",
              "      <td>502</td>\n",
              "      <td>France</td>\n",
              "      <td>Female</td>\n",
              "      <td>42</td>\n",
              "      <td>8</td>\n",
              "      <td>159660.80</td>\n",
              "      <td>3</td>\n",
              "      <td>1</td>\n",
              "      <td>0</td>\n",
              "      <td>113931.57</td>\n",
              "      <td>1</td>\n",
              "    </tr>\n",
              "    <tr>\n",
              "      <th>3</th>\n",
              "      <td>699</td>\n",
              "      <td>France</td>\n",
              "      <td>Female</td>\n",
              "      <td>39</td>\n",
              "      <td>1</td>\n",
              "      <td>0.00</td>\n",
              "      <td>2</td>\n",
              "      <td>0</td>\n",
              "      <td>0</td>\n",
              "      <td>93826.63</td>\n",
              "      <td>0</td>\n",
              "    </tr>\n",
              "    <tr>\n",
              "      <th>4</th>\n",
              "      <td>850</td>\n",
              "      <td>Spain</td>\n",
              "      <td>Female</td>\n",
              "      <td>43</td>\n",
              "      <td>2</td>\n",
              "      <td>125510.82</td>\n",
              "      <td>1</td>\n",
              "      <td>1</td>\n",
              "      <td>1</td>\n",
              "      <td>79084.10</td>\n",
              "      <td>0</td>\n",
              "    </tr>\n",
              "  </tbody>\n",
              "</table>\n",
              "</div>"
            ],
            "text/plain": [
              "   CreditScore Geography  Gender  ...  IsActiveMember  EstimatedSalary  Exited\n",
              "0          619    France  Female  ...               1        101348.88       1\n",
              "1          608     Spain  Female  ...               1        112542.58       0\n",
              "2          502    France  Female  ...               0        113931.57       1\n",
              "3          699    France  Female  ...               0         93826.63       0\n",
              "4          850     Spain  Female  ...               1         79084.10       0\n",
              "\n",
              "[5 rows x 11 columns]"
            ]
          },
          "metadata": {
            "tags": []
          },
          "execution_count": 2
        }
      ]
    },
    {
      "cell_type": "code",
      "metadata": {
        "id": "IPUpsG-16si4",
        "colab_type": "code",
        "colab": {
          "base_uri": "https://localhost:8080/",
          "height": 35
        },
        "outputId": "2f5bcac5-e8e1-4c94-94ce-14c1483792b4"
      },
      "source": [
        "df['Geography'].unique()"
      ],
      "execution_count": 4,
      "outputs": [
        {
          "output_type": "execute_result",
          "data": {
            "text/plain": [
              "array(['France', 'Spain', 'Germany'], dtype=object)"
            ]
          },
          "metadata": {
            "tags": []
          },
          "execution_count": 4
        }
      ]
    },
    {
      "cell_type": "code",
      "metadata": {
        "id": "f55NPtqe6_Vs",
        "colab_type": "code",
        "colab": {
          "base_uri": "https://localhost:8080/",
          "height": 35
        },
        "outputId": "7a912198-4a2a-4e80-89b1-3f54e1e8a0c0"
      },
      "source": [
        "df['Gender'].unique()"
      ],
      "execution_count": 5,
      "outputs": [
        {
          "output_type": "execute_result",
          "data": {
            "text/plain": [
              "array(['Female', 'Male'], dtype=object)"
            ]
          },
          "metadata": {
            "tags": []
          },
          "execution_count": 5
        }
      ]
    },
    {
      "cell_type": "code",
      "metadata": {
        "id": "mGKKeygE7Ft_",
        "colab_type": "code",
        "colab": {
          "base_uri": "https://localhost:8080/",
          "height": 202
        },
        "outputId": "e695d379-d2ad-4075-922a-34b9aa87dccd"
      },
      "source": [
        "import pandas\n",
        "geography = pandas.get_dummies(df['Geography'])\n",
        "del geography['France']\n",
        "geography.head()"
      ],
      "execution_count": 8,
      "outputs": [
        {
          "output_type": "execute_result",
          "data": {
            "text/html": [
              "<div>\n",
              "<style scoped>\n",
              "    .dataframe tbody tr th:only-of-type {\n",
              "        vertical-align: middle;\n",
              "    }\n",
              "\n",
              "    .dataframe tbody tr th {\n",
              "        vertical-align: top;\n",
              "    }\n",
              "\n",
              "    .dataframe thead th {\n",
              "        text-align: right;\n",
              "    }\n",
              "</style>\n",
              "<table border=\"1\" class=\"dataframe\">\n",
              "  <thead>\n",
              "    <tr style=\"text-align: right;\">\n",
              "      <th></th>\n",
              "      <th>Germany</th>\n",
              "      <th>Spain</th>\n",
              "    </tr>\n",
              "  </thead>\n",
              "  <tbody>\n",
              "    <tr>\n",
              "      <th>0</th>\n",
              "      <td>0</td>\n",
              "      <td>0</td>\n",
              "    </tr>\n",
              "    <tr>\n",
              "      <th>1</th>\n",
              "      <td>0</td>\n",
              "      <td>1</td>\n",
              "    </tr>\n",
              "    <tr>\n",
              "      <th>2</th>\n",
              "      <td>0</td>\n",
              "      <td>0</td>\n",
              "    </tr>\n",
              "    <tr>\n",
              "      <th>3</th>\n",
              "      <td>0</td>\n",
              "      <td>0</td>\n",
              "    </tr>\n",
              "    <tr>\n",
              "      <th>4</th>\n",
              "      <td>0</td>\n",
              "      <td>1</td>\n",
              "    </tr>\n",
              "  </tbody>\n",
              "</table>\n",
              "</div>"
            ],
            "text/plain": [
              "   Germany  Spain\n",
              "0        0      0\n",
              "1        0      1\n",
              "2        0      0\n",
              "3        0      0\n",
              "4        0      1"
            ]
          },
          "metadata": {
            "tags": []
          },
          "execution_count": 8
        }
      ]
    },
    {
      "cell_type": "code",
      "metadata": {
        "id": "E-YEdaUl7MgX",
        "colab_type": "code",
        "colab": {
          "base_uri": "https://localhost:8080/",
          "height": 202
        },
        "outputId": "463b3d46-664b-4495-8b1d-f7fab243a6ea"
      },
      "source": [
        "import pandas\n",
        "gender = pandas.get_dummies(df['Gender'])\n",
        "del gender['Male']\n",
        "gender.head()"
      ],
      "execution_count": 9,
      "outputs": [
        {
          "output_type": "execute_result",
          "data": {
            "text/html": [
              "<div>\n",
              "<style scoped>\n",
              "    .dataframe tbody tr th:only-of-type {\n",
              "        vertical-align: middle;\n",
              "    }\n",
              "\n",
              "    .dataframe tbody tr th {\n",
              "        vertical-align: top;\n",
              "    }\n",
              "\n",
              "    .dataframe thead th {\n",
              "        text-align: right;\n",
              "    }\n",
              "</style>\n",
              "<table border=\"1\" class=\"dataframe\">\n",
              "  <thead>\n",
              "    <tr style=\"text-align: right;\">\n",
              "      <th></th>\n",
              "      <th>Female</th>\n",
              "    </tr>\n",
              "  </thead>\n",
              "  <tbody>\n",
              "    <tr>\n",
              "      <th>0</th>\n",
              "      <td>1</td>\n",
              "    </tr>\n",
              "    <tr>\n",
              "      <th>1</th>\n",
              "      <td>1</td>\n",
              "    </tr>\n",
              "    <tr>\n",
              "      <th>2</th>\n",
              "      <td>1</td>\n",
              "    </tr>\n",
              "    <tr>\n",
              "      <th>3</th>\n",
              "      <td>1</td>\n",
              "    </tr>\n",
              "    <tr>\n",
              "      <th>4</th>\n",
              "      <td>1</td>\n",
              "    </tr>\n",
              "  </tbody>\n",
              "</table>\n",
              "</div>"
            ],
            "text/plain": [
              "   Female\n",
              "0       1\n",
              "1       1\n",
              "2       1\n",
              "3       1\n",
              "4       1"
            ]
          },
          "metadata": {
            "tags": []
          },
          "execution_count": 9
        }
      ]
    },
    {
      "cell_type": "code",
      "metadata": {
        "id": "6h3UeLx97x0q",
        "colab_type": "code",
        "colab": {}
      },
      "source": [
        "customer = pandas.concat([df, geography, gender], axis = 1)\n",
        "del customer['Geography']\n",
        "del customer['Gender']"
      ],
      "execution_count": 0,
      "outputs": []
    },
    {
      "cell_type": "code",
      "metadata": {
        "id": "K_4tvs3M8D_k",
        "colab_type": "code",
        "colab": {
          "base_uri": "https://localhost:8080/",
          "height": 222
        },
        "outputId": "02405e37-8ab9-4eb1-a2d6-1b152a51bb9d"
      },
      "source": [
        "customer.head()"
      ],
      "execution_count": 12,
      "outputs": [
        {
          "output_type": "execute_result",
          "data": {
            "text/html": [
              "<div>\n",
              "<style scoped>\n",
              "    .dataframe tbody tr th:only-of-type {\n",
              "        vertical-align: middle;\n",
              "    }\n",
              "\n",
              "    .dataframe tbody tr th {\n",
              "        vertical-align: top;\n",
              "    }\n",
              "\n",
              "    .dataframe thead th {\n",
              "        text-align: right;\n",
              "    }\n",
              "</style>\n",
              "<table border=\"1\" class=\"dataframe\">\n",
              "  <thead>\n",
              "    <tr style=\"text-align: right;\">\n",
              "      <th></th>\n",
              "      <th>CreditScore</th>\n",
              "      <th>Age</th>\n",
              "      <th>Tenure</th>\n",
              "      <th>Balance</th>\n",
              "      <th>NumOfProducts</th>\n",
              "      <th>HasCrCard</th>\n",
              "      <th>IsActiveMember</th>\n",
              "      <th>EstimatedSalary</th>\n",
              "      <th>Exited</th>\n",
              "      <th>Germany</th>\n",
              "      <th>Spain</th>\n",
              "      <th>Female</th>\n",
              "    </tr>\n",
              "  </thead>\n",
              "  <tbody>\n",
              "    <tr>\n",
              "      <th>0</th>\n",
              "      <td>619</td>\n",
              "      <td>42</td>\n",
              "      <td>2</td>\n",
              "      <td>0.00</td>\n",
              "      <td>1</td>\n",
              "      <td>1</td>\n",
              "      <td>1</td>\n",
              "      <td>101348.88</td>\n",
              "      <td>1</td>\n",
              "      <td>0</td>\n",
              "      <td>0</td>\n",
              "      <td>1</td>\n",
              "    </tr>\n",
              "    <tr>\n",
              "      <th>1</th>\n",
              "      <td>608</td>\n",
              "      <td>41</td>\n",
              "      <td>1</td>\n",
              "      <td>83807.86</td>\n",
              "      <td>1</td>\n",
              "      <td>0</td>\n",
              "      <td>1</td>\n",
              "      <td>112542.58</td>\n",
              "      <td>0</td>\n",
              "      <td>0</td>\n",
              "      <td>1</td>\n",
              "      <td>1</td>\n",
              "    </tr>\n",
              "    <tr>\n",
              "      <th>2</th>\n",
              "      <td>502</td>\n",
              "      <td>42</td>\n",
              "      <td>8</td>\n",
              "      <td>159660.80</td>\n",
              "      <td>3</td>\n",
              "      <td>1</td>\n",
              "      <td>0</td>\n",
              "      <td>113931.57</td>\n",
              "      <td>1</td>\n",
              "      <td>0</td>\n",
              "      <td>0</td>\n",
              "      <td>1</td>\n",
              "    </tr>\n",
              "    <tr>\n",
              "      <th>3</th>\n",
              "      <td>699</td>\n",
              "      <td>39</td>\n",
              "      <td>1</td>\n",
              "      <td>0.00</td>\n",
              "      <td>2</td>\n",
              "      <td>0</td>\n",
              "      <td>0</td>\n",
              "      <td>93826.63</td>\n",
              "      <td>0</td>\n",
              "      <td>0</td>\n",
              "      <td>0</td>\n",
              "      <td>1</td>\n",
              "    </tr>\n",
              "    <tr>\n",
              "      <th>4</th>\n",
              "      <td>850</td>\n",
              "      <td>43</td>\n",
              "      <td>2</td>\n",
              "      <td>125510.82</td>\n",
              "      <td>1</td>\n",
              "      <td>1</td>\n",
              "      <td>1</td>\n",
              "      <td>79084.10</td>\n",
              "      <td>0</td>\n",
              "      <td>0</td>\n",
              "      <td>1</td>\n",
              "      <td>1</td>\n",
              "    </tr>\n",
              "  </tbody>\n",
              "</table>\n",
              "</div>"
            ],
            "text/plain": [
              "   CreditScore  Age  Tenure    Balance  ...  Exited  Germany  Spain  Female\n",
              "0          619   42       2       0.00  ...       1        0      0       1\n",
              "1          608   41       1   83807.86  ...       0        0      1       1\n",
              "2          502   42       8  159660.80  ...       1        0      0       1\n",
              "3          699   39       1       0.00  ...       0        0      0       1\n",
              "4          850   43       2  125510.82  ...       0        0      1       1\n",
              "\n",
              "[5 rows x 12 columns]"
            ]
          },
          "metadata": {
            "tags": []
          },
          "execution_count": 12
        }
      ]
    },
    {
      "cell_type": "code",
      "metadata": {
        "id": "gJiPbXRM8T1z",
        "colab_type": "code",
        "colab": {
          "base_uri": "https://localhost:8080/",
          "height": 347
        },
        "outputId": "dacbf7be-8bf9-4365-ff55-77904b09e33c"
      },
      "source": [
        "customer.info()"
      ],
      "execution_count": 13,
      "outputs": [
        {
          "output_type": "stream",
          "text": [
            "<class 'pandas.core.frame.DataFrame'>\n",
            "RangeIndex: 10000 entries, 0 to 9999\n",
            "Data columns (total 12 columns):\n",
            " #   Column           Non-Null Count  Dtype  \n",
            "---  ------           --------------  -----  \n",
            " 0   CreditScore      10000 non-null  int64  \n",
            " 1   Age              10000 non-null  int64  \n",
            " 2   Tenure           10000 non-null  int64  \n",
            " 3   Balance          10000 non-null  float64\n",
            " 4   NumOfProducts    10000 non-null  int64  \n",
            " 5   HasCrCard        10000 non-null  int64  \n",
            " 6   IsActiveMember   10000 non-null  int64  \n",
            " 7   EstimatedSalary  10000 non-null  float64\n",
            " 8   Exited           10000 non-null  int64  \n",
            " 9   Germany          10000 non-null  uint8  \n",
            " 10  Spain            10000 non-null  uint8  \n",
            " 11  Female           10000 non-null  uint8  \n",
            "dtypes: float64(2), int64(7), uint8(3)\n",
            "memory usage: 732.5 KB\n"
          ],
          "name": "stdout"
        }
      ]
    },
    {
      "cell_type": "code",
      "metadata": {
        "id": "e7sRrmQu8YNB",
        "colab_type": "code",
        "colab": {
          "base_uri": "https://localhost:8080/",
          "height": 87
        },
        "outputId": "105713e2-0846-4b8e-8d3c-6e7298197f34"
      },
      "source": [
        "customer.columns"
      ],
      "execution_count": 14,
      "outputs": [
        {
          "output_type": "execute_result",
          "data": {
            "text/plain": [
              "Index(['CreditScore', 'Age', 'Tenure', 'Balance', 'NumOfProducts', 'HasCrCard',\n",
              "       'IsActiveMember', 'EstimatedSalary', 'Exited', 'Germany', 'Spain',\n",
              "       'Female'],\n",
              "      dtype='object')"
            ]
          },
          "metadata": {
            "tags": []
          },
          "execution_count": 14
        }
      ]
    },
    {
      "cell_type": "code",
      "metadata": {
        "id": "lWLTd2QJ83N3",
        "colab_type": "code",
        "colab": {}
      },
      "source": [
        "X = customer[['CreditScore', 'Age', 'Tenure', 'Balance', 'NumOfProducts', 'HasCrCard',\n",
        "       'IsActiveMember', 'EstimatedSalary', 'Germany', 'Spain',\n",
        "       'Female']]\n",
        "y = customer['Exited']"
      ],
      "execution_count": 0,
      "outputs": []
    },
    {
      "cell_type": "code",
      "metadata": {
        "id": "xys4TSgX8-AA",
        "colab_type": "code",
        "colab": {
          "base_uri": "https://localhost:8080/",
          "height": 35
        },
        "outputId": "c27696f0-b57f-4af1-cf5f-94998fde8594"
      },
      "source": [
        "X.shape"
      ],
      "execution_count": 17,
      "outputs": [
        {
          "output_type": "execute_result",
          "data": {
            "text/plain": [
              "(10000, 11)"
            ]
          },
          "metadata": {
            "tags": []
          },
          "execution_count": 17
        }
      ]
    },
    {
      "cell_type": "code",
      "metadata": {
        "id": "BxAiKwXi9EPp",
        "colab_type": "code",
        "colab": {
          "base_uri": "https://localhost:8080/",
          "height": 35
        },
        "outputId": "aab565d3-b39e-4638-a714-dde6dd89eb4e"
      },
      "source": [
        "y.shape"
      ],
      "execution_count": 18,
      "outputs": [
        {
          "output_type": "execute_result",
          "data": {
            "text/plain": [
              "(10000,)"
            ]
          },
          "metadata": {
            "tags": []
          },
          "execution_count": 18
        }
      ]
    },
    {
      "cell_type": "markdown",
      "metadata": {
        "id": "BlmlXLgj_pgE",
        "colab_type": "text"
      },
      "source": [
        "### 切分成訓練與測試資料集"
      ]
    },
    {
      "cell_type": "code",
      "metadata": {
        "id": "DSxoVlJ-9HPX",
        "colab_type": "code",
        "colab": {}
      },
      "source": [
        "from sklearn.model_selection import train_test_split\n",
        "x_train, x_test, y_train, y_test= train_test_split(X,y,test_size = 0.2 , random_state = 42)"
      ],
      "execution_count": 0,
      "outputs": []
    },
    {
      "cell_type": "code",
      "metadata": {
        "id": "6WIjNMC2-F8n",
        "colab_type": "code",
        "colab": {
          "base_uri": "https://localhost:8080/",
          "height": 35
        },
        "outputId": "3bc6e531-dfe0-42aa-b1dc-68cc7be6eb50"
      },
      "source": [
        "x_train.shape"
      ],
      "execution_count": 20,
      "outputs": [
        {
          "output_type": "execute_result",
          "data": {
            "text/plain": [
              "(8000, 11)"
            ]
          },
          "metadata": {
            "tags": []
          },
          "execution_count": 20
        }
      ]
    },
    {
      "cell_type": "code",
      "metadata": {
        "id": "HhgqTEt7-Ih9",
        "colab_type": "code",
        "colab": {
          "base_uri": "https://localhost:8080/",
          "height": 35
        },
        "outputId": "cedad12a-5030-44bc-a53b-499848d1dd9b"
      },
      "source": [
        "x_test.shape"
      ],
      "execution_count": 21,
      "outputs": [
        {
          "output_type": "execute_result",
          "data": {
            "text/plain": [
              "(2000, 11)"
            ]
          },
          "metadata": {
            "tags": []
          },
          "execution_count": 21
        }
      ]
    },
    {
      "cell_type": "code",
      "metadata": {
        "id": "gkc2JFnC-LZV",
        "colab_type": "code",
        "colab": {
          "base_uri": "https://localhost:8080/",
          "height": 35
        },
        "outputId": "9b246152-3594-459f-f47c-385c389f68eb"
      },
      "source": [
        "y_train.shape"
      ],
      "execution_count": 22,
      "outputs": [
        {
          "output_type": "execute_result",
          "data": {
            "text/plain": [
              "(8000,)"
            ]
          },
          "metadata": {
            "tags": []
          },
          "execution_count": 22
        }
      ]
    },
    {
      "cell_type": "code",
      "metadata": {
        "id": "KkHjsHIO-M2r",
        "colab_type": "code",
        "colab": {
          "base_uri": "https://localhost:8080/",
          "height": 35
        },
        "outputId": "690502ee-0063-418f-d4da-422eb5b4b02b"
      },
      "source": [
        "y_test.shape"
      ],
      "execution_count": 23,
      "outputs": [
        {
          "output_type": "execute_result",
          "data": {
            "text/plain": [
              "(2000,)"
            ]
          },
          "metadata": {
            "tags": []
          },
          "execution_count": 23
        }
      ]
    },
    {
      "cell_type": "markdown",
      "metadata": {
        "id": "QzNW6TtK_v-M",
        "colab_type": "text"
      },
      "source": [
        "### 資料標準化"
      ]
    },
    {
      "cell_type": "code",
      "metadata": {
        "id": "HxZXDhbZ-OW1",
        "colab_type": "code",
        "colab": {}
      },
      "source": [
        "from sklearn.preprocessing import StandardScaler\n",
        "sc = StandardScaler()\n",
        "x_train = sc.fit_transform(x_train)"
      ],
      "execution_count": 0,
      "outputs": []
    },
    {
      "cell_type": "code",
      "metadata": {
        "id": "cVD80Uch-laY",
        "colab_type": "code",
        "colab": {}
      },
      "source": [
        "x_test = sc.transform(x_test)"
      ],
      "execution_count": 0,
      "outputs": []
    },
    {
      "cell_type": "markdown",
      "metadata": {
        "id": "HEJCUou9_07L",
        "colab_type": "text"
      },
      "source": [
        "### 建構模型"
      ]
    },
    {
      "cell_type": "code",
      "metadata": {
        "id": "7ooebKLz-0y8",
        "colab_type": "code",
        "colab": {}
      },
      "source": [
        "%tensorflow_version 2.x"
      ],
      "execution_count": 0,
      "outputs": []
    },
    {
      "cell_type": "code",
      "metadata": {
        "id": "aO6qMg0t_77P",
        "colab_type": "code",
        "colab": {}
      },
      "source": [
        "import tensorflow as tf"
      ],
      "execution_count": 0,
      "outputs": []
    },
    {
      "cell_type": "code",
      "metadata": {
        "id": "TyvH7UJr_9cp",
        "colab_type": "code",
        "colab": {}
      },
      "source": [
        "model = tf.keras.models.Sequential()\n",
        "model.add(tf.keras.layers.Dense(units = 5,  activation = 'relu', input_dim = 11))\n",
        "model.add(tf.keras.layers.Dropout(rate=0.1))\n",
        "model.add(tf.keras.layers.Dense(units = 5,  activation = 'relu'))\n",
        "model.add(tf.keras.layers.Dropout(rate=0.1))\n",
        "model.add(tf.keras.layers.Dense(units = 1, activation='sigmoid'))"
      ],
      "execution_count": 0,
      "outputs": []
    },
    {
      "cell_type": "code",
      "metadata": {
        "id": "pFjrIxbgA_5N",
        "colab_type": "code",
        "colab": {}
      },
      "source": [
        "model.compile(optimizer='adam',\n",
        "              loss='binary_crossentropy',\n",
        "              metrics=['accuracy'])"
      ],
      "execution_count": 0,
      "outputs": []
    },
    {
      "cell_type": "code",
      "metadata": {
        "id": "GmgcwhZyBcuu",
        "colab_type": "code",
        "colab": {
          "base_uri": "https://localhost:8080/",
          "height": 329
        },
        "outputId": "73703a2d-9f8c-4872-d78e-ca4c2d648ca1"
      },
      "source": [
        "model.summary()"
      ],
      "execution_count": 36,
      "outputs": [
        {
          "output_type": "stream",
          "text": [
            "Model: \"sequential_1\"\n",
            "_________________________________________________________________\n",
            "Layer (type)                 Output Shape              Param #   \n",
            "=================================================================\n",
            "dense_3 (Dense)              (None, 5)                 60        \n",
            "_________________________________________________________________\n",
            "dropout_2 (Dropout)          (None, 5)                 0         \n",
            "_________________________________________________________________\n",
            "dense_4 (Dense)              (None, 5)                 30        \n",
            "_________________________________________________________________\n",
            "dropout_3 (Dropout)          (None, 5)                 0         \n",
            "_________________________________________________________________\n",
            "dense_5 (Dense)              (None, 1)                 6         \n",
            "=================================================================\n",
            "Total params: 96\n",
            "Trainable params: 96\n",
            "Non-trainable params: 0\n",
            "_________________________________________________________________\n"
          ],
          "name": "stdout"
        }
      ]
    },
    {
      "cell_type": "code",
      "metadata": {
        "id": "sqSM-4PgBfoE",
        "colab_type": "code",
        "colab": {
          "base_uri": "https://localhost:8080/",
          "height": 1000
        },
        "outputId": "1079486c-e101-4b83-e0e2-946e7fb9b7fc"
      },
      "source": [
        "history = model.fit(x_train, y_train,\n",
        "                    batch_size = 30,\n",
        "                    epochs=100,\n",
        "                    verbose=1,\n",
        "                    metrics = ['accuracy'],\n",
        "                    validation_data = (x_test,y_test))"
      ],
      "execution_count": 37,
      "outputs": [
        {
          "output_type": "stream",
          "text": [
            "Epoch 1/100\n",
            "267/267 [==============================] - 0s 2ms/step - loss: 0.6006 - accuracy: 0.7371 - val_loss: 0.5232 - val_accuracy: 0.8035\n",
            "Epoch 2/100\n",
            "267/267 [==============================] - 0s 2ms/step - loss: 0.5177 - accuracy: 0.7943 - val_loss: 0.4792 - val_accuracy: 0.8035\n",
            "Epoch 3/100\n",
            "267/267 [==============================] - 0s 2ms/step - loss: 0.4900 - accuracy: 0.7945 - val_loss: 0.4523 - val_accuracy: 0.8035\n",
            "Epoch 4/100\n",
            "267/267 [==============================] - 0s 2ms/step - loss: 0.4748 - accuracy: 0.7944 - val_loss: 0.4323 - val_accuracy: 0.8035\n",
            "Epoch 5/100\n",
            "267/267 [==============================] - 0s 2ms/step - loss: 0.4592 - accuracy: 0.7968 - val_loss: 0.4203 - val_accuracy: 0.8055\n",
            "Epoch 6/100\n",
            "267/267 [==============================] - 0s 2ms/step - loss: 0.4511 - accuracy: 0.8056 - val_loss: 0.4142 - val_accuracy: 0.8170\n",
            "Epoch 7/100\n",
            "267/267 [==============================] - 0s 2ms/step - loss: 0.4435 - accuracy: 0.8070 - val_loss: 0.4098 - val_accuracy: 0.8175\n",
            "Epoch 8/100\n",
            "267/267 [==============================] - 0s 2ms/step - loss: 0.4384 - accuracy: 0.8099 - val_loss: 0.4061 - val_accuracy: 0.8215\n",
            "Epoch 9/100\n",
            "267/267 [==============================] - 0s 2ms/step - loss: 0.4328 - accuracy: 0.8120 - val_loss: 0.4019 - val_accuracy: 0.8265\n",
            "Epoch 10/100\n",
            "267/267 [==============================] - 0s 2ms/step - loss: 0.4278 - accuracy: 0.8129 - val_loss: 0.3965 - val_accuracy: 0.8285\n",
            "Epoch 11/100\n",
            "267/267 [==============================] - 0s 2ms/step - loss: 0.4203 - accuracy: 0.8185 - val_loss: 0.3893 - val_accuracy: 0.8370\n",
            "Epoch 12/100\n",
            "267/267 [==============================] - 0s 2ms/step - loss: 0.4169 - accuracy: 0.8211 - val_loss: 0.3831 - val_accuracy: 0.8410\n",
            "Epoch 13/100\n",
            "267/267 [==============================] - 0s 2ms/step - loss: 0.4125 - accuracy: 0.8282 - val_loss: 0.3790 - val_accuracy: 0.8430\n",
            "Epoch 14/100\n",
            "267/267 [==============================] - 0s 2ms/step - loss: 0.4083 - accuracy: 0.8289 - val_loss: 0.3740 - val_accuracy: 0.8440\n",
            "Epoch 15/100\n",
            "267/267 [==============================] - 0s 2ms/step - loss: 0.4055 - accuracy: 0.8278 - val_loss: 0.3700 - val_accuracy: 0.8470\n",
            "Epoch 16/100\n",
            "267/267 [==============================] - 0s 2ms/step - loss: 0.4007 - accuracy: 0.8325 - val_loss: 0.3669 - val_accuracy: 0.8525\n",
            "Epoch 17/100\n",
            "267/267 [==============================] - 0s 2ms/step - loss: 0.3984 - accuracy: 0.8315 - val_loss: 0.3636 - val_accuracy: 0.8540\n",
            "Epoch 18/100\n",
            "267/267 [==============================] - 0s 2ms/step - loss: 0.3985 - accuracy: 0.8329 - val_loss: 0.3602 - val_accuracy: 0.8535\n",
            "Epoch 19/100\n",
            "267/267 [==============================] - 0s 2ms/step - loss: 0.3931 - accuracy: 0.8363 - val_loss: 0.3581 - val_accuracy: 0.8550\n",
            "Epoch 20/100\n",
            "267/267 [==============================] - 0s 2ms/step - loss: 0.3959 - accuracy: 0.8378 - val_loss: 0.3568 - val_accuracy: 0.8565\n",
            "Epoch 21/100\n",
            "267/267 [==============================] - 0s 2ms/step - loss: 0.3906 - accuracy: 0.8390 - val_loss: 0.3541 - val_accuracy: 0.8575\n",
            "Epoch 22/100\n",
            "267/267 [==============================] - 0s 2ms/step - loss: 0.3891 - accuracy: 0.8375 - val_loss: 0.3525 - val_accuracy: 0.8570\n",
            "Epoch 23/100\n",
            "267/267 [==============================] - 0s 2ms/step - loss: 0.3887 - accuracy: 0.8388 - val_loss: 0.3508 - val_accuracy: 0.8605\n",
            "Epoch 24/100\n",
            "267/267 [==============================] - 0s 2ms/step - loss: 0.3904 - accuracy: 0.8388 - val_loss: 0.3498 - val_accuracy: 0.8605\n",
            "Epoch 25/100\n",
            "267/267 [==============================] - 0s 2ms/step - loss: 0.3882 - accuracy: 0.8393 - val_loss: 0.3484 - val_accuracy: 0.8595\n",
            "Epoch 26/100\n",
            "267/267 [==============================] - 0s 2ms/step - loss: 0.3862 - accuracy: 0.8421 - val_loss: 0.3479 - val_accuracy: 0.8585\n",
            "Epoch 27/100\n",
            "267/267 [==============================] - 0s 2ms/step - loss: 0.3841 - accuracy: 0.8421 - val_loss: 0.3462 - val_accuracy: 0.8590\n",
            "Epoch 28/100\n",
            "267/267 [==============================] - 0s 2ms/step - loss: 0.3822 - accuracy: 0.8409 - val_loss: 0.3462 - val_accuracy: 0.8575\n",
            "Epoch 29/100\n",
            "267/267 [==============================] - 0s 2ms/step - loss: 0.3795 - accuracy: 0.8420 - val_loss: 0.3449 - val_accuracy: 0.8585\n",
            "Epoch 30/100\n",
            "267/267 [==============================] - 0s 2ms/step - loss: 0.3864 - accuracy: 0.8407 - val_loss: 0.3449 - val_accuracy: 0.8580\n",
            "Epoch 31/100\n",
            "267/267 [==============================] - 0s 2ms/step - loss: 0.3804 - accuracy: 0.8440 - val_loss: 0.3439 - val_accuracy: 0.8610\n",
            "Epoch 32/100\n",
            "267/267 [==============================] - 0s 2ms/step - loss: 0.3756 - accuracy: 0.8459 - val_loss: 0.3440 - val_accuracy: 0.8605\n",
            "Epoch 33/100\n",
            "267/267 [==============================] - 0s 2ms/step - loss: 0.3804 - accuracy: 0.8444 - val_loss: 0.3449 - val_accuracy: 0.8605\n",
            "Epoch 34/100\n",
            "267/267 [==============================] - 0s 2ms/step - loss: 0.3804 - accuracy: 0.8451 - val_loss: 0.3429 - val_accuracy: 0.8610\n",
            "Epoch 35/100\n",
            "267/267 [==============================] - 0s 2ms/step - loss: 0.3787 - accuracy: 0.8446 - val_loss: 0.3447 - val_accuracy: 0.8600\n",
            "Epoch 36/100\n",
            "267/267 [==============================] - 0s 2ms/step - loss: 0.3760 - accuracy: 0.8475 - val_loss: 0.3422 - val_accuracy: 0.8600\n",
            "Epoch 37/100\n",
            "267/267 [==============================] - 0s 2ms/step - loss: 0.3828 - accuracy: 0.8405 - val_loss: 0.3440 - val_accuracy: 0.8620\n",
            "Epoch 38/100\n",
            "267/267 [==============================] - 0s 2ms/step - loss: 0.3790 - accuracy: 0.8426 - val_loss: 0.3431 - val_accuracy: 0.8610\n",
            "Epoch 39/100\n",
            "267/267 [==============================] - 0s 2ms/step - loss: 0.3745 - accuracy: 0.8446 - val_loss: 0.3441 - val_accuracy: 0.8610\n",
            "Epoch 40/100\n",
            "267/267 [==============================] - 0s 2ms/step - loss: 0.3727 - accuracy: 0.8429 - val_loss: 0.3436 - val_accuracy: 0.8595\n",
            "Epoch 41/100\n",
            "267/267 [==============================] - 0s 2ms/step - loss: 0.3753 - accuracy: 0.8449 - val_loss: 0.3415 - val_accuracy: 0.8620\n",
            "Epoch 42/100\n",
            "267/267 [==============================] - 0s 2ms/step - loss: 0.3755 - accuracy: 0.8443 - val_loss: 0.3416 - val_accuracy: 0.8630\n",
            "Epoch 43/100\n",
            "267/267 [==============================] - 0s 2ms/step - loss: 0.3748 - accuracy: 0.8472 - val_loss: 0.3413 - val_accuracy: 0.8590\n",
            "Epoch 44/100\n",
            "267/267 [==============================] - 0s 2ms/step - loss: 0.3775 - accuracy: 0.8431 - val_loss: 0.3423 - val_accuracy: 0.8620\n",
            "Epoch 45/100\n",
            "267/267 [==============================] - 0s 2ms/step - loss: 0.3754 - accuracy: 0.8431 - val_loss: 0.3420 - val_accuracy: 0.8605\n",
            "Epoch 46/100\n",
            "267/267 [==============================] - 0s 2ms/step - loss: 0.3723 - accuracy: 0.8446 - val_loss: 0.3413 - val_accuracy: 0.8625\n",
            "Epoch 47/100\n",
            "267/267 [==============================] - 0s 2ms/step - loss: 0.3756 - accuracy: 0.8428 - val_loss: 0.3417 - val_accuracy: 0.8605\n",
            "Epoch 48/100\n",
            "267/267 [==============================] - 0s 2ms/step - loss: 0.3760 - accuracy: 0.8428 - val_loss: 0.3432 - val_accuracy: 0.8635\n",
            "Epoch 49/100\n",
            "267/267 [==============================] - 0s 2ms/step - loss: 0.3738 - accuracy: 0.8426 - val_loss: 0.3416 - val_accuracy: 0.8615\n",
            "Epoch 50/100\n",
            "267/267 [==============================] - 0s 2ms/step - loss: 0.3678 - accuracy: 0.8501 - val_loss: 0.3403 - val_accuracy: 0.8610\n",
            "Epoch 51/100\n",
            "267/267 [==============================] - 0s 2ms/step - loss: 0.3746 - accuracy: 0.8449 - val_loss: 0.3413 - val_accuracy: 0.8600\n",
            "Epoch 52/100\n",
            "267/267 [==============================] - 0s 2ms/step - loss: 0.3754 - accuracy: 0.8435 - val_loss: 0.3412 - val_accuracy: 0.8605\n",
            "Epoch 53/100\n",
            "267/267 [==============================] - 0s 2ms/step - loss: 0.3741 - accuracy: 0.8447 - val_loss: 0.3415 - val_accuracy: 0.8605\n",
            "Epoch 54/100\n",
            "267/267 [==============================] - 0s 2ms/step - loss: 0.3741 - accuracy: 0.8457 - val_loss: 0.3415 - val_accuracy: 0.8615\n",
            "Epoch 55/100\n",
            "267/267 [==============================] - 0s 2ms/step - loss: 0.3768 - accuracy: 0.8444 - val_loss: 0.3428 - val_accuracy: 0.8590\n",
            "Epoch 56/100\n",
            "267/267 [==============================] - 0s 2ms/step - loss: 0.3715 - accuracy: 0.8440 - val_loss: 0.3415 - val_accuracy: 0.8600\n",
            "Epoch 57/100\n",
            "267/267 [==============================] - 0s 2ms/step - loss: 0.3740 - accuracy: 0.8421 - val_loss: 0.3415 - val_accuracy: 0.8600\n",
            "Epoch 58/100\n",
            "267/267 [==============================] - 0s 2ms/step - loss: 0.3756 - accuracy: 0.8443 - val_loss: 0.3419 - val_accuracy: 0.8605\n",
            "Epoch 59/100\n",
            "267/267 [==============================] - 0s 2ms/step - loss: 0.3704 - accuracy: 0.8504 - val_loss: 0.3415 - val_accuracy: 0.8600\n",
            "Epoch 60/100\n",
            "267/267 [==============================] - 0s 2ms/step - loss: 0.3768 - accuracy: 0.8441 - val_loss: 0.3432 - val_accuracy: 0.8605\n",
            "Epoch 61/100\n",
            "267/267 [==============================] - 0s 2ms/step - loss: 0.3659 - accuracy: 0.8476 - val_loss: 0.3393 - val_accuracy: 0.8610\n",
            "Epoch 62/100\n",
            "267/267 [==============================] - 0s 2ms/step - loss: 0.3726 - accuracy: 0.8450 - val_loss: 0.3406 - val_accuracy: 0.8600\n",
            "Epoch 63/100\n",
            "267/267 [==============================] - 0s 2ms/step - loss: 0.3774 - accuracy: 0.8454 - val_loss: 0.3402 - val_accuracy: 0.8605\n",
            "Epoch 64/100\n",
            "267/267 [==============================] - 0s 2ms/step - loss: 0.3703 - accuracy: 0.8471 - val_loss: 0.3398 - val_accuracy: 0.8615\n",
            "Epoch 65/100\n",
            "267/267 [==============================] - 0s 2ms/step - loss: 0.3732 - accuracy: 0.8430 - val_loss: 0.3396 - val_accuracy: 0.8635\n",
            "Epoch 66/100\n",
            "267/267 [==============================] - 0s 2ms/step - loss: 0.3715 - accuracy: 0.8482 - val_loss: 0.3408 - val_accuracy: 0.8585\n",
            "Epoch 67/100\n",
            "267/267 [==============================] - 0s 2ms/step - loss: 0.3746 - accuracy: 0.8432 - val_loss: 0.3398 - val_accuracy: 0.8635\n",
            "Epoch 68/100\n",
            "267/267 [==============================] - 0s 2ms/step - loss: 0.3746 - accuracy: 0.8424 - val_loss: 0.3402 - val_accuracy: 0.8620\n",
            "Epoch 69/100\n",
            "267/267 [==============================] - 0s 2ms/step - loss: 0.3737 - accuracy: 0.8460 - val_loss: 0.3409 - val_accuracy: 0.8615\n",
            "Epoch 70/100\n",
            "267/267 [==============================] - 0s 2ms/step - loss: 0.3725 - accuracy: 0.8434 - val_loss: 0.3396 - val_accuracy: 0.8605\n",
            "Epoch 71/100\n",
            "267/267 [==============================] - 0s 2ms/step - loss: 0.3694 - accuracy: 0.8455 - val_loss: 0.3394 - val_accuracy: 0.8620\n",
            "Epoch 72/100\n",
            "267/267 [==============================] - 0s 2ms/step - loss: 0.3707 - accuracy: 0.8439 - val_loss: 0.3388 - val_accuracy: 0.8620\n",
            "Epoch 73/100\n",
            "267/267 [==============================] - 0s 2ms/step - loss: 0.3685 - accuracy: 0.8447 - val_loss: 0.3384 - val_accuracy: 0.8655\n",
            "Epoch 74/100\n",
            "267/267 [==============================] - 0s 2ms/step - loss: 0.3696 - accuracy: 0.8450 - val_loss: 0.3382 - val_accuracy: 0.8655\n",
            "Epoch 75/100\n",
            "267/267 [==============================] - 0s 2ms/step - loss: 0.3705 - accuracy: 0.8430 - val_loss: 0.3389 - val_accuracy: 0.8610\n",
            "Epoch 76/100\n",
            "267/267 [==============================] - 0s 2ms/step - loss: 0.3757 - accuracy: 0.8381 - val_loss: 0.3397 - val_accuracy: 0.8625\n",
            "Epoch 77/100\n",
            "267/267 [==============================] - 0s 2ms/step - loss: 0.3710 - accuracy: 0.8447 - val_loss: 0.3399 - val_accuracy: 0.8605\n",
            "Epoch 78/100\n",
            "267/267 [==============================] - 0s 2ms/step - loss: 0.3681 - accuracy: 0.8429 - val_loss: 0.3385 - val_accuracy: 0.8605\n",
            "Epoch 79/100\n",
            "267/267 [==============================] - 0s 2ms/step - loss: 0.3692 - accuracy: 0.8454 - val_loss: 0.3386 - val_accuracy: 0.8600\n",
            "Epoch 80/100\n",
            "267/267 [==============================] - 0s 2ms/step - loss: 0.3731 - accuracy: 0.8474 - val_loss: 0.3393 - val_accuracy: 0.8615\n",
            "Epoch 81/100\n",
            "267/267 [==============================] - 0s 2ms/step - loss: 0.3715 - accuracy: 0.8431 - val_loss: 0.3397 - val_accuracy: 0.8600\n",
            "Epoch 82/100\n",
            "267/267 [==============================] - 0s 2ms/step - loss: 0.3724 - accuracy: 0.8431 - val_loss: 0.3376 - val_accuracy: 0.8615\n",
            "Epoch 83/100\n",
            "267/267 [==============================] - 0s 2ms/step - loss: 0.3702 - accuracy: 0.8441 - val_loss: 0.3381 - val_accuracy: 0.8630\n",
            "Epoch 84/100\n",
            "267/267 [==============================] - 0s 2ms/step - loss: 0.3662 - accuracy: 0.8494 - val_loss: 0.3381 - val_accuracy: 0.8595\n",
            "Epoch 85/100\n",
            "267/267 [==============================] - 0s 2ms/step - loss: 0.3694 - accuracy: 0.8462 - val_loss: 0.3383 - val_accuracy: 0.8605\n",
            "Epoch 86/100\n",
            "267/267 [==============================] - 0s 2ms/step - loss: 0.3704 - accuracy: 0.8457 - val_loss: 0.3382 - val_accuracy: 0.8630\n",
            "Epoch 87/100\n",
            "267/267 [==============================] - 0s 2ms/step - loss: 0.3699 - accuracy: 0.8429 - val_loss: 0.3381 - val_accuracy: 0.8620\n",
            "Epoch 88/100\n",
            "267/267 [==============================] - 0s 2ms/step - loss: 0.3702 - accuracy: 0.8430 - val_loss: 0.3388 - val_accuracy: 0.8595\n",
            "Epoch 89/100\n",
            "267/267 [==============================] - 0s 2ms/step - loss: 0.3682 - accuracy: 0.8472 - val_loss: 0.3385 - val_accuracy: 0.8620\n",
            "Epoch 90/100\n",
            "267/267 [==============================] - 0s 2ms/step - loss: 0.3752 - accuracy: 0.8416 - val_loss: 0.3386 - val_accuracy: 0.8605\n",
            "Epoch 91/100\n",
            "267/267 [==============================] - 0s 2ms/step - loss: 0.3685 - accuracy: 0.8468 - val_loss: 0.3369 - val_accuracy: 0.8635\n",
            "Epoch 92/100\n",
            "267/267 [==============================] - 0s 2ms/step - loss: 0.3745 - accuracy: 0.8421 - val_loss: 0.3379 - val_accuracy: 0.8605\n",
            "Epoch 93/100\n",
            "267/267 [==============================] - 0s 2ms/step - loss: 0.3718 - accuracy: 0.8430 - val_loss: 0.3377 - val_accuracy: 0.8610\n",
            "Epoch 94/100\n",
            "267/267 [==============================] - 0s 2ms/step - loss: 0.3685 - accuracy: 0.8455 - val_loss: 0.3374 - val_accuracy: 0.8600\n",
            "Epoch 95/100\n",
            "267/267 [==============================] - 0s 2ms/step - loss: 0.3647 - accuracy: 0.8468 - val_loss: 0.3372 - val_accuracy: 0.8580\n",
            "Epoch 96/100\n",
            "267/267 [==============================] - 0s 2ms/step - loss: 0.3704 - accuracy: 0.8462 - val_loss: 0.3381 - val_accuracy: 0.8615\n",
            "Epoch 97/100\n",
            "267/267 [==============================] - 0s 2ms/step - loss: 0.3678 - accuracy: 0.8453 - val_loss: 0.3375 - val_accuracy: 0.8580\n",
            "Epoch 98/100\n",
            "267/267 [==============================] - 0s 2ms/step - loss: 0.3727 - accuracy: 0.8447 - val_loss: 0.3378 - val_accuracy: 0.8595\n",
            "Epoch 99/100\n",
            "267/267 [==============================] - 0s 2ms/step - loss: 0.3751 - accuracy: 0.8425 - val_loss: 0.3370 - val_accuracy: 0.8610\n",
            "Epoch 100/100\n",
            "267/267 [==============================] - 0s 2ms/step - loss: 0.3632 - accuracy: 0.8465 - val_loss: 0.3363 - val_accuracy: 0.8635\n"
          ],
          "name": "stdout"
        }
      ]
    },
    {
      "cell_type": "code",
      "metadata": {
        "id": "_ZuGHdcWC3N1",
        "colab_type": "code",
        "colab": {
          "base_uri": "https://localhost:8080/",
          "height": 283
        },
        "outputId": "1e165089-a997-48e0-b2c1-b988453af2af"
      },
      "source": [
        "from matplotlib import pyplot as plt\n",
        "plt.plot(range(len(history.history.get('loss'))), history.history.get('loss'))"
      ],
      "execution_count": 38,
      "outputs": [
        {
          "output_type": "execute_result",
          "data": {
            "text/plain": [
              "[<matplotlib.lines.Line2D at 0x7f6ad86b58d0>]"
            ]
          },
          "metadata": {
            "tags": []
          },
          "execution_count": 38
        },
        {
          "output_type": "display_data",
          "data": {
            "image/png": "[encoded data removed]",
            "text/plain": [
              "<Figure size 432x288 with 1 Axes>"
            ]
          },
          "metadata": {
            "tags": [],
            "needs_background": "light"
          }
        }
      ]
    },
    {
      "cell_type": "code",
      "metadata": {
        "id": "eJR84c7ODUiq",
        "colab_type": "code",
        "colab": {
          "base_uri": "https://localhost:8080/",
          "height": 283
        },
        "outputId": "fa6849fe-2357-4e06-b3c2-d55983dafd7b"
      },
      "source": [
        "from matplotlib import pyplot as plt\n",
        "plt.plot(range(len(history.history.get('accuracy'))), history.history.get('accuracy'))"
      ],
      "execution_count": 39,
      "outputs": [
        {
          "output_type": "execute_result",
          "data": {
            "text/plain": [
              "[<matplotlib.lines.Line2D at 0x7f6ad86c3c18>]"
            ]
          },
          "metadata": {
            "tags": []
          },
          "execution_count": 39
        },
        {
          "output_type": "display_data",
          "data": {
            "image/png": "[encoded data removed]",
            "text/plain": [
              "<Figure size 432x288 with 1 Axes>"
            ]
          },
          "metadata": {
            "tags": [],
            "needs_background": "light"
          }
        }
      ]
    },
    {
      "cell_type": "markdown",
      "metadata": {
        "id": "-yW5q_3SDvBp",
        "colab_type": "text"
      },
      "source": [
        "## 評估模型準確度"
      ]
    },
    {
      "cell_type": "code",
      "metadata": {
        "id": "NWziRpApD0-B",
        "colab_type": "code",
        "colab": {}
      },
      "source": [
        "import numpy as np\n",
        "predicted = model(x_test).numpy().flatten()\n",
        "y_pred = (predicted > 0.5).astype(int)"
      ],
      "execution_count": 0,
      "outputs": []
    },
    {
      "cell_type": "code",
      "metadata": {
        "id": "qUdYvaqlDpHp",
        "colab_type": "code",
        "colab": {
          "base_uri": "https://localhost:8080/",
          "height": 35
        },
        "outputId": "1c47ff47-1067-4843-83ac-6f73af71ffd4"
      },
      "source": [
        "from sklearn.metrics import accuracy_score, confusion_matrix\n",
        "accuracy_score(y_test, y_pred)"
      ],
      "execution_count": 46,
      "outputs": [
        {
          "output_type": "execute_result",
          "data": {
            "text/plain": [
              "0.8635"
            ]
          },
          "metadata": {
            "tags": []
          },
          "execution_count": 46
        }
      ]
    },
    {
      "cell_type": "code",
      "metadata": {
        "id": "Xa-OJZn4Ec_j",
        "colab_type": "code",
        "colab": {
          "base_uri": "https://localhost:8080/",
          "height": 52
        },
        "outputId": "4a91880e-3d42-4bc1-b3d4-1c6395add331"
      },
      "source": [
        "confusion_matrix(y_test, y_pred)"
      ],
      "execution_count": 47,
      "outputs": [
        {
          "output_type": "execute_result",
          "data": {
            "text/plain": [
              "array([[1544,   63],\n",
              "       [ 210,  183]])"
            ]
          },
          "metadata": {
            "tags": []
          },
          "execution_count": 47
        }
      ]
    },
    {
      "cell_type": "markdown",
      "metadata": {
        "id": "deaQDUVuEpvq",
        "colab_type": "text"
      },
      "source": [
        "##請繪製ROC Curve, 並求出 AUC"
      ]
    },
    {
      "cell_type": "code",
      "metadata": {
        "id": "I-i4jsz0EgOq",
        "colab_type": "code",
        "colab": {}
      },
      "source": [
        "from sklearn.metrics import roc_curve\n",
        "fpr_ary, tpr_ary, thresholds = roc_curve(y_test, predicted)"
      ],
      "execution_count": 0,
      "outputs": []
    },
    {
      "cell_type": "code",
      "metadata": {
        "id": "R7d-Ov0QEyll",
        "colab_type": "code",
        "colab": {
          "base_uri": "https://localhost:8080/",
          "height": 295
        },
        "outputId": "dee3963d-083c-4e6f-ab9f-b5078baa713c"
      },
      "source": [
        "import matplotlib.pyplot as plt\n",
        "plt.plot(fpr_ary, tpr_ary, label='ROC curve')\n",
        "plt.plot([0, 1], [0, 1], 'k--')\n",
        "plt.xlim([0.0, 1.0])\n",
        "plt.ylim([0.0, 1.0])\n",
        "plt.xlabel('False Positive Rate')\n",
        "plt.ylabel('True Positive Rate')\n",
        "plt.title('Receiver operating characteristic example')\n",
        "plt.legend(loc=\"lower right\")\n",
        "plt.show()"
      ],
      "execution_count": 55,
      "outputs": [
        {
          "output_type": "display_data",
          "data": {
            "image/png": "[encoded data removed]",
            "text/plain": [
              "<Figure size 432x288 with 1 Axes>"
            ]
          },
          "metadata": {
            "tags": [],
            "needs_background": "light"
          }
        }
      ]
    },
    {
      "cell_type": "code",
      "metadata": {
        "id": "WoUSWtqCE2Px",
        "colab_type": "code",
        "colab": {
          "base_uri": "https://localhost:8080/",
          "height": 35
        },
        "outputId": "12a31cfb-9713-4d96-de71-cc6e5e9a129b"
      },
      "source": [
        "from sklearn.metrics import auc\n",
        "auc(fpr_ary, tpr_ary)"
      ],
      "execution_count": 56,
      "outputs": [
        {
          "output_type": "execute_result",
          "data": {
            "text/plain": [
              "0.8616113346348909"
            ]
          },
          "metadata": {
            "tags": []
          },
          "execution_count": 56
        }
      ]
    },
    {
      "cell_type": "code",
      "metadata": {
        "id": "ueD-VXXAFFXH",
        "colab_type": "code",
        "colab": {
          "base_uri": "https://localhost:8080/",
          "height": 191
        },
        "outputId": "ac60d5e1-bd14-4d5d-b457-9cbe960c0f2d"
      },
      "source": [
        "#ANN, SVM, Gradient Boosting, Random Forest, Logist Regression, Decision Tree \n",
        "from sklearn.tree import DecisionTreeClassifier\n",
        "from sklearn.svm import SVC\n",
        "from sklearn.linear_model import LogisticRegression\n",
        "from sklearn.ensemble import RandomForestClassifier\n",
        "from sklearn.ensemble import GradientBoostingClassifier\n",
        "\n",
        "clf1 = DecisionTreeClassifier()\n",
        "clf1.fit(x_train, y_train)\n",
        "\n",
        "clf2 = SVC(probability = True)\n",
        "clf2.fit(x_train, y_train)\n",
        "\n",
        "clf3 = LogisticRegression()\n",
        "clf3.fit(x_train, y_train)\n",
        "\n",
        "clf4 = RandomForestClassifier()\n",
        "clf4.fit(x_train, y_train)\n",
        "\n",
        "clf5 = GradientBoostingClassifier()\n",
        "clf5.fit(x_train, y_train)"
      ],
      "execution_count": 52,
      "outputs": [
        {
          "output_type": "execute_result",
          "data": {
            "text/plain": [
              "GradientBoostingClassifier(ccp_alpha=0.0, criterion='friedman_mse', init=None,\n",
              "                           learning_rate=0.1, loss='deviance', max_depth=3,\n",
              "                           max_features=None, max_leaf_nodes=None,\n",
              "                           min_impurity_decrease=0.0, min_impurity_split=None,\n",
              "                           min_samples_leaf=1, min_samples_split=2,\n",
              "                           min_weight_fraction_leaf=0.0, n_estimators=100,\n",
              "                           n_iter_no_change=None, presort='deprecated',\n",
              "                           random_state=None, subsample=1.0, tol=0.0001,\n",
              "                           validation_fraction=0.1, verbose=0,\n",
              "                           warm_start=False)"
            ]
          },
          "metadata": {
            "tags": []
          },
          "execution_count": 52
        }
      ]
    },
    {
      "cell_type": "code",
      "metadata": {
        "id": "UDLI255rFXmP",
        "colab_type": "code",
        "colab": {
          "base_uri": "https://localhost:8080/",
          "height": 422
        },
        "outputId": "bd9423df-7cb9-473b-e01f-420f4aae9a52"
      },
      "source": [
        "from sklearn.metrics import auc\n",
        "from sklearn.metrics import roc_curve\n",
        "import matplotlib.pyplot as plt\n",
        "\n",
        "plt.figure(figsize= [20,10])\n",
        "for clf, title in zip([model,clf1,clf2,clf3, clf4,clf5], \n",
        "                      ['ANN','Decision Tree', 'SVM', 'LogisticRegression', 'RandomForest', 'GBT']):\n",
        "    if title != 'ANN':\n",
        "        probas_ = clf.fit(x_train, y_train).predict_proba(x_test)\n",
        "        fpr, tpr, thresholds = roc_curve(y_test, probas_[:, 1])\n",
        "    else:\n",
        "        y_pred = clf.predict(x_test)\n",
        "        fpr, tpr, thresholds = roc_curve(y_test, y_pred)\n",
        "    plt.plot(fpr, tpr, label='%s - AUC:%.2f'%(title, auc(fpr, tpr)) )\n",
        "    \n",
        "plt.plot([0, 1], [0, 1], 'k--')\n",
        "plt.xlim([0.0, 1.0])\n",
        "plt.ylim([0.0, 1.0])\n",
        "plt.xlabel('False Positive Rate', fontsize = 20)\n",
        "plt.ylabel('True Positive Rate', fontsize = 20)\n",
        "plt.title('Receiver operating characteristic example', fontsize = 20)\n",
        "plt.legend(loc=\"lower right\", fontsize = 20)\n",
        "plt.show()"
      ],
      "execution_count": 53,
      "outputs": [
        {
          "output_type": "display_data",
          "data": {
            "image/png": "[encoded data removed]",
            "text/plain": [
              "<Figure size 1440x720 with 1 Axes>"
            ]
          },
          "metadata": {
            "tags": [],
            "needs_background": "light"
          }
        }
      ]
    },
    {
      "cell_type": "markdown",
      "metadata": {
        "id": "5gJjmDltN45n",
        "colab_type": "text"
      },
      "source": [
        "## 驗證碼識別"
      ]
    },
    {
      "cell_type": "code",
      "metadata": {
        "id": "c1owmxONFdxS",
        "colab_type": "code",
        "colab": {
          "base_uri": "https://localhost:8080/",
          "height": 228
        },
        "outputId": "52dd4426-e505-4e37-b513-d64bf4e5d441"
      },
      "source": [
        "! wget https://raw.githubusercontent.com/ywchiu/tibamedl/master/data/captcha_jpg.zip"
      ],
      "execution_count": 9,
      "outputs": [
        {
          "output_type": "stream",
          "text": [
            "--2020-04-11 03:54:05--  https://raw.githubusercontent.com/ywchiu/tibamedl/master/data/captcha_jpg.zip\n",
            "Resolving raw.githubusercontent.com (raw.githubusercontent.com)... 151.101.0.133, 151.101.64.133, 151.101.128.133, ...\n",
            "Connecting to raw.githubusercontent.com (raw.githubusercontent.com)|151.101.0.133|:443... connected.\n",
            "HTTP request sent, awaiting response... 200 OK\n",
            "Length: 3818150 (3.6M) [application/zip]\n",
            "Saving to: ‘captcha_jpg.zip’\n",
            "\n",
            "\rcaptcha_jpg.zip       0%[                    ]       0  --.-KB/s               \rcaptcha_jpg.zip     100%[===================>]   3.64M  20.2MB/s    in 0.2s    \n",
            "\n",
            "2020-04-11 03:54:05 (20.2 MB/s) - ‘captcha_jpg.zip’ saved [3818150/3818150]\n",
            "\n"
          ],
          "name": "stdout"
        }
      ]
    },
    {
      "cell_type": "code",
      "metadata": {
        "id": "Fsm4XNN6N_PP",
        "colab_type": "code",
        "colab": {}
      },
      "source": [
        "! unzip captcha_jpg.zip > 1.log"
      ],
      "execution_count": 0,
      "outputs": []
    },
    {
      "cell_type": "code",
      "metadata": {
        "id": "9kZhV8wuOH05",
        "colab_type": "code",
        "colab": {
          "base_uri": "https://localhost:8080/",
          "height": 63
        },
        "outputId": "04e0a836-a839-4666-9c61-3320880075ae"
      },
      "source": [
        "from PIL import Image\n",
        "Image.open('data/994.jpg')"
      ],
      "execution_count": 11,
      "outputs": [
        {
          "output_type": "execute_result",
          "data": {
            "image/png": "[encoded data removed]",
            "text/plain": [
              "<PIL.JpegImagePlugin.JpegImageFile image mode=RGB size=133x46 at 0x7F42FAB97A90>"
            ]
          },
          "metadata": {
            "tags": []
          },
          "execution_count": 11
        }
      ]
    },
    {
      "cell_type": "code",
      "metadata": {
        "id": "EwXv65aOOR0r",
        "colab_type": "code",
        "colab": {}
      },
      "source": [
        "import pandas\n",
        "captcha =  pandas.read_csv('https://raw.githubusercontent.com/ywchiu/tibamedl/master/Data/output_captua.csv', usecols=['captcua', 'file'])\n",
        "captcha.columns = ['captcha', 'file']"
      ],
      "execution_count": 0,
      "outputs": []
    },
    {
      "cell_type": "code",
      "metadata": {
        "id": "HNQqyCeGOqr1",
        "colab_type": "code",
        "colab": {}
      },
      "source": [
        "captcha = captcha[captcha['file'].notnull()]"
      ],
      "execution_count": 0,
      "outputs": []
    },
    {
      "cell_type": "code",
      "metadata": {
        "id": "YWbnt7ODRHfl",
        "colab_type": "code",
        "colab": {}
      },
      "source": [
        "captcha['file'] = captcha['file'].map(lambda e: 'data/{}.jpg'.format(int(e)) )"
      ],
      "execution_count": 0,
      "outputs": []
    },
    {
      "cell_type": "code",
      "metadata": {
        "id": "arwkzztjTw7s",
        "colab_type": "code",
        "colab": {}
      },
      "source": [
        "captcha.reset_index(inplace=True)\n",
        "del captcha['index']"
      ],
      "execution_count": 0,
      "outputs": []
    },
    {
      "cell_type": "code",
      "metadata": {
        "id": "flr0O6YfOsgx",
        "colab_type": "code",
        "colab": {
          "base_uri": "https://localhost:8080/",
          "height": 202
        },
        "outputId": "a73ee0d2-81ef-4809-a2b3-9039eadbf2f4"
      },
      "source": [
        "captcha.head()"
      ],
      "execution_count": 16,
      "outputs": [
        {
          "output_type": "execute_result",
          "data": {
            "text/html": [
              "<div>\n",
              "<style scoped>\n",
              "    .dataframe tbody tr th:only-of-type {\n",
              "        vertical-align: middle;\n",
              "    }\n",
              "\n",
              "    .dataframe tbody tr th {\n",
              "        vertical-align: top;\n",
              "    }\n",
              "\n",
              "    .dataframe thead th {\n",
              "        text-align: right;\n",
              "    }\n",
              "</style>\n",
              "<table border=\"1\" class=\"dataframe\">\n",
              "  <thead>\n",
              "    <tr style=\"text-align: right;\">\n",
              "      <th></th>\n",
              "      <th>captcha</th>\n",
              "      <th>file</th>\n",
              "    </tr>\n",
              "  </thead>\n",
              "  <tbody>\n",
              "    <tr>\n",
              "      <th>0</th>\n",
              "      <td>4ay2</td>\n",
              "      <td>data/1.jpg</td>\n",
              "    </tr>\n",
              "    <tr>\n",
              "      <th>1</th>\n",
              "      <td>qmqh</td>\n",
              "      <td>data/2.jpg</td>\n",
              "    </tr>\n",
              "    <tr>\n",
              "      <th>2</th>\n",
              "      <td>kc3c</td>\n",
              "      <td>data/3.jpg</td>\n",
              "    </tr>\n",
              "    <tr>\n",
              "      <th>3</th>\n",
              "      <td>1549</td>\n",
              "      <td>data/4.jpg</td>\n",
              "    </tr>\n",
              "    <tr>\n",
              "      <th>4</th>\n",
              "      <td>5rqz</td>\n",
              "      <td>data/5.jpg</td>\n",
              "    </tr>\n",
              "  </tbody>\n",
              "</table>\n",
              "</div>"
            ],
            "text/plain": [
              "  captcha        file\n",
              "0    4ay2  data/1.jpg\n",
              "1    qmqh  data/2.jpg\n",
              "2    kc3c  data/3.jpg\n",
              "3    1549  data/4.jpg\n",
              "4    5rqz  data/5.jpg"
            ]
          },
          "metadata": {
            "tags": []
          },
          "execution_count": 16
        }
      ]
    },
    {
      "cell_type": "code",
      "metadata": {
        "id": "uDxDd7pGP5yB",
        "colab_type": "code",
        "colab": {
          "base_uri": "https://localhost:8080/",
          "height": 35
        },
        "outputId": "af2c06d7-9923-4bb7-ca24-7a9610bd34e2"
      },
      "source": [
        "len(captcha)"
      ],
      "execution_count": 17,
      "outputs": [
        {
          "output_type": "execute_result",
          "data": {
            "text/plain": [
              "998"
            ]
          },
          "metadata": {
            "tags": []
          },
          "execution_count": 17
        }
      ]
    },
    {
      "cell_type": "code",
      "metadata": {
        "id": "LdyAuVNiP79a",
        "colab_type": "code",
        "colab": {
          "base_uri": "https://localhost:8080/",
          "height": 35
        },
        "outputId": "934bb503-5707-4f20-d2a6-470bb5e6288b"
      },
      "source": [
        "from PIL import Image\n",
        "import numpy as np\n",
        "img = Image.open('data/3.jpg')\n",
        "img = img.resize((135,47))\n",
        "#img\n",
        "im = np.array(img)\n",
        "im.shape"
      ],
      "execution_count": 18,
      "outputs": [
        {
          "output_type": "execute_result",
          "data": {
            "text/plain": [
              "(47, 135, 3)"
            ]
          },
          "metadata": {
            "tags": []
          },
          "execution_count": 18
        }
      ]
    },
    {
      "cell_type": "markdown",
      "metadata": {
        "id": "S5qY0RqfQnPb",
        "colab_type": "text"
      },
      "source": [
        "## 建立 X 與 Y"
      ]
    },
    {
      "cell_type": "code",
      "metadata": {
        "id": "7BezwkYvRCoc",
        "colab_type": "code",
        "colab": {
          "base_uri": "https://localhost:8080/",
          "height": 35
        },
        "outputId": "e8ab5c3e-3512-4e42-ee6e-61ec5bea0b96"
      },
      "source": [
        "characters = '0123456789abcdefghijklmnopqrstuvwxyz'\n",
        "height, width = 47,135\n",
        "n_len = 4\n",
        "n_class = len(characters)\n",
        "print(height, width, n_class,n_len)"
      ],
      "execution_count": 19,
      "outputs": [
        {
          "output_type": "stream",
          "text": [
            "47 135 36 4\n"
          ],
          "name": "stdout"
        }
      ]
    },
    {
      "cell_type": "code",
      "metadata": {
        "id": "nRRy66TfQFfk",
        "colab_type": "code",
        "colab": {
          "base_uri": "https://localhost:8080/",
          "height": 35
        },
        "outputId": "7c82c24d-27ce-4de5-aaa9-ba768e86dfc7"
      },
      "source": [
        "X = np.zeros((len(captcha), height, width, 3), dtype=np.float32)\n",
        "y = [np.zeros((len(captcha), n_class), dtype=np.uint8) for i in range(n_len)]\n",
        "X.shape, y[0].shape, len(y)"
      ],
      "execution_count": 20,
      "outputs": [
        {
          "output_type": "execute_result",
          "data": {
            "text/plain": [
              "((998, 47, 135, 3), (998, 36), 4)"
            ]
          },
          "metadata": {
            "tags": []
          },
          "execution_count": 20
        }
      ]
    },
    {
      "cell_type": "code",
      "metadata": {
        "id": "r7YyLXIESVdb",
        "colab_type": "code",
        "colab": {}
      },
      "source": [
        "for i in captcha.index:\n",
        "    random_str = captcha.loc[i,'captcha']\n",
        "    fname = captcha.loc[i,'file']\n",
        "    img = Image.open(fname)\n",
        "    img = img.resize((width, height))\n",
        "    im = np.array(img)\n",
        "    X[i] = im * 1.0 / 255.0\n",
        "    for j, ch in enumerate(random_str):\n",
        "        y[j][i, :] = 0\n",
        "        y[j][i, characters.find(ch)] = 1"
      ],
      "execution_count": 0,
      "outputs": []
    },
    {
      "cell_type": "code",
      "metadata": {
        "id": "d8FNz4iKTg7r",
        "colab_type": "code",
        "colab": {
          "base_uri": "https://localhost:8080/",
          "height": 35
        },
        "outputId": "26d13e48-8b7b-4fb7-9791-2d234925b939"
      },
      "source": [
        "X[0].shape"
      ],
      "execution_count": 22,
      "outputs": [
        {
          "output_type": "execute_result",
          "data": {
            "text/plain": [
              "(47, 135, 3)"
            ]
          },
          "metadata": {
            "tags": []
          },
          "execution_count": 22
        }
      ]
    },
    {
      "cell_type": "code",
      "metadata": {
        "id": "63wj8VFDUAvW",
        "colab_type": "code",
        "colab": {
          "base_uri": "https://localhost:8080/",
          "height": 52
        },
        "outputId": "755d811d-4ab9-44cc-c1a2-36c0b21354d2"
      },
      "source": [
        "y[0][0]"
      ],
      "execution_count": 23,
      "outputs": [
        {
          "output_type": "execute_result",
          "data": {
            "text/plain": [
              "array([0, 0, 0, 0, 1, 0, 0, 0, 0, 0, 0, 0, 0, 0, 0, 0, 0, 0, 0, 0, 0, 0,\n",
              "       0, 0, 0, 0, 0, 0, 0, 0, 0, 0, 0, 0, 0, 0], dtype=uint8)"
            ]
          },
          "metadata": {
            "tags": []
          },
          "execution_count": 23
        }
      ]
    },
    {
      "cell_type": "code",
      "metadata": {
        "id": "25f3r0V1UJX2",
        "colab_type": "code",
        "colab": {
          "base_uri": "https://localhost:8080/",
          "height": 52
        },
        "outputId": "82c51420-0411-4aab-f6ef-c825b24ee2a2"
      },
      "source": [
        "y[1][0]"
      ],
      "execution_count": 24,
      "outputs": [
        {
          "output_type": "execute_result",
          "data": {
            "text/plain": [
              "array([0, 0, 0, 0, 0, 0, 0, 0, 0, 0, 1, 0, 0, 0, 0, 0, 0, 0, 0, 0, 0, 0,\n",
              "       0, 0, 0, 0, 0, 0, 0, 0, 0, 0, 0, 0, 0, 0], dtype=uint8)"
            ]
          },
          "metadata": {
            "tags": []
          },
          "execution_count": 24
        }
      ]
    },
    {
      "cell_type": "code",
      "metadata": {
        "id": "UCNPmVN3UQGY",
        "colab_type": "code",
        "colab": {}
      },
      "source": [
        "import random\n",
        "def gen(batch_size=32):\n",
        "    X = np.zeros((batch_size, height, width, 3), dtype=np.uint8)\n",
        "    y = [np.zeros((batch_size, n_class), dtype=np.uint8) for i in range(n_len)]\n",
        "    while True:\n",
        "        for i in range(batch_size):\n",
        "            rand_index = random.choice(captcha.index)\n",
        "            random_str = captcha.loc[rand_index,'captcha']\n",
        "            fname = captcha.loc[rand_index,'file']\n",
        "            img = Image.open(fname)\n",
        "            img = img.resize((width, height))\n",
        "            im = np.array(img)\n",
        "            X[i] = im / 255.0\n",
        "\n",
        "            for j, ch in enumerate(random_str):\n",
        "                y[j][i, :] = 0\n",
        "                y[j][i, characters.find(ch)] = 1\n",
        "        yield X, y"
      ],
      "execution_count": 0,
      "outputs": []
    },
    {
      "cell_type": "code",
      "metadata": {
        "id": "tqsmIDsHUxpm",
        "colab_type": "code",
        "colab": {}
      },
      "source": [
        "#for x1, y1 in gen(batch_size=32):\n",
        "#  print(x1, y1)"
      ],
      "execution_count": 0,
      "outputs": []
    },
    {
      "cell_type": "markdown",
      "metadata": {
        "id": "dfaGJzCYVoOa",
        "colab_type": "text"
      },
      "source": [
        "## 建立 CNN 模型"
      ]
    },
    {
      "cell_type": "code",
      "metadata": {
        "id": "J1-EdKc6WH6t",
        "colab_type": "code",
        "colab": {}
      },
      "source": [
        "%tensorflow_version 2.x\n",
        "import tensorflow as tf"
      ],
      "execution_count": 0,
      "outputs": []
    },
    {
      "cell_type": "code",
      "metadata": {
        "id": "2cFWPiAAWf4b",
        "colab_type": "code",
        "colab": {}
      },
      "source": [
        "from tensorflow.keras.models import *\n",
        "from tensorflow.keras.layers import *"
      ],
      "execution_count": 0,
      "outputs": []
    },
    {
      "cell_type": "code",
      "metadata": {
        "id": "31DMfqslU1cW",
        "colab_type": "code",
        "colab": {}
      },
      "source": [
        "input_tensor = Input((height, width, 3))\n",
        "\n",
        "x = input_tensor\n",
        "x = Conv2D(64, (3, 3), activation='relu')(x)\n",
        "x = Conv2D(64, (3, 3), activation='relu')(x)\n",
        "x = MaxPooling2D((2, 2))(x)\n",
        "\n",
        "x = Conv2D(128, (3, 3), activation='relu')(x)\n",
        "x = Conv2D(128, (3, 3), activation='relu')(x)\n",
        "x = MaxPooling2D((2, 2))(x) \n",
        "\n",
        "x = Conv2D(256, (3, 3), activation='relu')(x)\n",
        "x = Conv2D(256, (3, 3), activation='relu')(x)\n",
        "x = MaxPooling2D((2, 2))(x) \n",
        "\n",
        "x = Flatten()(x)\n",
        "x = Dropout(0.25)(x)"
      ],
      "execution_count": 0,
      "outputs": []
    },
    {
      "cell_type": "code",
      "metadata": {
        "id": "Cv3gbX2zWGj_",
        "colab_type": "code",
        "colab": {
          "base_uri": "https://localhost:8080/",
          "height": 711
        },
        "outputId": "2611bc4b-8787-4c6b-f7f4-82abe405a7c4"
      },
      "source": [
        "x = [Dense(n_class, activation='softmax', name='c%d'%(i+1))(x) for i in range(4)]\n",
        "\n",
        "model = Model(inputs=input_tensor, outputs=x)\n",
        "\n",
        "model.summary()\n"
      ],
      "execution_count": 30,
      "outputs": [
        {
          "output_type": "stream",
          "text": [
            "Model: \"model\"\n",
            "__________________________________________________________________________________________________\n",
            "Layer (type)                    Output Shape         Param #     Connected to                     \n",
            "==================================================================================================\n",
            "input_1 (InputLayer)            [(None, 47, 135, 3)] 0                                            \n",
            "__________________________________________________________________________________________________\n",
            "conv2d (Conv2D)                 (None, 45, 133, 64)  1792        input_1[0][0]                    \n",
            "__________________________________________________________________________________________________\n",
            "conv2d_1 (Conv2D)               (None, 43, 131, 64)  36928       conv2d[0][0]                     \n",
            "__________________________________________________________________________________________________\n",
            "max_pooling2d (MaxPooling2D)    (None, 21, 65, 64)   0           conv2d_1[0][0]                   \n",
            "__________________________________________________________________________________________________\n",
            "conv2d_2 (Conv2D)               (None, 19, 63, 128)  73856       max_pooling2d[0][0]              \n",
            "__________________________________________________________________________________________________\n",
            "conv2d_3 (Conv2D)               (None, 17, 61, 128)  147584      conv2d_2[0][0]                   \n",
            "__________________________________________________________________________________________________\n",
            "max_pooling2d_1 (MaxPooling2D)  (None, 8, 30, 128)   0           conv2d_3[0][0]                   \n",
            "__________________________________________________________________________________________________\n",
            "conv2d_4 (Conv2D)               (None, 6, 28, 256)   295168      max_pooling2d_1[0][0]            \n",
            "__________________________________________________________________________________________________\n",
            "conv2d_5 (Conv2D)               (None, 4, 26, 256)   590080      conv2d_4[0][0]                   \n",
            "__________________________________________________________________________________________________\n",
            "max_pooling2d_2 (MaxPooling2D)  (None, 2, 13, 256)   0           conv2d_5[0][0]                   \n",
            "__________________________________________________________________________________________________\n",
            "flatten (Flatten)               (None, 6656)         0           max_pooling2d_2[0][0]            \n",
            "__________________________________________________________________________________________________\n",
            "dropout (Dropout)               (None, 6656)         0           flatten[0][0]                    \n",
            "__________________________________________________________________________________________________\n",
            "c1 (Dense)                      (None, 36)           239652      dropout[0][0]                    \n",
            "__________________________________________________________________________________________________\n",
            "c2 (Dense)                      (None, 36)           239652      dropout[0][0]                    \n",
            "__________________________________________________________________________________________________\n",
            "c3 (Dense)                      (None, 36)           239652      dropout[0][0]                    \n",
            "__________________________________________________________________________________________________\n",
            "c4 (Dense)                      (None, 36)           239652      dropout[0][0]                    \n",
            "==================================================================================================\n",
            "Total params: 2,104,016\n",
            "Trainable params: 2,104,016\n",
            "Non-trainable params: 0\n",
            "__________________________________________________________________________________________________\n"
          ],
          "name": "stdout"
        }
      ]
    },
    {
      "cell_type": "code",
      "metadata": {
        "id": "ziBQaZVRXCWg",
        "colab_type": "code",
        "colab": {}
      },
      "source": [
        "model.compile(loss='categorical_crossentropy',\n",
        "              optimizer='adam',\n",
        "              metrics=['accuracy'])"
      ],
      "execution_count": 0,
      "outputs": []
    },
    {
      "cell_type": "code",
      "metadata": {
        "id": "AFEOLK5PXONt",
        "colab_type": "code",
        "colab": {
          "base_uri": "https://localhost:8080/",
          "height": 263
        },
        "outputId": "f37da6f2-ac4d-4ebc-a493-b26b8d160aa5"
      },
      "source": [
        "history = model.fit_generator(gen(batch_size=32),      # 每次生成器會產生32筆小批量的資料\n",
        "                    epochs=5,                # 總共跑5個訓練循環\n",
        "                    steps_per_epoch=1000,\n",
        "                    #callbacks=cbks,          # 保存最好的模型到檔案\n",
        "                    validation_data=gen(),   # 驗證資料也是用生成器來產生\n",
        "                    validation_steps=40      # 用40組資料來驗證\n",
        "                   )"
      ],
      "execution_count": 32,
      "outputs": [
        {
          "output_type": "stream",
          "text": [
            "WARNING:tensorflow:From <ipython-input-32-81a15ed5a29e>:6: Model.fit_generator (from tensorflow.python.keras.engine.training) is deprecated and will be removed in a future version.\n",
            "Instructions for updating:\n",
            "Please use Model.fit, which supports generators.\n",
            "Epoch 1/5\n",
            "1000/1000 [==============================] - 28s 28ms/step - loss: 1.9669 - c1_loss: 0.4855 - c2_loss: 0.4953 - c3_loss: 0.4950 - c4_loss: 0.4911 - c1_accuracy: 0.8770 - c2_accuracy: 0.8743 - c3_accuracy: 0.8788 - c4_accuracy: 0.8758 - val_loss: 0.3907 - val_c1_loss: 0.1268 - val_c2_loss: 0.0898 - val_c3_loss: 0.0627 - val_c4_loss: 0.1115 - val_c1_accuracy: 0.9836 - val_c2_accuracy: 0.9797 - val_c3_accuracy: 0.9867 - val_c4_accuracy: 0.9852\n",
            "Epoch 2/5\n",
            "1000/1000 [==============================] - 27s 27ms/step - loss: 0.3647 - c1_loss: 0.0966 - c2_loss: 0.0923 - c3_loss: 0.0786 - c4_loss: 0.0971 - c1_accuracy: 0.9822 - c2_accuracy: 0.9829 - c3_accuracy: 0.9873 - c4_accuracy: 0.9828 - val_loss: 0.2572 - val_c1_loss: 0.0499 - val_c2_loss: 0.0598 - val_c3_loss: 0.0753 - val_c4_loss: 0.0722 - val_c1_accuracy: 0.9852 - val_c2_accuracy: 0.9812 - val_c3_accuracy: 0.9844 - val_c4_accuracy: 0.9781\n",
            "Epoch 3/5\n",
            "1000/1000 [==============================] - 28s 28ms/step - loss: 0.4075 - c1_loss: 0.0995 - c2_loss: 0.1100 - c3_loss: 0.0909 - c4_loss: 0.1072 - c1_accuracy: 0.9828 - c2_accuracy: 0.9794 - c3_accuracy: 0.9861 - c4_accuracy: 0.9807 - val_loss: 0.2432 - val_c1_loss: 0.0564 - val_c2_loss: 0.0819 - val_c3_loss: 0.0486 - val_c4_loss: 0.0563 - val_c1_accuracy: 0.9820 - val_c2_accuracy: 0.9828 - val_c3_accuracy: 0.9891 - val_c4_accuracy: 0.9859\n",
            "Epoch 4/5\n",
            "1000/1000 [==============================] - 27s 27ms/step - loss: 0.3205 - c1_loss: 0.0873 - c2_loss: 0.0880 - c3_loss: 0.0707 - c4_loss: 0.0745 - c1_accuracy: 0.9831 - c2_accuracy: 0.9820 - c3_accuracy: 0.9891 - c4_accuracy: 0.9849 - val_loss: 0.1823 - val_c1_loss: 0.0373 - val_c2_loss: 0.0533 - val_c3_loss: 0.0435 - val_c4_loss: 0.0482 - val_c1_accuracy: 0.9883 - val_c2_accuracy: 0.9859 - val_c3_accuracy: 0.9914 - val_c4_accuracy: 0.9828\n",
            "Epoch 5/5\n",
            "1000/1000 [==============================] - 28s 28ms/step - loss: 0.2958 - c1_loss: 0.0667 - c2_loss: 0.0755 - c3_loss: 0.0723 - c4_loss: 0.0813 - c1_accuracy: 0.9845 - c2_accuracy: 0.9833 - c3_accuracy: 0.9875 - c4_accuracy: 0.9834 - val_loss: 0.4448 - val_c1_loss: 0.0630 - val_c2_loss: 0.1090 - val_c3_loss: 0.1696 - val_c4_loss: 0.1032 - val_c1_accuracy: 0.9867 - val_c2_accuracy: 0.9805 - val_c3_accuracy: 0.9773 - val_c4_accuracy: 0.9820\n"
          ],
          "name": "stdout"
        }
      ]
    },
    {
      "cell_type": "code",
      "metadata": {
        "id": "mhka7btoXcca",
        "colab_type": "code",
        "colab": {}
      },
      "source": [
        "model.save('captcha.h5')"
      ],
      "execution_count": 0,
      "outputs": []
    },
    {
      "cell_type": "code",
      "metadata": {
        "id": "DHly7y6YYvyZ",
        "colab_type": "code",
        "colab": {}
      },
      "source": [
        "import requests\n",
        "from bs4 import BeautifulSoup\n",
        "headers2 = {\n",
        "  'User-Agent': 'Mozilla/5.0 (Macintosh; Intel Mac OS X 10_14_6) AppleWebKit/537.36 (KHTML, like Gecko) Chrome/80.0.3987.149 Safari/537.36'  \n",
        "}\n",
        "\n",
        "def getCaptcha():\n",
        "    rs = requests.session()\n",
        "    res = rs.get('https://irs.thsrc.com.tw/IMINT/', headers = headers2)\n",
        "    soup = BeautifulSoup(res.text, 'lxml')\n",
        "    print(res.text)\n",
        "    domain = 'https://irs.thsrc.com.tw'\n",
        "    imgsrc = soup.select_one('img#BookingS1Form_homeCaptcha_passCode').get('src')\n",
        "    imgurl = domain + imgsrc\n",
        "    res2 = rs.get(imgurl, headers = headers2)\n",
        "    with open('prediction.jpg', 'wb') as f:\n",
        "        f.write(res2.content)\n",
        "    \n"
      ],
      "execution_count": 0,
      "outputs": []
    },
    {
      "cell_type": "code",
      "metadata": {
        "id": "lwGXQr3LZEeZ",
        "colab_type": "code",
        "colab": {}
      },
      "source": [
        "#getCaptcha()"
      ],
      "execution_count": 0,
      "outputs": []
    },
    {
      "cell_type": "code",
      "metadata": {
        "id": "i3JWqfF_ZF6p",
        "colab_type": "code",
        "colab": {
          "base_uri": "https://localhost:8080/",
          "height": 228
        },
        "outputId": "44e088fc-4195-40b1-dae6-5b9a70707865"
      },
      "source": [
        "! wget https://raw.githubusercontent.com/ywchiu/tibamedl/master/Data/prediction.jpg"
      ],
      "execution_count": 40,
      "outputs": [
        {
          "output_type": "stream",
          "text": [
            "--2020-04-11 04:03:13--  https://raw.githubusercontent.com/ywchiu/tibamedl/master/Data/prediction.jpg\n",
            "Resolving raw.githubusercontent.com (raw.githubusercontent.com)... 151.101.0.133, 151.101.64.133, 151.101.128.133, ...\n",
            "Connecting to raw.githubusercontent.com (raw.githubusercontent.com)|151.101.0.133|:443... connected.\n",
            "HTTP request sent, awaiting response... 200 OK\n",
            "Length: 3660 (3.6K) [image/jpeg]\n",
            "Saving to: ‘prediction.jpg’\n",
            "\n",
            "\rprediction.jpg        0%[                    ]       0  --.-KB/s               \rprediction.jpg      100%[===================>]   3.57K  --.-KB/s    in 0s      \n",
            "\n",
            "2020-04-11 04:03:13 (74.0 MB/s) - ‘prediction.jpg’ saved [3660/3660]\n",
            "\n"
          ],
          "name": "stdout"
        }
      ]
    },
    {
      "cell_type": "code",
      "metadata": {
        "id": "kvdnJSYVZ-AC",
        "colab_type": "code",
        "colab": {
          "base_uri": "https://localhost:8080/",
          "height": 35
        },
        "outputId": "dac7f1d3-e688-42b4-9927-e55f14d0a039"
      },
      "source": [
        "from PIL import Image\n",
        "import numpy as np\n",
        "img = Image.open('data/995.jpg')\n",
        "img = img.resize((135,47))\n",
        "#img\n",
        "im = np.array(img)\n",
        "im.shape\n",
        "#im"
      ],
      "execution_count": 61,
      "outputs": [
        {
          "output_type": "execute_result",
          "data": {
            "text/plain": [
              "(47, 135, 3)"
            ]
          },
          "metadata": {
            "tags": []
          },
          "execution_count": 61
        }
      ]
    },
    {
      "cell_type": "code",
      "metadata": {
        "id": "I8sGULu0a6KY",
        "colab_type": "code",
        "colab": {
          "base_uri": "https://localhost:8080/",
          "height": 64
        },
        "outputId": "341bc5ca-6b2b-4b66-e9b8-ca335dc5af4d"
      },
      "source": [
        "img"
      ],
      "execution_count": 62,
      "outputs": [
        {
          "output_type": "execute_result",
          "data": {
            "image/png": "[encoded data removed]",
            "text/plain": [
              "<PIL.Image.Image image mode=RGB size=135x47 at 0x7F409DFD4588>"
            ]
          },
          "metadata": {
            "tags": []
          },
          "execution_count": 62
        }
      ]
    },
    {
      "cell_type": "code",
      "metadata": {
        "id": "e7fsUMszaFSq",
        "colab_type": "code",
        "colab": {}
      },
      "source": [
        "X_predict = np.zeros((1, height, width, 3), dtype=np.uint8)\n",
        "X_predict[0] = im / 255.0\n"
      ],
      "execution_count": 0,
      "outputs": []
    },
    {
      "cell_type": "code",
      "metadata": {
        "id": "nxOfuCYbaTuo",
        "colab_type": "code",
        "colab": {
          "base_uri": "https://localhost:8080/",
          "height": 35
        },
        "outputId": "bd5cddde-70c4-445a-813b-0347ad03d4b4"
      },
      "source": [
        "X_predict[0].shape"
      ],
      "execution_count": 64,
      "outputs": [
        {
          "output_type": "execute_result",
          "data": {
            "text/plain": [
              "(47, 135, 3)"
            ]
          },
          "metadata": {
            "tags": []
          },
          "execution_count": 64
        }
      ]
    },
    {
      "cell_type": "code",
      "metadata": {
        "id": "94d-Ni6aaUjM",
        "colab_type": "code",
        "colab": {
          "base_uri": "https://localhost:8080/",
          "height": 87
        },
        "outputId": "a82a7804-f1fc-43a9-e16c-599752abc548"
      },
      "source": [
        "for p in model(X_predict):\n",
        "  print(characters[(np.argmax(p.numpy()))])"
      ],
      "execution_count": 65,
      "outputs": [
        {
          "output_type": "stream",
          "text": [
            "q\n",
            "9\n",
            "3\n",
            "a\n"
          ],
          "name": "stdout"
        }
      ]
    },
    {
      "cell_type": "code",
      "metadata": {
        "id": "31CmhyOyaiSn",
        "colab_type": "code",
        "colab": {}
      },
      "source": [
        ""
      ],
      "execution_count": 0,
      "outputs": []
    }
  ]
}