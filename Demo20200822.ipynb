{
  "nbformat": 4,
  "nbformat_minor": 0,
  "metadata": {
    "colab": {
      "name": "Demo20200822.ipynb",
      "provenance": [],
      "collapsed_sections": []
    },
    "kernelspec": {
      "name": "python3",
      "display_name": "Python 3"
    },
    "accelerator": "GPU"
  },
  "cells": [
    {
      "cell_type": "markdown",
      "metadata": {
        "id": "upc8E6xK49py",
        "colab_type": "text"
      },
      "source": [
        "## 信用卡詐欺"
      ]
    },
    {
      "cell_type": "markdown",
      "metadata": {
        "id": "jw4UQGIm44B8",
        "colab_type": "text"
      },
      "source": [
        "### 資料下載"
      ]
    },
    {
      "cell_type": "code",
      "metadata": {
        "id": "RprQZFgP4IDe",
        "colab_type": "code",
        "colab": {
          "base_uri": "https://localhost:8080/",
          "height": 228
        },
        "outputId": "4106246d-6b57-4980-d927-a1d4ca275719"
      },
      "source": [
        "! wget https://raw.githubusercontent.com/ywchiu/tibamedl/master/Data/creditcardfraud.zip"
      ],
      "execution_count": 1,
      "outputs": [
        {
          "output_type": "stream",
          "text": [
            "--2020-08-22 01:58:24--  https://raw.githubusercontent.com/ywchiu/tibamedl/master/Data/creditcardfraud.zip\n",
            "Resolving raw.githubusercontent.com (raw.githubusercontent.com)... 151.101.0.133, 151.101.64.133, 151.101.128.133, ...\n",
            "Connecting to raw.githubusercontent.com (raw.githubusercontent.com)|151.101.0.133|:443... connected.\n",
            "HTTP request sent, awaiting response... 200 OK\n",
            "Length: 71387154 (68M) [application/zip]\n",
            "Saving to: ‘creditcardfraud.zip’\n",
            "\n",
            "creditcardfraud.zip 100%[===================>]  68.08M   270MB/s    in 0.3s    \n",
            "\n",
            "2020-08-22 01:58:27 (270 MB/s) - ‘creditcardfraud.zip’ saved [71387154/71387154]\n",
            "\n"
          ],
          "name": "stdout"
        }
      ]
    },
    {
      "cell_type": "code",
      "metadata": {
        "id": "4kq7Mo2c40s-",
        "colab_type": "code",
        "colab": {}
      },
      "source": [
        "! unzip creditcardfraud.zip > 1.log"
      ],
      "execution_count": 2,
      "outputs": []
    },
    {
      "cell_type": "code",
      "metadata": {
        "id": "u-zJq6uJ5EXa",
        "colab_type": "code",
        "colab": {
          "base_uri": "https://localhost:8080/",
          "height": 35
        },
        "outputId": "5416418c-564e-418f-d707-23fba5b34302"
      },
      "source": [
        "! ls"
      ],
      "execution_count": 3,
      "outputs": [
        {
          "output_type": "stream",
          "text": [
            "1.log  creditcard.csv  creditcardfraud.zip  sample_data\n"
          ],
          "name": "stdout"
        }
      ]
    },
    {
      "cell_type": "markdown",
      "metadata": {
        "id": "JagV7KoK5KHf",
        "colab_type": "text"
      },
      "source": [
        "### 讀取資料"
      ]
    },
    {
      "cell_type": "code",
      "metadata": {
        "id": "ToojJiWd5Jen",
        "colab_type": "code",
        "colab": {}
      },
      "source": [
        "import pandas\n",
        "df = pandas.read_csv('creditcard.csv')"
      ],
      "execution_count": 4,
      "outputs": []
    },
    {
      "cell_type": "code",
      "metadata": {
        "id": "OjJRlTQp5GPJ",
        "colab_type": "code",
        "colab": {
          "base_uri": "https://localhost:8080/",
          "height": 222
        },
        "outputId": "6fa74fb9-42b9-4ede-cf3c-ae4960306612"
      },
      "source": [
        "df.head()"
      ],
      "execution_count": 5,
      "outputs": [
        {
          "output_type": "execute_result",
          "data": {
            "text/html": [
              "<div>\n",
              "<style scoped>\n",
              "    .dataframe tbody tr th:only-of-type {\n",
              "        vertical-align: middle;\n",
              "    }\n",
              "\n",
              "    .dataframe tbody tr th {\n",
              "        vertical-align: top;\n",
              "    }\n",
              "\n",
              "    .dataframe thead th {\n",
              "        text-align: right;\n",
              "    }\n",
              "</style>\n",
              "<table border=\"1\" class=\"dataframe\">\n",
              "  <thead>\n",
              "    <tr style=\"text-align: right;\">\n",
              "      <th></th>\n",
              "      <th>Time</th>\n",
              "      <th>V1</th>\n",
              "      <th>V2</th>\n",
              "      <th>V3</th>\n",
              "      <th>V4</th>\n",
              "      <th>V5</th>\n",
              "      <th>V6</th>\n",
              "      <th>V7</th>\n",
              "      <th>V8</th>\n",
              "      <th>V9</th>\n",
              "      <th>V10</th>\n",
              "      <th>V11</th>\n",
              "      <th>V12</th>\n",
              "      <th>V13</th>\n",
              "      <th>V14</th>\n",
              "      <th>V15</th>\n",
              "      <th>V16</th>\n",
              "      <th>V17</th>\n",
              "      <th>V18</th>\n",
              "      <th>V19</th>\n",
              "      <th>V20</th>\n",
              "      <th>V21</th>\n",
              "      <th>V22</th>\n",
              "      <th>V23</th>\n",
              "      <th>V24</th>\n",
              "      <th>V25</th>\n",
              "      <th>V26</th>\n",
              "      <th>V27</th>\n",
              "      <th>V28</th>\n",
              "      <th>Amount</th>\n",
              "      <th>Class</th>\n",
              "    </tr>\n",
              "  </thead>\n",
              "  <tbody>\n",
              "    <tr>\n",
              "      <th>0</th>\n",
              "      <td>0.0</td>\n",
              "      <td>-1.359807</td>\n",
              "      <td>-0.072781</td>\n",
              "      <td>2.536347</td>\n",
              "      <td>1.378155</td>\n",
              "      <td>-0.338321</td>\n",
              "      <td>0.462388</td>\n",
              "      <td>0.239599</td>\n",
              "      <td>0.098698</td>\n",
              "      <td>0.363787</td>\n",
              "      <td>0.090794</td>\n",
              "      <td>-0.551600</td>\n",
              "      <td>-0.617801</td>\n",
              "      <td>-0.991390</td>\n",
              "      <td>-0.311169</td>\n",
              "      <td>1.468177</td>\n",
              "      <td>-0.470401</td>\n",
              "      <td>0.207971</td>\n",
              "      <td>0.025791</td>\n",
              "      <td>0.403993</td>\n",
              "      <td>0.251412</td>\n",
              "      <td>-0.018307</td>\n",
              "      <td>0.277838</td>\n",
              "      <td>-0.110474</td>\n",
              "      <td>0.066928</td>\n",
              "      <td>0.128539</td>\n",
              "      <td>-0.189115</td>\n",
              "      <td>0.133558</td>\n",
              "      <td>-0.021053</td>\n",
              "      <td>149.62</td>\n",
              "      <td>0</td>\n",
              "    </tr>\n",
              "    <tr>\n",
              "      <th>1</th>\n",
              "      <td>0.0</td>\n",
              "      <td>1.191857</td>\n",
              "      <td>0.266151</td>\n",
              "      <td>0.166480</td>\n",
              "      <td>0.448154</td>\n",
              "      <td>0.060018</td>\n",
              "      <td>-0.082361</td>\n",
              "      <td>-0.078803</td>\n",
              "      <td>0.085102</td>\n",
              "      <td>-0.255425</td>\n",
              "      <td>-0.166974</td>\n",
              "      <td>1.612727</td>\n",
              "      <td>1.065235</td>\n",
              "      <td>0.489095</td>\n",
              "      <td>-0.143772</td>\n",
              "      <td>0.635558</td>\n",
              "      <td>0.463917</td>\n",
              "      <td>-0.114805</td>\n",
              "      <td>-0.183361</td>\n",
              "      <td>-0.145783</td>\n",
              "      <td>-0.069083</td>\n",
              "      <td>-0.225775</td>\n",
              "      <td>-0.638672</td>\n",
              "      <td>0.101288</td>\n",
              "      <td>-0.339846</td>\n",
              "      <td>0.167170</td>\n",
              "      <td>0.125895</td>\n",
              "      <td>-0.008983</td>\n",
              "      <td>0.014724</td>\n",
              "      <td>2.69</td>\n",
              "      <td>0</td>\n",
              "    </tr>\n",
              "    <tr>\n",
              "      <th>2</th>\n",
              "      <td>1.0</td>\n",
              "      <td>-1.358354</td>\n",
              "      <td>-1.340163</td>\n",
              "      <td>1.773209</td>\n",
              "      <td>0.379780</td>\n",
              "      <td>-0.503198</td>\n",
              "      <td>1.800499</td>\n",
              "      <td>0.791461</td>\n",
              "      <td>0.247676</td>\n",
              "      <td>-1.514654</td>\n",
              "      <td>0.207643</td>\n",
              "      <td>0.624501</td>\n",
              "      <td>0.066084</td>\n",
              "      <td>0.717293</td>\n",
              "      <td>-0.165946</td>\n",
              "      <td>2.345865</td>\n",
              "      <td>-2.890083</td>\n",
              "      <td>1.109969</td>\n",
              "      <td>-0.121359</td>\n",
              "      <td>-2.261857</td>\n",
              "      <td>0.524980</td>\n",
              "      <td>0.247998</td>\n",
              "      <td>0.771679</td>\n",
              "      <td>0.909412</td>\n",
              "      <td>-0.689281</td>\n",
              "      <td>-0.327642</td>\n",
              "      <td>-0.139097</td>\n",
              "      <td>-0.055353</td>\n",
              "      <td>-0.059752</td>\n",
              "      <td>378.66</td>\n",
              "      <td>0</td>\n",
              "    </tr>\n",
              "    <tr>\n",
              "      <th>3</th>\n",
              "      <td>1.0</td>\n",
              "      <td>-0.966272</td>\n",
              "      <td>-0.185226</td>\n",
              "      <td>1.792993</td>\n",
              "      <td>-0.863291</td>\n",
              "      <td>-0.010309</td>\n",
              "      <td>1.247203</td>\n",
              "      <td>0.237609</td>\n",
              "      <td>0.377436</td>\n",
              "      <td>-1.387024</td>\n",
              "      <td>-0.054952</td>\n",
              "      <td>-0.226487</td>\n",
              "      <td>0.178228</td>\n",
              "      <td>0.507757</td>\n",
              "      <td>-0.287924</td>\n",
              "      <td>-0.631418</td>\n",
              "      <td>-1.059647</td>\n",
              "      <td>-0.684093</td>\n",
              "      <td>1.965775</td>\n",
              "      <td>-1.232622</td>\n",
              "      <td>-0.208038</td>\n",
              "      <td>-0.108300</td>\n",
              "      <td>0.005274</td>\n",
              "      <td>-0.190321</td>\n",
              "      <td>-1.175575</td>\n",
              "      <td>0.647376</td>\n",
              "      <td>-0.221929</td>\n",
              "      <td>0.062723</td>\n",
              "      <td>0.061458</td>\n",
              "      <td>123.50</td>\n",
              "      <td>0</td>\n",
              "    </tr>\n",
              "    <tr>\n",
              "      <th>4</th>\n",
              "      <td>2.0</td>\n",
              "      <td>-1.158233</td>\n",
              "      <td>0.877737</td>\n",
              "      <td>1.548718</td>\n",
              "      <td>0.403034</td>\n",
              "      <td>-0.407193</td>\n",
              "      <td>0.095921</td>\n",
              "      <td>0.592941</td>\n",
              "      <td>-0.270533</td>\n",
              "      <td>0.817739</td>\n",
              "      <td>0.753074</td>\n",
              "      <td>-0.822843</td>\n",
              "      <td>0.538196</td>\n",
              "      <td>1.345852</td>\n",
              "      <td>-1.119670</td>\n",
              "      <td>0.175121</td>\n",
              "      <td>-0.451449</td>\n",
              "      <td>-0.237033</td>\n",
              "      <td>-0.038195</td>\n",
              "      <td>0.803487</td>\n",
              "      <td>0.408542</td>\n",
              "      <td>-0.009431</td>\n",
              "      <td>0.798278</td>\n",
              "      <td>-0.137458</td>\n",
              "      <td>0.141267</td>\n",
              "      <td>-0.206010</td>\n",
              "      <td>0.502292</td>\n",
              "      <td>0.219422</td>\n",
              "      <td>0.215153</td>\n",
              "      <td>69.99</td>\n",
              "      <td>0</td>\n",
              "    </tr>\n",
              "  </tbody>\n",
              "</table>\n",
              "</div>"
            ],
            "text/plain": [
              "   Time        V1        V2        V3  ...       V27       V28  Amount  Class\n",
              "0   0.0 -1.359807 -0.072781  2.536347  ...  0.133558 -0.021053  149.62      0\n",
              "1   0.0  1.191857  0.266151  0.166480  ... -0.008983  0.014724    2.69      0\n",
              "2   1.0 -1.358354 -1.340163  1.773209  ... -0.055353 -0.059752  378.66      0\n",
              "3   1.0 -0.966272 -0.185226  1.792993  ...  0.062723  0.061458  123.50      0\n",
              "4   2.0 -1.158233  0.877737  1.548718  ...  0.219422  0.215153   69.99      0\n",
              "\n",
              "[5 rows x 31 columns]"
            ]
          },
          "metadata": {
            "tags": []
          },
          "execution_count": 5
        }
      ]
    },
    {
      "cell_type": "markdown",
      "metadata": {
        "id": "9D8d3btc5qCR",
        "colab_type": "text"
      },
      "source": [
        "### EDA (Exploratory Data Analysis)"
      ]
    },
    {
      "cell_type": "code",
      "metadata": {
        "id": "GCJ0Qci-5QHX",
        "colab_type": "code",
        "colab": {}
      },
      "source": [
        "count_classes = pandas.value_counts(df['Class'], sort = True)"
      ],
      "execution_count": 7,
      "outputs": []
    },
    {
      "cell_type": "code",
      "metadata": {
        "id": "96qw8zpl5uoA",
        "colab_type": "code",
        "colab": {
          "base_uri": "https://localhost:8080/",
          "height": 69
        },
        "outputId": "3d7609fb-63bf-4355-a31c-67905de75e7b"
      },
      "source": [
        "count_classes"
      ],
      "execution_count": 8,
      "outputs": [
        {
          "output_type": "execute_result",
          "data": {
            "text/plain": [
              "0    284315\n",
              "1       492\n",
              "Name: Class, dtype: int64"
            ]
          },
          "metadata": {
            "tags": []
          },
          "execution_count": 8
        }
      ]
    },
    {
      "cell_type": "code",
      "metadata": {
        "id": "jSVfSDFg5xYB",
        "colab_type": "code",
        "colab": {
          "base_uri": "https://localhost:8080/",
          "height": 283
        },
        "outputId": "1ea514c3-e017-4b4d-cd84-5a87d40bbd18"
      },
      "source": [
        "count_classes.plot(kind = 'bar', rot=0)"
      ],
      "execution_count": 9,
      "outputs": [
        {
          "output_type": "execute_result",
          "data": {
            "text/plain": [
              "<matplotlib.axes._subplots.AxesSubplot at 0x7f0217376828>"
            ]
          },
          "metadata": {
            "tags": []
          },
          "execution_count": 9
        },
        {
          "output_type": "display_data",
          "data": {
            "image/png": "[encoded data removed]",
            "text/plain": [
              "<Figure size 432x288 with 1 Axes>"
            ]
          },
          "metadata": {
            "tags": [],
            "needs_background": "light"
          }
        }
      ]
    },
    {
      "cell_type": "code",
      "metadata": {
        "id": "EJ4avNFQ54ju",
        "colab_type": "code",
        "colab": {}
      },
      "source": [
        "frauds = df[df.Class == 1]\n",
        "normal = df[df.Class == 0]"
      ],
      "execution_count": 10,
      "outputs": []
    },
    {
      "cell_type": "code",
      "metadata": {
        "id": "aCoepQ186HWs",
        "colab_type": "code",
        "colab": {
          "base_uri": "https://localhost:8080/",
          "height": 308
        },
        "outputId": "d048a23c-f599-48b5-e13a-c027c2b96851"
      },
      "source": [
        "from matplotlib import pyplot as plt\n",
        "f, (ax1, ax2) = plt.subplots(2, 1, sharex=True)\n",
        "f.suptitle('Amount per transaction by class')\n",
        "\n",
        "bins = 50\n",
        "\n",
        "ax1.hist(frauds.Amount, bins = bins)\n",
        "ax1.set_title('Fraud')\n",
        "\n",
        "ax2.hist(normal.Amount, bins = bins)\n",
        "ax2.set_title('Normal')\n",
        "\n",
        "plt.xlabel('Amount ($)')\n",
        "plt.ylabel('Number of Transactions')\n",
        "plt.xlim((0, 20000))\n",
        "plt.yscale('log')\n",
        "plt.show()"
      ],
      "execution_count": 12,
      "outputs": [
        {
          "output_type": "display_data",
          "data": {
            "image/png": "[encoded data removed]",
            "text/plain": [
              "<Figure size 432x288 with 2 Axes>"
            ]
          },
          "metadata": {
            "tags": [],
            "needs_background": "light"
          }
        }
      ]
    },
    {
      "cell_type": "code",
      "metadata": {
        "id": "Gh0gF9Ib6OuL",
        "colab_type": "code",
        "colab": {
          "base_uri": "https://localhost:8080/",
          "height": 308
        },
        "outputId": "45b1567c-d109-470a-94f7-2cd96f53f487"
      },
      "source": [
        "f, (ax1, ax2) = plt.subplots(2, 1, sharex=True)\n",
        "f.suptitle('Time of transaction vs Amount by class')\n",
        "\n",
        "ax1.scatter(frauds.Time, frauds.Amount)\n",
        "ax1.set_title('Fraud')\n",
        "\n",
        "ax2.scatter(normal.Time, normal.Amount)\n",
        "ax2.set_title('Normal')\n",
        "\n",
        "plt.xlabel('Time (in Seconds)')\n",
        "plt.ylabel('Amount')\n",
        "plt.show()"
      ],
      "execution_count": 13,
      "outputs": [
        {
          "output_type": "display_data",
          "data": {
            "image/png": "[encoded data removed]",
            "text/plain": [
              "<Figure size 432x288 with 2 Axes>"
            ]
          },
          "metadata": {
            "tags": [],
            "needs_background": "light"
          }
        }
      ]
    },
    {
      "cell_type": "markdown",
      "metadata": {
        "id": "NbLrzzWR64cv",
        "colab_type": "text"
      },
      "source": [
        "### 標準化資料"
      ]
    },
    {
      "cell_type": "code",
      "metadata": {
        "id": "-I2SZOOT6i4G",
        "colab_type": "code",
        "colab": {}
      },
      "source": [
        "from sklearn.preprocessing import StandardScaler\n",
        "data = df.drop(['Time'], axis=1)\n",
        "data['Amount'] = StandardScaler().fit_transform(data['Amount'].values.reshape(-1, 1))"
      ],
      "execution_count": 14,
      "outputs": []
    },
    {
      "cell_type": "code",
      "metadata": {
        "id": "IiTcJKQ06_mo",
        "colab_type": "code",
        "colab": {
          "base_uri": "https://localhost:8080/",
          "height": 222
        },
        "outputId": "01f7a88a-56cd-4f9c-fc11-7d2649e9c73b"
      },
      "source": [
        "data.head()"
      ],
      "execution_count": 15,
      "outputs": [
        {
          "output_type": "execute_result",
          "data": {
            "text/html": [
              "<div>\n",
              "<style scoped>\n",
              "    .dataframe tbody tr th:only-of-type {\n",
              "        vertical-align: middle;\n",
              "    }\n",
              "\n",
              "    .dataframe tbody tr th {\n",
              "        vertical-align: top;\n",
              "    }\n",
              "\n",
              "    .dataframe thead th {\n",
              "        text-align: right;\n",
              "    }\n",
              "</style>\n",
              "<table border=\"1\" class=\"dataframe\">\n",
              "  <thead>\n",
              "    <tr style=\"text-align: right;\">\n",
              "      <th></th>\n",
              "      <th>V1</th>\n",
              "      <th>V2</th>\n",
              "      <th>V3</th>\n",
              "      <th>V4</th>\n",
              "      <th>V5</th>\n",
              "      <th>V6</th>\n",
              "      <th>V7</th>\n",
              "      <th>V8</th>\n",
              "      <th>V9</th>\n",
              "      <th>V10</th>\n",
              "      <th>V11</th>\n",
              "      <th>V12</th>\n",
              "      <th>V13</th>\n",
              "      <th>V14</th>\n",
              "      <th>V15</th>\n",
              "      <th>V16</th>\n",
              "      <th>V17</th>\n",
              "      <th>V18</th>\n",
              "      <th>V19</th>\n",
              "      <th>V20</th>\n",
              "      <th>V21</th>\n",
              "      <th>V22</th>\n",
              "      <th>V23</th>\n",
              "      <th>V24</th>\n",
              "      <th>V25</th>\n",
              "      <th>V26</th>\n",
              "      <th>V27</th>\n",
              "      <th>V28</th>\n",
              "      <th>Amount</th>\n",
              "      <th>Class</th>\n",
              "    </tr>\n",
              "  </thead>\n",
              "  <tbody>\n",
              "    <tr>\n",
              "      <th>0</th>\n",
              "      <td>-1.359807</td>\n",
              "      <td>-0.072781</td>\n",
              "      <td>2.536347</td>\n",
              "      <td>1.378155</td>\n",
              "      <td>-0.338321</td>\n",
              "      <td>0.462388</td>\n",
              "      <td>0.239599</td>\n",
              "      <td>0.098698</td>\n",
              "      <td>0.363787</td>\n",
              "      <td>0.090794</td>\n",
              "      <td>-0.551600</td>\n",
              "      <td>-0.617801</td>\n",
              "      <td>-0.991390</td>\n",
              "      <td>-0.311169</td>\n",
              "      <td>1.468177</td>\n",
              "      <td>-0.470401</td>\n",
              "      <td>0.207971</td>\n",
              "      <td>0.025791</td>\n",
              "      <td>0.403993</td>\n",
              "      <td>0.251412</td>\n",
              "      <td>-0.018307</td>\n",
              "      <td>0.277838</td>\n",
              "      <td>-0.110474</td>\n",
              "      <td>0.066928</td>\n",
              "      <td>0.128539</td>\n",
              "      <td>-0.189115</td>\n",
              "      <td>0.133558</td>\n",
              "      <td>-0.021053</td>\n",
              "      <td>0.244964</td>\n",
              "      <td>0</td>\n",
              "    </tr>\n",
              "    <tr>\n",
              "      <th>1</th>\n",
              "      <td>1.191857</td>\n",
              "      <td>0.266151</td>\n",
              "      <td>0.166480</td>\n",
              "      <td>0.448154</td>\n",
              "      <td>0.060018</td>\n",
              "      <td>-0.082361</td>\n",
              "      <td>-0.078803</td>\n",
              "      <td>0.085102</td>\n",
              "      <td>-0.255425</td>\n",
              "      <td>-0.166974</td>\n",
              "      <td>1.612727</td>\n",
              "      <td>1.065235</td>\n",
              "      <td>0.489095</td>\n",
              "      <td>-0.143772</td>\n",
              "      <td>0.635558</td>\n",
              "      <td>0.463917</td>\n",
              "      <td>-0.114805</td>\n",
              "      <td>-0.183361</td>\n",
              "      <td>-0.145783</td>\n",
              "      <td>-0.069083</td>\n",
              "      <td>-0.225775</td>\n",
              "      <td>-0.638672</td>\n",
              "      <td>0.101288</td>\n",
              "      <td>-0.339846</td>\n",
              "      <td>0.167170</td>\n",
              "      <td>0.125895</td>\n",
              "      <td>-0.008983</td>\n",
              "      <td>0.014724</td>\n",
              "      <td>-0.342475</td>\n",
              "      <td>0</td>\n",
              "    </tr>\n",
              "    <tr>\n",
              "      <th>2</th>\n",
              "      <td>-1.358354</td>\n",
              "      <td>-1.340163</td>\n",
              "      <td>1.773209</td>\n",
              "      <td>0.379780</td>\n",
              "      <td>-0.503198</td>\n",
              "      <td>1.800499</td>\n",
              "      <td>0.791461</td>\n",
              "      <td>0.247676</td>\n",
              "      <td>-1.514654</td>\n",
              "      <td>0.207643</td>\n",
              "      <td>0.624501</td>\n",
              "      <td>0.066084</td>\n",
              "      <td>0.717293</td>\n",
              "      <td>-0.165946</td>\n",
              "      <td>2.345865</td>\n",
              "      <td>-2.890083</td>\n",
              "      <td>1.109969</td>\n",
              "      <td>-0.121359</td>\n",
              "      <td>-2.261857</td>\n",
              "      <td>0.524980</td>\n",
              "      <td>0.247998</td>\n",
              "      <td>0.771679</td>\n",
              "      <td>0.909412</td>\n",
              "      <td>-0.689281</td>\n",
              "      <td>-0.327642</td>\n",
              "      <td>-0.139097</td>\n",
              "      <td>-0.055353</td>\n",
              "      <td>-0.059752</td>\n",
              "      <td>1.160686</td>\n",
              "      <td>0</td>\n",
              "    </tr>\n",
              "    <tr>\n",
              "      <th>3</th>\n",
              "      <td>-0.966272</td>\n",
              "      <td>-0.185226</td>\n",
              "      <td>1.792993</td>\n",
              "      <td>-0.863291</td>\n",
              "      <td>-0.010309</td>\n",
              "      <td>1.247203</td>\n",
              "      <td>0.237609</td>\n",
              "      <td>0.377436</td>\n",
              "      <td>-1.387024</td>\n",
              "      <td>-0.054952</td>\n",
              "      <td>-0.226487</td>\n",
              "      <td>0.178228</td>\n",
              "      <td>0.507757</td>\n",
              "      <td>-0.287924</td>\n",
              "      <td>-0.631418</td>\n",
              "      <td>-1.059647</td>\n",
              "      <td>-0.684093</td>\n",
              "      <td>1.965775</td>\n",
              "      <td>-1.232622</td>\n",
              "      <td>-0.208038</td>\n",
              "      <td>-0.108300</td>\n",
              "      <td>0.005274</td>\n",
              "      <td>-0.190321</td>\n",
              "      <td>-1.175575</td>\n",
              "      <td>0.647376</td>\n",
              "      <td>-0.221929</td>\n",
              "      <td>0.062723</td>\n",
              "      <td>0.061458</td>\n",
              "      <td>0.140534</td>\n",
              "      <td>0</td>\n",
              "    </tr>\n",
              "    <tr>\n",
              "      <th>4</th>\n",
              "      <td>-1.158233</td>\n",
              "      <td>0.877737</td>\n",
              "      <td>1.548718</td>\n",
              "      <td>0.403034</td>\n",
              "      <td>-0.407193</td>\n",
              "      <td>0.095921</td>\n",
              "      <td>0.592941</td>\n",
              "      <td>-0.270533</td>\n",
              "      <td>0.817739</td>\n",
              "      <td>0.753074</td>\n",
              "      <td>-0.822843</td>\n",
              "      <td>0.538196</td>\n",
              "      <td>1.345852</td>\n",
              "      <td>-1.119670</td>\n",
              "      <td>0.175121</td>\n",
              "      <td>-0.451449</td>\n",
              "      <td>-0.237033</td>\n",
              "      <td>-0.038195</td>\n",
              "      <td>0.803487</td>\n",
              "      <td>0.408542</td>\n",
              "      <td>-0.009431</td>\n",
              "      <td>0.798278</td>\n",
              "      <td>-0.137458</td>\n",
              "      <td>0.141267</td>\n",
              "      <td>-0.206010</td>\n",
              "      <td>0.502292</td>\n",
              "      <td>0.219422</td>\n",
              "      <td>0.215153</td>\n",
              "      <td>-0.073403</td>\n",
              "      <td>0</td>\n",
              "    </tr>\n",
              "  </tbody>\n",
              "</table>\n",
              "</div>"
            ],
            "text/plain": [
              "         V1        V2        V3        V4  ...       V27       V28    Amount  Class\n",
              "0 -1.359807 -0.072781  2.536347  1.378155  ...  0.133558 -0.021053  0.244964      0\n",
              "1  1.191857  0.266151  0.166480  0.448154  ... -0.008983  0.014724 -0.342475      0\n",
              "2 -1.358354 -1.340163  1.773209  0.379780  ... -0.055353 -0.059752  1.160686      0\n",
              "3 -0.966272 -0.185226  1.792993 -0.863291  ...  0.062723  0.061458  0.140534      0\n",
              "4 -1.158233  0.877737  1.548718  0.403034  ...  0.219422  0.215153 -0.073403      0\n",
              "\n",
              "[5 rows x 30 columns]"
            ]
          },
          "metadata": {
            "tags": []
          },
          "execution_count": 15
        }
      ]
    },
    {
      "cell_type": "markdown",
      "metadata": {
        "id": "f3v8WwV17Mxn",
        "colab_type": "text"
      },
      "source": [
        "### 將資料分為訓練與測試資料集"
      ]
    },
    {
      "cell_type": "code",
      "metadata": {
        "id": "uGuLPkTn7ad0",
        "colab_type": "code",
        "colab": {}
      },
      "source": [
        "X = data.iloc[:,:-1]\n",
        "y = data.iloc[:,-1]"
      ],
      "execution_count": 16,
      "outputs": []
    },
    {
      "cell_type": "code",
      "metadata": {
        "id": "LP71XCOj7AvQ",
        "colab_type": "code",
        "colab": {}
      },
      "source": [
        "from sklearn.model_selection import train_test_split\n",
        "X_train, X_test, y_train, y_test = train_test_split(X,y, test_size=0.2, random_state=42)"
      ],
      "execution_count": 18,
      "outputs": []
    },
    {
      "cell_type": "code",
      "metadata": {
        "id": "az0bKwaB7i6c",
        "colab_type": "code",
        "colab": {
          "base_uri": "https://localhost:8080/",
          "height": 35
        },
        "outputId": "d93273f3-fde4-44a3-8c1f-3e29652d8219"
      },
      "source": [
        "X_train.shape"
      ],
      "execution_count": 19,
      "outputs": [
        {
          "output_type": "execute_result",
          "data": {
            "text/plain": [
              "(227845, 29)"
            ]
          },
          "metadata": {
            "tags": []
          },
          "execution_count": 19
        }
      ]
    },
    {
      "cell_type": "code",
      "metadata": {
        "id": "yz2WKeL87omZ",
        "colab_type": "code",
        "colab": {
          "base_uri": "https://localhost:8080/",
          "height": 35
        },
        "outputId": "62a2c1b2-850a-451e-d30d-7ff16fd92692"
      },
      "source": [
        "X_test.shape"
      ],
      "execution_count": 20,
      "outputs": [
        {
          "output_type": "execute_result",
          "data": {
            "text/plain": [
              "(56962, 29)"
            ]
          },
          "metadata": {
            "tags": []
          },
          "execution_count": 20
        }
      ]
    },
    {
      "cell_type": "markdown",
      "metadata": {
        "id": "w7g7z6mL7vv6",
        "colab_type": "text"
      },
      "source": [
        "### 跑 ANN"
      ]
    },
    {
      "cell_type": "code",
      "metadata": {
        "id": "UtkZ0JHv7re4",
        "colab_type": "code",
        "colab": {}
      },
      "source": [
        "% tensorflow_version 2.x"
      ],
      "execution_count": 21,
      "outputs": []
    },
    {
      "cell_type": "code",
      "metadata": {
        "id": "jYYT1Aux71K4",
        "colab_type": "code",
        "colab": {}
      },
      "source": [
        "import tensorflow\n",
        "import tensorflow as tf\n"
      ],
      "execution_count": 24,
      "outputs": []
    },
    {
      "cell_type": "code",
      "metadata": {
        "id": "6mqVRnLR7-H2",
        "colab_type": "code",
        "colab": {}
      },
      "source": [
        "from tensorflow.keras.models import Sequential\n",
        "from tensorflow.keras.layers import Dense, Dropout\n",
        "model = Sequential()\n",
        "model.add(Dense(14, activation = 'relu', input_shape=(29,)))\n",
        "model.add(Dropout(rate=0.1))\n",
        "model.add(Dense(14, activation = 'relu'))\n",
        "model.add(Dropout(rate=0.1))\n",
        "model.add(Dense(1, activation='sigmoid'))"
      ],
      "execution_count": 34,
      "outputs": []
    },
    {
      "cell_type": "code",
      "metadata": {
        "id": "zIRmCS338nmX",
        "colab_type": "code",
        "colab": {
          "base_uri": "https://localhost:8080/",
          "height": 329
        },
        "outputId": "40154e26-1bf4-4977-8646-1fd0c4297d30"
      },
      "source": [
        "model.summary()"
      ],
      "execution_count": 35,
      "outputs": [
        {
          "output_type": "stream",
          "text": [
            "Model: \"sequential_4\"\n",
            "_________________________________________________________________\n",
            "Layer (type)                 Output Shape              Param #   \n",
            "=================================================================\n",
            "dense_6 (Dense)              (None, 14)                420       \n",
            "_________________________________________________________________\n",
            "dropout_2 (Dropout)          (None, 14)                0         \n",
            "_________________________________________________________________\n",
            "dense_7 (Dense)              (None, 14)                210       \n",
            "_________________________________________________________________\n",
            "dropout_3 (Dropout)          (None, 14)                0         \n",
            "_________________________________________________________________\n",
            "dense_8 (Dense)              (None, 1)                 15        \n",
            "=================================================================\n",
            "Total params: 645\n",
            "Trainable params: 645\n",
            "Non-trainable params: 0\n",
            "_________________________________________________________________\n"
          ],
          "name": "stdout"
        }
      ]
    },
    {
      "cell_type": "code",
      "metadata": {
        "id": "uCJP6GOI8uF_",
        "colab_type": "code",
        "colab": {}
      },
      "source": [
        "model.compile(optimizer='adam', metrics = ['accuracy'], loss = 'binary_crossentropy')"
      ],
      "execution_count": 36,
      "outputs": []
    },
    {
      "cell_type": "code",
      "metadata": {
        "id": "GiEPRgxq9A65",
        "colab_type": "code",
        "colab": {}
      },
      "source": [
        "model.fit(X_train, y_train, \n",
        "    epochs = 100,\n",
        "    validation_data=(X_test, y_test))"
      ],
      "execution_count": null,
      "outputs": []
    },
    {
      "cell_type": "code",
      "metadata": {
        "id": "TwEWx6Qy9Lny",
        "colab_type": "code",
        "colab": {}
      },
      "source": [
        "y_pred = (model.predict(X_test) > 0.5).flatten().astype(int)"
      ],
      "execution_count": 43,
      "outputs": []
    },
    {
      "cell_type": "code",
      "metadata": {
        "id": "5s_sMGTC9uAi",
        "colab_type": "code",
        "colab": {
          "base_uri": "https://localhost:8080/",
          "height": 35
        },
        "outputId": "63f0f631-e973-4047-ae80-bb3fd40b01ff"
      },
      "source": [
        "from sklearn.metrics import accuracy_score, confusion_matrix\n",
        "accuracy_score(y_test, y_pred)"
      ],
      "execution_count": 45,
      "outputs": [
        {
          "output_type": "execute_result",
          "data": {
            "text/plain": [
              "0.999385555282469"
            ]
          },
          "metadata": {
            "tags": []
          },
          "execution_count": 45
        }
      ]
    },
    {
      "cell_type": "code",
      "metadata": {
        "id": "MQcLoCCF9-2B",
        "colab_type": "code",
        "colab": {
          "base_uri": "https://localhost:8080/",
          "height": 52
        },
        "outputId": "1e7a639d-0674-41ca-bf2e-80347a346fe8"
      },
      "source": [
        "confusion_matrix(y_test, y_pred)"
      ],
      "execution_count": 46,
      "outputs": [
        {
          "output_type": "execute_result",
          "data": {
            "text/plain": [
              "array([[56851,    13],\n",
              "       [   22,    76]])"
            ]
          },
          "metadata": {
            "tags": []
          },
          "execution_count": 46
        }
      ]
    },
    {
      "cell_type": "markdown",
      "metadata": {
        "id": "qIyKn4m6-KC4",
        "colab_type": "text"
      },
      "source": [
        "### Autoencoders"
      ]
    },
    {
      "cell_type": "code",
      "metadata": {
        "id": "kBPJcB67-Fug",
        "colab_type": "code",
        "colab": {}
      },
      "source": [
        "X_train = X_train[y_train ==0]"
      ],
      "execution_count": 48,
      "outputs": []
    },
    {
      "cell_type": "code",
      "metadata": {
        "id": "4WqH0BwM-ZSs",
        "colab_type": "code",
        "colab": {}
      },
      "source": [
        "\n",
        "input_dim = X_train.shape[1]"
      ],
      "execution_count": 49,
      "outputs": []
    },
    {
      "cell_type": "code",
      "metadata": {
        "id": "TZxiHiZU-oyL",
        "colab_type": "code",
        "colab": {
          "base_uri": "https://localhost:8080/",
          "height": 35
        },
        "outputId": "69742b0b-6fa0-4e21-c59b-8eb7ebf991d9"
      },
      "source": [
        "input_dim"
      ],
      "execution_count": 50,
      "outputs": [
        {
          "output_type": "execute_result",
          "data": {
            "text/plain": [
              "29"
            ]
          },
          "metadata": {
            "tags": []
          },
          "execution_count": 50
        }
      ]
    },
    {
      "cell_type": "code",
      "metadata": {
        "id": "cogkFNHh-pzK",
        "colab_type": "code",
        "colab": {}
      },
      "source": [
        "encoding_dim = 14"
      ],
      "execution_count": 51,
      "outputs": []
    },
    {
      "cell_type": "code",
      "metadata": {
        "id": "cK_TAaE_--dS",
        "colab_type": "code",
        "colab": {}
      },
      "source": [
        "from tensorflow.keras.layers import Input\n",
        "from tensorflow.keras import Model\n",
        "from tensorflow.keras import regularizers\n",
        "input_layer = Input(shape=(input_dim, ))\n",
        "\n",
        "encoder = Dense(encoding_dim, activation=\"tanh\", \n",
        "                activity_regularizer=regularizers.l1(10e-5))(input_layer)\n",
        "encoder = Dense(7, activation=\"relu\")(encoder)\n",
        "\n",
        "decoder = Dense(7, activation='tanh')(encoder)\n",
        "decoder = Dense(input_dim, activation='relu')(decoder)\n",
        "\n",
        "autoencoder = Model(inputs=input_layer, outputs=decoder)"
      ],
      "execution_count": 56,
      "outputs": []
    },
    {
      "cell_type": "code",
      "metadata": {
        "id": "TO8ymzAx_gmF",
        "colab_type": "code",
        "colab": {
          "base_uri": "https://localhost:8080/",
          "height": 384
        },
        "outputId": "68ef06fd-7262-4fda-a78d-257bd9c1daa4"
      },
      "source": [
        "from keras.callbacks import ModelCheckpoint\n",
        "nb_epoch = 10\n",
        "batch_size = 32\n",
        "\n",
        "autoencoder.compile(optimizer='adam', \n",
        "                    loss='mean_squared_error', \n",
        "                    metrics=['accuracy'])\n",
        "\n",
        "checkpointer = ModelCheckpoint(filepath=\"model.h5\",\n",
        "                               verbose=0,\n",
        "                               save_best_only=True)\n",
        "\n",
        "history = autoencoder.fit(X_train, X_train,\n",
        "                    epochs=nb_epoch,\n",
        "                    batch_size=batch_size,\n",
        "                    shuffle=True,\n",
        "                    validation_data=(X_test, X_test),\n",
        "                    verbose=1,\n",
        "                    callbacks=[checkpointer]).history"
      ],
      "execution_count": 59,
      "outputs": [
        {
          "output_type": "stream",
          "text": [
            "Epoch 1/10\n",
            "7108/7108 [==============================] - 11s 2ms/step - loss: 0.8223 - accuracy: 0.5735 - val_loss: 0.7787 - val_accuracy: 0.6792\n",
            "Epoch 2/10\n",
            "7108/7108 [==============================] - 11s 2ms/step - loss: 0.7371 - accuracy: 0.6904 - val_loss: 0.7590 - val_accuracy: 0.6981\n",
            "Epoch 3/10\n",
            "7108/7108 [==============================] - 11s 2ms/step - loss: 0.7240 - accuracy: 0.6964 - val_loss: 0.7510 - val_accuracy: 0.6993\n",
            "Epoch 4/10\n",
            "7108/7108 [==============================] - 11s 2ms/step - loss: 0.7170 - accuracy: 0.7030 - val_loss: 0.7476 - val_accuracy: 0.7042\n",
            "Epoch 5/10\n",
            "7108/7108 [==============================] - 11s 2ms/step - loss: 0.7134 - accuracy: 0.7074 - val_loss: 0.7434 - val_accuracy: 0.7140\n",
            "Epoch 6/10\n",
            "7108/7108 [==============================] - 11s 2ms/step - loss: 0.7115 - accuracy: 0.7097 - val_loss: 0.7433 - val_accuracy: 0.7188\n",
            "Epoch 7/10\n",
            "7108/7108 [==============================] - 11s 2ms/step - loss: 0.7094 - accuracy: 0.7135 - val_loss: 0.7409 - val_accuracy: 0.7179\n",
            "Epoch 8/10\n",
            "7108/7108 [==============================] - 11s 2ms/step - loss: 0.7078 - accuracy: 0.7157 - val_loss: 0.7402 - val_accuracy: 0.7180\n",
            "Epoch 9/10\n",
            "7108/7108 [==============================] - 11s 2ms/step - loss: 0.7062 - accuracy: 0.7172 - val_loss: 0.7404 - val_accuracy: 0.7176\n",
            "Epoch 10/10\n",
            "7108/7108 [==============================] - 11s 2ms/step - loss: 0.7044 - accuracy: 0.7200 - val_loss: 0.7374 - val_accuracy: 0.7248\n"
          ],
          "name": "stdout"
        }
      ]
    },
    {
      "cell_type": "markdown",
      "metadata": {
        "id": "sKBUo-G6ANgX",
        "colab_type": "text"
      },
      "source": [
        "### 評估模型"
      ]
    },
    {
      "cell_type": "code",
      "metadata": {
        "id": "eePvarLl_u-j",
        "colab_type": "code",
        "colab": {
          "base_uri": "https://localhost:8080/",
          "height": 313
        },
        "outputId": "2d19eeb7-c4ba-42ee-af50-22b7b00dac34"
      },
      "source": [
        "plt.plot(history['loss'])\n",
        "plt.plot(history['val_loss'])\n",
        "plt.title('model loss')\n",
        "plt.ylabel('loss')\n",
        "plt.xlabel('epoch')\n",
        "plt.legend(['train', 'test'], loc='upper right')"
      ],
      "execution_count": 60,
      "outputs": [
        {
          "output_type": "execute_result",
          "data": {
            "text/plain": [
              "<matplotlib.legend.Legend at 0x7f01c851a6d8>"
            ]
          },
          "metadata": {
            "tags": []
          },
          "execution_count": 60
        },
        {
          "output_type": "display_data",
          "data": {
            "image/png": "[encoded data removed]",
            "text/plain": [
              "<Figure size 432x288 with 1 Axes>"
            ]
          },
          "metadata": {
            "tags": [],
            "needs_background": "light"
          }
        }
      ]
    },
    {
      "cell_type": "code",
      "metadata": {
        "id": "kywMWKcGAQar",
        "colab_type": "code",
        "colab": {}
      },
      "source": [
        "predictions = autoencoder.predict(X_test)"
      ],
      "execution_count": 61,
      "outputs": []
    },
    {
      "cell_type": "code",
      "metadata": {
        "id": "BZhh8mEMAT97",
        "colab_type": "code",
        "colab": {
          "base_uri": "https://localhost:8080/",
          "height": 35
        },
        "outputId": "fc63e0fa-5085-461f-d021-20ae4117286a"
      },
      "source": [
        "predictions.shape"
      ],
      "execution_count": 65,
      "outputs": [
        {
          "output_type": "execute_result",
          "data": {
            "text/plain": [
              "(56962, 29)"
            ]
          },
          "metadata": {
            "tags": []
          },
          "execution_count": 65
        }
      ]
    },
    {
      "cell_type": "code",
      "metadata": {
        "id": "DMo53ViLAVcK",
        "colab_type": "code",
        "colab": {}
      },
      "source": [
        "import numpy as np\n",
        "mse = np.mean(np.power(X_test - predictions, 2), axis=1)\n",
        "error_df = pandas.DataFrame({'reconstruction_error': mse,\n",
        "                        'true_class': y_test})"
      ],
      "execution_count": 67,
      "outputs": []
    },
    {
      "cell_type": "code",
      "metadata": {
        "id": "Oxq4cISEAg94",
        "colab_type": "code",
        "colab": {
          "base_uri": "https://localhost:8080/",
          "height": 415
        },
        "outputId": "16e496e0-a4d6-45f1-ccc0-51d9d3e9b5ca"
      },
      "source": [
        "error_df"
      ],
      "execution_count": 68,
      "outputs": [
        {
          "output_type": "execute_result",
          "data": {
            "text/html": [
              "<div>\n",
              "<style scoped>\n",
              "    .dataframe tbody tr th:only-of-type {\n",
              "        vertical-align: middle;\n",
              "    }\n",
              "\n",
              "    .dataframe tbody tr th {\n",
              "        vertical-align: top;\n",
              "    }\n",
              "\n",
              "    .dataframe thead th {\n",
              "        text-align: right;\n",
              "    }\n",
              "</style>\n",
              "<table border=\"1\" class=\"dataframe\">\n",
              "  <thead>\n",
              "    <tr style=\"text-align: right;\">\n",
              "      <th></th>\n",
              "      <th>reconstruction_error</th>\n",
              "      <th>true_class</th>\n",
              "    </tr>\n",
              "  </thead>\n",
              "  <tbody>\n",
              "    <tr>\n",
              "      <th>43428</th>\n",
              "      <td>80.774561</td>\n",
              "      <td>1</td>\n",
              "    </tr>\n",
              "    <tr>\n",
              "      <th>49906</th>\n",
              "      <td>0.754743</td>\n",
              "      <td>0</td>\n",
              "    </tr>\n",
              "    <tr>\n",
              "      <th>29474</th>\n",
              "      <td>0.229801</td>\n",
              "      <td>0</td>\n",
              "    </tr>\n",
              "    <tr>\n",
              "      <th>276481</th>\n",
              "      <td>0.378687</td>\n",
              "      <td>0</td>\n",
              "    </tr>\n",
              "    <tr>\n",
              "      <th>278846</th>\n",
              "      <td>0.171890</td>\n",
              "      <td>0</td>\n",
              "    </tr>\n",
              "    <tr>\n",
              "      <th>...</th>\n",
              "      <td>...</td>\n",
              "      <td>...</td>\n",
              "    </tr>\n",
              "    <tr>\n",
              "      <th>75723</th>\n",
              "      <td>0.639550</td>\n",
              "      <td>0</td>\n",
              "    </tr>\n",
              "    <tr>\n",
              "      <th>252263</th>\n",
              "      <td>0.203675</td>\n",
              "      <td>0</td>\n",
              "    </tr>\n",
              "    <tr>\n",
              "      <th>221246</th>\n",
              "      <td>0.531668</td>\n",
              "      <td>0</td>\n",
              "    </tr>\n",
              "    <tr>\n",
              "      <th>81910</th>\n",
              "      <td>0.152339</td>\n",
              "      <td>0</td>\n",
              "    </tr>\n",
              "    <tr>\n",
              "      <th>59490</th>\n",
              "      <td>1.641981</td>\n",
              "      <td>0</td>\n",
              "    </tr>\n",
              "  </tbody>\n",
              "</table>\n",
              "<p>56962 rows × 2 columns</p>\n",
              "</div>"
            ],
            "text/plain": [
              "        reconstruction_error  true_class\n",
              "43428              80.774561           1\n",
              "49906               0.754743           0\n",
              "29474               0.229801           0\n",
              "276481              0.378687           0\n",
              "278846              0.171890           0\n",
              "...                      ...         ...\n",
              "75723               0.639550           0\n",
              "252263              0.203675           0\n",
              "221246              0.531668           0\n",
              "81910               0.152339           0\n",
              "59490               1.641981           0\n",
              "\n",
              "[56962 rows x 2 columns]"
            ]
          },
          "metadata": {
            "tags": []
          },
          "execution_count": 68
        }
      ]
    },
    {
      "cell_type": "code",
      "metadata": {
        "id": "mzUeNiinAlyo",
        "colab_type": "code",
        "colab": {}
      },
      "source": [
        "from sklearn.metrics import (confusion_matrix, precision_recall_curve, auc,\n",
        "                             roc_curve, recall_score, classification_report, f1_score,\n",
        "                             precision_recall_fscore_support)"
      ],
      "execution_count": 69,
      "outputs": []
    },
    {
      "cell_type": "code",
      "metadata": {
        "id": "LXskdAfSA3qG",
        "colab_type": "code",
        "colab": {
          "base_uri": "https://localhost:8080/",
          "height": 295
        },
        "outputId": "c3339383-7095-4936-f268-365fbd936f8f"
      },
      "source": [
        "fpr, tpr, thresholds = roc_curve(error_df.true_class, error_df.reconstruction_error)\n",
        "roc_auc = auc(fpr, tpr)\n",
        "\n",
        "plt.title('Receiver Operating Characteristic')\n",
        "plt.plot(fpr, tpr, label='AUC = %0.4f'% roc_auc)\n",
        "plt.legend(loc='lower right')\n",
        "plt.plot([0,1],[0,1],'r--')\n",
        "plt.xlim([-0.001, 1])\n",
        "plt.ylim([0, 1.001])\n",
        "plt.ylabel('True Positive Rate')\n",
        "plt.xlabel('False Positive Rate')\n",
        "plt.show()"
      ],
      "execution_count": 70,
      "outputs": [
        {
          "output_type": "display_data",
          "data": {
            "image/png": "[encoded data removed]",
            "text/plain": [
              "<Figure size 432x288 with 1 Axes>"
            ]
          },
          "metadata": {
            "tags": [],
            "needs_background": "light"
          }
        }
      ]
    },
    {
      "cell_type": "code",
      "metadata": {
        "id": "EtBJP1T6A7Bj",
        "colab_type": "code",
        "colab": {
          "base_uri": "https://localhost:8080/",
          "height": 52
        },
        "outputId": "6a5c0dbe-58b1-40ee-f54c-33e76b4b2000"
      },
      "source": [
        "threshold = 1.063395\n",
        "y_pred = [1 if e > threshold else 0 for e in error_df.reconstruction_error.values]\n",
        "conf_matrix = confusion_matrix(error_df.true_class, y_pred)\n",
        "conf_matrix"
      ],
      "execution_count": 134,
      "outputs": [
        {
          "output_type": "execute_result",
          "data": {
            "text/plain": [
              "array([[52136,  4728],\n",
              "       [    8,    90]])"
            ]
          },
          "metadata": {
            "tags": []
          },
          "execution_count": 134
        }
      ]
    },
    {
      "cell_type": "code",
      "metadata": {
        "id": "pgnc3r0OBSLi",
        "colab_type": "code",
        "colab": {
          "base_uri": "https://localhost:8080/",
          "height": 295
        },
        "outputId": "66400237-880b-495c-a880-aeda2ca7760f"
      },
      "source": [
        "groups = error_df.groupby('true_class')\n",
        "fig, ax = plt.subplots()\n",
        "\n",
        "for name, group in groups:\n",
        "    ax.plot(group.index, group.reconstruction_error, marker='o', ms=3.5, linestyle='',\n",
        "            label= \"Fraud\" if name == 1 else \"Normal\")\n",
        "ax.hlines(threshold, ax.get_xlim()[0], ax.get_xlim()[1], colors=\"r\", zorder=100, label='Threshold')\n",
        "ax.legend()\n",
        "plt.title(\"Reconstruction error for different classes\")\n",
        "plt.ylabel(\"Reconstruction error\")\n",
        "plt.xlabel(\"Data point index\")\n",
        "plt.show()"
      ],
      "execution_count": 72,
      "outputs": [
        {
          "output_type": "display_data",
          "data": {
            "image/png": "[encoded data removed]",
            "text/plain": [
              "<Figure size 432x288 with 1 Axes>"
            ]
          },
          "metadata": {
            "tags": [],
            "needs_background": "light"
          }
        }
      ]
    },
    {
      "cell_type": "code",
      "metadata": {
        "id": "fzrX-MY7BvJ-",
        "colab_type": "code",
        "colab": {}
      },
      "source": [
        "i = np.arange(len(tpr)) \n",
        "roc = pandas.DataFrame(\n",
        "    {'fpr'   : pandas.Series(fpr, index=i),\n",
        "     'tpr'   : pandas.Series(tpr, index = i), \n",
        "     '1-fpr' : pandas.Series(1-fpr, index = i), \n",
        "     'tf'    : pandas.Series(tpr - (1-fpr), index = i), \n",
        "     'thresholds' : pandas.Series(thresholds, index = i)})"
      ],
      "execution_count": 130,
      "outputs": []
    },
    {
      "cell_type": "code",
      "metadata": {
        "id": "yfBtGdoNX-L3",
        "colab_type": "code",
        "colab": {
          "base_uri": "https://localhost:8080/",
          "height": 225
        },
        "outputId": "ea2cdd13-e6f9-487c-e722-515df1119319"
      },
      "source": [
        "roc['tf'].abs().argsort()"
      ],
      "execution_count": 132,
      "outputs": [
        {
          "output_type": "execute_result",
          "data": {
            "text/plain": [
              "0        157\n",
              "1        158\n",
              "2        156\n",
              "3        155\n",
              "4        159\n",
              "        ... \n",
              "1008    1009\n",
              "1009    1010\n",
              "1010    1011\n",
              "1011       0\n",
              "1012    1012\n",
              "Name: tf, Length: 1013, dtype: int64"
            ]
          },
          "metadata": {
            "tags": []
          },
          "execution_count": 132
        }
      ]
    },
    {
      "cell_type": "code",
      "metadata": {
        "id": "BTZv5Fz8DUcV",
        "colab_type": "code",
        "colab": {
          "base_uri": "https://localhost:8080/",
          "height": 121
        },
        "outputId": "1eaf3c0d-cc37-4ec9-b973-0838ff110e93"
      },
      "source": [
        "roc.loc[(roc.tf-0).abs().argsort()[0]]"
      ],
      "execution_count": 133,
      "outputs": [
        {
          "output_type": "execute_result",
          "data": {
            "text/plain": [
              "fpr           0.083163\n",
              "tpr           0.918367\n",
              "1-fpr         0.916837\n",
              "tf            0.001531\n",
              "thresholds    1.063395\n",
              "Name: 157, dtype: float64"
            ]
          },
          "metadata": {
            "tags": []
          },
          "execution_count": 133
        }
      ]
    },
    {
      "cell_type": "code",
      "metadata": {
        "id": "sa7FANLGYaNs",
        "colab_type": "code",
        "colab": {
          "base_uri": "https://localhost:8080/",
          "height": 283
        },
        "outputId": "c36c5a32-0ae8-4091-93fa-761493a6ee55"
      },
      "source": [
        "plt.plot(range(len(roc)), roc['tpr']);\n",
        "plt.plot(range(len(roc)), roc['1-fpr'])"
      ],
      "execution_count": 141,
      "outputs": [
        {
          "output_type": "execute_result",
          "data": {
            "text/plain": [
              "[<matplotlib.lines.Line2D at 0x7f01bf3d3b00>]"
            ]
          },
          "metadata": {
            "tags": []
          },
          "execution_count": 141
        },
        {
          "output_type": "display_data",
          "data": {
            "image/png": "[encoded data removed]",
            "text/plain": [
              "<Figure size 432x288 with 1 Axes>"
            ]
          },
          "metadata": {
            "tags": [],
            "needs_background": "light"
          }
        }
      ]
    },
    {
      "cell_type": "markdown",
      "metadata": {
        "id": "QQNbN7ImKiEl",
        "colab_type": "text"
      },
      "source": [
        "## Leaky ReLU"
      ]
    },
    {
      "cell_type": "code",
      "metadata": {
        "id": "HkkbtKE5KmqZ",
        "colab_type": "code",
        "colab": {
          "base_uri": "https://localhost:8080/",
          "height": 35
        },
        "outputId": "4178f236-cfbb-4768-a2fe-98a29488964f"
      },
      "source": [
        "def relu_function(x):\n",
        "  return np.maximum(0,x)\n",
        "a = np.array([-1,1,2])\n",
        "relu_function(a)"
      ],
      "execution_count": 82,
      "outputs": [
        {
          "output_type": "execute_result",
          "data": {
            "text/plain": [
              "array([0, 1, 2])"
            ]
          },
          "metadata": {
            "tags": []
          },
          "execution_count": 82
        }
      ]
    },
    {
      "cell_type": "code",
      "metadata": {
        "id": "9oS4liN_LHFU",
        "colab_type": "code",
        "colab": {
          "base_uri": "https://localhost:8080/",
          "height": 283
        },
        "outputId": "efade516-59e8-4e83-ab40-4be1bc9dbf43"
      },
      "source": [
        "x = np.arange(-10,10,0.1)\n",
        "plt.plot(x, relu_function(x))"
      ],
      "execution_count": 83,
      "outputs": [
        {
          "output_type": "execute_result",
          "data": {
            "text/plain": [
              "[<matplotlib.lines.Line2D at 0x7f01c86ea898>]"
            ]
          },
          "metadata": {
            "tags": []
          },
          "execution_count": 83
        },
        {
          "output_type": "display_data",
          "data": {
            "image/png": "[encoded data removed]",
            "text/plain": [
              "<Figure size 432x288 with 1 Axes>"
            ]
          },
          "metadata": {
            "tags": [],
            "needs_background": "light"
          }
        }
      ]
    },
    {
      "cell_type": "code",
      "metadata": {
        "id": "Y2RSXsumLQJU",
        "colab_type": "code",
        "colab": {
          "base_uri": "https://localhost:8080/",
          "height": 35
        },
        "outputId": "42ffff4c-0624-4a4e-b650-a96db1dc10c2"
      },
      "source": [
        "def leaky_relu(z, alpha =0.01):\n",
        "  return np.maximum(z, alpha * z)\n",
        "\n",
        "leaky_relu(a)"
      ],
      "execution_count": 84,
      "outputs": [
        {
          "output_type": "execute_result",
          "data": {
            "text/plain": [
              "array([-0.01,  1.  ,  2.  ])"
            ]
          },
          "metadata": {
            "tags": []
          },
          "execution_count": 84
        }
      ]
    },
    {
      "cell_type": "markdown",
      "metadata": {
        "id": "tq4j7VYsN9Yo",
        "colab_type": "text"
      },
      "source": [
        "## Over saturation"
      ]
    },
    {
      "cell_type": "code",
      "metadata": {
        "id": "WPpwgoZcOAQK",
        "colab_type": "code",
        "colab": {
          "base_uri": "https://localhost:8080/",
          "height": 283
        },
        "outputId": "eb70f81c-a721-4c96-9195-3d2dd92682a1"
      },
      "source": [
        "def sigmoid(x):\n",
        "  return 1 / (1 + np.exp(-x))\n",
        "x = np.arange(-10,10,0.1)\n",
        "plt.plot(x, sigmoid(x))"
      ],
      "execution_count": 90,
      "outputs": [
        {
          "output_type": "execute_result",
          "data": {
            "text/plain": [
              "[<matplotlib.lines.Line2D at 0x7f01c643e8d0>]"
            ]
          },
          "metadata": {
            "tags": []
          },
          "execution_count": 90
        },
        {
          "output_type": "display_data",
          "data": {
            "image/png": "[encoded data removed]",
            "text/plain": [
              "<Figure size 432x288 with 1 Axes>"
            ]
          },
          "metadata": {
            "tags": [],
            "needs_background": "light"
          }
        }
      ]
    },
    {
      "cell_type": "code",
      "metadata": {
        "id": "8xGsej5nOPx5",
        "colab_type": "code",
        "colab": {
          "base_uri": "https://localhost:8080/",
          "height": 107
        },
        "outputId": "c6d67392-a59b-4c27-f052-e53b89c680d9"
      },
      "source": [
        "x1 = np.array([-1000,-100,-10,-1,1,10,100, 1000])\n",
        "sigmoid(x1)\n",
        "\n",
        "sigmoid((x1 - x1.mean()) / x1.std())"
      ],
      "execution_count": 94,
      "outputs": [
        {
          "output_type": "stream",
          "text": [
            "/usr/local/lib/python3.6/dist-packages/ipykernel_launcher.py:2: RuntimeWarning: overflow encountered in exp\n",
            "  \n"
          ],
          "name": "stderr"
        },
        {
          "output_type": "execute_result",
          "data": {
            "text/plain": [
              "array([0.12025952, 0.45041415, 0.49502523, 0.49950251, 0.50049749,\n",
              "       0.50497477, 0.54958585, 0.87974048])"
            ]
          },
          "metadata": {
            "tags": []
          },
          "execution_count": 94
        }
      ]
    },
    {
      "cell_type": "markdown",
      "metadata": {
        "id": "A_JdMFZKJ4lJ",
        "colab_type": "text"
      },
      "source": [
        "## GAN"
      ]
    },
    {
      "cell_type": "code",
      "metadata": {
        "id": "j2riYNXTDesQ",
        "colab_type": "code",
        "colab": {}
      },
      "source": [
        "from tensorflow.keras.datasets import mnist\n",
        "from tensorflow.keras.layers import Input, Dense, Reshape, Flatten, Dropout\n",
        "from tensorflow.keras.layers import BatchNormalization, Activation, ZeroPadding2D\n",
        "from tensorflow.keras.layers import LeakyReLU\n",
        "from tensorflow.keras.layers import UpSampling2D, Conv2D\n",
        "from tensorflow.keras.models import Sequential, Model\n",
        "from tensorflow.keras.optimizers import Adam\n",
        "\n",
        "import matplotlib.pyplot as plt\n",
        "\n",
        "import sys\n",
        "\n",
        "import numpy as np"
      ],
      "execution_count": 17,
      "outputs": []
    },
    {
      "cell_type": "code",
      "metadata": {
        "id": "JkF80h6KKNOT",
        "colab_type": "code",
        "colab": {}
      },
      "source": [
        "img_rows = 28\n",
        "img_cols = 28\n",
        "channels = 1\n",
        "img_shape = (img_rows, img_cols, channels)\n",
        "\n",
        "latent_dim = 100"
      ],
      "execution_count": 81,
      "outputs": []
    },
    {
      "cell_type": "code",
      "metadata": {
        "id": "3TZCTzQyKSxy",
        "colab_type": "code",
        "colab": {}
      },
      "source": [
        "def build_discriminator():\n",
        "\n",
        "    model = Sequential()\n",
        "\n",
        "    model.add(Flatten(input_shape=img_shape))\n",
        "    model.add(Dense(512))\n",
        "    model.add(LeakyReLU(alpha=0.2))\n",
        "    model.add(Dense(256))\n",
        "    model.add(LeakyReLU(alpha=0.2))\n",
        "    model.add(Dense(1, activation='sigmoid'))\n",
        "    model.summary()\n",
        "\n",
        "    img = Input(shape=img_shape)\n",
        "    validity = model(img)\n",
        "\n",
        "    return Model(img, validity)"
      ],
      "execution_count": 85,
      "outputs": []
    },
    {
      "cell_type": "code",
      "metadata": {
        "id": "gu0DkjWtL9f2",
        "colab_type": "code",
        "colab": {
          "base_uri": "https://localhost:8080/",
          "height": 364
        },
        "outputId": "af6d8345-38fa-499c-c2a8-2a9e60bfe68c"
      },
      "source": [
        "optimizer = Adam(0.0002, 0.5)\n",
        "\n",
        "# Build and compile the discriminator\n",
        "discriminator = build_discriminator()"
      ],
      "execution_count": 86,
      "outputs": [
        {
          "output_type": "stream",
          "text": [
            "Model: \"sequential_5\"\n",
            "_________________________________________________________________\n",
            "Layer (type)                 Output Shape              Param #   \n",
            "=================================================================\n",
            "flatten (Flatten)            (None, 784)               0         \n",
            "_________________________________________________________________\n",
            "dense_17 (Dense)             (None, 512)               401920    \n",
            "_________________________________________________________________\n",
            "leaky_re_lu (LeakyReLU)      (None, 512)               0         \n",
            "_________________________________________________________________\n",
            "dense_18 (Dense)             (None, 256)               131328    \n",
            "_________________________________________________________________\n",
            "leaky_re_lu_1 (LeakyReLU)    (None, 256)               0         \n",
            "_________________________________________________________________\n",
            "dense_19 (Dense)             (None, 1)                 257       \n",
            "=================================================================\n",
            "Total params: 533,505\n",
            "Trainable params: 533,505\n",
            "Non-trainable params: 0\n",
            "_________________________________________________________________\n"
          ],
          "name": "stdout"
        }
      ]
    },
    {
      "cell_type": "code",
      "metadata": {
        "id": "jsmcEU_ZMjXD",
        "colab_type": "code",
        "colab": {}
      },
      "source": [
        "discriminator.compile(loss='binary_crossentropy',\n",
        "    optimizer=optimizer,\n",
        "    metrics=['accuracy'])"
      ],
      "execution_count": 87,
      "outputs": []
    },
    {
      "cell_type": "code",
      "metadata": {
        "id": "48cutWTUMq8i",
        "colab_type": "code",
        "colab": {}
      },
      "source": [
        "def build_generator():\n",
        "\n",
        "    model = Sequential()\n",
        "\n",
        "    model.add(Dense(256, input_dim=latent_dim))\n",
        "    model.add(LeakyReLU(alpha=0.2))\n",
        "    model.add(BatchNormalization())\n",
        "    model.add(Dense(512))\n",
        "    model.add(LeakyReLU(alpha=0.2))\n",
        "    model.add(BatchNormalization())\n",
        "    model.add(Dense(1024))\n",
        "    model.add(LeakyReLU(alpha=0.2))\n",
        "    model.add(BatchNormalization())\n",
        "    model.add(Dense(np.prod(img_shape), activation='tanh'))\n",
        "    model.add(Reshape(img_shape))\n",
        "\n",
        "    model.summary()\n",
        "\n",
        "    noise = Input(shape=(latent_dim,))\n",
        "    img = model(noise)\n",
        "\n",
        "    return Model(noise, img)"
      ],
      "execution_count": 95,
      "outputs": []
    },
    {
      "cell_type": "code",
      "metadata": {
        "id": "88mJg354M09B",
        "colab_type": "code",
        "colab": {
          "base_uri": "https://localhost:8080/",
          "height": 537
        },
        "outputId": "079e4bf5-19c3-4e41-8ee2-d6688d027fd3"
      },
      "source": [
        "# Build the generator\n",
        "generator = build_generator()"
      ],
      "execution_count": 96,
      "outputs": [
        {
          "output_type": "stream",
          "text": [
            "Model: \"sequential_6\"\n",
            "_________________________________________________________________\n",
            "Layer (type)                 Output Shape              Param #   \n",
            "=================================================================\n",
            "dense_20 (Dense)             (None, 256)               25856     \n",
            "_________________________________________________________________\n",
            "leaky_re_lu_2 (LeakyReLU)    (None, 256)               0         \n",
            "_________________________________________________________________\n",
            "batch_normalization (BatchNo (None, 256)               1024      \n",
            "_________________________________________________________________\n",
            "dense_21 (Dense)             (None, 512)               131584    \n",
            "_________________________________________________________________\n",
            "leaky_re_lu_3 (LeakyReLU)    (None, 512)               0         \n",
            "_________________________________________________________________\n",
            "batch_normalization_1 (Batch (None, 512)               2048      \n",
            "_________________________________________________________________\n",
            "dense_22 (Dense)             (None, 1024)              525312    \n",
            "_________________________________________________________________\n",
            "leaky_re_lu_4 (LeakyReLU)    (None, 1024)              0         \n",
            "_________________________________________________________________\n",
            "batch_normalization_2 (Batch (None, 1024)              4096      \n",
            "_________________________________________________________________\n",
            "dense_23 (Dense)             (None, 784)               803600    \n",
            "_________________________________________________________________\n",
            "reshape (Reshape)            (None, 28, 28, 1)         0         \n",
            "=================================================================\n",
            "Total params: 1,493,520\n",
            "Trainable params: 1,489,936\n",
            "Non-trainable params: 3,584\n",
            "_________________________________________________________________\n"
          ],
          "name": "stdout"
        }
      ]
    },
    {
      "cell_type": "code",
      "metadata": {
        "id": "kGUCkFbqPUJV",
        "colab_type": "code",
        "colab": {
          "base_uri": "https://localhost:8080/",
          "height": 35
        },
        "outputId": "33aa3cc3-4b28-4f25-80d4-1c9cd43ddc91"
      },
      "source": [
        "z = Input(shape=(latent_dim,))\n",
        "img = generator(z)\n",
        "img.shape"
      ],
      "execution_count": 97,
      "outputs": [
        {
          "output_type": "execute_result",
          "data": {
            "text/plain": [
              "TensorShape([None, 28, 28, 1])"
            ]
          },
          "metadata": {
            "tags": []
          },
          "execution_count": 97
        }
      ]
    },
    {
      "cell_type": "code",
      "metadata": {
        "id": "TpG4zsg2PWLE",
        "colab_type": "code",
        "colab": {}
      },
      "source": [
        "# For the combined model we will only train the generator\n",
        "discriminator.trainable = False\n",
        "\n",
        "# The discriminator takes generated images as input and determines validity\n",
        "validity = discriminator(img)\n",
        "\n",
        "# The combined model  (stacked generator and discriminator)\n",
        "# Trains the generator to fool the discriminator\n",
        "combined = Model(z, validity)\n",
        "combined.compile(loss='binary_crossentropy', optimizer=optimizer)"
      ],
      "execution_count": 98,
      "outputs": []
    },
    {
      "cell_type": "code",
      "metadata": {
        "id": "381BN892P8KE",
        "colab_type": "code",
        "colab": {}
      },
      "source": [
        "def sample_images(epoch):\n",
        "    r, c = 5, 5\n",
        "    noise = np.random.normal(0, 1, (r * c, latent_dim))\n",
        "    gen_imgs = generator.predict(noise)\n",
        "\n",
        "    # Rescale images 0 - 1\n",
        "    gen_imgs = 0.5 * gen_imgs + 0.5\n",
        "\n",
        "    fig, axs = plt.subplots(r, c)\n",
        "    cnt = 0\n",
        "    for i in range(r):\n",
        "        for j in range(c):\n",
        "            axs[i,j].imshow(gen_imgs[cnt, :,:,0], cmap='gray')\n",
        "            axs[i,j].axis('off')\n",
        "            cnt += 1\n",
        "    fig.savefig(\"/content/images/%d.png\" % epoch)\n",
        "    plt.close()"
      ],
      "execution_count": 102,
      "outputs": []
    },
    {
      "cell_type": "code",
      "metadata": {
        "id": "dhcEgHzWPy9p",
        "colab_type": "code",
        "colab": {}
      },
      "source": [
        "def train(epochs, batch_size=128, sample_interval=50):\n",
        "\n",
        "    # Load the dataset\n",
        "    (X_train, _), (_, _) = mnist.load_data()\n",
        "\n",
        "    # Rescale -1 to 1\n",
        "    X_train = X_train / 127.5 - 1.\n",
        "    X_train = np.expand_dims(X_train, axis=3)\n",
        "\n",
        "    # Adversarial ground truths\n",
        "    valid = np.ones((batch_size, 1))\n",
        "    fake = np.zeros((batch_size, 1))\n",
        "\n",
        "    for epoch in range(epochs):\n",
        "\n",
        "        # ---------------------\n",
        "        #  Train Discriminator\n",
        "        # ---------------------\n",
        "\n",
        "        # Select a random batch of images\n",
        "        idx = np.random.randint(0, X_train.shape[0], batch_size)\n",
        "        imgs = X_train[idx]\n",
        "\n",
        "        noise = np.random.normal(0, 1, (batch_size, latent_dim))\n",
        "\n",
        "        # Generate a batch of new images\n",
        "        gen_imgs = generator.predict(noise)\n",
        "\n",
        "        # Train the discriminator\n",
        "        d_loss_real = discriminator.train_on_batch(imgs, valid)\n",
        "        d_loss_fake = discriminator.train_on_batch(gen_imgs, fake)\n",
        "        d_loss = 0.5 * np.add(d_loss_real, d_loss_fake)\n",
        "\n",
        "        # ---------------------\n",
        "        #  Train Generator\n",
        "        # ---------------------\n",
        "\n",
        "        noise = np.random.normal(0, 1, (batch_size, latent_dim))\n",
        "\n",
        "        # Train the generator (to have the discriminator label samples as valid)\n",
        "        g_loss = combined.train_on_batch(noise, valid)\n",
        "\n",
        "        # Plot the progress\n",
        "        print (\"%d [D loss: %f, acc.: %.2f%%] [G loss: %f]\" % (epoch, d_loss[0], 100*d_loss[1], g_loss))\n",
        "\n",
        "        # If at save interval => save generated image samples\n",
        "        if epoch % sample_interval == 0:\n",
        "            sample_images(epoch)\n"
      ],
      "execution_count": 103,
      "outputs": []
    },
    {
      "cell_type": "code",
      "metadata": {
        "id": "PtmgCJ5nQjqu",
        "colab_type": "code",
        "colab": {}
      },
      "source": [
        "! rm -rf /content/images\n",
        "! mkdir /content/images"
      ],
      "execution_count": 104,
      "outputs": []
    },
    {
      "cell_type": "code",
      "metadata": {
        "id": "JIX5XbV1Qmdb",
        "colab_type": "code",
        "colab": {}
      },
      "source": [
        "\n",
        "train(1000, batch_size=128, sample_interval=50)"
      ],
      "execution_count": null,
      "outputs": []
    },
    {
      "cell_type": "code",
      "metadata": {
        "id": "irUKCH9FQoQc",
        "colab_type": "code",
        "colab": {}
      },
      "source": [
        "n1 = np.random.normal(0, 1, (1, latent_dim))"
      ],
      "execution_count": 125,
      "outputs": []
    },
    {
      "cell_type": "code",
      "metadata": {
        "id": "Wco15zECSsKE",
        "colab_type": "code",
        "colab": {}
      },
      "source": [
        "#n1"
      ],
      "execution_count": 126,
      "outputs": []
    },
    {
      "cell_type": "code",
      "metadata": {
        "id": "TjJ9HOjoSspR",
        "colab_type": "code",
        "colab": {}
      },
      "source": [
        "gen_imgs = generator.predict(n1)"
      ],
      "execution_count": 127,
      "outputs": []
    },
    {
      "cell_type": "code",
      "metadata": {
        "id": "CorjmvFpSx9x",
        "colab_type": "code",
        "colab": {}
      },
      "source": [
        "gen_imgs = 0.5 * gen_imgs + 0.5\n",
        "\n",
        "   "
      ],
      "execution_count": 128,
      "outputs": []
    },
    {
      "cell_type": "code",
      "metadata": {
        "id": "8KjXTJw1TDRv",
        "colab_type": "code",
        "colab": {
          "base_uri": "https://localhost:8080/",
          "height": 283
        },
        "outputId": "01028dbb-1b58-43a7-c29b-3434a1375bb0"
      },
      "source": [
        "\n",
        "plt.imshow(gen_imgs[0, :,:,0], cmap='gray')"
      ],
      "execution_count": 129,
      "outputs": [
        {
          "output_type": "execute_result",
          "data": {
            "text/plain": [
              "<matplotlib.image.AxesImage at 0x7f01bf4352b0>"
            ]
          },
          "metadata": {
            "tags": []
          },
          "execution_count": 129
        },
        {
          "output_type": "display_data",
          "data": {
            "image/png": "[encoded data removed]",
            "text/plain": [
              "<Figure size 432x288 with 1 Axes>"
            ]
          },
          "metadata": {
            "tags": [],
            "needs_background": "light"
          }
        }
      ]
    },
    {
      "cell_type": "markdown",
      "metadata": {
        "id": "klMWcQOqaL6C",
        "colab_type": "text"
      },
      "source": [
        "## CelebA"
      ]
    },
    {
      "cell_type": "code",
      "metadata": {
        "id": "CdxjCWIZaXw-",
        "colab_type": "code",
        "colab": {
          "base_uri": "https://localhost:8080/",
          "height": 52
        },
        "outputId": "7f892164-e9c2-4aea-e15e-db86322ef760"
      },
      "source": [
        "! gdown https://drive.google.com/uc?id=0B7EVK8r0v71pZjFTYXZWM3FlRnM"
      ],
      "execution_count": 2,
      "outputs": [
        {
          "output_type": "stream",
          "text": [
            "Permission denied: https://drive.google.com/uc?id=0B7EVK8r0v71pZjFTYXZWM3FlRnM\n",
            "Maybe you need to change permission over 'Anyone with the link'?\n"
          ],
          "name": "stdout"
        }
      ]
    },
    {
      "cell_type": "code",
      "metadata": {
        "id": "LXjOL325agru",
        "colab_type": "code",
        "colab": {}
      },
      "source": [
        "! unzip img_align_celeba.zip > 1.log"
      ],
      "execution_count": 143,
      "outputs": []
    },
    {
      "cell_type": "markdown",
      "metadata": {
        "id": "YZxNls_jtgZE",
        "colab_type": "text"
      },
      "source": [
        "## DCGAN"
      ]
    },
    {
      "cell_type": "code",
      "metadata": {
        "id": "rjIwE4eCalmL",
        "colab_type": "code",
        "colab": {}
      },
      "source": [
        "\n",
        "from tensorflow.keras.datasets import mnist\n",
        "from tensorflow.keras.layers import Input, Dense, Reshape, Flatten, Dropout\n",
        "from tensorflow.keras.layers import BatchNormalization, Activation, ZeroPadding2D\n",
        "from tensorflow.keras.layers import UpSampling2D, Conv2D\n",
        "from tensorflow.keras.models import Sequential, Model\n",
        "from tensorflow.keras.optimizers import Adam\n",
        "\n",
        "import matplotlib.pyplot as plt\n",
        "\n",
        "import sys\n",
        "\n",
        "import numpy as np"
      ],
      "execution_count": 10,
      "outputs": []
    },
    {
      "cell_type": "code",
      "metadata": {
        "id": "QEB68NA6thr3",
        "colab_type": "code",
        "colab": {}
      },
      "source": [
        "class DCGAN():\n",
        "    def __init__(self):\n",
        "        # Input shape\n",
        "        self.img_rows = 28\n",
        "        self.img_cols = 28\n",
        "        self.channels = 1\n",
        "        self.img_shape = (self.img_rows, self.img_cols, self.channels)\n",
        "        self.latent_dim = 100\n",
        "\n",
        "        optimizer = Adam(0.0002, 0.5)\n",
        "\n",
        "        # Build and compile the discriminator\n",
        "        self.discriminator = self.build_discriminator()\n",
        "        self.discriminator.compile(loss='binary_crossentropy',\n",
        "            optimizer=optimizer,\n",
        "            metrics=['accuracy'])\n",
        "\n",
        "        # Build the generator\n",
        "        self.generator = self.build_generator()\n",
        "\n",
        "        # The generator takes noise as input and generates imgs\n",
        "        z = Input(shape=(self.latent_dim,))\n",
        "        img = self.generator(z)\n",
        "\n",
        "        # For the combined model we will only train the generator\n",
        "        self.discriminator.trainable = False\n",
        "\n",
        "        # The discriminator takes generated images as input and determines validity\n",
        "        valid = self.discriminator(img)\n",
        "\n",
        "        # The combined model  (stacked generator and discriminator)\n",
        "        # Trains the generator to fool the discriminator\n",
        "        self.combined = Model(z, valid)\n",
        "        self.combined.compile(loss='binary_crossentropy', optimizer=optimizer)\n",
        "\n",
        "    def build_generator(self):\n",
        "\n",
        "        model = Sequential()\n",
        "\n",
        "        model.add(Dense(128 * 7 * 7, activation=\"relu\", input_dim=self.latent_dim))\n",
        "        model.add(Reshape((7, 7, 128)))\n",
        "        model.add(UpSampling2D())\n",
        "        model.add(Conv2D(128, kernel_size=3, padding=\"same\"))\n",
        "        model.add(BatchNormalization(momentum=0.8))\n",
        "        model.add(Activation(\"relu\"))\n",
        "        model.add(UpSampling2D())\n",
        "        model.add(Conv2D(64, kernel_size=3, padding=\"same\"))\n",
        "        model.add(BatchNormalization(momentum=0.8))\n",
        "        model.add(Activation(\"relu\"))\n",
        "        model.add(Conv2D(self.channels, kernel_size=3, padding=\"same\"))\n",
        "        model.add(Activation(\"tanh\"))\n",
        "\n",
        "        model.summary()\n",
        "\n",
        "        noise = Input(shape=(self.latent_dim,))\n",
        "        img = model(noise)\n",
        "\n",
        "        return Model(noise, img)\n",
        "\n",
        "    def build_discriminator(self):\n",
        "\n",
        "        model = Sequential()\n",
        "\n",
        "        model.add(Conv2D(32, kernel_size=3, strides=2, input_shape=self.img_shape, padding=\"same\"))\n",
        "        model.add(LeakyReLU(alpha=0.2))\n",
        "        model.add(Dropout(0.25))\n",
        "        model.add(Conv2D(64, kernel_size=3, strides=2, padding=\"same\"))\n",
        "        model.add(ZeroPadding2D(padding=((0,1),(0,1))))\n",
        "        model.add(BatchNormalization(momentum=0.8))\n",
        "        model.add(LeakyReLU(alpha=0.2))\n",
        "        model.add(Dropout(0.25))\n",
        "        model.add(Conv2D(128, kernel_size=3, strides=2, padding=\"same\"))\n",
        "        model.add(BatchNormalization(momentum=0.8))\n",
        "        model.add(LeakyReLU(alpha=0.2))\n",
        "        model.add(Dropout(0.25))\n",
        "        model.add(Conv2D(256, kernel_size=3, strides=1, padding=\"same\"))\n",
        "        model.add(BatchNormalization(momentum=0.8))\n",
        "        model.add(LeakyReLU(alpha=0.2))\n",
        "        model.add(Dropout(0.25))\n",
        "        model.add(Flatten())\n",
        "        model.add(Dense(1, activation='sigmoid'))\n",
        "\n",
        "        model.summary()\n",
        "\n",
        "        img = Input(shape=self.img_shape)\n",
        "        validity = model(img)\n",
        "\n",
        "        return Model(img, validity)\n",
        "\n",
        "    def train(self, epochs, batch_size=128, save_interval=50):\n",
        "\n",
        "        # Load the dataset\n",
        "        (X_train, _), (_, _) = mnist.load_data()\n",
        "\n",
        "        # Rescale -1 to 1\n",
        "        X_train = X_train / 127.5 - 1.\n",
        "        X_train = np.expand_dims(X_train, axis=3)\n",
        "\n",
        "        # Adversarial ground truths\n",
        "        valid = np.ones((batch_size, 1))\n",
        "        fake = np.zeros((batch_size, 1))\n",
        "\n",
        "        for epoch in range(epochs):\n",
        "\n",
        "            # ---------------------\n",
        "            #  Train Discriminator\n",
        "            # ---------------------\n",
        "\n",
        "            # Select a random half of images\n",
        "            idx = np.random.randint(0, X_train.shape[0], batch_size)\n",
        "            imgs = X_train[idx]\n",
        "\n",
        "            # Sample noise and generate a batch of new images\n",
        "            noise = np.random.normal(0, 1, (batch_size, self.latent_dim))\n",
        "            gen_imgs = self.generator.predict(noise)\n",
        "\n",
        "            # Train the discriminator (real classified as ones and generated as zeros)\n",
        "            d_loss_real = self.discriminator.train_on_batch(imgs, valid)\n",
        "            d_loss_fake = self.discriminator.train_on_batch(gen_imgs, fake)\n",
        "            d_loss = 0.5 * np.add(d_loss_real, d_loss_fake)\n",
        "\n",
        "            # ---------------------\n",
        "            #  Train Generator\n",
        "            # ---------------------\n",
        "\n",
        "            # Train the generator (wants discriminator to mistake images as real)\n",
        "            g_loss = self.combined.train_on_batch(noise, valid)\n",
        "\n",
        "            # Plot the progress\n",
        "            print (\"%d [D loss: %f, acc.: %.2f%%] [G loss: %f]\" % (epoch, d_loss[0], 100*d_loss[1], g_loss))\n",
        "\n",
        "            # If at save interval => save generated image samples\n",
        "            if epoch % save_interval == 0:\n",
        "                self.save_imgs(epoch)\n",
        "\n",
        "    def save_imgs(self, epoch):\n",
        "        r, c = 5, 5\n",
        "        noise = np.random.normal(0, 1, (r * c, self.latent_dim))\n",
        "        gen_imgs = self.generator.predict(noise)\n",
        "\n",
        "        # Rescale images 0 - 1\n",
        "        gen_imgs = 0.5 * gen_imgs + 0.5\n",
        "\n",
        "        fig, axs = plt.subplots(r, c)\n",
        "        cnt = 0\n",
        "        for i in range(r):\n",
        "            for j in range(c):\n",
        "                axs[i,j].imshow(gen_imgs[cnt, :,:,0], cmap='gray')\n",
        "                axs[i,j].axis('off')\n",
        "                cnt += 1\n",
        "        fig.savefig(\"images/mnist_%d.png\" % epoch)\n",
        "        plt.close()\n",
        "\n",
        "\n",
        "dcgan = DCGAN()\n",
        "dcgan.train(epochs=4000, batch_size=32, save_interval=50)"
      ],
      "execution_count": null,
      "outputs": []
    },
    {
      "cell_type": "markdown",
      "metadata": {
        "id": "BlFy_UjKwsl9",
        "colab_type": "text"
      },
      "source": [
        "## 明星圖片生成"
      ]
    },
    {
      "cell_type": "code",
      "metadata": {
        "id": "-hCQUNgIw1jV",
        "colab_type": "code",
        "colab": {}
      },
      "source": [
        "def load_dataset(dataset_path, batch_size, image_shape):\n",
        "    dataset_generator = ImageDataGenerator()\n",
        "    dataset_generator = dataset_generator.flow_from_directory(\n",
        "        dataset_path, target_size=(image_shape[0], image_shape[1]),\n",
        "        batch_size=batch_size,\n",
        "        class_mode=None)\n",
        "\n",
        "    return dataset_generator"
      ],
      "execution_count": 11,
      "outputs": []
    },
    {
      "cell_type": "code",
      "metadata": {
        "id": "cjUQhuviw24Y",
        "colab_type": "code",
        "colab": {}
      },
      "source": [
        "def build_generator():\n",
        "\n",
        "    model = Sequential()\n",
        "\n",
        "    model.add(Dense(units=4 * 4 * 512,\n",
        "                   input_shape=(1, 1, 100)))\n",
        "    model.add(Reshape(target_shape=(4, 4, 512)))\n",
        "    model.add(BatchNormalization(momentum=0.5))\n",
        "    model.add(Activation('relu'))\n",
        "\n",
        "    model.add(Conv2DTranspose(filters=256, kernel_size=(5, 5),\n",
        "                                  strides=(2, 2), padding='same'))\n",
        "    model.add(BatchNormalization(momentum=0.5))\n",
        "    model.add(Activation('relu'))\n",
        "\n",
        "    model.add(Conv2DTranspose(filters=128, kernel_size=(5, 5),\n",
        "                                  strides=(2, 2), padding='same'))\n",
        "    model.add(BatchNormalization(momentum=0.5))\n",
        "    model.add(Activation('relu'))\n",
        "\n",
        "    model.add(Conv2DTranspose(filters=64, kernel_size=(5, 5),\n",
        "                                  strides=(2, 2), padding='same'))\n",
        "    model.add(BatchNormalization(momentum=0.5))\n",
        "    model.add(Activation('relu'))\n",
        "\n",
        "    model.add(Conv2DTranspose(filters=3, kernel_size=(5, 5),\n",
        "                                  strides=(2, 2), padding='same'))\n",
        "    model.add(Activation('tanh'))\n",
        "    model.summary()\n",
        "    optimizer = Adam(lr=0.00015, beta_1=0.5)\n",
        "    model.compile(loss='binary_crossentropy',\n",
        "                      optimizer=optimizer,\n",
        "                      metrics=None)\n",
        "\n",
        "    return model"
      ],
      "execution_count": 12,
      "outputs": []
    },
    {
      "cell_type": "code",
      "metadata": {
        "id": "U3eTvYIuw-N4",
        "colab_type": "code",
        "colab": {}
      },
      "source": [
        "def build_discriminator():\n",
        "\n",
        "    model = Sequential()\n",
        "    \n",
        "    image_shape = (64, 64, 3)\n",
        "    model.add(Conv2D(filters=64, kernel_size=(5, 5),\n",
        "                             strides=(2, 2), padding='same',\n",
        "                             input_shape=(image_shape)))\n",
        "    model.add(LeakyReLU(0.2))\n",
        "\n",
        "    model.add(Conv2D(filters=128, kernel_size=(5, 5),\n",
        "                             strides=(2, 2), padding='same'))\n",
        "    model.add(BatchNormalization(momentum=0.5))\n",
        "    model.add(LeakyReLU(0.2))\n",
        "\n",
        "    model.add(Conv2D(filters=256, kernel_size=(5, 5),\n",
        "                             strides=(2, 2), padding='same'))\n",
        "    model.add(BatchNormalization(momentum=0.5))\n",
        "    model.add(LeakyReLU(0.2))\n",
        "\n",
        "    model.add(Conv2D(filters=512, kernel_size=(5, 5),\n",
        "                             strides=(2, 2), padding='same'))\n",
        "    model.add(BatchNormalization(momentum=0.5))\n",
        "    model.add(LeakyReLU(0.2))\n",
        "\n",
        "    model.add(Flatten())\n",
        "    model.add(Dense(1))\n",
        "    model.add(Activation('sigmoid'))\n",
        "    model.summary()\n",
        "\n",
        "    optimizer = Adam(lr=0.0002, beta_1=0.5)\n",
        "    model.compile(loss='binary_crossentropy',\n",
        "                          optimizer=optimizer,\n",
        "                          metrics=None)\n",
        "\n",
        "    return model"
      ],
      "execution_count": 13,
      "outputs": []
    },
    {
      "cell_type": "code",
      "metadata": {
        "id": "LU2uqOphxI13",
        "colab_type": "code",
        "colab": {}
      },
      "source": [
        "def sample_images(generated_images, epoch):\n",
        "\n",
        "    plt.figure(figsize=(8, 8), num=2)\n",
        "    gs1 = gridspec.GridSpec(8, 8)\n",
        "    gs1.update(wspace=0, hspace=0)\n",
        "\n",
        "    for i in range(generated_images.shape[0]):\n",
        "        ax1 = plt.subplot(gs1[i])\n",
        "        ax1.set_aspect('equal')\n",
        "        image = generated_images[i, :, :, :]\n",
        "        image += 1\n",
        "        image *= 127.5\n",
        "        fig = plt.imshow(image.astype(np.uint8))\n",
        "        plt.axis('off')\n",
        "        fig.axes.get_xaxis().set_visible(False)\n",
        "        fig.axes.get_yaxis().set_visible(False)\n",
        "\n",
        "    plt.tight_layout()\n",
        "    save_name = 'images/generatedSamples_epoch' + str(\n",
        "        epoch + 1) + '.png'\n",
        "\n",
        "    plt.savefig(save_name, bbox_inches='tight', pad_inches=0)\n",
        "    plt.pause(0.0000000001)\n",
        "    plt.show()"
      ],
      "execution_count": 14,
      "outputs": []
    },
    {
      "cell_type": "code",
      "metadata": {
        "id": "POpBK5rwxTDY",
        "colab_type": "code",
        "colab": {
          "base_uri": "https://localhost:8080/",
          "height": 676
        },
        "outputId": "6e9447b1-e376-492d-a7e5-f6e3ac5818ee"
      },
      "source": [
        "from keras.layers import Conv2D, Conv2DTranspose, Reshape\n",
        "generator = build_generator()"
      ],
      "execution_count": 18,
      "outputs": [
        {
          "output_type": "stream",
          "text": [
            "Model: \"sequential_2\"\n",
            "_________________________________________________________________\n",
            "Layer (type)                 Output Shape              Param #   \n",
            "=================================================================\n",
            "dense_1 (Dense)              (None, 1, 1, 8192)        827392    \n",
            "_________________________________________________________________\n",
            "reshape_1 (Reshape)          (None, 4, 4, 512)         0         \n",
            "_________________________________________________________________\n",
            "batch_normalization_4 (Batch (None, 4, 4, 512)         2048      \n",
            "_________________________________________________________________\n",
            "activation_5 (Activation)    (None, 4, 4, 512)         0         \n",
            "_________________________________________________________________\n",
            "conv2d_transpose_4 (Conv2DTr (None, 8, 8, 256)         3277056   \n",
            "_________________________________________________________________\n",
            "batch_normalization_5 (Batch (None, 8, 8, 256)         1024      \n",
            "_________________________________________________________________\n",
            "activation_6 (Activation)    (None, 8, 8, 256)         0         \n",
            "_________________________________________________________________\n",
            "conv2d_transpose_5 (Conv2DTr (None, 16, 16, 128)       819328    \n",
            "_________________________________________________________________\n",
            "batch_normalization_6 (Batch (None, 16, 16, 128)       512       \n",
            "_________________________________________________________________\n",
            "activation_7 (Activation)    (None, 16, 16, 128)       0         \n",
            "_________________________________________________________________\n",
            "conv2d_transpose_6 (Conv2DTr (None, 32, 32, 64)        204864    \n",
            "_________________________________________________________________\n",
            "batch_normalization_7 (Batch (None, 32, 32, 64)        256       \n",
            "_________________________________________________________________\n",
            "activation_8 (Activation)    (None, 32, 32, 64)        0         \n",
            "_________________________________________________________________\n",
            "conv2d_transpose_7 (Conv2DTr (None, 64, 64, 3)         4803      \n",
            "_________________________________________________________________\n",
            "activation_9 (Activation)    (None, 64, 64, 3)         0         \n",
            "=================================================================\n",
            "Total params: 5,137,283\n",
            "Trainable params: 5,135,363\n",
            "Non-trainable params: 1,920\n",
            "_________________________________________________________________\n"
          ],
          "name": "stdout"
        }
      ]
    },
    {
      "cell_type": "code",
      "metadata": {
        "id": "cabn55CvxVn1",
        "colab_type": "code",
        "colab": {
          "base_uri": "https://localhost:8080/",
          "height": 641
        },
        "outputId": "4cf78c22-7de3-456c-9c82-bee5f9b386db"
      },
      "source": [
        "discriminator = build_discriminator()"
      ],
      "execution_count": 19,
      "outputs": [
        {
          "output_type": "stream",
          "text": [
            "Model: \"sequential_3\"\n",
            "_________________________________________________________________\n",
            "Layer (type)                 Output Shape              Param #   \n",
            "=================================================================\n",
            "conv2d_1 (Conv2D)            (None, 32, 32, 64)        4864      \n",
            "_________________________________________________________________\n",
            "leaky_re_lu (LeakyReLU)      (None, 32, 32, 64)        0         \n",
            "_________________________________________________________________\n",
            "conv2d_2 (Conv2D)            (None, 16, 16, 128)       204928    \n",
            "_________________________________________________________________\n",
            "batch_normalization_8 (Batch (None, 16, 16, 128)       512       \n",
            "_________________________________________________________________\n",
            "leaky_re_lu_1 (LeakyReLU)    (None, 16, 16, 128)       0         \n",
            "_________________________________________________________________\n",
            "conv2d_3 (Conv2D)            (None, 8, 8, 256)         819456    \n",
            "_________________________________________________________________\n",
            "batch_normalization_9 (Batch (None, 8, 8, 256)         1024      \n",
            "_________________________________________________________________\n",
            "leaky_re_lu_2 (LeakyReLU)    (None, 8, 8, 256)         0         \n",
            "_________________________________________________________________\n",
            "conv2d_4 (Conv2D)            (None, 4, 4, 512)         3277312   \n",
            "_________________________________________________________________\n",
            "batch_normalization_10 (Batc (None, 4, 4, 512)         2048      \n",
            "_________________________________________________________________\n",
            "leaky_re_lu_3 (LeakyReLU)    (None, 4, 4, 512)         0         \n",
            "_________________________________________________________________\n",
            "flatten (Flatten)            (None, 8192)              0         \n",
            "_________________________________________________________________\n",
            "dense_2 (Dense)              (None, 1)                 8193      \n",
            "_________________________________________________________________\n",
            "activation_10 (Activation)   (None, 1)                 0         \n",
            "=================================================================\n",
            "Total params: 4,318,337\n",
            "Trainable params: 4,316,545\n",
            "Non-trainable params: 1,792\n",
            "_________________________________________________________________\n"
          ],
          "name": "stdout"
        }
      ]
    },
    {
      "cell_type": "code",
      "metadata": {
        "id": "GDLFYbBn1BVu",
        "colab_type": "code",
        "colab": {}
      },
      "source": [
        "! unzip celeba.zip"
      ],
      "execution_count": null,
      "outputs": []
    },
    {
      "cell_type": "code",
      "metadata": {
        "id": "FMbO-QmW1oK1",
        "colab_type": "code",
        "colab": {}
      },
      "source": [
        "! mkdir celeba/train"
      ],
      "execution_count": 23,
      "outputs": []
    },
    {
      "cell_type": "code",
      "metadata": {
        "id": "B0RoS8QR1sG0",
        "colab_type": "code",
        "colab": {}
      },
      "source": [
        "! mv celeba/*.jpg celeba/train/"
      ],
      "execution_count": 24,
      "outputs": []
    },
    {
      "cell_type": "code",
      "metadata": {
        "id": "yC7mbo9bxhmF",
        "colab_type": "code",
        "colab": {
          "base_uri": "https://localhost:8080/",
          "height": 35
        },
        "outputId": "b1f8d891-125d-415a-d586-4c2fbde150a5"
      },
      "source": [
        "dataset_path = 'celeba'\n",
        "batch_size   =  64\n",
        "image_shape  = (64, 64, 3)\n",
        "from keras.preprocessing.image import ImageDataGenerator\n",
        "dataset_generator = load_dataset(dataset_path, batch_size, image_shape)"
      ],
      "execution_count": 25,
      "outputs": [
        {
          "output_type": "stream",
          "text": [
            "Found 9521 images belonging to 1 classes.\n"
          ],
          "name": "stdout"
        }
      ]
    },
    {
      "cell_type": "code",
      "metadata": {
        "id": "RfcK7rRG1FYW",
        "colab_type": "code",
        "colab": {}
      },
      "source": [
        "\n",
        "number_of_batches  = int(dataset_generator.samples / batch_size)\n",
        "adversarial_loss   = np.empty(shape=1)\n",
        "discriminator_loss = np.empty(shape=1)\n",
        "epochs = 250"
      ],
      "execution_count": 26,
      "outputs": []
    },
    {
      "cell_type": "code",
      "metadata": {
        "id": "eTeg2QWe11O0",
        "colab_type": "code",
        "colab": {}
      },
      "source": [
        "gan = Sequential()\n",
        "\n",
        "discriminator.trainable = False\n",
        "gan.add(generator)\n",
        "gan.add(discriminator)\n",
        "\n",
        "optimizer = Adam(lr=0.00015, beta_1=0.5)\n",
        "gan.compile(loss='binary_crossentropy', optimizer=optimizer,\n",
        "                    metrics=None)"
      ],
      "execution_count": 27,
      "outputs": []
    },
    {
      "cell_type": "code",
      "metadata": {
        "id": "RqqSH9jG13pU",
        "colab_type": "code",
        "colab": {}
      },
      "source": [
        "import os\n",
        "if not os.path.exists('models'):\n",
        "    os.mkdir('models')"
      ],
      "execution_count": 28,
      "outputs": []
    },
    {
      "cell_type": "code",
      "metadata": {
        "id": "n1UT7Khq157z",
        "colab_type": "code",
        "colab": {}
      },
      "source": [
        "import time\n",
        "import os\n",
        "import matplotlib.pyplot as plt\n",
        "import matplotlib.gridspec as gridspec\n",
        "import numpy as np\n",
        "\n",
        "for epoch in range(epochs):\n",
        "    print(\"Epoch {} / {}:\".format(epoch+1, epochs))\n",
        "\n",
        "    for batch_number in range(number_of_batches):\n",
        "        # 取得一批图片数据\n",
        "        real_images = dataset_generator.next()\n",
        "        # 将图片标准化至-1到1\n",
        "        real_images = real_images / 127.5 - 1.\n",
        "\n",
        "        # 每批大小不同，需每次计算该批数据量\n",
        "        current_batch_size = real_images.shape[0]\n",
        "\n",
        "        # 产生噪音\n",
        "        noise = np.random.normal(0, 1, size=(current_batch_size,) + (1, 1, 100))\n",
        "\n",
        "        # 使用生成器生成图片\n",
        "        generated_images = generator.predict(noise)\n",
        "\n",
        "        # 增加噪音扰乱鉴别器\n",
        "        real_y = (np.ones(current_batch_size) - np.random.random_sample(current_batch_size) * 0.2)\n",
        "        fake_y = np.random.random_sample(current_batch_size) * 0.2\n",
        "\n",
        "        # 训练鉴别器\n",
        "        discriminator.trainable = True\n",
        "\n",
        "        d_loss = discriminator.train_on_batch(real_images, real_y)\n",
        "        d_loss += discriminator.train_on_batch(generated_images, fake_y)\n",
        "\n",
        "        discriminator_loss = np.append(discriminator_loss, d_loss)\n",
        "\n",
        "        # 训练生成器\n",
        "        discriminator.trainable = False\n",
        "\n",
        "        noise = np.random.normal(0, 1,size=(current_batch_size * 2,) +(1, 1, 100))\n",
        "\n",
        "        # 给予反向标签以误导鉴别器\n",
        "        fake_y = (np.ones(current_batch_size * 2) -\n",
        "                      np.random.random_sample(current_batch_size * 2) * 0.2)\n",
        "\n",
        "        g_loss = gan.train_on_batch(noise, fake_y)\n",
        "        adversarial_loss = np.append(adversarial_loss, g_loss)\n",
        "    \n",
        "\n",
        "        # 打印损失\n",
        "        print(\" generator loss {} | discriminator loss {} \".format(g_loss, d_loss))\n",
        "\n",
        "\n",
        "    # 存储模型与生成图片\n",
        "    if (epoch + 1) % 3 == 0:\n",
        "        discriminator.trainable = True\n",
        "        generator.save('models/generator_epoch' + str(epoch) + '.hdf5')\n",
        "        discriminator.save('models/discriminator_epoch' +str(epoch) + '.hdf5')\n",
        "        \n",
        "        sample_images(generated_images, epoch)"
      ],
      "execution_count": null,
      "outputs": []
    },
    {
      "cell_type": "markdown",
      "metadata": {
        "id": "zbiRje-f4TaK",
        "colab_type": "text"
      },
      "source": [
        "## Cycle GAN"
      ]
    },
    {
      "cell_type": "code",
      "metadata": {
        "id": "ZBEKR6sO_CB3",
        "colab_type": "code",
        "colab": {
          "base_uri": "https://localhost:8080/",
          "height": 332
        },
        "outputId": "5421fadb-6d58-4218-cdc8-21c3b3af1f77"
      },
      "source": [
        "! pip install scipy==1.2.1"
      ],
      "execution_count": 139,
      "outputs": [
        {
          "output_type": "stream",
          "text": [
            "Collecting scipy==1.2.1\n",
            "\u001b[?25l  Downloading https://files.pythonhosted.org/packages/7f/5f/c48860704092933bf1c4c1574a8de1ffd16bf4fde8bab190d747598844b2/scipy-1.2.1-cp36-cp36m-manylinux1_x86_64.whl (24.8MB)\n",
            "\u001b[K     |████████████████████████████████| 24.8MB 130kB/s \n",
            "\u001b[?25hRequirement already satisfied: numpy>=1.8.2 in /usr/local/lib/python3.6/dist-packages (from scipy==1.2.1) (1.18.5)\n",
            "\u001b[31mERROR: umap-learn 0.4.6 has requirement scipy>=1.3.1, but you'll have scipy 1.2.1 which is incompatible.\u001b[0m\n",
            "\u001b[31mERROR: tensorflow 2.3.0 has requirement scipy==1.4.1, but you'll have scipy 1.2.1 which is incompatible.\u001b[0m\n",
            "\u001b[31mERROR: albumentations 0.1.12 has requirement imgaug<0.2.7,>=0.2.5, but you'll have imgaug 0.2.9 which is incompatible.\u001b[0m\n",
            "Installing collected packages: scipy\n",
            "  Found existing installation: scipy 1.4.1\n",
            "    Uninstalling scipy-1.4.1:\n",
            "      Successfully uninstalled scipy-1.4.1\n",
            "Successfully installed scipy-1.2.1\n"
          ],
          "name": "stdout"
        },
        {
          "output_type": "display_data",
          "data": {
            "application/vnd.colab-display-data+json": {
              "pip_warning": {
                "packages": [
                  "scipy"
                ]
              }
            }
          },
          "metadata": {
            "tags": []
          }
        }
      ]
    },
    {
      "cell_type": "code",
      "metadata": {
        "id": "jlsQSL115Bns",
        "colab_type": "code",
        "colab": {
          "base_uri": "https://localhost:8080/",
          "height": 35
        },
        "outputId": "acdd6b49-c057-40ac-8b50-e0f1b5dacaeb"
      },
      "source": [
        "% tensorflow_version 1.x"
      ],
      "execution_count": 44,
      "outputs": [
        {
          "output_type": "stream",
          "text": [
            "TensorFlow is already loaded. Please restart the runtime to change versions.\n"
          ],
          "name": "stdout"
        }
      ]
    },
    {
      "cell_type": "code",
      "metadata": {
        "id": "saQzLdfH2Ovy",
        "colab_type": "code",
        "colab": {
          "base_uri": "https://localhost:8080/",
          "height": 315
        },
        "outputId": "7010c32a-1986-4c38-b3b1-8fb923316f2d"
      },
      "source": [
        "! pip install git+https://www.github.com/keras-team/keras-contrib.git"
      ],
      "execution_count": 45,
      "outputs": [
        {
          "output_type": "stream",
          "text": [
            "Collecting git+https://www.github.com/keras-team/keras-contrib.git\n",
            "  Cloning https://www.github.com/keras-team/keras-contrib.git to /tmp/pip-req-build-wizg8j3e\n",
            "  Running command git clone -q https://www.github.com/keras-team/keras-contrib.git /tmp/pip-req-build-wizg8j3e\n",
            "Requirement already satisfied: keras in /usr/local/lib/python3.6/dist-packages (from keras-contrib==2.0.8) (2.4.3)\n",
            "Requirement already satisfied: numpy>=1.9.1 in /usr/local/lib/python3.6/dist-packages (from keras->keras-contrib==2.0.8) (1.18.5)\n",
            "Requirement already satisfied: h5py in /usr/local/lib/python3.6/dist-packages (from keras->keras-contrib==2.0.8) (2.10.0)\n",
            "Requirement already satisfied: pyyaml in /usr/local/lib/python3.6/dist-packages (from keras->keras-contrib==2.0.8) (3.13)\n",
            "Requirement already satisfied: scipy>=0.14 in /usr/local/lib/python3.6/dist-packages (from keras->keras-contrib==2.0.8) (1.4.1)\n",
            "Requirement already satisfied: six in /usr/local/lib/python3.6/dist-packages (from h5py->keras->keras-contrib==2.0.8) (1.15.0)\n",
            "Building wheels for collected packages: keras-contrib\n",
            "  Building wheel for keras-contrib (setup.py) ... \u001b[?25l\u001b[?25hdone\n",
            "  Created wheel for keras-contrib: filename=keras_contrib-2.0.8-cp36-none-any.whl size=101064 sha256=a102f11ed3d41a3237d9474bff5f20eb7ffdd75d065d8e2d6d5743e178bfe759\n",
            "  Stored in directory: /tmp/pip-ephem-wheel-cache-581kfzln/wheels/11/27/c8/4ed56de7b55f4f61244e2dc6ef3cdbaff2692527a2ce6502ba\n",
            "Successfully built keras-contrib\n",
            "Installing collected packages: keras-contrib\n",
            "Successfully installed keras-contrib-2.0.8\n"
          ],
          "name": "stdout"
        }
      ]
    },
    {
      "cell_type": "code",
      "metadata": {
        "id": "T_LALKjZ4tpo",
        "colab_type": "code",
        "colab": {}
      },
      "source": [
        "from keras_contrib.layers.normalization import instancenormalization"
      ],
      "execution_count": 46,
      "outputs": []
    },
    {
      "cell_type": "code",
      "metadata": {
        "id": "HJ9t5MMf6EIR",
        "colab_type": "code",
        "colab": {}
      },
      "source": [
        "import scipy\n",
        "\n",
        "from keras.datasets import mnist\n",
        "from keras_contrib.layers.normalization.instancenormalization import InstanceNormalization\n",
        "from keras.layers import Input, Dense, Reshape, Flatten, Dropout, Concatenate\n",
        "from keras.layers import BatchNormalization, Activation, ZeroPadding2D\n",
        "from keras.layers.advanced_activations import LeakyReLU\n",
        "from keras.layers.convolutional import UpSampling2D, Conv2D\n",
        "from keras.models import Sequential, Model\n",
        "from keras.optimizers import Adam\n",
        "import datetime\n",
        "import matplotlib.pyplot as plt\n",
        "import sys\n",
        "import numpy as np\n",
        "import os"
      ],
      "execution_count": 47,
      "outputs": []
    },
    {
      "cell_type": "code",
      "metadata": {
        "id": "c56JqRic6GIC",
        "colab_type": "code",
        "colab": {}
      },
      "source": [
        "from glob import glob\n",
        "import numpy as np\n",
        "import scipy.misc\n",
        "from skimage import io\n",
        "\n",
        "class DataLoader():\n",
        "    def __init__(self, dataset_name, img_res=(128, 128)):\n",
        "        self.dataset_name = dataset_name\n",
        "        self.img_res = img_res\n",
        "\n",
        "    def load_data(self, domain, batch_size=1, is_testing=False):\n",
        "        data_type = \"train%s\" % domain if not is_testing else \"test%s\" % domain\n",
        "        path = glob('./datasets/%s/%s/*' % (self.dataset_name, data_type))\n",
        "        #print(path)\n",
        "        batch_images = np.random.choice(path, size=batch_size)\n",
        "\n",
        "        imgs = []\n",
        "        for img_path in batch_images:\n",
        "            img = self.imread(img_path)\n",
        "            if not is_testing:\n",
        "                img = scipy.misc.imresize(img, self.img_res)\n",
        "\n",
        "                if np.random.random() > 0.5:\n",
        "                    img = np.fliplr(img)\n",
        "            else:\n",
        "                img = scipy.misc.imresize(img, self.img_res)\n",
        "            imgs.append(img)\n",
        "\n",
        "        imgs = np.array(imgs)/127.5 - 1.\n",
        "\n",
        "        return imgs\n",
        "\n",
        "    def load_batch(self, batch_size=1, is_testing=False):\n",
        "        data_type = \"train\" if not is_testing else \"val\"\n",
        "        path_A = glob('./datasets/%s/%sA/*' % (self.dataset_name, data_type))\n",
        "        path_B = glob('./datasets/%s/%sB/*' % (self.dataset_name, data_type))\n",
        "        #print(path_A)\n",
        "        self.n_batches = int(min(len(path_A), len(path_B)) / batch_size)\n",
        "        total_samples = self.n_batches * batch_size\n",
        "\n",
        "        # Sample n_batches * batch_size from each path list so that model sees all\n",
        "        # samples from both domains\n",
        "        path_A = np.random.choice(path_A, total_samples, replace=False)\n",
        "        path_B = np.random.choice(path_B, total_samples, replace=False)\n",
        "\n",
        "        for i in range(self.n_batches-1):\n",
        "            batch_A = path_A[i*batch_size:(i+1)*batch_size]\n",
        "            batch_B = path_B[i*batch_size:(i+1)*batch_size]\n",
        "            imgs_A, imgs_B = [], []\n",
        "            for img_A, img_B in zip(batch_A, batch_B):\n",
        "                img_A = self.imread(img_A)\n",
        "                img_B = self.imread(img_B)\n",
        "\n",
        "                img_A = scipy.misc.imresize(img_A, self.img_res)\n",
        "                img_B = scipy.misc.imresize(img_B, self.img_res)\n",
        "\n",
        "                if not is_testing and np.random.random() > 0.5:\n",
        "                        img_A = np.fliplr(img_A)\n",
        "                        img_B = np.fliplr(img_B)\n",
        "\n",
        "                imgs_A.append(img_A)\n",
        "                imgs_B.append(img_B)\n",
        "\n",
        "            imgs_A = np.array(imgs_A)/127.5 - 1.\n",
        "            imgs_B = np.array(imgs_B)/127.5 - 1.\n",
        "\n",
        "            yield imgs_A, imgs_B\n",
        "\n",
        "    def load_img(self, path):\n",
        "        img = self.imread(path)\n",
        "        img = scipy.misc.imresize(img, self.img_res)\n",
        "        img = img/127.5 - 1.\n",
        "        return img[np.newaxis, :, :, :]\n",
        "\n",
        "    def imread(self, path):\n",
        "        return scipy.misc.imread(path, mode='RGB').astype(np.float)"
      ],
      "execution_count": 140,
      "outputs": []
    },
    {
      "cell_type": "code",
      "metadata": {
        "id": "HqiwWbl66peI",
        "colab_type": "code",
        "colab": {
          "base_uri": "https://localhost:8080/",
          "height": 176
        },
        "outputId": "978f14f3-c39e-4a82-a8c6-caa8361e01ba"
      },
      "source": [
        "! wget https://people.eecs.berkeley.edu/~taesung_park/CycleGAN/datasets/monet2photo.zip"
      ],
      "execution_count": 117,
      "outputs": [
        {
          "output_type": "stream",
          "text": [
            "--2020-08-22 07:01:57--  https://people.eecs.berkeley.edu/~taesung_park/CycleGAN/datasets/monet2photo.zip\n",
            "Resolving people.eecs.berkeley.edu (people.eecs.berkeley.edu)... 128.32.189.73\n",
            "Connecting to people.eecs.berkeley.edu (people.eecs.berkeley.edu)|128.32.189.73|:443... connected.\n",
            "HTTP request sent, awaiting response... 200 OK\n",
            "Length: 305231073 (291M) [application/zip]\n",
            "Saving to: ‘monet2photo.zip.1’\n",
            "\n",
            "monet2photo.zip.1     0%[                    ]  40.00K   131KB/s               ^C\n"
          ],
          "name": "stdout"
        }
      ]
    },
    {
      "cell_type": "code",
      "metadata": {
        "id": "gtRkFJOw6xWU",
        "colab_type": "code",
        "colab": {}
      },
      "source": [
        "! unzip monet2photo.zip"
      ],
      "execution_count": null,
      "outputs": []
    },
    {
      "cell_type": "code",
      "metadata": {
        "id": "Sk-Gdf9U9EAd",
        "colab_type": "code",
        "colab": {}
      },
      "source": [
        "! mv monet2photo datasets"
      ],
      "execution_count": 91,
      "outputs": []
    },
    {
      "cell_type": "code",
      "metadata": {
        "id": "3mwf6tV59Yuc",
        "colab_type": "code",
        "colab": {}
      },
      "source": [
        "! mkdir datasets/monet2photo\n",
        "! mv datasets/trainA datasets/monet2photo\n",
        "! mv datasets/trainB datasets/monet2photo\n",
        "! mv datasets/testA datasets/monet2photo\n",
        "! mv datasets/testB datasets/monet2photo"
      ],
      "execution_count": 102,
      "outputs": []
    },
    {
      "cell_type": "code",
      "metadata": {
        "id": "KgAEn65o8tEB",
        "colab_type": "code",
        "colab": {}
      },
      "source": [
        "a = DataLoader('monet2photo')"
      ],
      "execution_count": 129,
      "outputs": []
    },
    {
      "cell_type": "code",
      "metadata": {
        "id": "qx9oO9sN6Yk_",
        "colab_type": "code",
        "colab": {}
      },
      "source": [
        "# 图片参数\n",
        "img_rows = 128\n",
        "img_cols = 128\n",
        "channels = 3\n",
        "img_shape = (img_rows, img_cols, channels)\n",
        "dataset_name = 'monet2photo'\n",
        "data_loader = DataLoader(dataset_name=dataset_name,\n",
        "             img_res=(img_rows, img_cols))"
      ],
      "execution_count": 135,
      "outputs": []
    },
    {
      "cell_type": "code",
      "metadata": {
        "id": "hoQdAyXO6Z1w",
        "colab_type": "code",
        "colab": {}
      },
      "source": [
        "def build_generator():\n",
        "    \"\"\"U-Net Generator\"\"\"\n",
        "\n",
        "    def conv2d(layer_input, filters, f_size=4):\n",
        "        \"\"\"Layers used during downsampling\"\"\"\n",
        "        d = Conv2D(filters, kernel_size=f_size, strides=2, padding='same')(layer_input)\n",
        "        d = LeakyReLU(alpha=0.2)(d)\n",
        "        d = InstanceNormalization()(d)\n",
        "        return d\n",
        "\n",
        "    def deconv2d(layer_input, skip_input, filters, f_size=4, dropout_rate=0):\n",
        "        \"\"\"Layers used during upsampling\"\"\"\n",
        "        u = UpSampling2D(size=2)(layer_input)\n",
        "        u = Conv2D(filters, kernel_size=f_size, strides=1, padding='same', activation='relu')(u)\n",
        "        if dropout_rate:\n",
        "            u = Dropout(dropout_rate)(u)\n",
        "        u = InstanceNormalization()(u)\n",
        "        u = Concatenate()([u, skip_input])\n",
        "        return u\n",
        "\n",
        "    # Image input\n",
        "    d0 = Input(shape=img_shape)\n",
        "\n",
        "    # Downsampling\n",
        "    d1 = conv2d(d0, gf)\n",
        "    d2 = conv2d(d1, gf*2)\n",
        "    d3 = conv2d(d2, gf*4)\n",
        "    d4 = conv2d(d3, gf*8)\n",
        "\n",
        "    # Upsampling\n",
        "    u1 = deconv2d(d4, d3, gf*4)\n",
        "    u2 = deconv2d(u1, d2, gf*2)\n",
        "    u3 = deconv2d(u2, d1, gf)\n",
        "\n",
        "    u4 = UpSampling2D(size=2)(u3)\n",
        "    output_img = Conv2D(channels, kernel_size=4, strides=1, padding='same', activation='tanh')(u4)\n",
        "\n",
        "    return Model(d0, output_img)"
      ],
      "execution_count": 136,
      "outputs": []
    },
    {
      "cell_type": "code",
      "metadata": {
        "id": "YpISrqe47KC_",
        "colab_type": "code",
        "colab": {}
      },
      "source": [
        "from keras.layers import Input, Dense, Reshape, Flatten, Dropout\n",
        "def build_discriminator():\n",
        "\n",
        "    def d_layer(layer_input, filters, f_size=4, normalization=True):\n",
        "        \"\"\"Discriminator layer\"\"\"\n",
        "        d = Conv2D(filters, kernel_size=f_size, strides=2, padding='same')(layer_input)\n",
        "        d = LeakyReLU(alpha=0.2)(d)\n",
        "        if normalization:\n",
        "            d = InstanceNormalization()(d)\n",
        "        return d\n",
        "\n",
        "    img = Input(shape=img_shape)\n",
        "\n",
        "    d1 = d_layer(img, df, normalization=False)\n",
        "    d2 = d_layer(d1, df*2)\n",
        "    d3 = d_layer(d2, df*4)\n",
        "    d4 = d_layer(d3, df*8)\n",
        "\n",
        "    validity = Conv2D(1, kernel_size=4, strides=1, padding='same')(d4)\n",
        "    return Model(img, validity)"
      ],
      "execution_count": 137,
      "outputs": []
    },
    {
      "cell_type": "code",
      "metadata": {
        "id": "8Xm4poID70Pr",
        "colab_type": "code",
        "colab": {}
      },
      "source": [
        "def train(epochs, batch_size=1, sample_interval=50):\n",
        "\n",
        "    start_time = datetime.datetime.now()\n",
        "\n",
        "    # Adversarial loss ground truths\n",
        "    valid = np.ones((batch_size,) + disc_patch)\n",
        "    fake = np.zeros((batch_size,) + disc_patch)\n",
        "\n",
        "    for epoch in range(epochs):\n",
        "        print(epoch)\n",
        "        for batch_i, (imgs_A, imgs_B) in enumerate(data_loader.load_batch(batch_size)):\n",
        "\n",
        "            # ----------------------\n",
        "            #  Train Discriminators\n",
        "            # ----------------------\n",
        "\n",
        "            # Translate images to opposite domain\n",
        "            fake_B = g_AB.predict(imgs_A)\n",
        "            fake_A = g_BA.predict(imgs_B)\n",
        "\n",
        "            # Train the discriminators (original images = real / translated = Fake)\n",
        "            dA_loss_real = d_A.train_on_batch(imgs_A, valid)\n",
        "            dA_loss_fake = d_A.train_on_batch(fake_A, fake)\n",
        "            dA_loss = 0.5 * np.add(dA_loss_real, dA_loss_fake)\n",
        "\n",
        "            dB_loss_real = d_B.train_on_batch(imgs_B, valid)\n",
        "            dB_loss_fake = d_B.train_on_batch(fake_B, fake)\n",
        "            dB_loss = 0.5 * np.add(dB_loss_real, dB_loss_fake)\n",
        "\n",
        "            # Total disciminator loss\n",
        "            d_loss = 0.5 * np.add(dA_loss, dB_loss)\n",
        "\n",
        "\n",
        "            # ------------------\n",
        "            #  Train Generators\n",
        "            # ------------------\n",
        "\n",
        "            # Train the generators\n",
        "            g_loss = combined.train_on_batch([imgs_A, imgs_B],\n",
        "                              [valid, valid,\n",
        "                              imgs_A, imgs_B,\n",
        "                              imgs_A, imgs_B])\n",
        "\n",
        "            elapsed_time = datetime.datetime.now() - start_time\n",
        "\n",
        "            # Plot the progress\n",
        "            print (\"[Epoch %d/%d] [Batch %d/%d] [D loss: %f, acc: %3d%%] [G loss: %05f, adv: %05f, recon: %05f, id: %05f] time: %s \" \\\n",
        "                                                                    % ( epoch, epochs,\n",
        "                                                                        batch_i, data_loader.n_batches,\n",
        "                                                                        d_loss[0], 100*d_loss[1],\n",
        "                                                                        g_loss[0],\n",
        "                                                                        np.mean(g_loss[1:3]),\n",
        "                                                                        np.mean(g_loss[3:5]),\n",
        "                                                                        np.mean(g_loss[5:6]),\n",
        "                                                                        elapsed_time))\n",
        "\n",
        "            # If at save interval => save generated image samples\n",
        "            if batch_i % sample_interval == 0:\n",
        "                sample_images(epoch, batch_i)"
      ],
      "execution_count": 108,
      "outputs": []
    },
    {
      "cell_type": "code",
      "metadata": {
        "id": "S_7wN_SQ8L-5",
        "colab_type": "code",
        "colab": {}
      },
      "source": [
        "def sample_images(epoch, batch_i):\n",
        "    os.makedirs('images/%s' % dataset_name, exist_ok=True)\n",
        "    r, c = 2, 3\n",
        "\n",
        "    imgs_A = data_loader.load_data(domain=\"A\", batch_size=1, is_testing=True)\n",
        "    imgs_B = data_loader.load_data(domain=\"B\", batch_size=1, is_testing=True)\n",
        "    print(img_A)\n",
        "    # Demo (for GIF)\n",
        "    #imgs_A = data_loader.load_img('datasets/apple2orange/testA/n07740461_1541.jpg')\n",
        "    #imgs_B = data_loader.load_img('datasets/apple2orange/testB/n07749192_4241.jpg')\n",
        "\n",
        "    # Translate images to the other domain\n",
        "    fake_B = g_AB.predict(imgs_A)\n",
        "    fake_A = g_BA.predict(imgs_B)\n",
        "    # Translate back to original domain\n",
        "    reconstr_A = g_BA.predict(fake_B)\n",
        "    reconstr_B = g_AB.predict(fake_A)\n",
        "\n",
        "    gen_imgs = np.concatenate([imgs_A, fake_B, reconstr_A, imgs_B, fake_A, reconstr_B])\n",
        "\n",
        "    # Rescale images 0 - 1\n",
        "    gen_imgs = 0.5 * gen_imgs + 0.5\n",
        "\n",
        "    titles = ['Original', 'Translated', 'Reconstructed']\n",
        "    fig, axs = plt.subplots(r, c)\n",
        "    cnt = 0\n",
        "    for i in range(r):\n",
        "        for j in range(c):\n",
        "            axs[i,j].imshow(gen_imgs[cnt])\n",
        "            axs[i, j].set_title(titles[j])\n",
        "            axs[i,j].axis('off')\n",
        "            cnt += 1\n",
        "    fig.savefig(\"images/%s/%d_%d.png\" % (dataset_name, epoch, batch_i))\n",
        "    plt.close()"
      ],
      "execution_count": 98,
      "outputs": []
    },
    {
      "cell_type": "code",
      "metadata": {
        "id": "yp_q9yPp8Oux",
        "colab_type": "code",
        "colab": {}
      },
      "source": [
        "# Calculate output shape of D (PatchGAN)\n",
        "patch = int(img_rows / 2**4)\n",
        "disc_patch = (patch, patch, 1)\n",
        "\n",
        "# Number of filters in the first layer of G and D\n",
        "gf = 32\n",
        "df = 64\n",
        "\n",
        "# Loss weights\n",
        "lambda_cycle = 10.0                    # Cycle-consistency loss\n",
        "lambda_id = 0.1 * lambda_cycle    # Identity loss\n",
        "\n",
        "optimizer = Adam(0.0002, 0.5)\n",
        "\n",
        "# Build and compile the discriminators\n",
        "d_A = build_discriminator()\n",
        "d_B = build_discriminator()\n",
        "d_A.compile(loss='mse',\n",
        "    optimizer=optimizer,\n",
        "    metrics=['accuracy'])\n",
        "d_B.compile(loss='mse',\n",
        "    optimizer=optimizer,\n",
        "    metrics=['accuracy'])"
      ],
      "execution_count": 99,
      "outputs": []
    },
    {
      "cell_type": "code",
      "metadata": {
        "id": "yTgLF8HU8Sjp",
        "colab_type": "code",
        "colab": {}
      },
      "source": [
        "#-------------------------\n",
        "# Construct Computational\n",
        "#   Graph of Generators\n",
        "#-------------------------\n",
        "\n",
        "# Build the generators\n",
        "g_AB = build_generator()\n",
        "g_BA = build_generator()\n",
        "\n",
        "# Input images from both domains\n",
        "img_A = Input(shape=img_shape)\n",
        "img_B = Input(shape=img_shape)\n",
        "\n",
        "# Translate images to the other domain\n",
        "fake_B = g_AB(img_A)\n",
        "fake_A = g_BA(img_B)\n",
        "# Translate images back to original domain\n",
        "reconstr_A = g_BA(fake_B)\n",
        "reconstr_B = g_AB(fake_A)\n",
        "# Identity mapping of images\n",
        "img_A_id = g_BA(img_A)\n",
        "img_B_id = g_AB(img_B)\n",
        "\n",
        "# For the combined model we will only train the generators\n",
        "d_A.trainable = False\n",
        "d_B.trainable = False\n",
        "\n",
        "# Discriminators determines validity of translated images\n",
        "valid_A = d_A(fake_A)\n",
        "valid_B = d_B(fake_B)\n",
        "\n",
        "# Combined model trains generators to fool discriminators\n",
        "combined = Model(inputs=[img_A, img_B],\n",
        "                      outputs=[ valid_A, valid_B,\n",
        "                                reconstr_A, reconstr_B,\n",
        "                                img_A_id, img_B_id ])\n",
        "combined.compile(loss=['mse', 'mse',\n",
        "                       'mae', 'mae',\n",
        "                       'mae', 'mae'],\n",
        "                    loss_weights=[  1, 1,\n",
        "                                    lambda_cycle, lambda_cycle,\n",
        "                                    lambda_id, lambda_id ],\n",
        "                    optimizer=optimizer)"
      ],
      "execution_count": 100,
      "outputs": []
    },
    {
      "cell_type": "code",
      "metadata": {
        "id": "44XVgrda8WT4",
        "colab_type": "code",
        "colab": {
          "base_uri": "https://localhost:8080/",
          "height": 364
        },
        "outputId": "5bd34c79-4bfe-41e7-90a3-b6ad3eecae37"
      },
      "source": [
        "train(epochs=20, batch_size=10, sample_interval=10)"
      ],
      "execution_count": 101,
      "outputs": [
        {
          "output_type": "stream",
          "text": [
            "0\n",
            "1\n",
            "2\n",
            "3\n",
            "4\n",
            "5\n",
            "6\n",
            "7\n",
            "8\n",
            "9\n",
            "10\n",
            "11\n",
            "12\n",
            "13\n",
            "14\n",
            "15\n",
            "16\n",
            "17\n",
            "18\n",
            "19\n"
          ],
          "name": "stdout"
        }
      ]
    },
    {
      "cell_type": "markdown",
      "metadata": {
        "id": "HFhPKn4-_uUW",
        "colab_type": "text"
      },
      "source": [
        "## Pretained Model"
      ]
    },
    {
      "cell_type": "code",
      "metadata": {
        "id": "Rn8aJ9-38YiI",
        "colab_type": "code",
        "colab": {
          "base_uri": "https://localhost:8080/",
          "height": 139
        },
        "outputId": "4f126268-b284-4b5c-d9d4-3f83d72b7683"
      },
      "source": [
        "! git clone https://github.com/junyanz/CycleGAN"
      ],
      "execution_count": 142,
      "outputs": [
        {
          "output_type": "stream",
          "text": [
            "Cloning into 'CycleGAN'...\n",
            "remote: Enumerating objects: 9, done.\u001b[K\n",
            "remote: Counting objects:  11% (1/9)\u001b[K\rremote: Counting objects:  22% (2/9)\u001b[K\rremote: Counting objects:  33% (3/9)\u001b[K\rremote: Counting objects:  44% (4/9)\u001b[K\rremote: Counting objects:  55% (5/9)\u001b[K\rremote: Counting objects:  66% (6/9)\u001b[K\rremote: Counting objects:  77% (7/9)\u001b[K\rremote: Counting objects:  88% (8/9)\u001b[K\rremote: Counting objects: 100% (9/9)\u001b[K\rremote: Counting objects: 100% (9/9), done.\u001b[K\n",
            "remote: Compressing objects: 100% (7/7), done.\u001b[K\n",
            "remote: Total 413 (delta 4), reused 3 (delta 2), pack-reused 404\u001b[K\n",
            "Receiving objects: 100% (413/413), 12.54 MiB | 1.98 MiB/s, done.\n",
            "Resolving deltas: 100% (232/232), done.\n"
          ],
          "name": "stdout"
        }
      ]
    },
    {
      "cell_type": "code",
      "metadata": {
        "id": "73UtZzbv_wF9",
        "colab_type": "code",
        "colab": {
          "base_uri": "https://localhost:8080/",
          "height": 1000
        },
        "outputId": "82782b5d-16ec-458b-a9c8-f06704b81a6f"
      },
      "source": [
        "! cd CycleGAN ; bash ./datasets/download_dataset.sh ae_photos"
      ],
      "execution_count": 144,
      "outputs": [
        {
          "output_type": "stream",
          "text": [
            "WARNING: timestamping does nothing in combination with -O. See the manual\n",
            "for details.\n",
            "\n",
            "--2020-08-22 07:08:39--  https://people.eecs.berkeley.edu/~taesung_park/CycleGAN/datasets/ae_photos.zip\n",
            "Resolving people.eecs.berkeley.edu (people.eecs.berkeley.edu)... 128.32.189.73\n",
            "Connecting to people.eecs.berkeley.edu (people.eecs.berkeley.edu)|128.32.189.73|:443... connected.\n",
            "HTTP request sent, awaiting response... 200 OK\n",
            "Length: 10678242 (10M) [application/zip]\n",
            "Saving to: ‘./datasets/ae_photos.zip’\n",
            "\n",
            "./datasets/ae_photo 100%[===================>]  10.18M  6.63MB/s    in 1.5s    \n",
            "\n",
            "2020-08-22 07:08:41 (6.63 MB/s) - ‘./datasets/ae_photos.zip’ saved [10678242/10678242]\n",
            "\n",
            "Archive:  ./datasets/ae_photos.zip\n",
            "   creating: ./datasets/ae_photos/testA/\n",
            "  inflating: ./datasets/ae_photos/testA/Venice 030.jpg  \n",
            "  inflating: ./datasets/ae_photos/testA/33.jpg  \n",
            "  inflating: ./datasets/ae_photos/testA/IMG_20170305_174233848_HDR.jpg  \n",
            "  inflating: ./datasets/ae_photos/testA/IMG_5582.jpg  \n",
            "  inflating: ./datasets/ae_photos/testA/IMG_5045(1).jpg  \n",
            "  inflating: ./datasets/ae_photos/testA/IMG_9070.jpg  \n",
            "  inflating: ./datasets/ae_photos/testA/IMG_9052.jpg  \n",
            "  inflating: ./datasets/ae_photos/testA/48.jpg  \n",
            "  inflating: ./datasets/ae_photos/testA/IMG_20170102_142553.jpg  \n",
            "  inflating: ./datasets/ae_photos/testA/15.jpg  \n",
            "  inflating: ./datasets/ae_photos/testA/IMG_20160623_130412072.jpg  \n",
            "  inflating: ./datasets/ae_photos/testA/IMG_8149.jpg  \n",
            "  inflating: ./datasets/ae_photos/testA/IMG_6458.jpg  \n",
            "  inflating: ./datasets/ae_photos/testA/56.jpg  \n",
            "  inflating: ./datasets/ae_photos/testA/22.jpg  \n",
            "  inflating: ./datasets/ae_photos/testA/IMG_20160802_225543.jpg  \n",
            "  inflating: ./datasets/ae_photos/testA/47.jpg  \n",
            "  inflating: ./datasets/ae_photos/testA/IMG_20160130_162423771_HDR.jpg  \n",
            "  inflating: ./datasets/ae_photos/testA/78.jpg  \n",
            "  inflating: ./datasets/ae_photos/testA/50.jpg  \n",
            "  inflating: ./datasets/ae_photos/testA/51.jpg  \n",
            "  inflating: ./datasets/ae_photos/testA/57.jpg  \n",
            "  inflating: ./datasets/ae_photos/testA/IMG_20160602_180829167_HDR.jpg  \n",
            "  inflating: ./datasets/ae_photos/testA/53.jpg  \n",
            "  inflating: ./datasets/ae_photos/testA/IMG_20140610_145336.jpg  \n",
            "  inflating: ./datasets/ae_photos/testA/29.jpg  \n",
            "  inflating: ./datasets/ae_photos/testA/IMG_3774.jpg  \n",
            "  inflating: ./datasets/ae_photos/testA/14.jpg  \n",
            "  inflating: ./datasets/ae_photos/testA/8.jpg  \n",
            "  inflating: ./datasets/ae_photos/testA/Villefranche2 049.jpg  \n",
            "  inflating: ./datasets/ae_photos/testA/IMG_5553.jpg  \n",
            "  inflating: ./datasets/ae_photos/testA/40.jpg  \n",
            "  inflating: ./datasets/ae_photos/testA/76.jpg  \n",
            "  inflating: ./datasets/ae_photos/testA/IMG_20160602_181610296.jpg  \n",
            "  inflating: ./datasets/ae_photos/testA/IMG_5095.jpg  \n",
            "  inflating: ./datasets/ae_photos/testA/IMG_5082.jpg  \n",
            "  inflating: ./datasets/ae_photos/testA/IMG_2452.jpg  \n",
            "  inflating: ./datasets/ae_photos/testA/IMG_8937.jpg  \n",
            "  inflating: ./datasets/ae_photos/testA/38.jpg  \n",
            "  inflating: ./datasets/ae_photos/testA/63.jpg  \n",
            "  inflating: ./datasets/ae_photos/testA/52.jpg  \n",
            "  inflating: ./datasets/ae_photos/testA/IMG_20161020_170934.jpg  \n",
            "  inflating: ./datasets/ae_photos/testA/IMG_20151031_170925074_HDR.jpg  \n",
            "  inflating: ./datasets/ae_photos/testA/IMG_20161010_155432.jpg  \n",
            "  inflating: ./datasets/ae_photos/testA/IMG_6983.jpg  \n",
            "  inflating: ./datasets/ae_photos/testA/IMG_9254.jpg  \n",
            "  inflating: ./datasets/ae_photos/testA/IMG_20161008_133523235.jpg  \n",
            "  inflating: ./datasets/ae_photos/testA/60.jpg  \n",
            "  inflating: ./datasets/ae_photos/testA/IMG_20161009_095041067.jpg  \n",
            "  inflating: ./datasets/ae_photos/testA/IMG_20160319_154725920.jpg  \n",
            "  inflating: ./datasets/ae_photos/testA/IMG_9253.jpg  \n",
            "  inflating: ./datasets/ae_photos/testA/27.jpg  \n",
            "  inflating: ./datasets/ae_photos/testA/21.jpg  \n",
            "  inflating: ./datasets/ae_photos/testA/P1020176.jpg  \n",
            "  inflating: ./datasets/ae_photos/testA/30.jpg  \n",
            "  inflating: ./datasets/ae_photos/testA/IMG_9257.jpg  \n",
            "  inflating: ./datasets/ae_photos/testA/75.jpg  \n",
            "  inflating: ./datasets/ae_photos/testA/IMG_5045.jpg  \n",
            "  inflating: ./datasets/ae_photos/testA/IMG_20170305_173917350_HDR.jpg  \n",
            "  inflating: ./datasets/ae_photos/testA/IMG_20130607_194914.jpg  \n",
            "  inflating: ./datasets/ae_photos/testA/3.jpg  \n",
            "  inflating: ./datasets/ae_photos/testA/73.jpg  \n",
            "  inflating: ./datasets/ae_photos/testA/IMG_9075.jpg  \n",
            "  inflating: ./datasets/ae_photos/testA/IMG_20160525_095259866_HDR.jpg  \n",
            "  inflating: ./datasets/ae_photos/testA/IMG_20160602_133333110_HDR.jpg  \n",
            "  inflating: ./datasets/ae_photos/testA/IMG_20150618_200343095_HDR.jpg  \n",
            "  inflating: ./datasets/ae_photos/testA/13.jpg  \n",
            "  inflating: ./datasets/ae_photos/testA/IMG_20161008_133624749.jpg  \n",
            "  inflating: ./datasets/ae_photos/testA/12.jpg  \n",
            "  inflating: ./datasets/ae_photos/testA/IMG_20150712_151607694_HDR.jpg  \n",
            "  inflating: ./datasets/ae_photos/testA/IMG_6479.jpg  \n",
            "  inflating: ./datasets/ae_photos/testA/IMG_20160319_154835686.jpg  \n",
            "  inflating: ./datasets/ae_photos/testA/42.jpg  \n",
            "  inflating: ./datasets/ae_photos/testA/62.jpg  \n",
            "  inflating: ./datasets/ae_photos/testA/IMG_20170103_093335281_HDR.jpg  \n",
            "  inflating: ./datasets/ae_photos/testA/7.jpg  \n",
            "  inflating: ./datasets/ae_photos/testA/IMG_20161015_180702.jpg  \n",
            "  inflating: ./datasets/ae_photos/testA/IMG_8923.jpg  \n",
            "  inflating: ./datasets/ae_photos/testA/32.jpg  \n",
            "  inflating: ./datasets/ae_photos/testA/74.jpg  \n",
            "  inflating: ./datasets/ae_photos/testA/46.jpg  \n",
            "  inflating: ./datasets/ae_photos/testA/IMG_20160602_195018604_HDR.jpg  \n",
            "  inflating: ./datasets/ae_photos/testA/Villefranche6 018.jpg  \n",
            "  inflating: ./datasets/ae_photos/testA/IMG_1117.jpg  \n",
            "  inflating: ./datasets/ae_photos/testA/IMG_8931.jpg  \n",
            "  inflating: ./datasets/ae_photos/testA/IMG_1051.jpg  \n",
            "  inflating: ./datasets/ae_photos/testA/IMG_20160525_095321290_HDR.jpg  \n",
            "  inflating: ./datasets/ae_photos/testA/25.jpg  \n",
            "  inflating: ./datasets/ae_photos/testA/77.jpg  \n",
            "  inflating: ./datasets/ae_photos/testA/IMG_8933.jpg  \n",
            "  inflating: ./datasets/ae_photos/testA/IMG_8153.jpg  \n",
            "  inflating: ./datasets/ae_photos/testA/Villefranche5 085.jpg  \n",
            "  inflating: ./datasets/ae_photos/testA/55.jpg  \n",
            "  inflating: ./datasets/ae_photos/testA/35.jpg  \n",
            "  inflating: ./datasets/ae_photos/testA/IMG_20160602_181919301_HDR.jpg  \n",
            "  inflating: ./datasets/ae_photos/testA/IMG_8929.jpg  \n",
            "  inflating: ./datasets/ae_photos/testA/IMG_4985.jpg  \n",
            "  inflating: ./datasets/ae_photos/testA/IMG_1118.jpg  \n",
            "  inflating: ./datasets/ae_photos/testA/44.jpg  \n",
            "  inflating: ./datasets/ae_photos/testA/6.jpg  \n",
            "  inflating: ./datasets/ae_photos/testA/IMG_20140610_160615.jpg  \n",
            "  inflating: ./datasets/ae_photos/testA/2017-03-17.jpg  \n",
            "  inflating: ./datasets/ae_photos/testA/IMG_3561.jpg  \n",
            "  inflating: ./datasets/ae_photos/testA/IMG_20161010_160650852_HDR.jpg  \n",
            "  inflating: ./datasets/ae_photos/testA/39.jpg  \n",
            "  inflating: ./datasets/ae_photos/testA/28.jpg  \n",
            "  inflating: ./datasets/ae_photos/testA/16.jpg  \n",
            "  inflating: ./datasets/ae_photos/testA/IMG_5039.jpg  \n",
            "  inflating: ./datasets/ae_photos/testA/IMG_20150704_111831858_HDR.jpg  \n",
            "  inflating: ./datasets/ae_photos/testA/IMG_20150703_180729719_HDR.jpg  \n",
            "  inflating: ./datasets/ae_photos/testA/19.jpg  \n",
            "  inflating: ./datasets/ae_photos/testA/IMG_20170113_121511383_HDR.jpg  \n",
            "  inflating: ./datasets/ae_photos/testA/24.jpg  \n",
            "  inflating: ./datasets/ae_photos/testA/1.jpg  \n",
            "  inflating: ./datasets/ae_photos/testA/Venice 068.jpg  \n",
            "  inflating: ./datasets/ae_photos/testA/IMG_20140610_181952.jpg  \n",
            "  inflating: ./datasets/ae_photos/testA/23.jpg  \n",
            "  inflating: ./datasets/ae_photos/testA/IMG_20150618_190407979_HDR.jpg  \n",
            "  inflating: ./datasets/ae_photos/testA/31.jpg  \n",
            "  inflating: ./datasets/ae_photos/testA/45.jpg  \n",
            "  inflating: ./datasets/ae_photos/testA/IMG_5549.jpg  \n",
            "  inflating: ./datasets/ae_photos/testA/IMG_9066.jpg  \n",
            "  inflating: ./datasets/ae_photos/testA/36.jpg  \n",
            "  inflating: ./datasets/ae_photos/testA/Villefranche1 073.jpg  \n",
            "  inflating: ./datasets/ae_photos/testA/4.jpg  \n",
            "  inflating: ./datasets/ae_photos/testA/IMG_20160603_143355717_HDR.jpg  \n",
            "  inflating: ./datasets/ae_photos/testA/IMG_9162.jpg  \n",
            "  inflating: ./datasets/ae_photos/testA/IMG_20140610_145248.jpg  \n",
            "  inflating: ./datasets/ae_photos/testA/IMG_20140604_201032.jpg  \n",
            "  inflating: ./datasets/ae_photos/testA/17.jpg  \n",
            "  inflating: ./datasets/ae_photos/testA/IMG_20160603_131747015_HDR.jpg  \n",
            "  inflating: ./datasets/ae_photos/testA/9.jpg  \n",
            "  inflating: ./datasets/ae_photos/testA/54.jpg  \n",
            "  inflating: ./datasets/ae_photos/testA/IMG_2436.jpg  \n",
            "  inflating: ./datasets/ae_photos/testA/2.jpg  \n",
            "  inflating: ./datasets/ae_photos/testA/58.jpg  \n",
            "  inflating: ./datasets/ae_photos/testA/65.jpg  \n",
            "  inflating: ./datasets/ae_photos/testA/69.jpg  \n",
            "  inflating: ./datasets/ae_photos/testA/IMG_4864.jpg  \n",
            "  inflating: ./datasets/ae_photos/testA/IMG_20160623_130940560_HDR.jpg  \n",
            "  inflating: ./datasets/ae_photos/testA/IMG_8910.jpg  \n",
            "  inflating: ./datasets/ae_photos/testA/IMG_20140605_111807.jpg  \n",
            "  inflating: ./datasets/ae_photos/testA/IMG_20150704_111250845_HDR.jpg  \n",
            "  inflating: ./datasets/ae_photos/testA/5.jpg  \n",
            "  inflating: ./datasets/ae_photos/testA/IMG_20151031_174430680_HDR.jpg  \n",
            "  inflating: ./datasets/ae_photos/testA/IMG_20140605_111344.jpg  \n",
            "  inflating: ./datasets/ae_photos/testA/72.jpg  \n",
            "  inflating: ./datasets/ae_photos/testA/68.jpg  \n",
            "  inflating: ./datasets/ae_photos/testA/59.jpg  \n",
            "  inflating: ./datasets/ae_photos/testA/61.jpg  \n",
            "  inflating: ./datasets/ae_photos/testA/IMG_20161017_142303490_HDR.jpg  \n",
            "  inflating: ./datasets/ae_photos/testA/IMG_20170103_093151.jpg  \n",
            "  inflating: ./datasets/ae_photos/testA/20.jpg  \n",
            "  inflating: ./datasets/ae_photos/testA/18.jpg  \n",
            "  inflating: ./datasets/ae_photos/testA/26.jpg  \n",
            "  inflating: ./datasets/ae_photos/testA/IMG_20170103_090806063.jpg  \n",
            "  inflating: ./datasets/ae_photos/testA/IMG_20170103_085628.jpg  \n",
            "  inflating: ./datasets/ae_photos/testA/IMG_20170103_093202.jpg  \n",
            "  inflating: ./datasets/ae_photos/testA/IMG_8129.jpg  \n",
            "  inflating: ./datasets/ae_photos/testA/IMG_8935.jpg  \n",
            "  inflating: ./datasets/ae_photos/testA/IMG_20160319_160126500_HDR.jpg  \n",
            "  inflating: ./datasets/ae_photos/testA/IMG_9062.jpg  \n",
            "  inflating: ./datasets/ae_photos/testA/IMG_20160611_204323532_HDR.jpg  \n",
            "  inflating: ./datasets/ae_photos/testA/43.jpg  \n",
            "  inflating: ./datasets/ae_photos/testA/IMG_20160130_162826274_HDR.jpg  \n",
            "  inflating: ./datasets/ae_photos/testA/IMG_9076.jpg  \n",
            "  inflating: ./datasets/ae_photos/testA/IMG_20150928_114729840_HDR.jpg  \n",
            "  inflating: ./datasets/ae_photos/testA/41.jpg  \n",
            "  inflating: ./datasets/ae_photos/testA/11.jpg  \n",
            "  inflating: ./datasets/ae_photos/testA/IMG_8938.jpg  \n",
            "  inflating: ./datasets/ae_photos/testA/IMG_20160319_155528065_HDR.jpg  \n",
            "  inflating: ./datasets/ae_photos/testA/67.jpg  \n",
            "  inflating: ./datasets/ae_photos/testA/IMG_8924.jpg  \n",
            "  inflating: ./datasets/ae_photos/testA/IMG_9090.jpg  \n",
            "  inflating: ./datasets/ae_photos/testA/IMG_2408.jpg  \n",
            "  inflating: ./datasets/ae_photos/testA/IMG_20161017_142201321.jpg  \n",
            "  inflating: ./datasets/ae_photos/testA/IMG_0305.jpg  \n",
            "  inflating: ./datasets/ae_photos/testA/IMG_2410.jpg  \n",
            "  inflating: ./datasets/ae_photos/testA/64.jpg  \n",
            "  inflating: ./datasets/ae_photos/testA/IMG_20140604_211246.jpg  \n",
            "  inflating: ./datasets/ae_photos/testA/IMG_0459.jpg  \n",
            "  inflating: ./datasets/ae_photos/testA/34.jpg  \n",
            "  inflating: ./datasets/ae_photos/testA/10.jpg  \n",
            "  inflating: ./datasets/ae_photos/testA/IMG_20160526_074443725_HDR.jpg  \n",
            "  inflating: ./datasets/ae_photos/testA/IMG_20160603_141314483_HDR.jpg  \n",
            "  inflating: ./datasets/ae_photos/testA/IMG_20140610_190313.jpg  \n",
            "  inflating: ./datasets/ae_photos/testA/IMG_20160615_091940262_HDR.jpg  \n",
            "  inflating: ./datasets/ae_photos/testA/IMG_20160619_170259049_HDR.jpg  \n",
            "  inflating: ./datasets/ae_photos/testA/IMG_8919.jpg  \n",
            "  inflating: ./datasets/ae_photos/testA/IMG_4859.jpg  \n",
            "  inflating: ./datasets/ae_photos/testA/IMG_20160612_155209510_HDR.jpg  \n",
            "  inflating: ./datasets/ae_photos/testA/49.jpg  \n",
            "  inflating: ./datasets/ae_photos/testA/IMG_20170102_143802.jpg  \n",
            "  inflating: ./datasets/ae_photos/testA/Villefranche4 004.jpg  \n",
            "  inflating: ./datasets/ae_photos/testA/IMG_20160528_121105279_HDR.jpg  \n",
            "  inflating: ./datasets/ae_photos/testA/IMG_9038.jpg  \n",
            "  inflating: ./datasets/ae_photos/testA/IMG_1119.jpg  \n",
            "  inflating: ./datasets/ae_photos/testA/66.jpg  \n",
            "  inflating: ./datasets/ae_photos/testA/IMG_4974.jpg  \n",
            "  inflating: ./datasets/ae_photos/testA/IMG_8932.jpg  \n",
            "  inflating: ./datasets/ae_photos/testA/71.jpg  \n",
            "  inflating: ./datasets/ae_photos/testA/IMG_8128.jpg  \n",
            "  inflating: ./datasets/ae_photos/testA/37.jpg  \n",
            "  inflating: ./datasets/ae_photos/testA/70.jpg  \n",
            "  inflating: ./datasets/ae_photos/testA/P1010038.jpg  \n",
            "   creating: ./datasets/ae_photos/testB/\n",
            "  inflating: ./datasets/ae_photos/testB/Venice 030.jpg  \n",
            "  inflating: ./datasets/ae_photos/testB/33.jpg  \n",
            "  inflating: ./datasets/ae_photos/testB/IMG_20170305_174233848_HDR.jpg  \n",
            "  inflating: ./datasets/ae_photos/testB/IMG_5582.jpg  \n",
            "  inflating: ./datasets/ae_photos/testB/IMG_5045(1).jpg  \n",
            "  inflating: ./datasets/ae_photos/testB/IMG_9070.jpg  \n",
            "  inflating: ./datasets/ae_photos/testB/IMG_9052.jpg  \n",
            "  inflating: ./datasets/ae_photos/testB/48.jpg  \n",
            "  inflating: ./datasets/ae_photos/testB/IMG_20170102_142553.jpg  \n",
            "  inflating: ./datasets/ae_photos/testB/15.jpg  \n",
            "  inflating: ./datasets/ae_photos/testB/IMG_20160623_130412072.jpg  \n",
            "  inflating: ./datasets/ae_photos/testB/IMG_8149.jpg  \n",
            "  inflating: ./datasets/ae_photos/testB/IMG_6458.jpg  \n",
            "  inflating: ./datasets/ae_photos/testB/56.jpg  \n",
            "  inflating: ./datasets/ae_photos/testB/22.jpg  \n",
            "  inflating: ./datasets/ae_photos/testB/IMG_20160802_225543.jpg  \n",
            "  inflating: ./datasets/ae_photos/testB/47.jpg  \n",
            "  inflating: ./datasets/ae_photos/testB/IMG_20160130_162423771_HDR.jpg  \n",
            "  inflating: ./datasets/ae_photos/testB/78.jpg  \n",
            "  inflating: ./datasets/ae_photos/testB/50.jpg  \n",
            "  inflating: ./datasets/ae_photos/testB/51.jpg  \n",
            "  inflating: ./datasets/ae_photos/testB/57.jpg  \n",
            "  inflating: ./datasets/ae_photos/testB/IMG_20160602_180829167_HDR.jpg  \n",
            "  inflating: ./datasets/ae_photos/testB/53.jpg  \n",
            "  inflating: ./datasets/ae_photos/testB/IMG_20140610_145336.jpg  \n",
            "  inflating: ./datasets/ae_photos/testB/29.jpg  \n",
            "  inflating: ./datasets/ae_photos/testB/IMG_3774.jpg  \n",
            "  inflating: ./datasets/ae_photos/testB/14.jpg  \n",
            "  inflating: ./datasets/ae_photos/testB/8.jpg  \n",
            "  inflating: ./datasets/ae_photos/testB/Villefranche2 049.jpg  \n",
            "  inflating: ./datasets/ae_photos/testB/IMG_5553.jpg  \n",
            "  inflating: ./datasets/ae_photos/testB/40.jpg  \n",
            "  inflating: ./datasets/ae_photos/testB/76.jpg  \n",
            "  inflating: ./datasets/ae_photos/testB/IMG_20160602_181610296.jpg  \n",
            "  inflating: ./datasets/ae_photos/testB/IMG_5095.jpg  \n",
            "  inflating: ./datasets/ae_photos/testB/IMG_5082.jpg  \n",
            "  inflating: ./datasets/ae_photos/testB/IMG_2452.jpg  \n",
            "  inflating: ./datasets/ae_photos/testB/IMG_8937.jpg  \n",
            "  inflating: ./datasets/ae_photos/testB/38.jpg  \n",
            "  inflating: ./datasets/ae_photos/testB/63.jpg  \n",
            "  inflating: ./datasets/ae_photos/testB/52.jpg  \n",
            "  inflating: ./datasets/ae_photos/testB/IMG_20161020_170934.jpg  \n",
            "  inflating: ./datasets/ae_photos/testB/IMG_20151031_170925074_HDR.jpg  \n",
            "  inflating: ./datasets/ae_photos/testB/IMG_20161010_155432.jpg  \n",
            "  inflating: ./datasets/ae_photos/testB/IMG_6983.jpg  \n",
            "  inflating: ./datasets/ae_photos/testB/IMG_9254.jpg  \n",
            "  inflating: ./datasets/ae_photos/testB/IMG_20161008_133523235.jpg  \n",
            "  inflating: ./datasets/ae_photos/testB/60.jpg  \n",
            "  inflating: ./datasets/ae_photos/testB/IMG_20161009_095041067.jpg  \n",
            "  inflating: ./datasets/ae_photos/testB/IMG_20160319_154725920.jpg  \n",
            "  inflating: ./datasets/ae_photos/testB/IMG_9253.jpg  \n",
            "  inflating: ./datasets/ae_photos/testB/27.jpg  \n",
            "  inflating: ./datasets/ae_photos/testB/21.jpg  \n",
            "  inflating: ./datasets/ae_photos/testB/P1020176.jpg  \n",
            "  inflating: ./datasets/ae_photos/testB/30.jpg  \n",
            "  inflating: ./datasets/ae_photos/testB/IMG_9257.jpg  \n",
            "  inflating: ./datasets/ae_photos/testB/75.jpg  \n",
            "  inflating: ./datasets/ae_photos/testB/IMG_5045.jpg  \n",
            "  inflating: ./datasets/ae_photos/testB/IMG_20170305_173917350_HDR.jpg  \n",
            "  inflating: ./datasets/ae_photos/testB/IMG_20130607_194914.jpg  \n",
            "  inflating: ./datasets/ae_photos/testB/3.jpg  \n",
            "  inflating: ./datasets/ae_photos/testB/73.jpg  \n",
            "  inflating: ./datasets/ae_photos/testB/IMG_9075.jpg  \n",
            "  inflating: ./datasets/ae_photos/testB/IMG_20160525_095259866_HDR.jpg  \n",
            "  inflating: ./datasets/ae_photos/testB/IMG_20160602_133333110_HDR.jpg  \n",
            "  inflating: ./datasets/ae_photos/testB/IMG_20150618_200343095_HDR.jpg  \n",
            "  inflating: ./datasets/ae_photos/testB/13.jpg  \n",
            "  inflating: ./datasets/ae_photos/testB/IMG_20161008_133624749.jpg  \n",
            "  inflating: ./datasets/ae_photos/testB/12.jpg  \n",
            "  inflating: ./datasets/ae_photos/testB/IMG_20150712_151607694_HDR.jpg  \n",
            "  inflating: ./datasets/ae_photos/testB/IMG_6479.jpg  \n",
            "  inflating: ./datasets/ae_photos/testB/IMG_20160319_154835686.jpg  \n",
            "  inflating: ./datasets/ae_photos/testB/42.jpg  \n",
            "  inflating: ./datasets/ae_photos/testB/62.jpg  \n",
            "  inflating: ./datasets/ae_photos/testB/IMG_20170103_093335281_HDR.jpg  \n",
            "  inflating: ./datasets/ae_photos/testB/7.jpg  \n",
            "  inflating: ./datasets/ae_photos/testB/IMG_20161015_180702.jpg  \n",
            "  inflating: ./datasets/ae_photos/testB/IMG_8923.jpg  \n",
            "  inflating: ./datasets/ae_photos/testB/32.jpg  \n",
            "  inflating: ./datasets/ae_photos/testB/74.jpg  \n",
            "  inflating: ./datasets/ae_photos/testB/46.jpg  \n",
            "  inflating: ./datasets/ae_photos/testB/IMG_20160602_195018604_HDR.jpg  \n",
            "  inflating: ./datasets/ae_photos/testB/Villefranche6 018.jpg  \n",
            "  inflating: ./datasets/ae_photos/testB/IMG_1117.jpg  \n",
            "  inflating: ./datasets/ae_photos/testB/IMG_8931.jpg  \n",
            "  inflating: ./datasets/ae_photos/testB/IMG_1051.jpg  \n",
            "  inflating: ./datasets/ae_photos/testB/IMG_20160525_095321290_HDR.jpg  \n",
            "  inflating: ./datasets/ae_photos/testB/25.jpg  \n",
            "  inflating: ./datasets/ae_photos/testB/77.jpg  \n",
            "  inflating: ./datasets/ae_photos/testB/IMG_8933.jpg  \n",
            "  inflating: ./datasets/ae_photos/testB/IMG_8153.jpg  \n",
            "  inflating: ./datasets/ae_photos/testB/Villefranche5 085.jpg  \n",
            "  inflating: ./datasets/ae_photos/testB/55.jpg  \n",
            "  inflating: ./datasets/ae_photos/testB/35.jpg  \n",
            "  inflating: ./datasets/ae_photos/testB/IMG_20160602_181919301_HDR.jpg  \n",
            "  inflating: ./datasets/ae_photos/testB/IMG_8929.jpg  \n",
            "  inflating: ./datasets/ae_photos/testB/IMG_4985.jpg  \n",
            "  inflating: ./datasets/ae_photos/testB/IMG_1118.jpg  \n",
            "  inflating: ./datasets/ae_photos/testB/44.jpg  \n",
            "  inflating: ./datasets/ae_photos/testB/6.jpg  \n",
            "  inflating: ./datasets/ae_photos/testB/IMG_20140610_160615.jpg  \n",
            "  inflating: ./datasets/ae_photos/testB/2017-03-17.jpg  \n",
            "  inflating: ./datasets/ae_photos/testB/IMG_3561.jpg  \n",
            "  inflating: ./datasets/ae_photos/testB/IMG_20161010_160650852_HDR.jpg  \n",
            "  inflating: ./datasets/ae_photos/testB/39.jpg  \n",
            "  inflating: ./datasets/ae_photos/testB/28.jpg  \n",
            "  inflating: ./datasets/ae_photos/testB/16.jpg  \n",
            "  inflating: ./datasets/ae_photos/testB/IMG_5039.jpg  \n",
            "  inflating: ./datasets/ae_photos/testB/IMG_20150704_111831858_HDR.jpg  \n",
            "  inflating: ./datasets/ae_photos/testB/IMG_20150703_180729719_HDR.jpg  \n",
            "  inflating: ./datasets/ae_photos/testB/19.jpg  \n",
            "  inflating: ./datasets/ae_photos/testB/IMG_20170113_121511383_HDR.jpg  \n",
            "  inflating: ./datasets/ae_photos/testB/24.jpg  \n",
            "  inflating: ./datasets/ae_photos/testB/1.jpg  \n",
            "  inflating: ./datasets/ae_photos/testB/Venice 068.jpg  \n",
            "  inflating: ./datasets/ae_photos/testB/IMG_20140610_181952.jpg  \n",
            "  inflating: ./datasets/ae_photos/testB/23.jpg  \n",
            "  inflating: ./datasets/ae_photos/testB/IMG_20150618_190407979_HDR.jpg  \n",
            "  inflating: ./datasets/ae_photos/testB/31.jpg  \n",
            "  inflating: ./datasets/ae_photos/testB/45.jpg  \n",
            "  inflating: ./datasets/ae_photos/testB/IMG_5549.jpg  \n",
            "  inflating: ./datasets/ae_photos/testB/IMG_9066.jpg  \n",
            "  inflating: ./datasets/ae_photos/testB/36.jpg  \n",
            "  inflating: ./datasets/ae_photos/testB/Villefranche1 073.jpg  \n",
            "  inflating: ./datasets/ae_photos/testB/4.jpg  \n",
            "  inflating: ./datasets/ae_photos/testB/IMG_20160603_143355717_HDR.jpg  \n",
            "  inflating: ./datasets/ae_photos/testB/IMG_9162.jpg  \n",
            "  inflating: ./datasets/ae_photos/testB/IMG_20140610_145248.jpg  \n",
            "  inflating: ./datasets/ae_photos/testB/IMG_20140604_201032.jpg  \n",
            "  inflating: ./datasets/ae_photos/testB/17.jpg  \n",
            "  inflating: ./datasets/ae_photos/testB/IMG_20160603_131747015_HDR.jpg  \n",
            "  inflating: ./datasets/ae_photos/testB/9.jpg  \n",
            "  inflating: ./datasets/ae_photos/testB/54.jpg  \n",
            "  inflating: ./datasets/ae_photos/testB/IMG_2436.jpg  \n",
            "  inflating: ./datasets/ae_photos/testB/2.jpg  \n",
            "  inflating: ./datasets/ae_photos/testB/58.jpg  \n",
            "  inflating: ./datasets/ae_photos/testB/65.jpg  \n",
            "  inflating: ./datasets/ae_photos/testB/69.jpg  \n",
            "  inflating: ./datasets/ae_photos/testB/IMG_4864.jpg  \n",
            "  inflating: ./datasets/ae_photos/testB/IMG_20160623_130940560_HDR.jpg  \n",
            "  inflating: ./datasets/ae_photos/testB/IMG_8910.jpg  \n",
            "  inflating: ./datasets/ae_photos/testB/IMG_20140605_111807.jpg  \n",
            "  inflating: ./datasets/ae_photos/testB/IMG_20150704_111250845_HDR.jpg  \n",
            "  inflating: ./datasets/ae_photos/testB/5.jpg  \n",
            "  inflating: ./datasets/ae_photos/testB/IMG_20151031_174430680_HDR.jpg  \n",
            "  inflating: ./datasets/ae_photos/testB/IMG_20140605_111344.jpg  \n",
            "  inflating: ./datasets/ae_photos/testB/72.jpg  \n",
            "  inflating: ./datasets/ae_photos/testB/68.jpg  \n",
            "  inflating: ./datasets/ae_photos/testB/59.jpg  \n",
            "  inflating: ./datasets/ae_photos/testB/61.jpg  \n",
            "  inflating: ./datasets/ae_photos/testB/IMG_20161017_142303490_HDR.jpg  \n",
            "  inflating: ./datasets/ae_photos/testB/IMG_20170103_093151.jpg  \n",
            "  inflating: ./datasets/ae_photos/testB/20.jpg  \n",
            "  inflating: ./datasets/ae_photos/testB/18.jpg  \n",
            "  inflating: ./datasets/ae_photos/testB/26.jpg  \n",
            "  inflating: ./datasets/ae_photos/testB/IMG_20170103_090806063.jpg  \n",
            "  inflating: ./datasets/ae_photos/testB/IMG_20170103_085628.jpg  \n",
            "  inflating: ./datasets/ae_photos/testB/IMG_20170103_093202.jpg  \n",
            "  inflating: ./datasets/ae_photos/testB/IMG_8129.jpg  \n",
            "  inflating: ./datasets/ae_photos/testB/IMG_8935.jpg  \n",
            "  inflating: ./datasets/ae_photos/testB/IMG_20160319_160126500_HDR.jpg  \n",
            "  inflating: ./datasets/ae_photos/testB/IMG_9062.jpg  \n",
            "  inflating: ./datasets/ae_photos/testB/IMG_20160611_204323532_HDR.jpg  \n",
            "  inflating: ./datasets/ae_photos/testB/43.jpg  \n",
            "  inflating: ./datasets/ae_photos/testB/IMG_20160130_162826274_HDR.jpg  \n",
            "  inflating: ./datasets/ae_photos/testB/IMG_9076.jpg  \n",
            "  inflating: ./datasets/ae_photos/testB/IMG_20150928_114729840_HDR.jpg  \n",
            "  inflating: ./datasets/ae_photos/testB/41.jpg  \n",
            "  inflating: ./datasets/ae_photos/testB/11.jpg  \n",
            "  inflating: ./datasets/ae_photos/testB/IMG_8938.jpg  \n",
            "  inflating: ./datasets/ae_photos/testB/IMG_20160319_155528065_HDR.jpg  \n",
            "  inflating: ./datasets/ae_photos/testB/67.jpg  \n",
            "  inflating: ./datasets/ae_photos/testB/IMG_8924.jpg  \n",
            "  inflating: ./datasets/ae_photos/testB/IMG_9090.jpg  \n",
            "  inflating: ./datasets/ae_photos/testB/IMG_2408.jpg  \n",
            "  inflating: ./datasets/ae_photos/testB/IMG_20161017_142201321.jpg  \n",
            "  inflating: ./datasets/ae_photos/testB/IMG_0305.jpg  \n",
            "  inflating: ./datasets/ae_photos/testB/IMG_2410.jpg  \n",
            "  inflating: ./datasets/ae_photos/testB/64.jpg  \n",
            "  inflating: ./datasets/ae_photos/testB/IMG_20140604_211246.jpg  \n",
            "  inflating: ./datasets/ae_photos/testB/IMG_0459.jpg  \n",
            "  inflating: ./datasets/ae_photos/testB/34.jpg  \n",
            "  inflating: ./datasets/ae_photos/testB/10.jpg  \n",
            "  inflating: ./datasets/ae_photos/testB/IMG_20160526_074443725_HDR.jpg  \n",
            "  inflating: ./datasets/ae_photos/testB/IMG_20160603_141314483_HDR.jpg  \n",
            "  inflating: ./datasets/ae_photos/testB/IMG_20140610_190313.jpg  \n",
            "  inflating: ./datasets/ae_photos/testB/IMG_20160615_091940262_HDR.jpg  \n",
            "  inflating: ./datasets/ae_photos/testB/IMG_20160619_170259049_HDR.jpg  \n",
            "  inflating: ./datasets/ae_photos/testB/IMG_8919.jpg  \n",
            "  inflating: ./datasets/ae_photos/testB/IMG_4859.jpg  \n",
            "  inflating: ./datasets/ae_photos/testB/IMG_20160612_155209510_HDR.jpg  \n",
            "  inflating: ./datasets/ae_photos/testB/49.jpg  \n",
            "  inflating: ./datasets/ae_photos/testB/IMG_20170102_143802.jpg  \n",
            "  inflating: ./datasets/ae_photos/testB/Villefranche4 004.jpg  \n",
            "  inflating: ./datasets/ae_photos/testB/IMG_20160528_121105279_HDR.jpg  \n",
            "  inflating: ./datasets/ae_photos/testB/IMG_9038.jpg  \n",
            "  inflating: ./datasets/ae_photos/testB/IMG_1119.jpg  \n",
            "  inflating: ./datasets/ae_photos/testB/66.jpg  \n",
            "  inflating: ./datasets/ae_photos/testB/IMG_4974.jpg  \n",
            "  inflating: ./datasets/ae_photos/testB/IMG_8932.jpg  \n",
            "  inflating: ./datasets/ae_photos/testB/71.jpg  \n",
            "  inflating: ./datasets/ae_photos/testB/IMG_8128.jpg  \n",
            "  inflating: ./datasets/ae_photos/testB/37.jpg  \n",
            "  inflating: ./datasets/ae_photos/testB/70.jpg  \n",
            "  inflating: ./datasets/ae_photos/testB/P1010038.jpg  \n"
          ],
          "name": "stdout"
        }
      ]
    },
    {
      "cell_type": "code",
      "metadata": {
        "id": "gC8hZfK2_03q",
        "colab_type": "code",
        "colab": {
          "base_uri": "https://localhost:8080/",
          "height": 332
        },
        "outputId": "b7adeff2-8648-4991-e359-7723ff1abc56"
      },
      "source": [
        "%cd CycleGAN\n",
        "! bash ./pretrained_models/download_model.sh style_cezanne"
      ],
      "execution_count": 148,
      "outputs": [
        {
          "output_type": "stream",
          "text": [
            "/content/CycleGAN\n",
            "Note: available models are apple2orange, facades_photo2label, map2sat, orange2apple, style_cezanne, style_ukiyoe,  summer2winter_yosemite, zebra2horse, facades_label2photo, horse2zebra,monet2photo, sat2map, style_monet,style_vangogh, winter2summer_yosemite, iphone2dslr_flower\n",
            "Specified [style_cezanne]\n",
            "WARNING: timestamping does nothing in combination with -O. See the manual\n",
            "for details.\n",
            "\n",
            "--2020-08-22 07:10:05--  https://people.eecs.berkeley.edu/~taesung_park/CycleGAN/models/style_cezanne.t7\n",
            "Resolving people.eecs.berkeley.edu (people.eecs.berkeley.edu)... 128.32.189.73\n",
            "Connecting to people.eecs.berkeley.edu (people.eecs.berkeley.edu)|128.32.189.73|:443... connected.\n",
            "HTTP request sent, awaiting response... 200 OK\n",
            "Length: 23027270 (22M)\n",
            "Saving to: ‘./checkpoints/style_cezanne_pretrained/latest_net_G.t7’\n",
            "\n",
            "./checkpoints/style 100%[===================>]  21.96M  9.60MB/s    in 2.3s    \n",
            "\n",
            "2020-08-22 07:10:08 (9.60 MB/s) - ‘./checkpoints/style_cezanne_pretrained/latest_net_G.t7’ saved [23027270/23027270]\n",
            "\n"
          ],
          "name": "stdout"
        }
      ]
    },
    {
      "cell_type": "code",
      "metadata": {
        "id": "gN0A8gB8BLKI",
        "colab_type": "code",
        "colab": {}
      },
      "source": [
        "!pip3 install http://download.pytorch.org/whl/cu80/torch-0.3.0.post4-cp36-cp36m-linux_x86_64.whl\n",
        "!pip3 install torchvision"
      ],
      "execution_count": null,
      "outputs": []
    },
    {
      "cell_type": "code",
      "metadata": {
        "id": "r87ijqGFAElo",
        "colab_type": "code",
        "colab": {
          "base_uri": "https://localhost:8080/",
          "height": 52
        },
        "outputId": "875dd355-803d-445d-b452-1c72b6ff9c41"
      },
      "source": [
        "%cd /content/CycleGAN\n",
        "! DATA_ROOT=./datasets/ae_photos name=style_cezanne_pretrained model=one_direction_test phase=test loadSize=256 fineSize=256 resize_or_crop=\"scale_width\" th test.lua"
      ],
      "execution_count": 150,
      "outputs": [
        {
          "output_type": "stream",
          "text": [
            "/content/CycleGAN\n",
            "/bin/bash: th: command not found\n"
          ],
          "name": "stdout"
        }
      ]
    },
    {
      "cell_type": "code",
      "metadata": {
        "id": "8gIp9HJGAbFX",
        "colab_type": "code",
        "colab": {}
      },
      "source": [
        ""
      ],
      "execution_count": null,
      "outputs": []
    }
  ]
}